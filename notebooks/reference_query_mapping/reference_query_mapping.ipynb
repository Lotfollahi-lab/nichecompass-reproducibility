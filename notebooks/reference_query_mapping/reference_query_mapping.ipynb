{
 "cells": [
  {
   "cell_type": "markdown",
   "id": "1b1daabf-c8e3-43d4-aa32-9789abcc8619",
   "metadata": {},
   "source": [
    "# Reference Query Mapping"
   ]
  },
  {
   "cell_type": "markdown",
   "id": "c325d921-2077-42b3-90a8-6f6c7dd928c5",
   "metadata": {},
   "source": [
    "- **Creator**: Sebastian Birk (<sebastian.birk@helmholtz-munich.de>).\n",
    "- **Affiliation:** Helmholtz Munich, Institute of Computational Biology (ICB), Talavera-López Lab\n",
    "- **Date of Creation:** 18.05.2023\n",
    "- **Date of Last Modification:** 04.09.2023"
   ]
  },
  {
   "cell_type": "markdown",
   "id": "68a24279-e59a-4c19-8c58-c8b9286fcd04",
   "metadata": {},
   "source": [
    "Before proceeding with this notebook, two steps need to be successfully conducted: <br>\n",
    "- A model has been trained with a reference dataset with ```<root>/scripts/train_nichecompass_reference_model.py```. <br>\n",
    "- A query has been mapped onto the reference model with ```<root>/scripts/map_query_on_nichecompass_reference_model.py```."
   ]
  },
  {
   "cell_type": "markdown",
   "id": "7350cbcb-18f8-4f7a-a476-2dd0a0e1e3be",
   "metadata": {},
   "source": [
    "## 1. Setup"
   ]
  },
  {
   "cell_type": "markdown",
   "id": "2ada23e4-a814-4374-825f-00528a78cec4",
   "metadata": {},
   "source": [
    "### 1.1 Import Libraries"
   ]
  },
  {
   "cell_type": "code",
   "execution_count": null,
   "id": "6a70c75d-cd86-4b02-b2fb-0e04ed0720c9",
   "metadata": {},
   "outputs": [],
   "source": [
    "%load_ext autoreload\n",
    "%autoreload 2"
   ]
  },
  {
   "cell_type": "code",
   "execution_count": null,
   "id": "11542f4a-84c1-44a1-aee3-dde4bcd77bbb",
   "metadata": {},
   "outputs": [],
   "source": [
    "import sys\n",
    "sys.path.append(\"../../utils\")"
   ]
  },
  {
   "cell_type": "code",
   "execution_count": null,
   "id": "1f54c6e8-ff7b-438a-b86d-1c5c3d2bf8be",
   "metadata": {},
   "outputs": [],
   "source": [
    "import os\n",
    "import warnings\n",
    "\n",
    "import matplotlib.cm as cm\n",
    "import matplotlib.pyplot as plt\n",
    "import numpy as np\n",
    "import pandas as pd\n",
    "import scarches as sca\n",
    "import seaborn as sns\n",
    "from scipy.spatial import distance\n",
    "from scipy.spatial.distance import cdist\n",
    "from scipy.optimize import linear_sum_assignment\n",
    "\n",
    "from nichecompass.models import NicheCompass\n",
    "from nichecompass.utils import create_new_color_dict\n",
    "\n",
    "from analysis_utils import *\n",
    "from reference_query_mapping_utils import *"
   ]
  },
  {
   "cell_type": "markdown",
   "id": "0dcc2cfe-2cff-4d1d-9b99-5163cca5ec41",
   "metadata": {},
   "source": [
    "### 1.2 Define Parameters"
   ]
  },
  {
   "cell_type": "code",
   "execution_count": null,
   "id": "109b8c21-9856-45f6-927a-39fb8b9a5072",
   "metadata": {},
   "outputs": [],
   "source": [
    "### Dataset ###\n",
    "# dataset = \"seqfish_mouse_organogenesis_imputed\"\n",
    "dataset = \"nanostring_cosmx_human_nsclc_modified\""
   ]
  },
  {
   "cell_type": "code",
   "execution_count": null,
   "id": "2904ff55-f455-4c6c-bbc1-b69e9bd4c6c9",
   "metadata": {},
   "outputs": [],
   "source": [
    "reference_model_label = \"reference\"\n",
    "reference_query_model_label = \"reference_query_mapping\"\n",
    "\n",
    "if dataset == \"nanostring_cosmx_human_nsclc_modified\":\n",
    "    ### Model ###\n",
    "    gp_names_key = \"nichecompass_gp_names\"\n",
    "    mapping_entity_key = \"mapping_entity\"\n",
    "    sample_key = \"batch\"\n",
    "    condition_key = \"batch\"\n",
    "    cell_type_key = \"cell_type\"\n",
    "    latent_key = \"nichecompass_latent\"\n",
    "    spatial_key = \"spatial\"\n",
    "\n",
    "    load_timestamp = \"01092023_182943_6\" # fov batch effect\n",
    "    load_timestamp = \"01092023_182316_2\" # much better\n",
    "    load_timestamp = \"01092023_182316_1\" # fov batch effect\n",
    "    load_timestamp = \"02092023_122614_1\" # smaller batch effect\n",
    "    load_timestmap = \"02092023_124452_2\"\n",
    "\n",
    "    ### Analysis ###\n",
    "    latent_leiden_resolution =  0.7\n",
    "    latent_cluster_key = f\"latent_leiden_{str(latent_leiden_resolution)}\"\n",
    "    spot_size = 200\n",
    "\n",
    "    latent_reference_leiden_resolution = 0.7\n",
    "    latent_reference_cluster_key = f\"latent_leiden_reference_{latent_reference_leiden_resolution}\"\n",
    "\n",
    "    #spatial_reference_leiden_resolution = 0.15\n",
    "    #spatial_reference_cluster_key = f\"spatial_leiden_reference_{spatial_reference_leiden_resolution}\"\n",
    "\n",
    "    latent_query_leiden_resolution = 0.7\n",
    "    latent_query_cluster_key = f\"latent_leiden_query_{latent_query_leiden_resolution}\"\n",
    "\n",
    "    label_key = latent_reference_cluster_key\n",
    "    ground_truth_key = f\"matched_ground_truth_latent_leiden_reference_{latent_reference_leiden_resolution}\"\n",
    "    transfer_label_key = f\"transferred_{label_key}\"\n",
    "    transfer_label_uncertainty_key = f\"transferred_{label_key}_uncertainty\"\n",
    "    transfer_label_evaluation_key = f\"{transfer_label_key}_evaluation\""
   ]
  },
  {
   "cell_type": "markdown",
   "id": "47cb51f2-d355-459c-933d-b1a2d012e87a",
   "metadata": {},
   "source": [
    "### 1.3 Run Notebook Setup"
   ]
  },
  {
   "cell_type": "code",
   "execution_count": null,
   "id": "10f8dfe2-a878-43a9-b12f-7fefbcaa0c4f",
   "metadata": {},
   "outputs": [],
   "source": [
    "warnings.filterwarnings(\"ignore\")"
   ]
  },
  {
   "cell_type": "markdown",
   "id": "5063253e-b9df-47e3-96f0-522dcf862f1e",
   "metadata": {},
   "source": [
    "### 1.4 Configure Paths"
   ]
  },
  {
   "cell_type": "code",
   "execution_count": null,
   "id": "9bbe62ae-d7ed-4ccb-a65c-689b0afd75b7",
   "metadata": {},
   "outputs": [],
   "source": [
    "# Define paths\n",
    "artifacts_folder_path = f\"../../artifacts\"\n",
    "figure_folder_path = f\"{artifacts_folder_path}/{dataset}/figures/{load_timestamp}\"\n",
    "os.makedirs(figure_folder_path, exist_ok=True)"
   ]
  },
  {
   "cell_type": "markdown",
   "id": "14db18e6-47eb-4175-9e37-fb54653202e3",
   "metadata": {},
   "source": [
    "## 2. Reference Model"
   ]
  },
  {
   "cell_type": "code",
   "execution_count": null,
   "id": "00047efc-6bfd-47de-bae7-f60e72b25f68",
   "metadata": {},
   "outputs": [],
   "source": [
    "# Load trained model\n",
    "model_folder_path = f\"{artifacts_folder_path}/{dataset}/models/{reference_model_label}/{load_timestamp}\"\n",
    "model = NicheCompass.load(dir_path=model_folder_path,\n",
    "                          adata=None,\n",
    "                          adata_file_name=f\"{dataset}_{reference_model_label}.h5ad\",\n",
    "                          gp_names_key=gp_names_key)"
   ]
  },
  {
   "cell_type": "code",
   "execution_count": null,
   "id": "8d3b34ba-d67c-4af1-8b59-f9f132a4ba19",
   "metadata": {},
   "outputs": [],
   "source": [
    "# Check number of active gene programs\n",
    "active_gps = model.get_active_gps()\n",
    "print(f\"Number of total gene programs: {len(model.adata.uns[gp_names_key])}.\")\n",
    "print(f\"Number of active gene programs: {len(active_gps)}.\")"
   ]
  },
  {
   "cell_type": "code",
   "execution_count": null,
   "id": "5b149e89-2b7f-46ee-b599-adee12649f05",
   "metadata": {},
   "outputs": [],
   "source": [
    "gp_summary_df = model.get_gp_summary()\n",
    "gp_summary_df[gp_summary_df[\"gp_active\"] == True][0:20]"
   ]
  },
  {
   "cell_type": "code",
   "execution_count": null,
   "id": "317e3889-1411-447f-8927-9d89f1bb3f53",
   "metadata": {},
   "outputs": [],
   "source": [
    "gp_summary_df"
   ]
  },
  {
   "cell_type": "code",
   "execution_count": null,
   "id": "35b16bbe-44bc-4af7-a626-1980f61428a1",
   "metadata": {},
   "outputs": [],
   "source": [
    "samples = model.adata.obs[sample_key].unique().tolist()"
   ]
  },
  {
   "cell_type": "code",
   "execution_count": null,
   "id": "b4ddc184-28ce-4e6b-87c5-1f6c846a0fda",
   "metadata": {},
   "outputs": [],
   "source": [
    "# Plot batches in latent and physical space\n",
    "save_fig = True\n",
    "file_path = f\"{figure_folder_path}/\" \\\n",
    "            \"batches_latent_physical_space.svg\"\n",
    "\n",
    "plot_category_in_latent_and_physical_space(\n",
    "    adata=model.adata,\n",
    "    plot_label=\"Batches\",\n",
    "    cat_key=condition_key,\n",
    "    groups=None,\n",
    "    sample_key=sample_key,\n",
    "    samples=samples,\n",
    "    cat_colors=None,\n",
    "    size=360000/len(model.adata),\n",
    "    spot_size=spot_size,\n",
    "    save_fig=save_fig,\n",
    "    file_path=file_path)"
   ]
  },
  {
   "cell_type": "code",
   "execution_count": null,
   "id": "f6ef9b56-6f62-497f-a6bc-adb52974d09c",
   "metadata": {},
   "outputs": [],
   "source": [
    "cell_type_colors = create_new_color_dict(\n",
    "    adata=model.adata,\n",
    "    cat_key=cell_type_key)\n",
    "\n",
    "# Plot cell types in latent and physical space\n",
    "save_fig = True\n",
    "file_path = f\"{figure_folder_path}/\" \\\n",
    "            \"cell_types_latent_physical_space.svg\"\n",
    "\n",
    "plot_category_in_latent_and_physical_space(\n",
    "    adata=model.adata,\n",
    "    plot_label=\"Cell Types\",\n",
    "    cat_key=cell_type_key,\n",
    "    groups=None, # \"ExE endoderm\",\n",
    "    sample_key=sample_key,\n",
    "    samples=samples,\n",
    "    cat_colors=cell_type_colors,\n",
    "    size=(360000 / len(model.adata)),\n",
    "    spot_size=spot_size,\n",
    "    save_fig=save_fig,\n",
    "    file_path=file_path)"
   ]
  },
  {
   "cell_type": "code",
   "execution_count": null,
   "id": "0172955e-246e-406e-9331-49be7f651f47",
   "metadata": {},
   "outputs": [],
   "source": [
    "model.adata.obs"
   ]
  },
  {
   "cell_type": "code",
   "execution_count": null,
   "id": "e65d503a-6243-44eb-aa18-09dd306429b2",
   "metadata": {},
   "outputs": [],
   "source": [
    "niche_colors = create_new_color_dict(\n",
    "    adata=model.adata,\n",
    "    cat_key=\"niche\")\n",
    "\n",
    "# Plot cell types in latent and physical space\n",
    "save_fig = True\n",
    "file_path = f\"{figure_folder_path}/\" \\\n",
    "            \"cell_types_latent_physical_space.svg\"\n",
    "\n",
    "plot_category_in_latent_and_physical_space(\n",
    "    adata=model.adata,\n",
    "    plot_label=\"Niches\",\n",
    "    cat_key=\"niche\",\n",
    "    groups=None, # \"ExE endoderm\",\n",
    "    sample_key=sample_key,\n",
    "    samples=samples,\n",
    "    cat_colors=niche_colors,\n",
    "    size=(360000 / len(model.adata)),\n",
    "    spot_size=spot_size,\n",
    "    save_fig=save_fig,\n",
    "    file_path=file_path)"
   ]
  },
  {
   "cell_type": "code",
   "execution_count": null,
   "id": "473fd801-3d12-4463-94f5-f40b0e7bb213",
   "metadata": {},
   "outputs": [],
   "source": [
    "# Compute latent Leiden clustering \n",
    "sc.tl.leiden(adata=model.adata,\n",
    "             resolution=latent_leiden_resolution,\n",
    "             key_added=latent_cluster_key,\n",
    "             neighbors_key=latent_key)"
   ]
  },
  {
   "cell_type": "code",
   "execution_count": null,
   "id": "4e0feb79-debc-4c61-a6e5-1d334889f170",
   "metadata": {},
   "outputs": [],
   "source": [
    "latent_cluster_colors = create_new_color_dict(\n",
    "    adata=model.adata,\n",
    "    cat_key=latent_cluster_key)\n",
    "\n",
    "# Latent clusters in latent and physical space\n",
    "save_fig = True\n",
    "file_path = f\"{figure_folder_path}/res_{latent_leiden_resolution}_\" \\\n",
    "            \"latent_clusters_latent_physical_space.svg\"\n",
    "\n",
    "plot_category_in_latent_and_physical_space(\n",
    "    adata=model.adata,\n",
    "    plot_label=\"Latent Clusters\",\n",
    "    cat_key=latent_cluster_key,\n",
    "    groups=None,\n",
    "    sample_key=sample_key,\n",
    "    samples=samples,\n",
    "    cat_colors=latent_cluster_colors,\n",
    "    size=None,\n",
    "    spot_size=spot_size,\n",
    "    save_fig=save_fig,\n",
    "    file_path=file_path)"
   ]
  },
  {
   "cell_type": "code",
   "execution_count": null,
   "id": "744e21d2-a97d-4926-bfc0-aec21da6f112",
   "metadata": {},
   "outputs": [],
   "source": []
  },
  {
   "cell_type": "code",
   "execution_count": null,
   "id": "f1675282-c9ad-40bc-9e42-0458a7296d4c",
   "metadata": {},
   "outputs": [],
   "source": [
    "dataset = \"nanostring_cosmx_human_nsclc\""
   ]
  },
  {
   "cell_type": "markdown",
   "id": "f1a8b7fe-b3b2-4d77-b731-6acab1890b75",
   "metadata": {},
   "source": [
    "## 3. Query Model"
   ]
  },
  {
   "cell_type": "code",
   "execution_count": null,
   "id": "ac83cece-f8f3-46bb-8203-6c708627995c",
   "metadata": {},
   "outputs": [],
   "source": [
    "load_timestamp = \"02092023_233857_1\"\n",
    "model_folder_path = f\"{artifacts_folder_path}/{dataset}/models/{reference_query_model_label}/{load_timestamp}\"\n",
    "\n",
    "# Load trained model\n",
    "model = NicheCompass.load(dir_path=model_folder_path,\n",
    "                          adata=None,\n",
    "                          adata_file_name=f\"{dataset}_{reference_query_model_label}.h5ad\",\n",
    "                          gp_names_key=gp_names_key)"
   ]
  },
  {
   "cell_type": "code",
   "execution_count": null,
   "id": "23450936-a41e-4b85-a9ac-61cdde350fe8",
   "metadata": {},
   "outputs": [],
   "source": [
    "# Check number of active gene programs\n",
    "active_gps = model.get_active_gps()\n",
    "print(f\"Number of total gene programs: {len(model.adata.uns[gp_names_key])}.\")\n",
    "print(f\"Number of active gene programs: {len(active_gps)}.\")"
   ]
  },
  {
   "cell_type": "code",
   "execution_count": null,
   "id": "7b541e56-1aaa-4b16-a05e-aa97fc888e8a",
   "metadata": {},
   "outputs": [],
   "source": [
    "gp_summary_df = model.get_gp_summary()\n",
    "gp_summary_df[gp_summary_df[\"gp_active\"] == True][0:20]"
   ]
  },
  {
   "cell_type": "code",
   "execution_count": null,
   "id": "581b734b-507b-4115-864b-4376bd9f4985",
   "metadata": {},
   "outputs": [],
   "source": [
    "gp_summary_df"
   ]
  },
  {
   "cell_type": "code",
   "execution_count": null,
   "id": "4e630f20-f5ec-4dd4-ac05-ee94f4e91929",
   "metadata": {},
   "outputs": [],
   "source": [
    "samples = model.adata.obs[sample_key].unique().tolist()"
   ]
  },
  {
   "cell_type": "code",
   "execution_count": null,
   "id": "e7f3ba25-dd57-4d70-bf4f-a2e7fbe24129",
   "metadata": {},
   "outputs": [],
   "source": [
    "# Plot batches in latent and physical space\n",
    "save_fig = True\n",
    "file_path = f\"{figure_folder_path}/\" \\\n",
    "            \"batches_latent_physical_space.svg\"\n",
    "\n",
    "plot_category_in_latent_and_physical_space(\n",
    "    adata=model.adata,\n",
    "    plot_label=\"Batches\",\n",
    "    cat_key=condition_key,\n",
    "    groups=None,\n",
    "    sample_key=sample_key,\n",
    "    samples=samples,\n",
    "    cat_colors=None,\n",
    "    size=360000/len(model.adata),\n",
    "    spot_size=spot_size,\n",
    "    save_fig=save_fig,\n",
    "    file_path=file_path)"
   ]
  },
  {
   "cell_type": "code",
   "execution_count": null,
   "id": "c06bdb5e-1cb8-45a5-b16a-571705ed1114",
   "metadata": {},
   "outputs": [],
   "source": [
    "cell_type_colors = create_new_color_dict(\n",
    "    adata=model.adata,\n",
    "    cat_key=cell_type_key)\n",
    "\n",
    "# Plot cell types in latent and physical space\n",
    "save_fig = True\n",
    "file_path = f\"{figure_folder_path}/\" \\\n",
    "            \"cell_types_latent_physical_space.svg\"\n",
    "\n",
    "plot_category_in_latent_and_physical_space(\n",
    "    adata=model.adata,\n",
    "    plot_label=\"Cell Types\",\n",
    "    cat_key=cell_type_key,\n",
    "    groups=None, # \"ExE endoderm\",\n",
    "    sample_key=sample_key,\n",
    "    samples=samples,\n",
    "    cat_colors=cell_type_colors,\n",
    "    size=(360000 / len(model.adata)),\n",
    "    spot_size=spot_size,\n",
    "    save_fig=save_fig,\n",
    "    file_path=file_path)"
   ]
  },
  {
   "cell_type": "code",
   "execution_count": null,
   "id": "bbb6b60f-6217-484b-b4f9-cffafd6de0fd",
   "metadata": {},
   "outputs": [],
   "source": [
    "model.adata.obs"
   ]
  },
  {
   "cell_type": "code",
   "execution_count": null,
   "id": "2e3903f6-fb43-450d-86e6-7d041d80deaf",
   "metadata": {},
   "outputs": [],
   "source": [
    "niche_colors = create_new_color_dict(\n",
    "    adata=model.adata,\n",
    "    cat_key=\"niche\")\n",
    "\n",
    "# Plot cell types in latent and physical space\n",
    "save_fig = True\n",
    "file_path = f\"{figure_folder_path}/\" \\\n",
    "            \"cell_types_latent_physical_space.svg\"\n",
    "\n",
    "plot_category_in_latent_and_physical_space(\n",
    "    adata=model.adata,\n",
    "    plot_label=\"Niches\",\n",
    "    cat_key=\"niche\",\n",
    "    groups=None, # \"ExE endoderm\",\n",
    "    sample_key=sample_key,\n",
    "    samples=samples,\n",
    "    cat_colors=niche_colors,\n",
    "    size=(360000 / len(model.adata)),\n",
    "    spot_size=spot_size,\n",
    "    save_fig=save_fig,\n",
    "    file_path=file_path)"
   ]
  },
  {
   "cell_type": "code",
   "execution_count": null,
   "id": "10ee9a67-5482-4e80-840c-322180603164",
   "metadata": {},
   "outputs": [],
   "source": [
    "latent_leiden_resolution = 0.4"
   ]
  },
  {
   "cell_type": "code",
   "execution_count": null,
   "id": "cdffe7fe-bbea-4e0d-b95c-5f582c76462c",
   "metadata": {},
   "outputs": [],
   "source": [
    "# Compute latent Leiden clustering \n",
    "sc.tl.leiden(adata=model.adata,\n",
    "             resolution=latent_leiden_resolution,\n",
    "             key_added=latent_cluster_key,\n",
    "             neighbors_key=latent_key)"
   ]
  },
  {
   "cell_type": "code",
   "execution_count": null,
   "id": "820c555f-7ba6-492d-8ade-5eb9acb826ff",
   "metadata": {},
   "outputs": [],
   "source": [
    "latent_cluster_colors = create_new_color_dict(\n",
    "    adata=model.adata,\n",
    "    cat_key=latent_cluster_key)\n",
    "\n",
    "# Latent clusters in latent and physical space\n",
    "save_fig = True\n",
    "file_path = f\"{figure_folder_path}/res_{latent_leiden_resolution}_\" \\\n",
    "            \"latent_clusters_latent_physical_space.svg\"\n",
    "\n",
    "plot_category_in_latent_and_physical_space(\n",
    "    adata=model.adata,\n",
    "    plot_label=\"Latent Clusters\",\n",
    "    cat_key=latent_cluster_key,\n",
    "    groups=None,\n",
    "    sample_key=sample_key,\n",
    "    samples=samples,\n",
    "    cat_colors=latent_cluster_colors,\n",
    "    size=None,\n",
    "    spot_size=spot_size,\n",
    "    save_fig=save_fig,\n",
    "    file_path=file_path)"
   ]
  },
  {
   "cell_type": "code",
   "execution_count": null,
   "id": "20605618-6ca5-4c6f-bd66-2d0f3a47dffb",
   "metadata": {},
   "outputs": [],
   "source": [
    "benchmarking_folder_path"
   ]
  },
  {
   "cell_type": "code",
   "execution_count": null,
   "id": "e9dc33ba-1351-4782-ae58-3360cd7e2158",
   "metadata": {},
   "outputs": [],
   "source": [
    "model.adata.write(f\"{artifacts_folder_path}/reference_query_mapping/{dataset}_nichecompass_{load_timestamp}_adata.h5ad\")"
   ]
  },
  {
   "cell_type": "code",
   "execution_count": null,
   "id": "10edfe8f-6c71-4e29-b240-aeb6cdc50abe",
   "metadata": {},
   "outputs": [],
   "source": [
    "timestamp"
   ]
  },
  {
   "cell_type": "code",
   "execution_count": null,
   "id": "361717a6-f8f2-42eb-8db4-1fb1d628a38a",
   "metadata": {},
   "outputs": [],
   "source": [
    "artifacts_folder_path"
   ]
  },
  {
   "cell_type": "markdown",
   "id": "103871a2-2d96-4a64-9f71-99f388a9c345",
   "metadata": {},
   "source": [
    "## 2. Model"
   ]
  },
  {
   "cell_type": "markdown",
   "id": "c58bd27f-555f-4a34-89c9-0d5f6fa3b147",
   "metadata": {},
   "source": [
    "### 2.1 Load Model"
   ]
  },
  {
   "cell_type": "code",
   "execution_count": null,
   "id": "22ab28a5-c596-49a9-bc69-467306a6b43c",
   "metadata": {},
   "outputs": [],
   "source": [
    "model_folder_path"
   ]
  },
  {
   "cell_type": "code",
   "execution_count": null,
   "id": "229a2c49-724d-4265-9edf-e878d42d1878",
   "metadata": {},
   "outputs": [],
   "source": [
    "# Load trained model\n",
    "model = NicheCompass.load(dir_path=model_folder_path,\n",
    "                          adata=None,\n",
    "                          adata_file_name=f\"{dataset}_{reference_query_model_label}.h5ad\",\n",
    "                          gp_names_key=gp_names_key)"
   ]
  },
  {
   "cell_type": "code",
   "execution_count": null,
   "id": "563fd7e5-a729-4426-a1c1-36f26ec62484",
   "metadata": {},
   "outputs": [],
   "source": [
    "\"\"\"\n",
    "model.add_active_gp_expr_to_obs()\n",
    "model.adata.write(f\"{model_folder_path}/adata_active_gps.h5ad\")\n",
    "\"\"\""
   ]
  },
  {
   "cell_type": "markdown",
   "id": "e95d9890-53ac-47cf-a758-7b5f7c80aa2e",
   "metadata": {},
   "source": [
    "## 3. Analysis"
   ]
  },
  {
   "cell_type": "code",
   "execution_count": null,
   "id": "c8a4431f-c5e3-4f0f-a1be-78a29f4cac5d",
   "metadata": {},
   "outputs": [],
   "source": [
    "# Check number of active gene programs\n",
    "active_gps = model.get_active_gps()\n",
    "print(f\"Number of total gene programs: {len(model.adata.uns[gp_names_key])}.\")\n",
    "print(f\"Number of active gene programs: {len(active_gps)}.\")"
   ]
  },
  {
   "cell_type": "code",
   "execution_count": null,
   "id": "3c1dc40c-5063-4e5c-ae02-1dfef52c4ebe",
   "metadata": {},
   "outputs": [],
   "source": [
    "gp_summary_df = model.get_gp_summary()\n",
    "gp_summary_df[gp_summary_df[\"gp_active\"] == True][0:20]"
   ]
  },
  {
   "cell_type": "markdown",
   "id": "91b2e495-b117-4408-9748-46c954207c20",
   "metadata": {},
   "source": [
    "### 3.1 Analyze Latent Manifold"
   ]
  },
  {
   "cell_type": "code",
   "execution_count": null,
   "id": "244e01c0-5e73-4d9c-b85b-bcf2f899d79c",
   "metadata": {},
   "outputs": [],
   "source": [
    "samples = model.adata.obs[sample_key].unique().tolist()"
   ]
  },
  {
   "cell_type": "code",
   "execution_count": null,
   "id": "4ff9d640-03a7-4994-9621-fd09d35c66b3",
   "metadata": {},
   "outputs": [],
   "source": [
    "# Plot mapping entities in latent and physical space\n",
    "save_fig = True\n",
    "file_path = f\"{figure_folder_path}/\" \\\n",
    "            \"mapping_entities_latent_physical_space.svg\"\n",
    "\n",
    "plot_category_in_latent_and_physical_space(\n",
    "    adata=model.adata,\n",
    "    plot_label=\"Mapping Entities\",\n",
    "    cat_key=mapping_entity_key,\n",
    "    groups=None,\n",
    "    sample_key=sample_key,\n",
    "    samples=samples,\n",
    "    cat_colors=None,\n",
    "    size=360000/len(model.adata),\n",
    "    spot_size=spot_size,\n",
    "    save_fig=save_fig,\n",
    "    file_path=file_path)"
   ]
  },
  {
   "cell_type": "code",
   "execution_count": null,
   "id": "69ba7cdd-7d9f-46bd-8b47-bd2cf7bd2291",
   "metadata": {},
   "outputs": [],
   "source": [
    "# Plot batches in latent and physical space\n",
    "save_fig = True\n",
    "file_path = f\"{figure_folder_path}/\" \\\n",
    "            \"batches_latent_physical_space.svg\"\n",
    "\n",
    "plot_category_in_latent_and_physical_space(\n",
    "    adata=model.adata,\n",
    "    plot_label=\"Batches\",\n",
    "    cat_key=condition_key,\n",
    "    groups=None,\n",
    "    sample_key=sample_key,\n",
    "    samples=samples,\n",
    "    cat_colors=None,\n",
    "    size=360000/len(model.adata),\n",
    "    spot_size=spot_size,\n",
    "    save_fig=save_fig,\n",
    "    file_path=file_path)"
   ]
  },
  {
   "cell_type": "code",
   "execution_count": null,
   "id": "97d0393f-c005-4e38-8d9f-267fb07da82d",
   "metadata": {},
   "outputs": [],
   "source": [
    "cell_type_colors = create_new_color_dict(\n",
    "    adata=model.adata,\n",
    "    cat_key=cell_type_key)"
   ]
  },
  {
   "cell_type": "code",
   "execution_count": null,
   "id": "942d3691-56a5-40b7-a425-28422ce1de92",
   "metadata": {},
   "outputs": [],
   "source": [
    "# Plot cell types in latent and physical space\n",
    "save_fig = True\n",
    "file_path = f\"{figure_folder_path}/\" \\\n",
    "            \"cell_types_latent_physical_space.svg\"\n",
    "\n",
    "plot_category_in_latent_and_physical_space(\n",
    "    adata=model.adata,\n",
    "    plot_label=\"Cell Types\",\n",
    "    cat_key=cell_type_key,\n",
    "    groups=None, # \"ExE endoderm\",\n",
    "    sample_key=sample_key,\n",
    "    samples=samples,\n",
    "    cat_colors=cell_type_colors,\n",
    "    size=None,\n",
    "    spot_size=spot_size,\n",
    "    save_fig=save_fig,\n",
    "    file_path=file_path)"
   ]
  },
  {
   "cell_type": "code",
   "execution_count": null,
   "id": "9d0c8194-4022-4e1e-b280-f30f6fb574fd",
   "metadata": {},
   "outputs": [],
   "source": [
    "# Compute latent Leiden clustering \n",
    "sc.tl.leiden(adata=model.adata,\n",
    "             resolution=latent_leiden_resolution,\n",
    "             key_added=latent_cluster_key,\n",
    "             neighbors_key=latent_key)"
   ]
  },
  {
   "cell_type": "code",
   "execution_count": null,
   "id": "ee2046bb-4853-47f7-8dab-dd5c8f098faa",
   "metadata": {},
   "outputs": [],
   "source": [
    "latent_cluster_colors = create_new_color_dict(\n",
    "    adata=model.adata,\n",
    "    cat_key=latent_cluster_key)"
   ]
  },
  {
   "cell_type": "code",
   "execution_count": null,
   "id": "5bcb6164-4761-45f8-a026-ce593186b768",
   "metadata": {},
   "outputs": [],
   "source": [
    "# Latent clusters in latent and physical space\n",
    "save_fig = True\n",
    "file_path = f\"{figure_folder_path}/res_{latent_leiden_resolution}_\" \\\n",
    "            \"latent_clusters_latent_physical_space.svg\"\n",
    "\n",
    "plot_category_in_latent_and_physical_space(\n",
    "    adata=model.adata,\n",
    "    plot_label=\"Latent Clusters\",\n",
    "    cat_key=latent_cluster_key,\n",
    "    groups=None,\n",
    "    sample_key=sample_key,\n",
    "    samples=samples,\n",
    "    cat_colors=latent_cluster_colors,\n",
    "    size=None,\n",
    "    spot_size=spot_size,\n",
    "    save_fig=save_fig,\n",
    "    file_path=file_path)"
   ]
  },
  {
   "cell_type": "markdown",
   "id": "4fa43a45-7c6d-475a-be71-e5378594c1e4",
   "metadata": {},
   "source": [
    "### 3.2 Analyze Query Enrichments (vs Reference)"
   ]
  },
  {
   "cell_type": "markdown",
   "id": "e3969ec5-3b85-4a12-9a6d-b01ec67173d6",
   "metadata": {
    "tags": []
   },
   "source": [
    "#### 3.2.1 Visualize Query-enriched Cell Types in Physical and Latent Space"
   ]
  },
  {
   "cell_type": "code",
   "execution_count": null,
   "id": "6b0003d5-00ed-4f70-bde4-d9c884556085",
   "metadata": {},
   "outputs": [],
   "source": [
    "adata_reference = model.adata[model.adata.obs[mapping_entity_key] == \"reference\"]\n",
    "adata_query = model.adata[model.adata.obs[mapping_entity_key] == \"query\"]\n",
    "\n",
    "reference_samples = adata_reference.obs[sample_key].unique().tolist()"
   ]
  },
  {
   "cell_type": "code",
   "execution_count": null,
   "id": "83797f77-9e5d-4b6d-b73a-c593b33da6e3",
   "metadata": {},
   "outputs": [],
   "source": [
    "enriched_query_cell_type_prop_thresh = 5.\n",
    "query_enriched_cell_type_key = \"query_enriched_cell_types\"\n",
    "\n",
    "# Get query-enriched cell types\n",
    "cell_type_reference_proportions = adata_reference.obs[cell_type_key].value_counts().sort_index() / len(adata_reference)\n",
    "cell_type_query_proportions = adata_query.obs[cell_type_key].value_counts().sort_index() / len(adata_query)\n",
    "relative_cell_type_query_proportions = cell_type_query_proportions / cell_type_reference_proportions\n",
    "relative_cell_type_query_proportions.sort_values(ascending=False, inplace=True)\n",
    "display(relative_cell_type_query_proportions)\n",
    "\n",
    "query_enriched_cell_types = relative_cell_type_query_proportions[relative_cell_type_query_proportions > enriched_query_cell_type_prop_thresh].index.to_list()\n",
    "model.adata.obs[query_enriched_cell_type_key] = \"Cell types not enriched in query\"\n",
    "for cell_type in query_enriched_cell_types:\n",
    "    model.adata.obs.loc[model.adata.obs[cell_type_key] == cell_type, query_enriched_cell_type_key] = cell_type"
   ]
  },
  {
   "cell_type": "code",
   "execution_count": null,
   "id": "f6d4d837-e4ac-472c-8eb9-70958e7a9d29",
   "metadata": {},
   "outputs": [],
   "source": [
    "# Plot of query-enriched cell-type annotations in physical and latent space\n",
    "save_fig = True\n",
    "file_path = f\"{figure_folder_path}/\" \\\n",
    "            \"query_enriched_cell_types_latent_physical_space.svg\"\n",
    "\n",
    "plot_category_in_latent_and_physical_space(\n",
    "    adata=model.adata,\n",
    "    plot_label=\"Query Enriched Cell Types\",\n",
    "    cat_key=query_enriched_cell_type_key,\n",
    "    groups=None,\n",
    "    sample_key=sample_key,\n",
    "    samples=samples,\n",
    "    cat_colors=\"coolwarm\",\n",
    "    size=360000/len(model.adata),\n",
    "    spot_size=spot_size,\n",
    "    save_fig=save_fig,\n",
    "    file_path=file_path)"
   ]
  },
  {
   "cell_type": "markdown",
   "id": "8fd23951-a059-43c9-a1b5-f7657f6679e4",
   "metadata": {},
   "source": [
    "#### 3.1.2 Visualize Query-enriched Niches / Latent Clusters in Physical and Latent Space"
   ]
  },
  {
   "cell_type": "code",
   "execution_count": null,
   "id": "f1282610-f726-472a-aaa5-43b49b6fbc6e",
   "metadata": {},
   "outputs": [],
   "source": [
    "query_enriched_latent_cluster_key = \"query_enriched_latent_cluster\"\n",
    "enriched_query_latent_cluster_prop_thresh = 5."
   ]
  },
  {
   "cell_type": "code",
   "execution_count": null,
   "id": "f59c8079-0c63-4515-9617-2773fda450e0",
   "metadata": {},
   "outputs": [],
   "source": [
    "# Get query-enriched latent leiden clusters\n",
    "latent_cluster_reference_proportions = adata_reference.obs[f\"latent_leiden_{str(latent_leiden_resolution)}\"].value_counts().sort_index() / len(adata_reference)\n",
    "latent_cluster_query_proportions = adata_query.obs[f\"latent_leiden_{str(latent_leiden_resolution)}\"].value_counts().sort_index() / len(adata_query)\n",
    "relative_latent_cluster_query_proportions = latent_cluster_query_proportions / latent_cluster_reference_proportions\n",
    "relative_latent_cluster_query_proportions.sort_values(ascending=False, inplace=True)\n",
    "display(relative_latent_cluster_query_proportions)\n",
    "\n",
    "query_enriched_latent_clusters = relative_latent_cluster_query_proportions[relative_latent_cluster_query_proportions > enriched_query_latent_cluster_prop_thresh].index.to_list()\n",
    "model.adata.obs[query_enriched_latent_cluster_key] = \"Latent clusters not enriched in query\"\n",
    "for latent_cluster in query_enriched_latent_clusters:\n",
    "    model.adata.obs.loc[model.adata.obs[f\"latent_leiden_{str(latent_leiden_resolution)}\"] == latent_cluster, query_enriched_latent_cluster_key] = f\"Cluster {latent_cluster}\""
   ]
  },
  {
   "cell_type": "code",
   "execution_count": null,
   "id": "c1f83097-fd5b-4110-b3d8-d6a890b2560f",
   "metadata": {},
   "outputs": [],
   "source": [
    "# Plot of query-enriched cell-type annotations in physical and latent space\n",
    "save_fig = True\n",
    "file_path = f\"{figure_folder_path}/\" \\\n",
    "            \"query_enriched_latent_clusters_latent_physical_space.svg\"\n",
    "\n",
    "plot_category_in_latent_and_physical_space(\n",
    "    adata=model.adata,\n",
    "    plot_label=\"Query Enriched Latent Clusters\",\n",
    "    cat_key=query_enriched_latent_cluster_key,\n",
    "    groups=None,\n",
    "    sample_key=sample_key,\n",
    "    samples=samples,\n",
    "    cat_colors=\"coolwarm\",\n",
    "    size=360000/len(model.adata),\n",
    "    spot_size=spot_size,\n",
    "    save_fig=save_fig,\n",
    "    file_path=file_path)"
   ]
  },
  {
   "cell_type": "markdown",
   "id": "238e6e69-9a31-47b3-9462-2371426d2464",
   "metadata": {},
   "source": [
    "### 3.3 Transfer Niche Labels from Reference to Query"
   ]
  },
  {
   "cell_type": "markdown",
   "id": "8e4039f1-3be7-4a57-b91e-57fe97802203",
   "metadata": {},
   "source": [
    "#### 3.3.1 Define Reference Niches"
   ]
  },
  {
   "cell_type": "code",
   "execution_count": null,
   "id": "ca8da23c-4fe4-4d70-8e72-daabc1aeeb22",
   "metadata": {},
   "outputs": [],
   "source": [
    "# Compute latent neighbor graph just for reference\n",
    "sc.pp.neighbors(adata_reference,\n",
    "                use_rep=latent_key,\n",
    "                key_added=latent_key)\n",
    "\n",
    "# Compute latent Leiden clustering just for reference\n",
    "sc.tl.leiden(adata=adata_reference,\n",
    "             resolution=latent_reference_leiden_resolution,\n",
    "             key_added=latent_reference_cluster_key,\n",
    "             neighbors_key=latent_key)\n",
    "\n",
    "# Add latent reference clusters to integrated adata object\n",
    "model.adata.obs[latent_reference_cluster_key] = adata_reference.obs[latent_reference_cluster_key]"
   ]
  },
  {
   "cell_type": "code",
   "execution_count": null,
   "id": "fbe4db91-0822-4f2c-a5f9-70531cad3cdc",
   "metadata": {},
   "outputs": [],
   "source": [
    "# Create color dict for latent reference clusters for plotting\n",
    "latent_reference_cluster_colors = create_new_color_dict(\n",
    "    adata=model.adata,\n",
    "    cat_key=latent_reference_cluster_key)"
   ]
  },
  {
   "cell_type": "code",
   "execution_count": null,
   "id": "f725a733-8095-4471-83b2-cd71038f0c98",
   "metadata": {},
   "outputs": [],
   "source": [
    "# Plot latent reference clusters in latent and physical space\n",
    "save_fig = True\n",
    "file_path = f\"{figure_folder_path}/res_{latent_reference_leiden_resolution}_\" \\\n",
    "            \"latent_reference_clusters_latent_physical_space.svg\"\n",
    "\n",
    "plot_category_in_latent_and_physical_space(\n",
    "    adata=model.adata,\n",
    "    plot_label=\"Latent Reference Clusters\",\n",
    "    cat_key=latent_reference_cluster_key,\n",
    "    groups=None,\n",
    "    sample_key=sample_key,\n",
    "    samples=samples,\n",
    "    cat_colors=latent_reference_cluster_colors,\n",
    "    size=None,\n",
    "    spot_size=spot_size,\n",
    "    save_fig=save_fig,\n",
    "    file_path=file_path)"
   ]
  },
  {
   "cell_type": "code",
   "execution_count": null,
   "id": "1a567c38-54b8-45e4-8e7a-48ba1e5827d1",
   "metadata": {},
   "outputs": [],
   "source": [
    "\"\"\"\n",
    "# Compute spatial neighbor graph just for reference\n",
    "sc.pp.neighbors(adata_reference,\n",
    "                use_rep=spatial_key,\n",
    "                key_added=spatial_key)\n",
    "\n",
    "# Compute spatial Leiden clustering just for reference\n",
    "sc.tl.leiden(adata=adata_reference,\n",
    "             resolution=spatial_reference_leiden_resolution,\n",
    "             key_added=spatial_reference_cluster_key,\n",
    "             neighbors_key=spatial_key)\n",
    "\n",
    "# Add spatial reference clusters to integrated adata object\n",
    "model.adata.obs[spatial_reference_cluster_key] = adata_reference.obs[spatial_reference_cluster_key]\n",
    "\"\"\""
   ]
  },
  {
   "cell_type": "code",
   "execution_count": null,
   "id": "06a1ac71-ffd5-4ea0-8066-da7a9aac61a0",
   "metadata": {},
   "outputs": [],
   "source": [
    "\"\"\"\n",
    "# Create color dict for spatial reference clusters for plotting\n",
    "spatial_reference_cluster_colors = create_new_color_dict(\n",
    "    adata=model.adata,\n",
    "    cat_key=spatial_reference_cluster_key)\n",
    "\"\"\""
   ]
  },
  {
   "cell_type": "code",
   "execution_count": null,
   "id": "1744bdd4-cad1-4550-99b6-b574c024426a",
   "metadata": {},
   "outputs": [],
   "source": [
    "\"\"\"\n",
    "# Plot spatial reference clusters in latent and physical space\n",
    "save_fig = True\n",
    "file_path = f\"{figure_folder_path}/res_{spatial_reference_leiden_resolution}_\" \\\n",
    "            \"spatial_reference_clusters_latent_physical_space.svg\"\n",
    "\n",
    "plot_category_in_latent_and_physical_space(\n",
    "    adata=model.adata,\n",
    "    plot_label=\"Spatial Reference Clusters\",\n",
    "    cat_key=spatial_reference_cluster_key,\n",
    "    groups=None,\n",
    "    sample_key=sample_key,\n",
    "    samples=samples,\n",
    "    cat_colors=spatial_reference_cluster_colors,\n",
    "    size=None,\n",
    "    spot_size=spot_size,\n",
    "    save_fig=save_fig,\n",
    "    file_path=file_path)\n",
    "\"\"\""
   ]
  },
  {
   "cell_type": "markdown",
   "id": "456895ed-291c-419e-a644-137d9c586a0d",
   "metadata": {},
   "source": [
    "#### 3.3.2 Define (Ground Truth) Query Niches"
   ]
  },
  {
   "cell_type": "code",
   "execution_count": null,
   "id": "d0ef838d-c455-4173-8c35-5c3c57f39a11",
   "metadata": {},
   "outputs": [],
   "source": [
    "# Compute latent neighbor graph just for query\n",
    "sc.pp.neighbors(adata_query,\n",
    "                use_rep=latent_key,\n",
    "                key_added=latent_key)\n",
    "\n",
    "# Compute latent Leiden clustering just for query\n",
    "sc.tl.leiden(adata=adata_query,\n",
    "             resolution=latent_query_leiden_resolution,\n",
    "             key_added=latent_query_cluster_key,\n",
    "             neighbors_key=latent_key)\n",
    "\n",
    "# Add latent query clusters to integrated adata object\n",
    "model.adata.obs[latent_query_cluster_key] = adata_query.obs[latent_query_cluster_key]"
   ]
  },
  {
   "cell_type": "code",
   "execution_count": null,
   "id": "2061e993-acf7-408e-afbb-59f3636f781b",
   "metadata": {},
   "outputs": [],
   "source": [
    "# Create color dict for latent query clusters for plotting\n",
    "latent_query_cluster_colors = create_new_color_dict(\n",
    "    adata=model.adata,\n",
    "    cat_key=latent_query_cluster_key)"
   ]
  },
  {
   "cell_type": "code",
   "execution_count": null,
   "id": "141dd2bb-2d5a-4b36-9109-715bc0b9c954",
   "metadata": {},
   "outputs": [],
   "source": [
    "# Plot latent query clusters in latent and physical space\n",
    "save_fig = True\n",
    "file_path = f\"{figure_folder_path}/res_{latent_leiden_resolution}_\" \\\n",
    "            \"latent_query_clusters_latent_physical_space.svg\"\n",
    "\n",
    "plot_category_in_latent_and_physical_space(\n",
    "    adata=model.adata,\n",
    "    plot_label=\"Latent Query Clusters\",\n",
    "    cat_key=latent_query_cluster_key,\n",
    "    groups=None,\n",
    "    sample_key=sample_key,\n",
    "    samples=samples,\n",
    "    cat_colors=latent_query_cluster_colors,\n",
    "    size=None,\n",
    "    spot_size=spot_size,\n",
    "    save_fig=save_fig,\n",
    "    file_path=file_path)"
   ]
  },
  {
   "cell_type": "code",
   "execution_count": null,
   "id": "3ca572f3-48e0-426a-a9a9-f4335a030c0e",
   "metadata": {},
   "outputs": [],
   "source": [
    "# Map query niches to reference niches using cell type proportions\n",
    "# Find best matching niches using pairwise euclidean distance between niche cell type proportion\n",
    "# vectors\n",
    "\n",
    "# Compute cell type proportions\n",
    "reference_counts_df = model.adata[model.adata.obs[mapping_entity_key] == \"reference\"].obs.groupby(\n",
    "    [latent_reference_cluster_key, cell_type_key]).size().unstack()\n",
    "query_counts_df = model.adata[model.adata.obs[mapping_entity_key] == \"query\"].obs.groupby(\n",
    "    [latent_query_cluster_key, cell_type_key]).size().unstack()\n",
    "reference_proportions_df = reference_counts_df.div(reference_counts_df.sum(axis=1), axis=0)\n",
    "query_proportions_df = query_counts_df.div(query_counts_df.sum(axis=1), axis=0)\n",
    "reference_proportions_df.index = reference_proportions_df.index.astype(int)\n",
    "query_proportions_df.index = query_proportions_df.index.astype(int)\n",
    "query_proportions_df.sort_index(inplace=True)\n",
    "query_proportions_df.index.name = \"Query Niche\"\n",
    "\n",
    "# Calculate the Euclidean distance between each pair of niches in the reference and query\n",
    "distances = cdist(query_proportions_df.values,\n",
    "                  reference_proportions_df.values,\n",
    "                  metric=\"euclidean\")\n",
    "\n",
    "# Apply the Hungarian algorithm to match clusters by minimizing the total Euclidean distance\n",
    "#query_latent_cluster_indices, reference_latent_cluster_indices = linear_sum_assignment(distances)\n",
    "#query_latent_cluster_indices = query_latent_cluster_indices.astype(str)\n",
    "#reference_latent_cluster_indices = reference_latent_cluster_indices.astype(str)\n",
    "\n",
    "# For each query niche find the reference niche with the minimum Euclidean distance\n",
    "query_latent_cluster_indices = np.arange(adata_query.obs[latent_query_cluster_key].nunique())\n",
    "reference_latent_cluster_indices = np.argmin(distances, axis=1)\n",
    "\n",
    "# Determine new query niches, assign them label above 1000, and add artifical row of 0s\n",
    "# to reference proportions\n",
    "min_distances = np.min(distances, axis=1)\n",
    "thresh = np.mean(min_distances) + 2 * np.std(min_distances) # more than 2 std above the mean\n",
    "new_query_niche_indices = np.where(min_distances > thresh)[0]\n",
    "for i, query_niche_idx in enumerate(new_query_niche_indices):\n",
    "    reference_latent_cluster_indices[query_niche_idx] = i + 1000\n",
    "    reference_proportions_df.loc[i + 1000] = np.zeros(len(reference_proportions_df.columns))\n",
    "    latent_reference_cluster_colors[f\"{i + 1000}\"] = \"#000000\" # Add black color for new query niches\n",
    "\n",
    "mapping_dict = {str(k): str(v) for k, v in zip(query_latent_cluster_indices, reference_latent_cluster_indices)}\n",
    "\n",
    "# Get matched reference proportions\n",
    "matched_reference_proportions_df = reference_proportions_df.loc[reference_latent_cluster_indices, :]\n",
    "\n",
    "# Replace query niche numbers with matched reference niche numbers\n",
    "model.adata.obs[ground_truth_key] = model.adata.obs[latent_query_cluster_key].map(mapping_dict)"
   ]
  },
  {
   "cell_type": "code",
   "execution_count": null,
   "id": "f254f272-b2e3-443f-922d-dd196b484536",
   "metadata": {},
   "outputs": [],
   "source": [
    "plot_clustered_stacked(df_list=[matched_reference_proportions_df, query_proportions_df],\n",
    "                       labels=[\"Reference\", \"Query\"],\n",
    "                       title=\"Cell Type Proportions in Query Niches and Matched Reference Niches\",\n",
    "                       H=\"//\")"
   ]
  },
  {
   "cell_type": "code",
   "execution_count": null,
   "id": "a11cfef3-a2f9-4ffb-8284-60152bf1f979",
   "metadata": {},
   "outputs": [],
   "source": [
    "# Plot latent query clusters in latent and physical space\n",
    "save_fig = True\n",
    "file_path = f\"{figure_folder_path}/res_{latent_leiden_resolution}_\" \\\n",
    "            \"latent_query_clusters_latent_physical_space.svg\"\n",
    "\n",
    "plot_category_in_latent_and_physical_space(\n",
    "    adata=model.adata,\n",
    "    plot_label=\"Latent Query Clusters\",\n",
    "    cat_key=ground_truth_key,\n",
    "    groups=None,\n",
    "    sample_key=sample_key,\n",
    "    samples=samples,\n",
    "    cat_colors=latent_reference_cluster_colors,\n",
    "    size=None,\n",
    "    spot_size=spot_size,\n",
    "    save_fig=save_fig,\n",
    "    file_path=file_path)"
   ]
  },
  {
   "cell_type": "code",
   "execution_count": null,
   "id": "b8dd758c-3ea6-4105-ad48-fa6026bcccdf",
   "metadata": {},
   "outputs": [],
   "source": [
    "\"\"\"\n",
    "# Compute spatial neighbor graph just for query\n",
    "sc.pp.neighbors(adata_query,\n",
    "                use_rep=spatial_key,\n",
    "                key_added=spatial_key)\n",
    "\n",
    "# Compute spatial Leiden clustering just for query\n",
    "spatial_query_leiden_resolution = 0.11\n",
    "spatial_query_cluster_key = f\"latent_leiden_query_{spatial_query_leiden_resolution}\"\n",
    " \n",
    "sc.tl.leiden(adata=adata_query,\n",
    "             resolution=spatial_query_leiden_resolution,\n",
    "             key_added=spatial_query_cluster_key,\n",
    "             neighbors_key=spatial_key)\n",
    "\n",
    "model.adata.obs[spatial_query_cluster_key] = adata_query.obs[spatial_query_cluster_key]\n",
    "\"\"\""
   ]
  },
  {
   "cell_type": "code",
   "execution_count": null,
   "id": "71efbb99-2635-4360-8a4c-ece088ece1a5",
   "metadata": {},
   "outputs": [],
   "source": [
    "\"\"\"\n",
    "spatial_query_cluster_colors = create_new_color_dict(\n",
    "    adata=model.adata,\n",
    "    cat_key=spatial_query_cluster_key)\n",
    "\"\"\""
   ]
  },
  {
   "cell_type": "code",
   "execution_count": null,
   "id": "8d65b4d4-a1e1-48af-86ba-ff516b765d85",
   "metadata": {},
   "outputs": [],
   "source": [
    "\"\"\"\n",
    "# Spatial query clusters in latent and physical space\n",
    "save_fig = False\n",
    "file_path = f\"{figure_folder_path}/res_{latent_leiden_resolution}_\" \\\n",
    "            \"spatial_query_clusters_latent_physical_space.svg\"\n",
    "\n",
    "plot_category_in_latent_and_physical_space(\n",
    "    adata=model.adata,\n",
    "    plot_label=\"Latent Query Clusters\",\n",
    "    cat_key=spatial_query_cluster_key,\n",
    "    groups=None,\n",
    "    sample_key=sample_key,\n",
    "    samples=samples,\n",
    "    cat_colors=spatial_query_cluster_colors,\n",
    "    size=None,\n",
    "    spot_size=spot_size,\n",
    "    save_fig=save_fig,\n",
    "    file_path=file_path)\n",
    "\"\"\""
   ]
  },
  {
   "cell_type": "markdown",
   "id": "4e17040d-eb92-4c6e-8a9d-b1c021b96cfc",
   "metadata": {},
   "source": [
    "#### 3.3.3 Transfer Niche Labels from Reference to Query"
   ]
  },
  {
   "cell_type": "code",
   "execution_count": null,
   "id": "498db177-0727-476c-8fb1-85cfbc3d2de4",
   "metadata": {},
   "outputs": [],
   "source": [
    "# Prepare label transfer via scarches\n",
    "knn_transformer = sca.utils.knn.weighted_knn_trainer(\n",
    "    train_adata=adata_reference,\n",
    "    train_adata_emb=latent_key,\n",
    "    n_neighbors=15)"
   ]
  },
  {
   "cell_type": "code",
   "execution_count": null,
   "id": "efb99307-a570-47ce-b0f6-3c90295c64a9",
   "metadata": {},
   "outputs": [],
   "source": [
    "# Compute label transfer via scarches\n",
    "labels, uncert = sca.utils.knn.weighted_knn_transfer(\n",
    "    query_adata=adata_query,\n",
    "    query_adata_emb=latent_key,\n",
    "    label_keys=label_key,\n",
    "    knn_model=knn_transformer,\n",
    "    ref_adata_obs=adata_reference.obs)"
   ]
  },
  {
   "cell_type": "code",
   "execution_count": null,
   "id": "1e495eca-9d3c-40bc-a021-4b09ce634483",
   "metadata": {},
   "outputs": [],
   "source": [
    "# Add labels and uncertainties to adata using transfer keys\n",
    "labels.rename(columns={label_key: transfer_label_key}, inplace=True)\n",
    "uncert.rename(columns={label_key: transfer_label_uncertainty_key}, inplace=True)\n",
    "model.adata.obs = model.adata.obs.join(labels)\n",
    "model.adata.obs = model.adata.obs.join(uncert)"
   ]
  },
  {
   "cell_type": "code",
   "execution_count": null,
   "id": "fa6921fc-d87f-4f09-9c59-5779361c7bac",
   "metadata": {},
   "outputs": [],
   "source": [
    "# Drop artifical reference proportion rows again\n",
    "for i, _ in enumerate(new_query_niche_indices):\n",
    "    reference_proportions_df.drop(i + 1000, inplace=True)\n",
    "\n",
    "transferred_query_counts_df = model.adata[model.adata.obs[mapping_entity_key] == \"query\"].obs.groupby(\n",
    "    [transfer_label_key, cell_type_key]).size().unstack()\n",
    "transferred_query_proportions_df = transferred_query_counts_df.div(transferred_query_counts_df.sum(axis=1), axis=0)\n",
    "\n",
    "transferred_query_proportions_df.index = transferred_query_proportions_df.index.astype(int)\n",
    "transferred_query_proportions_df.sort_index(inplace=True)\n",
    "transferred_query_proportions_df.index.name = \"Transferred Query Niche\""
   ]
  },
  {
   "cell_type": "code",
   "execution_count": null,
   "id": "32977ff2-b115-49a1-8a59-583f66427313",
   "metadata": {},
   "outputs": [],
   "source": [
    "plot_clustered_stacked(df_list=[reference_proportions_df, transferred_query_proportions_df],\n",
    "                       labels=[\"Reference\", \"Query\"],\n",
    "                       title=\"Cell Type Proportions in Transferred Query Niches and Reference Niches\",\n",
    "                       H=\"//\")"
   ]
  },
  {
   "cell_type": "code",
   "execution_count": null,
   "id": "55a37167-46d9-4d2c-b7e4-859a11138b34",
   "metadata": {},
   "outputs": [],
   "source": [
    "# Add evaluations\n",
    "model.adata.obs[transfer_label_evaluation_key] = model.adata.obs.apply(\n",
    "    lambda row: \"Correct\" if row[transfer_label_key] == row[ground_truth_key] else (\n",
    "        row[transfer_label_key] if pd.isnull(row[transfer_label_key]) else \"Incorrect\"), axis=1)"
   ]
  },
  {
   "cell_type": "code",
   "execution_count": null,
   "id": "29fe6a13-9a28-44d9-958a-53392ee86e6f",
   "metadata": {},
   "outputs": [],
   "source": [
    "# Plot uncertainties\n",
    "sns.distplot(model.adata.obs[transfer_label_uncertainty_key])"
   ]
  },
  {
   "cell_type": "code",
   "execution_count": null,
   "id": "189c1e0a-5746-430e-8e5c-63ec921f19d4",
   "metadata": {},
   "outputs": [],
   "source": [
    "# Set high uncertainty labels evaluation to 'Unknown'\n",
    "uncertainty_threshold = 0.01\n",
    "\n",
    "model.adata.obs[transfer_label_evaluation_key] = model.adata.obs[transfer_label_evaluation_key].mask(\n",
    "    model.adata.obs[transfer_label_uncertainty_key] > uncertainty_threshold,\n",
    "    \"Uncertain\")"
   ]
  },
  {
   "cell_type": "code",
   "execution_count": null,
   "id": "6411bd34-628b-4e6c-a263-3a3697902e2d",
   "metadata": {},
   "outputs": [],
   "source": [
    "adata_query_label_transfer = model.adata[model.adata.obs[mapping_entity_key] == \"query\"]"
   ]
  },
  {
   "cell_type": "code",
   "execution_count": null,
   "id": "5a29d738-e620-4926-8e1c-fb5af3a1c77a",
   "metadata": {},
   "outputs": [],
   "source": [
    "print(f\"Percentage of 'Unknown', with uncertainty_threshold = {uncertainty_threshold}:\")\n",
    "print(f\"{np.round(sum(adata_query_label_transfer.obs[transfer_label_evaluation_key] =='Uncertain')/adata_query_label_transfer.n_obs*100,2)}%\")"
   ]
  },
  {
   "cell_type": "code",
   "execution_count": null,
   "id": "74877c22-634d-4a25-bd80-3c8eb92a8a94",
   "metadata": {},
   "outputs": [],
   "source": [
    "label_cats = adata_query_label_transfer.obs[ground_truth_key].unique().tolist()\n",
    "\n",
    "perc_correct = pd.crosstab(\n",
    "    adata_query_label_transfer.obs[ground_truth_key],\n",
    "    adata_query_label_transfer.obs[transfer_label_evaluation_key],\n",
    ").loc[label_cats, :]\n",
    "total_n_per_ct = adata_query_label_transfer.obs[ground_truth_key].value_counts()\n",
    "perc_correct = perc_correct.div(perc_correct.sum(axis=1), axis=\"rows\") * 100\n",
    "# add a bar (=row) for the entire query dataset:\n",
    "perc_correct.index = perc_correct.index.tolist()\n",
    "total_n_per_ct.index = total_n_per_ct.index.tolist()\n",
    "total_n_per_ct[\"Overall\"] = adata_query_label_transfer.shape[0]\n",
    "perc_correct.loc[\"Overall\", :] = (\n",
    "    adata_query_label_transfer.obs[transfer_label_evaluation_key].value_counts()\n",
    "    / total_n_per_ct[\"Overall\"]\n",
    "    * 100\n",
    ")\n",
    "\n",
    "incl_celln_in_label = True\n",
    "# set celltype order:\n",
    "# follow bio order, except that new/unseen cell types will come first:\n",
    "plot_label_cats = label_cats + [\"Overall\"]\n",
    "perc_correct = perc_correct.loc[plot_label_cats, :]\n",
    "with plt.rc_context(\n",
    "    {\n",
    "        \"figure.figsize\": (0.4 * len(label_cats), 3),\n",
    "        \"axes.spines.right\": False,\n",
    "        \"axes.spines.top\": False,\n",
    "    }\n",
    "):\n",
    "    fig, ax = plt.subplots()\n",
    "    perc_correct.plot(kind=\"bar\", stacked=True, ax=ax)\n",
    "    handles, labels = ax.get_legend_handles_labels()\n",
    "    ax.legend(handles[::-1], labels[::-1], loc=(1.01, 0.60), frameon=False)\n",
    "\n",
    "    cts_no_underscore = [ct.replace(\"_\", \" \") for ct in label_cats]\n",
    "    if incl_celln_in_label:\n",
    "        plt.xticks(\n",
    "            ticks=range(len(label_cats) + 1),\n",
    "            labels=[\n",
    "                f\"{ct_no_und} ({total_n_per_ct[ct]})\"\n",
    "                for ct_no_und, ct in zip(\n",
    "                    cts_no_underscore + [\"Overall\"],\n",
    "                    plot_label_cats,  # ct_df_q + [\"Overall\"]\n",
    "                )\n",
    "            ],\n",
    "        )\n",
    "        plt.xlabel(\"Original Label (Number of Cells)\")\n",
    "    else:\n",
    "        plt.xticks(\n",
    "            ticks=range(len(plot_label_cats)),\n",
    "            labels=[f\"{ct_no_und}\" for ct_no_und in cts_no_underscore],\n",
    "        )\n",
    "        plt.xlabel(\"Original Label\")\n",
    "    ax.set_ylabel(\"% of Cells\")\n",
    "    plt.grid(False)"
   ]
  },
  {
   "cell_type": "code",
   "execution_count": null,
   "id": "29b5396c-d9e3-4d89-a3f7-926863a70373",
   "metadata": {},
   "outputs": [],
   "source": [
    "fig, ax = plt.subplots(figsize=(10, 5))\n",
    "sankey(\n",
    "    x=adata_query_label_transfer.obs[ground_truth_key],\n",
    "    y=adata_query_label_transfer.obs[transfer_label_key],\n",
    "    title=\"Original label vs. predicted annotation\",\n",
    "    title_left=\"Original label\",\n",
    "    title_right=\"Predicted annotation\",\n",
    "    ax=ax,\n",
    "    fontsize=\"5\",  # \"xx-small\",\n",
    "    left_order=adata_query_label_transfer.obs[ground_truth_key].unique().tolist(),\n",
    "    colorside=\"left\",\n",
    "    alpha=0.5,\n",
    ")\n",
    "plt.show()"
   ]
  },
  {
   "cell_type": "markdown",
   "id": "fff9b34d-9f10-4b9c-8a73-741b868b1778",
   "metadata": {},
   "source": [
    "#### 3.3.5 Compute Top n Accuracies"
   ]
  },
  {
   "cell_type": "code",
   "execution_count": null,
   "id": "844004ef-a15b-4777-b9bc-1aa2fc25dc08",
   "metadata": {},
   "outputs": [],
   "source": [
    "reference_sorted_indices = reference_proportions_df.values.argsort(axis=1)[:, ::-1]\n",
    "reference_sorted_cell_types = reference_proportions_df.columns.values[reference_sorted_indices]\n",
    "\n",
    "transferred_query_sorted_indices = transferred_query_proportions_df.values.argsort(axis=1)[:, ::-1]\n",
    "transferred_query_sorted_cell_types = transferred_query_proportions_df.columns.values[transferred_query_sorted_indices]"
   ]
  },
  {
   "cell_type": "code",
   "execution_count": null,
   "id": "a17133e9-9980-4c23-ad8b-5ae747498b92",
   "metadata": {},
   "outputs": [],
   "source": [
    "top_n_transfer_accuracies = []\n",
    "for n in range(1, len(transferred_query_proportions_df.values) + 1):\n",
    "    top_n_transfer_accuracies.append(calculate_top_accuracy(reference_sorted_cell_types, transferred_query_sorted_cell_types, n=n))"
   ]
  },
  {
   "cell_type": "code",
   "execution_count": null,
   "id": "2d7ecab7-adaf-4561-a34f-9c55caf53066",
   "metadata": {},
   "outputs": [],
   "source": [
    "matched_reference_sorted_indices = matched_reference_proportions_df.values.argsort(axis=1)[:, ::-1]\n",
    "matched_reference_sorted_cell_types = matched_reference_proportions_df.columns.values[matched_reference_sorted_indices]\n",
    "\n",
    "query_sorted_indices = query_proportions_df.values.argsort(axis=1)[:, ::-1]\n",
    "query_sorted_cell_types = query_proportions_df.columns.values[query_sorted_indices]"
   ]
  },
  {
   "cell_type": "code",
   "execution_count": null,
   "id": "c98505bd-eef1-469d-b1c6-26bb72c3a2b4",
   "metadata": {},
   "outputs": [],
   "source": [
    "top_n_matching_accuracies = []\n",
    "for n in range(1, len(matched_reference_proportions_df.values) + 1):\n",
    "    top_n_matching_accuracies.append(calculate_top_accuracy(matched_reference_sorted_cell_types, query_sorted_cell_types, n=n))"
   ]
  },
  {
   "cell_type": "code",
   "execution_count": null,
   "id": "43dec1ee-3493-43c4-ab14-b5b4407f5e90",
   "metadata": {},
   "outputs": [],
   "source": [
    "sns.lineplot(x=np.arange(1, len(top_n_transfer_accuracies) + 1),\n",
    "             y=top_n_transfer_accuracies,\n",
    "             marker=\"o\",\n",
    "             label=\"NicheCompass Integrated Niches\")\n",
    "sns.lineplot(x=np.arange(1, len(top_n_matching_accuracies) + 1),\n",
    "             y=top_n_matching_accuracies,\n",
    "             marker=\"o\",\n",
    "             label=\"NicheCompass Matched Niches\")\n",
    "plt.xlabel(\"n\")\n",
    "plt.ylabel(\"Top n Accuracy\")\n",
    "plt.ylim(0, 1)\n",
    "plt.legend()\n",
    "plt.show()"
   ]
  },
  {
   "cell_type": "markdown",
   "id": "f0052530-168d-4f85-b692-3303c0b51f5c",
   "metadata": {},
   "source": [
    "#### 3.3.6 Compute Jensen Shannon Divergence"
   ]
  },
  {
   "cell_type": "code",
   "execution_count": null,
   "id": "c818f766-b99a-44dd-b37f-6e38a1d6e2c3",
   "metadata": {},
   "outputs": [],
   "source": [
    "matched_reference_sorted_indices = matched_reference_proportions_df.values.argsort(axis=1)[:, ::-1]\n",
    "matched_reference_sorted_cell_types = matched_reference_proportions_df.columns.values[matched_reference_sorted_indices]\n",
    "\n",
    "query_sorted_indices = query_proportions_df.values.argsort(axis=1)[:, ::-1]\n",
    "query_sorted_cell_types = query_proportions_df.columns.values[query_sorted_indices]"
   ]
  },
  {
   "cell_type": "code",
   "execution_count": null,
   "id": "d258955f-e420-445d-afc0-0bdd9178068a",
   "metadata": {},
   "outputs": [],
   "source": [
    "# A JSD value close to 0 indicates that the two probability distributions being compared are very similar\n",
    "# A JSD value close to 1 indicates that the two probability distributions being compared are very dissimilar\n",
    "transfer_jsd_scores = []\n",
    "\n",
    "for niche in range(len(reference_proportions_df.values)):\n",
    "    p = reference_proportions_df.values[niche]\n",
    "    q = transferred_query_proportions_df.values[niche]\n",
    "    jsd = distance.jensenshannon(p, q)\n",
    "    transfer_jsd_scores.append(jsd)\n",
    "\n",
    "average_transfer_jsd = np.mean(transfer_jsd_scores)"
   ]
  },
  {
   "cell_type": "code",
   "execution_count": null,
   "id": "e55a4bd0-6491-4355-a889-090292830a4a",
   "metadata": {},
   "outputs": [],
   "source": [
    "# A JSD value close to 0 indicates that the two probability distributions being compared are very similar\n",
    "# A JSD value close to 1 indicates that the two probability distributions being compared are very dissimilar\n",
    "matching_jsd_scores = []\n",
    "\n",
    "for niche in range(len(matched_reference_proportions_df.values)):\n",
    "    p = matched_reference_proportions_df.values[niche]\n",
    "    q = query_proportions_df.values[niche]\n",
    "    jsd = distance.jensenshannon(p, q)\n",
    "    matching_jsd_scores.append(jsd)\n",
    "\n",
    "average_matching_jsd = np.mean(matching_jsd_scores)"
   ]
  },
  {
   "cell_type": "code",
   "execution_count": null,
   "id": "af74aca9-5bae-4653-98e9-ccf6b8d8f7b0",
   "metadata": {},
   "outputs": [],
   "source": [
    "# Create subplots with shared y-axis\n",
    "fig, axes = plt.subplots(1, 2, figsize=(5, 5), sharey=True)\n",
    "plt.suptitle(\"JSD Scores between Query and Reference Niches\",\n",
    "             fontsize=16)\n",
    "\n",
    "# Plot violinplot for list1\n",
    "sns.violinplot(data=[transfer_jsd_scores], ax=axes[0])\n",
    "axes[0].set_title(\"Niche Transfer\",\n",
    "                  fontsize=12)\n",
    "\n",
    "# Plot violinplot for list2\n",
    "sns.violinplot(data=[matching_jsd_scores], ax=axes[1])\n",
    "axes[1].set_title(\"Niche Matching\",\n",
    "                  fontsize=12)\n",
    "\n",
    "# Set y-label\n",
    "axes[0].set_ylabel(\"Niche Cell Type Proportion JSD Scores\")\n",
    "\n",
    "# Adjust spacing between subplots\n",
    "plt.subplots_adjust(top=0.85)\n",
    "\n",
    "# Show the plot\n",
    "plt.show()"
   ]
  },
  {
   "cell_type": "code",
   "execution_count": null,
   "id": "b40d2fee-5687-4d40-8d45-93760203392d",
   "metadata": {},
   "outputs": [],
   "source": []
  }
 ],
 "metadata": {
  "kernelspec": {
   "display_name": "Python 3 (ipykernel)",
   "language": "python",
   "name": "python3"
  },
  "language_info": {
   "codemirror_mode": {
    "name": "ipython",
    "version": 3
   },
   "file_extension": ".py",
   "mimetype": "text/x-python",
   "name": "python",
   "nbconvert_exporter": "python",
   "pygments_lexer": "ipython3",
   "version": "3.9.17"
  }
 },
 "nbformat": 4,
 "nbformat_minor": 5
}
