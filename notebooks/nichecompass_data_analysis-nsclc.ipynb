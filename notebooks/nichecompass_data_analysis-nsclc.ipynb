{
 "cells": [
  {
   "cell_type": "markdown",
   "id": "1b1daabf-c8e3-43d4-aa32-9789abcc8619",
   "metadata": {},
   "source": [
    "# NicheCompass Data Analysis"
   ]
  },
  {
   "cell_type": "markdown",
   "id": "c325d921-2077-42b3-90a8-6f6c7dd928c5",
   "metadata": {},
   "source": [
    "- **Creator**: Sebastian Birk (<sebastian.birk@helmholtz-munich.de>).\n",
    "- **Affiliation:** Helmholtz Munich, Institute of Computational Biology (ICB), Talavera-López Lab\n",
    "- **Date of Creation:** 22.01.2023\n",
    "- **Date of Last Modification:** 31.08.2023"
   ]
  },
  {
   "cell_type": "markdown",
   "id": "8f6bd6fb-6697-43bd-b3ec-68b061afe511",
   "metadata": {},
   "source": [
    "- In order to run this notebook, a trained model needs to be stored under f\"../artifacts/{dataset}/models/{model_label}/{load_timestamp}\"."
   ]
  },
  {
   "cell_type": "markdown",
   "id": "2d464ebf-354f-4f61-8040-c3dcbcc893b9",
   "metadata": {},
   "source": [
    "## 1. Setup"
   ]
  },
  {
   "cell_type": "markdown",
   "id": "d5631277-d8d2-4194-a376-280f4f149b7d",
   "metadata": {},
   "source": [
    "### 1.1 Import Libraries"
   ]
  },
  {
   "cell_type": "code",
   "execution_count": 1,
   "id": "4e5d3297-0290-47c0-846f-705e74cdb3de",
   "metadata": {
    "tags": []
   },
   "outputs": [],
   "source": [
    "%load_ext autoreload\n",
    "%autoreload 2"
   ]
  },
  {
   "cell_type": "code",
   "execution_count": 2,
   "id": "8dbd4925-7505-4d01-bf91-95b54bb8b533",
   "metadata": {
    "tags": []
   },
   "outputs": [],
   "source": [
    "import sys\n",
    "sys.path.append(\"../utils\")"
   ]
  },
  {
   "cell_type": "code",
   "execution_count": 3,
   "id": "b4aa3c6a-5a44-4cf1-84a3-5e514457cf3c",
   "metadata": {
    "tags": []
   },
   "outputs": [],
   "source": [
    "import argparse\n",
    "import gc\n",
    "import os\n",
    "import random\n",
    "import shutil\n",
    "import warnings\n",
    "from datetime import datetime\n",
    "from matplotlib import rcParams\n",
    "\n",
    "import anndata as ad\n",
    "import matplotlib\n",
    "import matplotlib.pyplot as plt\n",
    "import mlflow\n",
    "import numpy as np\n",
    "import pandas as pd\n",
    "import scanpy as sc\n",
    "import scipy.sparse as sp\n",
    "import scipy.stats as stats\n",
    "import seaborn as sns\n",
    "import squidpy as sq\n",
    "import torch\n",
    "from matplotlib import gridspec\n",
    "from matplotlib.pyplot import rc_context\n",
    "from sklearn.preprocessing import MinMaxScaler\n",
    "from pywaffle import Waffle\n",
    "\n",
    "from nichecompass.models import NicheCompass\n",
    "from nichecompass.utils import (add_gps_from_gp_dict_to_adata,\n",
    "                                aggregate_obsp_matrix_per_cell_type,\n",
    "                                create_cell_type_chord_plot_from_df,\n",
    "                                create_new_color_dict,\n",
    "                                generate_enriched_gp_info_plots)\n",
    "\n",
    "from analysis_utils import (add_cell_type_latent_cluster_emphasis,\n",
    "                            add_sub_cell_type,\n",
    "                            compute_cell_type_latent_clusters,\n",
    "                            generate_gp_info_plots,\n",
    "                            plot_physical_latent_for_cell_types,\n",
    "                            plot_cell_type_latent_clusters,\n",
    "                            plot_latent,\n",
    "                            plot_category_in_latent_and_physical_space,\n",
    "                            sankey,\n",
    "                            store_top_gps_summary)"
   ]
  },
  {
   "cell_type": "markdown",
   "id": "9f91f345-c297-47cb-8650-c6d9c60a8b7e",
   "metadata": {},
   "source": [
    "### 1.2 Define Parameters"
   ]
  },
  {
   "cell_type": "code",
   "execution_count": 4,
   "id": "9325589b-a7e4-4c31-97e7-8b7048248896",
   "metadata": {},
   "outputs": [],
   "source": [
    "dataset = \"nanostring_cosmx_human_nsclc\""
   ]
  },
  {
   "cell_type": "markdown",
   "id": "10ac7b6d-4518-4356-bfdd-e141bf25d504",
   "metadata": {},
   "source": [
    "#### 1.2.1 Generic Parameters"
   ]
  },
  {
   "cell_type": "code",
   "execution_count": 5,
   "id": "a4d4e6d9-239f-47c5-a30b-579b16d4c27c",
   "metadata": {
    "tags": []
   },
   "outputs": [],
   "source": [
    "## Model\n",
    "# AnnData keys\n",
    "adj_key = \"spatial_connectivities\"\n",
    "spatial_key = \"spatial\"\n",
    "sub_cell_type_key = \"cell_type_original\"\n",
    "nicke_key = \"niche\"\n",
    "gp_names_key = \"nichecompass_gp_names\"\n",
    "active_gp_names_key = \"nichecompass_active_gp_names\"\n",
    "latent_key = \"nichecompass_latent\"\n",
    "mapping_entity_key = \"mapping_entity\"\n",
    "\n",
    "## Analysis\n",
    "differential_gp_test_results_key = \"nichecompass_differential_gp_test_results\"\n",
    "\n",
    "## Others\n",
    "random_seed = 0"
   ]
  },
  {
   "cell_type": "markdown",
   "id": "8e7be323-bd40-4fa0-a2d5-b8ddf5cc1c51",
   "metadata": {},
   "source": [
    "#### 1.2.2 Dataset-specific Parameters"
   ]
  },
  {
   "cell_type": "code",
   "execution_count": 6,
   "id": "01210b2f-017e-43f6-b650-5cc732252f8c",
   "metadata": {
    "tags": []
   },
   "outputs": [],
   "source": [
    "multimodal = False\n",
    "log_norm_omics_features = False\n",
    "cell_type_groups = []\n",
    "latent_groups = []\n",
    "\n",
    "load_timestamp = \"03092023_001459_4\"\n",
    "model_label = \"reference_query_mapping\"\n",
    "latent_leiden_resolution = 0.5\n",
    "latent_cluster_spot_size = 0.03\n",
    "dataset_str = \"nanoString CosMx Human NSCLC\"\n",
    "condition_key = \"batch\"\n",
    "sample_key = \"batch\"\n",
    "spot_size = 30\n",
    "cell_type_key = \"cell_type\"\n",
    "    \n",
    "latent_cluster_key = f\"latent_leiden_{str(latent_leiden_resolution)}\""
   ]
  },
  {
   "cell_type": "markdown",
   "id": "a6c3b7fa-fa59-43dd-81d2-7e116650915f",
   "metadata": {},
   "source": [
    "### 1.3 Run Notebook Setup"
   ]
  },
  {
   "cell_type": "code",
   "execution_count": 7,
   "id": "1bf229ca-ab66-4e52-a31e-8655878d290d",
   "metadata": {
    "tags": []
   },
   "outputs": [],
   "source": [
    "sc.set_figure_params(figsize=(6, 6))\n",
    "sns.set_style(\"whitegrid\", {'axes.grid' : False})"
   ]
  },
  {
   "cell_type": "code",
   "execution_count": 8,
   "id": "924032d4-24a4-45cf-87e1-0eba197da0c2",
   "metadata": {
    "tags": []
   },
   "outputs": [],
   "source": [
    "# Ignore future warnings and user warnings\n",
    "warnings.simplefilter(action=\"ignore\", category=FutureWarning)\n",
    "warnings.simplefilter(action=\"ignore\", category=UserWarning)\n",
    "warnings.simplefilter(action=\"ignore\", category=RuntimeWarning)"
   ]
  },
  {
   "cell_type": "markdown",
   "id": "2b886225-6b6d-433c-b117-47b9a8f8091f",
   "metadata": {},
   "source": [
    "### 1.4 Configure Paths and Create Directories"
   ]
  },
  {
   "cell_type": "code",
   "execution_count": 9,
   "id": "36675337-808d-40a9-93fc-d6cfa9473f66",
   "metadata": {
    "tags": []
   },
   "outputs": [],
   "source": [
    "# Define paths\n",
    "figure_folder_path = f\"../artifacts/{dataset}/figures/{model_label}/{load_timestamp}\"\n",
    "model_folder_path = f\"../artifacts/{dataset}/models/{model_label}/{load_timestamp}\"\n",
    "result_folder_path = f\"../artifacts/{dataset}/results/{model_label}/{load_timestamp}\"\n",
    "gp_data_folder_path = \"../datasets/gp_data\" # gene program data\n",
    "srt_data_folder_path = \"../datasets/srt_data\" # spatially resolved transcriptomics data\n",
    "srt_data_gold_folder_path = f\"{srt_data_folder_path}/gold\"\n",
    "\n",
    "# Create required directories\n",
    "os.makedirs(figure_folder_path, exist_ok=True)\n",
    "os.makedirs(result_folder_path, exist_ok=True)"
   ]
  },
  {
   "cell_type": "markdown",
   "id": "9cea1a5c-d075-4e51-90e5-90684bee88a6",
   "metadata": {},
   "source": [
    "## 2. Model"
   ]
  },
  {
   "cell_type": "markdown",
   "id": "8d6ede1d-2cdf-4c81-9f56-e4745ae59e6c",
   "metadata": {},
   "source": [
    "### 2.1 Load Model"
   ]
  },
  {
   "cell_type": "code",
   "execution_count": 10,
   "id": "04cf6693-e1bf-42f2-8f96-9ea79fb7ebde",
   "metadata": {},
   "outputs": [
    {
     "data": {
      "text/plain": [
       "'../artifacts/nanostring_cosmx_human_nsclc/models/reference_query_mapping/03092023_001459_4'"
      ]
     },
     "execution_count": 10,
     "metadata": {},
     "output_type": "execute_result"
    }
   ],
   "source": [
    "model_folder_path"
   ]
  },
  {
   "cell_type": "code",
   "execution_count": null,
   "id": "3dad2ca6-7e34-48bc-89ef-4f994389a0f1",
   "metadata": {
    "tags": []
   },
   "outputs": [],
   "source": [
    "model = NicheCompass.load(dir_path=model_folder_path,\n",
    "                          adata=None,\n",
    "                          adata_file_name=f\"{dataset}_{model_label}.h5ad\",\n",
    "                          gp_names_key=gp_names_key)"
   ]
  },
  {
   "cell_type": "code",
   "execution_count": null,
   "id": "dd604f4a-1ad4-4ba9-ab9f-56f2977af9d9",
   "metadata": {},
   "outputs": [],
   "source": [
    "model = NicheCompass.load(dir_path=model_folder_path,\n",
    "                          adata=None,\n",
    "                          adata_file_name=f\"{dataset}_{model_label}_postprocessed.h5ad\",\n",
    "                          gp_names_key=gp_names_key)"
   ]
  },
  {
   "cell_type": "code",
   "execution_count": null,
   "id": "7f625913-a65f-457b-991a-3821acea3591",
   "metadata": {},
   "outputs": [],
   "source": [
    "samples = model.adata.obs[sample_key].unique().tolist()"
   ]
  },
  {
   "cell_type": "code",
   "execution_count": null,
   "id": "376e761e-2101-4d1f-958f-5ad483b6f0f1",
   "metadata": {},
   "outputs": [],
   "source": [
    "model.adata"
   ]
  },
  {
   "cell_type": "markdown",
   "id": "6e416a66-4cd0-4923-a077-9783f40d4c42",
   "metadata": {},
   "source": [
    "## 3. Compute Leiden clusters"
   ]
  },
  {
   "cell_type": "code",
   "execution_count": null,
   "id": "0fa66a02-e787-4477-8a2a-833264639d31",
   "metadata": {},
   "outputs": [],
   "source": [
    "sc.tl.leiden(adata=model.adata,\n",
    "             resolution=latent_leiden_resolution,\n",
    "             key_added=latent_cluster_key,\n",
    "             neighbors_key=latent_key)"
   ]
  },
  {
   "cell_type": "code",
   "execution_count": null,
   "id": "6ee61eb9-262a-4579-bf8f-1e25d180c109",
   "metadata": {},
   "outputs": [],
   "source": [
    "model.adata"
   ]
  },
  {
   "cell_type": "code",
   "execution_count": null,
   "id": "50160ba0-b7b8-4ba7-8c74-166db5e7ebfa",
   "metadata": {},
   "outputs": [],
   "source": [
    "model.adata.obs.to_csv(f\"{model_folder_path}/{dataset}_{model_label}_leiden.csv\")"
   ]
  },
  {
   "cell_type": "code",
   "execution_count": null,
   "id": "78954061-c016-489a-98db-1c189828d7d3",
   "metadata": {},
   "outputs": [],
   "source": [
    "rcParams['figure.figsize']=(6,4)\n",
    "sc.pl.umap(model.adata, color=['mapping_entity','latent_leiden_0.5','cell_type_original','batch','cell_type','niche'], ncols=3, wspace=0.5)"
   ]
  },
  {
   "cell_type": "markdown",
   "id": "2627b220-aeb9-4290-937b-5d742268472d",
   "metadata": {},
   "source": [
    "## 4. Get GPs"
   ]
  },
  {
   "cell_type": "code",
   "execution_count": null,
   "id": "8fc40859-6a4a-4bfa-8362-d28d4c1c2057",
   "metadata": {
    "tags": []
   },
   "outputs": [],
   "source": [
    "# Check number of active gene programs\n",
    "model.adata.uns[active_gp_names_key] = model.get_active_gps()\n",
    "print(f\"Number of total gene programs: {len(model.adata.uns[gp_names_key])}\")\n",
    "print(f\"Number of active gene programs: {len(model.adata.uns[active_gp_names_key])}\")"
   ]
  },
  {
   "cell_type": "code",
   "execution_count": null,
   "id": "85cb0edb-1eb6-48b5-b56c-079501cb697d",
   "metadata": {
    "tags": []
   },
   "outputs": [],
   "source": [
    "gp_summary_df = model.get_gp_summary()\n",
    "gp_summary_df.to_csv(f\"{model_folder_path}/{dataset}_{model_label}_gp_summary.csv\")\n",
    "gp_summary_df[gp_summary_df[\"gp_active\"]][0:5]"
   ]
  },
  {
   "cell_type": "code",
   "execution_count": null,
   "id": "5170a527-58ea-42b0-859b-b582c69d7d14",
   "metadata": {},
   "outputs": [],
   "source": [
    "model.add_active_gp_scores_to_obs()"
   ]
  },
  {
   "cell_type": "code",
   "execution_count": null,
   "id": "dd43e3e3-200b-4aa5-9867-c0e0195435c1",
   "metadata": {},
   "outputs": [],
   "source": [
    "model.adata.write(f\"{model_folder_path}/{dataset}_{model_label}_postprocessed.h5ad\")"
   ]
  },
  {
   "cell_type": "code",
   "execution_count": null,
   "id": "318505e2-8f87-4116-adc0-667940d74a29",
   "metadata": {},
   "outputs": [],
   "source": [
    "gc.collect()"
   ]
  },
  {
   "cell_type": "markdown",
   "id": "7f662f73-455e-46c2-bc4b-ec25fb2f1d2b",
   "metadata": {},
   "source": [
    "## 4. Differntial GPs"
   ]
  },
  {
   "cell_type": "code",
   "execution_count": 11,
   "id": "c66926ef-683f-464b-9be0-d94f821b8e22",
   "metadata": {},
   "outputs": [
    {
     "name": "stdout",
     "output_type": "stream",
     "text": [
      "--- INITIALIZING NEW NETWORK MODULE: VARIATIONAL GENE PROGRAM GRAPH AUTOENCODER ---\n",
      "LOSS -> include_edge_recon_loss: True, include_gene_expr_recon_loss: True, rna_recon_loss: nb\n",
      "NODE LABEL METHOD -> one-hop-norm\n",
      "ACTIVE GP THRESHOLD RATIO -> 0.03\n",
      "LOG VARIATIONAL -> True\n",
      "CATEGORICAL COVARIATES EMBEDDINGS INJECTION -> ['gene_expr_decoder']\n",
      "ONE HOP GCN NORM RNA NODE LABEL AGGREGATOR\n",
      "ENCODER -> n_input: 960, n_cat_covariates_embed_input: 0, n_hidden: 960, n_latent: 1494, n_addon_latent: 100, n_fc_layers: 1, n_layers: 1, conv_layer: gatv2conv, n_attention_heads: 4, dropout_rate: 0.0, use_bn: False\n",
      "COSINE SIM GRAPH DECODER -> dropout_rate: 0.0\n",
      "MASKED TARGET RNA DECODER -> n_prior_gp_input: 1494, n_addon_gp_input: 100, n_cat_covariates_embed_input: 38, n_output: 960\n",
      "MASKED SOURCE RNA DECODER -> n_prior_gp_input: 1494, n_addon_gp_input: 100, n_cat_covariates_embed_input: 38, n_output: 960\n"
     ]
    },
    {
     "data": {
      "text/plain": [
       "77416"
      ]
     },
     "execution_count": 11,
     "metadata": {},
     "output_type": "execute_result"
    }
   ],
   "source": [
    "model = NicheCompass.load(dir_path=model_folder_path,\n",
    "                          adata=None,\n",
    "                          adata_file_name=f\"{dataset}_{model_label}_postprocessed.h5ad\",\n",
    "                          gp_names_key=gp_names_key)\n",
    "gc.collect()"
   ]
  },
  {
   "cell_type": "code",
   "execution_count": null,
   "id": "07fe5612-3ae6-4212-9373-039e4f8ab84f",
   "metadata": {},
   "outputs": [
    {
     "name": "stdout",
     "output_type": "stream",
     "text": [
      "tumor_clusters\n",
      "2\n",
      "4\n",
      "5\n",
      "9\n"
     ]
    }
   ],
   "source": [
    "compare = {\n",
    "    'tumor_clusters': ['2','4','5','9','10','11','12'],\n",
    "    'stroma_clusters': ['0','1','13','14'],\n",
    "    'neutrophil_clusters': ['6','8'],\n",
    "    'macrophage_clusters': ['7','15','13']\n",
    "}\n",
    "res = {}\n",
    "# Run differential gp testing\n",
    "log_bayes_factor_thresh = 2.3 # 2.3 strong threshold; 4.6 decisive threshold (https://en.wikipedia.org/wiki/Bayes_factor)\n",
    "\n",
    "for structure, clusters in compare.items():\n",
    "    print(structure)\n",
    "    for cl in clusters:\n",
    "        print(cl)\n",
    "        enriched_gps = model.run_differential_gp_tests(\n",
    "            cat_key=latent_cluster_key,\n",
    "            selected_cats = [cl],\n",
    "            comparison_cats=[x for x in clusters if x != cl],\n",
    "            log_bayes_factor_thresh=log_bayes_factor_thresh)\n",
    "        res[f'{structure}_{cl}'] = model.adata.uns['nichecompass_differential_gp_test_results'][model.adata.uns['nichecompass_differential_gp_test_results']['p_h1']<0.05]\n",
    "        res[f'{structure}_{cl}'].to_csv(f'../artifacts/nanostring_cosmx_human_nsclc/results/reference_query_mapping/03092023_001459_4/gpTest_{structure}_{cl}.csv')"
   ]
  },
  {
   "cell_type": "code",
   "execution_count": null,
   "id": "23953693-e675-405a-b78e-1abf78e4537e",
   "metadata": {},
   "outputs": [],
   "source": [
    "selected_cats = None\n",
    "log_bayes_factor_thresh = 2.3 # 2.3 strong threshold; 4.6 decisive threshold (https://en.wikipedia.org/wiki/Bayes_factor)\n",
    "title = f\"NicheCompass Latent Cluster Enriched Gene Programs Log Bayes Factor {log_bayes_factor_thresh}\"\n",
    "save_fig = True\n",
    "file_path = f\"{figure_folder_path}/res_{latent_leiden_resolution}_\" \\\n",
    "            f\"latent_clusters_all_vs_rest_log_bayes_factor_\" \\\n",
    "            f\"{log_bayes_factor_thresh}_enriched_gps_heatmap.pdf\"\n",
    "\n",
    "# Run differential gp testing\n",
    "enriched_gps = model.run_differential_gp_tests(\n",
    "    cat_key=latent_cluster_key,\n",
    "    selected_cats=selected_cats,\n",
    "    comparison_cats=\"rest\",\n",
    "    log_bayes_factor_thresh=log_bayes_factor_thresh)"
   ]
  },
  {
   "cell_type": "code",
   "execution_count": null,
   "id": "e9283dfd-9fbc-44be-b129-44dc39db9739",
   "metadata": {},
   "outputs": [],
   "source": [
    "# Plot heatmap of enriched gps\n",
    "ax = sc.pl.heatmap(model.adata,\n",
    "                    enriched_gps,\n",
    "                    show_gene_labels=True,\n",
    "                    groupby=latent_cluster_key,\n",
    "                    dendrogram=True,\n",
    "                    swap_axes=True,\n",
    "                    figsize=(model.adata.obs[latent_cluster_key].nunique() * 1.5,\n",
    "                             len(enriched_gps) / 2),\n",
    "                    save=save_fig)\n",
    "if save_fig:\n",
    "    shutil.move(\"figures/heatmap.pdf\", file_path)\n",
    "    os.rmdir(\"figures\")"
   ]
  },
  {
   "cell_type": "code",
   "execution_count": null,
   "id": "5e525696-bedb-4fc0-8ab7-bd588b6e5c40",
   "metadata": {},
   "outputs": [],
   "source": [
    "save_file = True\n",
    "file_path = f\"{figure_folder_path}/res_{latent_leiden_resolution}_\" \\\n",
    "            f\"latent_clusters_all_vs_rest_log_bayes_factor_\" \\\n",
    "            f\"{log_bayes_factor_thresh}_enriched_gps_summary.csv\"\n",
    "\n",
    "gp_summary_cols = [\"gp_name\",\n",
    "                   \"n_source_genes\",\n",
    "                   \"n_non_zero_source_genes\",\n",
    "                   \"n_target_genes\",\n",
    "                   \"n_non_zero_target_genes\",\n",
    "                   \"gp_source_genes\",\n",
    "                   \"gp_target_genes\",\n",
    "                   \"gp_source_genes_weights\",\n",
    "                   \"gp_target_genes_weights\",\n",
    "                   \"gp_source_genes_importances\",\n",
    "                   \"gp_target_genes_importances\"]\n",
    "if multimodal:\n",
    "    gp_summary_cols = gp_summary_cols + [\n",
    "        \"n_source_peaks\",\n",
    "        \"n_target_peaks\",\n",
    "        \"gp_source_peaks\",\n",
    "        \"gp_target_peaks\",\n",
    "        \"gp_source_peaks_weights\",\n",
    "        \"gp_target_peaks_weights\",\n",
    "        \"gp_source_peaks_importances\",\n",
    "        \"gp_target_peaks_importances\"]\n",
    "\n",
    "# Get summary of decisively enriched gene programs\n",
    "enriched_gp_summary_df = gp_summary_df[gp_summary_df[\"gp_name\"].isin(enriched_gps)]\n",
    "cat_dtype = pd.CategoricalDtype(categories=enriched_gps, ordered=True)\n",
    "enriched_gp_summary_df[\"gp_name\"] = enriched_gp_summary_df[\"gp_name\"].astype(cat_dtype)\n",
    "enriched_gp_summary_df = enriched_gp_summary_df.sort_values(by=\"gp_name\")\n",
    "enriched_gp_summary_df = enriched_gp_summary_df[gp_summary_cols]\n",
    "\n",
    "if save_file:\n",
    "    enriched_gp_summary_df.to_csv(f\"{file_path}\")\n",
    "else:\n",
    "    display(enriched_gp_summary_df)"
   ]
  },
  {
   "cell_type": "code",
   "execution_count": null,
   "id": "4bea3971-7c05-4bcd-a3ea-605cc43429d3",
   "metadata": {},
   "outputs": [],
   "source": [
    "save_figs = True\n",
    "\n",
    "for i in np.arange(0, len(enriched_gps), 10):\n",
    "    plot_label = f\"res_{latent_leiden_resolution}_\" \\\n",
    "                 f\"latent_clusters_all_vs_rest_log_bayes_factor_\" \\\n",
    "                 f\"{log_bayes_factor_thresh}\"\n",
    "\n",
    "    generate_enriched_gp_info_plots(\n",
    "        plot_label=plot_label,\n",
    "        model=model,\n",
    "        sample_key=sample_key,\n",
    "        differential_gp_test_results_key=differential_gp_test_results_key,\n",
    "        cat_key=latent_cluster_key,\n",
    "        cat_palette=latent_cluster_colors,\n",
    "        n_top_enriched_gp_start_idx=i,\n",
    "        n_top_enriched_gp_end_idx=i+10,\n",
    "        feature_spaces=samples, # [\"latent\"]\n",
    "        n_top_genes_per_gp=5,\n",
    "        n_top_peaks_per_gp=(0 if not multimodal else 5),\n",
    "        scale_omics_ft=False,\n",
    "        save_figs=save_figs,\n",
    "        figure_folder_path=f\"{figure_folder_path}/\",\n",
    "        spot_size=spot_size)\n",
    "    \n",
    "    gc.collect()"
   ]
  },
  {
   "cell_type": "code",
   "execution_count": null,
   "id": "a2b18fcb-4378-4edd-a5a7-1b89d930e8c2",
   "metadata": {},
   "outputs": [],
   "source": [
    "model.adata.uns['nichecompass_differential_gp_test_results'][model.adata.uns['nichecompass_differential_gp_test_results']['p_h1']<0.05]"
   ]
  },
  {
   "cell_type": "code",
   "execution_count": null,
   "id": "c3a0ec22-1b63-4510-a95a-8b47fe07d002",
   "metadata": {},
   "outputs": [],
   "source": [
    "# Run differential gp testing\n",
    "log_bayes_factor_thresh = 2.3 # 2.3 strong threshold; 4.6 decisive threshold (https://en.wikipedia.org/wiki/Bayes_factor)\n",
    "\n",
    "enriched_gps = model.run_differential_gp_tests(\n",
    "    cat_key=latent_cluster_key,\n",
    "    selected_cats = [\"10\"],\n",
    "    comparison_cats=[\"4\",\"5\",\"9\"],\n",
    "    log_bayes_factor_thresh=log_bayes_factor_thresh)"
   ]
  },
  {
   "cell_type": "code",
   "execution_count": null,
   "id": "e9ab8833-4ac9-4c01-a146-4d102d9a6c4e",
   "metadata": {},
   "outputs": [],
   "source": [
    "model.adata.uns['nichecompass_differential_gp_test_results'][model.adata.uns['nichecompass_differential_gp_test_results']['p_h1']<0.05]"
   ]
  },
  {
   "cell_type": "code",
   "execution_count": null,
   "id": "674ba094-c552-4544-89f3-591169ba74ef",
   "metadata": {},
   "outputs": [],
   "source": [
    "plot_latent(model.adata, color_by='SPP1_ligand_receptor_GP', dataset_label='', color_palette='RdBu_r',save_fig=False, file_path='here', groups=latent_cluster_key)"
   ]
  },
  {
   "cell_type": "code",
   "execution_count": null,
   "id": "12867adb-7ed9-43a9-94e1-8d207781503a",
   "metadata": {},
   "outputs": [],
   "source": [
    "adata=model.adata,\n",
    "        plot_label=\"Mapping Entities\",\n",
    "        cat_key=mapping_entity_key,\n",
    "        groups=None,\n",
    "        sample_key=sample_key,\n",
    "        samples=samples,\n",
    "        cat_colors=mapping_entity_colors,\n",
    "        size=(720000 / len(model.adata)),\n",
    "        spot_size=spot_size,\n",
    "        save_fig=save_fig,\n",
    "        file_path=file_path)"
   ]
  },
  {
   "cell_type": "code",
   "execution_count": null,
   "id": "49ede67f-9c9c-4ba2-9909-20130463d05c",
   "metadata": {},
   "outputs": [],
   "source": [
    "# Run differential gp testing\n",
    "log_bayes_factor_thresh = 2.3 # 2.3 strong threshold; 4.6 decisive threshold (https://en.wikipedia.org/wiki/Bayes_factor)\n",
    "\n",
    "enriched_gps = model.run_differential_gp_tests(\n",
    "    cat_key=latent_cluster_key,\n",
    "    selected_cats = [\"10\"],\n",
    "    comparison_cats=[\"4\",\"5\",\"9\"],\n",
    "    log_bayes_factor_thresh=log_bayes_factor_thresh)"
   ]
  },
  {
   "cell_type": "code",
   "execution_count": null,
   "id": "7293583d-adaf-402d-a60b-0cfdde87b2bb",
   "metadata": {},
   "outputs": [],
   "source": [
    "# Run differential gp testing\n",
    "log_bayes_factor_thresh = 2.3 # 2.3 strong threshold; 4.6 decisive threshold (https://en.wikipedia.org/wiki/Bayes_factor)\n",
    "\n",
    "enriched_gps = model.run_differential_gp_tests(\n",
    "    cat_key=latent_cluster_key,\n",
    "    selected_cats = [\"10\"],\n",
    "    comparison_cats=[\"4\",\"5\",\"9\"],\n",
    "    log_bayes_factor_thresh=log_bayes_factor_thresh)"
   ]
  },
  {
   "cell_type": "code",
   "execution_count": null,
   "id": "efcc5e38-bc0c-4958-adeb-b7afe3a0886a",
   "metadata": {},
   "outputs": [],
   "source": [
    "# Load trained model\n",
    "# model = NicheCompass.load(dir_path=model_folder_path,\n",
    "#                           adata=None,\n",
    "#                           adata_file_name=f\"{dataset}_{model_label}_postprocessed.h5ad\",\n",
    "#                           gp_names_key=gp_names_key)"
   ]
  }
 ],
 "metadata": {
  "kernelspec": {
   "display_name": "Python 3 (ipykernel)",
   "language": "python",
   "name": "python3"
  },
  "language_info": {
   "codemirror_mode": {
    "name": "ipython",
    "version": 3
   },
   "file_extension": ".py",
   "mimetype": "text/x-python",
   "name": "python",
   "nbconvert_exporter": "python",
   "pygments_lexer": "ipython3",
   "version": "3.9.18"
  },
  "toc-autonumbering": false,
  "toc-showcode": false,
  "toc-showmarkdowntxt": false
 },
 "nbformat": 4,
 "nbformat_minor": 5
}
