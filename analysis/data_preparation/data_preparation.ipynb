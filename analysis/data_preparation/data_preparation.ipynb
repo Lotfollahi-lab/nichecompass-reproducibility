{
 "cells": [
  {
   "cell_type": "markdown",
   "id": "1b1daabf-c8e3-43d4-aa32-9789abcc8619",
   "metadata": {},
   "source": [
    "# Data Preparation"
   ]
  },
  {
   "cell_type": "markdown",
   "id": "c325d921-2077-42b3-90a8-6f6c7dd928c5",
   "metadata": {},
   "source": [
    "- **Creator**: Sebastian Birk (<sebastian.birk@helmholtz-munich.de>)\n",
    "- **Date of Creation:** 01.10.2022\n",
    "- **Date of Last Modification:** 29.01.2025 (Sebastian Birk; <sebastian.birk@helmholtz-munich.de>)"
   ]
  },
  {
   "cell_type": "markdown",
   "id": "e7ac8dfb-a741-416d-b3b7-954db8eebb79",
   "metadata": {},
   "source": [
    "- Run this notebook in the nichecompass-reproducibility environment, installable from ```('../../envs/environment.yaml')```."
   ]
  },
  {
   "cell_type": "markdown",
   "id": "2d464ebf-354f-4f61-8040-c3dcbcc893b9",
   "metadata": {},
   "source": [
    "## 1. Setup"
   ]
  },
  {
   "cell_type": "markdown",
   "id": "d5631277-d8d2-4194-a376-280f4f149b7d",
   "metadata": {},
   "source": [
    "### 1.1 Import Libraries"
   ]
  },
  {
   "cell_type": "code",
   "execution_count": null,
   "id": "b4aa3c6a-5a44-4cf1-84a3-5e514457cf3c",
   "metadata": {
    "tags": []
   },
   "outputs": [],
   "source": [
    "import gc\n",
    "import os\n",
    "import warnings\n",
    "from copy import deepcopy\n",
    "\n",
    "import anndata as ad\n",
    "import matplotlib.pyplot as plt\n",
    "import numpy as np\n",
    "import pandas as pd\n",
    "import scanpy as sc\n",
    "import scipy.sparse as sp\n",
    "import seaborn as sns\n",
    "import squidpy as sq\n",
    "import tiledb\n",
    "import tiledbsoma\n",
    "from sklearn.preprocessing import LabelEncoder"
   ]
  },
  {
   "cell_type": "markdown",
   "id": "3cea7a24-26b2-42f2-b838-06184da69605",
   "metadata": {},
   "source": [
    "### 1.2 Run Notebook Setup"
   ]
  },
  {
   "cell_type": "code",
   "execution_count": null,
   "id": "f028fef3-abc1-483d-b29a-deb9674bcad1",
   "metadata": {
    "tags": []
   },
   "outputs": [],
   "source": [
    "warnings.filterwarnings(\"ignore\")\n",
    "pd.set_option('display.max_columns', None)"
   ]
  },
  {
   "cell_type": "markdown",
   "id": "2b886225-6b6d-433c-b117-47b9a8f8091f",
   "metadata": {},
   "source": [
    "### 1.3 Configure Paths and Create Directories"
   ]
  },
  {
   "cell_type": "code",
   "execution_count": null,
   "id": "36675337-808d-40a9-93fc-d6cfa9473f66",
   "metadata": {
    "tags": []
   },
   "outputs": [],
   "source": [
    "# Define paths\n",
    "st_data_folder_path = \"../../datasets/st_data\" # spatially resolved transcriptomics data\n",
    "st_data_bronze_folder_path = f\"{st_data_folder_path}/bronze\"\n",
    "st_data_silver_folder_path = f\"{st_data_folder_path}/silver\"\n",
    "st_data_gold_folder_path = f\"{st_data_folder_path}/gold\"\n",
    "\n",
    "# Create required directories\n",
    "os.makedirs(st_data_bronze_folder_path, exist_ok=True)\n",
    "os.makedirs(st_data_silver_folder_path, exist_ok=True)\n",
    "os.makedirs(st_data_gold_folder_path, exist_ok=True)"
   ]
  },
  {
   "cell_type": "markdown",
   "id": "fd883193-8aa9-4809-aeac-cacb478df22b",
   "metadata": {
    "tags": []
   },
   "source": [
    "## 2. Manuscript Data"
   ]
  },
  {
   "cell_type": "markdown",
   "id": "c4a459db-03da-47cf-9b79-a39dc78dc61a",
   "metadata": {},
   "source": [
    "This sections contains all datasets used for the manuscript."
   ]
  },
  {
   "cell_type": "markdown",
   "id": "049f6853-5dc1-4b68-9240-c4b6a00f1514",
   "metadata": {},
   "source": [
    "### 2.1 seqFISH Mouse Organogenesis"
   ]
  },
  {
   "cell_type": "markdown",
   "id": "aba6be87-ec43-4e56-b4b5-4fe2b45f19e1",
   "metadata": {},
   "source": [
    "- **Publication:** Lohoff, T. et al. Integration of spatial and single-cell transcriptomic data elucidates mouse organogenesis. Nat. Biotechnol. 40, 74–85 (2022): https://www.nature.com/articles/s41587-021-01006-2.\n",
    "- **Data Access:** https://marionilab.cruk.cam.ac.uk/SpatialMouseAtlas/\n",
    "- **Data Structure:**\n",
    "    - ```\n",
    "         ├── ../datasets/st_data/bronze/seqfish_mouse_organogenesis  \n",
    "         │  ├── metadata.Rds (metadata)\n",
    "         │  ├── counts.Rds (raw counts)\n",
    "         │  ├── exprs.Rds (log normalized counts)\n",
    "         │  ├── imputed.h5 (imputed gene expression)\n",
    "         │  ├── imputed_row_names.Rds (row names of imputed gene expression)\n",
    "         │  ├── imputed_column_names.Rds (column names of imputed gene expression)\n",
    "         ├── ../datasets/st_data/silver\n",
    "         │  ├── seqfish_mouse_organogenesis.h5ad (preprocessed gene expression)\n",
    "         │  ├── seqfish_mouse_organogenesis_imputed.h5ad (preprocessed imputed gene expression)\n",
    "      ```\n",
    "- **Summary:**\n",
    "    - Sagittal tissue sections of three 8-12 somite stage mouse embryos\n",
    "        - Two sections per embryo that can be combined horizontally to get three samples, one for each embryo\n",
    "    - 19,451 observations (embryo 1), 14,891 observations (embryo 2) and 23,194 observations (embryo 3) on cell-level with cell-type annotations\n",
    "    - 351 probed genes\n",
    "    - Dataset is also available with imputed genes based on scRNA-seq"
   ]
  },
  {
   "cell_type": "code",
   "execution_count": null,
   "id": "1c00df1b-c23e-4f56-8513-55b5c0b5b104",
   "metadata": {
    "tags": []
   },
   "outputs": [],
   "source": [
    "dataset = \"seqfish_mouse_organogenesis\"\n",
    "cell_type_key = \"celltype_mapped_refined\""
   ]
  },
  {
   "cell_type": "markdown",
   "id": "1e290463-4e20-40cb-9245-cdb3b089cad3",
   "metadata": {},
   "source": [
    "#### 2.1.1 Load & Preprocess Raw Data"
   ]
  },
  {
   "cell_type": "markdown",
   "id": "f9dbeda2-8d82-4b1d-bfab-c2ef698d9aaa",
   "metadata": {},
   "source": [
    "##### 2.1.1.1 Spatial Transcriptomics Data"
   ]
  },
  {
   "cell_type": "markdown",
   "id": "3a5a2a87-dbe6-4bd7-82ca-32f9a29189b4",
   "metadata": {},
   "source": [
    "Preprocessing is done with ```../scripts/data_preparation/seqfish_mouse_organogenesis_data_preparation.R``` and preprocessed version is stored under ```../datasets/st_data/silver/seqfish_mouse_organogenesis.h5ad```."
   ]
  },
  {
   "cell_type": "code",
   "execution_count": null,
   "id": "ac246328-5be6-4c04-a3bf-8ccce8315856",
   "metadata": {
    "tags": []
   },
   "outputs": [],
   "source": [
    "# Read preprocessed data\n",
    "adata = sc.read_h5ad(f\"{st_data_silver_folder_path}/{dataset}.h5ad\")\n",
    "\n",
    "print(f\"Step 1: Number of cells: {len(adata)}\")\n",
    "print(f\"Step 1: Number of genes: {len(adata.var_names)}\")\n",
    "# Filter low quality cells\n",
    "adata = adata[adata.obs[\"celltype_mapped_refined\"] != \"Low quality\"]\n",
    "print(f\"Step 2: Number of cells: {len(adata)}\")\n",
    "\n",
    "# Format adata\n",
    "adata.obsm[\"spatial\"] = np.column_stack((adata.obs.x, adata.obs.y))\n",
    "adata.obs.drop([\"x\", \"y\"], axis=1, inplace=True)\n",
    "adata.X = adata.X.astype(np.float32)\n",
    "adata.layers[\"counts\"] = adata.layers[\"counts\"].astype(np.float32)\n",
    "\n",
    "# Add sample & batch columns\n",
    "adata.obs.loc[adata.obs.index.str.contains(\"embryo1\"), \"sample\"] = \"embryo1\"\n",
    "adata.obs.loc[adata.obs.index.str.contains(\"embryo2\"), \"sample\"] = \"embryo2\"\n",
    "adata.obs.loc[adata.obs.index.str.contains(\"embryo3\"), \"sample\"] = \"embryo3\"\n",
    "\n",
    "adata.obs.loc[adata.obs.index.str.startswith(\"embryo1\") &\n",
    "              adata.obs.index.str.endswith(\"z2\"), \"batch\"] = \"embryo1_z2\"\n",
    "adata.obs.loc[adata.obs.index.str.startswith(\"embryo1\") &\n",
    "              adata.obs.index.str.endswith(\"z5\"), \"batch\"] = \"embryo1_z5\"\n",
    "adata.obs.loc[adata.obs.index.str.startswith(\"embryo2\") &\n",
    "              adata.obs.index.str.endswith(\"z2\"), \"batch\"] = \"embryo2_z2\"\n",
    "adata.obs.loc[adata.obs.index.str.startswith(\"embryo2\") &\n",
    "              adata.obs.index.str.endswith(\"z5\"), \"batch\"] = \"embryo2_z5\"\n",
    "adata.obs.loc[adata.obs.index.str.startswith(\"embryo3\") &\n",
    "              adata.obs.index.str.endswith(\"z2\"), \"batch\"] = \"embryo3_z2\"\n",
    "adata.obs.loc[adata.obs.index.str.startswith(\"embryo3\") &\n",
    "              adata.obs.index.str.endswith(\"z5\"), \"batch\"] = \"embryo3_z5\"\n",
    "\n",
    "# Write adata to disk separated by batches\n",
    "batch_indeces = list(np.arange(6) + 1)\n",
    "batches = [\"embryo1_z2\",\n",
    "           \"embryo1_z5\",\n",
    "           \"embryo2_z2\",\n",
    "           \"embryo2_z5\",\n",
    "           \"embryo3_z2\",\n",
    "           \"embryo3_z5\"]\n",
    "\n",
    "for batch_idx, batch in zip(batch_indeces, batches):\n",
    "    adata_batch = adata[adata.obs[\"batch\"] == batch]\n",
    "    adata_batch.write(f\"{st_data_gold_folder_path}/{dataset}_batch{batch_idx}.h5ad\")\n",
    "    \n",
    "# Create adata for embryo 2 for single sample method benchmarking\n",
    "adata_embryo2 = adata[adata.obs[\"sample\"] == \"embryo2\"]\n",
    "adata_embryo2.write(f\"{st_data_gold_folder_path}/{dataset}_embryo2.h5ad\")"
   ]
  },
  {
   "cell_type": "markdown",
   "id": "cd81225a-1aca-428f-a7f0-3059d2771c67",
   "metadata": {},
   "source": [
    "##### 2.1.1.2 Spatial Transcriptomics Data Subsamples"
   ]
  },
  {
   "cell_type": "code",
   "execution_count": null,
   "id": "e56e3bd2-bce1-4647-9418-016d724f804e",
   "metadata": {},
   "outputs": [],
   "source": [
    "# Create subsamples of all batches for method benchmarking\n",
    "for subsample_pct in [50, 25, 10, 5, 1]:\n",
    "    # Read preprocessed data\n",
    "    adata = sc.read_h5ad(f\"{st_data_silver_folder_path}/{dataset}.h5ad\")\n",
    "\n",
    "    # Filter low quality cells\n",
    "    adata = adata[adata.obs[\"celltype_mapped_refined\"] != \"Low quality\"]\n",
    "\n",
    "    # Format adata\n",
    "    adata.obsm[\"spatial\"] = np.column_stack((adata.obs.x, adata.obs.y))\n",
    "    adata.obs.drop([\"x\", \"y\"], axis=1, inplace=True)\n",
    "    adata.X = adata.X.astype(np.float32)\n",
    "    adata.layers[\"counts\"] = adata.layers[\"counts\"].astype(np.float32)\n",
    "\n",
    "    # Add sample & batch columns\n",
    "    adata.obs.loc[adata.obs.index.str.contains(\"embryo1\"), \"sample\"] = \"embryo1\"\n",
    "    adata.obs.loc[adata.obs.index.str.contains(\"embryo2\"), \"sample\"] = \"embryo2\"\n",
    "    adata.obs.loc[adata.obs.index.str.contains(\"embryo3\"), \"sample\"] = \"embryo3\"\n",
    "\n",
    "    adata.obs.loc[adata.obs.index.str.startswith(\"embryo1\") &\n",
    "                  adata.obs.index.str.endswith(\"z2\"), \"batch\"] = \"embryo1_z2\"\n",
    "    adata.obs.loc[adata.obs.index.str.startswith(\"embryo1\") &\n",
    "                  adata.obs.index.str.endswith(\"z5\"), \"batch\"] = \"embryo1_z5\"\n",
    "    adata.obs.loc[adata.obs.index.str.startswith(\"embryo2\") &\n",
    "                  adata.obs.index.str.endswith(\"z2\"), \"batch\"] = \"embryo2_z2\"\n",
    "    adata.obs.loc[adata.obs.index.str.startswith(\"embryo2\") &\n",
    "                  adata.obs.index.str.endswith(\"z5\"), \"batch\"] = \"embryo2_z5\"\n",
    "    adata.obs.loc[adata.obs.index.str.startswith(\"embryo3\") &\n",
    "                  adata.obs.index.str.endswith(\"z2\"), \"batch\"] = \"embryo3_z2\"\n",
    "    adata.obs.loc[adata.obs.index.str.startswith(\"embryo3\") &\n",
    "                  adata.obs.index.str.endswith(\"z5\"), \"batch\"] = \"embryo3_z5\"\n",
    "\n",
    "    # Write adata to disk separated by batches\n",
    "    batch_indeces = list(np.arange(6) + 1)\n",
    "    batches = [\"embryo1_z2\",\n",
    "               \"embryo1_z5\",\n",
    "               \"embryo2_z2\",\n",
    "               \"embryo2_z5\",\n",
    "               \"embryo3_z2\",\n",
    "               \"embryo3_z5\"]\n",
    "\n",
    "    for batch_idx, batch in zip(batch_indeces, batches):\n",
    "        adata_batch = adata[adata.obs[\"batch\"] == batch]\n",
    "        adata_batch = adata_batch[:int(subsample_pct/100 * len(adata_batch)),:]\n",
    "        adata_batch.write(f\"{st_data_gold_folder_path}/{dataset}_subsample_{subsample_pct}pct_batch{batch_idx}.h5ad\")\n",
    "        \n",
    "    # Create adata for embryo 2 for single sample method benchmarking\n",
    "    adata_embryo2 = adata[adata.obs[\"sample\"] == \"embryo2\"]\n",
    "    adata_embryo2 = adata_embryo2[:int(subsample_pct/100 * len(adata_embryo2)),:]\n",
    "    adata_embryo2.write(f\"{st_data_gold_folder_path}/{dataset}_subsample_{subsample_pct}pct_embryo2.h5ad\")"
   ]
  },
  {
   "cell_type": "markdown",
   "id": "af62a6b1-6c7c-4487-8fc8-06aaac0bd58d",
   "metadata": {},
   "source": [
    "##### 2.1.1.3 Imputed Data"
   ]
  },
  {
   "cell_type": "code",
   "execution_count": null,
   "id": "7357f47e-2dca-4005-a88a-b71a9fc7ccf3",
   "metadata": {},
   "outputs": [],
   "source": [
    "# Read preprocessed imputed adata\n",
    "adata_imputed = sc.read_h5ad(f\"{st_data_silver_folder_path}/{dataset}_imputed.h5ad\")\n",
    "\n",
    "print(f\"Step 1: Number of genes: {len(adata_imputed.var_names)}\")\n",
    "\n",
    "# Filter low quality cells\n",
    "adata_imputed = adata_imputed[adata_imputed.obs[\"celltype_mapped_refined\"] != \"Low quality\"]\n",
    "\n",
    "# Format imputed adata and reverse log normalization\n",
    "adata_imputed.obsm[\"spatial\"] = np.column_stack((adata_imputed.obs.x, adata_imputed.obs.y))\n",
    "adata_imputed.obs.drop([\"x\", \"y\"], axis=1, inplace=True)\n",
    "adata_imputed.X = sp.csr_matrix(np.round((np.exp(adata_imputed.X.toarray()) - 1)))\n",
    "adata_imputed.X = adata_imputed.X.astype(np.float32)\n",
    "adata_imputed.layers[\"counts\"] = adata_imputed.X \n",
    "\n",
    "# Filter genes with max log counts > 141, which was the maximum across all genes in the non-imputed dataset\n",
    "adata_imputed = adata_imputed[:, np.max(adata_imputed.layers[\"counts\"].toarray(), axis=0) < 141]\n",
    "                              \n",
    "# Add sample & batch columns\n",
    "adata_imputed.obs.loc[adata_imputed.obs.index.str.contains(\"embryo1\"), \"sample\"] = \"embryo1\"\n",
    "adata_imputed.obs.loc[adata_imputed.obs.index.str.contains(\"embryo2\"), \"sample\"] = \"embryo2\"\n",
    "adata_imputed.obs.loc[adata_imputed.obs.index.str.contains(\"embryo3\"), \"sample\"] = \"embryo3\"\n",
    "\n",
    "adata_imputed.obs.loc[adata_imputed.obs.index.str.startswith(\"embryo1\") &\n",
    "                      adata_imputed.obs.index.str.endswith(\"z2\"), \"batch\"] = \"embryo1_z2\"\n",
    "adata_imputed.obs.loc[adata_imputed.obs.index.str.startswith(\"embryo1\") &\n",
    "                      adata_imputed.obs.index.str.endswith(\"z5\"), \"batch\"] = \"embryo1_z5\"\n",
    "adata_imputed.obs.loc[adata_imputed.obs.index.str.startswith(\"embryo2\") &\n",
    "                      adata_imputed.obs.index.str.endswith(\"z2\"), \"batch\"] = \"embryo2_z2\"\n",
    "adata_imputed.obs.loc[adata_imputed.obs.index.str.startswith(\"embryo2\") &\n",
    "                      adata_imputed.obs.index.str.endswith(\"z5\"), \"batch\"] = \"embryo2_z5\"\n",
    "adata_imputed.obs.loc[adata_imputed.obs.index.str.startswith(\"embryo3\") &\n",
    "                      adata_imputed.obs.index.str.endswith(\"z2\"), \"batch\"] = \"embryo3_z2\"\n",
    "adata_imputed.obs.loc[adata_imputed.obs.index.str.startswith(\"embryo3\") &\n",
    "                      adata_imputed.obs.index.str.endswith(\"z5\"), \"batch\"] = \"embryo3_z5\"\n",
    "\n",
    "# Write adata to disk separated by batches\n",
    "batch_indeces = list(np.arange(6) + 1)\n",
    "batches = [\"embryo1_z2\",\n",
    "           \"embryo1_z5\",\n",
    "           \"embryo2_z2\",\n",
    "           \"embryo2_z5\",\n",
    "           \"embryo3_z2\",\n",
    "           \"embryo3_z5\"]\n",
    "\n",
    "for batch_idx, batch in zip(batch_indeces, batches):\n",
    "    adata_imputed_batch = adata_imputed[adata_imputed.obs[\"batch\"] == batch]\n",
    "    #adata_imputed_batch.write(f\"{st_data_gold_folder_path}/{dataset}_imputed_batch{batch_idx}.h5ad\")\n",
    "    \n",
    "# Create adata for embryo 2 for single sample method benchmarking\n",
    "adata_embryo2 = adata_imputed[adata_imputed.obs[\"sample\"] == \"embryo2\"]\n",
    "#adata_embryo2.write(f\"{st_data_gold_folder_path}/{dataset}_imputed_embryo2.h5ad\")"
   ]
  },
  {
   "cell_type": "markdown",
   "id": "6b573054-5ccf-4012-a849-f347c47c420a",
   "metadata": {},
   "source": [
    "##### 2.1.1.4 Imputed Data Subsamples"
   ]
  },
  {
   "cell_type": "code",
   "execution_count": null,
   "id": "d89d6095-3794-461d-a166-d25c5ad2930c",
   "metadata": {},
   "outputs": [],
   "source": [
    "batch_indeces = [1, 2, 3, 4, 5, 6]\n",
    "for subsample_pct in [50, 25, 10, 5, 1]:\n",
    "    for batch_idx in batch_indeces:\n",
    "        # Read preprocessed data\n",
    "        adata = sc.read_h5ad(f\"{st_data_gold_folder_path}/{dataset}_imputed_batch{batch_idx}.h5ad\")\n",
    "        adata = adata[:int(subsample_pct/100 * len(adata)),:].copy()\n",
    "        adata.write(f\"{st_data_gold_folder_path}/{dataset}_imputed_subsample_{subsample_pct}pct_batch{batch_idx}.h5ad\")"
   ]
  },
  {
   "cell_type": "markdown",
   "id": "0a9e1309-a0cc-4bbf-8bc3-3a4250bdc164",
   "metadata": {},
   "source": [
    "#### 2.1.2 Explore Data"
   ]
  },
  {
   "cell_type": "markdown",
   "id": "360b48a1-3c00-4316-835a-d0b132cca215",
   "metadata": {},
   "source": [
    "##### 2.1.2.1 Spatial Transcriptomics Data"
   ]
  },
  {
   "cell_type": "code",
   "execution_count": null,
   "id": "b0c4b10f-1fe8-4316-a33f-5ccac2b1371c",
   "metadata": {},
   "outputs": [],
   "source": [
    "batch_indeces = [1, 2, 3, 4, 5, 6]\n",
    "for batch_idx in batch_indeces:\n",
    "    adata = sc.read_h5ad(f\"{st_data_gold_folder_path}/{dataset}_batch{batch_idx}.h5ad\")\n",
    "    \n",
    "    print(f\"Exploring dataset {dataset}_batch{batch_idx}.\")\n",
    "    print(f\"Number of nodes (cells): {adata.X.shape[0]}\")\n",
    "    print(f\"Number of node features (genes): {adata.X.shape[1]}\")\n",
    "\n",
    "    # Visualize cell-level annotated data in physical space\n",
    "    sq.pl.spatial_scatter(adata, color=cell_type_key, shape=None, figsize=(12, 12))        "
   ]
  },
  {
   "cell_type": "markdown",
   "id": "81c18f22-c692-45a2-9848-d1ea14f1038f",
   "metadata": {},
   "source": [
    "##### 2.1.2.2 Spatial Transcriptomics Data Subsamples"
   ]
  },
  {
   "cell_type": "code",
   "execution_count": null,
   "id": "d8c47236-d454-40a1-b853-8117cef05872",
   "metadata": {},
   "outputs": [],
   "source": [
    "batch_indeces = [1, 2, 3, 4, 5, 6]\n",
    "for batch_idx in [1]:\n",
    "    for subsample_pct in [50, 25, 10, 5, 1]:\n",
    "        adata = sc.read_h5ad(f\"{st_data_gold_folder_path}/{dataset}_imputed_subsample_{subsample_pct}pct_embryo2.h5ad\")\n",
    "\n",
    "        print(f\"Exploring dataset {dataset}_batch{batch_idx}.\")\n",
    "        print(f\"Number of nodes (cells): {adata.X.shape[0]}\")\n",
    "        print(f\"Number of node features (genes): {adata.X.shape[1]}\")\n",
    "\n",
    "        # Visualize cell-level annotated data in physical space\n",
    "        sq.pl.spatial_scatter(adata, color=cell_type_key, shape=None, figsize=(12, 12))"
   ]
  },
  {
   "cell_type": "markdown",
   "id": "4db778ba-cf20-4023-9efe-7f47356da3be",
   "metadata": {},
   "source": [
    "##### 2.1.2.3 Imputed Data"
   ]
  },
  {
   "cell_type": "code",
   "execution_count": null,
   "id": "4aab388e-854b-4f2e-b062-a3cabd69dcbc",
   "metadata": {},
   "outputs": [],
   "source": [
    "batch_indeces = [1, 2, 3, 4, 5, 6]\n",
    "for batch_idx in batch_indeces:\n",
    "    adata_imputed = sc.read_h5ad(f\"{st_data_gold_folder_path}/{dataset}_imputed_batch{batch_idx}.h5ad\")\n",
    "    \n",
    "    print(f\"Exploring dataset {adata_imputed}_batch{batch_idx}.\")\n",
    "    print(f\"Number of nodes (cells): {adata_imputed.X.shape[0]}\")\n",
    "    print(f\"Number of node features (genes): {adata_imputed.X.shape[1]}\")\n",
    "\n",
    "    # Visualize cell-level annotated data in physical space\n",
    "    sq.pl.spatial_scatter(adata_imputed, color=cell_type_key, shape=None, figsize=(12, 12))        "
   ]
  },
  {
   "cell_type": "code",
   "execution_count": null,
   "id": "6c44637c-e0d7-4659-82bb-17e494ff7489",
   "metadata": {},
   "outputs": [],
   "source": [
    "adata = sc.read_h5ad(f\"{st_data_gold_folder_path}/{dataset}_imputed_embryo2.h5ad\")\n",
    "\n",
    "print(f\"Exploring dataset {dataset}_imputed_embryo2.\")\n",
    "print(f\"Number of nodes (cells): {adata.X.shape[0]}\")\n",
    "print(f\"Number of node features (genes): {adata.X.shape[1]}\")\n",
    "\n",
    "# Visualize cell-level annotated data in physical space\n",
    "sq.pl.spatial_scatter(adata, color=cell_type_key, shape=None, figsize=(12, 12))"
   ]
  },
  {
   "cell_type": "markdown",
   "id": "d38530bf-22b3-4503-9af9-4c4955c7a30c",
   "metadata": {},
   "source": [
    "##### 2.1.2.4 Imputed Data Subsamples"
   ]
  },
  {
   "cell_type": "code",
   "execution_count": null,
   "id": "1aff1c48-7b5f-4e41-8690-6813ec365d1a",
   "metadata": {},
   "outputs": [],
   "source": [
    "batch_indeces = [1, 2, 3, 4, 5, 6]\n",
    "for subsample_pct in [50, 25, 10, 5, 1]:\n",
    "    for batch_idx in batch_indeces:\n",
    "        adata = sc.read_h5ad(f\"{st_data_gold_folder_path}/{dataset}_imputed_subsample_{subsample_pct}pct_batch{batch_idx}.h5ad\")\n",
    "\n",
    "        print(f\"Exploring dataset {dataset}_imputed_embryo2.\")\n",
    "        print(f\"Number of nodes (cells): {adata.X.shape[0]}\")\n",
    "        print(f\"Number of node features (genes): {adata.X.shape[1]}\")\n",
    "\n",
    "        # Visualize cell-level annotated data in physical space\n",
    "        sq.pl.spatial_scatter(adata, color=cell_type_key, shape=None, figsize=(12, 12))"
   ]
  },
  {
   "cell_type": "markdown",
   "id": "5c3b1cd6-80c8-4049-b293-40b25414c0f9",
   "metadata": {},
   "source": [
    "### 2.2 Slide-seqV2 Mouse Hippocampus"
   ]
  },
  {
   "cell_type": "markdown",
   "id": "0a6347ff-f81f-402b-b671-480f3d2831e9",
   "metadata": {},
   "source": [
    "- **Publication**: Stickels, R. R. et al. Highly sensitive spatial transcriptomics at near-cellular resolution with Slide-seqV2. Nat. Biotechnol. 39, 313–319 (2021). [doi:10.1038/s41587-020-0739-1](https://doi.org/10.1038/s41587-020-0739-1)\n",
    "- **Data Access:** Preprocessed version from squidpy API (original source https://singlecell.broadinstitute.org/single_cell/study/SCP815/highly-sensitive-spatial-transcriptomics-at-near-cellular-resolution-with-slide-seqv2)\n",
    "- **Summary:**\n",
    "    - Mouse hippocampus puck\n",
    "    - 41,786 observations on cell-level with cell-type annotations\n",
    "    - 4,000 probed genes"
   ]
  },
  {
   "cell_type": "code",
   "execution_count": null,
   "id": "161f1070-0a7e-4aea-a105-4442c0b34913",
   "metadata": {},
   "outputs": [],
   "source": [
    "dataset = \"slideseqv2_mouse_hippocampus\"\n",
    "cell_type_key = \"cell_type\""
   ]
  },
  {
   "cell_type": "markdown",
   "id": "dee79f06-3f7c-4213-962d-81c44f2c4977",
   "metadata": {},
   "source": [
    "#### 2.2.1 Load & Preprocess Raw Data"
   ]
  },
  {
   "cell_type": "markdown",
   "id": "cf8d4450-5865-43a9-8b27-119b8404d26f",
   "metadata": {},
   "source": [
    "##### 2.2.1.1 Spatial Transcriptomics Data"
   ]
  },
  {
   "cell_type": "code",
   "execution_count": null,
   "id": "02081521-58dd-450a-a135-90a220b1eb42",
   "metadata": {},
   "outputs": [],
   "source": [
    "print(f\"Loading and preprocessing dataset '{dataset}'.\")\n",
    "\n",
    "# Retrieve adata from squidpy\n",
    "adata = sq.datasets.slideseqv2()\n",
    "\n",
    "print(f\"Step 1: Number of cells: {len(adata)}\")\n",
    "print(f\"Step 1: Number of genes: {len(adata.var_names)}\")\n",
    "\n",
    "# Create new adata to drop all unnecessary columns\n",
    "adata_new = sc.AnnData(sp.csr_matrix(\n",
    "    (adata.shape[0], adata.shape[1]),\n",
    "    dtype=np.float32))\n",
    "adata_new.X = adata.X\n",
    "adata_new.var_names = adata.var_names\n",
    "adata_new.obs_names = adata.obs_names\n",
    "adata_new.obsm[\"spatial\"] = adata.obsm[\"spatial\"]\n",
    "adata_new.obs[\"cell_type\"] = adata.obs[\"cluster\"].values\n",
    "\n",
    "# Store raw counts in adata.layers\n",
    "adata_new.layers[\"counts\"] = sp.csr_matrix(np.round((np.exp(adata.X.toarray()) - 1)))\n",
    "\n",
    "adata_new.obs[\"batch\"] = \"sample1\"\n",
    "\n",
    "# Store data to disk\n",
    "adata_new.write(f\"{st_data_gold_folder_path}/{dataset}.h5ad\")"
   ]
  },
  {
   "cell_type": "markdown",
   "id": "e096e0dc-0e46-4313-bc89-6ad4286b111d",
   "metadata": {},
   "source": [
    "##### 2.2.1.2 Spatial Transcriptomics Data Subsamples"
   ]
  },
  {
   "cell_type": "markdown",
   "id": "b92514b8-c4bf-4239-be92-efbd769524d4",
   "metadata": {},
   "source": [
    "Data is not spatially ordered so we need to use coordinates to subsample."
   ]
  },
  {
   "cell_type": "code",
   "execution_count": null,
   "id": "fc3cff3a-ca22-4df9-8692-a402f5f8ea48",
   "metadata": {},
   "outputs": [],
   "source": [
    "y_diff_list = [1406, 1920, 2223, 2319, 2398] # 50%, 25%, 10%, 5%, 1%\n",
    "\n",
    "for i, subsample_pct in enumerate([50, 25, 10, 5, 1]):\n",
    "    y_max_sample = max(adata.obs.y) - y_diff_list[i]\n",
    "    y_min_sample = min(adata.obs.y) + y_diff_list[i]\n",
    "    adata_sample = adata[(adata.obs.y < y_max_sample) & (adata.obs.y > y_min_sample)]\n",
    "\n",
    "    # Create new adata to drop all unnecessary columns\n",
    "    adata_new_sample = sc.AnnData(sp.csr_matrix(\n",
    "        (adata_sample.shape[0], adata_sample.shape[1]),\n",
    "        dtype=np.float32))\n",
    "    adata_new_sample.X = adata_sample.X\n",
    "    adata_new_sample.var_names = adata_sample.var_names\n",
    "    adata_new_sample.obs_names = adata_sample.obs_names\n",
    "    adata_new_sample.obsm[\"spatial\"] = adata_sample.obsm[\"spatial\"]\n",
    "    adata_new_sample.obs[\"cell_type\"] = adata_sample.obs[\"cluster\"].values\n",
    "\n",
    "    # Store raw counts in adata.layers\n",
    "    adata_new_sample.layers[\"counts\"] = sp.csr_matrix(np.round((np.exp(adata_new_sample.X.toarray()) - 1)))\n",
    "    adata_new_sample.obs[\"batch\"] = \"sample1\"\n",
    "\n",
    "    # Store data to disk\n",
    "    adata_new_sample.write(f\"{st_data_gold_folder_path}/{dataset}_subsample_{subsample_pct}pct.h5ad\")"
   ]
  },
  {
   "cell_type": "markdown",
   "id": "b76e59d4-e569-427b-8cdf-cd58b1fcca4f",
   "metadata": {
    "tags": []
   },
   "source": [
    "#### 2.2.2 Explore Data"
   ]
  },
  {
   "cell_type": "markdown",
   "id": "3f1a8b1f-99a1-4fae-9690-e837a3800b55",
   "metadata": {},
   "source": [
    "##### 2.2.2.1 Spatial Transcriptomics Data"
   ]
  },
  {
   "cell_type": "code",
   "execution_count": null,
   "id": "40289609-ee20-4349-aaeb-bf32a60ddad6",
   "metadata": {},
   "outputs": [],
   "source": [
    "adata = sc.read_h5ad(f\"{st_data_gold_folder_path}/{dataset}.h5ad\")\n",
    "    \n",
    "print(f\"Exploring dataset {dataset}.\")\n",
    "print(f\"Number of nodes (cells): {adata.X.shape[0]}\")\n",
    "print(f\"Number of node features (genes): {adata.X.shape[1]}\")\n",
    "\n",
    "# Visualize cell-level annotated data in physical space\n",
    "sq.pl.spatial_scatter(adata, color=cell_type_key, shape=None, figsize=(12, 12))        "
   ]
  },
  {
   "cell_type": "markdown",
   "id": "45bce7e2-32ab-4fec-95ce-52b4ffe55f0a",
   "metadata": {},
   "source": [
    "##### 2.2.2.1 Spatial Transcriptomics Data Subsamples"
   ]
  },
  {
   "cell_type": "code",
   "execution_count": null,
   "id": "f205696e-555e-4a3d-8940-76a937bec759",
   "metadata": {},
   "outputs": [],
   "source": [
    "for subsample_pct in [50, 25, 10, 5, 1]:\n",
    "    adata = sc.read_h5ad(f\"{st_data_gold_folder_path}/{dataset}_subsample_{subsample_pct}pct.h5ad\")\n",
    "\n",
    "    print(f\"Exploring dataset {dataset}_subsample_{subsample_pct}pct.\")\n",
    "    print(f\"Number of nodes (cells): {adata.X.shape[0]}\")\n",
    "    print(f\"Number of node features (genes): {adata.X.shape[1]}\")\n",
    "\n",
    "    # Visualize cell-level annotated data in physical space\n",
    "    sq.pl.spatial_scatter(adata, color=cell_type_key, shape=None, figsize=(12, 12))        "
   ]
  },
  {
   "cell_type": "markdown",
   "id": "ea577135-019c-4730-966f-e4f9cff8121a",
   "metadata": {},
   "source": [
    "### 2.3 Vizgen MERFISH Mouse Liver"
   ]
  },
  {
   "cell_type": "markdown",
   "id": "01a1c7b7-8bf7-4977-9c12-60645700d710",
   "metadata": {},
   "source": [
    "- **Publication**: Vizgen MERFISH Mouse Liver Map January 2022\n",
    "- **Data Access:** https://info.vizgen.com/mouse-liver-access\n",
    "    - Animal 1 replicate 1 is used\n",
    "    - 2 animals with 2 replicates each can be downloaded\n",
    "- **Data Structure:**\n",
    "    - ```\n",
    "         ├── ../datasets/st_data/bronze/vizgen_merfish_mouse_liver  \n",
    "         │  ├── Liver1Slice1_cell_by_gene.csv (gene expression)\n",
    "         │  ├── Liver1Slice1_cell_metadata.csv.csv (metadata) \n",
    "      ```\n",
    "- **Preprocessing Vignette:** https://squidpy.readthedocs.io/en/latest/external_tutorials/tutorial_vizgen_mouse_liver.html\n",
    "- **Summary:**\n",
    "    - Liver tissue section of mouse liver map\n",
    "    - 367,335 observations on cell-level with cell-type annotations\n",
    "    - 347 probed genes"
   ]
  },
  {
   "cell_type": "code",
   "execution_count": null,
   "id": "59d6bb72-370e-4f1b-9406-6c31e1782d9b",
   "metadata": {},
   "outputs": [],
   "source": [
    "dataset = \"vizgen_merfish_mouse_liver\"\n",
    "cell_type_key = \"Cell_Type\"\n",
    "merfish_dir = f\"{st_data_bronze_folder_path}/{dataset}/\""
   ]
  },
  {
   "cell_type": "markdown",
   "id": "676b9962-ea39-4312-9d88-ad78809f13c0",
   "metadata": {},
   "source": [
    "#### 2.3.1 Load & Preprocess Raw Data"
   ]
  },
  {
   "cell_type": "markdown",
   "id": "07b12a04-8fc7-4375-9190-44c3a74b07e8",
   "metadata": {},
   "source": [
    "##### 2.3.1.1 ST Data"
   ]
  },
  {
   "cell_type": "code",
   "execution_count": null,
   "id": "7045fb56-fada-4fa1-aa37-6e89f7a52c22",
   "metadata": {},
   "outputs": [],
   "source": [
    "print(f\"Loading and preprocessing dataset '{dataset}'.\")\n",
    "    \n",
    "# Read adata from files\n",
    "adata = sq.read.vizgen(merfish_dir,\n",
    "                       counts_file=\"Liver1Slice1_cell_by_gene.csv\",\n",
    "                       meta_file=\"Liver1Slice1_cell_metadata.csv\")\n",
    "\n",
    "print(f\"Step 1: Number of cells: {len(adata)}\")\n",
    "print(f\"Step 1: Number of genes: {len(adata.var_names)}\")\n",
    "\n",
    "# Preprocess as per squidpy vignette\n",
    "adata.var_names_make_unique()\n",
    "adata.var[\"mt\"] = adata.var_names.str.startswith(\"mt-\")\n",
    "sc.pp.calculate_qc_metrics(adata, qc_vars=[\"mt\"],percent_top=(50, 100, 200, 300), inplace=True)\n",
    "sc.pp.filter_cells(adata, min_counts=50)\n",
    "sc.pp.filter_genes(adata, min_cells=10)\n",
    "\n",
    "print(f\"Step 2: Number of cells: {len(adata)}\")\n",
    "print(f\"Step 2: Number of genes: {len(adata.var_names)}\")\n",
    "\n",
    "# Store raw counts in `layers`\n",
    "adata.layers[\"counts\"] = adata.X.copy()\n",
    "\n",
    "# Store data to disk\n",
    "#adata.write(f\"{st_data_silver_folder_path}/{dataset}.h5ad\")\n",
    "\n",
    "# Determine cell annotation as per squidpy vignette\n",
    "sc.pp.normalize_total(adata, target_sum=1e4)\n",
    "sc.pp.log1p(adata)\n",
    "sc.pp.scale(adata, max_value=10)\n",
    "sc.tl.pca(adata, svd_solver=\"arpack\")\n",
    "sc.pp.neighbors(adata, n_neighbors=10, n_pcs=20)\n",
    "sc.tl.umap(adata)\n",
    "sc.tl.leiden(adata, resolution=1.5)\n",
    "\n",
    "sc.set_figure_params(figsize=(10,10))\n",
    "sc.pl.umap(adata, color=[\"leiden\"], size=5)\n",
    "\n",
    "gene_panel = \"https://static-content.springer.com/esm/art%3A10.1038%2Fs41421-021-00266-1/MediaObjects/41421_2021_266_MOESM1_ESM.xlsx\"\n",
    "df_ref_panel_ini = pd.read_excel(gene_panel, index_col=0)\n",
    "df_ref_panel = df_ref_panel_ini.iloc[1:,:1]\n",
    "df_ref_panel.index.name = None\n",
    "df_ref_panel.columns = [\"Function\"]\n",
    "\n",
    "# Assign marker gene metadata using reference dataset\n",
    "marker_genes = df_ref_panel[df_ref_panel[\"Function\"].str.contains(\"marker\")].index.tolist()\n",
    "\n",
    "meta_gene = deepcopy(adata.var)\n",
    "common_marker_genes = list(set(meta_gene.index.tolist()).intersection(marker_genes))\n",
    "meta_gene.loc[common_marker_genes, \"Markers\"] = df_ref_panel.loc[common_marker_genes, \"Function\"]\n",
    "meta_gene[\"Markers\"] = meta_gene[\"Markers\"].apply(lambda x: \"N.A.\" if \"marker\" not in str(x) else x)\n",
    "meta_gene[\"Markers\"].value_counts()\n",
    "\n",
    "ser_counts = adata.obs[\"leiden\"].value_counts()\n",
    "ser_counts.name = \"cell counts\"\n",
    "meta_leiden = pd.DataFrame(ser_counts)\n",
    "\n",
    "cat_name = \"leiden\"\n",
    "sig_leiden = pd.DataFrame(columns=adata.var_names, index=adata.obs[cat_name].cat.categories)\n",
    "for clust in adata.obs[cat_name].cat.categories:\n",
    "    sig_leiden.loc[clust] = adata[adata.obs[cat_name].isin([clust]),:].X.mean(0)\n",
    "sig_leiden = sig_leiden.transpose()\n",
    "leiden_clusters = [\"Leiden-\" + str(x) for x in sig_leiden.columns.tolist()]\n",
    "sig_leiden.columns = leiden_clusters\n",
    "meta_leiden.index = sig_leiden.columns.tolist()\n",
    "meta_leiden[\"leiden\"] = pd.Series(meta_leiden.index.tolist(), index=meta_leiden.index.tolist())\n",
    "\n",
    "meta_gene = pd.DataFrame(index=sig_leiden.index.tolist())\n",
    "meta_gene[\"info\"] = pd.Series(\"\", index=meta_gene.index.tolist())\n",
    "meta_gene[\"Markers\"] = pd.Series(\"N.A.\", index=sig_leiden.index.tolist())\n",
    "meta_gene.loc[common_marker_genes, \"Markers\"] = df_ref_panel.loc[common_marker_genes, \"Function\"]\n",
    "\n",
    "meta_leiden[\"Cell_Type\"] = pd.Series(\"N.A.\", index=meta_leiden.index.tolist())\n",
    "num_top_genes = 30\n",
    "for inst_cluster in sig_leiden.columns.tolist():\n",
    "    top_genes = sig_leiden[inst_cluster].sort_values(ascending=False).index.tolist()[:num_top_genes]\n",
    "\n",
    "    inst_ser = meta_gene.loc[top_genes, \"Markers\"]\n",
    "    inst_ser = inst_ser[inst_ser != \"N.A.\"]\n",
    "    ser_counts = inst_ser.value_counts()\n",
    "  \n",
    "    max_count = ser_counts.max()\n",
    "  \n",
    "    max_cat = \"_\".join(sorted(ser_counts[ser_counts == max_count].index.tolist()))\n",
    "    max_cat = max_cat.replace(\" marker\", \"\").replace(\" \", \"-\")\n",
    "  \n",
    "    print(inst_cluster, max_cat)\n",
    "    meta_leiden.loc[inst_cluster, \"Cell_Type\"] = max_cat\n",
    "\n",
    "# Rename clusters\n",
    "meta_leiden[\"name\"] = meta_leiden.apply(lambda x: x[\"Cell_Type\"] + \"_\" + x[\"leiden\"] , axis=1)\n",
    "leiden_names = meta_leiden[\"name\"].values.tolist()\n",
    "meta_leiden.index = leiden_names\n",
    "\n",
    "# Transfer cell type labels to single cells\n",
    "leiden_to_cell_type = deepcopy(meta_leiden)\n",
    "leiden_to_cell_type.set_index(\"leiden\", inplace=True)\n",
    "leiden_to_cell_type.index.name = None\n",
    "\n",
    "adata.obs[\"Cell_Type\"] = adata.obs[\"leiden\"].apply(lambda x: leiden_to_cell_type.loc[\"Leiden-\" + str(x), \"Cell_Type\"])\n",
    "adata.obs[\"Cluster\"] = adata.obs[\"leiden\"].apply(lambda x: leiden_to_cell_type.loc[\"Leiden-\" + str(x), \"name\"])\n",
    "\n",
    "adata_old = adata.copy()\n",
    "\n",
    "adata = ad.AnnData(sp.csr_matrix(adata_old.X))\n",
    "adata.obs_names = adata_old.obs_names\n",
    "adata.var_names = adata_old.var_names\n",
    "\n",
    "adata.layers[\"counts\"] = adata_old.layers[\"counts\"]\n",
    "adata.obsm[\"spatial\"] = adata_old.obsm[\"spatial\"]\n",
    "adata.obs[\"Cell_Type\"] = adata_old.obs[\"Cell_Type\"]\n",
    "\n",
    "# Remove negative probes\n",
    "adata = adata[:, ~adata.var_names.str.contains(\"Blank\")]\n",
    "\n",
    "print(f\"Step 3: Number of cells: {len(adata)}\")\n",
    "print(f\"Step 3: Number of genes: {len(adata.var_names)}\")\n",
    "\n",
    "adata.obs[\"batch\"] = \"animal1_z2\"\n",
    "\n",
    "# Store gene expression in sparse row format\n",
    "adata.layers[\"counts\"] = sp.csr_matrix(adata.layers[\"counts\"])\n",
    "\n",
    "# Add field of view\n",
    "adata.obs[\"fov\"] = adata_old.obs[\"fov\"].values\n",
    "\n",
    "# Store data to disk\n",
    "adata.write(f\"{st_data_gold_folder_path}/{dataset}.h5ad\")"
   ]
  },
  {
   "cell_type": "markdown",
   "id": "26afb2b5-97e4-4e10-ba6f-c5a7b2673dec",
   "metadata": {},
   "source": [
    "##### 2.3.1.2 ST Data Subsamples"
   ]
  },
  {
   "cell_type": "code",
   "execution_count": null,
   "id": "c309ba6d-2dee-416e-b4f7-2d795db2ffe3",
   "metadata": {},
   "outputs": [],
   "source": [
    "for subsample_pct in [50, 25, 10, 5, 1]:\n",
    "    # Read preprocessed data\n",
    "    adata = sc.read_h5ad(f\"{st_data_gold_folder_path}/{dataset}.h5ad\")\n",
    "    adata = adata[:int(subsample_pct/100 * len(adata)),:].copy()\n",
    "    adata.write(f\"{st_data_gold_folder_path}/{dataset}_subsample_{subsample_pct}pct.h5ad\")"
   ]
  },
  {
   "cell_type": "markdown",
   "id": "bc787389-0555-4814-a31c-b17ffaf45534",
   "metadata": {},
   "source": [
    "#### 2.3.2 Explore Data"
   ]
  },
  {
   "cell_type": "markdown",
   "id": "f5e060eb-014b-4b28-b06b-1e9840331124",
   "metadata": {},
   "source": [
    "##### 2.3.2.1 ST Data"
   ]
  },
  {
   "cell_type": "code",
   "execution_count": null,
   "id": "e8076508-c483-45bf-87c3-5e39d3133fdd",
   "metadata": {},
   "outputs": [],
   "source": [
    "adata = sc.read_h5ad(f\"{st_data_gold_folder_path}/{dataset}.h5ad\")\n",
    "    \n",
    "print(f\"Exploring dataset {dataset}.\")\n",
    "print(f\"Number of nodes (cells): {adata.X.shape[0]}\")\n",
    "print(f\"Number of node features (genes): {adata.X.shape[1]}\")\n",
    "\n",
    "# Visualize cell-level annotated data in physical space\n",
    "sq.pl.spatial_scatter(adata, color=cell_type_key, shape=None, figsize=(12, 12))        "
   ]
  },
  {
   "cell_type": "markdown",
   "id": "77ea4f52-6c35-465b-8506-c2ca355f892b",
   "metadata": {},
   "source": [
    "##### 2.3.2.2 ST Data Subsamples"
   ]
  },
  {
   "cell_type": "code",
   "execution_count": null,
   "id": "f4603907-32e5-484d-b897-06021fadfe74",
   "metadata": {},
   "outputs": [],
   "source": [
    "for subsample_pct in [50, 25, 10, 5, 1]:\n",
    "    adata = sc.read_h5ad(f\"{st_data_gold_folder_path}/{dataset}_subsample_{subsample_pct}pct.h5ad\")\n",
    "\n",
    "    print(f\"Exploring dataset {dataset}.\")\n",
    "    print(f\"Number of nodes (cells): {adata.X.shape[0]}\")\n",
    "    print(f\"Number of node features (genes): {adata.X.shape[1]}\")\n",
    "\n",
    "    # Visualize cell-level annotated data in physical space\n",
    "    sq.pl.spatial_scatter(adata, color=cell_type_key, shape=None, figsize=(12, 12))    "
   ]
  },
  {
   "cell_type": "markdown",
   "id": "ee85fa88-c659-4ea9-b4bd-b8ee46ca0539",
   "metadata": {
    "tags": []
   },
   "source": [
    "### 2.4 nanoString CosMx SMI Human Non-Small-Cell Lung Cancer (NSCLC)"
   ]
  },
  {
   "cell_type": "markdown",
   "id": "b2e3ae91-128c-49a9-8d0a-0b6d15a13f07",
   "metadata": {},
   "source": [
    "- **Publication:** \n",
    "    - He, S. et al. High-plex imaging of RNA and proteins at subcellular resolution in fixed tissue by spatial molecular imaging. Nat. Biotechnol. 40, 1794–1806 (2022)\n",
    "    - Tang, Z., Zhang, T., Yang, B., Su, J. & Song, Q. SiGra: Single-cell spatial elucidation through image-augmented graph transformer. bioRxiv (2022). [doi:10.1101/2022.08.18.504464v1](https://www.biorxiv.org/content/10.1101/2022.08.18.504464v1)\n",
    "- **Data Access:**\n",
    "    - https://nanostring.com/products/cosmx-spatial-molecular-imager/ffpe-dataset/\n",
    "    - Preprocessed version available from SiGra: https://purdue0-my.sharepoint.com/:f:/g/personal/tang385_purdue_edu/EoJcJv8OZHRIhLyplj5r1PABW-UQfD1p1YU00gAdZNeK7A?e=K3Mmqg (lung 9 replicate 1 only; not used in the manuscript)\n",
    "- **Data Structure**:\n",
    "    - ```\n",
    "         ├── ../datasets/st_data/bronze/nanostring_cosmx_human_nsclc\n",
    "         │  └── raw         \n",
    "         │    └── Lung5_Rep1\n",
    "         │      └── Lung5_Rep1-Flat_files_and_images (unannotated data)\n",
    "         │    └── Lung5_Rep2\n",
    "         │      └── Lung5_Rep2-Flat_files_and_images (unannotated data)\n",
    "         │    └── Lung5_Rep3\n",
    "         │      └── Lung5_Rep3-Flat_files_and_images (unannotated data)\n",
    "         │    └── Lung6\n",
    "         │      └── Lung6-Flat_files_and_images (unannotated data)\n",
    "         │    └── Lung9_Rep1\n",
    "         │      └── Lung9_Rep1-Flat_files_and_images (unannotated data)\n",
    "         │    └── Lung9_Rep2\n",
    "         │      └── Lung9_Rep2-Flat_files_and_images (unannotated data)\n",
    "         │    └── Lung12\n",
    "         │      └── Lung12-Flat_files_and_images (unannotated data)\n",
    "         │    └── Lung13\n",
    "         │      └── Lung13-Flat_files_and_images (unannotated data)\n",
    "         │  └── metadata_giotto.csv\n",
    "      ```\n",
    "- **Summary:**\n",
    "    - 8 tissue sections of non-small-cell lung cancer of human from 5 patients\n",
    "        - 800,559 observations at cellular resolution without annotation\n",
    "            - 93,206 observations lung5_rep1\n",
    "            - 97,487 observations lung5_rep2\n",
    "            - 91,691 observations lung5_rep3\n",
    "            - 83,723 observations lung6\n",
    "            - 77,391 observations lung9\n",
    "            - 115,676 observations lung9_rep2\n",
    "            - 66,489 observations lung12\n",
    "            - 76,536 observations lung13\n",
    "        - 83,621 observations at cellular resolution with annotations\n",
    "    - 960 genes"
   ]
  },
  {
   "cell_type": "code",
   "execution_count": null,
   "id": "0e467c02-cfaf-4d87-a2f7-367b3d2cbc7d",
   "metadata": {},
   "outputs": [],
   "source": [
    "dataset = \"nanostring_cosmx_human_nsclc\"\n",
    "cell_type_key = \"cell_type\""
   ]
  },
  {
   "cell_type": "markdown",
   "id": "44b0dc40-74f0-4b56-a93c-9e64a378d700",
   "metadata": {},
   "source": [
    "#### 2.4.1 Load & Preprocess Raw Data"
   ]
  },
  {
   "cell_type": "markdown",
   "id": "aaa3570d-ac44-4541-82b2-a4fc9a09f57c",
   "metadata": {},
   "source": [
    "##### 2.4.1.1 ST Data"
   ]
  },
  {
   "cell_type": "code",
   "execution_count": null,
   "id": "3ab43e3e-588f-4afe-8b22-58ae31a4e26a",
   "metadata": {},
   "outputs": [],
   "source": [
    "batches = [\"Lung5_Rep1\",\n",
    "           \"Lung5_Rep2\",\n",
    "           \"Lung5_Rep3\",\n",
    "           \"Lung6\",\n",
    "           \"Lung9_Rep1\",\n",
    "           \"Lung9_Rep2\",\n",
    "           \"Lung12\",\n",
    "           \"Lung13\"]\n",
    "\n",
    "annotation_df = pd.read_csv(f\"{st_data_bronze_folder_path}/{dataset}/metadata_giotto.csv\", index_col=0)\n",
    "\n",
    "for batch_idx, batch in enumerate(batches):\n",
    "    gene_expr_df = pd.read_csv(f\"{st_data_bronze_folder_path}/{dataset}/{batch}/{batch}-Flat_files_and_images/{batch}_exprMat_file.csv\")\n",
    "    metadata_df = pd.read_csv(f\"{st_data_bronze_folder_path}/{dataset}/{batch}/{batch}-Flat_files_and_images/{batch}_metadata_file.csv\")\n",
    "\n",
    "    adata = ad.AnnData(gene_expr_df[gene_expr_df.columns.difference([\"fov\", \"cell_ID\"])].values,\n",
    "                       obs=gene_expr_df[[\"fov\", \"cell_ID\"]],\n",
    "                       dtype=\"float32\")\n",
    "    \n",
    "    print(f\"Step 1: Number of cells: {len(adata)}\")\n",
    "    print(f\"Step 1: Number of genes: {len(adata.var_names)}\")\n",
    "    \n",
    "    adata.var_names = gene_expr_df.columns.difference([\"fov\", \"cell_ID\"])\n",
    "    adata.obs[\"batch\"] = batch.lower()\n",
    "    \n",
    "    # Add spatial coordinates from metadata\n",
    "    adata.obs = pd.merge(adata.obs, metadata_df, on=[\"fov\", \"cell_ID\"], how=\"left\")\n",
    "    adata.obsm[\"spatial\"] = np.array(adata.obs[[\"CenterX_global_px\", \"CenterY_global_px\"]])\n",
    "    \n",
    "    # Drop obs without metadata\n",
    "    adata.obs.reset_index(drop=True, inplace=True)\n",
    "    adata = adata[adata.obs.index.isin(adata.obs.dropna().index), :].copy()\n",
    "    \n",
    "    print(f\"Step 2: Number of cells: {len(adata)}\")\n",
    "    print(f\"Step 2: Number of genes: {len(adata.var_names)}\")\n",
    "    \n",
    "    # Add cell type annotations, remove cells without annotations, and make fov unique across batches\n",
    "    adata.obs[\"cell_ID\"] = f\"c_{batch_idx + 1}_\" + adata.obs[\"fov\"].astype(\"str\") + \"_\" + adata.obs[\"cell_ID\"].astype(\"str\")\n",
    "    adata.obs = pd.merge(adata.obs, annotation_df, on=\"cell_ID\", how=\"left\")\n",
    "    adata.obs[\"fov\"] = adata.obs[\"batch\"] + \"_\" + adata.obs[\"fov_x\"].astype(str)\n",
    "    adata.obs = adata.obs[[\"cell_ID\", \"patient\", \"batch\", \"fov\", \"cell_type\", \"niche\"]]\n",
    "    adata.obs.index = adata.obs.index.astype(str)\n",
    "    adata = adata[adata.obs.index.isin(adata.obs.dropna().index), :].copy()\n",
    "    adata.obs.reset_index(drop=True, inplace=True)\n",
    "    \n",
    "    print(f\"Step 3: Number of cells: {len(adata)}\")\n",
    "    print(f\"Step 3: Number of genes: {len(adata.var_names)}\")\n",
    "    \n",
    "    # Convert cell type annotations to coarser resolution\n",
    "    adata.obs[\"cell_type_original\"] = adata.obs[\"cell_type\"].astype(str)\n",
    "    adata.obs.loc[adata.obs[\"cell_type_original\"].apply(\n",
    "        lambda x: \"T\" in x),\"cell_type\"] = \"NK/T cell\"\n",
    "    adata.obs.loc[adata.obs[\"cell_type_original\"].apply(\n",
    "        lambda x: \"tumor\" in x),\"cell_type\"] = \"tumor\"\n",
    "    adata.obs.loc[adata.obs[\"cell_type_original\"] == \"NK\",\"cell_type\"] = \"NK/T cell\"\n",
    "    adata.obs.loc[adata.obs[\"cell_type_original\"].apply(\n",
    "        lambda x: \"DC\" in x),\"cell_type\"] = \"DC\"\n",
    "    adata.obs.loc[(adata.obs[\"cell_type_original\"] == \"monocyte\") |\n",
    "                  (adata.obs[\"cell_type_original\"] == \"macrophage\") |\n",
    "                  (adata.obs[\"cell_type\"] == \"DC\"),\"cell_type\"] = \"myeloid\"\n",
    "    \n",
    "    # Remove negative probes\n",
    "    adata.var.index = adata.var.index.map(str)\n",
    "    adata = adata[:, ~adata.var_names.str.contains(\"NegPrb\")].copy()\n",
    "    \n",
    "    # Remove low quality cells\n",
    "    sc.pp.filter_cells(adata, min_counts=50)\n",
    "        \n",
    "    # Store gene expression in sparse format\n",
    "    adata.X = sp.csr_matrix(np.array(adata.X))\n",
    "    adata.layers[\"counts\"] = adata.X.copy()\n",
    "    \n",
    "    # Log normalize counts\n",
    "    sc.pp.normalize_total(adata, target_sum=1e4)\n",
    "    sc.pp.log1p(adata)\n",
    "    \n",
    "    print(f\"Step 4: Number of cells: {len(adata)}\")\n",
    "    print(f\"Step 4: Number of genes: {len(adata.var_names)}\")\n",
    "    print(\"==========\")\n",
    "    \n",
    "    adata.write(f\"{st_data_gold_folder_path}/{dataset}_batch{batch_idx + 1}.h5ad\")"
   ]
  },
  {
   "cell_type": "markdown",
   "id": "534b824d-f663-4a2c-a1f0-f51d559a2e1d",
   "metadata": {},
   "source": [
    "##### 2.4.1.2 ST Data Subsamples"
   ]
  },
  {
   "cell_type": "code",
   "execution_count": null,
   "id": "ef34c345-7b7f-4bcd-9233-1b97006bc99d",
   "metadata": {},
   "outputs": [],
   "source": [
    "# Create subsamples of all batches for method benchmarking\n",
    "for subsample_pct in [50, 25, 10, 5, 1]:\n",
    "    print(f\"Processing subsample {subsample_pct}pct...\")\n",
    "    batch_indeces = list(np.arange(8) + 1)\n",
    "    batches = [\"Lung5_Rep1\",\n",
    "               \"Lung5_Rep2\",\n",
    "               \"Lung5_Rep3\",\n",
    "               \"Lung6\",\n",
    "               \"Lung9_Rep1\",\n",
    "               \"Lung9_Rep2\",\n",
    "               \"Lung12\",\n",
    "               \"Lung13\"]\n",
    "\n",
    "    annotation_df = pd.read_csv(f\"{st_data_bronze_folder_path}/{dataset}/metadata_giotto.csv\", index_col=0)\n",
    "\n",
    "    for batch_idx, batch in enumerate(batches):\n",
    "        print(f\"Loading, preprocessing and saving batch '{batch}'.\")\n",
    "        gene_expr_df = pd.read_csv(f\"{st_data_bronze_folder_path}/{dataset}/{batch}/{batch}-Flat_files_and_images/{batch}_exprMat_file.csv\")\n",
    "        metadata_df = pd.read_csv(f\"{st_data_bronze_folder_path}/{dataset}/{batch}/{batch}-Flat_files_and_images/{batch}_metadata_file.csv\")\n",
    "\n",
    "        adata = ad.AnnData(gene_expr_df[gene_expr_df.columns.difference([\"fov\", \"cell_ID\"])].values,\n",
    "                           obs=gene_expr_df[[\"fov\", \"cell_ID\"]],\n",
    "                           dtype=\"float32\")\n",
    "        adata.var_names = gene_expr_df.columns.difference([\"fov\", \"cell_ID\"])\n",
    "        adata.obs[\"batch\"] = batch.lower()\n",
    "\n",
    "        # Add spatial coordinates from metadata\n",
    "        adata.obs = pd.merge(adata.obs, metadata_df, on=[\"fov\", \"cell_ID\"], how=\"left\")\n",
    "        adata.obsm[\"spatial\"] = np.array(adata.obs[[\"CenterX_global_px\", \"CenterY_global_px\"]])\n",
    "\n",
    "        # Drop obs without metadata\n",
    "        adata.obs.reset_index(drop=True, inplace=True)\n",
    "        adata = adata[adata.obs.index.isin(adata.obs.dropna().index), :].copy()\n",
    "\n",
    "        # Add cell type annotations, remove cells without annotations, and make fov unique across batches\n",
    "        adata.obs[\"cell_ID\"] = f\"c_{batch_idx + 1}_\" + adata.obs[\"fov\"].astype(\"str\") + \"_\" + adata.obs[\"cell_ID\"].astype(\"str\")\n",
    "        adata.obs = pd.merge(adata.obs, annotation_df, on=\"cell_ID\", how=\"left\")\n",
    "        adata.obs[\"fov\"] = adata.obs[\"batch\"] + \"_\" + adata.obs[\"fov_x\"].astype(str)\n",
    "        adata.obs = adata.obs[[\"cell_ID\", \"patient\", \"batch\", \"fov\", \"cell_type\", \"niche\"]]\n",
    "        adata.obs.index = adata.obs.index.astype(str)\n",
    "        adata = adata[adata.obs.index.isin(adata.obs.dropna().index), :].copy()\n",
    "        adata.obs.reset_index(drop=True, inplace=True)\n",
    "\n",
    "        # Convert cell type annotations to coarser resolution\n",
    "        adata.obs[\"cell_type_original\"] = adata.obs[\"cell_type\"].astype(str)\n",
    "        adata.obs.loc[adata.obs[\"cell_type_original\"].apply(\n",
    "            lambda x: \"T\" in x),\"cell_type\"] = \"NK/T cell\"\n",
    "        adata.obs.loc[adata.obs[\"cell_type_original\"].apply(\n",
    "            lambda x: \"tumor\" in x),\"cell_type\"] = \"tumor\"\n",
    "        adata.obs.loc[adata.obs[\"cell_type_original\"] == \"NK\",\"cell_type\"] = \"NK/T cell\"\n",
    "        adata.obs.loc[adata.obs[\"cell_type_original\"].apply(\n",
    "            lambda x: \"DC\" in x),\"cell_type\"] = \"DC\"\n",
    "        adata.obs.loc[(adata.obs[\"cell_type_original\"] == \"monocyte\") |\n",
    "                      (adata.obs[\"cell_type_original\"] == \"macrophage\") |\n",
    "                      (adata.obs[\"cell_type\"] == \"DC\"),\"cell_type\"] = \"myeloid\"\n",
    "\n",
    "        # Remove negative probes\n",
    "        adata.var.index = adata.var.index.map(str)\n",
    "        adata = adata[:, ~adata.var_names.str.contains(\"NegPrb\")].copy()\n",
    "\n",
    "        # Remove low quality cells\n",
    "        sc.pp.filter_cells(adata, min_counts=50)\n",
    "        \n",
    "        # Filter subsample\n",
    "        adata = adata[:int((subsample_pct/100) * len(adata)), :].copy()\n",
    "\n",
    "        # Store gene expression in sparse format\n",
    "        adata.X = sp.csr_matrix(np.array(adata.X))\n",
    "        adata.layers[\"counts\"] = adata.X.copy()\n",
    "\n",
    "        # Log normalize counts\n",
    "        sc.pp.normalize_total(adata, target_sum=1e4)\n",
    "        sc.pp.log1p(adata)\n",
    "\n",
    "        adata.write(f\"{st_data_gold_folder_path}/{dataset}_subsample_{subsample_pct}pct_batch{batch_idx + 1}.h5ad\")"
   ]
  },
  {
   "cell_type": "markdown",
   "id": "ed0a3971-a359-4447-bc13-ef5763d14659",
   "metadata": {},
   "source": [
    "##### 2.4.1.3 ST Data Modified"
   ]
  },
  {
   "cell_type": "markdown",
   "id": "e52e793c-e237-458b-840a-e56c708f5b42",
   "metadata": {},
   "source": [
    "This is not used in the manuscript."
   ]
  },
  {
   "cell_type": "code",
   "execution_count": null,
   "id": "2efd2f2b-0b5d-488e-b702-fb251f9d2f8a",
   "metadata": {},
   "outputs": [],
   "source": [
    "batch_indeces = list(np.arange(8) + 1)\n",
    "for batch_idx in batch_indeces:\n",
    "    adata = sc.read_h5ad(f\"{st_data_gold_folder_path}/{dataset}_batch{batch_idx}.h5ad\")\n",
    "    if batch_idx != 4:\n",
    "        adata_modified = adata[(adata.obs[\"niche\"] != \"tumor interior\") &\n",
    "                               (adata.obs[\"niche\"] != \"tumor-stroma boundary\")]\n",
    "    else:\n",
    "        adata_modified = adata\n",
    "    #adata_modified = adata[(adata.obs[\"fov\"] != \"lung5_rep1_20\") &\n",
    "    #                       (adata.obs[\"fov\"] != \"lung5_rep1_25\") &\n",
    "    #                       (adata.obs[\"fov\"] != \"lung5_rep1_30\") &\n",
    "    #                       (adata.obs[\"fov\"] != \"lung5_rep2_20\") &\n",
    "    #                       (adata.obs[\"fov\"] != \"lung5_rep2_25\") &\n",
    "    #                       (adata.obs[\"fov\"] != \"lung5_rep2_30\")]\n",
    "    adata_modified.write(f\"{st_data_gold_folder_path}/{dataset}_modified_batch{batch_idx}.h5ad\") "
   ]
  },
  {
   "cell_type": "markdown",
   "id": "d5d197a6-da2e-428e-9b2d-9867e519ec94",
   "metadata": {},
   "source": [
    "#### 2.4.2 Explore Data"
   ]
  },
  {
   "cell_type": "markdown",
   "id": "08dd351a-82b9-48fb-a787-4166db974aad",
   "metadata": {},
   "source": [
    "##### 2.4.2.1 ST Data"
   ]
  },
  {
   "cell_type": "code",
   "execution_count": null,
   "id": "0978bc30-521a-49b2-8594-6070043be7bc",
   "metadata": {},
   "outputs": [],
   "source": [
    "batch_indeces = list(np.arange(8) + 1)\n",
    "for batch_idx in batch_indeces:\n",
    "    adata = sc.read_h5ad(f\"{st_data_gold_folder_path}/{dataset}_batch{batch_idx}.h5ad\")\n",
    "    \n",
    "    print(f\"Exploring dataset {dataset}_batch{batch_idx}.\")\n",
    "    print(f\"Number of nodes (cells): {adata.X.shape[0]}\")\n",
    "    print(f\"Number of node features (genes): {adata.X.shape[1]}\")\n",
    "\n",
    "    # Visualize cell-level annotated data in physical space\n",
    "    sq.pl.spatial_scatter(adata, color=cell_type_key, shape=None, figsize=(12, 12))        "
   ]
  },
  {
   "cell_type": "markdown",
   "id": "81b3380b-0765-4e57-896c-fbea69d2a9c0",
   "metadata": {},
   "source": [
    "##### 2.4.2.2 ST Data Subsamples"
   ]
  },
  {
   "cell_type": "code",
   "execution_count": null,
   "id": "6488e602-b3cd-4d7c-b848-924c09303e3c",
   "metadata": {},
   "outputs": [],
   "source": [
    "for batch_idx in [5]:\n",
    "    for subsample_pct in [50, 25, 10, 5, 1]:\n",
    "        adata = sc.read_h5ad(f\"{st_data_gold_folder_path}/{dataset}_subsample_{subsample_pct}pct_batch{batch_idx}.h5ad\")\n",
    "\n",
    "        print(f\"Exploring dataset {dataset}_batch{batch_idx}.\")\n",
    "        print(f\"Number of nodes (cells): {adata.X.shape[0]}\")\n",
    "        print(f\"Number of node features (genes): {adata.X.shape[1]}\")\n",
    "\n",
    "        # Visualize cell-level annotated data in physical space\n",
    "        sq.pl.spatial_scatter(adata, color=cell_type_key, shape=None, figsize=(12, 12))        "
   ]
  },
  {
   "cell_type": "markdown",
   "id": "eb837979-d822-4355-9132-9619fb2f29a4",
   "metadata": {},
   "source": [
    "##### 2.4.2.3 ST Data Modified"
   ]
  },
  {
   "cell_type": "markdown",
   "id": "1baa7253-6f6f-4506-be75-81a318848d8a",
   "metadata": {},
   "source": [
    "This is not used in the manuscript."
   ]
  },
  {
   "cell_type": "code",
   "execution_count": null,
   "id": "f78f7bcd-50ac-45a5-b825-ca9a8988037c",
   "metadata": {},
   "outputs": [],
   "source": [
    "batch_indeces = list(np.arange(8) + 1)\n",
    "for batch_idx in batch_indeces:\n",
    "    adata_modified = sc.read_h5ad(f\"{st_data_gold_folder_path}/{dataset}_modified_batch{batch_idx}.h5ad\")\n",
    "    \n",
    "    print(f\"Exploring dataset {dataset}_batch{batch_idx}.\")\n",
    "    print(adata_modified.obs[\"patient\"])\n",
    "    print(f\"Number of nodes (cells): {adata_modified.X.shape[0]}\")\n",
    "    print(f\"Number of node features (genes): {adata_modified.X.shape[1]}\")\n",
    "\n",
    "    # Visualize cell-level annotated data in physical space\n",
    "    sq.pl.spatial_scatter(adata_modified, color=cell_type_key, shape=None, figsize=(12, 12)) "
   ]
  },
  {
   "cell_type": "markdown",
   "id": "a4a1f984-33d9-4cd1-9cc0-e611b1cf2c56",
   "metadata": {},
   "source": [
    "### 2.5 STARmap PLUS Mouse Central Nervous System"
   ]
  },
  {
   "cell_type": "markdown",
   "id": "594f370d-c48c-43cc-9659-76b6c80242e5",
   "metadata": {},
   "source": [
    "- **Publication:** Shi, H. et al. Spatial Atlas of the Mouse Central Nervous System at Molecular Resolution. bioRxiv 2022.06.20.496914 (2022). [doi:10.1101/2022.06.20.496914](https://doi.org/10.1101/2022.06.20.496914)\n",
    "- **Data Access:** https://singlecell.broadinstitute.org/single_cell/study/SCP1830\n",
    "- **Data Structure:**\n",
    "    - ```\n",
    "         ├── ../datasets/st_data/bronze/starmap_plus_mouse_cns  \n",
    "         │  ├── sagittal1raw_expression_pd.csv (gene expression)\n",
    "         │  ├── imputation_sagittal1.h5ad (imputed gene expression)\n",
    "         │  ├── sagittal1_spatial.csv (spatial coordinates)\n",
    "         │  ├── ...\n",
    "      ```\n",
    "- **Summary:**\n",
    "    - Individual Sample Method Benchmarking\n",
    "        - Sagittal section of mouse brain (batch1)\n",
    "        - 91,246 observations on cell level with cell type annotations\n",
    "        - 1022 genes\n",
    "    - Sample Integration Method Benchmarking\n",
    "        - batch1, ..., batch20\n",
    "        - x observations on cell level with cell type annotations\n",
    "        - 1022 genes    \n",
    "    - Analysis\n",
    "        - 20 transduced CNS tissue slices\n",
    "        - 1,091,527 observations on cell level with cell type annotations\n",
    "        - 11,844 imputed genes"
   ]
  },
  {
   "cell_type": "code",
   "execution_count": null,
   "id": "308b92d1-01a0-43fb-88a3-8a246511ea32",
   "metadata": {
    "tags": []
   },
   "outputs": [],
   "source": [
    "dataset = \"starmap_plus_mouse_cns\"\n",
    "cell_type_key = \"Main_molecular_cell_type\"\n",
    "starmap_plus_dir = f\"{st_data_bronze_folder_path}/{dataset}/\""
   ]
  },
  {
   "cell_type": "markdown",
   "id": "689702ac-6fd9-49e5-b499-c413bbd1d5ae",
   "metadata": {},
   "source": [
    "#### 2.5.1 Load & Preprocess Raw Data"
   ]
  },
  {
   "cell_type": "markdown",
   "id": "394501b0-eefc-42f4-9309-d55c29d67f62",
   "metadata": {},
   "source": [
    "##### 2.5.1.1 Spatial Transcriptomics Data"
   ]
  },
  {
   "cell_type": "code",
   "execution_count": null,
   "id": "35a3340e-b722-4ebc-aa82-b56f60622d17",
   "metadata": {},
   "outputs": [],
   "source": [
    "batch_indeces = list(np.arange(20) + 1)\n",
    "batches = [\"sagittal1\",\n",
    "           \"sagittal2\",\n",
    "           \"sagittal3\",\n",
    "           \"spinalcord\",\n",
    "           \"well01OB\",\n",
    "           \"well01brain\",\n",
    "           \"well03\",\n",
    "           \"well04\",\n",
    "           \"well05\",\n",
    "           \"well06\",\n",
    "           \"well07\",\n",
    "           \"well08\",\n",
    "           \"well09\",\n",
    "           \"well10\",\n",
    "           \"well11\",\n",
    "           \"well1_5\",\n",
    "           \"well2_5\",\n",
    "           \"well3_5\",\n",
    "           \"well7_5\",\n",
    "           \"well10_5\"]\n",
    "\n",
    "for batch_idx, batch in zip(batch_indeces, batches):\n",
    "    print(f\"Loading, preprocessing and saving batch '{batch}'.\")\n",
    "    \n",
    "    # Read counts and change format\n",
    "    counts = pd.read_csv(starmap_plus_dir + f\"{batch}raw_expression_pd.csv\")\n",
    "    counts.set_index(\"GENE\", inplace=True)\n",
    "    counts = counts.T\n",
    "\n",
    "    # Read metadata and change format\n",
    "    metadata = pd.read_csv(starmap_plus_dir + f\"{batch}_spatial.csv\", skiprows=[1])\n",
    "    metadata.set_index(\"NAME\", inplace=True)\n",
    "\n",
    "    # Merge counts with metadata and store counts in `layers` and spatial coords in `obsm`\n",
    "    adata = ad.AnnData(counts, dtype=np.float32)\n",
    "    adata.obs = pd.merge(adata.obs, metadata, how=\"left\", left_index=True, right_index=True)\n",
    "    adata.obsm[\"spatial\"] = adata.obs[[\"X\", \"Y\"]].values / 1000 # smaller scale for plotting\n",
    "    adata.obs.drop(columns=[\"X\", \"Y\", \"Z\"], inplace=True)\n",
    "    adata.X = sp.csr_matrix(adata.X) # sparse row format\n",
    "    adata.layers[\"counts\"] = adata.X.copy()\n",
    "    \n",
    "    # Preprocess adata\n",
    "    sc.pp.normalize_total(adata, target_sum=1e4)\n",
    "    sc.pp.log1p(adata)\n",
    "    \n",
    "    adata.obs[\"batch\"] = batch\n",
    "    adata.obs[\"dataset\"] = \"cns\"\n",
    "\n",
    "    # Store adata to disk\n",
    "    adata.write(f\"{st_data_gold_folder_path}/{dataset}_batch{batch_idx}.h5ad\")"
   ]
  },
  {
   "cell_type": "markdown",
   "id": "c61221fe-6c6a-4e10-b67f-cefe889d28ec",
   "metadata": {},
   "source": [
    "##### 2.5.1.2 Spatial Transcriptomics Data Subsamples"
   ]
  },
  {
   "cell_type": "code",
   "execution_count": null,
   "id": "7e7541cc-ff3b-4af1-8651-fa96e53580e6",
   "metadata": {},
   "outputs": [],
   "source": [
    "# Create subsamples of all batches for method benchmarking\n",
    "for subsample_pct in [50, 25, 10, 5, 1]:\n",
    "    print(f\"Processing subsample {subsample_pct}pct...\")\n",
    "    batch_indeces = list(np.arange(20) + 1)\n",
    "    batches = [\"sagittal1\",\n",
    "               \"sagittal2\",\n",
    "               \"sagittal3\",\n",
    "               \"spinalcord\",\n",
    "               \"well01OB\",\n",
    "               \"well01brain\",\n",
    "               \"well03\",\n",
    "               \"well04\",\n",
    "               \"well05\",\n",
    "               \"well06\",\n",
    "               \"well07\",\n",
    "               \"well08\",\n",
    "               \"well09\",\n",
    "               \"well10\",\n",
    "               \"well11\",\n",
    "               \"well1_5\",\n",
    "               \"well2_5\",\n",
    "               \"well3_5\",\n",
    "               \"well7_5\",\n",
    "               \"well10_5\"]\n",
    "\n",
    "    for batch_idx, batch in zip(batch_indeces, batches):\n",
    "        print(f\"Loading, preprocessing and saving batch '{batch}'.\")\n",
    "\n",
    "        # Read counts and change format\n",
    "        counts = pd.read_csv(starmap_plus_dir + f\"{batch}raw_expression_pd.csv\")\n",
    "        counts.set_index(\"GENE\", inplace=True)\n",
    "        counts = counts.T\n",
    "\n",
    "        # Read metadata and change format\n",
    "        metadata = pd.read_csv(starmap_plus_dir + f\"{batch}_spatial.csv\", skiprows=[1])\n",
    "        metadata.set_index(\"NAME\", inplace=True)\n",
    "\n",
    "        # Merge counts with metadata and store counts in `layers` and spatial coords in `obsm`\n",
    "        adata = ad.AnnData(counts, dtype=np.float32)\n",
    "        adata.obs = pd.merge(adata.obs, metadata, how=\"left\", left_index=True, right_index=True)\n",
    "        adata.obsm[\"spatial\"] = adata.obs[[\"X\", \"Y\"]].values / 1000 # smaller scale for plotting\n",
    "        adata.obs.drop(columns=[\"X\", \"Y\", \"Z\"], inplace=True)\n",
    "        adata.X = sp.csr_matrix(adata.X) # sparse row format\n",
    "        adata.layers[\"counts\"] = adata.X.copy()\n",
    "\n",
    "        # Preprocess adata\n",
    "        sc.pp.normalize_total(adata, target_sum=1e4)\n",
    "        sc.pp.log1p(adata)\n",
    "        adata.obs[\"batch\"] = batch\n",
    "        adata = adata[:int(subsample_pct/100 * len(adata)),:]\n",
    "\n",
    "        # Store adata to disk\n",
    "        adata.write(f\"{st_data_gold_folder_path}/{dataset}_subsample_{subsample_pct}pct_batch{batch_idx}.h5ad\")"
   ]
  },
  {
   "cell_type": "markdown",
   "id": "6accf9aa-f769-4b92-91ce-22d49c1d5ee2",
   "metadata": {},
   "source": [
    "##### 2.5.1.3 Imputed Data"
   ]
  },
  {
   "cell_type": "markdown",
   "id": "428334d4-bb89-4a7f-9839-4222e9805a67",
   "metadata": {},
   "source": [
    "This is not used in the manuscript."
   ]
  },
  {
   "cell_type": "code",
   "execution_count": null,
   "id": "4ccc29d1-ba95-472c-8a84-a82744a2f827",
   "metadata": {},
   "outputs": [],
   "source": [
    "batch_indeces = [1, 2, 3]\n",
    "batches = [\"sagittal1\", \"sagittal2\", \"sagittal3\"]\n",
    "for batch_idx, batch in zip(batch_indeces, batches):\n",
    "    print(f\"Loading, preprocessing and saving batch '{batch}'.\")    \n",
    "    \n",
    "    # Read adata\n",
    "    adata_imputed = sc.read_h5ad(starmap_plus_dir + f\"imputation_{batch}.h5ad\")\n",
    "\n",
    "    # Read metadata and change format\n",
    "    metadata = pd.read_csv(starmap_plus_dir + f\"{batch}_spatial.csv\", skiprows=[1])\n",
    "    metadata.set_index(\"NAME\", inplace=True)\n",
    "\n",
    "    # Merge adata with metadata\n",
    "    adata_imputed.obs = pd.merge(adata_imputed.obs,\n",
    "                                 metadata,\n",
    "                                 how=\"left\",\n",
    "                                 left_index=True,\n",
    "                                 right_index=True)\n",
    "    \n",
    "    # Format adata\n",
    "    adata_imputed.var_names = adata_imputed.var[\"Gene\"]\n",
    "    adata_imputed.X = adata_imputed.X.astype(np.float32)\n",
    "    adata_imputed.X = (\n",
    "        adata_imputed.X * np.array(adata_imputed.var[\"std\"])) # Undo std scaling of data with sc.pp.scale()\n",
    "    adata_imputed.X = (\n",
    "        adata_imputed.X + np.abs(np.array(adata_imputed.X.min(axis=0)))) # Undo mean scaling of data with sc.pp.scale()\n",
    "    \n",
    "    # Threshold gene expression values to create a sparse row matrix\n",
    "    adata = sc.read_h5ad(f\"{st_data_gold_folder_path}/{dataset}_batch{batch_idx}.h5ad\")\n",
    "    avg_nnz_per_gene = round(adata.X.nnz / adata.X.shape[1]) \n",
    "    zero_threshs = np.partition(\n",
    "        adata_imputed.X, -avg_nnz_per_gene, axis=0)[-avg_nnz_per_gene,:] # threshhold based on the 'avg_nnz_per_gene'th\n",
    "                                                                         # largest value per gene to arrive at an equal nnz per gene\n",
    "    adata_imputed.X[adata_imputed.X < zero_threshs] = 0\n",
    "    adata_imputed.X = sp.csr_matrix(adata_imputed.X)\n",
    "    adata_imputed.var.drop(columns=[\"Gene\", \"mean\", \"std\"], inplace=True)\n",
    "    adata_imputed.obsm[\"spatial\"] = adata_imputed.obs[[\"X\", \"Y\"]].values / 1000 # smaller scale for plotting with squidpy\n",
    "    adata_imputed.obs.drop(columns=[\"X\", \"Y\", \"Z\"], inplace=True)\n",
    "    adata_imputed.obs[\"batch\"] = batch\n",
    "\n",
    "    # Store adata to disk\n",
    "    adata_imputed.write(f\"{st_data_gold_folder_path}/{dataset}_imputed_batch{batch_idx}.h5ad\")"
   ]
  },
  {
   "cell_type": "markdown",
   "id": "a44d988f-3497-4e54-b3e0-83e01147c055",
   "metadata": {
    "tags": []
   },
   "source": [
    "#### 2.5.2 Explore Data"
   ]
  },
  {
   "cell_type": "markdown",
   "id": "e56054fc-7c6c-4d34-94c3-70c7d9dedd7e",
   "metadata": {},
   "source": [
    "##### 2.5.2.1 Spatial Transcriptomics Data"
   ]
  },
  {
   "cell_type": "code",
   "execution_count": null,
   "id": "0990d118-e053-487e-ab0b-2cadb961a26e",
   "metadata": {},
   "outputs": [],
   "source": [
    "batch_indeces = list(np.arange(20) + 1)\n",
    "for batch_idx in batch_indeces:\n",
    "    adata = sc.read_h5ad(f\"{st_data_gold_folder_path}/{dataset}_batch{batch_idx}.h5ad\")\n",
    "    \n",
    "    print(f\"Exploring dataset {dataset}_batch{batch_idx}.\")\n",
    "    print(f\"Number of nodes (cells): {adata.X.shape[0]}\")\n",
    "    print(f\"Number of node features (genes): {adata.X.shape[1]}\")\n",
    "\n",
    "    # Visualize cell-level annotated data in physical space\n",
    "    sq.pl.spatial_scatter(adata, color=cell_type_key, shape=None, figsize=(12, 12))        "
   ]
  },
  {
   "cell_type": "markdown",
   "id": "b4555100-ff65-42aa-8fed-b804e14d2d87",
   "metadata": {},
   "source": [
    "##### 2.5.2.2 Spatial Transcriptomics Data Subsamples"
   ]
  },
  {
   "cell_type": "code",
   "execution_count": null,
   "id": "ad7b9067-19c3-4a9c-98da-afad5469e516",
   "metadata": {},
   "outputs": [],
   "source": [
    "for batch_idx in [1]:\n",
    "    for subsample_pct in [50, 25, 10, 5, 1]:\n",
    "        adata = sc.read_h5ad(f\"{st_data_gold_folder_path}/{dataset}_subsample_{subsample_pct}pct_batch{batch_idx}.h5ad\")\n",
    "\n",
    "        print(f\"Exploring dataset {dataset}_batch{batch_idx}.\")\n",
    "        print(f\"Number of nodes (cells): {adata.X.shape[0]}\")\n",
    "        print(f\"Number of node features (genes): {adata.X.shape[1]}\")\n",
    "\n",
    "        # Visualize cell-level annotated data in physical space\n",
    "        sq.pl.spatial_scatter(adata, color=cell_type_key, shape=None, figsize=(12, 12))        "
   ]
  },
  {
   "cell_type": "markdown",
   "id": "add0d5a9-b50f-493c-b4ca-98f882222870",
   "metadata": {},
   "source": [
    "##### 2.5.2.3 Imputed Data"
   ]
  },
  {
   "cell_type": "code",
   "execution_count": null,
   "id": "8fb19ba7-267b-47dc-9118-c562b6986314",
   "metadata": {},
   "outputs": [],
   "source": [
    "batch_indeces = [1, 2, 3]\n",
    "for batch_idx in [1, 2, 3]:\n",
    "    adata = sc.read_h5ad(f\"{st_data_gold_folder_path}/{dataset}_imputed_batch{batch_idx}.h5ad\")\n",
    "    \n",
    "    print(f\"Exploring dataset {dataset}_batch{batch_idx}.\")\n",
    "    print(f\"Number of nodes (cells): {adata.X.shape[0]}\")\n",
    "    print(f\"Number of node features (genes): {adata.X.shape[1]}\")\n",
    "\n",
    "    # Visualize cell-level annotated data in physical space\n",
    "    sq.pl.spatial_scatter(adata, color=cell_type_key, shape=None, figsize=(12, 12))        "
   ]
  },
  {
   "cell_type": "markdown",
   "id": "809ccb4e-9988-4c92-a40d-8e3cf8c113ca",
   "metadata": {},
   "source": [
    "### 2.6 Xenium Human Breast Cancer"
   ]
  },
  {
   "cell_type": "markdown",
   "id": "c0722679-daa4-463e-b90a-38af538c79e8",
   "metadata": {},
   "source": [
    "- **Publication:** Janesick, A. et al. High resolution mapping of the breast cancer tumor microenvironment using integrated single cell, spatial and in situ analysis of FFPE tissue. bioRxiv 2022.10.06.510405 (2022) doi:10.1101/2022.10.06.510405.\n",
    "- **Data Access:** \n",
    "    - https://www.10xgenomics.com/products/xenium-in-situ/preview-dataset-human-breast\n",
    "    - Only sample 1 has been used but there is an additional sample\n",
    "- **Data Structure:**\n",
    "    - ```\n",
    "         ├── ../datasets/st_data/bronze/xenium_human_breast_cancer\n",
    "         │  ├── sample1/rep1\n",
    "         │      ├── cell_feature_matrix.h5\n",
    "         │      ├── cells.csv.gz\n",
    "         │  ├── sample1/rep2\n",
    "         │      ├── cell_feature_matrix.h5\n",
    "         │      ├── cells.csv.gz\n",
    "      ```\n",
    "- **Summary:**\n",
    "    - 2 FFPE tissue slice replicates of human breast cancer\n",
    "    - 896,638 observations at cellular resolution without annotations\n",
    "        - Sample 1, Replicate 1: 164,000 observations\n",
    "        - Sample 1, Replicate 2: 118,363 observations\n",
    "    - 313 probed genes"
   ]
  },
  {
   "cell_type": "code",
   "execution_count": null,
   "id": "d751fb52-7d31-45db-8176-b4d0216f1306",
   "metadata": {},
   "outputs": [],
   "source": [
    "dataset = \"xenium_human_breast_cancer\"\n",
    "cell_type_key = \"cell_states\""
   ]
  },
  {
   "cell_type": "markdown",
   "id": "d8c5c80e-245c-4cc5-9455-4633adf1accc",
   "metadata": {
    "tags": []
   },
   "source": [
    "#### 2.6.1 Load & Preprocess Raw Data"
   ]
  },
  {
   "cell_type": "code",
   "execution_count": null,
   "id": "62430725-3171-403b-b12a-b10c8d878acf",
   "metadata": {},
   "outputs": [],
   "source": [
    "# Load and combine data\n",
    "xenium_dir = f\"{st_data_bronze_folder_path}/{dataset}/\"\n",
    "adata_rep1 = sc.read_10x_h5(filename=xenium_dir + \"sample1/rep1/cell_feature_matrix.h5\")\n",
    "metadata_rep1 = pd.read_csv(xenium_dir + \"sample1/rep1/cells.csv.gz\")\n",
    "adata_rep2 = sc.read_10x_h5(filename=xenium_dir + \"sample1/rep2/cell_feature_matrix.h5\")\n",
    "metadata_rep2 = pd.read_csv(xenium_dir + \"sample1/rep2/cells.csv.gz\")\n",
    "\n",
    "metadata_rep1.set_index(adata_rep1.obs_names, inplace=True)\n",
    "adata_rep1.obs = metadata_rep1.copy()\n",
    "adata_rep1.obsm[\"spatial\"] = adata_rep1.obs[[\"x_centroid\", \"y_centroid\"]].copy().to_numpy()\n",
    "adata_rep1.obs.head()\n",
    "\n",
    "print(f\"Step 1 Rep 1: Number of cells: {len(adata_rep1)}\")\n",
    "print(f\"Step 1 Rep 1: Number of genes: {len(adata_rep1.var_names)}\")\n",
    "\n",
    "metadata_rep2.set_index(adata_rep2.obs_names, inplace=True)\n",
    "adata_rep2.obs = metadata_rep2.copy()\n",
    "adata_rep2.obsm[\"spatial\"] = adata_rep2.obs[[\"x_centroid\", \"y_centroid\"]].copy().to_numpy()\n",
    "adata_rep2.obs.head()\n",
    "\n",
    "print(f\"Step 1 Rep 2: Number of cells: {len(adata_rep2)}\")\n",
    "print(f\"Step 1 Rep 2: Number of genes: {len(adata_rep2.var_names)}\")\n",
    "\n",
    "adata = adata_rep1.concatenate(adata_rep2, batch_key = 'replicates', batch_categories = ['Rep_1', 'Rep_2'], join = 'inner')\n",
    "adata\n",
    "\n",
    "print(f\"Step 1: Number of cells: {len(adata)}\")\n",
    "print(f\"Step 1: Number of genes: {len(adata.var_names)}\")"
   ]
  },
  {
   "cell_type": "code",
   "execution_count": null,
   "id": "0b464672-be85-4e24-8721-a0661685bce6",
   "metadata": {},
   "outputs": [],
   "source": [
    "## Perform basic QC analysis á la Squidpy\n",
    "sc.pp.calculate_qc_metrics(adata, percent_top = (10, 20, 50, 150), inplace = True)\n",
    "\n",
    "# Calculate percentage of control probes and control codewords\n",
    "cprobes = (\n",
    "    adata.obs[\"control_probe_counts\"].sum() / adata.obs[\"total_counts\"].sum() * 100\n",
    ")\n",
    "cwords = (\n",
    "    adata.obs[\"control_codeword_counts\"].sum() / adata.obs[\"total_counts\"].sum() * 100\n",
    ")\n",
    "print(f\"Negative DNA probe count % : {cprobes}\")\n",
    "print(f\"Negative decoding count % : {cwords}\")"
   ]
  },
  {
   "cell_type": "code",
   "execution_count": null,
   "id": "aad62bc1-6a1d-4a55-a667-93d2fea8db30",
   "metadata": {},
   "outputs": [],
   "source": [
    "# Plot distribution of total transcripts per cell, unique transcripts per cell,\n",
    "# area of segmented cells and the ratio of nuclei area to their cells\n",
    "fig, axs = plt.subplots(1, 4, figsize = (15, 4))\n",
    "\n",
    "axs[0].set_title(\"Total transcripts per cell\")\n",
    "sns.histplot(\n",
    "    adata.obs[\"total_counts\"],\n",
    "    kde=False,\n",
    "    ax=axs[0],\n",
    ")\n",
    "\n",
    "axs[1].set_title(\"Unique transcripts per cell\")\n",
    "sns.histplot(\n",
    "    adata.obs[\"n_genes_by_counts\"],\n",
    "    kde=False,\n",
    "    ax=axs[1],\n",
    ")\n",
    "\n",
    "\n",
    "axs[2].set_title(\"Area of segmented cells\")\n",
    "sns.histplot(\n",
    "    adata.obs[\"cell_area\"],\n",
    "    kde=False,\n",
    "    ax=axs[2],\n",
    ")\n",
    "\n",
    "axs[3].set_title(\"Nucleus ratio\")\n",
    "sns.histplot(\n",
    "    adata.obs[\"nucleus_area\"] / adata_rep1.obs[\"cell_area\"],\n",
    "    kde=False,\n",
    "    ax=axs[3],\n",
    ")"
   ]
  },
  {
   "cell_type": "code",
   "execution_count": null,
   "id": "16c7dff3-479a-4e8d-91fd-c146096f2ac6",
   "metadata": {},
   "outputs": [],
   "source": [
    "# Filter cells\n",
    "sc.pp.filter_cells(adata, min_counts = 10)\n",
    "sc.pp.filter_cells(adata, min_genes = 3)\n",
    "sc.pp.filter_genes(adata, min_counts = 1)\n",
    "sc.pp.filter_genes(adata, min_cells = 2)\n",
    "adata\n",
    "\n",
    "print(f\"Step 2: Number of cells: {len(adata)}\")\n",
    "print(f\"Step 2: Number of genes: {len(adata.var_names)}\")"
   ]
  },
  {
   "cell_type": "code",
   "execution_count": null,
   "id": "3d64cd76-b383-4f7d-a493-056c7d25b559",
   "metadata": {},
   "outputs": [],
   "source": [
    "# Normalize and transform data\n",
    "adata.layers[\"counts\"] = adata.X.copy()\n",
    "sc.pp.normalize_total(adata, inplace = True)\n",
    "sc.pp.log1p(adata)"
   ]
  },
  {
   "cell_type": "code",
   "execution_count": null,
   "id": "e8fd427a-e3f8-4934-8afd-236650eadc75",
   "metadata": {},
   "outputs": [],
   "source": [
    "# Visualize manifold\n",
    "sc.pp.pca(adata, n_comps = 50, random_state = 1712)\n",
    "sc.pp.neighbors(adata, n_neighbors = 50, random_state = 1769, method = 'umap')\n",
    "sc.tl.leiden(adata, resolution = 2, random_state = 1786)\n",
    "sc.tl.umap(adata, min_dist = 0.3, spread = 2, random_state = 1789)"
   ]
  },
  {
   "cell_type": "code",
   "execution_count": null,
   "id": "a71b59b3-fc46-45a2-a26d-e523eb4780e7",
   "metadata": {},
   "outputs": [],
   "source": [
    "sc.pl.umap(\n",
    "    adata,\n",
    "    color = [\n",
    "        \"total_counts\",\n",
    "        \"n_genes_by_counts\",\n",
    "        \"leiden\",\n",
    "    ],\n",
    "    wspace = 0.4,\n",
    "    frameon = False, \n",
    "    size = 1\n",
    ")"
   ]
  },
  {
   "cell_type": "code",
   "execution_count": null,
   "id": "f2a4d80b-5847-451a-b24d-ca70d4ac8a56",
   "metadata": {},
   "outputs": [],
   "source": [
    "# Characterize clusters\n",
    "sc.tl.rank_genes_groups(adata, 'leiden', method = 'wilcoxon', n_genes = 100, use_raw = False)\n",
    "result = adata.uns['rank_genes_groups']\n",
    "groups = result['names'].dtype.names\n",
    "markers_cells = pd.DataFrame(\n",
    "    {group + '_' + key[:1]: result[key][group]\n",
    "    for group in groups for key in ['names', 'pvals_adj', 'logfoldchanges']})\n",
    "markers_cells.head(5)"
   ]
  },
  {
   "cell_type": "code",
   "execution_count": null,
   "id": "5dbb5a45-3710-4799-8cd1-5dd772bb3958",
   "metadata": {},
   "outputs": [],
   "source": [
    "adata.obs['leiden'].cat.categories"
   ]
  },
  {
   "cell_type": "code",
   "execution_count": null,
   "id": "51386183-0191-4faa-9a3a-58b8bcf99b33",
   "metadata": {},
   "outputs": [],
   "source": [
    "adata.obs['cell_states'] = adata.obs['leiden'].copy()\n",
    "adata.obs['cell_states'] = adata.obs['cell_states'].cat.rename_categories(['Epi_ABCC11+', 'EC_CLEC14A+', 'adipo_FB', 'tcm_CD4+T', 'CD161+FOXP3+T', 'eff_CD8+T1', 'ADIPOQ+Mast', 'Epi_FOXA1+', 'GJB2+iKC-FB', 'EMT-Epi1_CEACAM6+', 'DC1', \n",
    "                                                                           'M2MØ', 'Epi_AGR3+', 'Epi_CENPF+', 'mgEpi_KRT14+', 'DERL3+B', 'EMT-Epi2_CEACAM6+', 'EMT-Epi_SERPINA3+', 'BANK1+B', 'EMT-Epi_KRT23+', 'MMP12+miMØ',\n",
    "                                                                           'eff_CD8+T2', 'B', 'Epi_KRT14+', 'NK/T', 'EC_CAVIN2+'])\n",
    "sc.pl.umap(adata, color = ['cell_states'], size = 0.8, legend_fontsize = 6, legend_loc = 'on data', frameon = False)"
   ]
  },
  {
   "cell_type": "code",
   "execution_count": null,
   "id": "14f2603e-a5d6-4220-b746-db73d14b5ab9",
   "metadata": {},
   "outputs": [],
   "source": [
    "# Split replicates\n",
    "adata_rep1 = adata[adata.obs['replicates'].isin(['Rep_1'])]\n",
    "adata_rep2 = adata[adata.obs['replicates'].isin(['Rep_2'])]"
   ]
  },
  {
   "cell_type": "code",
   "execution_count": null,
   "id": "febb4359-8c33-471a-a86a-244eb6252e4a",
   "metadata": {},
   "outputs": [],
   "source": [
    "adata_rep1.write(f\"{st_data_gold_folder_path}/{dataset}_batch1.h5ad\")\n",
    "adata_rep2.write(f\"{st_data_gold_folder_path}/{dataset}_batch2.h5ad\")"
   ]
  },
  {
   "cell_type": "markdown",
   "id": "d2a4bf79-3227-423d-9a8e-c162042d221e",
   "metadata": {},
   "source": [
    "#### 2.6.2 Explore Data"
   ]
  },
  {
   "cell_type": "code",
   "execution_count": null,
   "id": "66775d00-11ea-4d35-8e28-c02b3ebc698e",
   "metadata": {},
   "outputs": [],
   "source": [
    "batch_indeces = [1, 2]\n",
    "for batch_idx in batch_indeces:\n",
    "    adata = sc.read_h5ad(f\"{st_data_gold_folder_path}/{dataset}_batch{batch_idx}.h5ad\")\n",
    "\n",
    "    print(f\"Exploring dataset {dataset}_batch{batch_idx}.\")\n",
    "    print(f\"Number of nodes (cells): {adata.X.shape[0]}\")\n",
    "    print(f\"Number of node features (genes): {adata.X.shape[1]}\")\n",
    "\n",
    "    # Visualize cell-level annotated data in physical space\n",
    "    sq.pl.spatial_scatter(adata, color=cell_type_key, shape=None, figsize=(12, 12))"
   ]
  },
  {
   "cell_type": "markdown",
   "id": "d195d732-5393-4bf1-9f98-928eb32c3907",
   "metadata": {
    "tags": []
   },
   "source": [
    "### 2.7 Spatial ATAC-RNA-Seq Mouse Embryo & Brain"
   ]
  },
  {
   "cell_type": "markdown",
   "id": "91f21c94-d389-446f-ba9e-ea60883bb194",
   "metadata": {},
   "source": [
    "- **Publication:** Zhang, D. et al. Spatial epigenome–transcriptome co-profiling of mammalian tissues. Nature 1–10 (2023): https://www.nature.com/articles/s41586-023-05795-1.\n",
    "- **Data Access:** \n",
    "    - RNA raw counts & spatial coordinates: https://www.ncbi.nlm.nih.gov/geo/query/acc.cgi?acc=GSE205055\n",
    "    - Cell type labels & ATAC peaks raw counts: https://brain-spatial-omics.cells.ucsc.edu\n",
    "- **Data Structure:**\n",
    "    - ```\n",
    "         ├── ../datasets/st_data/bronze\n",
    "         │  └── spatial_atac_rna_seq_mouse_embryo\n",
    "         │    ├── GSM6799937_ME13_50um_matrix_merge.tsv.gz (E13 RNA-seq raw counts)    \n",
    "         │    ├── tissue_positions_list_e13.csv (E13 spatial coordinates)\n",
    "         │    ├── meta_e13.tsv (E13 metadata)\n",
    "         │  └── spatial_atac_rna_seq_mouse_brain\n",
    "         │    ├── GSM6204636_MouseBrain_20um_matrix.tsv.gz (P21 RNA-seq raw counts)\n",
    "         │    ├── GSM6753043_MouseBrain_20um_100barcodes_ATAC_matrix.tsv.gz (P22 RNA-seq raw counts)\n",
    "         │    ├── tissue_positions_list_p21.csv (P21 spatial coordinates)\n",
    "         │    ├── tissue_positions_list_p22.csv (P22 spatial coordinates)\n",
    "         │    ├── meta_p21.tsv (P21 metadata)\n",
    "         │    ├── meta_p22.tsv (P22 metadata)\n",
    "         ├── ../datasets/st_data/silver\n",
    "         │  ├── spatial_atac_rna_seq_mouse_embryo_e13.h5ad (E13 ATAC peaks raw counts)\n",
    "         │  ├── spatial_atac_rna_seq_mouse_brain_p22.h5ad (P22 ATAC peaks raw counts)\n",
    "      ```\n",
    "- **Summary:**\n",
    "    - Embryonic day 13 mouse embryo (E13; pixel size 50 μm), mouse postnatal day 21 & 22 brains (P21 & P22; pixel size 20 μm)\n",
    "    - We use the preprocessed ATAC peaks counts. Preprocessing has been done here: https://github.com/di-0579/Spatial_epigenome-transcriptome_co-sequencing/blob/main/Data_visualization/01_joint_P21C_RNA.R. The preprocessed Seurat objects are converted to adata with the script located at ```nichecompass-reproducibility/scripts/data_preparation/spatial_atac_rna_seq_mouse_embryo_and_brain_data_preparation.R```.\n",
    "    - Also available: histone modification modality for mouse tissues; adult human brain hippocampus tissue (pixel size: 50 μm)"
   ]
  },
  {
   "cell_type": "code",
   "execution_count": null,
   "id": "62ee40d1-eacb-4e79-bca4-cd635be8e60f",
   "metadata": {
    "tags": []
   },
   "outputs": [],
   "source": [
    "dataset_embryo = \"spatial_atac_rna_seq_mouse_embryo\"\n",
    "dataset_brain = \"spatial_atac_rna_seq_mouse_brain\""
   ]
  },
  {
   "cell_type": "markdown",
   "id": "9944ca5a-ae6e-454a-abbc-10b4f0aee41a",
   "metadata": {},
   "source": [
    "#### 2.7.1 Load & Preprocess Raw Data"
   ]
  },
  {
   "cell_type": "raw",
   "id": "8fc20ae9-f764-4675-a893-1b0405a06dd0",
   "metadata": {
    "tags": []
   },
   "source": [
    "# Write embryo dataset adata to disk\n",
    "batch = \"e13\"\n",
    "rna_file_name = \"GSM6799937_ME13_50um_matrix_merge.tsv.gz\"\n",
    "\n",
    "# Load spatial coordinates\n",
    "df_spatial = pd.read_csv(\n",
    "    f\"{st_data_bronze_folder_path}/{dataset_embryo}/tissue_positions_list_{batch}.csv\",\n",
    "    header=None)\n",
    "df_spatial.index = df_spatial[0]\n",
    "\n",
    "# Load metadata with cell labels\n",
    "df_meta = pd.read_csv(\n",
    "    f\"{st_data_bronze_folder_path}/{dataset_embryo}/meta_{batch}.tsv\",\n",
    "    sep=\"\\t\",\n",
    "    index_col=0)\n",
    "\n",
    "# Load and format RNA-seq data\n",
    "adata_rna_tmp = sc.read_text(\n",
    "    f\"{st_data_bronze_folder_path}/{dataset_embryo}/{rna_file_name}\")\n",
    "adata_rna = sc.AnnData(\n",
    "    sp.csr_matrix(adata_rna_tmp.X.T, dtype=np.float32))\n",
    "adata_rna.var = adata_rna_tmp.obs\n",
    "adata_rna.obs = adata_rna_tmp.var\n",
    "del(adata_rna_tmp)\n",
    "adata_rna.obs = adata_rna.obs.join(df_spatial)\n",
    "adata_rna.obsm[\"spatial\"] = adata_rna.obs[[4, 5]].values\n",
    "adata_rna.obs = adata_rna.obs.drop([0, 1, 2, 3, 4, 5], axis=1)\n",
    "adata_rna.obs = adata_rna.obs.join(df_meta)\n",
    "\n",
    "# Store gene expression counts in 'counts' layer\n",
    "adata_rna.layers[\"counts\"] = adata_rna.X\n",
    "\n",
    "# Add batch\n",
    "adata_rna.obs[\"batch\"] = batch\n",
    "\n",
    "print(f\"Step 1: Number of cells: {len(adata_rna)}\")\n",
    "print(f\"Step 1: Number of genes: {len(adata_rna.var_names)}\")\n",
    "\n",
    "adata_rna.write(f\"{st_data_gold_folder_path}/{dataset_embryo}.h5ad\")\n",
    "\n",
    "# Load and format ATAC preprocessed data\n",
    "adata_atac = sc.read_h5ad(f\"{st_data_silver_folder_path}/{dataset_embryo}_{batch}.h5ad\")\n",
    "adata_atac.X = adata_atac.X.astype(np.float32)\n",
    "adata_atac.obs = adata_atac.obs.drop(adata_atac.obs.columns, axis=1)\n",
    "adata_atac.var = adata_atac.var.drop(adata_atac.var.columns, axis=1)\n",
    "del(adata_atac.obsm[\"X_umap\"])\n",
    "adata_atac.obs = adata_atac.obs.join(df_spatial)\n",
    "adata_atac.obsm[\"spatial\"] = adata_atac.obs[[4, 5]].values\n",
    "adata_atac.obs = adata_atac.obs.drop([0, 1, 2, 3, 4, 5], axis=1)\n",
    "adata_atac.obs = adata_atac.obs.join(df_meta)\n",
    "adata_atac.var.index = adata_atac.var.index.str.replace(\"-\", \":\", 1)\n",
    "adata_atac.__dict__['_raw'].__dict__['_var'] = adata_atac.__dict__['_raw'].__dict__['_var'].rename(columns={'_index': 'features'})\n",
    "\n",
    "# Store chromatin accessibility counts in 'counts' layer\n",
    "adata_atac.layers[\"counts\"] = adata_atac.X\n",
    "\n",
    "# Add batch\n",
    "adata_atac.obs[\"batch\"] = batch\n",
    "\n",
    "# Bring 'adata_atac' in same order as 'adata_rna'\n",
    "adata_atac = adata_atac[adata_rna.obs.index, :]\n",
    "\n",
    "print(f\"Step 1: Number of cells: {len(adata_atac)}\")\n",
    "print(f\"Step 1: Number of peaks: {len(adata_atac.var_names)}\")\n",
    "\n",
    "adata_atac.write(f\"{st_data_gold_folder_path}/{dataset_embryo}_atac.h5ad\")\n",
    "del(adata_atac)\n",
    "\n",
    "del(df_spatial)\n",
    "del(df_meta)\n",
    "del(adata_rna)\n",
    "\n",
    "gc.collect()"
   ]
  },
  {
   "cell_type": "code",
   "execution_count": null,
   "id": "70c880f3-4ab7-4520-b143-ae8d6219c250",
   "metadata": {},
   "outputs": [],
   "source": [
    "# Write brain dataset adata to disk separated by batches\n",
    "batch_indeces = list(np.arange(2) + 1)\n",
    "batches = [\"p21\",\n",
    "           \"p22\"]\n",
    "rna_file_names = [\"GSM6204636_MouseBrain_20um_matrix.tsv.gz\",\n",
    "                  \"GSM6753043_MouseBrain_20um_100barcodes_ATAC_matrix.tsv.gz\"]\n",
    "\n",
    "for batch_idx, batch, rna_file_name in zip(batch_indeces,\n",
    "                                           batches,\n",
    "                                           rna_file_names):\n",
    "    # Load spatial coordinates\n",
    "    df_spatial = pd.read_csv(\n",
    "        f\"{st_data_bronze_folder_path}/{dataset_brain}/tissue_positions_list_{batch}.csv\",\n",
    "        header=None)\n",
    "    df_spatial.index = df_spatial[0]\n",
    "\n",
    "    # Load metadata with cell labels\n",
    "    df_meta = pd.read_csv(\n",
    "        f\"{st_data_bronze_folder_path}/{dataset_brain}/meta_{batch}.tsv\",\n",
    "        sep=\"\\t\",\n",
    "        index_col=0)\n",
    "\n",
    "    # Load and format RNA-seq data\n",
    "    adata_rna_tmp = sc.read_text(\n",
    "        f\"{st_data_bronze_folder_path}/{dataset_brain}/{rna_file_name}\")\n",
    "    adata_rna = sc.AnnData(\n",
    "        sp.csr_matrix(adata_rna_tmp.X.T, dtype=np.float32))\n",
    "    adata_rna.var = adata_rna_tmp.obs\n",
    "    adata_rna.obs = adata_rna_tmp.var\n",
    "    del(adata_rna_tmp)\n",
    "    adata_rna.obs = adata_rna.obs.join(df_spatial)\n",
    "    adata_rna.obsm[\"spatial\"] = adata_rna.obs[[4, 5]].values\n",
    "    adata_rna.obs = adata_rna.obs.drop([0, 1, 2, 3, 4, 5], axis=1)\n",
    "    adata_rna.obs = adata_rna.obs.join(df_meta)\n",
    "\n",
    "    # Store gene expression counts in 'counts' layer\n",
    "    adata_rna.layers[\"counts\"] = adata_rna.X\n",
    "    \n",
    "    # Add batch\n",
    "    adata_rna.obs[\"batch\"] = batch\n",
    "    \n",
    "    print(f\"Step 1: Number of cells: {len(adata_rna)}\")\n",
    "    print(f\"Step 1: Number of genes: {len(adata_rna.var_names)}\")\n",
    "\n",
    "    adata_rna.write(f\"{st_data_gold_folder_path}/{dataset_brain}_batch{batch_idx}.h5ad\")\n",
    "    \n",
    "    # Load and format ATAC preprocessed data\n",
    "    try:\n",
    "        adata_atac = sc.read_h5ad(f\"{st_data_silver_folder_path}/{dataset_brain}_{batch}.h5ad\")\n",
    "        adata_atac.X = adata_atac.X.astype(np.float32)\n",
    "        adata_atac.obs = adata_atac.obs.drop(adata_atac.obs.columns, axis=1)\n",
    "        adata_atac.var = adata_atac.var.drop(adata_atac.var.columns, axis=1)\n",
    "        del(adata_atac.obsm[\"X_umap\"])\n",
    "        adata_atac.obs = adata_atac.obs.join(df_spatial)\n",
    "        adata_atac.obsm[\"spatial\"] = adata_atac.obs[[4, 5]].values\n",
    "        adata_atac.obs = adata_atac.obs.drop([0, 1, 2, 3, 4, 5], axis=1)\n",
    "        adata_atac.obs = adata_atac.obs.join(df_meta)\n",
    "        adata_atac.var.index = adata_atac.var.index.str.replace(\"-\", \":\", 1)\n",
    "        adata_atac.__dict__['_raw'].__dict__['_var'] = adata_atac.__dict__['_raw'].__dict__['_var'].rename(columns={'_index': 'features'})\n",
    "        \n",
    "        # Store chromatin accessibility counts in 'counts' layer\n",
    "        adata_atac.layers[\"counts\"] = adata_atac.X\n",
    "\n",
    "        # Add batch\n",
    "        adata_atac.obs[\"batch\"] = batch\n",
    "        \n",
    "        # Bring 'adata_atac' in same order as 'adata_rna'\n",
    "        adata_atac = adata_atac[adata_rna.obs.index, :]\n",
    "        \n",
    "    \n",
    "        print(f\"Step 1: Number of cells: {len(adata_atac)}\")\n",
    "        print(f\"Step 1: Number of genes: {len(adata_atac.var_names)}\")\n",
    "\n",
    "        adata_atac.write(f\"{st_data_gold_folder_path}/{dataset_brain}_batch{batch_idx}_atac.h5ad\")\n",
    "        del(adata_atac)\n",
    "    except:\n",
    "        print(f\"Could not find preprocessed ATAC data for batch {batch}.\")\n",
    "\n",
    "    del(df_spatial)\n",
    "    del(df_meta)\n",
    "    del(adata_rna)\n",
    "    \n",
    "    gc.collect()"
   ]
  },
  {
   "cell_type": "markdown",
   "id": "6935d13f-7700-44c5-ab94-c8673aae2195",
   "metadata": {},
   "source": [
    "#### 2.7.2 Explore Data"
   ]
  },
  {
   "cell_type": "markdown",
   "id": "44fcecda-b067-47ad-b6d3-b70dd459a3fd",
   "metadata": {},
   "source": [
    "##### 2.7.2.1 Spatial Multi-omics Data (RNA)"
   ]
  },
  {
   "cell_type": "code",
   "execution_count": null,
   "id": "403b7f13-8285-452f-a699-5ca66031e17f",
   "metadata": {},
   "outputs": [],
   "source": [
    "adata_rna = sc.read_h5ad(f\"{st_data_gold_folder_path}/{dataset_embryo}_rna.h5ad\")\n",
    "\n",
    "print(f\"Exploring dataset {dataset_embryo}_rna.\")\n",
    "print(f\"Number of nodes (cells): {adata_rna.X.shape[0]}\")\n",
    "print(f\"Number of node features (genes): {adata_rna.X.shape[1]}\")\n",
    "\n",
    "# Visualize cell-level annotated data in physical space\n",
    "sq.pl.spatial_scatter(adata_rna, color=\"RNA_clusters\", shape=None)        "
   ]
  },
  {
   "cell_type": "code",
   "execution_count": null,
   "id": "edaf6f94-c7ed-47a3-a2f4-51305544e862",
   "metadata": {
    "tags": []
   },
   "outputs": [],
   "source": [
    "for batch_idx in batch_indeces:\n",
    "    adata_rna = sc.read_h5ad(f\"{st_data_gold_folder_path}/{dataset_brain}_batch{batch_idx}_rna.h5ad\")\n",
    "    \n",
    "    print(f\"Exploring dataset {dataset_brain}_batch{batch_idx}_rna.\")\n",
    "    print(f\"Number of nodes (cells): {adata_rna.X.shape[0]}\")\n",
    "    print(f\"Number of node features (genes): {adata_rna.X.shape[1]}\")\n",
    "\n",
    "    # Visualize cell-level annotated data in physical space\n",
    "    sq.pl.spatial_scatter(adata_rna, color=\"RNA_clusters\", shape=None)        "
   ]
  },
  {
   "cell_type": "markdown",
   "id": "e8ffba8c-2cef-4486-a079-6c7d433113d3",
   "metadata": {},
   "source": [
    "##### 2.7.2.2 Spatial Multi-omics Data (ATAC)"
   ]
  },
  {
   "cell_type": "code",
   "execution_count": null,
   "id": "6952b1ae-5b4a-4631-8160-ee3d6b0c7b71",
   "metadata": {},
   "outputs": [],
   "source": [
    "adata_atac = sc.read_h5ad(f\"{st_data_gold_folder_path}/{dataset_embryo}_atac.h5ad\")\n",
    "\n",
    "print(f\"Exploring dataset {dataset_embryo}_batch{batch_idx}_atac.\")\n",
    "print(f\"Number of nodes (cells): {adata_atac.X.shape[0]}\")\n",
    "print(f\"Number of node features (genes): {adata_atac.X.shape[1]}\")\n",
    "\n",
    "# Visualize cell-level annotated data in physical space\n",
    "sq.pl.spatial_scatter(adata_atac, color=\"ATAC_clusters\", shape=None)        "
   ]
  },
  {
   "cell_type": "code",
   "execution_count": null,
   "id": "76bcb1ae-6ef8-4f56-b1dc-0e9a6b12efa6",
   "metadata": {
    "tags": []
   },
   "outputs": [],
   "source": [
    "for batch_idx in batch_indeces:\n",
    "    try:\n",
    "        adata_atac = sc.read_h5ad(f\"{st_data_gold_folder_path}/{dataset_brain}_batch{batch_idx}_atac.h5ad\")\n",
    "\n",
    "        print(f\"Exploring dataset {dataset_brain}_batch{batch_idx}_atac.\")\n",
    "        print(f\"Number of nodes (cells): {adata_atac.X.shape[0]}\")\n",
    "        print(f\"Number of node features (genes): {adata_atac.X.shape[1]}\")\n",
    "\n",
    "        # Visualize cell-level annotated data in physical space\n",
    "        sq.pl.spatial_scatter(adata_atac, color=\"ATAC_clusters\", shape=None)\n",
    "    except:\n",
    "        print(f\"Could not find preprocessed ATAC data for batch {batch}.\")"
   ]
  },
  {
   "cell_type": "markdown",
   "id": "141c3200-5d4d-47c2-b616-27d03853b4aa",
   "metadata": {},
   "source": [
    "### 2.8 MERFISH Mouse Brain"
   ]
  },
  {
   "cell_type": "markdown",
   "id": "ced00dd6-f2e5-45d3-afea-6b6808129dc8",
   "metadata": {},
   "source": [
    "- **Publication:** Zhang, M. et al. Molecularly defined and spatially resolved cell atlas of the whole mouse brain. Nature 624, 343–354 (2023)\n",
    "- **Data Access:** https://cellxgene.cziscience.com/collections/0cca8620-8dee-45d0-aef5-23f032a5cf09\n",
    "- **Data Structure**:\n",
    "    - ```\n",
    "         ├── ../datasets/st_data/bronze/merfish_mouse_brain\n",
    "         │  ├──  WB_MERFISH_animal1_coronal.h5ad\n",
    "            ├──  WB_MERFISH_animal2_coronal.h5ad\n",
    "            ├──  WB_MERFISH_animal3_sagittal.h5ad\n",
    "            ├──  WB_MERFISH_animal4_sagittal.h5ad\n",
    "      ```\n",
    "- **Summary:**\n",
    "    - 239 coronal and sagittal sections from four mice\n",
    "    - 8.4 million filtered cells\n",
    "    - 1,122 probed genes"
   ]
  },
  {
   "cell_type": "code",
   "execution_count": null,
   "id": "c8a5478d-01ad-4690-83d9-2ba67f08ba2f",
   "metadata": {},
   "outputs": [],
   "source": [
    "dataset = \"merfish_mouse_brain\""
   ]
  },
  {
   "cell_type": "markdown",
   "id": "7817b167-47ce-447c-b8e2-603516dece50",
   "metadata": {},
   "source": [
    "#### 2.8.1 Load & Preprocess Raw Data"
   ]
  },
  {
   "cell_type": "code",
   "execution_count": null,
   "id": "e02be587-3738-4cb6-a3d4-93af5d7f5d18",
   "metadata": {},
   "outputs": [],
   "source": [
    "batch_idx_increment = 1\n",
    "\n",
    "for file in [\"animal1_coronal\",\n",
    "             \"animal2_coronal\",\n",
    "             \"animal3_sagittal\",\n",
    "             \"animal4_sagittal\"]:\n",
    "    adata = sc.read_h5ad(f\"{st_data_bronze_folder_path}/{dataset}/WB_MERFISH_{file}.h5ad\")\n",
    "    \n",
    "    print(f\"Step 1 Rep 1: Number of cells: {len(adata)}\")\n",
    "    print(f\"Step 1 Rep 1: Number of genes: {len(adata.var_names)}\")\n",
    "\n",
    "    label_encoder = LabelEncoder()\n",
    "\n",
    "    adata.var[\"gene_id\"] = adata.var.index\n",
    "    adata.var.index = adata.var[\"gene_name\"]\n",
    "    adata.var = adata.var[[\"gene_id\"]]\n",
    "    adata.obsm[\"spatial\"] = adata.obsm[\"X_spatial\"]\n",
    "    del(adata.obsm[\"X_spatial\"])\n",
    "    adata.layers[\"counts\"] = adata.raw.X\n",
    "    adata.obs = adata.obs[[\"donor_id\", \"brain_section_label\", \"tissue\", \"cell_type\"]]\n",
    "    adata.obs[\"batch\"] = label_encoder.fit_transform(adata.obs['brain_section_label'])\n",
    "    adata.obs[\"batch\"] = adata.obs[\"batch\"].apply(lambda x: \"batch\" + str(x + batch_idx_increment))\n",
    "\n",
    "    for batch in adata.obs[\"batch\"].unique():\n",
    "        adata_batch = adata[adata.obs[\"batch\"] == batch]\n",
    "        adata_batch.write(f\"{st_data_gold_folder_path}/{dataset}_batch{batch[5:]}.h5ad\")\n",
    "        \n",
    "    batch_idx_increment += adata.obs[\"batch\"].nunique()"
   ]
  },
  {
   "cell_type": "markdown",
   "id": "65e43593-19c1-4033-8197-5c23b41e2079",
   "metadata": {},
   "source": [
    "### 2.9 SDMBench Data"
   ]
  },
  {
   "cell_type": "markdown",
   "id": "acf070f2-0698-4c96-b61e-ab74c980af7c",
   "metadata": {},
   "source": [
    "Download from http://sdmbench.drai.cn/:\n",
    "- STARmap Mouse MPFC: Data ID 31\n",
    "- StereoSeq Mouse Embryo: Data ID 13"
   ]
  },
  {
   "cell_type": "code",
   "execution_count": null,
   "id": "e4e39708-ee15-4a05-8df8-5c2c8e0ee172",
   "metadata": {},
   "outputs": [],
   "source": [
    "dataset = \"starmap_mouse_mpfc\""
   ]
  },
  {
   "cell_type": "code",
   "execution_count": null,
   "id": "b298ca4d-ce20-43a5-9916-7061979cce66",
   "metadata": {},
   "outputs": [],
   "source": [
    "adata = sc.read_h5ad(f\"{st_data_silver_folder_path}/{dataset}.h5ad\")\n",
    "adata.layers[\"counts\"] = sp.csr_matrix(adata.X)\n",
    "adata.X = sp.csr_matrix(adata.X)\n",
    "adata.obs[\"cell_type\"] = adata.obs[\"ct\"]\n",
    "del adata.obs[\"ct\"]\n",
    "adata.obs[\"niche_type\"] = adata.obs[\"Region\"]\n",
    "del adata.obs[\"region\"]\n",
    "del adata.obs[\"Region\"]\n",
    "adata.obs[\"batch\"] = \"batch1\"\n",
    "\n",
    "print(f\"Step 1: Number of cells: {len(adata)}\")\n",
    "print(f\"Step 1: Number of genes: {len(adata.var_names)}\")\n",
    "\n",
    "adata.write(f\"{st_data_gold_folder_path}/{dataset}.h5ad\")"
   ]
  },
  {
   "cell_type": "code",
   "execution_count": null,
   "id": "ba4281d8-a676-4f74-9bea-cbd89b4f17f7",
   "metadata": {},
   "outputs": [],
   "source": [
    "dataset = \"stereoseq_mouse_embryo\""
   ]
  },
  {
   "cell_type": "code",
   "execution_count": null,
   "id": "e3f1ce9a-afef-4d0b-9381-e4d4c5e2e0ce",
   "metadata": {},
   "outputs": [],
   "source": [
    "adata = sc.read_h5ad(f\"{st_data_silver_folder_path}/{dataset}.h5ad\")\n",
    "adata.layers[\"counts\"] = adata.X\n",
    "adata.X = sp.csr_matrix(adata.X)\n",
    "\n",
    "# Determine cell annotation as per squidpy vignette\n",
    "sc.pp.normalize_total(adata, target_sum=1e4)\n",
    "sc.pp.log1p(adata)\n",
    "sc.pp.scale(adata, max_value=10)\n",
    "sc.tl.pca(adata, svd_solver=\"arpack\")\n",
    "sc.pp.neighbors(adata, n_neighbors=10, n_pcs=20)\n",
    "sc.tl.umap(adata)\n",
    "sc.tl.leiden(adata, resolution=0.48)\n",
    "\n",
    "adata.X = adata.layers[\"counts\"]\n",
    "\n",
    "adata.obs[\"niche_type\"] = adata.obs[\"ground_truth\"]\n",
    "del adata.obs[\"ground_truth\"]\n",
    "del adata.obs[\"annotation\"]\n",
    "del adata.obs[\"Region\"]\n",
    "adata.obs[\"batch\"] = \"batch1\"\n",
    "\n",
    "print(f\"Step 1 Rep 1: Number of cells: {len(adata)}\")\n",
    "print(f\"Step 1 Rep 1: Number of genes: {len(adata.var_names)}\")\n",
    "\n",
    "adata.write(f\"{st_data_gold_folder_path}/{dataset}.h5ad\")"
   ]
  },
  {
   "cell_type": "code",
   "execution_count": null,
   "id": "e26d4ddc-9b05-4e29-9d35-4b55ac1daf03",
   "metadata": {},
   "outputs": [],
   "source": [
    "adata = sc.read_h5ad(\"../artifacts/single_sample_method_benchmarking/starmap_mouse_mpfc_nichecompass_gatv2conv.h5ad\")\n",
    "adata"
   ]
  },
  {
   "cell_type": "code",
   "execution_count": null,
   "id": "efe358d4-c55d-447d-90d2-1f177e505771",
   "metadata": {},
   "outputs": [],
   "source": [
    "adata.uns.pop('leiden_colors')\n",
    "\n",
    "sq.pl.spatial_scatter(adata,\n",
    "                      color=\"leiden\", # \"niche_type\",\n",
    "                      shape=None,\n",
    "                      figsize=(12, 12))"
   ]
  },
  {
   "cell_type": "markdown",
   "id": "6b5c544f-0a9e-4423-ad1a-0efec9175e4e",
   "metadata": {},
   "source": [
    "#### 2.9.1 Load & Preprocess Raw Data"
   ]
  },
  {
   "cell_type": "markdown",
   "id": "7b68cda9-75d1-4ea6-a92e-1c01e7cf301f",
   "metadata": {},
   "source": [
    "## 3. Additional Data"
   ]
  },
  {
   "cell_type": "markdown",
   "id": "9194facc-70e7-4b66-a7f5-dcb7e35f1116",
   "metadata": {},
   "source": [
    "This data is not used as part of the publication."
   ]
  },
  {
   "cell_type": "markdown",
   "id": "0b0c2bb3-0730-423f-942c-f1de3757a4ce",
   "metadata": {},
   "source": [
    "### 3.1 nanoString CosMx SMI Human Liver"
   ]
  },
  {
   "cell_type": "markdown",
   "id": "81e394c0-888e-47d7-8e13-3f1da3b69608",
   "metadata": {},
   "source": [
    "- **Publication:** nanoString CosMx SMI Human Liver FFPE Dataset\n",
    "- **Data Access:** https://nanostring.com/products/cosmx-spatial-molecular-imager/human-liver-rna-ffpe-dataset/\n",
    "- **Data Structure**:\n",
    "    - ```\n",
    "         ├── ../datasets/st_data/bronze/nanostring_cosmx_human_liver\n",
    "         │  ├── LiverDataRelease \n",
    "      ```\n",
    "- **Preprocessing Vignette**: https://nanostring.com/wp-content/uploads/2023/01/LiverPublicDataRelease.html\n",
    "- **Summary:**\n",
    "    - 2 samples: normal human liver (healthy sample) & human hepatocellular carcinoma (disease sample)\n",
    "    - 332,877 observations (healthy sample) & 460,441 observations (disease sample) on cell-level with cell-type annotations\n",
    "    - 1000 genes"
   ]
  },
  {
   "cell_type": "code",
   "execution_count": null,
   "id": "a03b610e-f062-451c-a2e7-4bc6209d75f3",
   "metadata": {},
   "outputs": [],
   "source": [
    "dataset = \"nanostring_cosmx_human_liver\"\n",
    "cell_type_key = \"cellType\""
   ]
  },
  {
   "cell_type": "markdown",
   "id": "35413e18-b152-4d85-b20a-67ed196108a9",
   "metadata": {},
   "source": [
    "#### 3.1.1 Load & Preprocess Raw Data"
   ]
  },
  {
   "cell_type": "code",
   "execution_count": null,
   "id": "13980562-6d51-4e67-96ff-693954f75695",
   "metadata": {},
   "outputs": [],
   "source": [
    "config = tiledb.Config()\n",
    "ctx = tiledb.Ctx(config)\n",
    "\n",
    "# Read in SOMACollection\n",
    "pySoma = tiledbsoma.SOMACollection(f\"{st_data_bronze_folder_path}/nanostring_cosmx_human_liver/LiverDataRelease\", ctx=ctx)\n",
    "pySoma.keys()\n",
    "\n",
    "# Raw counts\n",
    "counts = pySoma['RNA'].X['counts'].csr()\n",
    "counts\n",
    "\n",
    "# Normalized counts\n",
    "norm = pySoma['RNA_normalized'].X['data'].csr()\n",
    "norm\n",
    "\n",
    "# Cell metadata\n",
    "obs = pySoma['RNA'].obs.df()\n",
    "obs.head()\n",
    "\n",
    "# Target transcript coordinates\n",
    "transcriptCoords = tiledb.open_dataframe(pySoma['RNA'].obsm[\"transcriptCoords\"].uri, ctx=ctx)\n",
    "transcriptCoords\n",
    "\n",
    "# Convert to adata\n",
    "coordinates = np.array(obs[[\"x_slide_mm\", \"y_slide_mm\"]])\n",
    "adata = ad.AnnData(norm, obs = obs, obsm={\"spatial\": coordinates}, dtype = \"float32\")\n",
    "adata.layers[\"counts\"] = counts\n",
    "adata.obs = adata.obs[[\"fov\", \"cellType\", \"niche\"]]\n",
    "adata.var_names = pySoma[\"RNA\"].var_names\n",
    "\n",
    "adata.X = adata.X.astype(np.float32)\n",
    "adata.layers[\"counts\"] = adata.layers[\"counts\"].astype(np.float32)\n",
    "\n",
    "adata_batch1 = adata[adata.obs.index.str.startswith(\"c_1\")]\n",
    "adata_batch2 = adata[adata.obs.index.str.startswith(\"c_2\")]\n",
    "\n",
    "adata_sample1.obs[\"batch\"] = \"sample1\"\n",
    "adata_sample2.obs[\"batch\"] = \"sample2\"\n",
    "\n",
    "adata_sample1.write(f\"{st_data_gold_folder_path}/{dataset}_batch1.h5ad\")\n",
    "adata_sample2.write(f\"{st_data_gold_folder_path}/{dataset}_batch2.h5ad\")"
   ]
  },
  {
   "cell_type": "markdown",
   "id": "db31875d-e591-4bc2-a7cc-ee45d1755d1d",
   "metadata": {},
   "source": [
    "#### 3.1.2 Explore Data"
   ]
  },
  {
   "cell_type": "code",
   "execution_count": null,
   "id": "43613f1c-b909-41c6-b072-2c4199f25434",
   "metadata": {},
   "outputs": [],
   "source": [
    "adata_sample1 = sc.read_h5ad(f\"{st_data_gold_folder_path}/{dataset}_batch1.h5ad\")\n",
    "adata_sample2 = sc.read_h5ad(f\"{st_data_gold_folder_path}/{dataset}_batch2.h5ad\")"
   ]
  },
  {
   "cell_type": "code",
   "execution_count": null,
   "id": "1cd5eb23-358f-43c1-a05d-c49ce451d74a",
   "metadata": {},
   "outputs": [],
   "source": [
    "print(f\"Exploring dataset {dataset}_sample1.\")\n",
    "print(f\"Number of nodes (cells): {adata_sample1.layers['counts'].shape[0]}\")\n",
    "print(f\"Number of node features (genes): {adata_sample1.layers['counts'].shape[1]}\")\n",
    "\n",
    "# Visualize cell-level annotated data in physical space\n",
    "sq.pl.spatial_scatter(adata_sample1, color=cell_type_key, shape=None, figsize=(12, 12))"
   ]
  },
  {
   "cell_type": "code",
   "execution_count": null,
   "id": "8d8ad15a-f2fb-4eb3-8ca1-e4e250eb0a60",
   "metadata": {},
   "outputs": [],
   "source": [
    "print(f\"Exploring dataset {dataset}_sample2.\")\n",
    "print(f\"Number of nodes (cells): {adata_sample2.layers['counts'].shape[0]}\")\n",
    "print(f\"Number of node features (genes): {adata_sample2.layers['counts'].shape[1]}\")\n",
    "\n",
    "# Visualize cell-level annotated data in physical space\n",
    "sq.pl.spatial_scatter(adata_sample2, color=cell_type_key, shape=None, figsize=(12, 12))"
   ]
  },
  {
   "cell_type": "markdown",
   "id": "af858b03-8ef3-4cc4-833a-db54406bc131",
   "metadata": {},
   "source": [
    "### 3.2 Vizgen MERFISH Mouse Brain Receptor"
   ]
  },
  {
   "cell_type": "markdown",
   "id": "f2770c6d-09a6-41ff-9ea1-01af2ad3bf14",
   "metadata": {},
   "source": [
    "- **Publication:** Vizgen Data Release V1.0. May 2021\n",
    "- **Data Access:** https://info.vizgen.com/mouse-brain-map?submissionGuid=a66ccb7f-87cf-4c55-83b9-5a2b6c0c12b9\n",
    "    - Slice 1 replicate 1\n",
    "        - cell_by_gene_S1R1.csv\n",
    "        - cell_metadata_S1R1.csv\n",
    "- **Preprocessing Vignette:** https://squidpy.readthedocs.io/en/latest/external_tutorials/tutorial_vizgen.html\n",
    "- **Summary:**\n",
    "    - Coronal section of mouse brain receptor map\n",
    "    - 78,329 observations on cell-level without annotations\n",
    "    - 649 probed genes"
   ]
  },
  {
   "cell_type": "code",
   "execution_count": null,
   "id": "82ddf2ec-6011-4d01-8b5f-6898c1d59ca9",
   "metadata": {},
   "outputs": [],
   "source": [
    "dataset = \"vizgen_merfish_mouse_brain\"\n",
    "cell_type_key = \"leiden\""
   ]
  },
  {
   "cell_type": "markdown",
   "id": "526118b0-7bf8-47a5-9062-acacfdb38897",
   "metadata": {},
   "source": [
    "#### 3.2.1 Load & Preprocess Raw Data"
   ]
  },
  {
   "cell_type": "code",
   "execution_count": null,
   "id": "e194d941-aa74-4a1e-a1e4-e245a4ab0d1b",
   "metadata": {},
   "outputs": [],
   "source": [
    "print(f\"Loading and preprocessing dataset '{dataset}'.\")\n",
    "\n",
    "# Read adata from files\n",
    "merfish_dir = f\"{st_data_bronze_folder_path}/merfish/\"\n",
    "adata = sq.read.vizgen(path=merfish_dir,\n",
    "                       counts_file=\"datasets_mouse_brain_map_BrainReceptorShowcase_Slice1_replicate1_cell_by_gene_S1R1.csv\",\n",
    "                       meta_file=\"datasets_mouse_brain_map_BrainReceptorShowcase_Slice1_replicate1_cell_metadata_S1R1.csv\")\n",
    "# Preprocess as per squidpy vignette\n",
    "adata.var_names.unique()\n",
    "adata.var[\"mt\"] = adata.var_names.str.startswith(\"mt-\")\n",
    "sc.pp.calculate_qc_metrics(adata, qc_vars=[\"mt\"], percent_top=(50, 100, 200, 300), inplace=True)\n",
    "fig, axs = plt.subplots(1, 4, figsize=(15, 4))\n",
    "sns.histplot(adata.obs[\"total_counts\"],\n",
    "             kde=False,\n",
    "             ax=axs[0])\n",
    "sns.histplot(adata.obs[\"total_counts\"][adata.obs[\"total_counts\"] < 10000],\n",
    "             kde=False,\n",
    "             bins=40,\n",
    "             ax=axs[1])\n",
    "sns.histplot(adata.obs[\"n_genes_by_counts\"],\n",
    "             kde=False,\n",
    "             bins=60,\n",
    "             ax=axs[2])\n",
    "sns.histplot(adata.obs[\"n_genes_by_counts\"][adata.obs[\"n_genes_by_counts\"] < 4000],\n",
    "             kde=False,\n",
    "             bins=60,\n",
    "             ax=axs[3])\n",
    "sc.pp.filter_cells(adata, min_counts=10)\n",
    "sc.pp.filter_genes(adata, min_cells=10)\n",
    "\n",
    "# Store raw counts in `layers`\n",
    "adata.layers[\"counts\"] = adata.X.copy()\n",
    "\n",
    "# Store data to disk\n",
    "adata.write(f\"{st_data_silver_folder_path}/{dataset}.h5ad\")\n",
    "\n",
    "# Determine cell annotation as per squidpy vignette\n",
    "sc.pp.highly_variable_genes(adata, flavor=\"seurat_v3\", n_top_genes=4000)\n",
    "sc.pp.normalize_total(adata, inplace=True)\n",
    "sc.pp.log1p(adata)\n",
    "sc.pp.pca(adata)\n",
    "sc.pp.neighbors(adata)\n",
    "sc.tl.umap(adata)\n",
    "sc.tl.leiden(adata)\n",
    "sc.pl.umap(adata,\n",
    "           color=[\"total_counts\", \"n_genes_by_counts\", \"leiden\"])\n",
    "\n",
    "# Store data to disk\n",
    "adata.write(f\"{st_data_gold_folder_path}/{dataset}.h5ad\")"
   ]
  },
  {
   "cell_type": "markdown",
   "id": "1369825f-06b5-4988-b7ff-ba0e7c636504",
   "metadata": {},
   "source": [
    "#### 3.2.2 Explore Data"
   ]
  },
  {
   "cell_type": "code",
   "execution_count": null,
   "id": "2bdb24de-7a43-411e-9d9e-025395974f20",
   "metadata": {},
   "outputs": [],
   "source": [
    "print(f\"Exploring dataset {dataset}.\")\n",
    "print(f\"Number of nodes (cells): {adata.layers['counts'].shape[0]}\")\n",
    "print(f\"Number of node features (genes): {adata.layers['counts'].shape[1]}\")\n",
    "\n",
    "# Visualize cell-level annotated data in physical space\n",
    "sq.pl.spatial_scatter(adata, color=cell_type_key, shape=None, figsize=(12, 12))"
   ]
  },
  {
   "cell_type": "markdown",
   "id": "d87759e2-d02b-40be-9305-1469f555709a",
   "metadata": {},
   "source": [
    "### 3.3 Vizgen MERFISH Human Liver Cancer"
   ]
  },
  {
   "cell_type": "markdown",
   "id": "ac4dbb1f-7111-40d0-ba42-f6d57f65424a",
   "metadata": {},
   "source": [
    "- **Publication:** Vizgen MERFISH FFPE Human Immuno-oncology Data Set,  May 2022\n",
    "- **Data Access:** https://info.vizgen.com/ffpe-showcase?submissionGuid=bbe0d6ca-92ad-4257-bdcd-cbc6dee8219b\n",
    "    - Liver cancer 1\n",
    "        - cell_by_gene.csv\n",
    "        - cell_metadata.csv\n",
    "- **Summary:**\n",
    "    - FFPE tissue section of human liver cancer\n",
    "    - 480,592 observations on cell-level without annotations\n",
    "    - 500 probed genes"
   ]
  },
  {
   "cell_type": "code",
   "execution_count": null,
   "id": "00ed1a9c-1b2e-4234-b297-501911df7fbd",
   "metadata": {},
   "outputs": [],
   "source": [
    "dataset = \"vizgen_merfish_human_liver_cancer\"\n",
    "cell_type_key = \"leiden\""
   ]
  },
  {
   "cell_type": "markdown",
   "id": "2422bf81-39f7-4a09-876a-55f2e1e7f348",
   "metadata": {},
   "source": [
    "#### 3.3.1 Load & Preprocess Raw Data"
   ]
  },
  {
   "cell_type": "code",
   "execution_count": null,
   "id": "452f0547-efc1-47dd-8d4b-26b151f00082",
   "metadata": {},
   "outputs": [],
   "source": [
    "print(f\"Loading and preprocessing dataset '{dataset}'.\")\n",
    "    \n",
    "# Read counts and remove blank genes\n",
    "vizgen_dir = f\"{st_data_bronze_folder_path}/merfish/\"\n",
    "adata = ad.read_text(vizgen_dir + \"HumanLiverCancerPatient1_cell_by_gene.csv\" ,delimiter=\",\", first_column_names=True)\n",
    "blank_genes = np.array([\"Blank\" in v for v in adata.var_names])\n",
    "adata.obsm[\"blank_genes\"] = pd.DataFrame(adata[:, blank_genes].X.copy(), columns=adata.var_names[blank_genes], index=adata.obs_names)\n",
    "adata = adata[:, ~blank_genes].copy()\n",
    "adata.X = sp.csr_matrix(adata.X)\n",
    "\n",
    "# Read metadata and align index for join\n",
    "metadata = pd.read_csv(vizgen_dir + \"HumanLiverCancerPatient1_cell_metadata.csv\", header=0, index_col=0)\n",
    "metadata.sort_index(inplace=True)\n",
    "metadata.index = metadata.index.astype(\"str\")\n",
    "\n",
    "# Join counts with obs and store spatial coordinates\n",
    "adata.obs = pd.merge(adata.obs, metadata, how=\"left\", left_index=True, right_index=True)\n",
    "adata.obsm[\"spatial\"] = adata.obs[[\"center_x\", \"center_y\"]].values\n",
    "adata.obs.drop(columns=[\"center_x\", \"center_y\"], inplace=True)\n",
    "\n",
    "# Preprocess\n",
    "adata.var_names_make_unique()\n",
    "adata.var[\"mt\"] = adata.var_names.str.startswith(\"mt-\")\n",
    "sc.pp.calculate_qc_metrics(adata, qc_vars=[\"mt\"], percent_top=(50, 100, 200, 300), inplace=True)\n",
    "sc.pp.filter_cells(adata, min_counts=50)\n",
    "sc.pp.filter_genes(adata, min_cells=10)\n",
    "\n",
    "# Store raw counts in `layers`\n",
    "adata.layers[\"counts\"] = adata.X.copy()\n",
    "\n",
    "# Store data to disk\n",
    "adata.write(f\"{st_data_silver_folder_path}/{dataset}.h5ad\")\n",
    "\n",
    "# Determine cell annotation\n",
    "sc.pp.normalize_total(adata, inplace=True)\n",
    "sc.pp.log1p(adata)\n",
    "sc.pp.pca(adata)\n",
    "sc.pp.neighbors(adata)\n",
    "sc.tl.umap(adata)\n",
    "sc.tl.leiden(adata)\n",
    "sc.pl.umap(adata,\n",
    "           color=[\"total_counts\", \"n_genes_by_counts\", \"leiden\"])\n",
    "\n",
    "# Store data to disk\n",
    "adata.write(f\"{st_data_gold_folder_path}/{dataset}.h5ad\")"
   ]
  },
  {
   "cell_type": "markdown",
   "id": "0014d882-a9cd-4d56-ab69-b472bd811ac5",
   "metadata": {},
   "source": [
    "#### 3.3.2 Explore Data"
   ]
  },
  {
   "cell_type": "code",
   "execution_count": null,
   "id": "c700a04a-20ab-4827-8c12-73c0fbb645fb",
   "metadata": {},
   "outputs": [],
   "source": [
    "print(f\"Exploring dataset {dataset}.\")\n",
    "print(f\"Number of nodes (cells): {adata.layers['counts'].shape[0]}\")\n",
    "print(f\"Number of node features (genes): {adata.layers['counts'].shape[1]}\")\n",
    "\n",
    "# Visualize cell-level annotated data in physical space\n",
    "sq.pl.spatial_scatter(adata, color=cell_type_key, shape=None, figsize=(12, 12))"
   ]
  },
  {
   "cell_type": "markdown",
   "id": "178fcef7-99b6-4cec-bc88-fc3f94964e64",
   "metadata": {},
   "source": [
    "### 3.4 Vizgen MERFISH Human Colon Cancer"
   ]
  },
  {
   "cell_type": "markdown",
   "id": "7133d6fc-046f-4468-b8dc-72880bb85d88",
   "metadata": {},
   "source": [
    "- **Publication:** Vizgen MERFISH FFPE Human Immuno-oncology Data Set,  May 2022\n",
    "- **Data Access:** https://info.vizgen.com/ffpe-showcase?submissionGuid=bbe0d6ca-92ad-4257-bdcd-cbc6dee8219b\n",
    "- **Data Structure:**\n",
    "    - ```\n",
    "         ├── ../datasets/st_data/bronze/vizgen_merfish_human_colon_cancer\n",
    "         │  ├── HumanColonCancerPatient1_cell_by_gene.csv\n",
    "         │  ├── HumanColonCancerPatient1_cell_metadata.csv            \n",
    "         │  ├── HumanColonCancerPatient2_cell_by_gene.csv\n",
    "         │  ├── HumanColonCancerPatient2_cell_metadata.csv\n",
    "      ```\n",
    "- **Summary:**\n",
    "    - 2 FFPE tissue slices of human colon cancer from 2 patients\n",
    "    - 1,495,039 observations at cellular resolution without annotations\n",
    "        - Sample 1: P1, 677,451 observations\n",
    "        - Sample 2: P2, 817,588 observations\n",
    "    - 500 probed genes"
   ]
  },
  {
   "cell_type": "code",
   "execution_count": null,
   "id": "9f804125-64ef-4a7d-b5ac-461ba4b02f1d",
   "metadata": {},
   "outputs": [],
   "source": [
    "dataset = \"vizgen_merfish_human_colon_cancer\""
   ]
  },
  {
   "cell_type": "markdown",
   "id": "cefa0810-0ba2-432a-b8e5-c13bdbe5f42e",
   "metadata": {},
   "source": [
    "#### 3.4.1 Load & Preprocess Raw Data"
   ]
  },
  {
   "cell_type": "markdown",
   "id": "61fd7371-0c97-4c72-a2d8-efe6b2270ae9",
   "metadata": {},
   "source": [
    "##### 3.4.1.1 ST Data"
   ]
  },
  {
   "cell_type": "code",
   "execution_count": null,
   "id": "dfd4a158-310d-41c0-bcf6-aed2f6deeaa4",
   "metadata": {},
   "outputs": [],
   "source": [
    "batches = [\"Patient1\",\n",
    "           \"Patient2\"]\n",
    "\n",
    "for batch_idx, batch in enumerate(batches):\n",
    "    gene_expr_df = pd.read_csv(f\"{st_data_bronze_folder_path}/{dataset}/HumanColonCancer{batch}_cell_by_gene.csv\")\n",
    "    metadata_df = pd.read_csv(f\"{st_data_bronze_folder_path}/{dataset}/HumanColonCancer{batch}_cell_metadata.csv\")\n",
    "    metadata_df.rename(columns={\"Unnamed: 0\": \"cell\"}, inplace=True)\n",
    "    \n",
    "    cols_to_be_removed = [\"cell\"] + [col for col in gene_expr_df.columns if \"Blank\" in col]\n",
    "    adata = ad.AnnData(gene_expr_df[gene_expr_df.columns.difference(cols_to_be_removed)],\n",
    "                       obs=gene_expr_df[[\"cell\"]],\n",
    "                       dtype=\"float32\")\n",
    "    \n",
    "    # Store gene expression in sparse format\n",
    "    adata.X = sp.csr_matrix(adata.X)\n",
    "    \n",
    "    sc.pp.calculate_qc_metrics(adata, percent_top=(50, 100, 200, 300), inplace=True)\n",
    "    fig, axs = plt.subplots(1, 4, figsize=(15, 4))\n",
    "    sns.histplot(adata.obs[\"total_counts\"],\n",
    "                 kde=False,\n",
    "                 ax=axs[0])\n",
    "    sns.histplot(adata.obs[\"total_counts\"][adata.obs[\"total_counts\"] < 500],\n",
    "                 kde=False,\n",
    "                 bins=40,\n",
    "                 ax=axs[1])\n",
    "    sns.histplot(adata.obs[\"n_genes_by_counts\"],\n",
    "                 kde=False,\n",
    "                 bins=60,\n",
    "                 ax=axs[2])\n",
    "    sns.histplot(adata.obs[\"n_genes_by_counts\"][adata.obs[\"n_genes_by_counts\"] < 50],\n",
    "                 kde=False,\n",
    "                 bins=60,\n",
    "                 ax=axs[3])\n",
    "\n",
    "    sc.pp.filter_cells(adata, min_counts=50)\n",
    "    \n",
    "    # Add metadata\n",
    "    adata.obs = pd.merge(adata.obs, metadata_df, on=[\"cell\"], how=\"left\")\n",
    "    \n",
    "    adata.obsm[\"spatial\"] = np.array(adata.obs[[\"center_x\", \"center_y\"]])\n",
    "    adata.obs = adata.obs.drop(adata.obs.columns, axis=1)\n",
    "    adata.var = adata.var.drop(adata.var.columns, axis=1)\n",
    "    adata.layers[\"counts\"] = adata.X\n",
    "    adata.obs[\"batch\"] = batch.lower()\n",
    "    adata.write(f\"{st_data_gold_folder_path}/{dataset}_batch{batch_idx + 1}.h5ad\")"
   ]
  },
  {
   "cell_type": "markdown",
   "id": "bac1dc9f-b243-4437-a8c5-ba4461fa89ac",
   "metadata": {},
   "source": [
    "### 3.5 EEL FISH Mouse Brain"
   ]
  },
  {
   "cell_type": "markdown",
   "id": "2f2bd4e8-42ce-4ac2-a50c-e935d2f1e9d1",
   "metadata": {},
   "source": [
    "- **Publication:** Borm, L. E. et al. Scalable in situ single-cell profiling by electrophoretic capture of mRNA using EEL FISH. Nat. Biotechnol. (2022) [doi:10.1038/s41587-022-01455-3](https://doi.org/10.1038/s41587-022-01455-3)\n",
    "- **Data Access:** https://figshare.com/articles/dataset/EEL_Mouse_440_genes_single_cell_data/20310771\n",
    "    - LBEXP20210718_EEL_Mouse_448_2_20220512.h5ad\n",
    "- **Summary:**\n",
    "    - Sagittal mouse brain section\n",
    "    - 127,591 observations on cell-level with cluster annotations \n",
    "    - 440 genes"
   ]
  },
  {
   "cell_type": "code",
   "execution_count": null,
   "id": "ffd3bc37-c3c5-4a94-a72c-9eaf3bc729ed",
   "metadata": {},
   "outputs": [],
   "source": [
    "dataset = \"eel_fish_mouse_brain\"\n",
    "cell_type_key = \"Clusters\""
   ]
  },
  {
   "cell_type": "markdown",
   "id": "3a9850a3-923c-493f-8bec-32ddecef77c9",
   "metadata": {},
   "source": [
    "#### 3.5.1 Load & Preprocess Raw Data"
   ]
  },
  {
   "cell_type": "code",
   "execution_count": null,
   "id": "f6c3e739-b7eb-460a-87a9-cee51b287b11",
   "metadata": {},
   "outputs": [],
   "source": [
    "print(f\"Loading and preprocessing dataset '{dataset}'.\")\n",
    "    \n",
    "# Read adata from file\n",
    "adata = sc.read_h5ad(f\"{st_data_bronze_folder_path}/eel_fish_mouse_brain/LBEXP20210718_EEL_Mouse_448_2_20220512.h5ad\")\n",
    "\n",
    "# Store counts in `layers` and spatial coords in `obsm`\n",
    "adata.obsm[\"spatial\"] = adata.obs[[\"X\", \"Y\"]].values # smaller scale for plotting with squidpy\n",
    "adata.obs.drop(columns=[\"X\", \"Y\", \"X_um\", \"Y_um\"], inplace=True)\n",
    "adata.layers[\"counts\"] = adata.X.copy()\n",
    "adata.obs[\"batch\"] = \"sample1\"\n",
    "\n",
    "# Store data to disk\n",
    "adata.write(f\"{st_data_gold_folder_path}/{dataset}.h5ad\")"
   ]
  },
  {
   "cell_type": "markdown",
   "id": "63cae3b5-3555-4a4c-b226-290ecd009c1f",
   "metadata": {},
   "source": [
    "#### 3.5.2 Explore Data"
   ]
  },
  {
   "cell_type": "code",
   "execution_count": null,
   "id": "75d873ae-a207-4a0a-a6f2-8f911087831c",
   "metadata": {},
   "outputs": [],
   "source": [
    "print(f\"Exploring dataset {dataset}.\")\n",
    "print(f\"Number of nodes (cells): {adata.layers['counts'].shape[0]}\")\n",
    "print(f\"Number of node features (genes): {adata.layers['counts'].shape[1]}\")\n",
    "\n",
    "# Visualize cell-level annotated data in physical space\n",
    "sq.pl.spatial_scatter(adata, color=cell_type_key, shape=None, figsize=(12, 12))"
   ]
  },
  {
   "cell_type": "markdown",
   "id": "fb4a7541-757d-4cf7-b081-aa04263927ef",
   "metadata": {},
   "source": [
    "### 3.6 Visium Human Heart"
   ]
  },
  {
   "cell_type": "markdown",
   "id": "8fafde77-1bde-4b1d-958c-dd94f5fb81db",
   "metadata": {},
   "source": [
    "- **Publication:**\n",
    "- **Data Access:**\n",
    "- **Data Structure:**\n",
    "    - ```\n",
    "         ├── ../datasets/st_data/silver\n",
    "         │  ├── HCAHeartST8795933_D5LV_stereoscope_210202.h5ad (donor 5 left ventricle gene expression raw counts)\n",
    "         │  ├── HCAHeartST9383352_D6LV_stereoscope_210202.h5ad (donor 6 sample 1 left ventricle gene expression raw counts)\n",
    "         │  ├── HCAHeartST9383354_D6LV_stereoscope_210202.h5ad (donor 6 sample 2 left ventricle gene expression raw counts)\n",
    "      ```\n",
    "- **Summary:**"
   ]
  },
  {
   "cell_type": "code",
   "execution_count": null,
   "id": "f69336f7-2f51-4ddc-be60-02b3d6aed94e",
   "metadata": {},
   "outputs": [],
   "source": [
    "dataset = \"visium_human_heart\"\n",
    "donor_key = \"donor\"\n",
    "batch_key = \"batch\"\n",
    "cell_type_key = \"majority_cell_type\"\n",
    "cell_types = [\"Adip1\", \"Adip2\", \"Adip3\", \"Adip4\", \"B\",\n",
    "   \"B_cells\", \"B_follicular\", \"B_memory\", \"B_plasma\", \"CD4+T_cytox\",\n",
    "   \"CD4+T_tem\", \"CD4T\", \"CD4T_Tfh\", \"CD4T_Th1\", \"CD4T_naive\", \"CD4T_reg\",\n",
    "   \"CD8+T_cytox\", \"CD8+T_tem\", \"CD8T\", \"CD14+Mo\", \"CD16+Mo\", \"DC\",\n",
    "   \"DOCK4+MØ1\", \"DOCK4+MØ2\", \"EC1_cap\", \"EC2_cap\", \"EC3_cap\", \"EC4_immune\",\n",
    "   \"EC5_art\", \"EC6_ven\", \"EC7_atria\", \"EC8_ln\", \"FB1\", \"FB2\", \"FB3\", \"FB4\",\n",
    "   \"FB5\", \"IL17RA+Mo\", \"ILC\", \"LYVE1+MØ1\", \"LYVE1+MØ2\", \"LYVE1+MØ3\",\n",
    "   \"MAIT\", \"Mast\", \"Meso\", \"Mo_pi\", \"MØ_AgP\", \"MØ_mod\", \"NC1\", \"NC2\",\n",
    "   \"NC3\", \"NC4\", \"NC5\", \"NC6\", \"NK\", \"NKT\", \"NK_ITGAD\", \"NØ\", \"PC1_vent\",\n",
    "   \"PC2_atria\", \"PC3_str\", \"SMC1_basic\", \"SMC2_art\", \"gdT\", \"vCM1\", \"vCM2\",\n",
    "   \"vCM3\", \"vCM4\", \"vCM5\"]"
   ]
  },
  {
   "cell_type": "markdown",
   "id": "96e0b045-3f03-4f31-af92-31806b6104d5",
   "metadata": {},
   "source": [
    "#### 3.6.1 Load & Preprocess Raw Data"
   ]
  },
  {
   "cell_type": "code",
   "execution_count": null,
   "id": "6b7719cb-215a-4ed7-9af7-61471cb9891c",
   "metadata": {},
   "outputs": [],
   "source": [
    "adata_batch1 = sc.read_h5ad(f\"{st_data_silver_folder_path}/HCAHeartST8795933_D5LV_stereoscope_210202.h5ad\")\n",
    "cell_prop_df_batch1 = adata_batch1.obs[cell_types]\n",
    "adata_batch1.obs[cell_type_key] = cell_prop_df_batch1.idxmax(axis=1)\n",
    "adata_batch1.obs[donor_key] = \"donor5\"\n",
    "adata_batch1.obs[batch_key] = \"batch1\"\n",
    "adata_batch1.write(f\"{st_data_gold_folder_path}/{dataset}_batch1.h5ad\")"
   ]
  },
  {
   "cell_type": "code",
   "execution_count": null,
   "id": "db87f957-3357-47c0-af43-5b34b1c2b6d6",
   "metadata": {},
   "outputs": [],
   "source": [
    "adata_batch2 = sc.read_h5ad(f\"{st_data_silver_folder_path}/HCAHeartST9383352_D6LV_stereoscope_210202.h5ad\")\n",
    "cell_prop_df_batch2 = adata_batch2.obs[cell_types]\n",
    "adata_batch2.obs[cell_type_key] = cell_prop_df_batch2.idxmax(axis=1)\n",
    "adata_batch2.obs[donor_key] = \"donor6\"\n",
    "adata_batch2.obs[batch_key] = \"batch2\"\n",
    "adata_batch2.write(f\"{st_data_gold_folder_path}/{dataset}_batch2.h5ad\")"
   ]
  },
  {
   "cell_type": "code",
   "execution_count": null,
   "id": "2242f4c3-b7f4-4cbe-b080-1ce45e21d947",
   "metadata": {},
   "outputs": [],
   "source": [
    "adata_batch3 = sc.read_h5ad(f\"{st_data_silver_folder_path}/HCAHeartST9383354_D6LV_stereoscope_210202.h5ad\")\n",
    "cell_prop_df_batch3 = adata_batch3.obs[cell_types]\n",
    "adata_batch3.obs[cell_type_key] = cell_prop_df_batch3.idxmax(axis=1)\n",
    "adata_batch3.obs[donor_key] = \"donor6\"\n",
    "adata_batch3.obs[batch_key] = \"batch3\"\n",
    "adata_batch3.write(f\"{st_data_gold_folder_path}/{dataset}_batch3.h5ad\")"
   ]
  },
  {
   "cell_type": "markdown",
   "id": "f50d61e6-6435-416f-ab54-f529a34f37ab",
   "metadata": {},
   "source": [
    "#### 3.6.2 Explore Data"
   ]
  },
  {
   "cell_type": "code",
   "execution_count": null,
   "id": "e37d7e14-26fd-45bf-8654-04ad69865200",
   "metadata": {},
   "outputs": [],
   "source": [
    "print(f\"Exploring dataset {dataset}_batch1.\")\n",
    "print(f\"Number of nodes (cells): {adata_batch1.layers['counts'].shape[0]}\")\n",
    "print(f\"Number of node features (genes): {adata_batch1.layers['counts'].shape[1]}\")\n",
    "\n",
    "# Visualize cell-level annotated data in physical space\n",
    "sq.pl.spatial_scatter(adata_batch1,\n",
    "                      #groups=\"FB5\",\n",
    "                      color=cell_type_key,\n",
    "                      shape=None,\n",
    "                      figsize=(8, 8))"
   ]
  },
  {
   "cell_type": "code",
   "execution_count": null,
   "id": "0b4386a3-0fbe-452f-9344-5d0ffe09cb90",
   "metadata": {},
   "outputs": [],
   "source": [
    "print(f\"Exploring dataset {dataset}_batch2.\")\n",
    "print(f\"Number of nodes (cells): {adata_batch2.layers['counts'].shape[0]}\")\n",
    "print(f\"Number of node features (genes): {adata_batch2.layers['counts'].shape[1]}\")\n",
    "\n",
    "# Visualize cell-level annotated data in physical space\n",
    "sq.pl.spatial_scatter(adata_batch2,\n",
    "                      #groups=\"CD8+T_cytox\",\n",
    "                      color=cell_type_key,\n",
    "                      shape=None,\n",
    "                      figsize=(10, 10))"
   ]
  },
  {
   "cell_type": "code",
   "execution_count": null,
   "id": "628576ce-c2d8-4023-8cc2-2b1842a1cb1a",
   "metadata": {},
   "outputs": [],
   "source": [
    "print(f\"Exploring dataset {dataset}_batch3.\")\n",
    "print(f\"Number of nodes (cells): {adata_batch3.layers['counts'].shape[0]}\")\n",
    "print(f\"Number of node features (genes): {adata_batch3.layers['counts'].shape[1]}\")\n",
    "\n",
    "# Visualize cell-level annotated data in physical space\n",
    "sq.pl.spatial_scatter(adata_batch3,\n",
    "                      #groups=\"Adip1\",\n",
    "                      color=cell_type_key,\n",
    "                      shape=None,\n",
    "                      figsize=(10, 10))"
   ]
  },
  {
   "cell_type": "markdown",
   "id": "71746ce7-9573-49ec-9fc0-f6142042cc0c",
   "metadata": {},
   "source": [
    "### 3.7 Vizgen MERFISH Human Ovarian Cancer"
   ]
  },
  {
   "cell_type": "markdown",
   "id": "9a66609e-52a0-4b4b-97dc-042a32b5f7de",
   "metadata": {},
   "source": [
    "- **Publication:** Vizgen MERFISH FFPE Human Immuno-oncology Data Set,  May 2022\n",
    "- **Data Access:** https://info.vizgen.com/ffpe-showcase?submissionGuid=bbe0d6ca-92ad-4257-bdcd-cbc6dee8219b\n",
    "- **Data Structure:**\n",
    "    - ```\n",
    "         ├── ../datasets/st_data/bronze/vizgen_merfish_human_ovarian_cancer\n",
    "         │  ├── HumanOvarianCancerPatient1_cell_by_gene.csv\n",
    "         │  ├── HumanOvarianCancerPatient1_cell_metadata.csv            \n",
    "         │  ├── HumanOvarianCancerPatient2Slice1_cell_by_gene.csv\n",
    "         │  ├── HumanOvarianCancerPatient2Slice1_cell_metadata.csv\n",
    "         │  ├── HumanOvarianCancerPatient2Slice2_cell_by_gene.csv\n",
    "         │  ├── HumanOvarianCancerPatient2Slice2_cell_metadata.csv\n",
    "         │  ├── HumanOvarianCancerPatient2Slice3_cell_by_gene.csv\n",
    "         │  ├── HumanOvarianCancerPatient2Slice3_cell_metadata.csv\n",
    "      ```\n",
    "- **Summary:**\n",
    "    - 4 FFPE tissue slices of human ovarian cancer from 2 patients\n",
    "    - 896,638 observations at cellular resolution without annotations\n",
    "        - Sample 1: P1, 358,485 observations\n",
    "        - Sample 2: P2, 254,347 observations\n",
    "        - Sample 3: P2, 71,381 observations\n",
    "        - Sample 4: P2, 212,425 observations\n",
    "    - 500 probed genes"
   ]
  },
  {
   "cell_type": "code",
   "execution_count": null,
   "id": "2bb06b4d-4ea1-4103-b426-37d7d34c03de",
   "metadata": {},
   "outputs": [],
   "source": [
    "dataset = \"vizgen_merfish_human_ovarian_cancer\""
   ]
  },
  {
   "cell_type": "markdown",
   "id": "5a90bcb4-1d6e-409a-b049-1cee5970e6e9",
   "metadata": {},
   "source": [
    "#### 3.7.1 Load & Preprocess Raw Data"
   ]
  },
  {
   "cell_type": "markdown",
   "id": "522d2cfc-f2ec-4934-8632-3628fdce826f",
   "metadata": {},
   "source": [
    "##### 3.7.1.1 ST Data"
   ]
  },
  {
   "cell_type": "code",
   "execution_count": null,
   "id": "ec8407e3-e184-464a-81e3-1e1aef17c7e9",
   "metadata": {},
   "outputs": [],
   "source": [
    "batches = [\"Patient1\",\n",
    "           \"Patient2Slice1\",\n",
    "           \"Patient2Slice2\",\n",
    "           \"Patient2Slice3\"]\n",
    "\n",
    "for batch_idx, batch in enumerate(batches):\n",
    "    gene_expr_df = pd.read_csv(f\"{st_data_bronze_folder_path}/{dataset}/HumanOvarianCancer{batch}_cell_by_gene.csv\")\n",
    "    metadata_df = pd.read_csv(f\"{st_data_bronze_folder_path}/{dataset}/HumanOvarianCancer{batch}_cell_metadata.csv\")\n",
    "    metadata_df.rename(columns={\"Unnamed: 0\": \"cell\"}, inplace=True)\n",
    "    \n",
    "    cols_to_be_removed = [\"cell\"] + [col for col in gene_expr_df.columns if \"Blank\" in col]\n",
    "    adata = ad.AnnData(gene_expr_df[gene_expr_df.columns.difference(cols_to_be_removed)],\n",
    "                       obs=gene_expr_df[[\"cell\"]],\n",
    "                       dtype=\"float32\")\n",
    "    \n",
    "    # Store gene expression in sparse format\n",
    "    adata.X = sp.csr_matrix(adata.X)\n",
    "    \n",
    "    sc.pp.calculate_qc_metrics(adata, percent_top=(50, 100, 200, 300), inplace=True)\n",
    "    fig, axs = plt.subplots(1, 4, figsize=(15, 4))\n",
    "    sns.histplot(adata.obs[\"total_counts\"],\n",
    "                 kde=False,\n",
    "                 ax=axs[0])\n",
    "    sns.histplot(adata.obs[\"total_counts\"][adata.obs[\"total_counts\"] < 500],\n",
    "                 kde=False,\n",
    "                 bins=40,\n",
    "                 ax=axs[1])\n",
    "    sns.histplot(adata.obs[\"n_genes_by_counts\"],\n",
    "                 kde=False,\n",
    "                 bins=60,\n",
    "                 ax=axs[2])\n",
    "    sns.histplot(adata.obs[\"n_genes_by_counts\"][adata.obs[\"n_genes_by_counts\"] < 50],\n",
    "                 kde=False,\n",
    "                 bins=60,\n",
    "                 ax=axs[3])\n",
    "\n",
    "    sc.pp.filter_cells(adata, min_counts=50)\n",
    "    \n",
    "    # Add metadata\n",
    "    adata.obs = pd.merge(adata.obs, metadata_df, on=[\"cell\"], how=\"left\")\n",
    "    \n",
    "    adata.obsm[\"spatial\"] = np.array(adata.obs[[\"center_x\", \"center_y\"]])\n",
    "    adata.obs = adata.obs.drop(adata.obs.columns, axis=1)\n",
    "    adata.var = adata.var.drop(adata.var.columns, axis=1)\n",
    "    adata.layers[\"counts\"] = adata.X\n",
    "    adata.obs[\"patient\"] = batch[:8].lower()\n",
    "    adata.obs[\"batch\"] = batch.lower()\n",
    "    adata.write(f\"{st_data_gold_folder_path}/{dataset}_batch{batch_idx + 1}.h5ad\")\n",
    "    \n",
    "# Add annotations\n",
    "adata = sc.read_h5ad(f\"{st_data_silver_folder_path}/{dataset}.h5ad)\n",
    "adata_batch1 = adata[adata.obs[\"batch\"] == \"sample1\"]\n",
    "adata_batch2 = adata[adata.obs[\"batch\"] == \"sample2\"]\n",
    "adata_batch3 = adata[adata.obs[\"batch\"] == \"sample3\"]\n",
    "adata_batch4 = adata[adata.obs[\"batch\"] == \"sample4\"]\n",
    "                     \n",
    "adata_batch1_original = sc.read_h5ad(f\"{st_data_silver_folder_path}/{dataset}_batch1.h5ad\")\n",
    "adata_batch2_original = sc.read_h5ad(f\"{st_data_silver_folder_path}/{dataset}_batch2.h5ad\")\n",
    "adata_batch3_original = sc.read_h5ad(f\"{st_data_silver_folder_path}/{dataset}_batch3.h5ad\")\n",
    "adata_batch4_original = sc.read_h5ad(f\"{st_data_silver_folder_path}/{dataset}_batch4.h5ad\")\n",
    "                     \n",
    "adata_batch1_original.obs[\"cell\"] = adata_batch1.obs[\"cell\"].values\n",
    "adata_batch1_original.obs[\"fov\"] = adata_batch1.obs[\"fov\"].values\n",
    "adata_batch1_original.obs[\"cell_type\"] = adata_batch1.obs[\"cell_type\"].values\n",
    "                     \n",
    "adata_batch2_original.obs[\"cell\"] = adata_batch2.obs[\"cell\"].values\n",
    "adata_batch2_original.obs[\"fov\"] = adata_batch2.obs[\"fov\"].values\n",
    "adata_batch2_original.obs[\"cell_type\"] = adata_batch2.obs[\"cell_type\"].values\n",
    "                     \n",
    "adata_batch3_original.obs[\"cell\"] = adata_batch3.obs[\"cell\"].values\n",
    "adata_batch3_original.obs[\"fov\"] = adata_batch3.obs[\"fov\"].values\n",
    "adata_batch3_original.obs[\"cell_type\"] = adata_batch3.obs[\"cell_type\"].values\n",
    "                     \n",
    "adata_batch4_original.obs[\"cell\"] = adata_batch4.obs[\"cell\"].values\n",
    "adata_batch4_original.obs[\"fov\"] = adata_batch4.obs[\"fov\"].values\n",
    "adata_batch4_original.obs[\"cell_type\"] = adata_batch4.obs[\"cell_type\"].values\n",
    "                     \n",
    "adata_batch1_original.write(f\"{st_data_silver_folder_path}/{dataset}_batch1.h5ad\")\n",
    "adata_batch2_original.write(f\"{st_data_silver_folder_path}/{dataset}_batch2.h5ad\")\n",
    "adata_batch3_original.write(f\"{st_data_silver_folder_path}/{dataset}_batch3.h5ad\")\n",
    "adata_batch4_original.write(f\"{st_data_silver_folder_path}/{dataset}_batch4.h5ad\")"
   ]
  },
  {
   "cell_type": "markdown",
   "id": "808913b9-3d6a-4105-8c8f-e7b6f7297939",
   "metadata": {
    "tags": []
   },
   "source": [
    "#### 3.7.2 Explore Data"
   ]
  },
  {
   "cell_type": "markdown",
   "id": "878fe621-b88b-4653-955a-f46bbe178795",
   "metadata": {},
   "source": [
    "##### 3.7.2.1 ST Data"
   ]
  },
  {
   "cell_type": "code",
   "execution_count": null,
   "id": "a5913522-bd71-44a0-bfd2-1c074f0d591e",
   "metadata": {},
   "outputs": [],
   "source": [
    "batch_indeces = list(np.arange(4) + 1)\n",
    "for batch_idx in batch_indeces:\n",
    "    adata = sc.read_h5ad(f\"{st_data_gold_folder_path}/{dataset}_batch{batch_idx}.h5ad\")\n",
    "    \n",
    "    print(f\"Exploring dataset {dataset}_batch{batch_idx}.\")\n",
    "    print(f\"Number of nodes (cells): {adata.X.shape[0]}\")\n",
    "    print(f\"Number of node features (genes): {adata.X.shape[1]}\")\n",
    "\n",
    "    # Visualize cell-level annotated data in physical space\n",
    "    sq.pl.spatial_scatter(adata, color=\"batch\", shape=None, figsize=(12, 12))        "
   ]
  },
  {
   "cell_type": "code",
   "execution_count": null,
   "id": "841f0804-591d-40c8-9b09-8ffb38df5c77",
   "metadata": {},
   "outputs": [],
   "source": []
  }
 ],
 "metadata": {
  "kernelspec": {
   "display_name": "Python 3 (ipykernel)",
   "language": "python",
   "name": "python3"
  },
  "language_info": {
   "codemirror_mode": {
    "name": "ipython",
    "version": 3
   },
   "file_extension": ".py",
   "mimetype": "text/x-python",
   "name": "python",
   "nbconvert_exporter": "python",
   "pygments_lexer": "ipython3",
   "version": "3.9.19"
  },
  "toc-autonumbering": false,
  "toc-showcode": false,
  "toc-showmarkdowntxt": false
 },
 "nbformat": 4,
 "nbformat_minor": 5
}
