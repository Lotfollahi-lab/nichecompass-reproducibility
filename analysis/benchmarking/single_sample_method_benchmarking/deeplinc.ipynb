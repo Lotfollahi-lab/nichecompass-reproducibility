{
 "cells": [
  {
   "cell_type": "markdown",
   "id": "364a9ebc-3e3c-4645-9049-a34bd084c8a8",
   "metadata": {},
   "source": [
    "# DeepLinc"
   ]
  },
  {
   "cell_type": "markdown",
   "id": "b0c55227-147e-417f-b0dd-bb0b7f322930",
   "metadata": {},
   "source": [
    "- **Creator**: Sebastian Birk (<sebastian.birk@helmholtz-munich.de>)\n",
    "- **Date of Creation:** 05.01.2023\n",
    "- **Date of Last Modification:** 22.07.2024 (Sebastian Birk; <sebastian.birk@helmholtz-munich.de>)"
   ]
  },
  {
   "cell_type": "markdown",
   "id": "8eb78e3b-6546-47bd-9d50-b337ad74ece4",
   "metadata": {},
   "source": [
    "- The DeepLinc source code is available at https://github.com/xryanglab/DeepLinc.\n",
    "- The corresponding publication is \"Li, R. & Yang, X. De novo reconstruction of cell interaction landscapes from single-cell spatial transcriptome data with DeepLinc. Genome Biol. 23, 124 (2022)\".\n",
    "- The logic to run DeepLinc is encapsulated into the Python script ```../DeepLinc/deeplinc.py```.\n",
    "- We train DeepLinc models on the benchmarking datasets with different adjacency matrices corresponding to 4, 8, 12, 16, and 20 average neighbors.\n",
    "- We compute 2 runs per number of average neighbors resulting in a total of 10 runs. Each of the 2 runs uses a different random seed (seed 0 and seed 1).\n",
    "- To train a DeepLinc model with 4 average neighbors, open a terminal, navigate to the ```../DeepLinc``` folder, and run ```python deeplinc.py -e ../../../datasets/st_data/gold/seqfish_mouse_organogenesis_embryo2_counts.csv -a ../../../datasets/st_data/gold/seqfish_mouse_organogenesis_embryo2_adj4.csv -c ../../../datasets/st_data/gold/seqfish_mouse_organogenesis_embryo2_coords.csv -r ../../../datasets/st_data/gold/seqfish_mouse_organogenesis_embryo2_cell_types.csv -n run1 -i 40 --seed 0``` (after the data has been prepared further down in this notebook).\n",
    "- The results of the trained DeepLinc models (latent space features & reconstructed adjacency matrices) are manually stored in ```../../../datasets/benchmark_data/deeplinc/{dataset}```."
   ]
  },
  {
   "cell_type": "markdown",
   "id": "7b24aaaf-8ba2-4ff7-8241-68415fff4e0f",
   "metadata": {},
   "source": [
    "- Run the deeplinc script and this notebook in the deeplinc environment, installable from ```('../../../envs/environment_deeplinc.yaml')```."
   ]
  },
  {
   "cell_type": "markdown",
   "id": "7529cde5-be12-403b-a94c-07561774b86c",
   "metadata": {},
   "source": [
    "## 1. Setup"
   ]
  },
  {
   "cell_type": "markdown",
   "id": "faad87bd-fef5-4429-a175-d714c491ae76",
   "metadata": {},
   "source": [
    "### 1.1 Import Libraries"
   ]
  },
  {
   "cell_type": "code",
   "execution_count": null,
   "id": "d7f93960-c759-424f-8cb2-1d8698acae2c",
   "metadata": {
    "tags": []
   },
   "outputs": [],
   "source": [
    "import csv\n",
    "import json\n",
    "import os\n",
    "import re\n",
    "from datetime import datetime\n",
    "\n",
    "import anndata as ad\n",
    "import matplotlib.pyplot as plt\n",
    "import numpy as np\n",
    "import pandas as pd\n",
    "import scanpy as sc\n",
    "import scipy.sparse as sp\n",
    "import squidpy as sq"
   ]
  },
  {
   "cell_type": "markdown",
   "id": "39b5efa5-2052-4986-8ae5-89cfab018515",
   "metadata": {},
   "source": [
    "### 1.2 Define Parameters"
   ]
  },
  {
   "cell_type": "code",
   "execution_count": null,
   "id": "e5c8b48a-ed5e-48b5-8c5c-c1de11493aee",
   "metadata": {
    "tags": []
   },
   "outputs": [],
   "source": [
    "model_name = \"deeplinc\"\n",
    "latent_key = f\"{model_name}_latent\""
   ]
  },
  {
   "cell_type": "markdown",
   "id": "28adc110-0f41-4a71-9838-dc7f0687809a",
   "metadata": {},
   "source": [
    "### 1.3 Run Notebook Setup"
   ]
  },
  {
   "cell_type": "code",
   "execution_count": null,
   "id": "334b87ca-3387-4ba9-8567-84bc4754ff0c",
   "metadata": {
    "tags": []
   },
   "outputs": [],
   "source": [
    "sc.set_figure_params(figsize=(6, 6))"
   ]
  },
  {
   "cell_type": "code",
   "execution_count": null,
   "id": "0ab6b302-1c0b-4937-8624-40629ada2e46",
   "metadata": {
    "tags": []
   },
   "outputs": [],
   "source": [
    "# Get time of notebook execution for timestamping saved artifacts\n",
    "now = datetime.now()\n",
    "current_timestamp = now.strftime(\"%d%m%Y_%H%M%S\")"
   ]
  },
  {
   "cell_type": "markdown",
   "id": "85538952-006b-4b0b-a50c-fe7445ce22e2",
   "metadata": {},
   "source": [
    "### 1.4 Configure Paths and Directories"
   ]
  },
  {
   "cell_type": "code",
   "execution_count": null,
   "id": "7ddcc49c-ba22-4155-acd5-05b5b810e091",
   "metadata": {
    "tags": []
   },
   "outputs": [],
   "source": [
    "data_folder_path = \"../../../datasets/st_data/gold/\"\n",
    "figure_folder_path = f\"../../../figures\"\n",
    "benchmark_data_folder_path = \"../../../datasets/benchmark_data\"\n",
    "benchmarking_folder_path = \"../../../artifacts/single_sample_method_benchmarking\""
   ]
  },
  {
   "cell_type": "markdown",
   "id": "58f3bcb4-901b-48dd-b684-a398c836160b",
   "metadata": {},
   "source": [
    "## 2. Data"
   ]
  },
  {
   "cell_type": "markdown",
   "id": "6c409162-2e75-4e6e-b503-34c899d3cbcd",
   "metadata": {},
   "source": [
    "### 2.1 Define Data Preparation Function"
   ]
  },
  {
   "cell_type": "code",
   "execution_count": null,
   "id": "b511456d-7196-470c-9ca3-1cf5dfdc4a8e",
   "metadata": {
    "tags": []
   },
   "outputs": [],
   "source": [
    "def preprocess_data_for_deeplinc(dataset,\n",
    "                                 cell_type_key):\n",
    "    # Configure benchmark folder path\n",
    "    benchmark_data_dataset_folder_path = f\"{benchmark_data_folder_path}/{model_name}/{dataset}\"\n",
    "    os.makedirs(benchmark_data_dataset_folder_path, exist_ok=True)\n",
    "    \n",
    "    # Load data\n",
    "    adata = sc.read_h5ad(data_folder_path + f\"{dataset}.h5ad\")\n",
    "\n",
    "    # Create csv files to run DeepLinc\n",
    "    counts_df = pd.DataFrame(adata.layers[\"counts\"].toarray(), columns=adata.var_names)\n",
    "    counts_df.to_csv(f\"{benchmark_data_dataset_folder_path}/counts.csv\", index=False)\n",
    "\n",
    "    coords_df = pd.DataFrame(adata.obsm[\"spatial\"], columns=[\"X\", \"Y\"])\n",
    "    coords_df.to_csv(f\"{benchmark_data_dataset_folder_path}/coords.csv\", index=False)\n",
    "\n",
    "    cell_types_df = pd.DataFrame(adata.obs[cell_type_key])\n",
    "    cell_types_df.rename(columns={cell_type_key: \"Cell_class_name\"}, inplace=True)\n",
    "    cell_types_df[\"Cell_ID\"] = np.arange(len(adata))\n",
    "    cell_types_df[\"Cell_class_id\"] = cell_types_df[\"Cell_class_name\"].cat.codes\n",
    "    cell_types_df = cell_types_df[[\"Cell_ID\", \"Cell_class_id\", \"Cell_class_name\"]]\n",
    "    cell_types_df.to_csv(f\"{benchmark_data_dataset_folder_path}/cell_types.csv\", index=False)\n",
    "    \n",
    "    for n_neighbors in [4, 8, 12, 16]:\n",
    "        # Compute spatial neighborhood graphs\n",
    "        sq.gr.spatial_neighbors(adata,\n",
    "                                coord_type=\"generic\",\n",
    "                                spatial_key=\"spatial\",\n",
    "                                n_neighs=n_neighbors)\n",
    "        \n",
    "        # Make adjacency matrix symmetric\n",
    "        adj = (adata.obsp[\"spatial_connectivities\"].maximum(\n",
    "            adata.obsp[\"spatial_connectivities\"].T))\n",
    "        \n",
    "        # Write the sparse matrix to a CSV file in dense format\n",
    "        with open(f\"{benchmark_data_dataset_folder_path}/adj{n_neighbors}.csv\", \"w\", newline=\"\") as csvfile:\n",
    "            writer = csv.writer(csvfile)\n",
    "            writer.writerow(list(range(adj.shape[0]))) # column headers\n",
    "            for i in range(adj.shape[0]):\n",
    "                row_data = np.repeat(0.0, adj.shape[1])\n",
    "                row_data[adj.nonzero()[1][adj.nonzero()[0] == i]] = 1.0\n",
    "                row_data = row_data.tolist()\n",
    "                writer.writerow(row_data)"
   ]
  },
  {
   "cell_type": "markdown",
   "id": "5d28bf11-3e09-4444-95b2-be34fb9dd066",
   "metadata": {},
   "source": [
    "### 2.2 Preprocess Benchmarking Datasets"
   ]
  },
  {
   "cell_type": "code",
   "execution_count": null,
   "id": "d94e0bb9-624f-4c5a-ba88-074086094420",
   "metadata": {
    "tags": []
   },
   "outputs": [],
   "source": [
    "preprocess_data_for_deeplinc(dataset=\"seqfish_mouse_organogenesis_embryo2\",\n",
    "                             cell_type_key=\"celltype_mapped_refined\")"
   ]
  },
  {
   "cell_type": "code",
   "execution_count": null,
   "id": "ffe589ae-e19c-4d89-813b-455709ac8180",
   "metadata": {
    "tags": []
   },
   "outputs": [],
   "source": [
    "for subsample_pct in [50, 25, 10, 5, 1]:\n",
    "    preprocess_data_for_deeplinc(dataset=f\"seqfish_mouse_organogenesis_subsample_{subsample_pct}pct_embryo2\",\n",
    "                                 cell_type_key=\"celltype_mapped_refined\")"
   ]
  },
  {
   "cell_type": "raw",
   "id": "33fc4c2e-db99-4def-8ac8-c44d953c075a",
   "metadata": {
    "tags": []
   },
   "source": [
    "# This does not work because of memory exhaustion\n",
    "# NVIDIA A100-PCIE-40GB GPU\n",
    "# The adjacency matrix csv files have dim n_obs x n_obs\n",
    "preprocess_data_for_deeplinc(dataset=\"nanostring_cosmx_human_nsclc_batch5\",\n",
    "                             cell_type_key=\"cell_type\")"
   ]
  },
  {
   "cell_type": "code",
   "execution_count": null,
   "id": "953126b7-2165-4cdf-93b1-6a9c32bbc5a0",
   "metadata": {
    "tags": []
   },
   "outputs": [],
   "source": [
    "for subsample_pct in [50, 25, 10, 5, 1]:\n",
    "    preprocess_data_for_deeplinc(dataset=f\"nanostring_cosmx_human_nsclc_subsample_{subsample_pct}pct_batch5\",\n",
    "                                 cell_type_key=\"cell_type\")"
   ]
  },
  {
   "cell_type": "raw",
   "id": "62b88cca-9ce1-4d42-bd1b-43f490e08e86",
   "metadata": {
    "tags": []
   },
   "source": [
    "# This does not work because of memory exhaustion\n",
    "# NVIDIA A100-PCIE-40GB GPU\n",
    "# The adjacency matrix csv files have dim n_obs x n_obs\n",
    "preprocess_data_for_deeplinc(dataset=\"vizgen_merfish_mouse_liver\",\n",
    "                             cell_type_key=\"Cell_Type\")"
   ]
  },
  {
   "cell_type": "raw",
   "id": "87e798de-ce04-464d-b66f-40fdf485fa02",
   "metadata": {
    "tags": []
   },
   "source": [
    "# 50 pct exhausts memory\n",
    "# 25 pct exhausts memory\n",
    "# 10 pct multiple runs did not converge: 'ValueError: Input contains NaN, infinity or a value too large for dtype('float64').'\n",
    "# 5 pct multiple runs did not converge: 'ValueError: Input contains NaN, infinity or a value too large for dtype('float64').'\n",
    "# 1 pct multiple runs did not converge: 'ValueError: Input contains NaN, infinity or a value too large for dtype('float64').'\n",
    "for subsample_pct in [50, 25, 10, 5, 1]:\n",
    "    preprocess_data_for_deeplinc(dataset=f\"vizgen_merfish_mouse_liver_subsample_{subsample_pct}pct\",\n",
    "                                 cell_type_key=\"Cell_Type\")"
   ]
  },
  {
   "cell_type": "code",
   "execution_count": null,
   "id": "b4dcacf1-77f8-4137-8ddc-64f4da3f6620",
   "metadata": {},
   "outputs": [],
   "source": [
    "preprocess_data_for_deeplinc(dataset=\"slideseqv2_mouse_hippocampus\",\n",
    "                             cell_type_key=\"cell_type\")"
   ]
  },
  {
   "cell_type": "code",
   "execution_count": null,
   "id": "56b2af74-b576-487b-aefb-54d99b751e3b",
   "metadata": {},
   "outputs": [],
   "source": [
    "for subsample_pct in [50, 25, 10, 5, 1]:\n",
    "    preprocess_data_for_deeplinc(dataset=f\"slideseqv2_mouse_hippocampus_subsample_{subsample_pct}pct\",\n",
    "                                 cell_type_key=\"cell_type\")"
   ]
  },
  {
   "cell_type": "code",
   "execution_count": null,
   "id": "cfcc4e1b-ff59-4376-9c39-711c8acbe21e",
   "metadata": {
    "tags": []
   },
   "outputs": [],
   "source": [
    "preprocess_data_for_deeplinc(dataset=\"sim1_1105genes_10000locs_strongincrements\",\n",
    "                             cell_type_key=\"cell_types\")"
   ]
  },
  {
   "cell_type": "raw",
   "id": "9d261ddb-a468-4642-9d18-cb5cac456110",
   "metadata": {
    "tags": []
   },
   "source": [
    "# Multiple runs did not converge: 'ValueError: Input contains NaN, infinity or a value too large for dtype('float64').'\n",
    "preprocess_data_for_deeplinc(dataset=\"starmap_mouse_mpfc\",\n",
    "                             cell_type_key=\"cell_type\")"
   ]
  },
  {
   "cell_type": "raw",
   "id": "7a2c7bf9-1388-4e36-8807-f375f6010cb5",
   "metadata": {
    "tags": []
   },
   "source": [
    "# Multiple runs did not converge: 'ValueError: Input contains NaN, infinity or a value too large for dtype('float64').'\n",
    "preprocess_data_for_deeplinc(dataset=\"stereoseq_mouse_embryo\",\n",
    "                             cell_type_key=\"leiden\")"
   ]
  },
  {
   "cell_type": "markdown",
   "id": "656c9b41-6c0f-46d8-9419-ee9857f34237",
   "metadata": {},
   "source": [
    "## 3. DeepLinc Model"
   ]
  },
  {
   "cell_type": "markdown",
   "id": "72a7a8b5-c89d-43cf-9aca-4cb7ea6e6bf7",
   "metadata": {},
   "source": [
    "Now, train DeepLinc models with the ```../DeepLinc/train_deeplinc_models.sh``` script (or rather the slurm job scripts in the same directory that execute this shell script for specific datasets via the sbatch command). The latent space features of trained models will be stored under ```../../../datasets/benchmark_data/deeplinc/{dataset}/runs``` . Delete all ```emb_hidden*_*.npy``` files except for the one of the second hidden layer with the highest number (last epoch where the model improved)."
   ]
  },
  {
   "cell_type": "markdown",
   "id": "94d7fbb3-623d-442a-b076-244550271b14",
   "metadata": {},
   "source": [
    "### 3.1 Define Result Retrieval Function"
   ]
  },
  {
   "cell_type": "code",
   "execution_count": null,
   "id": "617aa1d1-5832-4bd7-94eb-464c3135f1e2",
   "metadata": {},
   "outputs": [],
   "source": [
    "def extract_number_after_last_letter(s):\n",
    "    match = re.search(r\"[a-zA-Z](\\d+)$\", s)\n",
    "    if match:\n",
    "        return int(match.group(1))\n",
    "    else:\n",
    "        return None"
   ]
  },
  {
   "cell_type": "code",
   "execution_count": null,
   "id": "3295fd5a-722b-4aba-b3ec-227ffdd3077b",
   "metadata": {},
   "outputs": [],
   "source": [
    "def get_deeplinc_latent(dataset,\n",
    "                        cell_type_key,\n",
    "                        niche_type_key=None,\n",
    "                        adata_new=None):\n",
    "    # Configure benchmark folder path\n",
    "    benchmark_data_dataset_folder_path = f\"{benchmark_data_folder_path}/{model_name}/{dataset}/runs\"\n",
    "    \n",
    "    # Configure figure folder path\n",
    "    dataset_figure_folder_path = f\"{figure_folder_path}/{dataset}/method_benchmarking/\" \\\n",
    "                                 f\"{model_name}/{current_timestamp}\"\n",
    "    os.makedirs(dataset_figure_folder_path, exist_ok=True)\n",
    "    \n",
    "    # Create new adata to store results from training runs in storage-efficient way\n",
    "    if adata_new is None:\n",
    "        adata_original = sc.read_h5ad(data_folder_path + f\"{dataset}.h5ad\")\n",
    "        adata_new = sc.AnnData(sp.csr_matrix(\n",
    "            (adata_original.shape[0], adata_original.shape[1]),\n",
    "            dtype=np.float32))\n",
    "        adata_new.var_names = adata_original.var_names\n",
    "        adata_new.obs_names = adata_original.obs_names\n",
    "        adata_new.obs[\"cell_type\"] = adata_original.obs[cell_type_key].values\n",
    "        if niche_type_key in adata_original.obs.columns:\n",
    "            adata_new.obs[\"niche_type\"] = adata_original.obs[niche_type_key].values\n",
    "        adata_new.obsm[\"spatial\"] = adata_original.obsm[\"spatial\"]\n",
    "        del(adata_original)\n",
    "\n",
    "    run_number = 0\n",
    "    for directory, subdirectory, file_list in os.walk(benchmark_data_dataset_folder_path):\n",
    "        for file in file_list:\n",
    "            if \"hidden2\" in file:\n",
    "                file_path = os.path.join(directory, file)\n",
    "                json_path = os.path.join(directory, \"run_time.json\")\n",
    "\n",
    "                adata = sc.read_h5ad(data_folder_path + f\"{dataset}.h5ad\")\n",
    "                adata.obsm[latent_key] = np.load(file_path)\n",
    "\n",
    "                adata_new.obsm[latent_key + f\"_run{run_number+1}\"] = np.load(file_path)\n",
    "                \n",
    "                with open(json_path, \"r\") as json_file:\n",
    "                    run_time_dict = json.load(json_file)\n",
    "                    adata_new.uns[f\"{model_name}_model_training_duration_run{run_number+1}\"] = run_time_dict[\"run_time\"]\n",
    "\n",
    "                # Store intermediate adata to disk\n",
    "                adata_new.write(f\"{benchmarking_folder_path}/{dataset}_{model_name}.h5ad\")\n",
    "                \n",
    "                run_number += 1\n",
    "\n",
    "    # Store final adata to disk\n",
    "    adata_new.write(f\"{benchmarking_folder_path}/{dataset}_{model_name}.h5ad\")  "
   ]
  },
  {
   "cell_type": "markdown",
   "id": "2c9a72aa-e02f-496c-9bdc-b8b8b3e2eb82",
   "metadata": {},
   "source": [
    "### 3.2 Retrieve Results on Benchmarking Datasets"
   ]
  },
  {
   "cell_type": "code",
   "execution_count": null,
   "id": "0cb35fd5-0d28-43eb-8c7e-7246578317a8",
   "metadata": {},
   "outputs": [],
   "source": [
    "get_deeplinc_latent(dataset=\"seqfish_mouse_organogenesis_embryo2\",\n",
    "                    cell_type_key=\"celltype_mapped_refined\")"
   ]
  },
  {
   "cell_type": "code",
   "execution_count": null,
   "id": "b8018760-5bd1-4fa0-8de4-26ba63d72ef7",
   "metadata": {},
   "outputs": [],
   "source": [
    "for subsample_pct in [50, 25, 10, 5, 1]:\n",
    "    get_deeplinc_latent(dataset=f\"seqfish_mouse_organogenesis_subsample_{subsample_pct}pct_embryo2\",\n",
    "                        cell_type_key=\"celltype_mapped_refined\")"
   ]
  },
  {
   "cell_type": "raw",
   "id": "d0921a40-17bc-4005-b918-a171c2d2760c",
   "metadata": {},
   "source": [
    "# This does not work because of memory exhaustion\n",
    "# NVIDIA A100-PCIE-40GB GPU\n",
    "# The adjacency matrix csv files have dim n_obs x n_obs\n",
    "get_deeplinc_latent(dataset=\"nanostring_cosmx_human_nsclc_batch5\",\n",
    "                    cell_type_key=\"cell_type\")"
   ]
  },
  {
   "cell_type": "code",
   "execution_count": null,
   "id": "a2ecbc94-25c9-43de-95c7-dde150165a03",
   "metadata": {},
   "outputs": [],
   "source": [
    "for subsample_pct in [50, 25, 10, 5, 1]:\n",
    "    get_deeplinc_latent(dataset=f\"nanostring_cosmx_human_nsclc_subsample_{subsample_pct}pct_batch5\",\n",
    "                        cell_type_key=\"cell_type\")"
   ]
  },
  {
   "cell_type": "raw",
   "id": "7a2a232c-7f57-47b7-a4bf-10002b97def2",
   "metadata": {},
   "source": [
    "# This does not work because of memory exhaustion\n",
    "# NVIDIA A100-PCIE-40GB GPU\n",
    "# The adjacency matrix csv files have dim n_obs x n_obs\n",
    "get_deeplinc_latent(dataset=\"vizgen_merfish_mouse_liver\",\n",
    "                    cell_type_key=\"Cell_Type\")"
   ]
  },
  {
   "cell_type": "raw",
   "id": "d1ca00da-0bf5-46b3-b92f-6743139a6fe6",
   "metadata": {},
   "source": [
    "# 50 pct exhausts memory\n",
    "# 25 pct exhausts memory\n",
    "# 10 pct multiple runs did not converge: 'ValueError: Input contains NaN, infinity or a value too large for dtype('float64').'\n",
    "# 5 pct multiple runs did not converge: 'ValueError: Input contains NaN, infinity or a value too large for dtype('float64').'\n",
    "# 1 pct multiple runs did not converge: 'ValueError: Input contains NaN, infinity or a value too large for dtype('float64').'\n",
    "for subsample_pct in [50, 25, 10, 5, 1]:\n",
    "    get_deeplinc_latent(dataset=f\"vizgen_merfish_mouse_liver_subsample_{subsample_pct}pct\",\n",
    "                        cell_type_key=\"Cell_Type\")"
   ]
  },
  {
   "cell_type": "code",
   "execution_count": null,
   "id": "96ffbbc6-c508-4816-97d3-fd63ce3d5bc7",
   "metadata": {},
   "outputs": [],
   "source": [
    "get_deeplinc_latent(dataset=\"slideseqv2_mouse_hippocampus\",\n",
    "                    cell_type_key=\"cell_type\")"
   ]
  },
  {
   "cell_type": "code",
   "execution_count": null,
   "id": "4ff662d7-4525-4b95-bc87-6aade77fb612",
   "metadata": {},
   "outputs": [],
   "source": [
    "for subsample_pct in [50, 25, 10, 5, 1]:\n",
    "    get_deeplinc_latent(dataset=f\"slideseqv2_mouse_hippocampus_subsample_{subsample_pct}pct\",\n",
    "                        cell_type_key=\"cell_type\")"
   ]
  },
  {
   "cell_type": "code",
   "execution_count": null,
   "id": "7190f420-76dc-4b95-972c-632a88957139",
   "metadata": {},
   "outputs": [],
   "source": [
    "get_deeplinc_latent(dataset=\"sim1_1105genes_10000locs_strongincrements\",\n",
    "                    cell_type_key=\"cell_types\",\n",
    "                    niche_type_key=\"niche_types\")"
   ]
  },
  {
   "cell_type": "raw",
   "id": "a8bce9ca-6afc-41d1-ac06-7e62324007cf",
   "metadata": {},
   "source": [
    "# Multiple runs did not converge: 'ValueError: Input contains NaN, infinity or a value too large for dtype('float64').'\n",
    "get_deeplinc_latent(dataset=\"starmap_mouse_mpfc\",\n",
    "                    cell_type_key=\"cell_type\",\n",
    "                    niche_type_key=\"niche_type\")"
   ]
  },
  {
   "cell_type": "raw",
   "id": "1dca9a3f-a10e-46de-b8e2-76916524b043",
   "metadata": {},
   "source": [
    "# Multiple runs did not converge: 'ValueError: Input contains NaN, infinity or a value too large for dtype('float64').'\n",
    "get_deeplinc_latent(dataset=\"stereoseq_mouse_embryo\",\n",
    "                    cell_type_key=\"leiden\",\n",
    "                    niche_type_key=\"niche_type\")"
   ]
  },
  {
   "cell_type": "code",
   "execution_count": null,
   "id": "67e42bc6-dddc-4471-a57b-a80114020dbf",
   "metadata": {},
   "outputs": [],
   "source": []
  }
 ],
 "metadata": {
  "kernelspec": {
   "display_name": "Python 3 (ipykernel)",
   "language": "python",
   "name": "python3"
  },
  "language_info": {
   "codemirror_mode": {
    "name": "ipython",
    "version": 3
   },
   "file_extension": ".py",
   "mimetype": "text/x-python",
   "name": "python",
   "nbconvert_exporter": "python",
   "pygments_lexer": "ipython3",
   "version": "3.9.19"
  }
 },
 "nbformat": 4,
 "nbformat_minor": 5
}
