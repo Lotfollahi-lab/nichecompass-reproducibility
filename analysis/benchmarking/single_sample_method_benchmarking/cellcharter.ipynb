{
 "cells": [
  {
   "cell_type": "markdown",
   "id": "364a9ebc-3e3c-4645-9049-a34bd084c8a8",
   "metadata": {},
   "source": [
    "# CellCharter"
   ]
  },
  {
   "cell_type": "markdown",
   "id": "b0c55227-147e-417f-b0dd-bb0b7f322930",
   "metadata": {},
   "source": [
    "- **Creator**: Sebastian Birk (<sebastian.birk@helmholtz-munich.de>)\n",
    "- **Date of Creation:** 11.03.2024\n",
    "- **Date of Last Modification:** 22.07.2024"
   ]
  },
  {
   "cell_type": "markdown",
   "id": "7f91758d-06e2-478a-a934-5f04ee9344eb",
   "metadata": {},
   "source": [
    "- The CellCharter source code is available at https://github.com/CSOgroup/cellcharter.\n",
    "- The corresponding publication is \"Varrone, M., Tavernari, D., Santamaria-Martínez, A., Walsh, L. A. & Ciriello, G. CellCharter reveals spatial cell niches associated with tissue remodeling and cell plasticity. Nat. Genet. 56, 74–84 (2024)\".\n",
    "- The workflow of this notebook follows the tutorial from https://cellcharter.readthedocs.io/en/latest/notebooks/cosmx_human_nsclc.html."
   ]
  },
  {
   "cell_type": "markdown",
   "id": "10fcfe26-0997-4edb-b1e6-48e09493448d",
   "metadata": {},
   "source": [
    "Run this notebook in the cellcharter environment, installable from ```('../../../envs/environment_cellcharter.yaml')```. The required PyTorch version only supports CUDA capabilities sm_37 sm_50 sm_60 sm_70, so it won't work on new GPUs."
   ]
  },
  {
   "cell_type": "markdown",
   "id": "7529cde5-be12-403b-a94c-07561774b86c",
   "metadata": {},
   "source": [
    "## 1. Setup"
   ]
  },
  {
   "cell_type": "markdown",
   "id": "faad87bd-fef5-4429-a175-d714c491ae76",
   "metadata": {},
   "source": [
    "### 1.1 Import Libraries"
   ]
  },
  {
   "cell_type": "code",
   "execution_count": null,
   "id": "5b6bf458-fada-43eb-b358-6cb96cc62e6f",
   "metadata": {},
   "outputs": [],
   "source": [
    "%load_ext autoreload\n",
    "%autoreload 2"
   ]
  },
  {
   "cell_type": "code",
   "execution_count": null,
   "id": "9721ca9e-763c-4896-9476-09168cff1b7c",
   "metadata": {},
   "outputs": [],
   "source": [
    "import os\n",
    "import time\n",
    "from datetime import datetime\n",
    "\n",
    "import anndata as ad\n",
    "import cellcharter as cc\n",
    "import matplotlib.pyplot as plt\n",
    "import numpy as np\n",
    "import pandas as pd\n",
    "import scanpy as sc\n",
    "import scipy.sparse as sp\n",
    "import squidpy as sq"
   ]
  },
  {
   "cell_type": "markdown",
   "id": "39b5efa5-2052-4986-8ae5-89cfab018515",
   "metadata": {},
   "source": [
    "### 1.2 Define Parameters"
   ]
  },
  {
   "cell_type": "code",
   "execution_count": null,
   "id": "e5c8b48a-ed5e-48b5-8c5c-c1de11493aee",
   "metadata": {},
   "outputs": [],
   "source": [
    "model_name = \"cellcharter\"\n",
    "latent_key = f\"{model_name}_latent\""
   ]
  },
  {
   "cell_type": "markdown",
   "id": "28adc110-0f41-4a71-9838-dc7f0687809a",
   "metadata": {},
   "source": [
    "### 1.3 Run Notebook Setup"
   ]
  },
  {
   "cell_type": "code",
   "execution_count": null,
   "id": "334b87ca-3387-4ba9-8567-84bc4754ff0c",
   "metadata": {},
   "outputs": [],
   "source": [
    "sc.set_figure_params(figsize=(6, 6))"
   ]
  },
  {
   "cell_type": "code",
   "execution_count": null,
   "id": "0ab6b302-1c0b-4937-8624-40629ada2e46",
   "metadata": {},
   "outputs": [],
   "source": [
    "# Get time of notebook execution for timestamping saved artifacts\n",
    "now = datetime.now()\n",
    "current_timestamp = now.strftime(\"%d%m%Y_%H%M%S\")"
   ]
  },
  {
   "cell_type": "markdown",
   "id": "85538952-006b-4b0b-a50c-fe7445ce22e2",
   "metadata": {},
   "source": [
    "### 1.4 Configure Paths and Directories"
   ]
  },
  {
   "cell_type": "code",
   "execution_count": null,
   "id": "7ddcc49c-ba22-4155-acd5-05b5b810e091",
   "metadata": {},
   "outputs": [],
   "source": [
    "data_folder_path = \"../../../datasets/st_data/gold/\"\n",
    "benchmarking_folder_path = \"../../../artifacts/single_sample_method_benchmarking\"\n",
    "figure_folder_path = f\"../../../figures\""
   ]
  },
  {
   "cell_type": "markdown",
   "id": "d974cd00-eafa-4432-b172-fafc4058a619",
   "metadata": {},
   "source": [
    "## 2. CellCharter Model"
   ]
  },
  {
   "cell_type": "markdown",
   "id": "427dec10-5c8b-4eb2-a032-987b22beef9e",
   "metadata": {},
   "source": [
    "### 2.1 Define Training Function"
   ]
  },
  {
   "cell_type": "code",
   "execution_count": null,
   "id": "f9981586-fc49-4654-a4a8-8224d09dd630",
   "metadata": {},
   "outputs": [],
   "source": [
    "def train_cellcharter_models(dataset,\n",
    "                             cell_type_key,\n",
    "                             niche_type_key=None,\n",
    "                             adata_new=None,\n",
    "                             n_start_run=1,\n",
    "                             n_end_run=8,\n",
    "                             n_neighbor_list=[4, 4, 8, 8, 12, 12, 16, 16]):\n",
    "    # Configure figure folder path\n",
    "    dataset_figure_folder_path = f\"{figure_folder_path}/{dataset}/single_sample_method_benchmarking/\" \\\n",
    "                                 f\"{model_name}/{current_timestamp}\"\n",
    "    os.makedirs(dataset_figure_folder_path, exist_ok=True)\n",
    "    \n",
    "    # Create new adata to store results from training runs in storage-efficient way\n",
    "    if adata_new is None:\n",
    "        adata_original = sc.read_h5ad(data_folder_path + f\"{dataset}.h5ad\")\n",
    "        adata_new = sc.AnnData(sp.csr_matrix(\n",
    "            (adata_original.shape[0], adata_original.shape[1]),\n",
    "            dtype=np.float32))\n",
    "        adata_new.var_names = adata_original.var_names\n",
    "        adata_new.obs_names = adata_original.obs_names\n",
    "        adata_new.obs[\"cell_type\"] = adata_original.obs[cell_type_key].values\n",
    "        if niche_type_key in adata_original.obs.columns:\n",
    "            adata_new.obs[\"niche_type\"] = adata_original.obs[niche_type_key].values\n",
    "        adata_new.obsm[\"spatial\"] = adata_original.obsm[\"spatial\"]\n",
    "        del(adata_original)\n",
    "    \n",
    "    model_seeds = list(range(10))\n",
    "    for run_number, n_neighbors in zip(np.arange(n_start_run, n_end_run+1), n_neighbor_list):\n",
    "        # n_neighbors is here only used for the latent neighbor graph construction used for\n",
    "        # UMAP generation and clustering as scVI is not a spatial method\n",
    "        \n",
    "        # Load trained SCVI results\n",
    "        adata = sc.read_h5ad(f\"{benchmarking_folder_path}/{dataset}_scvi.h5ad\")\n",
    "\n",
    "        start_time = time.time()\n",
    "\n",
    "        adata.obsm[\"latent_scvi\"] = adata.obsm[f\"scvi_latent_run{run_number}\"].astype(np.float32)\n",
    "\n",
    "        # Compute spatial neighborhood graph\n",
    "        sq.gr.spatial_neighbors(adata,\n",
    "                                coord_type=\"generic\",\n",
    "                                spatial_key=\"spatial\",\n",
    "                                n_neighs=n_neighbors)\n",
    "\n",
    "        # Use CellCharter as per tutorial\n",
    "        cc.gr.remove_long_links(adata)\n",
    "        cc.gr.aggregate_neighbors(adata, n_layers=3, use_rep=\"latent_scvi\", out_key=latent_key)\n",
    "        \n",
    "        # Measure time for model training\n",
    "        end_time = time.time()\n",
    "        elapsed_time = end_time - start_time\n",
    "        hours, rem = divmod(elapsed_time, 3600)\n",
    "        minutes, seconds = divmod(rem, 60)\n",
    "        print(f\"Duration of model training in run {run_number}: \"\n",
    "              f\"{int(hours)} hours, {int(minutes)} minutes and {int(seconds)} seconds.\")\n",
    "        adata_new.uns[f\"{model_name}_model_training_duration_run{run_number}\"] = (\n",
    "            adata.uns[f\"scvi_model_training_duration_run{run_number}\"] + elapsed_time)\n",
    "        \n",
    "        # Store latent representation\n",
    "        adata_new.obsm[latent_key + f\"_run{run_number}\"] = adata.obsm[latent_key]\n",
    "\n",
    "        # Store intermediate adata to disk\n",
    "        adata_new.write(f\"{benchmarking_folder_path}/{dataset}_{model_name}.h5ad\")  \n",
    "\n",
    "    # Store final adata to disk\n",
    "    adata_new.write(f\"{benchmarking_folder_path}/{dataset}_{model_name}.h5ad\") "
   ]
  },
  {
   "cell_type": "markdown",
   "id": "50e1609c-b40c-4bcc-addc-6065287ae21d",
   "metadata": {},
   "source": [
    "### 2.2 Train Models on Benchmarking Datasets"
   ]
  },
  {
   "cell_type": "code",
   "execution_count": null,
   "id": "4289b13f-5f18-48ae-bc31-809fa819cf9b",
   "metadata": {},
   "outputs": [],
   "source": [
    "train_cellcharter_models(dataset=\"seqfish_mouse_organogenesis_embryo2\",\n",
    "                         cell_type_key=\"celltype_mapped_refined\",\n",
    "                         adata_new=None,\n",
    "                         n_start_run=1,\n",
    "                         n_end_run=8,\n",
    "                         n_neighbor_list=[4, 4, 8, 8, 12, 12, 16, 16])"
   ]
  },
  {
   "cell_type": "code",
   "execution_count": null,
   "id": "b85d6336-b77b-445d-b084-66eaf4380d19",
   "metadata": {},
   "outputs": [],
   "source": [
    "for subsample_pct in [50, 25, 10, 5, 1]:\n",
    "    train_cellcharter_models(dataset=f\"seqfish_mouse_organogenesis_subsample_{subsample_pct}pct_embryo2\",\n",
    "                             cell_type_key=\"celltype_mapped_refined\",\n",
    "                             adata_new=None,\n",
    "                             n_start_run=1,\n",
    "                             n_end_run=8,\n",
    "                             n_neighbor_list=[4, 4, 8, 8, 12, 12, 16, 16])"
   ]
  },
  {
   "cell_type": "code",
   "execution_count": null,
   "id": "cc4a57ed-79d7-455a-94b2-9a0c80192886",
   "metadata": {},
   "outputs": [],
   "source": [
    "train_cellcharter_models(dataset=\"nanostring_cosmx_human_nsclc_batch5\",\n",
    "                         cell_type_key=\"cell_type\",\n",
    "                         adata_new=None,\n",
    "                         n_start_run=1,\n",
    "                         n_end_run=8,\n",
    "                         n_neighbor_list=[4, 4, 8, 8, 12, 12, 16, 16])"
   ]
  },
  {
   "cell_type": "code",
   "execution_count": null,
   "id": "f0e6133a-6af0-4173-bdb7-929ff3891b63",
   "metadata": {},
   "outputs": [],
   "source": [
    "for subsample_pct in [50, 25, 10, 5, 1]:\n",
    "    train_cellcharter_models(dataset=f\"nanostring_cosmx_human_nsclc_subsample_{subsample_pct}pct_batch5\",\n",
    "                             cell_type_key=\"cell_type\",\n",
    "                             adata_new=None,\n",
    "                             n_start_run=1,\n",
    "                             n_end_run=8,\n",
    "                             n_neighbor_list=[4, 4, 8, 8, 12, 12, 16, 16])"
   ]
  },
  {
   "cell_type": "code",
   "execution_count": null,
   "id": "f10194e6-8b82-400d-a243-a38d81dd6e0b",
   "metadata": {},
   "outputs": [],
   "source": [
    "train_cellcharter_models(dataset=\"vizgen_merfish_mouse_liver\",\n",
    "                         cell_type_key=\"Cell_Type\",\n",
    "                         adata_new=None,\n",
    "                         n_start_run=1,\n",
    "                         n_end_run=8,\n",
    "                         n_neighbor_list=[4, 4, 8, 8, 12, 12, 16, 16])"
   ]
  },
  {
   "cell_type": "code",
   "execution_count": null,
   "id": "e58e2ed1-2e50-4af8-a8a2-e4e967ed12b1",
   "metadata": {},
   "outputs": [],
   "source": [
    "for subsample_pct in [50, 25, 10, 5, 1]:\n",
    "    train_cellcharter_models(dataset=f\"vizgen_merfish_mouse_liver_subsample_{subsample_pct}pct\",\n",
    "                             cell_type_key=\"Cell_Type\",\n",
    "                             adata_new=None,\n",
    "                             n_start_run=1,\n",
    "                             n_end_run=8,\n",
    "                             n_neighbor_list=[4, 4, 8, 8, 12, 12, 16, 16])"
   ]
  },
  {
   "cell_type": "code",
   "execution_count": null,
   "id": "d683acef-cbd1-4798-8615-da4c46f301a5",
   "metadata": {},
   "outputs": [],
   "source": [
    "train_cellcharter_models(dataset=\"slideseqv2_mouse_hippocampus\",\n",
    "                         cell_type_key=\"cell_type\",\n",
    "                         adata_new=None,\n",
    "                         n_start_run=1,\n",
    "                         n_end_run=8,\n",
    "                         n_neighbor_list=[4, 4, 8, 8, 12, 12, 16, 16])"
   ]
  },
  {
   "cell_type": "code",
   "execution_count": null,
   "id": "67994877-132a-4049-950c-e4aac53b1ff0",
   "metadata": {},
   "outputs": [],
   "source": [
    "for subsample_pct in [50, 25, 10, 5, 1]:\n",
    "    train_cellcharter_models(dataset=f\"slideseqv2_mouse_hippocampus_subsample_{subsample_pct}pct\",\n",
    "                             cell_type_key=\"cell_type\",\n",
    "                             adata_new=None,\n",
    "                             n_start_run=1,\n",
    "                             n_end_run=8,\n",
    "                             n_neighbor_list=[4, 4, 8, 8, 12, 12, 16, 16])"
   ]
  },
  {
   "cell_type": "code",
   "execution_count": null,
   "id": "94d9ea5f-18fb-4185-901e-5fdb20235e63",
   "metadata": {},
   "outputs": [],
   "source": [
    "train_cellcharter_models(dataset=\"sim1_1105genes_10000locs_strongincrements\",\n",
    "                         cell_type_key=\"cell_types\",\n",
    "                         niche_type_key=\"niche_types\",\n",
    "                         adata_new=None,\n",
    "                         n_start_run=1,\n",
    "                         n_end_run=8,\n",
    "                         n_neighbor_list=[4, 4, 8, 8, 12, 12, 16, 16])"
   ]
  },
  {
   "cell_type": "code",
   "execution_count": null,
   "id": "13b4ae28-b1ba-4092-b25d-b3adc19d7347",
   "metadata": {},
   "outputs": [],
   "source": [
    "train_cellcharter_models(dataset=\"starmap_mouse_mpfc\",\n",
    "                         cell_type_key=\"cell_type\",\n",
    "                         niche_type_key=\"niche_type\",\n",
    "                         adata_new=None,\n",
    "                         n_start_run=1,\n",
    "                         n_end_run=8,\n",
    "                         n_neighbor_list=[4, 4, 8, 8, 12, 12, 16, 16])"
   ]
  },
  {
   "cell_type": "code",
   "execution_count": null,
   "id": "8f2ce733-327e-44f2-bd6a-5de69c843a47",
   "metadata": {},
   "outputs": [],
   "source": [
    "train_cellcharter_models(dataset=\"stereoseq_mouse_embryo\",\n",
    "                         cell_type_key=\"leiden\",\n",
    "                         niche_type_key=\"niche_type\",\n",
    "                         adata_new=None,\n",
    "                         n_start_run=1,\n",
    "                         n_end_run=8,\n",
    "                         n_neighbor_list=[4, 4, 8, 8, 12, 12, 16, 16])"
   ]
  },
  {
   "cell_type": "code",
   "execution_count": null,
   "id": "2b0cfaf9-12d3-48a0-b120-067935f5c918",
   "metadata": {},
   "outputs": [],
   "source": []
  }
 ],
 "metadata": {
  "kernelspec": {
   "display_name": "Python 3 (ipykernel)",
   "language": "python",
   "name": "python3"
  },
  "language_info": {
   "codemirror_mode": {
    "name": "ipython",
    "version": 3
   },
   "file_extension": ".py",
   "mimetype": "text/x-python",
   "name": "python",
   "nbconvert_exporter": "python",
   "pygments_lexer": "ipython3",
   "version": "3.9.19"
  }
 },
 "nbformat": 4,
 "nbformat_minor": 5
}
