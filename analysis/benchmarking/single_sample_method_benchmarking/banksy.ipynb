{
 "cells": [
  {
   "cell_type": "markdown",
   "metadata": {},
   "source": [
    "# BANKSY"
   ]
  },
  {
   "cell_type": "markdown",
   "metadata": {},
   "source": [
    "- **Creator**: Anamika Yadav (anamika310.yadav@gmail.com)\n",
    "- **Date of Creation:** 12.07.2024\n",
    "- **Date of Last Modification:** 22.07.2024 (Sebastian Birk; <sebastian.birk@helmholtz-munich.de>)"
   ]
  },
  {
   "cell_type": "markdown",
   "metadata": {},
   "source": [
    "- The Banksy source code is available at https://github.com/prabhakarlab/Banksy (R) and https://github.com/prabhakarlab/Banksy_py (Python).\n",
    "- The corresponding publication is \"Singhal, V. et al. BANKSY unifies cell typing and tissue domain segmentation for scalable spatial omics data analysis. Nat. Genet. (2024) doi:10.1038/s41588-024-01664-3\".\n",
    "- The workflow of this notebook follows the tutorial from https://github.com/prabhakarlab/Banksy_py/blob/main/slideseqv2_analysis.ipynb."
   ]
  },
  {
   "cell_type": "markdown",
   "metadata": {},
   "source": [
    "- Run this notebook in the nichecompass-reproducibility environment, installable from ```('../../../envs/environment.yaml')```. In addition, it is required to clone the Banksy_py repo from GitHub as follows:\n",
    "    - ```cd analysis/benchmarking```\n",
    "    - ```git clone https://github.com/prabhakarlab/Banksy_py.git```"
   ]
  },
  {
   "cell_type": "markdown",
   "metadata": {},
   "source": [
    "## 1. Setup"
   ]
  },
  {
   "cell_type": "markdown",
   "metadata": {},
   "source": [
    "### 1.1 Import Libraries"
   ]
  },
  {
   "cell_type": "code",
   "execution_count": null,
   "metadata": {},
   "outputs": [],
   "source": [
    "%load_ext autoreload\n",
    "%autoreload 2"
   ]
  },
  {
   "cell_type": "code",
   "execution_count": null,
   "metadata": {},
   "outputs": [],
   "source": [
    "import sys\n",
    "sys.path.append(\"../Banksy_py\")"
   ]
  },
  {
   "cell_type": "code",
   "execution_count": null,
   "metadata": {},
   "outputs": [],
   "source": [
    "import os\n",
    "import time\n",
    "from datetime import datetime\n",
    "\n",
    "import anndata as ad\n",
    "import matplotlib.pyplot as plt\n",
    "import numpy as np\n",
    "import pandas as pd\n",
    "import scanpy as sc\n",
    "import scipy.sparse as sp\n",
    "import squidpy as sq\n",
    "from sklearn.linear_model import LogisticRegression\n",
    "from sklearn.metrics import f1_score\n",
    "from sklearn.preprocessing import LabelEncoder\n",
    "\n",
    "from banksy.initialize_banksy import initialize_banksy\n",
    "from banksy_utils.load_data import load_adata, display_adata\n",
    "from banksy_utils.filter_utils import filter_cells, filter_hvg, normalize_total, print_max_min\n",
    "from banksy_utils.umap_pca import pca_umap\n",
    "from banksy.embed_banksy import generate_banksy_matrix"
   ]
  },
  {
   "cell_type": "markdown",
   "metadata": {},
   "source": [
    "### 1.2 Define Parameters"
   ]
  },
  {
   "cell_type": "code",
   "execution_count": null,
   "metadata": {
    "tags": []
   },
   "outputs": [],
   "source": [
    "model_name = \"banksy\"\n",
    "latent_key = f\"{model_name}_latent\"\n",
    "lambda_list = [0.2]  # list of lambda parameters"
   ]
  },
  {
   "cell_type": "markdown",
   "metadata": {},
   "source": [
    "### 1.3 Run Notebook Setup"
   ]
  },
  {
   "cell_type": "code",
   "execution_count": null,
   "metadata": {},
   "outputs": [],
   "source": [
    "sc.set_figure_params(figsize=(6, 6))\n",
    "now = datetime.now()\n",
    "current_timestamp = now.strftime(\"%d%m%Y_%H%M%S\")"
   ]
  },
  {
   "cell_type": "markdown",
   "metadata": {},
   "source": [
    "### 1.4 Configure Paths and Directories\n"
   ]
  },
  {
   "cell_type": "code",
   "execution_count": null,
   "metadata": {},
   "outputs": [],
   "source": [
    "data_folder_path = \"../../../datasets/st_data/gold/\"\n",
    "benchmarking_folder_path = \"../../../artifacts/single_sample_method_benchmarking\"\n",
    "figure_folder_path = f\"../../../figures\"\n",
    "# figure_folder_path = f\"../figures/\""
   ]
  },
  {
   "cell_type": "markdown",
   "metadata": {},
   "source": [
    "## 2. Banksy Model\n"
   ]
  },
  {
   "cell_type": "markdown",
   "metadata": {},
   "source": [
    "### 2.1 Define Training Function\n"
   ]
  },
  {
   "cell_type": "code",
   "execution_count": null,
   "metadata": {},
   "outputs": [],
   "source": [
    "def train_banksy_models(dataset,\n",
    "                        cell_type_key,\n",
    "                        niche_type_key=None,\n",
    "                        adata_new=None,\n",
    "                        n_start_run=1,\n",
    "                        n_end_run=8,\n",
    "                        n_neighbor_list=[4, 4, 8, 8, 12, 12, 16, 16],\n",
    "                        gp_inference=False):\n",
    "    # Configure figure folder path\n",
    "    dataset_figure_folder_path = f\"{figure_folder_path}/{dataset}/single_sample_method_benchmarking/\" \\\n",
    "                                 f\"{model_name}/{current_timestamp}\"\n",
    "    os.makedirs(dataset_figure_folder_path, exist_ok=True)\n",
    "\n",
    "    # Create new adata to store results from training runs in storage-efficient way\n",
    "    if adata_new is None:\n",
    "        adata_original = sc.read_h5ad(data_folder_path + f\"{dataset}.h5ad\")\n",
    "        adata_new = sc.AnnData(sp.csr_matrix(\n",
    "            (adata_original.shape[0], adata_original.shape[1]),\n",
    "            dtype=np.float32))\n",
    "        adata_new.var_names = adata_original.var_names\n",
    "        adata_new.obs_names = adata_original.obs_names\n",
    "        adata_new.obs[\"cell_type\"] = adata_original.obs[cell_type_key].values\n",
    "        if niche_type_key in adata_original.obs.columns:\n",
    "            adata_new.obs[\"niche_type\"] = adata_original.obs[niche_type_key].values\n",
    "        adata_new.obsm[\"spatial\"] = adata_original.obsm[\"spatial\"]\n",
    "        del(adata_original)\n",
    "\n",
    "    model_seeds = list(range(10))\n",
    "    for run_number, n_neighbors in zip(np.arange(n_start_run, n_end_run+1), n_neighbor_list):\n",
    "        # n_neighbors is here used for k_geom parameter in banksy method as well as the latent neighbor graph construction used for\n",
    "        # UMAP generation and clustering \n",
    "\n",
    "        # Load data\n",
    "        adata = sc.read_h5ad(data_folder_path + f\"{dataset}.h5ad\")\n",
    "\n",
    "        start_time = time.time()\n",
    "\n",
    "        # Set default model hyperparams\n",
    "        max_m = 1 # use both mean and AFT\n",
    "        nbr_weight_decay = \"scaled_gaussian\" # can also choose \"reciprocal\", \"uniform\" or \"ranked\"\n",
    "        lambda_list = [0.8]\n",
    "        pca_dims = [20]\n",
    "        \n",
    "        # Define spatial coordinates\n",
    "        adata.obs[\"spatial_x\"] = adata.obsm['spatial'][:, 0]\n",
    "        adata.obs[\"spatial_y\"] = adata.obsm['spatial'][:, 1]\n",
    "\n",
    "        banksy_dict = initialize_banksy(\n",
    "            adata,\n",
    "            (\"spatial_x\", \"spatial_y\", \"spatial\"),\n",
    "            n_neighbors,\n",
    "            nbr_weight_decay=nbr_weight_decay,\n",
    "            max_m=max_m,\n",
    "            plt_edge_hist=False,\n",
    "            plt_nbr_weights=False,\n",
    "            plt_agf_angles=False, # takes long time to plot\n",
    "            plt_theta=False)\n",
    "\n",
    "        banksy_dict, banksy_matrix = generate_banksy_matrix(\n",
    "            adata,\n",
    "            banksy_dict,\n",
    "            lambda_list,\n",
    "            max_m)\n",
    "\n",
    "        pca_umap(\n",
    "            banksy_dict,\n",
    "            pca_dims = pca_dims,\n",
    "            add_umap = True,\n",
    "            plt_remaining_var = False)\n",
    "\n",
    "        adata.obsm[latent_key] = banksy_dict[nbr_weight_decay][lambda_list[0]][\"adata\"].obsm[\"reduced_pc_20\"]\n",
    "\n",
    "        # Measure time for model training\n",
    "        end_time = time.time()\n",
    "        elapsed_time = end_time - start_time\n",
    "        hours, rem = divmod(elapsed_time, 3600)\n",
    "        minutes, seconds = divmod(rem, 60)\n",
    "        print(f\"Duration of model training in run {run_number}: \"\n",
    "              f\"{int(hours)} hours, {int(minutes)} minutes and {int(seconds)} seconds.\")\n",
    "        adata_new.uns[f\"{model_name}_model_training_duration_run{run_number}\"] = (\n",
    "            elapsed_time)\n",
    "\n",
    "        # Store latent representation\n",
    "        adata_new.obsm[latent_key + f\"_run{run_number}\"] = adata.obsm[latent_key]\n",
    "\n",
    "        # Store intermediate adata to disk\n",
    "        if gp_inference:\n",
    "            adata_new.write(f\"{benchmarking_folder_path}/{dataset}_{model_name}_gpinference.h5ad\")\n",
    "        else:\n",
    "            adata_new.write(f\"{benchmarking_folder_path}/{dataset}_{model_name}.h5ad\")  \n",
    "\n",
    "    # Store final adata to disk\n",
    "    if gp_inference:\n",
    "        adata_new.write(f\"{benchmarking_folder_path}/{dataset}_{model_name}_gpinference.h5ad\")\n",
    "    else:\n",
    "        adata_new.write(f\"{benchmarking_folder_path}/{dataset}_{model_name}.h5ad\")  "
   ]
  },
  {
   "cell_type": "markdown",
   "metadata": {},
   "source": [
    "2.2 Train Models on Benchmarking Datasets\n"
   ]
  },
  {
   "cell_type": "code",
   "execution_count": null,
   "metadata": {},
   "outputs": [],
   "source": [
    "train_banksy_models(dataset=\"seqfish_mouse_organogenesis_embryo2\",\n",
    "                    cell_type_key=\"celltype_mapped_refined\",\n",
    "                    adata_new=None,\n",
    "                    n_start_run=1,\n",
    "                    n_end_run=8,\n",
    "                    n_neighbor_list=[4, 4, 8, 8, 12, 12, 16, 16])"
   ]
  },
  {
   "cell_type": "code",
   "execution_count": null,
   "metadata": {},
   "outputs": [],
   "source": [
    "for subsample_pct in [50, 25, 10, 5, 1]:\n",
    "    train_banksy_models(dataset=f\"seqfish_mouse_organogenesis_subsample_{subsample_pct}pct_embryo2\",\n",
    "                        cell_type_key=\"celltype_mapped_refined\",\n",
    "                        adata_new=None,\n",
    "                        n_start_run=1,\n",
    "                        n_end_run=8,\n",
    "                        n_neighbor_list=[4, 4, 8, 8, 12, 12, 16, 16])"
   ]
  },
  {
   "cell_type": "code",
   "execution_count": null,
   "metadata": {},
   "outputs": [],
   "source": [
    "train_banksy_models(dataset=\"nanostring_cosmx_human_nsclc_batch5\",\n",
    "                    cell_type_key=\"cell_type\",\n",
    "                    adata_new=None,\n",
    "                    n_start_run=1,\n",
    "                    n_end_run=8,\n",
    "                    n_neighbor_list=[4, 4, 8, 8, 12, 12, 16, 16])"
   ]
  },
  {
   "cell_type": "code",
   "execution_count": null,
   "metadata": {},
   "outputs": [],
   "source": [
    "for subsample_pct in [50, 25, 10, 5, 1]:\n",
    "    train_banksy_models(dataset=f\"nanostring_cosmx_human_nsclc_subsample_{subsample_pct}pct_batch5\",\n",
    "                        cell_type_key=\"cell_type\",\n",
    "                        adata_new=None,\n",
    "                        n_start_run=1,\n",
    "                        n_end_run=8,\n",
    "                        n_neighbor_list=[4, 4, 8, 8, 12, 12, 16, 16])"
   ]
  },
  {
   "cell_type": "code",
   "execution_count": null,
   "metadata": {},
   "outputs": [],
   "source": [
    "train_banksy_models(dataset=\"vizgen_merfish_mouse_liver\",\n",
    "                    cell_type_key=\"Cell_Type\",\n",
    "                    adata_new=None,\n",
    "                    n_start_run=1,\n",
    "                    n_end_run=8,\n",
    "                    n_neighbor_list=[4, 4, 8, 8, 12, 12, 16, 16])"
   ]
  },
  {
   "cell_type": "code",
   "execution_count": null,
   "metadata": {},
   "outputs": [],
   "source": [
    "for subsample_pct in [50, 25, 10, 5, 1]:\n",
    "    train_banksy_models(dataset=f\"vizgen_merfish_mouse_liver_subsample_{subsample_pct}pct\",\n",
    "                        cell_type_key=\"Cell_Type\",\n",
    "                        adata_new=None,\n",
    "                        n_start_run=1,\n",
    "                        n_end_run=8,\n",
    "                        n_neighbor_list=[4, 4, 8, 8, 12, 12, 16, 16])"
   ]
  },
  {
   "cell_type": "code",
   "execution_count": null,
   "metadata": {},
   "outputs": [],
   "source": [
    "train_banksy_models(dataset=\"slideseqv2_mouse_hippocampus\",\n",
    "                    cell_type_key=\"cell_type\",\n",
    "                    adata_new=None,\n",
    "                    n_start_run=1,\n",
    "                    n_end_run=8,\n",
    "                    n_neighbor_list=[4, 4, 8, 8, 12, 12, 16, 16])"
   ]
  },
  {
   "cell_type": "code",
   "execution_count": null,
   "metadata": {},
   "outputs": [],
   "source": [
    "for subsample_pct in [50, 25, 10, 5, 1]:\n",
    "    train_banksy_models(dataset=f\"slideseqv2_mouse_hippocampus_subsample_{subsample_pct}pct\",\n",
    "                        cell_type_key=\"cell_type\",\n",
    "                        adata_new=None,\n",
    "                        n_start_run=1,\n",
    "                        n_end_run=8,\n",
    "                        n_neighbor_list=[4, 4, 8, 8, 12, 12, 16, 16])"
   ]
  },
  {
   "cell_type": "code",
   "execution_count": null,
   "metadata": {},
   "outputs": [],
   "source": [
    "train_banksy_models(dataset=\"sim1_1105genes_10000locs_strongincrements\",\n",
    "                    cell_type_key=\"cell_types\",\n",
    "                    niche_type_key=\"niche_types\",\n",
    "                    adata_new=None,\n",
    "                    n_start_run=1,\n",
    "                    n_end_run=8,\n",
    "                    n_neighbor_list=[4, 4, 8, 8, 12, 12, 16, 16])"
   ]
  },
  {
   "cell_type": "code",
   "execution_count": null,
   "metadata": {},
   "outputs": [],
   "source": [
    "train_banksy_models(dataset=\"sim1_1105genes_10000locs_strongincrements\",\n",
    "                    cell_type_key=\"cell_types\",\n",
    "                    niche_type_key=\"niche_types\",\n",
    "                    adata_new=None,\n",
    "                    n_start_run=1,\n",
    "                    n_end_run=8,\n",
    "                    n_neighbor_list=[6, 6, 6, 6, 6, 6, 6, 6],\n",
    "                    gp_inference=True)"
   ]
  },
  {
   "cell_type": "code",
   "execution_count": null,
   "metadata": {},
   "outputs": [],
   "source": [
    "train_banksy_models(dataset=\"starmap_mouse_mpfc\",\n",
    "                    cell_type_key=\"cell_type\",\n",
    "                    niche_type_key=\"niche_type\",\n",
    "                    adata_new=None,\n",
    "                    n_start_run=1,\n",
    "                    n_end_run=8,\n",
    "                    n_neighbor_list=[4, 4, 8, 8, 12, 12, 16, 16])"
   ]
  },
  {
   "cell_type": "code",
   "execution_count": null,
   "metadata": {},
   "outputs": [],
   "source": [
    "train_banksy_models(dataset=\"stereoseq_mouse_embryo\",\n",
    "                    cell_type_key=\"leiden\",\n",
    "                    niche_type_key=\"niche_type\",\n",
    "                    adata_new=None,\n",
    "                    n_start_run=1,\n",
    "                    n_end_run=8,\n",
    "                    n_neighbor_list=[4, 4, 8, 8, 12, 12, 16, 16])"
   ]
  },
  {
   "cell_type": "code",
   "execution_count": null,
   "metadata": {},
   "outputs": [],
   "source": []
  }
 ],
 "metadata": {
  "kernelspec": {
   "display_name": "Python 3 (ipykernel)",
   "language": "python",
   "name": "python3"
  },
  "language_info": {
   "codemirror_mode": {
    "name": "ipython",
    "version": 3
   },
   "file_extension": ".py",
   "mimetype": "text/x-python",
   "name": "python",
   "nbconvert_exporter": "python",
   "pygments_lexer": "ipython3",
   "version": "3.9.19"
  }
 },
 "nbformat": 4,
 "nbformat_minor": 4
}
