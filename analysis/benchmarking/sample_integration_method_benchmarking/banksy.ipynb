{
 "cells": [
  {
   "cell_type": "markdown",
   "metadata": {},
   "source": [
    "# Banksy"
   ]
  },
  {
   "cell_type": "markdown",
   "metadata": {},
   "source": [
    "- **Creator**: Anamika Yadav (anamika310.yadav@gmail.com)\n",
    "- **Date of Creation:** 12.07.2024\n",
    "- **Date of Last Modification:** 18.07.2024 (Sebastian Birk; <sebastian.birk@helmholtz-munich.de>)"
   ]
  },
  {
   "cell_type": "markdown",
   "metadata": {},
   "source": [
    "- The Banksy source code is available at https://github.com/prabhakarlab/Banksy (R) and https://github.com/prabhakarlab/Banksy_py (Python).\n",
    "- The corresponding publication is \"Singhal, V. et al. BANKSY unifies cell typing and tissue domain segmentation for scalable spatial omics data analysis. Nat. Genet. (2024) doi:10.1038/s41588-024-01664-3\".\n",
    "- The workflow of this notebook follows the tutorial from https://github.com/prabhakarlab/Banksy_py/blob/main/slideseqv2_analysis.ipynb."
   ]
  },
  {
   "cell_type": "markdown",
   "metadata": {},
   "source": [
    "- Run this notebook in the nichecompass-reproducibility environment, installable from ```('../../../envs/environment.yaml')```. In addition, it is required to clone the Banksy_py repo from GitHub as follows:\n",
    "    - ```cd analysis/benchmarking```\n",
    "    - ```git clone https://github.com/prabhakarlab/Banksy_py.git```"
   ]
  },
  {
   "cell_type": "markdown",
   "metadata": {},
   "source": [
    "## 1. Setup"
   ]
  },
  {
   "cell_type": "markdown",
   "metadata": {},
   "source": [
    "### 1.1 Import Libraries"
   ]
  },
  {
   "cell_type": "code",
   "execution_count": null,
   "metadata": {},
   "outputs": [],
   "source": [
    "%load_ext autoreload\n",
    "%autoreload 2"
   ]
  },
  {
   "cell_type": "code",
   "execution_count": null,
   "metadata": {},
   "outputs": [],
   "source": [
    "import sys\n",
    "sys.path.append(\"../Banksy_py\")"
   ]
  },
  {
   "cell_type": "code",
   "execution_count": null,
   "metadata": {},
   "outputs": [],
   "source": [
    "import gc\n",
    "import os\n",
    "import time\n",
    "from datetime import datetime\n",
    "\n",
    "import anndata as ad\n",
    "import matplotlib.pyplot as plt\n",
    "import numpy as np\n",
    "import pandas as pd\n",
    "import scanpy as sc\n",
    "import scipy.sparse as sp\n",
    "import squidpy as sq\n",
    "\n",
    "from banksy.initialize_banksy import initialize_banksy\n",
    "from banksy_utils.umap_pca import pca_umap\n",
    "from banksy.embed_banksy import generate_banksy_matrix"
   ]
  },
  {
   "cell_type": "markdown",
   "metadata": {},
   "source": [
    "### 1.2 Define Parameters"
   ]
  },
  {
   "cell_type": "code",
   "execution_count": null,
   "metadata": {
    "tags": []
   },
   "outputs": [],
   "source": [
    "model_name = \"banksy\"\n",
    "latent_key = f\"{model_name}_latent\"\n",
    "lambda_list = [0.2]  # list of lambda parameters\n",
    "mapping_entity_key = \"reference\"\n",
    "condition_key = \"batch\"\n",
    "spatial_key = \"spatial\"\n",
    "adj_key = \"spatial_connectivities\""
   ]
  },
  {
   "cell_type": "markdown",
   "metadata": {},
   "source": [
    "### 1.3 Run Notebook Setup"
   ]
  },
  {
   "cell_type": "code",
   "execution_count": null,
   "metadata": {},
   "outputs": [],
   "source": [
    "sc.set_figure_params(figsize=(6, 6))\n",
    "now = datetime.now()\n",
    "current_timestamp = now.strftime(\"%d%m%Y_%H%M%S\")"
   ]
  },
  {
   "cell_type": "markdown",
   "metadata": {},
   "source": [
    "### 1.4 Configure Paths and Directories\n"
   ]
  },
  {
   "cell_type": "code",
   "execution_count": null,
   "metadata": {
    "tags": []
   },
   "outputs": [],
   "source": [
    "st_data_gold_folder_path = \"../../../datasets/st_data/gold\"\n",
    "st_data_results_folder_path = \"../../../datasets/st_data/results\" \n",
    "figure_folder_path = f\"../../../figures\"\n",
    "benchmarking_folder_path = \"../../../artifacts/sample_integration_method_benchmarking\"\n",
    "\n",
    "# Create required directories\n",
    "os.makedirs(st_data_gold_folder_path, exist_ok=True)\n",
    "os.makedirs(st_data_results_folder_path, exist_ok=True)"
   ]
  },
  {
   "cell_type": "markdown",
   "metadata": {},
   "source": [
    "## 2. Banksy Model\n"
   ]
  },
  {
   "cell_type": "markdown",
   "metadata": {},
   "source": [
    "### 2.1 Define Training Function\n"
   ]
  },
  {
   "cell_type": "code",
   "execution_count": null,
   "metadata": {},
   "outputs": [],
   "source": [
    "def train_banksy_models(dataset,\n",
    "                        reference_batches,\n",
    "                        cell_type_key,\n",
    "                        adata_new=None,\n",
    "                        n_start_run=1,\n",
    "                        n_end_run=8,\n",
    "                        n_neighbor_list=[4, 4, 8, 8, 12, 12, 16, 16],\n",
    "                        filter_genes: bool=False,\n",
    "                        n_svg: int=3000):\n",
    "    # Configure figure folder path\n",
    "    dataset_figure_folder_path = f\"{figure_folder_path}/{dataset}/single_sample_method_benchmarking/\" \\\n",
    "                                 f\"{model_name}/{current_timestamp}\"\n",
    "    os.makedirs(dataset_figure_folder_path, exist_ok=True)\n",
    "\n",
    "    # Create new adata to store results from training runs in storage-efficient way\n",
    "    if adata_new is None:  \n",
    "        adata_batch_list = []\n",
    "        if reference_batches is not None:\n",
    "            for batch in reference_batches:\n",
    "                adata_batch = ad.read_h5ad(\n",
    "                    f\"{st_data_gold_folder_path}/{dataset}_{batch}.h5ad\")\n",
    "                adata_batch.obs[mapping_entity_key] = \"reference\"\n",
    "                adata_batch_list.append(adata_batch)\n",
    "            adata_original = ad.concat(adata_batch_list, join=\"inner\")\n",
    "        else:\n",
    "            adata_original = ad.read_h5ad(f\"{st_data_gold_folder_path}/{dataset}.h5ad\")\n",
    "\n",
    "        adata_new = sc.AnnData(sp.csr_matrix(\n",
    "            (adata_original.shape[0], adata_original.shape[1]),\n",
    "            dtype=np.float32))\n",
    "        adata_new.var_names = adata_original.var_names\n",
    "        adata_new.obs_names = adata_original.obs_names\n",
    "        adata_new.obs[\"cell_type\"] = adata_original.obs[cell_type_key].values\n",
    "        adata_new.obsm[\"spatial\"] = adata_original.obsm[\"spatial\"]\n",
    "        adata_new.obs[condition_key] = adata_original.obs[condition_key]\n",
    "        adata_new.obs[mapping_entity_key] = adata_original.obs[mapping_entity_key] \n",
    "        del(adata_original)\n",
    "\n",
    "    model_seeds = list(range(10))\n",
    "    for run_number, n_neighbors in zip(np.arange(n_start_run, n_end_run+1), n_neighbor_list):\n",
    "        if reference_batches is not None:\n",
    "            adata_batch_list = []\n",
    "            for batch in reference_batches:\n",
    "                print(f\"Processing batch {batch}...\")\n",
    "                print(\"Loading data...\")\n",
    "                adata = ad.read_h5ad(\n",
    "                    f\"{st_data_gold_folder_path}/{dataset}_{batch}.h5ad\")\n",
    "                adata.obs[mapping_entity_key] = \"reference\"\n",
    "                \n",
    "                if filter_genes:\n",
    "                    \n",
    "                    # Compute (separate) spatial neighborhood graphs\n",
    "                    sq.gr.spatial_neighbors(adata,\n",
    "                                            coord_type=\"generic\",\n",
    "                                            spatial_key=spatial_key,\n",
    "                                            n_neighs=n_neighbors)\n",
    "                    # Make adjacency matrix symmetric\n",
    "                    adata.obsp[adj_key] = (\n",
    "                        adata.obsp[adj_key].maximum(\n",
    "                            adata.obsp[adj_key].T))\n",
    "                    \n",
    "                    sc.pp.filter_genes(adata,\n",
    "                                       min_cells=0)\n",
    "                    sq.gr.spatial_autocorr(adata, mode=\"moran\", genes=adata.var_names)\n",
    "                    sv_genes = adata.uns[\"moranI\"].index[:n_svg].tolist()\n",
    "                    adata.var[\"spatially_variable\"] = adata.var_names.isin(sv_genes)\n",
    "                    adata = adata[:, adata.var[\"spatially_variable\"] == True].copy()\n",
    "                    print(f\"Keeping {len(adata.var_names)} spatially variable genes.\")\n",
    "\n",
    "                start_time = time.time()\n",
    "\n",
    "                # Set default model hyperparams\n",
    "                max_m = 1 # use both mean and AFT\n",
    "                nbr_weight_decay = \"scaled_gaussian\" # can also choose \"reciprocal\", \"uniform\" or \"ranked\"\n",
    "                lambda_list = [0.8]\n",
    "                pca_dims = [20]\n",
    "    \n",
    "                # Define spatial coordinates\n",
    "                adata.obs[\"spatial_x\"] = adata.obsm['spatial'][:, 0]\n",
    "                adata.obs[\"spatial_y\"] = adata.obsm['spatial'][:, 1]\n",
    "\n",
    "                banksy_dict = initialize_banksy(\n",
    "                    adata,\n",
    "                    (\"spatial_x\", \"spatial_y\", \"spatial\"),\n",
    "                    n_neighbors,\n",
    "                    nbr_weight_decay=nbr_weight_decay,\n",
    "                    max_m=max_m,\n",
    "                    plt_edge_hist=False,\n",
    "                    plt_nbr_weights=False,\n",
    "                    plt_agf_angles=False, # takes long time to plot\n",
    "                    plt_theta=False)\n",
    "\n",
    "                banksy_dict, banksy_matrix = generate_banksy_matrix(\n",
    "                    adata,\n",
    "                    banksy_dict,\n",
    "                    lambda_list,\n",
    "                    max_m)\n",
    "\n",
    "                pca_umap(\n",
    "                    banksy_dict,\n",
    "                    pca_dims = pca_dims,\n",
    "                    add_umap = True,\n",
    "                    plt_remaining_var = False)\n",
    "\n",
    "                adata.obsm[latent_key] = banksy_dict[nbr_weight_decay][lambda_list[0]][\"adata\"].obsm[\"reduced_pc_20\"]\n",
    "                adata_batch_list.append(adata)\n",
    "            adata_original = ad.concat(adata_batch_list, join=\"outer\")\n",
    "            \n",
    "            # Integrate with harmony\n",
    "            sc.external.pp.harmony_integrate(adata_original, \"batch\", basis=latent_key)\n",
    "\n",
    "            # Measure time for model training\n",
    "            end_time = time.time()\n",
    "            elapsed_time = end_time - start_time\n",
    "            hours, rem = divmod(elapsed_time, 3600)\n",
    "            minutes, seconds = divmod(rem, 60)\n",
    "            print(f\"Duration of model training in run {run_number}: \"\n",
    "                f\"{int(hours)} hours, {int(minutes)} minutes and {int(seconds)} seconds.\")\n",
    "            adata_original.uns[f\"{model_name}_model_training_duration_run{run_number}\"] = (\n",
    "                elapsed_time)\n",
    "            adata_new.uns[f\"{model_name}_model_training_duration_run{run_number}\"] = adata_original.uns[f\"{model_name}_model_training_duration_run{run_number}\"]\n",
    "\n",
    "            adata_new.obsm[latent_key + f\"_run{run_number}\"] = adata_original.obsm['X_pca_harmony']\n",
    "\n",
    "            adata_new.write(f\"{benchmarking_folder_path}/{dataset}_{model_name}.h5ad\")  \n",
    "        else:\n",
    "            adata = ad.read_h5ad(f\"{st_data_gold_folder_path}/{dataset}.h5ad\")\n",
    "            \n",
    "            if filter_genes:\n",
    "                # Compute (separate) spatial neighborhood graphs\n",
    "                sq.gr.spatial_neighbors(adata,\n",
    "                                        coord_type=\"generic\",\n",
    "                                        spatial_key=spatial_key,\n",
    "                                        n_neighs=n_neighbors)\n",
    "                # Make adjacency matrix symmetric\n",
    "                adata.obsp[adj_key] = (\n",
    "                    adata.obsp[adj_key].maximum(\n",
    "                        adata.obsp[adj_key].T))\n",
    "                \n",
    "                sc.pp.filter_genes(adata,\n",
    "                                   min_cells=0)\n",
    "                sq.gr.spatial_autocorr(adata, mode=\"moran\", genes=adata.var_names)\n",
    "                sv_genes = adata.uns[\"moranI\"].index[:n_svg].tolist()\n",
    "                adata.var[\"spatially_variable\"] = adata.var_names.isin(sv_genes)\n",
    "                adata = adata[:, adata.var[\"spatially_variable\"] == True].copy()\n",
    "                print(f\"Keeping {len(adata.var_names)} spatially variable genes.\")\n",
    "\n",
    "            \n",
    "            start_time = time.time()\n",
    "\n",
    "            # Set default model hyperparams\n",
    "            max_m = 1 # use both mean and AFT\n",
    "            nbr_weight_decay = \"scaled_gaussian\" # can also choose \"reciprocal\", \"uniform\" or \"ranked\"\n",
    "            lambda_list = [0.8]\n",
    "            pca_dims = [20]\n",
    "        \n",
    "            # Define spatial coordinates\n",
    "            adata.obs[\"spatial_x\"] = adata.obsm['spatial'][:, 0]\n",
    "            adata.obs[\"spatial_y\"] = adata.obsm['spatial'][:, 1]\n",
    "\n",
    "            banksy_dict = initialize_banksy(\n",
    "                adata,\n",
    "                (\"spatial_x\", \"spatial_y\", \"spatial\"),\n",
    "                n_neighbors,\n",
    "                nbr_weight_decay=nbr_weight_decay,\n",
    "                max_m=max_m,\n",
    "                plt_edge_hist=False,\n",
    "                plt_nbr_weights=False,\n",
    "                plt_agf_angles=False, # takes long time to plot\n",
    "                plt_theta=False)\n",
    "\n",
    "            banksy_dict, banksy_matrix = generate_banksy_matrix(\n",
    "                adata,\n",
    "                banksy_dict,\n",
    "                lambda_list,\n",
    "                max_m)\n",
    "\n",
    "            pca_umap(\n",
    "                banksy_dict,\n",
    "                pca_dims = pca_dims,\n",
    "                add_umap = True,\n",
    "                plt_remaining_var = False)\n",
    "\n",
    "            adata.obsm[latent_key] = banksy_dict[nbr_weight_decay][lambda_list[0]][\"adata\"].obsm[\"reduced_pc_20\"]\n",
    "\n",
    "            # Measure time for model training\n",
    "            end_time = time.time()\n",
    "            elapsed_time = end_time - start_time\n",
    "            hours, rem = divmod(elapsed_time, 3600)\n",
    "            minutes, seconds = divmod(rem, 60)\n",
    "            print(f\"Duration of model training in run {run_number}: \"\n",
    "              f\"{int(hours)} hours, {int(minutes)} minutes and {int(seconds)} seconds.\")\n",
    "            adata_new.uns[f\"{model_name}_model_training_duration_run{run_number}\"] = (\n",
    "                elapsed_time)\n",
    "\n",
    "            # Store latent representation\n",
    "            adata_new.obsm[latent_key + f\"_run{run_number}\"] = adata.obsm[latent_key]\n",
    "\n",
    "            # Store intermediate adata to disk\n",
    "            adata_new.write(f\"{benchmarking_folder_path}/{dataset}_{model_name}.h5ad\") \n",
    "\n",
    "            # Free memory\n",
    "            del(adata)\n",
    "            gc.collect()\n",
    "    \n",
    "    # Store final adata to disk\n",
    "    adata_new.write(f\"{benchmarking_folder_path}/{dataset}_{model_name}.h5ad\")"
   ]
  },
  {
   "cell_type": "markdown",
   "metadata": {},
   "source": [
    "2.2 Train Models on Benchmarking Datasets\n"
   ]
  },
  {
   "cell_type": "code",
   "execution_count": null,
   "metadata": {},
   "outputs": [],
   "source": [
    "train_banksy_models(dataset=\"seqfish_mouse_organogenesis\",\n",
    "                    reference_batches=[f\"batch{i}\" for i in range(1,7)],\n",
    "                    cell_type_key=\"celltype_mapped_refined\",\n",
    "                    adata_new=None,\n",
    "                    n_start_run=1,\n",
    "                    n_end_run=8,\n",
    "                    n_neighbor_list=[4, 4, 8, 8, 12, 12, 16, 16])"
   ]
  },
  {
   "cell_type": "code",
   "execution_count": null,
   "metadata": {},
   "outputs": [],
   "source": [
    "for subsample_pct in [50, 25, 10, 5, 1]:\n",
    "    train_banksy_models(dataset=f\"seqfish_mouse_organogenesis_subsample_{subsample_pct}pct\",\n",
    "                        reference_batches=[f\"batch{i}\" for i in range(1,7)],\n",
    "                        cell_type_key=\"celltype_mapped_refined\",\n",
    "                        adata_new=None,\n",
    "                        n_start_run=1,\n",
    "                        n_end_run=8,\n",
    "                        n_neighbor_list=[4, 4, 8, 8, 12, 12, 16, 16])"
   ]
  },
  {
   "cell_type": "code",
   "execution_count": null,
   "metadata": {},
   "outputs": [],
   "source": [
    "train_banksy_models(dataset=\"seqfish_mouse_organogenesis_imputed\",\n",
    "                    reference_batches=[f\"batch{i}\" for i in range(1,7)],\n",
    "                    cell_type_key=\"celltype_mapped_refined\",\n",
    "                    adata_new=None,\n",
    "                    n_start_run=1,\n",
    "                    n_end_run=8,\n",
    "                    n_neighbor_list=[4, 4, 8, 8, 12, 12, 16, 16],\n",
    "                    filter_genes=True,\n",
    "                    n_svg=3000)"
   ]
  },
  {
   "cell_type": "code",
   "execution_count": null,
   "metadata": {},
   "outputs": [],
   "source": [
    "for subsample_pct in [50, 25, 10, 5]: # 1 pct did not work due no NaN value error\n",
    "    train_banksy_models(dataset=f\"seqfish_mouse_organogenesis_imputed_subsample_{subsample_pct}pct\",\n",
    "                        reference_batches=[f\"batch{i}\" for i in range(1,7)],\n",
    "                        cell_type_key=\"celltype_mapped_refined\",\n",
    "                        adata_new=None,\n",
    "                        n_start_run=1,\n",
    "                        n_end_run=8,\n",
    "                        n_neighbor_list=[4, 4, 8, 8, 12, 12, 16, 16],\n",
    "                        filter_genes=True,\n",
    "                        n_svg=3000)"
   ]
  },
  {
   "cell_type": "code",
   "execution_count": null,
   "metadata": {},
   "outputs": [],
   "source": [
    "train_banksy_models(dataset=\"nanostring_cosmx_human_nsclc\",\n",
    "                    reference_batches=[f\"batch{i}\" for i in range(1, 4)],\n",
    "                    cell_type_key=\"cell_type\",\n",
    "                    adata_new=None,\n",
    "                    n_start_run=1,\n",
    "                    n_end_run=8,\n",
    "                    n_neighbor_list=[4, 4, 8, 8, 12, 12, 16, 16])"
   ]
  },
  {
   "cell_type": "code",
   "execution_count": null,
   "metadata": {},
   "outputs": [],
   "source": [
    "for subsample_pct in [50, 25, 10, 5, 1]: # might be reversed in stored object\n",
    "    train_banksy_models(dataset=f\"nanostring_cosmx_human_nsclc_subsample_{subsample_pct}pct\",\n",
    "                        reference_batches=[f\"batch{i}\" for i in range(1,4)],\n",
    "                        cell_type_key=\"cell_type\",\n",
    "                        adata_new=None,\n",
    "                        n_start_run=1,\n",
    "                        n_end_run=8,\n",
    "                        n_neighbor_list=[4, 4, 8, 8, 12, 12, 16, 16])"
   ]
  },
  {
   "cell_type": "code",
   "execution_count": null,
   "metadata": {},
   "outputs": [],
   "source": []
  }
 ],
 "metadata": {
  "kernelspec": {
   "display_name": "Python 3 (ipykernel)",
   "language": "python",
   "name": "python3"
  },
  "language_info": {
   "codemirror_mode": {
    "name": "ipython",
    "version": 3
   },
   "file_extension": ".py",
   "mimetype": "text/x-python",
   "name": "python",
   "nbconvert_exporter": "python",
   "pygments_lexer": "ipython3",
   "version": "3.9.19"
  }
 },
 "nbformat": 4,
 "nbformat_minor": 4
}
