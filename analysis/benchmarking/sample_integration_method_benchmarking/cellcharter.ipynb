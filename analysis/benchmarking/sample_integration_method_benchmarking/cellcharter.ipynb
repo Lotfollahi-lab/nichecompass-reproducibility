{
 "cells": [
  {
   "cell_type": "markdown",
   "id": "364a9ebc-3e3c-4645-9049-a34bd084c8a8",
   "metadata": {},
   "source": [
    "# CellCharter"
   ]
  },
  {
   "cell_type": "markdown",
   "id": "b0c55227-147e-417f-b0dd-bb0b7f322930",
   "metadata": {},
   "source": [
    "- **Creator**: Sebastian Birk (<sebastian.birk@helmholtz-munich.de>)\n",
    "- **Date of Creation:** 11.03.2024\n",
    "- **Date of Last Modification:** 18.07.2024 (Sebastian Birk; <sebastian.birk@helmholtz-munich.de>)"
   ]
  },
  {
   "cell_type": "markdown",
   "id": "7f91758d-06e2-478a-a934-5f04ee9344eb",
   "metadata": {},
   "source": [
    "- The CellCharter source code is available at https://github.com/CSOgroup/cellcharter.\n",
    "- The corresponding publication is \"Varrone, M., Tavernari, D., Santamaria-Martínez, A., Walsh, L. A. & Ciriello, G. CellCharter reveals spatial cell niches associated with tissue remodeling and cell plasticity. Nat. Genet. 56, 74–84 (2024)\".\n",
    "- The workflow of this notebook follows the tutorial from https://cellcharter.readthedocs.io/en/latest/notebooks/cosmx_human_nsclc.html."
   ]
  },
  {
   "cell_type": "markdown",
   "id": "3da08b83-3e3b-456e-9521-de06df3e7fba",
   "metadata": {},
   "source": [
    "- Run this notebook in the cellcharter environment, installable from ```('../../../envs/environment_cellcharter.yaml')```."
   ]
  },
  {
   "cell_type": "markdown",
   "id": "7529cde5-be12-403b-a94c-07561774b86c",
   "metadata": {},
   "source": [
    "## 1. Setup"
   ]
  },
  {
   "cell_type": "markdown",
   "id": "faad87bd-fef5-4429-a175-d714c491ae76",
   "metadata": {},
   "source": [
    "### 1.1 Import Libraries"
   ]
  },
  {
   "cell_type": "code",
   "execution_count": null,
   "id": "d7f93960-c759-424f-8cb2-1d8698acae2c",
   "metadata": {},
   "outputs": [],
   "source": [
    "import gc\n",
    "import os\n",
    "import time\n",
    "from datetime import datetime\n",
    "\n",
    "import anndata as ad\n",
    "import squidpy as sq\n",
    "from spatialdata_plot.pl.utils import _get_colors_for_categorical_obs # this import is crucial, otherwise core gets dumped\n",
    "import cellcharter as cc\n",
    "import pandas as pd\n",
    "import scanpy as sc\n",
    "import scvi\n",
    "import numpy as np\n",
    "import matplotlib.pyplot as plt\n",
    "import scipy.sparse as sp"
   ]
  },
  {
   "cell_type": "markdown",
   "id": "39b5efa5-2052-4986-8ae5-89cfab018515",
   "metadata": {},
   "source": [
    "### 1.2 Define Parameters"
   ]
  },
  {
   "cell_type": "code",
   "execution_count": null,
   "id": "e5c8b48a-ed5e-48b5-8c5c-c1de11493aee",
   "metadata": {},
   "outputs": [],
   "source": [
    "model_name = \"cellcharter\"\n",
    "latent_key = f\"{model_name}_latent\"\n",
    "mapping_entity_key = \"reference\"\n",
    "condition_key = \"batch\"\n",
    "counts_key = \"counts\"\n",
    "spatial_key = \"spatial\"\n",
    "adj_key = \"spatial_connectivities\""
   ]
  },
  {
   "cell_type": "markdown",
   "id": "28adc110-0f41-4a71-9838-dc7f0687809a",
   "metadata": {},
   "source": [
    "### 1.3 Run Notebook Setup"
   ]
  },
  {
   "cell_type": "code",
   "execution_count": null,
   "id": "334b87ca-3387-4ba9-8567-84bc4754ff0c",
   "metadata": {},
   "outputs": [],
   "source": [
    "sc.set_figure_params(figsize=(6, 6))"
   ]
  },
  {
   "cell_type": "code",
   "execution_count": null,
   "id": "0ab6b302-1c0b-4937-8624-40629ada2e46",
   "metadata": {},
   "outputs": [],
   "source": [
    "# Get time of notebook execution for timestamping saved artifacts\n",
    "now = datetime.now()\n",
    "current_timestamp = now.strftime(\"%d%m%Y_%H%M%S\")"
   ]
  },
  {
   "cell_type": "markdown",
   "id": "85538952-006b-4b0b-a50c-fe7445ce22e2",
   "metadata": {},
   "source": [
    "### 1.4 Configure Paths and Directories"
   ]
  },
  {
   "cell_type": "code",
   "execution_count": null,
   "id": "7ddcc49c-ba22-4155-acd5-05b5b810e091",
   "metadata": {},
   "outputs": [],
   "source": [
    "st_data_gold_folder_path = \"../../../datasets/st_data/gold\"\n",
    "st_data_results_folder_path = \"../../../datasets/st_data/results\" \n",
    "figure_folder_path = f\"../../../figures\"\n",
    "benchmarking_folder_path = \"../../../artifacts/sample_integration_method_benchmarking\"\n",
    "\n",
    "# Create required directories\n",
    "os.makedirs(st_data_gold_folder_path, exist_ok=True)\n",
    "os.makedirs(st_data_results_folder_path, exist_ok=True)"
   ]
  },
  {
   "cell_type": "markdown",
   "id": "d974cd00-eafa-4432-b172-fafc4058a619",
   "metadata": {},
   "source": [
    "## 2. CellCharter Model"
   ]
  },
  {
   "cell_type": "markdown",
   "id": "427dec10-5c8b-4eb2-a032-987b22beef9e",
   "metadata": {},
   "source": [
    "### 2.1 Define Training Function"
   ]
  },
  {
   "cell_type": "code",
   "execution_count": null,
   "id": "f9981586-fc49-4654-a4a8-8224d09dd630",
   "metadata": {},
   "outputs": [],
   "source": [
    "def train_cellcharter_models(dataset,\n",
    "                             reference_batches,\n",
    "                             cell_type_key,\n",
    "                             adata_new=None,\n",
    "                             n_start_run=1,\n",
    "                             n_end_run=8,\n",
    "                             n_neighbor_list=[4, 4, 8, 8, 12, 12, 16, 16],\n",
    "                             plot_latent_umaps=False,\n",
    "                             filter_genes: bool=False,\n",
    "                             n_svg: int=3000):    \n",
    "    # Create new adata to store results from training runs in storage-efficient way\n",
    "    if adata_new is None:  \n",
    "        adata_batch_list = []\n",
    "        if reference_batches is not None:\n",
    "            for batch in reference_batches:\n",
    "                adata_batch = ad.read_h5ad(\n",
    "                    f\"{st_data_gold_folder_path}/{dataset}_{batch}.h5ad\")\n",
    "                adata_batch.obs[mapping_entity_key] = \"reference\"\n",
    "                adata_batch_list.append(adata_batch)\n",
    "            adata_original = ad.concat(adata_batch_list, join=\"inner\")\n",
    "        else:\n",
    "            adata_original = ad.read_h5ad(f\"{st_data_gold_folder_path}/{dataset}.h5ad\")\n",
    "\n",
    "        adata_new = sc.AnnData(sp.csr_matrix(\n",
    "            (adata_original.shape[0], adata_original.shape[1]),\n",
    "            dtype=np.float32))\n",
    "        adata_new.var_names = adata_original.var_names\n",
    "        adata_new.obs_names = adata_original.obs_names\n",
    "        adata_new.obs[\"cell_type\"] = adata_original.obs[cell_type_key].values\n",
    "        adata_new.obsm[\"spatial\"] = adata_original.obsm[\"spatial\"]\n",
    "        adata_new.obs[condition_key] = adata_original.obs[condition_key]\n",
    "        adata_new.obs[mapping_entity_key] = adata_original.obs[mapping_entity_key] \n",
    "        del(adata_original)\n",
    "        \n",
    "    model_seeds = list(range(10))\n",
    "    for run_number, n_neighbors in zip(np.arange(n_start_run, n_end_run+1), n_neighbor_list):\n",
    "        # n_neighbors is here only used for the latent neighbor graph construction used for\n",
    "        # UMAP generation and clustering as scVI is not a spatial method\n",
    "\n",
    "        # Load trained SCVI results\n",
    "        adata = sc.read_h5ad(f\"{benchmarking_folder_path}/{dataset}_scvi.h5ad\")\n",
    "        \n",
    "        start_time = time.time()\n",
    "\n",
    "        adata.obsm[\"latent_scvi\"] = adata.obsm[f\"scvi_latent_run{run_number}\"].astype(np.float32)\n",
    "\n",
    "        # Compute spatial neighborhood graph\n",
    "        sq.gr.spatial_neighbors(adata,\n",
    "                                library_key=condition_key,\n",
    "                                coord_type=\"generic\",\n",
    "                                spatial_key=\"spatial\",\n",
    "                                n_neighs=n_neighbors)\n",
    "\n",
    "        # Use CellCharter as per tutorial\n",
    "        cc.gr.remove_long_links(adata)\n",
    "        cc.gr.aggregate_neighbors(adata, n_layers=3, use_rep=\"latent_scvi\", out_key=latent_key,  sample_key=condition_key)\n",
    "        \n",
    "        # Measure time for model training\n",
    "        end_time = time.time()\n",
    "        elapsed_time = end_time - start_time\n",
    "        hours, rem = divmod(elapsed_time, 3600)\n",
    "        minutes, seconds = divmod(rem, 60)\n",
    "        print(f\"Duration of model training in run {run_number}: \"\n",
    "              f\"{int(hours)} hours, {int(minutes)} minutes and {int(seconds)} seconds.\")\n",
    "        adata_new.uns[f\"{model_name}_model_training_duration_run{run_number}\"] = (\n",
    "            adata.uns[f\"scvi_model_training_duration_run{run_number}\"] + elapsed_time)\n",
    "        \n",
    "        # Store latent representation\n",
    "        adata_new.obsm[latent_key + f\"_run{run_number}\"] = adata.obsm[latent_key]\n",
    "        \n",
    "        # Use latent representation for UMAP generation\n",
    "        sc.pp.neighbors(adata_new,\n",
    "                        use_rep=f\"{latent_key}_run{run_number}\",\n",
    "                        key_added=f\"{latent_key}_run{run_number}\")\n",
    "        sc.tl.umap(adata_new,\n",
    "                   neighbors_key=f\"{latent_key}_run{run_number}\")\n",
    "        adata_new.obsm[f\"{latent_key}_run{run_number}_X_umap\"] = adata_new.obsm[\"X_umap\"]\n",
    "        del(adata_new.obsm[\"X_umap\"])\n",
    "\n",
    "        # Store intermediate adata to disk\n",
    "        adata_new.write(f\"{benchmarking_folder_path}/{dataset}_{model_name}.h5ad\")  \n",
    "\n",
    "        # Free memory\n",
    "        del(adata)\n",
    "        gc.collect()\n",
    "        \n",
    "    # Store final adata to disk\n",
    "    adata_new.write(f\"{benchmarking_folder_path}/{dataset}_{model_name}.h5ad\") "
   ]
  },
  {
   "cell_type": "markdown",
   "id": "50e1609c-b40c-4bcc-addc-6065287ae21d",
   "metadata": {},
   "source": [
    "### 2.2 Train Models on Benchmarking Datasets"
   ]
  },
  {
   "cell_type": "code",
   "execution_count": null,
   "id": "a645699a-5fb8-4795-ae3d-071dd4e41f00",
   "metadata": {},
   "outputs": [],
   "source": [
    "train_cellcharter_models(dataset=\"seqfish_mouse_organogenesis\",\n",
    "                         reference_batches=[f\"batch{i}\" for i in range(1,7)],\n",
    "                         cell_type_key=\"celltype_mapped_refined\",\n",
    "                         adata_new=None,\n",
    "                         n_start_run=1,\n",
    "                         n_end_run=8,\n",
    "                         n_neighbor_list=[4, 4, 8, 8, 12, 12, 16, 16])"
   ]
  },
  {
   "cell_type": "code",
   "execution_count": null,
   "id": "4181742c-41d1-46fe-8a7a-2e5f7c367984",
   "metadata": {},
   "outputs": [],
   "source": [
    "for subsample_pct in [50, 25, 10, 5, 1]:\n",
    "    train_cellcharter_models(dataset=f\"seqfish_mouse_organogenesis_subsample_{subsample_pct}pct\",\n",
    "                             reference_batches=[f\"batch{i}\" for i in range(1,7)],\n",
    "                             cell_type_key=\"celltype_mapped_refined\",\n",
    "                             adata_new=None,\n",
    "                             n_start_run=1,\n",
    "                             n_end_run=8,\n",
    "                             n_neighbor_list=[4, 4, 8, 8, 12, 12, 16, 16])"
   ]
  },
  {
   "cell_type": "code",
   "execution_count": null,
   "id": "7d1c0a13-8bc4-48f4-becb-17fb7c56eb83",
   "metadata": {},
   "outputs": [],
   "source": [
    "train_cellcharter_models(dataset=\"seqfish_mouse_organogenesis_imputed\",\n",
    "                         reference_batches=[f\"batch{i}\" for i in range(1,7)],\n",
    "                         cell_type_key=\"celltype_mapped_refined\",\n",
    "                         adata_new=None,\n",
    "                         n_start_run=1,\n",
    "                         n_end_run=8,\n",
    "                         n_neighbor_list=[4, 4, 8, 8, 12, 12, 16, 16],\n",
    "                         filter_genes=True,\n",
    "                         n_svg=3000)"
   ]
  },
  {
   "cell_type": "code",
   "execution_count": null,
   "id": "0e642371-59ac-46e9-8ddf-3e59b189336d",
   "metadata": {},
   "outputs": [],
   "source": [
    "for subsample_pct in [50, 25, 10, 5, 1]:\n",
    "    train_cellcharter_models(dataset=f\"seqfish_mouse_organogenesis_imputed_subsample_{subsample_pct}pct\",\n",
    "                             reference_batches=[f\"batch{i}\" for i in range(1,7)],\n",
    "                             cell_type_key=\"celltype_mapped_refined\",\n",
    "                             adata_new=None,\n",
    "                             n_start_run=1,\n",
    "                             n_end_run=8,\n",
    "                             n_neighbor_list=[4, 4, 8, 8, 12, 12, 16, 16],\n",
    "                             filter_genes=True,\n",
    "                             n_svg=3000)"
   ]
  },
  {
   "cell_type": "code",
   "execution_count": null,
   "id": "3032c2f4-4721-458a-8870-41bc5fb1990f",
   "metadata": {},
   "outputs": [],
   "source": [
    "train_cellcharter_models(dataset=\"nanostring_cosmx_human_nsclc\",\n",
    "                         reference_batches=[f\"batch{i}\" for i in range(1, 4)],\n",
    "                         cell_type_key=\"cell_type\",\n",
    "                         adata_new=None,\n",
    "                         n_start_run=1,\n",
    "                         n_end_run=8,\n",
    "                         n_neighbor_list=[4, 4, 8, 8, 12, 12, 16, 16])"
   ]
  },
  {
   "cell_type": "code",
   "execution_count": null,
   "id": "3324a416-4d74-40db-9a11-0921803a3a6a",
   "metadata": {},
   "outputs": [],
   "source": [
    "for subsample_pct in [50, 25, 10, 5, 1]: # might be reversed in stored object\n",
    "    train_cellcharter_models(dataset=f\"nanostring_cosmx_human_nsclc_subsample_{subsample_pct}pct\",\n",
    "                             reference_batches=[f\"batch{i}\" for i in range(1,4)],\n",
    "                             cell_type_key=\"cell_type\",\n",
    "                             adata_new=None,\n",
    "                             n_start_run=1,\n",
    "                             n_end_run=8,\n",
    "                             n_neighbor_list=[4, 4, 8, 8, 12, 12, 16, 16])"
   ]
  },
  {
   "cell_type": "code",
   "execution_count": null,
   "id": "1f13b605-e7e2-46e0-86ee-31988c062855",
   "metadata": {},
   "outputs": [],
   "source": []
  }
 ],
 "metadata": {
  "kernelspec": {
   "display_name": "Python 3 (ipykernel)",
   "language": "python",
   "name": "python3"
  },
  "language_info": {
   "codemirror_mode": {
    "name": "ipython",
    "version": 3
   },
   "file_extension": ".py",
   "mimetype": "text/x-python",
   "name": "python",
   "nbconvert_exporter": "python",
   "pygments_lexer": "ipython3",
   "version": "3.9.19"
  },
  "toc-autonumbering": false,
  "toc-showcode": false,
  "toc-showmarkdowntxt": false
 },
 "nbformat": 4,
 "nbformat_minor": 5
}
