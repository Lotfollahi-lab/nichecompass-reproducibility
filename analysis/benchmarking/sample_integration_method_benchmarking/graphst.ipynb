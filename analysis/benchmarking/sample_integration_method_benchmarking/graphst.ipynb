{
 "cells": [
  {
   "cell_type": "markdown",
   "id": "364a9ebc-3e3c-4645-9049-a34bd084c8a8",
   "metadata": {},
   "source": [
    "# GraphST"
   ]
  },
  {
   "cell_type": "markdown",
   "id": "b0c55227-147e-417f-b0dd-bb0b7f322930",
   "metadata": {},
   "source": [
    "- **Creator**: Sebastian Birk (<sebastian.birk@helmholtz-munich.de>)\n",
    "- **Date of Creation:** 11.01.2023\n",
    "- **Date of Last Modification:** 18.07.2024 (Sebastian Birk; <sebastian.birk@helmholtz-munich.de>)"
   ]
  },
  {
   "cell_type": "markdown",
   "id": "fbeec0fc-2605-4bd7-92f9-97b2bb62f4d9",
   "metadata": {},
   "source": [
    "- The GraphST source code is available at https://github.com/JinmiaoChenLab/GraphST.\n",
    "- The corresponding preprint is \"Long, Y. et al. DeepST: A versatile graph contrastive learning framework for spatially informed clustering, integration, and deconvolution of spatial transcriptomics. Preprint at https://doi.org/10.1101/2022.08.02.502407\".\n",
    "- The workflow of this notebook follows the tutorial from https://deepst-tutorials.readthedocs.io/en/latest/Tutorial%204_Horizontal%20Integration.html."
   ]
  },
  {
   "cell_type": "markdown",
   "id": "9266a179-ed2e-41be-aba7-a5fac8c5bab0",
   "metadata": {},
   "source": [
    "- Run this notebook in the nichecompass-reproducibility environment, installable from ```('../../../envs/environment.yaml')```."
   ]
  },
  {
   "cell_type": "markdown",
   "id": "7529cde5-be12-403b-a94c-07561774b86c",
   "metadata": {},
   "source": [
    "## 1. Setup"
   ]
  },
  {
   "cell_type": "markdown",
   "id": "faad87bd-fef5-4429-a175-d714c491ae76",
   "metadata": {},
   "source": [
    "### 1.1 Import Libraries"
   ]
  },
  {
   "cell_type": "code",
   "execution_count": null,
   "id": "d7f93960-c759-424f-8cb2-1d8698acae2c",
   "metadata": {},
   "outputs": [],
   "source": [
    "import gc\n",
    "import os\n",
    "import time\n",
    "from datetime import datetime\n",
    "\n",
    "import anndata as ad\n",
    "import matplotlib.pyplot as plt\n",
    "import multiprocessing as mp\n",
    "import numpy as np\n",
    "import pandas as pd\n",
    "import scanpy as sc\n",
    "import scipy.sparse as sp\n",
    "import squidpy as sq\n",
    "import ot\n",
    "import paste as pst\n",
    "import torch\n",
    "from GraphST import GraphST\n",
    "from sklearn import metrics"
   ]
  },
  {
   "cell_type": "markdown",
   "id": "39b5efa5-2052-4986-8ae5-89cfab018515",
   "metadata": {},
   "source": [
    "### 1.2 Define Parameters"
   ]
  },
  {
   "cell_type": "code",
   "execution_count": null,
   "id": "e5c8b48a-ed5e-48b5-8c5c-c1de11493aee",
   "metadata": {},
   "outputs": [],
   "source": [
    "model_name = \"graphst\"\n",
    "latent_key = f\"{model_name}_latent\"\n",
    "mapping_entity_key = \"reference\"\n",
    "condition_key = \"batch\"\n",
    "counts_key = \"counts\"\n",
    "spatial_key = \"spatial\"\n",
    "adj_key = \"spatial_connectivities\""
   ]
  },
  {
   "cell_type": "markdown",
   "id": "28adc110-0f41-4a71-9838-dc7f0687809a",
   "metadata": {},
   "source": [
    "### 1.3 Run Notebook Setup"
   ]
  },
  {
   "cell_type": "code",
   "execution_count": null,
   "id": "334b87ca-3387-4ba9-8567-84bc4754ff0c",
   "metadata": {},
   "outputs": [],
   "source": [
    "sc.set_figure_params(figsize=(6, 6))"
   ]
  },
  {
   "cell_type": "code",
   "execution_count": null,
   "id": "0ab6b302-1c0b-4937-8624-40629ada2e46",
   "metadata": {},
   "outputs": [],
   "source": [
    "# Get time of notebook execution for timestamping saved artifacts\n",
    "now = datetime.now()\n",
    "current_timestamp = now.strftime(\"%d%m%Y_%H%M%S\")"
   ]
  },
  {
   "cell_type": "code",
   "execution_count": null,
   "id": "05daacf1-ec2f-4182-a369-f42e53e81d89",
   "metadata": {},
   "outputs": [],
   "source": [
    "# Run device. By default, the package is implemented on 'cpu'. It is recommended to use GPU.\n",
    "device = torch.device(\"cuda:0\" if torch.cuda.is_available() else \"cpu\")"
   ]
  },
  {
   "cell_type": "markdown",
   "id": "85538952-006b-4b0b-a50c-fe7445ce22e2",
   "metadata": {},
   "source": [
    "### 1.4 Configure Paths and Directories"
   ]
  },
  {
   "cell_type": "code",
   "execution_count": null,
   "id": "7ddcc49c-ba22-4155-acd5-05b5b810e091",
   "metadata": {},
   "outputs": [],
   "source": [
    "st_data_gold_folder_path = \"../../../datasets/st_data/gold\"\n",
    "st_data_results_folder_path = \"../../../datasets/st_data/results\" \n",
    "figure_folder_path = f\"../../../figures\"\n",
    "benchmarking_folder_path = \"../../../artifacts/sample_integration_method_benchmarking\"\n",
    "\n",
    "# Create required directories\n",
    "os.makedirs(st_data_gold_folder_path, exist_ok=True)\n",
    "os.makedirs(st_data_results_folder_path, exist_ok=True)"
   ]
  },
  {
   "cell_type": "markdown",
   "id": "d974cd00-eafa-4432-b172-fafc4058a619",
   "metadata": {},
   "source": [
    "## 2. GraphST Model"
   ]
  },
  {
   "cell_type": "markdown",
   "id": "64ea5162-09ab-4c19-8ac8-b342218ed7db",
   "metadata": {},
   "source": [
    "### 2.1 Define Training Function"
   ]
  },
  {
   "cell_type": "code",
   "execution_count": null,
   "id": "e416f486-07fe-4218-be3d-141a2043b18e",
   "metadata": {},
   "outputs": [],
   "source": [
    "def train_graphst_models(dataset,\n",
    "                         reference_batches,\n",
    "                         cell_type_key,\n",
    "                         adata_new=None,\n",
    "                         n_start_run=1,\n",
    "                         n_end_run=8,\n",
    "                         n_neighbor_list=[4, 4, 8, 8, 12, 12, 16, 16],\n",
    "                         plot_latent_umaps: bool=False,\n",
    "                         filter_genes: bool=False,\n",
    "                         n_svg: int=3000,\n",
    "                         paste_alignment=True):    \n",
    "    # Create new adata to store results from training runs in storage-efficient way\n",
    "    if adata_new is None:  \n",
    "        adata_batch_list = []\n",
    "        if reference_batches is not None:\n",
    "            for batch in reference_batches:\n",
    "                adata_batch = ad.read_h5ad(\n",
    "                    f\"{st_data_gold_folder_path}/{dataset}_{batch}.h5ad\")\n",
    "                adata_batch.obs[mapping_entity_key] = \"reference\"\n",
    "                adata_batch_list.append(adata_batch)\n",
    "            adata_original = ad.concat(adata_batch_list, join=\"inner\")\n",
    "        else:\n",
    "            adata_original = ad.read_h5ad(f\"{st_data_gold_folder_path}/{dataset}.h5ad\")\n",
    "\n",
    "        adata_new = sc.AnnData(sp.csr_matrix(\n",
    "            (adata_original.shape[0], adata_original.shape[1]),\n",
    "            dtype=np.float32))\n",
    "        adata_new.var_names = adata_original.var_names\n",
    "        adata_new.obs_names = adata_original.obs_names\n",
    "        adata_new.obs[\"cell_type\"] = adata_original.obs[cell_type_key].values\n",
    "        adata_new.obsm[\"spatial\"] = adata_original.obsm[\"spatial\"]\n",
    "        adata_new.obs[condition_key] = adata_original.obs[condition_key]\n",
    "        adata_new.obs[mapping_entity_key] = adata_original.obs[mapping_entity_key] \n",
    "        del(adata_original)\n",
    "\n",
    "    model_seeds = list(range(10))\n",
    "    for run_number, n_neighbors in zip(np.arange(n_start_run, n_end_run+1), n_neighbor_list):\n",
    "        # Load data\n",
    "        adata_batch_list = []\n",
    "        if reference_batches is not None:\n",
    "            for batch in reference_batches:\n",
    "                print(f\"Processing batch {batch}...\")\n",
    "                print(\"Loading data...\")\n",
    "                adata_batch = ad.read_h5ad(\n",
    "                    f\"{st_data_gold_folder_path}/{dataset}_{batch}.h5ad\")\n",
    "                adata_batch.obs[mapping_entity_key] = \"reference\"\n",
    "                adata_batch.X = adata_batch.layers[\"counts\"]\n",
    "                if paste_alignment:\n",
    "                    adata_batch_list.append(adata_batch)\n",
    "                else:\n",
    "                    # Compute (separate) spatial neighborhood graphs\n",
    "                    sq.gr.spatial_neighbors(adata_batch,\n",
    "                                            coord_type=\"generic\",\n",
    "                                            spatial_key=spatial_key,\n",
    "                                            n_neighs=n_neighbors)\n",
    "                    # Make adjacency matrix symmetric\n",
    "                    adata_batch.obsp[adj_key] = (\n",
    "                        adata_batch.obsp[adj_key].maximum(\n",
    "                            adata_batch.obsp[adj_key].T))\n",
    "                    adata_batch_list.append(adata_batch)\n",
    "            \n",
    "            if paste_alignment:\n",
    "                # Align batches with PASTE algorithm (time is measured)\n",
    "                start_time = time.time()\n",
    "                pis = []\n",
    "                for i in range(len(adata_batch_list)):\n",
    "                    if i != 0:\n",
    "                        pis.append(pst.pairwise_align(adata_batch_list[i-1],\n",
    "                                                      adata_batch_list[i],\n",
    "                                                      numItermax=200000))\n",
    "                adata_batch_list = pst.stack_slices_pairwise(adata_batch_list, pis)\n",
    "                adata = ad.concat(adata_batch_list, join=\"inner\")\n",
    "                end_time = time.time()\n",
    "                elapsed_time = end_time - start_time\n",
    "            \n",
    "                # Compute spatial neighborhood graph\n",
    "                sq.gr.spatial_neighbors(adata,\n",
    "                                        coord_type=\"generic\",\n",
    "                                        spatial_key=spatial_key,\n",
    "                                        n_neighs=n_neighbors)\n",
    "                # Make adjacency matrix symmetric\n",
    "                adata.obsp[adj_key] = (\n",
    "                    adata.obsp[adj_key].maximum(\n",
    "                        adata.obsp[adj_key].T))\n",
    "            else:\n",
    "                adata = ad.concat(adata_batch_list, join=\"inner\")\n",
    "                # Combine spatial neighborhood graphs as disconnected components\n",
    "                batch_connectivities = []\n",
    "                len_before_batch = 0\n",
    "                for i in range(len(adata_batch_list)):\n",
    "                    if i == 0: # first batch\n",
    "                        after_batch_connectivities_extension = sp.csr_matrix(\n",
    "                            (adata_batch_list[0].shape[0],\n",
    "                            (adata.shape[0] -\n",
    "                            adata_batch_list[0].shape[0])))\n",
    "                        batch_connectivities.append(sp.hstack(\n",
    "                            (adata_batch_list[0].obsp[adj_key],\n",
    "                            after_batch_connectivities_extension)))\n",
    "                    elif i == (len(adata_batch_list) - 1): # last batch\n",
    "                        before_batch_connectivities_extension = sp.csr_matrix(\n",
    "                            (adata_batch_list[i].shape[0],\n",
    "                            (adata.shape[0] -\n",
    "                            adata_batch_list[i].shape[0])))\n",
    "                        batch_connectivities.append(sp.hstack(\n",
    "                            (before_batch_connectivities_extension,\n",
    "                            adata_batch_list[i].obsp[adj_key])))\n",
    "                    else: # middle batches\n",
    "                        before_batch_connectivities_extension = sp.csr_matrix(\n",
    "                            (adata_batch_list[i].shape[0], len_before_batch))\n",
    "                        after_batch_connectivities_extension = sp.csr_matrix(\n",
    "                            (adata_batch_list[i].shape[0],\n",
    "                            (adata.shape[0] -\n",
    "                            adata_batch_list[i].shape[0] -\n",
    "                            len_before_batch)))\n",
    "                        batch_connectivities.append(sp.hstack(\n",
    "                            (before_batch_connectivities_extension,\n",
    "                            adata_batch_list[i].obsp[adj_key],\n",
    "                            after_batch_connectivities_extension)))\n",
    "                    len_before_batch += adata_batch_list[i].shape[0]\n",
    "                connectivities = sp.vstack(batch_connectivities)\n",
    "                adata.obsp[adj_key] = connectivities\n",
    "                elapsed_time = 0\n",
    "        else:\n",
    "            adata = ad.read_h5ad(f\"{st_data_gold_folder_path}/{dataset}.h5ad\")\n",
    "            # Store raw counts in adata.X\n",
    "            adata.X = adata.layers[\"counts\"]\n",
    "            # Compute (separate) spatial neighborhood graphs\n",
    "            sq.gr.spatial_neighbors(adata,\n",
    "                                    coord_type=\"generic\",\n",
    "                                    spatial_key=spatial_key,\n",
    "                                    n_neighs=n_neighbors)\n",
    "            # Make adjacency matrix symmetric\n",
    "            adata.obsp[adj_key] = (\n",
    "                adata.obsp[adj_key].maximum(\n",
    "                    adata.obsp[adj_key].T))\n",
    "            elapsed_time = 0\n",
    "            \n",
    "        if filter_genes:\n",
    "            sc.pp.filter_genes(adata,\n",
    "                               min_cells=0)\n",
    "            sq.gr.spatial_autocorr(adata, mode=\"moran\", genes=adata.var_names)\n",
    "            sv_genes = adata.uns[\"moranI\"].index[:n_svg].tolist()\n",
    "            adata.var[\"spatially_variable\"] = adata.var_names.isin(sv_genes)\n",
    "            adata = adata[:, adata.var[\"spatially_variable\"] == True]\n",
    "            print(f\"Keeping {len(adata.var_names)} spatially variable genes.\")\n",
    "        \n",
    "        # Store raw counts in adata.X\n",
    "        adata.X = adata.layers[\"counts\"]\n",
    "        if \"log1p\" in adata.uns:\n",
    "            del(adata.uns[\"log1p\"])\n",
    "\n",
    "        # Supply precomputed spatial neighborhood graph\n",
    "        adata.obsm[\"graph_neigh\"] = adata.obsp[adj_key]\n",
    "        \n",
    "        # Make adjacency matrix symmetric\n",
    "        adata.obsm[\"adj\"] = adata.obsm[\"graph_neigh\"].maximum(\n",
    "            adata.obsm[\"graph_neigh\"].T)\n",
    "\n",
    "        start_time = time.time()\n",
    "        \n",
    "        # Define model\n",
    "        model = GraphST.GraphST(adata,\n",
    "                                device=device,\n",
    "                                random_seed=model_seeds[run_number-1])\n",
    "\n",
    "        # Train model\n",
    "        adata = model.train()\n",
    "        \n",
    "        # Measure time for model training\n",
    "        end_time = time.time()\n",
    "        elapsed_time += end_time - start_time\n",
    "        hours, rem = divmod(elapsed_time, 3600)\n",
    "        minutes, seconds = divmod(rem, 60)\n",
    "        print(f\"Duration of model training in run {run_number}: \"\n",
    "              f\"{int(hours)} hours, {int(minutes)} minutes and {int(seconds)} seconds.\")\n",
    "        adata_new.uns[f\"{model_name}_model_training_duration_run{run_number}\"] = (\n",
    "\n",
    "        # Store latent representation\n",
    "        adata_new.obsm[latent_key + f\"_run{run_number}\"] = adata.obsm[\"emb\"]\n",
    "        \n",
    "        # Use latent representation for UMAP generation\n",
    "        sc.pp.neighbors(adata_new,\n",
    "                        use_rep=f\"{latent_key}_run{run_number}\",\n",
    "                        key_added=f\"{latent_key}_run{run_number}\")\n",
    "        sc.tl.umap(adata_new,\n",
    "                   neighbors_key=f\"{latent_key}_run{run_number}\")\n",
    "        adata_new.obsm[f\"{latent_key}_run{run_number}_X_umap\"] = adata_new.obsm[\"X_umap\"]\n",
    "        del(adata_new.obsm[\"X_umap\"])\n",
    "\n",
    "        # Store intermediate adata to disk\n",
    "        if paste_alignment:\n",
    "            adata_new.write(f\"{benchmarking_folder_path}/{dataset}_{model_name}_paste.h5ad\")\n",
    "        else:\n",
    "            adata_new.write(f\"{benchmarking_folder_path}/{dataset}_{model_name}.h5ad\")\n",
    "        \n",
    "        # Free memory\n",
    "        del(adata)\n",
    "        del(model)\n",
    "        gc.collect()\n",
    "\n",
    "    # Store final adata to disk\n",
    "    if paste_alignment:\n",
    "        adata_new.write(f\"{benchmarking_folder_path}/{dataset}_{model_name}_paste.h5ad\")\n",
    "    else:\n",
    "        adata_new.write(f\"{benchmarking_folder_path}/{dataset}_{model_name}.h5ad\")"
   ]
  },
  {
   "cell_type": "markdown",
   "id": "13028407-263e-4918-afb3-a38e6d9227ec",
   "metadata": {},
   "source": [
    "### 2.2 Train Models on Benchmarking Datasets"
   ]
  },
  {
   "cell_type": "code",
   "execution_count": null,
   "id": "47baead5-f1a9-4b58-a1ce-d559bd043715",
   "metadata": {},
   "outputs": [],
   "source": [
    "train_graphst_models(dataset=\"seqfish_mouse_organogenesis\",\n",
    "                     reference_batches=[f\"batch{i}\" for i in range(1,7)],\n",
    "                     cell_type_key=\"celltype_mapped_refined\",\n",
    "                     adata_new=None,\n",
    "                     n_start_run=1,\n",
    "                     n_end_run=8,\n",
    "                     n_neighbor_list=[4, 4, 8, 8, 12, 12, 16, 16],\n",
    "                     paste_alignment=False)"
   ]
  },
  {
   "cell_type": "code",
   "execution_count": null,
   "id": "ba515d7d-ba12-46d5-89e1-17703a796182",
   "metadata": {},
   "outputs": [],
   "source": [
    "train_graphst_models(dataset=\"seqfish_mouse_organogenesis\",\n",
    "                     reference_batches=[f\"batch{i}\" for i in range(1,7)],\n",
    "                     cell_type_key=\"celltype_mapped_refined\",\n",
    "                     adata_new=None,\n",
    "                     n_start_run=1,\n",
    "                     n_end_run=8,\n",
    "                     n_neighbor_list=[4, 4, 8, 8, 12, 12, 16, 16],\n",
    "                     paste_alignment=True)"
   ]
  },
  {
   "cell_type": "code",
   "execution_count": null,
   "id": "f9a3e8ce-e885-4cbe-b1ce-68fd3177fab7",
   "metadata": {},
   "outputs": [],
   "source": [
    "for subsample_pct in [50, 25, 10, 5, 1]:\n",
    "    train_graphst_models(dataset=f\"seqfish_mouse_organogenesis_subsample_{subsample_pct}pct\",\n",
    "                         reference_batches=[f\"batch{i}\" for i in range(1,7)],\n",
    "                         cell_type_key=\"celltype_mapped_refined\",\n",
    "                         adata_new=None,\n",
    "                         n_start_run=1,\n",
    "                         n_end_run=8,\n",
    "                         n_neighbor_list=[4, 4, 8, 8, 12, 12, 16, 16],\n",
    "                         paste_alignment=False)"
   ]
  },
  {
   "cell_type": "code",
   "execution_count": null,
   "id": "bca95570-59d4-4e82-9199-b44b84a44c85",
   "metadata": {},
   "outputs": [],
   "source": [
    "for subsample_pct in [50, 25, 10, 5, 1]:\n",
    "    train_graphst_models(dataset=f\"seqfish_mouse_organogenesis_subsample_{subsample_pct}pct\",\n",
    "                         reference_batches=[f\"batch{i}\" for i in range(1,7)],\n",
    "                         cell_type_key=\"celltype_mapped_refined\",\n",
    "                         adata_new=None,\n",
    "                         n_start_run=1,\n",
    "                         n_end_run=8,\n",
    "                         n_neighbor_list=[4, 4, 8, 8, 12, 12, 16, 16],\n",
    "                         paste_alignment=True)"
   ]
  },
  {
   "cell_type": "code",
   "execution_count": null,
   "id": "5e308ac0-89f5-4393-944c-dea010e04460",
   "metadata": {},
   "outputs": [],
   "source": [
    "train_graphst_models(dataset=\"seqfish_mouse_organogenesis_imputed\",\n",
    "                     reference_batches=[f\"batch{i}\" for i in range(1,7)],\n",
    "                     cell_type_key=\"celltype_mapped_refined\",\n",
    "                     adata_new=None,\n",
    "                     n_start_run=1,\n",
    "                     n_end_run=8,\n",
    "                     n_neighbor_list=[4, 4, 8, 8, 12, 12, 16, 16],\n",
    "                     filter_genes=True,\n",
    "                     n_svg=3000,\n",
    "                     paste_alignment=False)"
   ]
  },
  {
   "cell_type": "code",
   "execution_count": null,
   "id": "9f033f59-77bb-4281-8ea6-c2752261cbde",
   "metadata": {},
   "outputs": [],
   "source": [
    "train_graphst_models(dataset=\"seqfish_mouse_organogenesis_imputed\",\n",
    "                     reference_batches=[f\"batch{i}\" for i in range(1,7)],\n",
    "                     cell_type_key=\"celltype_mapped_refined\",\n",
    "                     adata_new=None,\n",
    "                     n_start_run=1,\n",
    "                     n_end_run=8,\n",
    "                     n_neighbor_list=[4, 4, 8, 8, 12, 12, 16, 16],\n",
    "                     filter_genes=True,\n",
    "                     n_svg=3000,\n",
    "                     paste_alignment=True)"
   ]
  },
  {
   "cell_type": "code",
   "execution_count": null,
   "id": "eb329f1c-5e60-4065-88ef-6ea29e8c143c",
   "metadata": {},
   "outputs": [],
   "source": [
    "for subsample_pct in [50, 25, 10, 5, 1]:\n",
    "    train_graphst_models(dataset=f\"seqfish_mouse_organogenesis_imputed_subsample_{subsample_pct}pct\",\n",
    "                         reference_batches=[f\"batch{i}\" for i in range(1,7)],\n",
    "                         cell_type_key=\"celltype_mapped_refined\",\n",
    "                         adata_new=None,\n",
    "                         n_start_run=1,\n",
    "                         n_end_run=8,\n",
    "                         n_neighbor_list=[4, 4, 8, 8, 12, 12, 16, 16],\n",
    "                         filter_genes=True,\n",
    "                         n_svg=3000,\n",
    "                         paste_alignment=False)"
   ]
  },
  {
   "cell_type": "code",
   "execution_count": null,
   "id": "d0fcddc4-4d14-4ea7-9223-58ea078a4c04",
   "metadata": {},
   "outputs": [],
   "source": [
    "for subsample_pct in [50, 25, 10, 5, 1]:\n",
    "    train_graphst_models(dataset=f\"seqfish_mouse_organogenesis_imputed_subsample_{subsample_pct}pct\",\n",
    "                         reference_batches=[f\"batch{i}\" for i in range(1,7)],\n",
    "                         cell_type_key=\"celltype_mapped_refined\",\n",
    "                         adata_new=None,\n",
    "                         n_start_run=1,\n",
    "                         n_end_run=8,\n",
    "                         n_neighbor_list=[4, 4, 8, 8, 12, 12, 16, 16],\n",
    "                         filter_genes=True,\n",
    "                         n_svg=3000,\n",
    "                         paste_alignment=True)"
   ]
  },
  {
   "cell_type": "raw",
   "id": "ba818afd-9bac-46c2-b88b-832d6718c3e3",
   "metadata": {},
   "source": [
    "# This does not work because of memory exhaustion\n",
    "# NVIDIA A100-PCIE-40GB\n",
    "train_graphst_models(dataset=\"nanostring_cosmx_human_nsclc\",\n",
    "                     reference_batches=[f\"batch{i}\" for i in range(1,4)],\n",
    "                     cell_type_key=\"cell_type\",\n",
    "                     adata_new=None,\n",
    "                     n_start_run=1,\n",
    "                     n_end_run=8,\n",
    "                     n_neighbor_list=[4, 4, 8, 8, 12, 12, 16, 16])"
   ]
  },
  {
   "cell_type": "code",
   "execution_count": null,
   "id": "43e55e6c-b6f9-4ec8-bd66-9ffec0ea4e74",
   "metadata": {},
   "outputs": [],
   "source": [
    "for subsample_pct in [10, 5, 1]: # 50, 25 pct exhaust memory\n",
    "    train_graphst_models(dataset=f\"nanostring_cosmx_human_nsclc_subsample_{subsample_pct}pct\",\n",
    "                         reference_batches=[f\"batch{i}\" for i in range(1,4)],\n",
    "                         cell_type_key=\"cell_type\",\n",
    "                         adata_new=None,\n",
    "                         n_start_run=1,\n",
    "                         n_end_run=8,\n",
    "                         n_neighbor_list=[4, 4, 8, 8, 12, 12, 16, 16])"
   ]
  },
  {
   "cell_type": "code",
   "execution_count": null,
   "id": "1c8ecea5-2f17-41dc-bc26-9736b1d8b59c",
   "metadata": {},
   "outputs": [],
   "source": []
  }
 ],
 "metadata": {
  "kernelspec": {
   "display_name": "Python 3 (ipykernel)",
   "language": "python",
   "name": "python3"
  },
  "language_info": {
   "codemirror_mode": {
    "name": "ipython",
    "version": 3
   },
   "file_extension": ".py",
   "mimetype": "text/x-python",
   "name": "python",
   "nbconvert_exporter": "python",
   "pygments_lexer": "ipython3",
   "version": "3.9.19"
  }
 },
 "nbformat": 4,
 "nbformat_minor": 5
}
