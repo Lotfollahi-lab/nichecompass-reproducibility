{
 "cells": [
  {
   "cell_type": "markdown",
   "metadata": {},
   "source": [
    "#### Notebook for creation a sunburst plot with genes from de-novo gene program identified with `NicheCompass`\n",
    "- **Developed by:** Anna Maguza\n",
    "- **Modified by:** Carlos Talavera-López \n",
    "- **Wuerzburg Institute for System Immunology (WüSI) - Faculty of Medicine - University of Würzburg**\n",
    "- **Creation Date:** 5th of July 2024\n",
    "- **Last modified:** 240729"
   ]
  },
  {
   "cell_type": "markdown",
   "metadata": {},
   "source": [
    "### Import required packages"
   ]
  },
  {
   "cell_type": "code",
   "execution_count": 2,
   "metadata": {},
   "outputs": [],
   "source": [
    "import ast\n",
    "import numpy as np\n",
    "import scanpy as sc\n",
    "import pandas as pd\n",
    "import plotly.express as px\n",
    "import plotly.graph_objects as go"
   ]
  },
  {
   "cell_type": "markdown",
   "metadata": {},
   "source": [
    "### Read in NicheCompass processed anndata object data"
   ]
  },
  {
   "cell_type": "code",
   "execution_count": 3,
   "metadata": {},
   "outputs": [],
   "source": [
    "adata = sc.read_h5ad('/../NicheCompass_paper/xenium_human_breast_cancer_analysis.h5ad')"
   ]
  },
  {
   "cell_type": "markdown",
   "metadata": {},
   "source": [
    "- Extract genes and gene weights"
   ]
  },
  {
   "cell_type": "code",
   "execution_count": 26,
   "metadata": {},
   "outputs": [],
   "source": [
    "df = adata.uns['nichecompass_gp_summary']"
   ]
  },
  {
   "cell_type": "code",
   "execution_count": 2,
   "metadata": {},
   "outputs": [],
   "source": [
    "fig_dir = '../figures/SunburstGPplot'"
   ]
  },
  {
   "cell_type": "code",
   "execution_count": 5,
   "metadata": {},
   "outputs": [],
   "source": [
    "df_gp37 = df[df['gp_name'] == 'Add-on_37_GP']\n",
    "df_gp37.to_csv('../data/Add-on_37_GP.csv')\n",
    "\n",
    "df_gp86 = df[df['gp_name'] == 'Add-on_86_GP']\n",
    "df_gp86.to_csv('../data/Add-on_86_GP.csv')"
   ]
  },
  {
   "cell_type": "markdown",
   "metadata": {},
   "source": [
    "### Add-on program 37"
   ]
  },
  {
   "cell_type": "code",
   "execution_count": 26,
   "metadata": {},
   "outputs": [],
   "source": [
    "gp37_genes = df_gp37['gp_source_genes'].values[0]"
   ]
  },
  {
   "cell_type": "markdown",
   "metadata": {},
   "source": [
    "#### Extract genes of interest\n",
    "- For simplicity and to make the figure easier to read, we will select the top 60 genes"
   ]
  },
  {
   "cell_type": "code",
   "execution_count": 27,
   "metadata": {},
   "outputs": [],
   "source": [
    "genes_list = ast.literal_eval(gp37_genes)\n",
    "genes = genes_list[:60]"
   ]
  },
  {
   "cell_type": "code",
   "execution_count": 28,
   "metadata": {},
   "outputs": [
    {
     "data": {
      "text/plain": [
       "['KRT16',\n",
       " 'KRT14',\n",
       " 'KRT5',\n",
       " 'KRT6B',\n",
       " 'KRT15',\n",
       " 'C5orf46',\n",
       " 'CLCA2',\n",
       " 'KRT23',\n",
       " 'SERPINA3',\n",
       " 'AVPR1A',\n",
       " 'TACSTD2',\n",
       " 'DSP',\n",
       " 'TAC1',\n",
       " 'PIGR',\n",
       " 'MYLK',\n",
       " 'CEACAM6',\n",
       " 'TCF7',\n",
       " 'OPRPN',\n",
       " 'CEACAM8',\n",
       " 'CLDN4',\n",
       " 'AGR3',\n",
       " 'BASP1',\n",
       " 'KIT',\n",
       " 'JUP',\n",
       " 'NOSTRIN',\n",
       " 'CXCR4',\n",
       " 'SEC11C',\n",
       " 'PTRHD1',\n",
       " 'ERN1',\n",
       " 'ABCC11',\n",
       " 'TUBB2B',\n",
       " 'PDGFRA',\n",
       " 'OXTR',\n",
       " 'IL2RA',\n",
       " 'KRT7',\n",
       " 'RAPGEF3',\n",
       " 'MYH11',\n",
       " 'KLF5',\n",
       " 'S100A14',\n",
       " 'CAV1',\n",
       " 'SH3YL1',\n",
       " 'EGFR',\n",
       " 'C15orf48',\n",
       " 'FOXC2',\n",
       " 'FOXP3',\n",
       " 'C6orf132',\n",
       " 'C2orf42',\n",
       " 'GNLY',\n",
       " 'TPD52',\n",
       " 'PDGFRB',\n",
       " 'SCGB2A1',\n",
       " 'CD14',\n",
       " 'EGFL7',\n",
       " 'USP53',\n",
       " 'LYPD3',\n",
       " 'SVIL',\n",
       " 'ANKRD29',\n",
       " 'GLIPR1',\n",
       " 'CX3CR1',\n",
       " 'LGALSL']"
      ]
     },
     "execution_count": 28,
     "metadata": {},
     "output_type": "execute_result"
    }
   ],
   "source": [
    "genes"
   ]
  },
  {
   "cell_type": "markdown",
   "metadata": {},
   "source": [
    "#### Extract gene weights "
   ]
  },
  {
   "cell_type": "code",
   "execution_count": 29,
   "metadata": {},
   "outputs": [],
   "source": [
    "gp37_weights = df_gp37['gp_source_genes_weights'].values[0]"
   ]
  },
  {
   "cell_type": "code",
   "execution_count": 30,
   "metadata": {},
   "outputs": [],
   "source": [
    "weights_list = ast.literal_eval(gp37_weights)\n",
    "weights = weights_list[:60]"
   ]
  },
  {
   "cell_type": "code",
   "execution_count": 31,
   "metadata": {},
   "outputs": [
    {
     "data": {
      "text/plain": [
       "[0.0641,\n",
       " 0.0633,\n",
       " 0.0628,\n",
       " 0.0614,\n",
       " 0.0422,\n",
       " 0.0367,\n",
       " 0.0297,\n",
       " 0.0292,\n",
       " 0.0276,\n",
       " -0.0234,\n",
       " 0.0206,\n",
       " 0.0201,\n",
       " -0.0198,\n",
       " 0.0189,\n",
       " 0.0183,\n",
       " 0.0174,\n",
       " 0.0165,\n",
       " 0.0154,\n",
       " 0.0138,\n",
       " 0.0114,\n",
       " 0.0105,\n",
       " -0.0104,\n",
       " 0.0103,\n",
       " 0.0102,\n",
       " 0.0095,\n",
       " -0.0087,\n",
       " -0.0083,\n",
       " -0.0082,\n",
       " -0.0081,\n",
       " -0.0081,\n",
       " 0.0078,\n",
       " 0.0077,\n",
       " 0.0075,\n",
       " -0.0073,\n",
       " 0.0072,\n",
       " -0.0071,\n",
       " 0.007,\n",
       " 0.007,\n",
       " 0.0069,\n",
       " 0.0067,\n",
       " -0.0064,\n",
       " 0.0062,\n",
       " 0.0062,\n",
       " 0.006,\n",
       " -0.0056,\n",
       " 0.0054,\n",
       " -0.0054,\n",
       " -0.0053,\n",
       " 0.0052,\n",
       " -0.0052,\n",
       " 0.0051,\n",
       " 0.0051,\n",
       " -0.0051,\n",
       " -0.005,\n",
       " 0.0049,\n",
       " 0.0048,\n",
       " -0.0048,\n",
       " 0.0046,\n",
       " 0.0046,\n",
       " -0.0046]"
      ]
     },
     "execution_count": 31,
     "metadata": {},
     "output_type": "execute_result"
    }
   ],
   "source": [
    "weights"
   ]
  },
  {
   "cell_type": "markdown",
   "metadata": {},
   "source": [
    "### Add gene enrichment information\n",
    "- This can be done using your favourite Gene Enrichment Analysis tool or Large Language Model. Here we used ToppFun, but ChatGPT concurred with the programmes classification"
   ]
  },
  {
   "cell_type": "code",
   "execution_count": 35,
   "metadata": {},
   "outputs": [],
   "source": [
    "classification = {\n",
    "    'Cytoskeletal Proteins': {\n",
    "        'Keratin Family': ['KRT16', 'KRT14', 'KRT5', 'KRT6B', 'KRT15', 'KRT23', 'KRT7'],\n",
    "        'Tubulin Family': ['TUBB2B'],\n",
    "        'Regulation of Actin': ['RAPGEF3'],\n",
    "        'Myosins': ['MYH11']\n",
    "    },\n",
    "    'Cell Adhesion and Junctions': {\n",
    "        'Desmosomes and Junctions': ['DSP', 'JUP', 'CLDN4', 'CEACAM6', 'CEACAM8'],\n",
    "        'Tight Junctions and Adhesion': ['TACSTD2', 'AGR3', 'LYPD3']\n",
    "    },\n",
    "    'Signaling Receptors': {\n",
    "        'Growth Factors': ['KIT', 'PDGFRA', 'PDGFRB', 'EGFR'],\n",
    "        'Other': ['AVPR1A', 'OXTR', 'IL2RA']\n",
    "    },\n",
    "    'Gene Regulation': {\n",
    "        'Forkhead Box Family': ['FOXC2', 'FOXP3'],\n",
    "        'Transcription Factors': ['TCF7', 'KLF5'],\n",
    "        'Open Reading Frames': ['C15orf48', 'C6orf132', 'C2orf42', 'C5orf46']\n",
    "    },\n",
    "    'Enzymes and Metabolic Proteins': {\n",
    "        'Kinases and Phosphatases': ['MYLK', 'ERN1'],\n",
    "        'Transporters': ['ABCC11'],\n",
    "        'Peptidases and Hydrolases': ['SEC11C', 'USP53', 'PTRHD1', 'SH3YL1'],\n",
    "        'Other': ['LGALSL']\n",
    "    },\n",
    "    'Immune System Genes': {\n",
    "        'Chemokine Receptors': ['CXCR4', 'CX3CR1'],\n",
    "        'Cell Surface Markers': ['CD14', 'GNLY', 'PIGR'],\n",
    "        'Inflammatory Mediators': ['S100A14', 'EGFL7'],\n",
    "        'Immune Regulation': ['TAC1']\n",
    "    },\n",
    "    'Secreted Proteins': {\n",
    "        'Secreted Proteins': ['SERPINA3', 'SCGB2A1'],\n",
    "        'ECM Proteins': ['CAV1']\n",
    "    },\n",
    "    'Cell Organization': {\n",
    "        'Transport Proteins': ['NOSTRIN'],\n",
    "        'Structural Proteins': ['SVIL', 'ANKRD29', 'GLIPR1']\n",
    "    }\n",
    "}\n"
   ]
  },
  {
   "cell_type": "code",
   "execution_count": null,
   "metadata": {},
   "outputs": [],
   "source": [
    "data = []\n",
    "for category, subcategories in classification.items():\n",
    "    for subcategory, genes_list in subcategories.items():\n",
    "        for gene in genes_list:\n",
    "            weight = weights[genes.index(gene)]\n",
    "            data.append([category, subcategory, gene, weight])\n",
    "\n",
    "df = pd.DataFrame(data, columns=['Category', 'Subcategory', 'Gene', 'Gene Weight'])"
   ]
  },
  {
   "cell_type": "code",
   "execution_count": 36,
   "metadata": {},
   "outputs": [
    {
     "data": {
      "application/vnd.plotly.v1+json": {
       "config": {
        "plotlyServerURL": "https://plot.ly"
       },
       "data": [
        {
         "branchvalues": "total",
         "customdata": [
          [
           -0.0081
          ],
          [
           0.0105
          ],
          [
           -0.0048
          ],
          [
           -0.0234
          ],
          [
           0.0062
          ],
          [
           -0.0054
          ],
          [
           0.0367
          ],
          [
           0.0054
          ],
          [
           0.0067
          ],
          [
           0.0051
          ],
          [
           0.0174
          ],
          [
           0.0138
          ],
          [
           0.0114
          ],
          [
           0.0046
          ],
          [
           -0.0087
          ],
          [
           0.0201
          ],
          [
           -0.0051
          ],
          [
           0.0062
          ],
          [
           -0.0081
          ],
          [
           0.006
          ],
          [
           -0.0056
          ],
          [
           0.0046
          ],
          [
           -0.0053
          ],
          [
           -0.0073
          ],
          [
           0.0102
          ],
          [
           0.0103
          ],
          [
           0.007
          ],
          [
           0.0633
          ],
          [
           0.0422
          ],
          [
           0.0641
          ],
          [
           0.0292
          ],
          [
           0.0628
          ],
          [
           0.0614
          ],
          [
           0.0072
          ],
          [
           -0.0046
          ],
          [
           0.0049
          ],
          [
           0.007
          ],
          [
           0.0183
          ],
          [
           0.0095
          ],
          [
           0.0075
          ],
          [
           0.0077
          ],
          [
           -0.0052
          ],
          [
           0.0189
          ],
          [
           -0.0082
          ],
          [
           -0.0071
          ],
          [
           0.0069
          ],
          [
           0.0051
          ],
          [
           -0.0083
          ],
          [
           0.0276
          ],
          [
           -0.0064
          ],
          [
           0.0048
          ],
          [
           -0.0198
          ],
          [
           0.0206
          ],
          [
           0.0165
          ],
          [
           0.0078
          ],
          [
           -0.005
          ],
          [
           0.006233333333333334
          ],
          [
           -0.0020499999999999997
          ],
          [
           0.01458
          ],
          [
           0.0067
          ],
          [
           0.0002000000000000001
          ],
          [
           0.004750000000000001
          ],
          [
           -0.0198
          ],
          [
           0.0008999999999999998
          ],
          [
           0.04717142857142857
          ],
          [
           0.0051
          ],
          [
           0.007
          ],
          [
           0.010725
          ],
          [
           -0.0046
          ],
          [
           -0.007733333333333334
          ],
          [
           -0.006974999999999999
          ],
          [
           -0.0071
          ],
          [
           0.01635
          ],
          [
           0.0015333333333333334
          ],
          [
           0.012000000000000002
          ],
          [
           0.01175
          ],
          [
           0.0095
          ],
          [
           -0.0081
          ],
          [
           0.0078
          ],
          [
           0.0136125
          ],
          [
           0.0035250000000000004
          ],
          [
           0.03379000000000001
          ],
          [
           -0.0037999999999999996
          ],
          [
           0.00835
          ],
          [
           -0.00042500000000000014
          ],
          [
           0.013133333333333332
          ],
          [
           -0.0005999999999999997
          ]
         ],
         "domain": {
          "x": [
           0,
           1
          ],
          "y": [
           0,
           1
          ]
         },
         "hovertemplate": "labels=%{label}<br>count=%{value}<br>parent=%{parent}<br>id=%{id}<br>Gene Weight=%{color}<extra></extra>",
         "ids": [
          "Enzymes and Metabolic Proteins/Transporters/ABCC11",
          "Cell Adhesion and Junctions/Tight Junctions and Adhesion/AGR3",
          "Cell Organization/Structural Proteins/ANKRD29",
          "Signaling Receptors/Other/AVPR1A",
          "Gene Regulation/Open Reading Frames/C15orf48",
          "Gene Regulation/Open Reading Frames/C2orf42",
          "Gene Regulation/Open Reading Frames/C5orf46",
          "Gene Regulation/Open Reading Frames/C6orf132",
          "Secreted Proteins/ECM Proteins/CAV1",
          "Immune System Genes/Cell Surface Markers/CD14",
          "Cell Adhesion and Junctions/Desmosomes and Junctions/CEACAM6",
          "Cell Adhesion and Junctions/Desmosomes and Junctions/CEACAM8",
          "Cell Adhesion and Junctions/Desmosomes and Junctions/CLDN4",
          "Immune System Genes/Chemokine Receptors/CX3CR1",
          "Immune System Genes/Chemokine Receptors/CXCR4",
          "Cell Adhesion and Junctions/Desmosomes and Junctions/DSP",
          "Immune System Genes/Inflammatory Mediators/EGFL7",
          "Signaling Receptors/Growth Factors/EGFR",
          "Enzymes and Metabolic Proteins/Kinases and Phosphatases/ERN1",
          "Gene Regulation/Forkhead Box Family/FOXC2",
          "Gene Regulation/Forkhead Box Family/FOXP3",
          "Cell Organization/Structural Proteins/GLIPR1",
          "Immune System Genes/Cell Surface Markers/GNLY",
          "Signaling Receptors/Other/IL2RA",
          "Cell Adhesion and Junctions/Desmosomes and Junctions/JUP",
          "Signaling Receptors/Growth Factors/KIT",
          "Gene Regulation/Transcription Factors/KLF5",
          "Cytoskeletal Proteins/Keratin Family/KRT14",
          "Cytoskeletal Proteins/Keratin Family/KRT15",
          "Cytoskeletal Proteins/Keratin Family/KRT16",
          "Cytoskeletal Proteins/Keratin Family/KRT23",
          "Cytoskeletal Proteins/Keratin Family/KRT5",
          "Cytoskeletal Proteins/Keratin Family/KRT6B",
          "Cytoskeletal Proteins/Keratin Family/KRT7",
          "Enzymes and Metabolic Proteins/Other/LGALSL",
          "Cell Adhesion and Junctions/Tight Junctions and Adhesion/LYPD3",
          "Cytoskeletal Proteins/Myosins/MYH11",
          "Enzymes and Metabolic Proteins/Kinases and Phosphatases/MYLK",
          "Cell Organization/Transport Proteins/NOSTRIN",
          "Signaling Receptors/Other/OXTR",
          "Signaling Receptors/Growth Factors/PDGFRA",
          "Signaling Receptors/Growth Factors/PDGFRB",
          "Immune System Genes/Cell Surface Markers/PIGR",
          "Enzymes and Metabolic Proteins/Peptidases and Hydrolases/PTRHD1",
          "Cytoskeletal Proteins/Regulation of Actin/RAPGEF3",
          "Immune System Genes/Inflammatory Mediators/S100A14",
          "Secreted Proteins/Secreted Proteins/SCGB2A1",
          "Enzymes and Metabolic Proteins/Peptidases and Hydrolases/SEC11C",
          "Secreted Proteins/Secreted Proteins/SERPINA3",
          "Enzymes and Metabolic Proteins/Peptidases and Hydrolases/SH3YL1",
          "Cell Organization/Structural Proteins/SVIL",
          "Immune System Genes/Immune Regulation/TAC1",
          "Cell Adhesion and Junctions/Tight Junctions and Adhesion/TACSTD2",
          "Gene Regulation/Transcription Factors/TCF7",
          "Cytoskeletal Proteins/Tubulin Family/TUBB2B",
          "Enzymes and Metabolic Proteins/Peptidases and Hydrolases/USP53",
          "Immune System Genes/Cell Surface Markers",
          "Immune System Genes/Chemokine Receptors",
          "Cell Adhesion and Junctions/Desmosomes and Junctions",
          "Secreted Proteins/ECM Proteins",
          "Gene Regulation/Forkhead Box Family",
          "Signaling Receptors/Growth Factors",
          "Immune System Genes/Immune Regulation",
          "Immune System Genes/Inflammatory Mediators",
          "Cytoskeletal Proteins/Keratin Family",
          "Enzymes and Metabolic Proteins/Kinases and Phosphatases",
          "Cytoskeletal Proteins/Myosins",
          "Gene Regulation/Open Reading Frames",
          "Enzymes and Metabolic Proteins/Other",
          "Signaling Receptors/Other",
          "Enzymes and Metabolic Proteins/Peptidases and Hydrolases",
          "Cytoskeletal Proteins/Regulation of Actin",
          "Secreted Proteins/Secreted Proteins",
          "Cell Organization/Structural Proteins",
          "Cell Adhesion and Junctions/Tight Junctions and Adhesion",
          "Gene Regulation/Transcription Factors",
          "Cell Organization/Transport Proteins",
          "Enzymes and Metabolic Proteins/Transporters",
          "Cytoskeletal Proteins/Tubulin Family",
          "Cell Adhesion and Junctions",
          "Cell Organization",
          "Cytoskeletal Proteins",
          "Enzymes and Metabolic Proteins",
          "Gene Regulation",
          "Immune System Genes",
          "Secreted Proteins",
          "Signaling Receptors"
         ],
         "insidetextfont": {
          "size": 15
         },
         "labels": [
          "ABCC11",
          "AGR3",
          "ANKRD29",
          "AVPR1A",
          "C15orf48",
          "C2orf42",
          "C5orf46",
          "C6orf132",
          "CAV1",
          "CD14",
          "CEACAM6",
          "CEACAM8",
          "CLDN4",
          "CX3CR1",
          "CXCR4",
          "DSP",
          "EGFL7",
          "EGFR",
          "ERN1",
          "FOXC2",
          "FOXP3",
          "GLIPR1",
          "GNLY",
          "IL2RA",
          "JUP",
          "KIT",
          "KLF5",
          "KRT14",
          "KRT15",
          "KRT16",
          "KRT23",
          "KRT5",
          "KRT6B",
          "KRT7",
          "LGALSL",
          "LYPD3",
          "MYH11",
          "MYLK",
          "NOSTRIN",
          "OXTR",
          "PDGFRA",
          "PDGFRB",
          "PIGR",
          "PTRHD1",
          "RAPGEF3",
          "S100A14",
          "SCGB2A1",
          "SEC11C",
          "SERPINA3",
          "SH3YL1",
          "SVIL",
          "TAC1",
          "TACSTD2",
          "TCF7",
          "TUBB2B",
          "USP53",
          "Cell Surface Markers",
          "Chemokine Receptors",
          "Desmosomes and Junctions",
          "ECM Proteins",
          "Forkhead Box Family",
          "Growth Factors",
          "Immune Regulation",
          "Inflammatory Mediators",
          "Keratin Family",
          "Kinases and Phosphatases",
          "Myosins",
          "Open Reading Frames",
          "Other",
          "Other",
          "Peptidases and Hydrolases",
          "Regulation of Actin",
          "Secreted Proteins",
          "Structural Proteins",
          "Tight Junctions and Adhesion",
          "Transcription Factors",
          "Transport Proteins",
          "Transporters",
          "Tubulin Family",
          "Cell Adhesion and Junctions",
          "Cell Organization",
          "Cytoskeletal Proteins",
          "Enzymes and Metabolic Proteins",
          "Gene Regulation",
          "Immune System Genes",
          "Secreted Proteins",
          "Signaling Receptors"
         ],
         "marker": {
          "coloraxis": "coloraxis",
          "colors": [
           -0.0081,
           0.0105,
           -0.0048,
           -0.0234,
           0.0062,
           -0.0054,
           0.0367,
           0.0054,
           0.0067,
           0.0051,
           0.0174,
           0.0138,
           0.0114,
           0.0046,
           -0.0087,
           0.0201,
           -0.0051,
           0.0062,
           -0.0081,
           0.006,
           -0.0056,
           0.0046,
           -0.0053,
           -0.0073,
           0.0102,
           0.0103,
           0.007,
           0.0633,
           0.0422,
           0.0641,
           0.0292,
           0.0628,
           0.0614,
           0.0072,
           -0.0046,
           0.0049,
           0.007,
           0.0183,
           0.0095,
           0.0075,
           0.0077,
           -0.0052,
           0.0189,
           -0.0082,
           -0.0071,
           0.0069,
           0.0051,
           -0.0083,
           0.0276,
           -0.0064,
           0.0048,
           -0.0198,
           0.0206,
           0.0165,
           0.0078,
           -0.005,
           0.006233333333333334,
           -0.0020499999999999997,
           0.01458,
           0.0067,
           0.0002000000000000001,
           0.004750000000000001,
           -0.0198,
           0.0008999999999999998,
           0.04717142857142857,
           0.0051,
           0.007,
           0.010725,
           -0.0046,
           -0.007733333333333334,
           -0.006974999999999999,
           -0.0071,
           0.01635,
           0.0015333333333333334,
           0.012000000000000002,
           0.01175,
           0.0095,
           -0.0081,
           0.0078,
           0.0136125,
           0.0035250000000000004,
           0.03379000000000001,
           -0.0037999999999999996,
           0.00835,
           -0.00042500000000000014,
           0.013133333333333332,
           -0.0005999999999999997
          ]
         },
         "name": "",
         "parents": [
          "Enzymes and Metabolic Proteins/Transporters",
          "Cell Adhesion and Junctions/Tight Junctions and Adhesion",
          "Cell Organization/Structural Proteins",
          "Signaling Receptors/Other",
          "Gene Regulation/Open Reading Frames",
          "Gene Regulation/Open Reading Frames",
          "Gene Regulation/Open Reading Frames",
          "Gene Regulation/Open Reading Frames",
          "Secreted Proteins/ECM Proteins",
          "Immune System Genes/Cell Surface Markers",
          "Cell Adhesion and Junctions/Desmosomes and Junctions",
          "Cell Adhesion and Junctions/Desmosomes and Junctions",
          "Cell Adhesion and Junctions/Desmosomes and Junctions",
          "Immune System Genes/Chemokine Receptors",
          "Immune System Genes/Chemokine Receptors",
          "Cell Adhesion and Junctions/Desmosomes and Junctions",
          "Immune System Genes/Inflammatory Mediators",
          "Signaling Receptors/Growth Factors",
          "Enzymes and Metabolic Proteins/Kinases and Phosphatases",
          "Gene Regulation/Forkhead Box Family",
          "Gene Regulation/Forkhead Box Family",
          "Cell Organization/Structural Proteins",
          "Immune System Genes/Cell Surface Markers",
          "Signaling Receptors/Other",
          "Cell Adhesion and Junctions/Desmosomes and Junctions",
          "Signaling Receptors/Growth Factors",
          "Gene Regulation/Transcription Factors",
          "Cytoskeletal Proteins/Keratin Family",
          "Cytoskeletal Proteins/Keratin Family",
          "Cytoskeletal Proteins/Keratin Family",
          "Cytoskeletal Proteins/Keratin Family",
          "Cytoskeletal Proteins/Keratin Family",
          "Cytoskeletal Proteins/Keratin Family",
          "Cytoskeletal Proteins/Keratin Family",
          "Enzymes and Metabolic Proteins/Other",
          "Cell Adhesion and Junctions/Tight Junctions and Adhesion",
          "Cytoskeletal Proteins/Myosins",
          "Enzymes and Metabolic Proteins/Kinases and Phosphatases",
          "Cell Organization/Transport Proteins",
          "Signaling Receptors/Other",
          "Signaling Receptors/Growth Factors",
          "Signaling Receptors/Growth Factors",
          "Immune System Genes/Cell Surface Markers",
          "Enzymes and Metabolic Proteins/Peptidases and Hydrolases",
          "Cytoskeletal Proteins/Regulation of Actin",
          "Immune System Genes/Inflammatory Mediators",
          "Secreted Proteins/Secreted Proteins",
          "Enzymes and Metabolic Proteins/Peptidases and Hydrolases",
          "Secreted Proteins/Secreted Proteins",
          "Enzymes and Metabolic Proteins/Peptidases and Hydrolases",
          "Cell Organization/Structural Proteins",
          "Immune System Genes/Immune Regulation",
          "Cell Adhesion and Junctions/Tight Junctions and Adhesion",
          "Gene Regulation/Transcription Factors",
          "Cytoskeletal Proteins/Tubulin Family",
          "Enzymes and Metabolic Proteins/Peptidases and Hydrolases",
          "Immune System Genes",
          "Immune System Genes",
          "Cell Adhesion and Junctions",
          "Secreted Proteins",
          "Gene Regulation",
          "Signaling Receptors",
          "Immune System Genes",
          "Immune System Genes",
          "Cytoskeletal Proteins",
          "Enzymes and Metabolic Proteins",
          "Cytoskeletal Proteins",
          "Gene Regulation",
          "Enzymes and Metabolic Proteins",
          "Signaling Receptors",
          "Enzymes and Metabolic Proteins",
          "Cytoskeletal Proteins",
          "Secreted Proteins",
          "Cell Organization",
          "Cell Adhesion and Junctions",
          "Gene Regulation",
          "Cell Organization",
          "Enzymes and Metabolic Proteins",
          "Cytoskeletal Proteins",
          "",
          "",
          "",
          "",
          "",
          "",
          "",
          ""
         ],
         "textinfo": "label",
         "type": "sunburst",
         "values": [
          1,
          1,
          1,
          1,
          1,
          1,
          1,
          1,
          1,
          1,
          1,
          1,
          1,
          1,
          1,
          1,
          1,
          1,
          1,
          1,
          1,
          1,
          1,
          1,
          1,
          1,
          1,
          1,
          1,
          1,
          1,
          1,
          1,
          1,
          1,
          1,
          1,
          1,
          1,
          1,
          1,
          1,
          1,
          1,
          1,
          1,
          1,
          1,
          1,
          1,
          1,
          1,
          1,
          1,
          1,
          1,
          3,
          2,
          5,
          1,
          2,
          4,
          1,
          2,
          7,
          2,
          1,
          4,
          1,
          3,
          4,
          1,
          2,
          3,
          3,
          2,
          1,
          1,
          1,
          8,
          4,
          10,
          8,
          8,
          8,
          3,
          7
         ]
        }
       ],
       "layout": {
        "coloraxis": {
         "colorbar": {
          "tickvals": [
           -0.0234,
           0.0641
          ],
          "title": {
           "text": "Gene Importance Weight"
          }
         },
         "colorscale": [
          [
           0,
           "rgb(49,54,149)"
          ],
          [
           0.1,
           "rgb(69,117,180)"
          ],
          [
           0.2,
           "rgb(116,173,209)"
          ],
          [
           0.3,
           "rgb(171,217,233)"
          ],
          [
           0.4,
           "rgb(224,243,248)"
          ],
          [
           0.5,
           "rgb(255,255,191)"
          ],
          [
           0.6,
           "rgb(254,224,144)"
          ],
          [
           0.7,
           "rgb(253,174,97)"
          ],
          [
           0.8,
           "rgb(244,109,67)"
          ],
          [
           0.9,
           "rgb(215,48,39)"
          ],
          [
           1,
           "rgb(165,0,38)"
          ]
         ]
        },
        "height": 1000,
        "legend": {
         "tracegroupgap": 0
        },
        "margin": {
         "t": 60
        },
        "template": {
         "data": {
          "bar": [
           {
            "error_x": {
             "color": "#2a3f5f"
            },
            "error_y": {
             "color": "#2a3f5f"
            },
            "marker": {
             "line": {
              "color": "#E5ECF6",
              "width": 0.5
             },
             "pattern": {
              "fillmode": "overlay",
              "size": 10,
              "solidity": 0.2
             }
            },
            "type": "bar"
           }
          ],
          "barpolar": [
           {
            "marker": {
             "line": {
              "color": "#E5ECF6",
              "width": 0.5
             },
             "pattern": {
              "fillmode": "overlay",
              "size": 10,
              "solidity": 0.2
             }
            },
            "type": "barpolar"
           }
          ],
          "carpet": [
           {
            "aaxis": {
             "endlinecolor": "#2a3f5f",
             "gridcolor": "white",
             "linecolor": "white",
             "minorgridcolor": "white",
             "startlinecolor": "#2a3f5f"
            },
            "baxis": {
             "endlinecolor": "#2a3f5f",
             "gridcolor": "white",
             "linecolor": "white",
             "minorgridcolor": "white",
             "startlinecolor": "#2a3f5f"
            },
            "type": "carpet"
           }
          ],
          "choropleth": [
           {
            "colorbar": {
             "outlinewidth": 0,
             "ticks": ""
            },
            "type": "choropleth"
           }
          ],
          "contour": [
           {
            "colorbar": {
             "outlinewidth": 0,
             "ticks": ""
            },
            "colorscale": [
             [
              0,
              "#0d0887"
             ],
             [
              0.1111111111111111,
              "#46039f"
             ],
             [
              0.2222222222222222,
              "#7201a8"
             ],
             [
              0.3333333333333333,
              "#9c179e"
             ],
             [
              0.4444444444444444,
              "#bd3786"
             ],
             [
              0.5555555555555556,
              "#d8576b"
             ],
             [
              0.6666666666666666,
              "#ed7953"
             ],
             [
              0.7777777777777778,
              "#fb9f3a"
             ],
             [
              0.8888888888888888,
              "#fdca26"
             ],
             [
              1,
              "#f0f921"
             ]
            ],
            "type": "contour"
           }
          ],
          "contourcarpet": [
           {
            "colorbar": {
             "outlinewidth": 0,
             "ticks": ""
            },
            "type": "contourcarpet"
           }
          ],
          "heatmap": [
           {
            "colorbar": {
             "outlinewidth": 0,
             "ticks": ""
            },
            "colorscale": [
             [
              0,
              "#0d0887"
             ],
             [
              0.1111111111111111,
              "#46039f"
             ],
             [
              0.2222222222222222,
              "#7201a8"
             ],
             [
              0.3333333333333333,
              "#9c179e"
             ],
             [
              0.4444444444444444,
              "#bd3786"
             ],
             [
              0.5555555555555556,
              "#d8576b"
             ],
             [
              0.6666666666666666,
              "#ed7953"
             ],
             [
              0.7777777777777778,
              "#fb9f3a"
             ],
             [
              0.8888888888888888,
              "#fdca26"
             ],
             [
              1,
              "#f0f921"
             ]
            ],
            "type": "heatmap"
           }
          ],
          "heatmapgl": [
           {
            "colorbar": {
             "outlinewidth": 0,
             "ticks": ""
            },
            "colorscale": [
             [
              0,
              "#0d0887"
             ],
             [
              0.1111111111111111,
              "#46039f"
             ],
             [
              0.2222222222222222,
              "#7201a8"
             ],
             [
              0.3333333333333333,
              "#9c179e"
             ],
             [
              0.4444444444444444,
              "#bd3786"
             ],
             [
              0.5555555555555556,
              "#d8576b"
             ],
             [
              0.6666666666666666,
              "#ed7953"
             ],
             [
              0.7777777777777778,
              "#fb9f3a"
             ],
             [
              0.8888888888888888,
              "#fdca26"
             ],
             [
              1,
              "#f0f921"
             ]
            ],
            "type": "heatmapgl"
           }
          ],
          "histogram": [
           {
            "marker": {
             "pattern": {
              "fillmode": "overlay",
              "size": 10,
              "solidity": 0.2
             }
            },
            "type": "histogram"
           }
          ],
          "histogram2d": [
           {
            "colorbar": {
             "outlinewidth": 0,
             "ticks": ""
            },
            "colorscale": [
             [
              0,
              "#0d0887"
             ],
             [
              0.1111111111111111,
              "#46039f"
             ],
             [
              0.2222222222222222,
              "#7201a8"
             ],
             [
              0.3333333333333333,
              "#9c179e"
             ],
             [
              0.4444444444444444,
              "#bd3786"
             ],
             [
              0.5555555555555556,
              "#d8576b"
             ],
             [
              0.6666666666666666,
              "#ed7953"
             ],
             [
              0.7777777777777778,
              "#fb9f3a"
             ],
             [
              0.8888888888888888,
              "#fdca26"
             ],
             [
              1,
              "#f0f921"
             ]
            ],
            "type": "histogram2d"
           }
          ],
          "histogram2dcontour": [
           {
            "colorbar": {
             "outlinewidth": 0,
             "ticks": ""
            },
            "colorscale": [
             [
              0,
              "#0d0887"
             ],
             [
              0.1111111111111111,
              "#46039f"
             ],
             [
              0.2222222222222222,
              "#7201a8"
             ],
             [
              0.3333333333333333,
              "#9c179e"
             ],
             [
              0.4444444444444444,
              "#bd3786"
             ],
             [
              0.5555555555555556,
              "#d8576b"
             ],
             [
              0.6666666666666666,
              "#ed7953"
             ],
             [
              0.7777777777777778,
              "#fb9f3a"
             ],
             [
              0.8888888888888888,
              "#fdca26"
             ],
             [
              1,
              "#f0f921"
             ]
            ],
            "type": "histogram2dcontour"
           }
          ],
          "mesh3d": [
           {
            "colorbar": {
             "outlinewidth": 0,
             "ticks": ""
            },
            "type": "mesh3d"
           }
          ],
          "parcoords": [
           {
            "line": {
             "colorbar": {
              "outlinewidth": 0,
              "ticks": ""
             }
            },
            "type": "parcoords"
           }
          ],
          "pie": [
           {
            "automargin": true,
            "type": "pie"
           }
          ],
          "scatter": [
           {
            "fillpattern": {
             "fillmode": "overlay",
             "size": 10,
             "solidity": 0.2
            },
            "type": "scatter"
           }
          ],
          "scatter3d": [
           {
            "line": {
             "colorbar": {
              "outlinewidth": 0,
              "ticks": ""
             }
            },
            "marker": {
             "colorbar": {
              "outlinewidth": 0,
              "ticks": ""
             }
            },
            "type": "scatter3d"
           }
          ],
          "scattercarpet": [
           {
            "marker": {
             "colorbar": {
              "outlinewidth": 0,
              "ticks": ""
             }
            },
            "type": "scattercarpet"
           }
          ],
          "scattergeo": [
           {
            "marker": {
             "colorbar": {
              "outlinewidth": 0,
              "ticks": ""
             }
            },
            "type": "scattergeo"
           }
          ],
          "scattergl": [
           {
            "marker": {
             "colorbar": {
              "outlinewidth": 0,
              "ticks": ""
             }
            },
            "type": "scattergl"
           }
          ],
          "scattermapbox": [
           {
            "marker": {
             "colorbar": {
              "outlinewidth": 0,
              "ticks": ""
             }
            },
            "type": "scattermapbox"
           }
          ],
          "scatterpolar": [
           {
            "marker": {
             "colorbar": {
              "outlinewidth": 0,
              "ticks": ""
             }
            },
            "type": "scatterpolar"
           }
          ],
          "scatterpolargl": [
           {
            "marker": {
             "colorbar": {
              "outlinewidth": 0,
              "ticks": ""
             }
            },
            "type": "scatterpolargl"
           }
          ],
          "scatterternary": [
           {
            "marker": {
             "colorbar": {
              "outlinewidth": 0,
              "ticks": ""
             }
            },
            "type": "scatterternary"
           }
          ],
          "surface": [
           {
            "colorbar": {
             "outlinewidth": 0,
             "ticks": ""
            },
            "colorscale": [
             [
              0,
              "#0d0887"
             ],
             [
              0.1111111111111111,
              "#46039f"
             ],
             [
              0.2222222222222222,
              "#7201a8"
             ],
             [
              0.3333333333333333,
              "#9c179e"
             ],
             [
              0.4444444444444444,
              "#bd3786"
             ],
             [
              0.5555555555555556,
              "#d8576b"
             ],
             [
              0.6666666666666666,
              "#ed7953"
             ],
             [
              0.7777777777777778,
              "#fb9f3a"
             ],
             [
              0.8888888888888888,
              "#fdca26"
             ],
             [
              1,
              "#f0f921"
             ]
            ],
            "type": "surface"
           }
          ],
          "table": [
           {
            "cells": {
             "fill": {
              "color": "#EBF0F8"
             },
             "line": {
              "color": "white"
             }
            },
            "header": {
             "fill": {
              "color": "#C8D4E3"
             },
             "line": {
              "color": "white"
             }
            },
            "type": "table"
           }
          ]
         },
         "layout": {
          "annotationdefaults": {
           "arrowcolor": "#2a3f5f",
           "arrowhead": 0,
           "arrowwidth": 1
          },
          "autotypenumbers": "strict",
          "coloraxis": {
           "colorbar": {
            "outlinewidth": 0,
            "ticks": ""
           }
          },
          "colorscale": {
           "diverging": [
            [
             0,
             "#8e0152"
            ],
            [
             0.1,
             "#c51b7d"
            ],
            [
             0.2,
             "#de77ae"
            ],
            [
             0.3,
             "#f1b6da"
            ],
            [
             0.4,
             "#fde0ef"
            ],
            [
             0.5,
             "#f7f7f7"
            ],
            [
             0.6,
             "#e6f5d0"
            ],
            [
             0.7,
             "#b8e186"
            ],
            [
             0.8,
             "#7fbc41"
            ],
            [
             0.9,
             "#4d9221"
            ],
            [
             1,
             "#276419"
            ]
           ],
           "sequential": [
            [
             0,
             "#0d0887"
            ],
            [
             0.1111111111111111,
             "#46039f"
            ],
            [
             0.2222222222222222,
             "#7201a8"
            ],
            [
             0.3333333333333333,
             "#9c179e"
            ],
            [
             0.4444444444444444,
             "#bd3786"
            ],
            [
             0.5555555555555556,
             "#d8576b"
            ],
            [
             0.6666666666666666,
             "#ed7953"
            ],
            [
             0.7777777777777778,
             "#fb9f3a"
            ],
            [
             0.8888888888888888,
             "#fdca26"
            ],
            [
             1,
             "#f0f921"
            ]
           ],
           "sequentialminus": [
            [
             0,
             "#0d0887"
            ],
            [
             0.1111111111111111,
             "#46039f"
            ],
            [
             0.2222222222222222,
             "#7201a8"
            ],
            [
             0.3333333333333333,
             "#9c179e"
            ],
            [
             0.4444444444444444,
             "#bd3786"
            ],
            [
             0.5555555555555556,
             "#d8576b"
            ],
            [
             0.6666666666666666,
             "#ed7953"
            ],
            [
             0.7777777777777778,
             "#fb9f3a"
            ],
            [
             0.8888888888888888,
             "#fdca26"
            ],
            [
             1,
             "#f0f921"
            ]
           ]
          },
          "colorway": [
           "#636efa",
           "#EF553B",
           "#00cc96",
           "#ab63fa",
           "#FFA15A",
           "#19d3f3",
           "#FF6692",
           "#B6E880",
           "#FF97FF",
           "#FECB52"
          ],
          "font": {
           "color": "#2a3f5f"
          },
          "geo": {
           "bgcolor": "white",
           "lakecolor": "white",
           "landcolor": "#E5ECF6",
           "showlakes": true,
           "showland": true,
           "subunitcolor": "white"
          },
          "hoverlabel": {
           "align": "left"
          },
          "hovermode": "closest",
          "mapbox": {
           "style": "light"
          },
          "paper_bgcolor": "white",
          "plot_bgcolor": "#E5ECF6",
          "polar": {
           "angularaxis": {
            "gridcolor": "white",
            "linecolor": "white",
            "ticks": ""
           },
           "bgcolor": "#E5ECF6",
           "radialaxis": {
            "gridcolor": "white",
            "linecolor": "white",
            "ticks": ""
           }
          },
          "scene": {
           "xaxis": {
            "backgroundcolor": "#E5ECF6",
            "gridcolor": "white",
            "gridwidth": 2,
            "linecolor": "white",
            "showbackground": true,
            "ticks": "",
            "zerolinecolor": "white"
           },
           "yaxis": {
            "backgroundcolor": "#E5ECF6",
            "gridcolor": "white",
            "gridwidth": 2,
            "linecolor": "white",
            "showbackground": true,
            "ticks": "",
            "zerolinecolor": "white"
           },
           "zaxis": {
            "backgroundcolor": "#E5ECF6",
            "gridcolor": "white",
            "gridwidth": 2,
            "linecolor": "white",
            "showbackground": true,
            "ticks": "",
            "zerolinecolor": "white"
           }
          },
          "shapedefaults": {
           "line": {
            "color": "#2a3f5f"
           }
          },
          "ternary": {
           "aaxis": {
            "gridcolor": "white",
            "linecolor": "white",
            "ticks": ""
           },
           "baxis": {
            "gridcolor": "white",
            "linecolor": "white",
            "ticks": ""
           },
           "bgcolor": "#E5ECF6",
           "caxis": {
            "gridcolor": "white",
            "linecolor": "white",
            "ticks": ""
           }
          },
          "title": {
           "x": 0.05
          },
          "xaxis": {
           "automargin": true,
           "gridcolor": "white",
           "linecolor": "white",
           "ticks": "",
           "title": {
            "standoff": 15
           },
           "zerolinecolor": "white",
           "zerolinewidth": 2
          },
          "yaxis": {
           "automargin": true,
           "gridcolor": "white",
           "linecolor": "white",
           "ticks": "",
           "title": {
            "standoff": 15
           },
           "zerolinecolor": "white",
           "zerolinewidth": 2
          }
         }
        },
        "width": 1000
       }
      },
      "text/html": [
       "<div>                            <div id=\"0409310e-1412-4442-923d-44aec43fb31f\" class=\"plotly-graph-div\" style=\"height:1000px; width:1000px;\"></div>            <script type=\"text/javascript\">                require([\"plotly\"], function(Plotly) {                    window.PLOTLYENV=window.PLOTLYENV || {};                                    if (document.getElementById(\"0409310e-1412-4442-923d-44aec43fb31f\")) {                    Plotly.newPlot(                        \"0409310e-1412-4442-923d-44aec43fb31f\",                        [{\"branchvalues\":\"total\",\"customdata\":[[-0.0081],[0.0105],[-0.0048],[-0.0234],[0.0062],[-0.0054],[0.0367],[0.0054],[0.0067],[0.0051],[0.0174],[0.0138],[0.0114],[0.0046],[-0.0087],[0.0201],[-0.0051],[0.0062],[-0.0081],[0.006],[-0.0056],[0.0046],[-0.0053],[-0.0073],[0.0102],[0.0103],[0.007],[0.0633],[0.0422],[0.0641],[0.0292],[0.0628],[0.0614],[0.0072],[-0.0046],[0.0049],[0.007],[0.0183],[0.0095],[0.0075],[0.0077],[-0.0052],[0.0189],[-0.0082],[-0.0071],[0.0069],[0.0051],[-0.0083],[0.0276],[-0.0064],[0.0048],[-0.0198],[0.0206],[0.0165],[0.0078],[-0.005],[0.006233333333333334],[-0.0020499999999999997],[0.01458],[0.0067],[0.0002000000000000001],[0.004750000000000001],[-0.0198],[0.0008999999999999998],[0.04717142857142857],[0.0051],[0.007],[0.010725],[-0.0046],[-0.007733333333333334],[-0.006974999999999999],[-0.0071],[0.01635],[0.0015333333333333334],[0.012000000000000002],[0.01175],[0.0095],[-0.0081],[0.0078],[0.0136125],[0.0035250000000000004],[0.03379000000000001],[-0.0037999999999999996],[0.00835],[-0.00042500000000000014],[0.013133333333333332],[-0.0005999999999999997]],\"domain\":{\"x\":[0.0,1.0],\"y\":[0.0,1.0]},\"hovertemplate\":\"labels=%{label}\\u003cbr\\u003ecount=%{value}\\u003cbr\\u003eparent=%{parent}\\u003cbr\\u003eid=%{id}\\u003cbr\\u003eGene Weight=%{color}\\u003cextra\\u003e\\u003c\\u002fextra\\u003e\",\"ids\":[\"Enzymes and Metabolic Proteins\\u002fTransporters\\u002fABCC11\",\"Cell Adhesion and Junctions\\u002fTight Junctions and Adhesion\\u002fAGR3\",\"Cell Organization\\u002fStructural Proteins\\u002fANKRD29\",\"Signaling Receptors\\u002fOther\\u002fAVPR1A\",\"Gene Regulation\\u002fOpen Reading Frames\\u002fC15orf48\",\"Gene Regulation\\u002fOpen Reading Frames\\u002fC2orf42\",\"Gene Regulation\\u002fOpen Reading Frames\\u002fC5orf46\",\"Gene Regulation\\u002fOpen Reading Frames\\u002fC6orf132\",\"Secreted Proteins\\u002fECM Proteins\\u002fCAV1\",\"Immune System Genes\\u002fCell Surface Markers\\u002fCD14\",\"Cell Adhesion and Junctions\\u002fDesmosomes and Junctions\\u002fCEACAM6\",\"Cell Adhesion and Junctions\\u002fDesmosomes and Junctions\\u002fCEACAM8\",\"Cell Adhesion and Junctions\\u002fDesmosomes and Junctions\\u002fCLDN4\",\"Immune System Genes\\u002fChemokine Receptors\\u002fCX3CR1\",\"Immune System Genes\\u002fChemokine Receptors\\u002fCXCR4\",\"Cell Adhesion and Junctions\\u002fDesmosomes and Junctions\\u002fDSP\",\"Immune System Genes\\u002fInflammatory Mediators\\u002fEGFL7\",\"Signaling Receptors\\u002fGrowth Factors\\u002fEGFR\",\"Enzymes and Metabolic Proteins\\u002fKinases and Phosphatases\\u002fERN1\",\"Gene Regulation\\u002fForkhead Box Family\\u002fFOXC2\",\"Gene Regulation\\u002fForkhead Box Family\\u002fFOXP3\",\"Cell Organization\\u002fStructural Proteins\\u002fGLIPR1\",\"Immune System Genes\\u002fCell Surface Markers\\u002fGNLY\",\"Signaling Receptors\\u002fOther\\u002fIL2RA\",\"Cell Adhesion and Junctions\\u002fDesmosomes and Junctions\\u002fJUP\",\"Signaling Receptors\\u002fGrowth Factors\\u002fKIT\",\"Gene Regulation\\u002fTranscription Factors\\u002fKLF5\",\"Cytoskeletal Proteins\\u002fKeratin Family\\u002fKRT14\",\"Cytoskeletal Proteins\\u002fKeratin Family\\u002fKRT15\",\"Cytoskeletal Proteins\\u002fKeratin Family\\u002fKRT16\",\"Cytoskeletal Proteins\\u002fKeratin Family\\u002fKRT23\",\"Cytoskeletal Proteins\\u002fKeratin Family\\u002fKRT5\",\"Cytoskeletal Proteins\\u002fKeratin Family\\u002fKRT6B\",\"Cytoskeletal Proteins\\u002fKeratin Family\\u002fKRT7\",\"Enzymes and Metabolic Proteins\\u002fOther\\u002fLGALSL\",\"Cell Adhesion and Junctions\\u002fTight Junctions and Adhesion\\u002fLYPD3\",\"Cytoskeletal Proteins\\u002fMyosins\\u002fMYH11\",\"Enzymes and Metabolic Proteins\\u002fKinases and Phosphatases\\u002fMYLK\",\"Cell Organization\\u002fTransport Proteins\\u002fNOSTRIN\",\"Signaling Receptors\\u002fOther\\u002fOXTR\",\"Signaling Receptors\\u002fGrowth Factors\\u002fPDGFRA\",\"Signaling Receptors\\u002fGrowth Factors\\u002fPDGFRB\",\"Immune System Genes\\u002fCell Surface Markers\\u002fPIGR\",\"Enzymes and Metabolic Proteins\\u002fPeptidases and Hydrolases\\u002fPTRHD1\",\"Cytoskeletal Proteins\\u002fRegulation of Actin\\u002fRAPGEF3\",\"Immune System Genes\\u002fInflammatory Mediators\\u002fS100A14\",\"Secreted Proteins\\u002fSecreted Proteins\\u002fSCGB2A1\",\"Enzymes and Metabolic Proteins\\u002fPeptidases and Hydrolases\\u002fSEC11C\",\"Secreted Proteins\\u002fSecreted Proteins\\u002fSERPINA3\",\"Enzymes and Metabolic Proteins\\u002fPeptidases and Hydrolases\\u002fSH3YL1\",\"Cell Organization\\u002fStructural Proteins\\u002fSVIL\",\"Immune System Genes\\u002fImmune Regulation\\u002fTAC1\",\"Cell Adhesion and Junctions\\u002fTight Junctions and Adhesion\\u002fTACSTD2\",\"Gene Regulation\\u002fTranscription Factors\\u002fTCF7\",\"Cytoskeletal Proteins\\u002fTubulin Family\\u002fTUBB2B\",\"Enzymes and Metabolic Proteins\\u002fPeptidases and Hydrolases\\u002fUSP53\",\"Immune System Genes\\u002fCell Surface Markers\",\"Immune System Genes\\u002fChemokine Receptors\",\"Cell Adhesion and Junctions\\u002fDesmosomes and Junctions\",\"Secreted Proteins\\u002fECM Proteins\",\"Gene Regulation\\u002fForkhead Box Family\",\"Signaling Receptors\\u002fGrowth Factors\",\"Immune System Genes\\u002fImmune Regulation\",\"Immune System Genes\\u002fInflammatory Mediators\",\"Cytoskeletal Proteins\\u002fKeratin Family\",\"Enzymes and Metabolic Proteins\\u002fKinases and Phosphatases\",\"Cytoskeletal Proteins\\u002fMyosins\",\"Gene Regulation\\u002fOpen Reading Frames\",\"Enzymes and Metabolic Proteins\\u002fOther\",\"Signaling Receptors\\u002fOther\",\"Enzymes and Metabolic Proteins\\u002fPeptidases and Hydrolases\",\"Cytoskeletal Proteins\\u002fRegulation of Actin\",\"Secreted Proteins\\u002fSecreted Proteins\",\"Cell Organization\\u002fStructural Proteins\",\"Cell Adhesion and Junctions\\u002fTight Junctions and Adhesion\",\"Gene Regulation\\u002fTranscription Factors\",\"Cell Organization\\u002fTransport Proteins\",\"Enzymes and Metabolic Proteins\\u002fTransporters\",\"Cytoskeletal Proteins\\u002fTubulin Family\",\"Cell Adhesion and Junctions\",\"Cell Organization\",\"Cytoskeletal Proteins\",\"Enzymes and Metabolic Proteins\",\"Gene Regulation\",\"Immune System Genes\",\"Secreted Proteins\",\"Signaling Receptors\"],\"labels\":[\"ABCC11\",\"AGR3\",\"ANKRD29\",\"AVPR1A\",\"C15orf48\",\"C2orf42\",\"C5orf46\",\"C6orf132\",\"CAV1\",\"CD14\",\"CEACAM6\",\"CEACAM8\",\"CLDN4\",\"CX3CR1\",\"CXCR4\",\"DSP\",\"EGFL7\",\"EGFR\",\"ERN1\",\"FOXC2\",\"FOXP3\",\"GLIPR1\",\"GNLY\",\"IL2RA\",\"JUP\",\"KIT\",\"KLF5\",\"KRT14\",\"KRT15\",\"KRT16\",\"KRT23\",\"KRT5\",\"KRT6B\",\"KRT7\",\"LGALSL\",\"LYPD3\",\"MYH11\",\"MYLK\",\"NOSTRIN\",\"OXTR\",\"PDGFRA\",\"PDGFRB\",\"PIGR\",\"PTRHD1\",\"RAPGEF3\",\"S100A14\",\"SCGB2A1\",\"SEC11C\",\"SERPINA3\",\"SH3YL1\",\"SVIL\",\"TAC1\",\"TACSTD2\",\"TCF7\",\"TUBB2B\",\"USP53\",\"Cell Surface Markers\",\"Chemokine Receptors\",\"Desmosomes and Junctions\",\"ECM Proteins\",\"Forkhead Box Family\",\"Growth Factors\",\"Immune Regulation\",\"Inflammatory Mediators\",\"Keratin Family\",\"Kinases and Phosphatases\",\"Myosins\",\"Open Reading Frames\",\"Other\",\"Other\",\"Peptidases and Hydrolases\",\"Regulation of Actin\",\"Secreted Proteins\",\"Structural Proteins\",\"Tight Junctions and Adhesion\",\"Transcription Factors\",\"Transport Proteins\",\"Transporters\",\"Tubulin Family\",\"Cell Adhesion and Junctions\",\"Cell Organization\",\"Cytoskeletal Proteins\",\"Enzymes and Metabolic Proteins\",\"Gene Regulation\",\"Immune System Genes\",\"Secreted Proteins\",\"Signaling Receptors\"],\"marker\":{\"coloraxis\":\"coloraxis\",\"colors\":[-0.0081,0.0105,-0.0048,-0.0234,0.0062,-0.0054,0.0367,0.0054,0.0067,0.0051,0.0174,0.0138,0.0114,0.0046,-0.0087,0.0201,-0.0051,0.0062,-0.0081,0.006,-0.0056,0.0046,-0.0053,-0.0073,0.0102,0.0103,0.007,0.0633,0.0422,0.0641,0.0292,0.0628,0.0614,0.0072,-0.0046,0.0049,0.007,0.0183,0.0095,0.0075,0.0077,-0.0052,0.0189,-0.0082,-0.0071,0.0069,0.0051,-0.0083,0.0276,-0.0064,0.0048,-0.0198,0.0206,0.0165,0.0078,-0.005,0.006233333333333334,-0.0020499999999999997,0.01458,0.0067,0.0002000000000000001,0.004750000000000001,-0.0198,0.0008999999999999998,0.04717142857142857,0.0051,0.007,0.010725,-0.0046,-0.007733333333333334,-0.006974999999999999,-0.0071,0.01635,0.0015333333333333334,0.012000000000000002,0.01175,0.0095,-0.0081,0.0078,0.0136125,0.0035250000000000004,0.03379000000000001,-0.0037999999999999996,0.00835,-0.00042500000000000014,0.013133333333333332,-0.0005999999999999997]},\"name\":\"\",\"parents\":[\"Enzymes and Metabolic Proteins\\u002fTransporters\",\"Cell Adhesion and Junctions\\u002fTight Junctions and Adhesion\",\"Cell Organization\\u002fStructural Proteins\",\"Signaling Receptors\\u002fOther\",\"Gene Regulation\\u002fOpen Reading Frames\",\"Gene Regulation\\u002fOpen Reading Frames\",\"Gene Regulation\\u002fOpen Reading Frames\",\"Gene Regulation\\u002fOpen Reading Frames\",\"Secreted Proteins\\u002fECM Proteins\",\"Immune System Genes\\u002fCell Surface Markers\",\"Cell Adhesion and Junctions\\u002fDesmosomes and Junctions\",\"Cell Adhesion and Junctions\\u002fDesmosomes and Junctions\",\"Cell Adhesion and Junctions\\u002fDesmosomes and Junctions\",\"Immune System Genes\\u002fChemokine Receptors\",\"Immune System Genes\\u002fChemokine Receptors\",\"Cell Adhesion and Junctions\\u002fDesmosomes and Junctions\",\"Immune System Genes\\u002fInflammatory Mediators\",\"Signaling Receptors\\u002fGrowth Factors\",\"Enzymes and Metabolic Proteins\\u002fKinases and Phosphatases\",\"Gene Regulation\\u002fForkhead Box Family\",\"Gene Regulation\\u002fForkhead Box Family\",\"Cell Organization\\u002fStructural Proteins\",\"Immune System Genes\\u002fCell Surface Markers\",\"Signaling Receptors\\u002fOther\",\"Cell Adhesion and Junctions\\u002fDesmosomes and Junctions\",\"Signaling Receptors\\u002fGrowth Factors\",\"Gene Regulation\\u002fTranscription Factors\",\"Cytoskeletal Proteins\\u002fKeratin Family\",\"Cytoskeletal Proteins\\u002fKeratin Family\",\"Cytoskeletal Proteins\\u002fKeratin Family\",\"Cytoskeletal Proteins\\u002fKeratin Family\",\"Cytoskeletal Proteins\\u002fKeratin Family\",\"Cytoskeletal Proteins\\u002fKeratin Family\",\"Cytoskeletal Proteins\\u002fKeratin Family\",\"Enzymes and Metabolic Proteins\\u002fOther\",\"Cell Adhesion and Junctions\\u002fTight Junctions and Adhesion\",\"Cytoskeletal Proteins\\u002fMyosins\",\"Enzymes and Metabolic Proteins\\u002fKinases and Phosphatases\",\"Cell Organization\\u002fTransport Proteins\",\"Signaling Receptors\\u002fOther\",\"Signaling Receptors\\u002fGrowth Factors\",\"Signaling Receptors\\u002fGrowth Factors\",\"Immune System Genes\\u002fCell Surface Markers\",\"Enzymes and Metabolic Proteins\\u002fPeptidases and Hydrolases\",\"Cytoskeletal Proteins\\u002fRegulation of Actin\",\"Immune System Genes\\u002fInflammatory Mediators\",\"Secreted Proteins\\u002fSecreted Proteins\",\"Enzymes and Metabolic Proteins\\u002fPeptidases and Hydrolases\",\"Secreted Proteins\\u002fSecreted Proteins\",\"Enzymes and Metabolic Proteins\\u002fPeptidases and Hydrolases\",\"Cell Organization\\u002fStructural Proteins\",\"Immune System Genes\\u002fImmune Regulation\",\"Cell Adhesion and Junctions\\u002fTight Junctions and Adhesion\",\"Gene Regulation\\u002fTranscription Factors\",\"Cytoskeletal Proteins\\u002fTubulin Family\",\"Enzymes and Metabolic Proteins\\u002fPeptidases and Hydrolases\",\"Immune System Genes\",\"Immune System Genes\",\"Cell Adhesion and Junctions\",\"Secreted Proteins\",\"Gene Regulation\",\"Signaling Receptors\",\"Immune System Genes\",\"Immune System Genes\",\"Cytoskeletal Proteins\",\"Enzymes and Metabolic Proteins\",\"Cytoskeletal Proteins\",\"Gene Regulation\",\"Enzymes and Metabolic Proteins\",\"Signaling Receptors\",\"Enzymes and Metabolic Proteins\",\"Cytoskeletal Proteins\",\"Secreted Proteins\",\"Cell Organization\",\"Cell Adhesion and Junctions\",\"Gene Regulation\",\"Cell Organization\",\"Enzymes and Metabolic Proteins\",\"Cytoskeletal Proteins\",\"\",\"\",\"\",\"\",\"\",\"\",\"\",\"\"],\"values\":[1,1,1,1,1,1,1,1,1,1,1,1,1,1,1,1,1,1,1,1,1,1,1,1,1,1,1,1,1,1,1,1,1,1,1,1,1,1,1,1,1,1,1,1,1,1,1,1,1,1,1,1,1,1,1,1,3,2,5,1,2,4,1,2,7,2,1,4,1,3,4,1,2,3,3,2,1,1,1,8,4,10,8,8,8,3,7],\"type\":\"sunburst\",\"insidetextfont\":{\"size\":15},\"textinfo\":\"label\"}],                        {\"template\":{\"data\":{\"histogram2dcontour\":[{\"type\":\"histogram2dcontour\",\"colorbar\":{\"outlinewidth\":0,\"ticks\":\"\"},\"colorscale\":[[0.0,\"#0d0887\"],[0.1111111111111111,\"#46039f\"],[0.2222222222222222,\"#7201a8\"],[0.3333333333333333,\"#9c179e\"],[0.4444444444444444,\"#bd3786\"],[0.5555555555555556,\"#d8576b\"],[0.6666666666666666,\"#ed7953\"],[0.7777777777777778,\"#fb9f3a\"],[0.8888888888888888,\"#fdca26\"],[1.0,\"#f0f921\"]]}],\"choropleth\":[{\"type\":\"choropleth\",\"colorbar\":{\"outlinewidth\":0,\"ticks\":\"\"}}],\"histogram2d\":[{\"type\":\"histogram2d\",\"colorbar\":{\"outlinewidth\":0,\"ticks\":\"\"},\"colorscale\":[[0.0,\"#0d0887\"],[0.1111111111111111,\"#46039f\"],[0.2222222222222222,\"#7201a8\"],[0.3333333333333333,\"#9c179e\"],[0.4444444444444444,\"#bd3786\"],[0.5555555555555556,\"#d8576b\"],[0.6666666666666666,\"#ed7953\"],[0.7777777777777778,\"#fb9f3a\"],[0.8888888888888888,\"#fdca26\"],[1.0,\"#f0f921\"]]}],\"heatmap\":[{\"type\":\"heatmap\",\"colorbar\":{\"outlinewidth\":0,\"ticks\":\"\"},\"colorscale\":[[0.0,\"#0d0887\"],[0.1111111111111111,\"#46039f\"],[0.2222222222222222,\"#7201a8\"],[0.3333333333333333,\"#9c179e\"],[0.4444444444444444,\"#bd3786\"],[0.5555555555555556,\"#d8576b\"],[0.6666666666666666,\"#ed7953\"],[0.7777777777777778,\"#fb9f3a\"],[0.8888888888888888,\"#fdca26\"],[1.0,\"#f0f921\"]]}],\"heatmapgl\":[{\"type\":\"heatmapgl\",\"colorbar\":{\"outlinewidth\":0,\"ticks\":\"\"},\"colorscale\":[[0.0,\"#0d0887\"],[0.1111111111111111,\"#46039f\"],[0.2222222222222222,\"#7201a8\"],[0.3333333333333333,\"#9c179e\"],[0.4444444444444444,\"#bd3786\"],[0.5555555555555556,\"#d8576b\"],[0.6666666666666666,\"#ed7953\"],[0.7777777777777778,\"#fb9f3a\"],[0.8888888888888888,\"#fdca26\"],[1.0,\"#f0f921\"]]}],\"contourcarpet\":[{\"type\":\"contourcarpet\",\"colorbar\":{\"outlinewidth\":0,\"ticks\":\"\"}}],\"contour\":[{\"type\":\"contour\",\"colorbar\":{\"outlinewidth\":0,\"ticks\":\"\"},\"colorscale\":[[0.0,\"#0d0887\"],[0.1111111111111111,\"#46039f\"],[0.2222222222222222,\"#7201a8\"],[0.3333333333333333,\"#9c179e\"],[0.4444444444444444,\"#bd3786\"],[0.5555555555555556,\"#d8576b\"],[0.6666666666666666,\"#ed7953\"],[0.7777777777777778,\"#fb9f3a\"],[0.8888888888888888,\"#fdca26\"],[1.0,\"#f0f921\"]]}],\"surface\":[{\"type\":\"surface\",\"colorbar\":{\"outlinewidth\":0,\"ticks\":\"\"},\"colorscale\":[[0.0,\"#0d0887\"],[0.1111111111111111,\"#46039f\"],[0.2222222222222222,\"#7201a8\"],[0.3333333333333333,\"#9c179e\"],[0.4444444444444444,\"#bd3786\"],[0.5555555555555556,\"#d8576b\"],[0.6666666666666666,\"#ed7953\"],[0.7777777777777778,\"#fb9f3a\"],[0.8888888888888888,\"#fdca26\"],[1.0,\"#f0f921\"]]}],\"mesh3d\":[{\"type\":\"mesh3d\",\"colorbar\":{\"outlinewidth\":0,\"ticks\":\"\"}}],\"scatter\":[{\"fillpattern\":{\"fillmode\":\"overlay\",\"size\":10,\"solidity\":0.2},\"type\":\"scatter\"}],\"parcoords\":[{\"type\":\"parcoords\",\"line\":{\"colorbar\":{\"outlinewidth\":0,\"ticks\":\"\"}}}],\"scatterpolargl\":[{\"type\":\"scatterpolargl\",\"marker\":{\"colorbar\":{\"outlinewidth\":0,\"ticks\":\"\"}}}],\"bar\":[{\"error_x\":{\"color\":\"#2a3f5f\"},\"error_y\":{\"color\":\"#2a3f5f\"},\"marker\":{\"line\":{\"color\":\"#E5ECF6\",\"width\":0.5},\"pattern\":{\"fillmode\":\"overlay\",\"size\":10,\"solidity\":0.2}},\"type\":\"bar\"}],\"scattergeo\":[{\"type\":\"scattergeo\",\"marker\":{\"colorbar\":{\"outlinewidth\":0,\"ticks\":\"\"}}}],\"scatterpolar\":[{\"type\":\"scatterpolar\",\"marker\":{\"colorbar\":{\"outlinewidth\":0,\"ticks\":\"\"}}}],\"histogram\":[{\"marker\":{\"pattern\":{\"fillmode\":\"overlay\",\"size\":10,\"solidity\":0.2}},\"type\":\"histogram\"}],\"scattergl\":[{\"type\":\"scattergl\",\"marker\":{\"colorbar\":{\"outlinewidth\":0,\"ticks\":\"\"}}}],\"scatter3d\":[{\"type\":\"scatter3d\",\"line\":{\"colorbar\":{\"outlinewidth\":0,\"ticks\":\"\"}},\"marker\":{\"colorbar\":{\"outlinewidth\":0,\"ticks\":\"\"}}}],\"scattermapbox\":[{\"type\":\"scattermapbox\",\"marker\":{\"colorbar\":{\"outlinewidth\":0,\"ticks\":\"\"}}}],\"scatterternary\":[{\"type\":\"scatterternary\",\"marker\":{\"colorbar\":{\"outlinewidth\":0,\"ticks\":\"\"}}}],\"scattercarpet\":[{\"type\":\"scattercarpet\",\"marker\":{\"colorbar\":{\"outlinewidth\":0,\"ticks\":\"\"}}}],\"carpet\":[{\"aaxis\":{\"endlinecolor\":\"#2a3f5f\",\"gridcolor\":\"white\",\"linecolor\":\"white\",\"minorgridcolor\":\"white\",\"startlinecolor\":\"#2a3f5f\"},\"baxis\":{\"endlinecolor\":\"#2a3f5f\",\"gridcolor\":\"white\",\"linecolor\":\"white\",\"minorgridcolor\":\"white\",\"startlinecolor\":\"#2a3f5f\"},\"type\":\"carpet\"}],\"table\":[{\"cells\":{\"fill\":{\"color\":\"#EBF0F8\"},\"line\":{\"color\":\"white\"}},\"header\":{\"fill\":{\"color\":\"#C8D4E3\"},\"line\":{\"color\":\"white\"}},\"type\":\"table\"}],\"barpolar\":[{\"marker\":{\"line\":{\"color\":\"#E5ECF6\",\"width\":0.5},\"pattern\":{\"fillmode\":\"overlay\",\"size\":10,\"solidity\":0.2}},\"type\":\"barpolar\"}],\"pie\":[{\"automargin\":true,\"type\":\"pie\"}]},\"layout\":{\"autotypenumbers\":\"strict\",\"colorway\":[\"#636efa\",\"#EF553B\",\"#00cc96\",\"#ab63fa\",\"#FFA15A\",\"#19d3f3\",\"#FF6692\",\"#B6E880\",\"#FF97FF\",\"#FECB52\"],\"font\":{\"color\":\"#2a3f5f\"},\"hovermode\":\"closest\",\"hoverlabel\":{\"align\":\"left\"},\"paper_bgcolor\":\"white\",\"plot_bgcolor\":\"#E5ECF6\",\"polar\":{\"bgcolor\":\"#E5ECF6\",\"angularaxis\":{\"gridcolor\":\"white\",\"linecolor\":\"white\",\"ticks\":\"\"},\"radialaxis\":{\"gridcolor\":\"white\",\"linecolor\":\"white\",\"ticks\":\"\"}},\"ternary\":{\"bgcolor\":\"#E5ECF6\",\"aaxis\":{\"gridcolor\":\"white\",\"linecolor\":\"white\",\"ticks\":\"\"},\"baxis\":{\"gridcolor\":\"white\",\"linecolor\":\"white\",\"ticks\":\"\"},\"caxis\":{\"gridcolor\":\"white\",\"linecolor\":\"white\",\"ticks\":\"\"}},\"coloraxis\":{\"colorbar\":{\"outlinewidth\":0,\"ticks\":\"\"}},\"colorscale\":{\"sequential\":[[0.0,\"#0d0887\"],[0.1111111111111111,\"#46039f\"],[0.2222222222222222,\"#7201a8\"],[0.3333333333333333,\"#9c179e\"],[0.4444444444444444,\"#bd3786\"],[0.5555555555555556,\"#d8576b\"],[0.6666666666666666,\"#ed7953\"],[0.7777777777777778,\"#fb9f3a\"],[0.8888888888888888,\"#fdca26\"],[1.0,\"#f0f921\"]],\"sequentialminus\":[[0.0,\"#0d0887\"],[0.1111111111111111,\"#46039f\"],[0.2222222222222222,\"#7201a8\"],[0.3333333333333333,\"#9c179e\"],[0.4444444444444444,\"#bd3786\"],[0.5555555555555556,\"#d8576b\"],[0.6666666666666666,\"#ed7953\"],[0.7777777777777778,\"#fb9f3a\"],[0.8888888888888888,\"#fdca26\"],[1.0,\"#f0f921\"]],\"diverging\":[[0,\"#8e0152\"],[0.1,\"#c51b7d\"],[0.2,\"#de77ae\"],[0.3,\"#f1b6da\"],[0.4,\"#fde0ef\"],[0.5,\"#f7f7f7\"],[0.6,\"#e6f5d0\"],[0.7,\"#b8e186\"],[0.8,\"#7fbc41\"],[0.9,\"#4d9221\"],[1,\"#276419\"]]},\"xaxis\":{\"gridcolor\":\"white\",\"linecolor\":\"white\",\"ticks\":\"\",\"title\":{\"standoff\":15},\"zerolinecolor\":\"white\",\"automargin\":true,\"zerolinewidth\":2},\"yaxis\":{\"gridcolor\":\"white\",\"linecolor\":\"white\",\"ticks\":\"\",\"title\":{\"standoff\":15},\"zerolinecolor\":\"white\",\"automargin\":true,\"zerolinewidth\":2},\"scene\":{\"xaxis\":{\"backgroundcolor\":\"#E5ECF6\",\"gridcolor\":\"white\",\"linecolor\":\"white\",\"showbackground\":true,\"ticks\":\"\",\"zerolinecolor\":\"white\",\"gridwidth\":2},\"yaxis\":{\"backgroundcolor\":\"#E5ECF6\",\"gridcolor\":\"white\",\"linecolor\":\"white\",\"showbackground\":true,\"ticks\":\"\",\"zerolinecolor\":\"white\",\"gridwidth\":2},\"zaxis\":{\"backgroundcolor\":\"#E5ECF6\",\"gridcolor\":\"white\",\"linecolor\":\"white\",\"showbackground\":true,\"ticks\":\"\",\"zerolinecolor\":\"white\",\"gridwidth\":2}},\"shapedefaults\":{\"line\":{\"color\":\"#2a3f5f\"}},\"annotationdefaults\":{\"arrowcolor\":\"#2a3f5f\",\"arrowhead\":0,\"arrowwidth\":1},\"geo\":{\"bgcolor\":\"white\",\"landcolor\":\"#E5ECF6\",\"subunitcolor\":\"white\",\"showland\":true,\"showlakes\":true,\"lakecolor\":\"white\"},\"title\":{\"x\":0.05},\"mapbox\":{\"style\":\"light\"}}},\"coloraxis\":{\"colorbar\":{\"title\":{\"text\":\"Gene Importance Weight\"},\"tickvals\":[-0.0234,0.0641]},\"colorscale\":[[0.0,\"rgb(49,54,149)\"],[0.1,\"rgb(69,117,180)\"],[0.2,\"rgb(116,173,209)\"],[0.3,\"rgb(171,217,233)\"],[0.4,\"rgb(224,243,248)\"],[0.5,\"rgb(255,255,191)\"],[0.6,\"rgb(254,224,144)\"],[0.7,\"rgb(253,174,97)\"],[0.8,\"rgb(244,109,67)\"],[0.9,\"rgb(215,48,39)\"],[1.0,\"rgb(165,0,38)\"]]},\"legend\":{\"tracegroupgap\":0},\"margin\":{\"t\":60},\"width\":1000,\"height\":1000},                        {\"responsive\": true}                    ).then(function(){\n",
       "                            \n",
       "var gd = document.getElementById('0409310e-1412-4442-923d-44aec43fb31f');\n",
       "var x = new MutationObserver(function (mutations, observer) {{\n",
       "        var display = window.getComputedStyle(gd).display;\n",
       "        if (!display || display === 'none') {{\n",
       "            console.log([gd, 'removed!']);\n",
       "            Plotly.purge(gd);\n",
       "            observer.disconnect();\n",
       "        }}\n",
       "}});\n",
       "\n",
       "// Listen for the removal of the full notebook cells\n",
       "var notebookContainer = gd.closest('#notebook-container');\n",
       "if (notebookContainer) {{\n",
       "    x.observe(notebookContainer, {childList: true});\n",
       "}}\n",
       "\n",
       "// Listen for the clearing of the current output cell\n",
       "var outputEl = gd.closest('.output');\n",
       "if (outputEl) {{\n",
       "    x.observe(outputEl, {childList: true});\n",
       "}}\n",
       "\n",
       "                        })                };                });            </script>        </div>"
      ]
     },
     "metadata": {},
     "output_type": "display_data"
    }
   ],
   "source": [
    "fig = px.sunburst(df, \n",
    "                  path=['Category', 'Subcategory', 'Gene'], \n",
    "                  color='Gene Weight',\n",
    "                  color_continuous_scale='RdYlBu_r')\n",
    "\n",
    "fig.update_layout(coloraxis_colorbar=dict(\n",
    "    title=\"Gene Importance Weight\",\n",
    "    tickvals=[min(df['Gene Weight']), max(df['Gene Weight'])],\n",
    "))\n",
    "\n",
    "fig.update_layout(\n",
    "    width=1000,\n",
    "    height=1000\n",
    ")\n",
    "\n",
    "fig.update_traces(\n",
    "    textinfo=\"label\",\n",
    "    insidetextfont=dict(size=15)\n",
    ")\n",
    "\n",
    "fig.show()\n",
    "\n",
    "fig.write_image(f'{fig_dir}/RdYlBu_r_add_on_37sunburst_plot.png', scale=3)"
   ]
  },
  {
   "cell_type": "markdown",
   "metadata": {},
   "source": [
    "+ Add-on program 86"
   ]
  },
  {
   "cell_type": "code",
   "execution_count": 37,
   "metadata": {},
   "outputs": [],
   "source": [
    "gp86_genes = df_gp86['gp_source_genes'].values[0]"
   ]
  },
  {
   "cell_type": "markdown",
   "metadata": {},
   "source": [
    "+ extract first 60 genes"
   ]
  },
  {
   "cell_type": "code",
   "execution_count": 38,
   "metadata": {},
   "outputs": [],
   "source": [
    "genes_list = ast.literal_eval(gp86_genes)\n",
    "genes = genes_list[:60]"
   ]
  },
  {
   "cell_type": "code",
   "execution_count": 39,
   "metadata": {},
   "outputs": [
    {
     "data": {
      "text/plain": [
       "['MLPH',\n",
       " 'EPCAM',\n",
       " 'FOXA1',\n",
       " 'ELF3',\n",
       " 'KRT8',\n",
       " 'KRT7',\n",
       " 'FASN',\n",
       " 'ABCC11',\n",
       " 'MYO5B',\n",
       " 'SERHL2',\n",
       " 'TACSTD2',\n",
       " 'LYPD3',\n",
       " 'SCD',\n",
       " 'ANKRD30A',\n",
       " 'S100A14',\n",
       " 'GATA3',\n",
       " 'DSP',\n",
       " 'AR',\n",
       " 'C6orf132',\n",
       " 'TFAP2A',\n",
       " 'CEACAM8',\n",
       " 'TRAF4',\n",
       " 'DMKN',\n",
       " 'CLDN4',\n",
       " 'KLF5',\n",
       " 'PCLAF',\n",
       " 'ERBB2',\n",
       " 'CENPF',\n",
       " 'CCND1',\n",
       " 'PTGDS',\n",
       " 'SLC5A6',\n",
       " 'TOP2A',\n",
       " 'TPD52',\n",
       " 'FBLN1',\n",
       " 'SH3YL1',\n",
       " 'AGR3',\n",
       " 'CEACAM6',\n",
       " 'SQLE',\n",
       " 'CCDC80',\n",
       " 'CTTN',\n",
       " 'JUP',\n",
       " 'USP53',\n",
       " 'CCDC6',\n",
       " 'NARS',\n",
       " 'RHOH',\n",
       " 'RTKN2',\n",
       " 'OCIAD2',\n",
       " 'STC1',\n",
       " 'TCIM',\n",
       " 'HOOK2',\n",
       " 'ZNF562',\n",
       " 'CD79A',\n",
       " 'PDGFRA',\n",
       " 'SMS',\n",
       " 'DPT',\n",
       " 'MEDAG',\n",
       " 'ZEB2',\n",
       " 'IL7R',\n",
       " 'ESR1',\n",
       " 'MS4A1']"
      ]
     },
     "execution_count": 39,
     "metadata": {},
     "output_type": "execute_result"
    }
   ],
   "source": [
    "genes"
   ]
  },
  {
   "cell_type": "markdown",
   "metadata": {},
   "source": [
    "+ Extract gene weights "
   ]
  },
  {
   "cell_type": "code",
   "execution_count": 40,
   "metadata": {},
   "outputs": [],
   "source": [
    "gp86_weights = df_gp86['gp_source_genes_weights'].values[0]"
   ]
  },
  {
   "cell_type": "code",
   "execution_count": 41,
   "metadata": {},
   "outputs": [],
   "source": [
    "weights_list = ast.literal_eval(gp86_weights)\n",
    "weights = weights_list[:60]"
   ]
  },
  {
   "cell_type": "code",
   "execution_count": 42,
   "metadata": {},
   "outputs": [
    {
     "data": {
      "text/plain": [
       "[0.0552,\n",
       " 0.0545,\n",
       " 0.0535,\n",
       " 0.053,\n",
       " 0.0527,\n",
       " 0.0525,\n",
       " 0.0524,\n",
       " 0.0521,\n",
       " 0.0499,\n",
       " 0.0494,\n",
       " 0.0489,\n",
       " 0.0483,\n",
       " 0.0472,\n",
       " 0.0472,\n",
       " 0.0454,\n",
       " 0.0453,\n",
       " 0.0452,\n",
       " 0.0452,\n",
       " 0.043,\n",
       " 0.0429,\n",
       " 0.0427,\n",
       " 0.0396,\n",
       " 0.0383,\n",
       " 0.0382,\n",
       " 0.0369,\n",
       " 0.0368,\n",
       " 0.0364,\n",
       " 0.036,\n",
       " 0.0345,\n",
       " -0.034,\n",
       " 0.0339,\n",
       " 0.0335,\n",
       " 0.033,\n",
       " -0.0319,\n",
       " 0.031,\n",
       " 0.0301,\n",
       " 0.03,\n",
       " 0.0299,\n",
       " -0.0298,\n",
       " 0.0296,\n",
       " 0.0295,\n",
       " 0.0293,\n",
       " 0.0288,\n",
       " 0.0286,\n",
       " 0.0282,\n",
       " 0.0276,\n",
       " 0.0275,\n",
       " 0.027,\n",
       " 0.0268,\n",
       " 0.0268,\n",
       " 0.0266,\n",
       " -0.0266,\n",
       " -0.0263,\n",
       " 0.0262,\n",
       " -0.0257,\n",
       " -0.0256,\n",
       " -0.0255,\n",
       " -0.0255,\n",
       " 0.0253,\n",
       " -0.0252]"
      ]
     },
     "execution_count": 42,
     "metadata": {},
     "output_type": "execute_result"
    }
   ],
   "source": [
    "weights"
   ]
  },
  {
   "cell_type": "code",
   "execution_count": 43,
   "metadata": {},
   "outputs": [],
   "source": [
    "classification = {\n",
    "    'Cytoskeletal Proteins': {\n",
    "        'Keratin Family': ['KRT8', 'KRT7'],\n",
    "        'Myosins': ['MYO5B'],\n",
    "        'Actin-binding': ['CTTN']\n",
    "    },\n",
    "    'Cell Adhesion and Junctions': {\n",
    "        'Cell Adhesion Molecules': ['EPCAM', 'TACSTD2', 'LYPD3', 'CEACAM8', 'CLDN4'],\n",
    "        'Desmosomes and Junctions': ['DSP', 'JUP'],\n",
    "        'ECM Proteins': ['DPT', 'FBLN1', 'FBLN1', 'DPT', 'MEDAG', 'STC1']\n",
    "    },\n",
    "    'Gene Regulation': {\n",
    "        'Forkhead Box Family': ['FOXA1'],\n",
    "        'Transcription Factors': ['ELF3', 'GATA3', 'KLF5', 'TFAP2A', 'ZEB2'],\n",
    "        'Open Reading Frames': ['C6orf132']\n",
    "    },\n",
    "    'Metabolism': {\n",
    "        'Fatty Acid Synthesis': ['FASN', 'SCD'],\n",
    "        'Transporters': ['ABCC11', 'SLC5A6'],\n",
    "        'Other Enzymes': ['USP53', 'SH3YL1', 'SMS', 'SQLE', 'NARS', 'SERHL2']\n",
    "    },\n",
    "    'Immune System Genes': {\n",
    "        'Cytokines': ['IL7R'],\n",
    "        'Cell Surface Markers': ['CD79A', 'RHOH', 'RTKN2'],\n",
    "        'Inflammatory Mediators': ['S100A14'],\n",
    "        'Immune Regulation': ['TRAF4']\n",
    "    },\n",
    "    'Signaling': {\n",
    "        'Growth Factors': ['PDGFRA', 'ERBB2'],\n",
    "        'Hormones': ['ESR1', 'AR'],\n",
    "        'TNF': ['TRAF4'],\n",
    "        'JAK-STAT': ['OCIAD2'],\n",
    "        'Wnt/β-catenin': ['TCIM']\n",
    "    },\n",
    "    'Cell Cycle and Proliferation': {\n",
    "        'Cell Cycle Regulators': ['CCND1', 'CENPF', 'TOP2A'],\n",
    "        'Proliferation Markers': ['PCLAF', 'TPD52']\n",
    "    }\n",
    "}\n",
    "\n",
    "# Create the DataFrame\n",
    "data = []\n",
    "for category, subcategories in classification.items():\n",
    "    for subcategory, genes_list in subcategories.items():\n",
    "        for gene in genes_list:\n",
    "            weight = weights[genes.index(gene)]\n",
    "            data.append([category, subcategory, gene, weight])\n",
    "\n",
    "df = pd.DataFrame(data, columns=['Category', 'Subcategory', 'Gene', 'Gene Weight'])"
   ]
  },
  {
   "cell_type": "code",
   "execution_count": 44,
   "metadata": {},
   "outputs": [
    {
     "data": {
      "application/vnd.plotly.v1+json": {
       "config": {
        "plotlyServerURL": "https://plot.ly"
       },
       "data": [
        {
         "branchvalues": "total",
         "customdata": [
          [
           0.0521
          ],
          [
           0.0452
          ],
          [
           0.043
          ],
          [
           0.0345
          ],
          [
           -0.0266
          ],
          [
           0.0427
          ],
          [
           0.036
          ],
          [
           0.0382
          ],
          [
           0.0296
          ],
          [
           -0.0257
          ],
          [
           0.0452
          ],
          [
           0.053
          ],
          [
           0.0545
          ],
          [
           0.0364
          ],
          [
           0.0253
          ],
          [
           0.0524
          ],
          [
           -0.0319
          ],
          [
           0.0535
          ],
          [
           0.0453
          ],
          [
           -0.0255
          ],
          [
           0.0295
          ],
          [
           0.0369
          ],
          [
           0.0525
          ],
          [
           0.0527
          ],
          [
           0.0483
          ],
          [
           -0.0256
          ],
          [
           0.0499
          ],
          [
           0.0286
          ],
          [
           0.0275
          ],
          [
           0.0368
          ],
          [
           -0.0263
          ],
          [
           0.0282
          ],
          [
           0.0276
          ],
          [
           0.0454
          ],
          [
           0.0472
          ],
          [
           0.0494
          ],
          [
           0.031
          ],
          [
           0.0339
          ],
          [
           0.0262
          ],
          [
           0.0299
          ],
          [
           0.027
          ],
          [
           0.0489
          ],
          [
           0.0268
          ],
          [
           0.0429
          ],
          [
           0.0335
          ],
          [
           0.033
          ],
          [
           0.0396
          ],
          [
           0.0396
          ],
          [
           0.0293
          ],
          [
           -0.0255
          ],
          [
           0.0296
          ],
          [
           0.046520000000000006
          ],
          [
           0.03466666666666667
          ],
          [
           0.009733333333333333
          ],
          [
           -0.0255
          ],
          [
           0.037349999999999994
          ],
          [
           -0.01896666666666667
          ],
          [
           0.0498
          ],
          [
           0.0535
          ],
          [
           0.005050000000000001
          ],
          [
           0.03525
          ],
          [
           0.0396
          ],
          [
           0.0454
          ],
          [
           0.0275
          ],
          [
           0.052599999999999994
          ],
          [
           0.0499
          ],
          [
           0.043
          ],
          [
           0.0324
          ],
          [
           0.0349
          ],
          [
           0.0396
          ],
          [
           0.03052
          ],
          [
           0.043
          ],
          [
           0.0268
          ],
          [
           0.014884615384615383
          ],
          [
           0.03476
          ],
          [
           0.046174999999999994
          ],
          [
           0.03558571428571428
          ],
          [
           0.014783333333333334
          ],
          [
           0.038
          ],
          [
           0.02492857142857143
          ]
         ],
         "domain": {
          "x": [
           0,
           1
          ],
          "y": [
           0,
           1
          ]
         },
         "hovertemplate": "labels=%{label}<br>count=%{value}<br>parent=%{parent}<br>id=%{id}<br>Gene Weight=%{color}<extra></extra>",
         "ids": [
          "Metabolism/Transporters/ABCC11",
          "Signaling/Hormones/AR",
          "Gene Regulation/Open Reading Frames/C6orf132",
          "Cell Cycle and Proliferation/Cell Cycle Regulators/CCND1",
          "Immune System Genes/Cell Surface Markers/CD79A",
          "Cell Adhesion and Junctions/Cell Adhesion Molecules/CEACAM8",
          "Cell Cycle and Proliferation/Cell Cycle Regulators/CENPF",
          "Cell Adhesion and Junctions/Cell Adhesion Molecules/CLDN4",
          "Cytoskeletal Proteins/Actin-binding/CTTN",
          "Cell Adhesion and Junctions/ECM Proteins/DPT",
          "Cell Adhesion and Junctions/Desmosomes and Junctions/DSP",
          "Gene Regulation/Transcription Factors/ELF3",
          "Cell Adhesion and Junctions/Cell Adhesion Molecules/EPCAM",
          "Signaling/Growth Factors/ERBB2",
          "Signaling/Hormones/ESR1",
          "Metabolism/Fatty Acid Synthesis/FASN",
          "Cell Adhesion and Junctions/ECM Proteins/FBLN1",
          "Gene Regulation/Forkhead Box Family/FOXA1",
          "Gene Regulation/Transcription Factors/GATA3",
          "Immune System Genes/Cytokines/IL7R",
          "Cell Adhesion and Junctions/Desmosomes and Junctions/JUP",
          "Gene Regulation/Transcription Factors/KLF5",
          "Cytoskeletal Proteins/Keratin Family/KRT7",
          "Cytoskeletal Proteins/Keratin Family/KRT8",
          "Cell Adhesion and Junctions/Cell Adhesion Molecules/LYPD3",
          "Cell Adhesion and Junctions/ECM Proteins/MEDAG",
          "Cytoskeletal Proteins/Myosins/MYO5B",
          "Metabolism/Other Enzymes/NARS",
          "Signaling/JAK-STAT/OCIAD2",
          "Cell Cycle and Proliferation/Proliferation Markers/PCLAF",
          "Signaling/Growth Factors/PDGFRA",
          "Immune System Genes/Cell Surface Markers/RHOH",
          "Immune System Genes/Cell Surface Markers/RTKN2",
          "Immune System Genes/Inflammatory Mediators/S100A14",
          "Metabolism/Fatty Acid Synthesis/SCD",
          "Metabolism/Other Enzymes/SERHL2",
          "Metabolism/Other Enzymes/SH3YL1",
          "Metabolism/Transporters/SLC5A6",
          "Metabolism/Other Enzymes/SMS",
          "Metabolism/Other Enzymes/SQLE",
          "Cell Adhesion and Junctions/ECM Proteins/STC1",
          "Cell Adhesion and Junctions/Cell Adhesion Molecules/TACSTD2",
          "Signaling/Wnt/β-catenin/TCIM",
          "Gene Regulation/Transcription Factors/TFAP2A",
          "Cell Cycle and Proliferation/Cell Cycle Regulators/TOP2A",
          "Cell Cycle and Proliferation/Proliferation Markers/TPD52",
          "Immune System Genes/Immune Regulation/TRAF4",
          "Signaling/TNF/TRAF4",
          "Metabolism/Other Enzymes/USP53",
          "Gene Regulation/Transcription Factors/ZEB2",
          "Cytoskeletal Proteins/Actin-binding",
          "Cell Adhesion and Junctions/Cell Adhesion Molecules",
          "Cell Cycle and Proliferation/Cell Cycle Regulators",
          "Immune System Genes/Cell Surface Markers",
          "Immune System Genes/Cytokines",
          "Cell Adhesion and Junctions/Desmosomes and Junctions",
          "Cell Adhesion and Junctions/ECM Proteins",
          "Metabolism/Fatty Acid Synthesis",
          "Gene Regulation/Forkhead Box Family",
          "Signaling/Growth Factors",
          "Signaling/Hormones",
          "Immune System Genes/Immune Regulation",
          "Immune System Genes/Inflammatory Mediators",
          "Signaling/JAK-STAT",
          "Cytoskeletal Proteins/Keratin Family",
          "Cytoskeletal Proteins/Myosins",
          "Gene Regulation/Open Reading Frames",
          "Metabolism/Other Enzymes",
          "Cell Cycle and Proliferation/Proliferation Markers",
          "Signaling/TNF",
          "Gene Regulation/Transcription Factors",
          "Metabolism/Transporters",
          "Signaling/Wnt/β-catenin",
          "Cell Adhesion and Junctions",
          "Cell Cycle and Proliferation",
          "Cytoskeletal Proteins",
          "Gene Regulation",
          "Immune System Genes",
          "Metabolism",
          "Signaling"
         ],
         "insidetextfont": {
          "size": 15
         },
         "labels": [
          "ABCC11",
          "AR",
          "C6orf132",
          "CCND1",
          "CD79A",
          "CEACAM8",
          "CENPF",
          "CLDN4",
          "CTTN",
          "DPT",
          "DSP",
          "ELF3",
          "EPCAM",
          "ERBB2",
          "ESR1",
          "FASN",
          "FBLN1",
          "FOXA1",
          "GATA3",
          "IL7R",
          "JUP",
          "KLF5",
          "KRT7",
          "KRT8",
          "LYPD3",
          "MEDAG",
          "MYO5B",
          "NARS",
          "OCIAD2",
          "PCLAF",
          "PDGFRA",
          "RHOH",
          "RTKN2",
          "S100A14",
          "SCD",
          "SERHL2",
          "SH3YL1",
          "SLC5A6",
          "SMS",
          "SQLE",
          "STC1",
          "TACSTD2",
          "TCIM",
          "TFAP2A",
          "TOP2A",
          "TPD52",
          "TRAF4",
          "TRAF4",
          "USP53",
          "ZEB2",
          "Actin-binding",
          "Cell Adhesion Molecules",
          "Cell Cycle Regulators",
          "Cell Surface Markers",
          "Cytokines",
          "Desmosomes and Junctions",
          "ECM Proteins",
          "Fatty Acid Synthesis",
          "Forkhead Box Family",
          "Growth Factors",
          "Hormones",
          "Immune Regulation",
          "Inflammatory Mediators",
          "JAK-STAT",
          "Keratin Family",
          "Myosins",
          "Open Reading Frames",
          "Other Enzymes",
          "Proliferation Markers",
          "TNF",
          "Transcription Factors",
          "Transporters",
          "Wnt/β-catenin",
          "Cell Adhesion and Junctions",
          "Cell Cycle and Proliferation",
          "Cytoskeletal Proteins",
          "Gene Regulation",
          "Immune System Genes",
          "Metabolism",
          "Signaling"
         ],
         "marker": {
          "coloraxis": "coloraxis",
          "colors": [
           0.0521,
           0.0452,
           0.043,
           0.0345,
           -0.0266,
           0.0427,
           0.036,
           0.0382,
           0.0296,
           -0.0257,
           0.0452,
           0.053,
           0.0545,
           0.0364,
           0.0253,
           0.0524,
           -0.0319,
           0.0535,
           0.0453,
           -0.0255,
           0.0295,
           0.0369,
           0.0525,
           0.0527,
           0.0483,
           -0.0256,
           0.0499,
           0.0286,
           0.0275,
           0.0368,
           -0.0263,
           0.0282,
           0.0276,
           0.0454,
           0.0472,
           0.0494,
           0.031,
           0.0339,
           0.0262,
           0.0299,
           0.027,
           0.0489,
           0.0268,
           0.0429,
           0.0335,
           0.033,
           0.0396,
           0.0396,
           0.0293,
           -0.0255,
           0.0296,
           0.046520000000000006,
           0.03466666666666667,
           0.009733333333333333,
           -0.0255,
           0.037349999999999994,
           -0.01896666666666667,
           0.0498,
           0.0535,
           0.005050000000000001,
           0.03525,
           0.0396,
           0.0454,
           0.0275,
           0.052599999999999994,
           0.0499,
           0.043,
           0.0324,
           0.0349,
           0.0396,
           0.03052,
           0.043,
           0.0268,
           0.014884615384615383,
           0.03476,
           0.046174999999999994,
           0.03558571428571428,
           0.014783333333333334,
           0.038,
           0.02492857142857143
          ]
         },
         "name": "",
         "parents": [
          "Metabolism/Transporters",
          "Signaling/Hormones",
          "Gene Regulation/Open Reading Frames",
          "Cell Cycle and Proliferation/Cell Cycle Regulators",
          "Immune System Genes/Cell Surface Markers",
          "Cell Adhesion and Junctions/Cell Adhesion Molecules",
          "Cell Cycle and Proliferation/Cell Cycle Regulators",
          "Cell Adhesion and Junctions/Cell Adhesion Molecules",
          "Cytoskeletal Proteins/Actin-binding",
          "Cell Adhesion and Junctions/ECM Proteins",
          "Cell Adhesion and Junctions/Desmosomes and Junctions",
          "Gene Regulation/Transcription Factors",
          "Cell Adhesion and Junctions/Cell Adhesion Molecules",
          "Signaling/Growth Factors",
          "Signaling/Hormones",
          "Metabolism/Fatty Acid Synthesis",
          "Cell Adhesion and Junctions/ECM Proteins",
          "Gene Regulation/Forkhead Box Family",
          "Gene Regulation/Transcription Factors",
          "Immune System Genes/Cytokines",
          "Cell Adhesion and Junctions/Desmosomes and Junctions",
          "Gene Regulation/Transcription Factors",
          "Cytoskeletal Proteins/Keratin Family",
          "Cytoskeletal Proteins/Keratin Family",
          "Cell Adhesion and Junctions/Cell Adhesion Molecules",
          "Cell Adhesion and Junctions/ECM Proteins",
          "Cytoskeletal Proteins/Myosins",
          "Metabolism/Other Enzymes",
          "Signaling/JAK-STAT",
          "Cell Cycle and Proliferation/Proliferation Markers",
          "Signaling/Growth Factors",
          "Immune System Genes/Cell Surface Markers",
          "Immune System Genes/Cell Surface Markers",
          "Immune System Genes/Inflammatory Mediators",
          "Metabolism/Fatty Acid Synthesis",
          "Metabolism/Other Enzymes",
          "Metabolism/Other Enzymes",
          "Metabolism/Transporters",
          "Metabolism/Other Enzymes",
          "Metabolism/Other Enzymes",
          "Cell Adhesion and Junctions/ECM Proteins",
          "Cell Adhesion and Junctions/Cell Adhesion Molecules",
          "Signaling/Wnt/β-catenin",
          "Gene Regulation/Transcription Factors",
          "Cell Cycle and Proliferation/Cell Cycle Regulators",
          "Cell Cycle and Proliferation/Proliferation Markers",
          "Immune System Genes/Immune Regulation",
          "Signaling/TNF",
          "Metabolism/Other Enzymes",
          "Gene Regulation/Transcription Factors",
          "Cytoskeletal Proteins",
          "Cell Adhesion and Junctions",
          "Cell Cycle and Proliferation",
          "Immune System Genes",
          "Immune System Genes",
          "Cell Adhesion and Junctions",
          "Cell Adhesion and Junctions",
          "Metabolism",
          "Gene Regulation",
          "Signaling",
          "Signaling",
          "Immune System Genes",
          "Immune System Genes",
          "Signaling",
          "Cytoskeletal Proteins",
          "Cytoskeletal Proteins",
          "Gene Regulation",
          "Metabolism",
          "Cell Cycle and Proliferation",
          "Signaling",
          "Gene Regulation",
          "Metabolism",
          "Signaling",
          "",
          "",
          "",
          "",
          "",
          "",
          ""
         ],
         "textinfo": "label",
         "type": "sunburst",
         "values": [
          1,
          1,
          1,
          1,
          1,
          1,
          1,
          1,
          1,
          2,
          1,
          1,
          1,
          1,
          1,
          1,
          2,
          1,
          1,
          1,
          1,
          1,
          1,
          1,
          1,
          1,
          1,
          1,
          1,
          1,
          1,
          1,
          1,
          1,
          1,
          1,
          1,
          1,
          1,
          1,
          1,
          1,
          1,
          1,
          1,
          1,
          1,
          1,
          1,
          1,
          1,
          5,
          3,
          3,
          1,
          2,
          6,
          2,
          1,
          2,
          2,
          1,
          1,
          1,
          2,
          1,
          1,
          6,
          2,
          1,
          5,
          2,
          1,
          13,
          5,
          4,
          7,
          6,
          10,
          7
         ]
        }
       ],
       "layout": {
        "coloraxis": {
         "colorbar": {
          "tickvals": [
           -0.0319,
           0.0545
          ],
          "title": {
           "text": "Gene Importance Weight"
          }
         },
         "colorscale": [
          [
           0,
           "rgb(49,54,149)"
          ],
          [
           0.1,
           "rgb(69,117,180)"
          ],
          [
           0.2,
           "rgb(116,173,209)"
          ],
          [
           0.3,
           "rgb(171,217,233)"
          ],
          [
           0.4,
           "rgb(224,243,248)"
          ],
          [
           0.5,
           "rgb(255,255,191)"
          ],
          [
           0.6,
           "rgb(254,224,144)"
          ],
          [
           0.7,
           "rgb(253,174,97)"
          ],
          [
           0.8,
           "rgb(244,109,67)"
          ],
          [
           0.9,
           "rgb(215,48,39)"
          ],
          [
           1,
           "rgb(165,0,38)"
          ]
         ]
        },
        "height": 1000,
        "legend": {
         "tracegroupgap": 0
        },
        "margin": {
         "t": 60
        },
        "template": {
         "data": {
          "bar": [
           {
            "error_x": {
             "color": "#2a3f5f"
            },
            "error_y": {
             "color": "#2a3f5f"
            },
            "marker": {
             "line": {
              "color": "#E5ECF6",
              "width": 0.5
             },
             "pattern": {
              "fillmode": "overlay",
              "size": 10,
              "solidity": 0.2
             }
            },
            "type": "bar"
           }
          ],
          "barpolar": [
           {
            "marker": {
             "line": {
              "color": "#E5ECF6",
              "width": 0.5
             },
             "pattern": {
              "fillmode": "overlay",
              "size": 10,
              "solidity": 0.2
             }
            },
            "type": "barpolar"
           }
          ],
          "carpet": [
           {
            "aaxis": {
             "endlinecolor": "#2a3f5f",
             "gridcolor": "white",
             "linecolor": "white",
             "minorgridcolor": "white",
             "startlinecolor": "#2a3f5f"
            },
            "baxis": {
             "endlinecolor": "#2a3f5f",
             "gridcolor": "white",
             "linecolor": "white",
             "minorgridcolor": "white",
             "startlinecolor": "#2a3f5f"
            },
            "type": "carpet"
           }
          ],
          "choropleth": [
           {
            "colorbar": {
             "outlinewidth": 0,
             "ticks": ""
            },
            "type": "choropleth"
           }
          ],
          "contour": [
           {
            "colorbar": {
             "outlinewidth": 0,
             "ticks": ""
            },
            "colorscale": [
             [
              0,
              "#0d0887"
             ],
             [
              0.1111111111111111,
              "#46039f"
             ],
             [
              0.2222222222222222,
              "#7201a8"
             ],
             [
              0.3333333333333333,
              "#9c179e"
             ],
             [
              0.4444444444444444,
              "#bd3786"
             ],
             [
              0.5555555555555556,
              "#d8576b"
             ],
             [
              0.6666666666666666,
              "#ed7953"
             ],
             [
              0.7777777777777778,
              "#fb9f3a"
             ],
             [
              0.8888888888888888,
              "#fdca26"
             ],
             [
              1,
              "#f0f921"
             ]
            ],
            "type": "contour"
           }
          ],
          "contourcarpet": [
           {
            "colorbar": {
             "outlinewidth": 0,
             "ticks": ""
            },
            "type": "contourcarpet"
           }
          ],
          "heatmap": [
           {
            "colorbar": {
             "outlinewidth": 0,
             "ticks": ""
            },
            "colorscale": [
             [
              0,
              "#0d0887"
             ],
             [
              0.1111111111111111,
              "#46039f"
             ],
             [
              0.2222222222222222,
              "#7201a8"
             ],
             [
              0.3333333333333333,
              "#9c179e"
             ],
             [
              0.4444444444444444,
              "#bd3786"
             ],
             [
              0.5555555555555556,
              "#d8576b"
             ],
             [
              0.6666666666666666,
              "#ed7953"
             ],
             [
              0.7777777777777778,
              "#fb9f3a"
             ],
             [
              0.8888888888888888,
              "#fdca26"
             ],
             [
              1,
              "#f0f921"
             ]
            ],
            "type": "heatmap"
           }
          ],
          "heatmapgl": [
           {
            "colorbar": {
             "outlinewidth": 0,
             "ticks": ""
            },
            "colorscale": [
             [
              0,
              "#0d0887"
             ],
             [
              0.1111111111111111,
              "#46039f"
             ],
             [
              0.2222222222222222,
              "#7201a8"
             ],
             [
              0.3333333333333333,
              "#9c179e"
             ],
             [
              0.4444444444444444,
              "#bd3786"
             ],
             [
              0.5555555555555556,
              "#d8576b"
             ],
             [
              0.6666666666666666,
              "#ed7953"
             ],
             [
              0.7777777777777778,
              "#fb9f3a"
             ],
             [
              0.8888888888888888,
              "#fdca26"
             ],
             [
              1,
              "#f0f921"
             ]
            ],
            "type": "heatmapgl"
           }
          ],
          "histogram": [
           {
            "marker": {
             "pattern": {
              "fillmode": "overlay",
              "size": 10,
              "solidity": 0.2
             }
            },
            "type": "histogram"
           }
          ],
          "histogram2d": [
           {
            "colorbar": {
             "outlinewidth": 0,
             "ticks": ""
            },
            "colorscale": [
             [
              0,
              "#0d0887"
             ],
             [
              0.1111111111111111,
              "#46039f"
             ],
             [
              0.2222222222222222,
              "#7201a8"
             ],
             [
              0.3333333333333333,
              "#9c179e"
             ],
             [
              0.4444444444444444,
              "#bd3786"
             ],
             [
              0.5555555555555556,
              "#d8576b"
             ],
             [
              0.6666666666666666,
              "#ed7953"
             ],
             [
              0.7777777777777778,
              "#fb9f3a"
             ],
             [
              0.8888888888888888,
              "#fdca26"
             ],
             [
              1,
              "#f0f921"
             ]
            ],
            "type": "histogram2d"
           }
          ],
          "histogram2dcontour": [
           {
            "colorbar": {
             "outlinewidth": 0,
             "ticks": ""
            },
            "colorscale": [
             [
              0,
              "#0d0887"
             ],
             [
              0.1111111111111111,
              "#46039f"
             ],
             [
              0.2222222222222222,
              "#7201a8"
             ],
             [
              0.3333333333333333,
              "#9c179e"
             ],
             [
              0.4444444444444444,
              "#bd3786"
             ],
             [
              0.5555555555555556,
              "#d8576b"
             ],
             [
              0.6666666666666666,
              "#ed7953"
             ],
             [
              0.7777777777777778,
              "#fb9f3a"
             ],
             [
              0.8888888888888888,
              "#fdca26"
             ],
             [
              1,
              "#f0f921"
             ]
            ],
            "type": "histogram2dcontour"
           }
          ],
          "mesh3d": [
           {
            "colorbar": {
             "outlinewidth": 0,
             "ticks": ""
            },
            "type": "mesh3d"
           }
          ],
          "parcoords": [
           {
            "line": {
             "colorbar": {
              "outlinewidth": 0,
              "ticks": ""
             }
            },
            "type": "parcoords"
           }
          ],
          "pie": [
           {
            "automargin": true,
            "type": "pie"
           }
          ],
          "scatter": [
           {
            "fillpattern": {
             "fillmode": "overlay",
             "size": 10,
             "solidity": 0.2
            },
            "type": "scatter"
           }
          ],
          "scatter3d": [
           {
            "line": {
             "colorbar": {
              "outlinewidth": 0,
              "ticks": ""
             }
            },
            "marker": {
             "colorbar": {
              "outlinewidth": 0,
              "ticks": ""
             }
            },
            "type": "scatter3d"
           }
          ],
          "scattercarpet": [
           {
            "marker": {
             "colorbar": {
              "outlinewidth": 0,
              "ticks": ""
             }
            },
            "type": "scattercarpet"
           }
          ],
          "scattergeo": [
           {
            "marker": {
             "colorbar": {
              "outlinewidth": 0,
              "ticks": ""
             }
            },
            "type": "scattergeo"
           }
          ],
          "scattergl": [
           {
            "marker": {
             "colorbar": {
              "outlinewidth": 0,
              "ticks": ""
             }
            },
            "type": "scattergl"
           }
          ],
          "scattermapbox": [
           {
            "marker": {
             "colorbar": {
              "outlinewidth": 0,
              "ticks": ""
             }
            },
            "type": "scattermapbox"
           }
          ],
          "scatterpolar": [
           {
            "marker": {
             "colorbar": {
              "outlinewidth": 0,
              "ticks": ""
             }
            },
            "type": "scatterpolar"
           }
          ],
          "scatterpolargl": [
           {
            "marker": {
             "colorbar": {
              "outlinewidth": 0,
              "ticks": ""
             }
            },
            "type": "scatterpolargl"
           }
          ],
          "scatterternary": [
           {
            "marker": {
             "colorbar": {
              "outlinewidth": 0,
              "ticks": ""
             }
            },
            "type": "scatterternary"
           }
          ],
          "surface": [
           {
            "colorbar": {
             "outlinewidth": 0,
             "ticks": ""
            },
            "colorscale": [
             [
              0,
              "#0d0887"
             ],
             [
              0.1111111111111111,
              "#46039f"
             ],
             [
              0.2222222222222222,
              "#7201a8"
             ],
             [
              0.3333333333333333,
              "#9c179e"
             ],
             [
              0.4444444444444444,
              "#bd3786"
             ],
             [
              0.5555555555555556,
              "#d8576b"
             ],
             [
              0.6666666666666666,
              "#ed7953"
             ],
             [
              0.7777777777777778,
              "#fb9f3a"
             ],
             [
              0.8888888888888888,
              "#fdca26"
             ],
             [
              1,
              "#f0f921"
             ]
            ],
            "type": "surface"
           }
          ],
          "table": [
           {
            "cells": {
             "fill": {
              "color": "#EBF0F8"
             },
             "line": {
              "color": "white"
             }
            },
            "header": {
             "fill": {
              "color": "#C8D4E3"
             },
             "line": {
              "color": "white"
             }
            },
            "type": "table"
           }
          ]
         },
         "layout": {
          "annotationdefaults": {
           "arrowcolor": "#2a3f5f",
           "arrowhead": 0,
           "arrowwidth": 1
          },
          "autotypenumbers": "strict",
          "coloraxis": {
           "colorbar": {
            "outlinewidth": 0,
            "ticks": ""
           }
          },
          "colorscale": {
           "diverging": [
            [
             0,
             "#8e0152"
            ],
            [
             0.1,
             "#c51b7d"
            ],
            [
             0.2,
             "#de77ae"
            ],
            [
             0.3,
             "#f1b6da"
            ],
            [
             0.4,
             "#fde0ef"
            ],
            [
             0.5,
             "#f7f7f7"
            ],
            [
             0.6,
             "#e6f5d0"
            ],
            [
             0.7,
             "#b8e186"
            ],
            [
             0.8,
             "#7fbc41"
            ],
            [
             0.9,
             "#4d9221"
            ],
            [
             1,
             "#276419"
            ]
           ],
           "sequential": [
            [
             0,
             "#0d0887"
            ],
            [
             0.1111111111111111,
             "#46039f"
            ],
            [
             0.2222222222222222,
             "#7201a8"
            ],
            [
             0.3333333333333333,
             "#9c179e"
            ],
            [
             0.4444444444444444,
             "#bd3786"
            ],
            [
             0.5555555555555556,
             "#d8576b"
            ],
            [
             0.6666666666666666,
             "#ed7953"
            ],
            [
             0.7777777777777778,
             "#fb9f3a"
            ],
            [
             0.8888888888888888,
             "#fdca26"
            ],
            [
             1,
             "#f0f921"
            ]
           ],
           "sequentialminus": [
            [
             0,
             "#0d0887"
            ],
            [
             0.1111111111111111,
             "#46039f"
            ],
            [
             0.2222222222222222,
             "#7201a8"
            ],
            [
             0.3333333333333333,
             "#9c179e"
            ],
            [
             0.4444444444444444,
             "#bd3786"
            ],
            [
             0.5555555555555556,
             "#d8576b"
            ],
            [
             0.6666666666666666,
             "#ed7953"
            ],
            [
             0.7777777777777778,
             "#fb9f3a"
            ],
            [
             0.8888888888888888,
             "#fdca26"
            ],
            [
             1,
             "#f0f921"
            ]
           ]
          },
          "colorway": [
           "#636efa",
           "#EF553B",
           "#00cc96",
           "#ab63fa",
           "#FFA15A",
           "#19d3f3",
           "#FF6692",
           "#B6E880",
           "#FF97FF",
           "#FECB52"
          ],
          "font": {
           "color": "#2a3f5f"
          },
          "geo": {
           "bgcolor": "white",
           "lakecolor": "white",
           "landcolor": "#E5ECF6",
           "showlakes": true,
           "showland": true,
           "subunitcolor": "white"
          },
          "hoverlabel": {
           "align": "left"
          },
          "hovermode": "closest",
          "mapbox": {
           "style": "light"
          },
          "paper_bgcolor": "white",
          "plot_bgcolor": "#E5ECF6",
          "polar": {
           "angularaxis": {
            "gridcolor": "white",
            "linecolor": "white",
            "ticks": ""
           },
           "bgcolor": "#E5ECF6",
           "radialaxis": {
            "gridcolor": "white",
            "linecolor": "white",
            "ticks": ""
           }
          },
          "scene": {
           "xaxis": {
            "backgroundcolor": "#E5ECF6",
            "gridcolor": "white",
            "gridwidth": 2,
            "linecolor": "white",
            "showbackground": true,
            "ticks": "",
            "zerolinecolor": "white"
           },
           "yaxis": {
            "backgroundcolor": "#E5ECF6",
            "gridcolor": "white",
            "gridwidth": 2,
            "linecolor": "white",
            "showbackground": true,
            "ticks": "",
            "zerolinecolor": "white"
           },
           "zaxis": {
            "backgroundcolor": "#E5ECF6",
            "gridcolor": "white",
            "gridwidth": 2,
            "linecolor": "white",
            "showbackground": true,
            "ticks": "",
            "zerolinecolor": "white"
           }
          },
          "shapedefaults": {
           "line": {
            "color": "#2a3f5f"
           }
          },
          "ternary": {
           "aaxis": {
            "gridcolor": "white",
            "linecolor": "white",
            "ticks": ""
           },
           "baxis": {
            "gridcolor": "white",
            "linecolor": "white",
            "ticks": ""
           },
           "bgcolor": "#E5ECF6",
           "caxis": {
            "gridcolor": "white",
            "linecolor": "white",
            "ticks": ""
           }
          },
          "title": {
           "x": 0.05
          },
          "xaxis": {
           "automargin": true,
           "gridcolor": "white",
           "linecolor": "white",
           "ticks": "",
           "title": {
            "standoff": 15
           },
           "zerolinecolor": "white",
           "zerolinewidth": 2
          },
          "yaxis": {
           "automargin": true,
           "gridcolor": "white",
           "linecolor": "white",
           "ticks": "",
           "title": {
            "standoff": 15
           },
           "zerolinecolor": "white",
           "zerolinewidth": 2
          }
         }
        },
        "width": 1000
       }
      },
      "text/html": [
       "<div>                            <div id=\"2478b89f-2636-4bab-af1c-7be6012a77a1\" class=\"plotly-graph-div\" style=\"height:1000px; width:1000px;\"></div>            <script type=\"text/javascript\">                require([\"plotly\"], function(Plotly) {                    window.PLOTLYENV=window.PLOTLYENV || {};                                    if (document.getElementById(\"2478b89f-2636-4bab-af1c-7be6012a77a1\")) {                    Plotly.newPlot(                        \"2478b89f-2636-4bab-af1c-7be6012a77a1\",                        [{\"branchvalues\":\"total\",\"customdata\":[[0.0521],[0.0452],[0.043],[0.0345],[-0.0266],[0.0427],[0.036],[0.0382],[0.0296],[-0.0257],[0.0452],[0.053],[0.0545],[0.0364],[0.0253],[0.0524],[-0.0319],[0.0535],[0.0453],[-0.0255],[0.0295],[0.0369],[0.0525],[0.0527],[0.0483],[-0.0256],[0.0499],[0.0286],[0.0275],[0.0368],[-0.0263],[0.0282],[0.0276],[0.0454],[0.0472],[0.0494],[0.031],[0.0339],[0.0262],[0.0299],[0.027],[0.0489],[0.0268],[0.0429],[0.0335],[0.033],[0.0396],[0.0396],[0.0293],[-0.0255],[0.0296],[0.046520000000000006],[0.03466666666666667],[0.009733333333333333],[-0.0255],[0.037349999999999994],[-0.01896666666666667],[0.0498],[0.0535],[0.005050000000000001],[0.03525],[0.0396],[0.0454],[0.0275],[0.052599999999999994],[0.0499],[0.043],[0.0324],[0.0349],[0.0396],[0.03052],[0.043],[0.0268],[0.014884615384615383],[0.03476],[0.046174999999999994],[0.03558571428571428],[0.014783333333333334],[0.038],[0.02492857142857143]],\"domain\":{\"x\":[0.0,1.0],\"y\":[0.0,1.0]},\"hovertemplate\":\"labels=%{label}\\u003cbr\\u003ecount=%{value}\\u003cbr\\u003eparent=%{parent}\\u003cbr\\u003eid=%{id}\\u003cbr\\u003eGene Weight=%{color}\\u003cextra\\u003e\\u003c\\u002fextra\\u003e\",\"ids\":[\"Metabolism\\u002fTransporters\\u002fABCC11\",\"Signaling\\u002fHormones\\u002fAR\",\"Gene Regulation\\u002fOpen Reading Frames\\u002fC6orf132\",\"Cell Cycle and Proliferation\\u002fCell Cycle Regulators\\u002fCCND1\",\"Immune System Genes\\u002fCell Surface Markers\\u002fCD79A\",\"Cell Adhesion and Junctions\\u002fCell Adhesion Molecules\\u002fCEACAM8\",\"Cell Cycle and Proliferation\\u002fCell Cycle Regulators\\u002fCENPF\",\"Cell Adhesion and Junctions\\u002fCell Adhesion Molecules\\u002fCLDN4\",\"Cytoskeletal Proteins\\u002fActin-binding\\u002fCTTN\",\"Cell Adhesion and Junctions\\u002fECM Proteins\\u002fDPT\",\"Cell Adhesion and Junctions\\u002fDesmosomes and Junctions\\u002fDSP\",\"Gene Regulation\\u002fTranscription Factors\\u002fELF3\",\"Cell Adhesion and Junctions\\u002fCell Adhesion Molecules\\u002fEPCAM\",\"Signaling\\u002fGrowth Factors\\u002fERBB2\",\"Signaling\\u002fHormones\\u002fESR1\",\"Metabolism\\u002fFatty Acid Synthesis\\u002fFASN\",\"Cell Adhesion and Junctions\\u002fECM Proteins\\u002fFBLN1\",\"Gene Regulation\\u002fForkhead Box Family\\u002fFOXA1\",\"Gene Regulation\\u002fTranscription Factors\\u002fGATA3\",\"Immune System Genes\\u002fCytokines\\u002fIL7R\",\"Cell Adhesion and Junctions\\u002fDesmosomes and Junctions\\u002fJUP\",\"Gene Regulation\\u002fTranscription Factors\\u002fKLF5\",\"Cytoskeletal Proteins\\u002fKeratin Family\\u002fKRT7\",\"Cytoskeletal Proteins\\u002fKeratin Family\\u002fKRT8\",\"Cell Adhesion and Junctions\\u002fCell Adhesion Molecules\\u002fLYPD3\",\"Cell Adhesion and Junctions\\u002fECM Proteins\\u002fMEDAG\",\"Cytoskeletal Proteins\\u002fMyosins\\u002fMYO5B\",\"Metabolism\\u002fOther Enzymes\\u002fNARS\",\"Signaling\\u002fJAK-STAT\\u002fOCIAD2\",\"Cell Cycle and Proliferation\\u002fProliferation Markers\\u002fPCLAF\",\"Signaling\\u002fGrowth Factors\\u002fPDGFRA\",\"Immune System Genes\\u002fCell Surface Markers\\u002fRHOH\",\"Immune System Genes\\u002fCell Surface Markers\\u002fRTKN2\",\"Immune System Genes\\u002fInflammatory Mediators\\u002fS100A14\",\"Metabolism\\u002fFatty Acid Synthesis\\u002fSCD\",\"Metabolism\\u002fOther Enzymes\\u002fSERHL2\",\"Metabolism\\u002fOther Enzymes\\u002fSH3YL1\",\"Metabolism\\u002fTransporters\\u002fSLC5A6\",\"Metabolism\\u002fOther Enzymes\\u002fSMS\",\"Metabolism\\u002fOther Enzymes\\u002fSQLE\",\"Cell Adhesion and Junctions\\u002fECM Proteins\\u002fSTC1\",\"Cell Adhesion and Junctions\\u002fCell Adhesion Molecules\\u002fTACSTD2\",\"Signaling\\u002fWnt\\u002f\\u03b2-catenin\\u002fTCIM\",\"Gene Regulation\\u002fTranscription Factors\\u002fTFAP2A\",\"Cell Cycle and Proliferation\\u002fCell Cycle Regulators\\u002fTOP2A\",\"Cell Cycle and Proliferation\\u002fProliferation Markers\\u002fTPD52\",\"Immune System Genes\\u002fImmune Regulation\\u002fTRAF4\",\"Signaling\\u002fTNF\\u002fTRAF4\",\"Metabolism\\u002fOther Enzymes\\u002fUSP53\",\"Gene Regulation\\u002fTranscription Factors\\u002fZEB2\",\"Cytoskeletal Proteins\\u002fActin-binding\",\"Cell Adhesion and Junctions\\u002fCell Adhesion Molecules\",\"Cell Cycle and Proliferation\\u002fCell Cycle Regulators\",\"Immune System Genes\\u002fCell Surface Markers\",\"Immune System Genes\\u002fCytokines\",\"Cell Adhesion and Junctions\\u002fDesmosomes and Junctions\",\"Cell Adhesion and Junctions\\u002fECM Proteins\",\"Metabolism\\u002fFatty Acid Synthesis\",\"Gene Regulation\\u002fForkhead Box Family\",\"Signaling\\u002fGrowth Factors\",\"Signaling\\u002fHormones\",\"Immune System Genes\\u002fImmune Regulation\",\"Immune System Genes\\u002fInflammatory Mediators\",\"Signaling\\u002fJAK-STAT\",\"Cytoskeletal Proteins\\u002fKeratin Family\",\"Cytoskeletal Proteins\\u002fMyosins\",\"Gene Regulation\\u002fOpen Reading Frames\",\"Metabolism\\u002fOther Enzymes\",\"Cell Cycle and Proliferation\\u002fProliferation Markers\",\"Signaling\\u002fTNF\",\"Gene Regulation\\u002fTranscription Factors\",\"Metabolism\\u002fTransporters\",\"Signaling\\u002fWnt\\u002f\\u03b2-catenin\",\"Cell Adhesion and Junctions\",\"Cell Cycle and Proliferation\",\"Cytoskeletal Proteins\",\"Gene Regulation\",\"Immune System Genes\",\"Metabolism\",\"Signaling\"],\"labels\":[\"ABCC11\",\"AR\",\"C6orf132\",\"CCND1\",\"CD79A\",\"CEACAM8\",\"CENPF\",\"CLDN4\",\"CTTN\",\"DPT\",\"DSP\",\"ELF3\",\"EPCAM\",\"ERBB2\",\"ESR1\",\"FASN\",\"FBLN1\",\"FOXA1\",\"GATA3\",\"IL7R\",\"JUP\",\"KLF5\",\"KRT7\",\"KRT8\",\"LYPD3\",\"MEDAG\",\"MYO5B\",\"NARS\",\"OCIAD2\",\"PCLAF\",\"PDGFRA\",\"RHOH\",\"RTKN2\",\"S100A14\",\"SCD\",\"SERHL2\",\"SH3YL1\",\"SLC5A6\",\"SMS\",\"SQLE\",\"STC1\",\"TACSTD2\",\"TCIM\",\"TFAP2A\",\"TOP2A\",\"TPD52\",\"TRAF4\",\"TRAF4\",\"USP53\",\"ZEB2\",\"Actin-binding\",\"Cell Adhesion Molecules\",\"Cell Cycle Regulators\",\"Cell Surface Markers\",\"Cytokines\",\"Desmosomes and Junctions\",\"ECM Proteins\",\"Fatty Acid Synthesis\",\"Forkhead Box Family\",\"Growth Factors\",\"Hormones\",\"Immune Regulation\",\"Inflammatory Mediators\",\"JAK-STAT\",\"Keratin Family\",\"Myosins\",\"Open Reading Frames\",\"Other Enzymes\",\"Proliferation Markers\",\"TNF\",\"Transcription Factors\",\"Transporters\",\"Wnt\\u002f\\u03b2-catenin\",\"Cell Adhesion and Junctions\",\"Cell Cycle and Proliferation\",\"Cytoskeletal Proteins\",\"Gene Regulation\",\"Immune System Genes\",\"Metabolism\",\"Signaling\"],\"marker\":{\"coloraxis\":\"coloraxis\",\"colors\":[0.0521,0.0452,0.043,0.0345,-0.0266,0.0427,0.036,0.0382,0.0296,-0.0257,0.0452,0.053,0.0545,0.0364,0.0253,0.0524,-0.0319,0.0535,0.0453,-0.0255,0.0295,0.0369,0.0525,0.0527,0.0483,-0.0256,0.0499,0.0286,0.0275,0.0368,-0.0263,0.0282,0.0276,0.0454,0.0472,0.0494,0.031,0.0339,0.0262,0.0299,0.027,0.0489,0.0268,0.0429,0.0335,0.033,0.0396,0.0396,0.0293,-0.0255,0.0296,0.046520000000000006,0.03466666666666667,0.009733333333333333,-0.0255,0.037349999999999994,-0.01896666666666667,0.0498,0.0535,0.005050000000000001,0.03525,0.0396,0.0454,0.0275,0.052599999999999994,0.0499,0.043,0.0324,0.0349,0.0396,0.03052,0.043,0.0268,0.014884615384615383,0.03476,0.046174999999999994,0.03558571428571428,0.014783333333333334,0.038,0.02492857142857143]},\"name\":\"\",\"parents\":[\"Metabolism\\u002fTransporters\",\"Signaling\\u002fHormones\",\"Gene Regulation\\u002fOpen Reading Frames\",\"Cell Cycle and Proliferation\\u002fCell Cycle Regulators\",\"Immune System Genes\\u002fCell Surface Markers\",\"Cell Adhesion and Junctions\\u002fCell Adhesion Molecules\",\"Cell Cycle and Proliferation\\u002fCell Cycle Regulators\",\"Cell Adhesion and Junctions\\u002fCell Adhesion Molecules\",\"Cytoskeletal Proteins\\u002fActin-binding\",\"Cell Adhesion and Junctions\\u002fECM Proteins\",\"Cell Adhesion and Junctions\\u002fDesmosomes and Junctions\",\"Gene Regulation\\u002fTranscription Factors\",\"Cell Adhesion and Junctions\\u002fCell Adhesion Molecules\",\"Signaling\\u002fGrowth Factors\",\"Signaling\\u002fHormones\",\"Metabolism\\u002fFatty Acid Synthesis\",\"Cell Adhesion and Junctions\\u002fECM Proteins\",\"Gene Regulation\\u002fForkhead Box Family\",\"Gene Regulation\\u002fTranscription Factors\",\"Immune System Genes\\u002fCytokines\",\"Cell Adhesion and Junctions\\u002fDesmosomes and Junctions\",\"Gene Regulation\\u002fTranscription Factors\",\"Cytoskeletal Proteins\\u002fKeratin Family\",\"Cytoskeletal Proteins\\u002fKeratin Family\",\"Cell Adhesion and Junctions\\u002fCell Adhesion Molecules\",\"Cell Adhesion and Junctions\\u002fECM Proteins\",\"Cytoskeletal Proteins\\u002fMyosins\",\"Metabolism\\u002fOther Enzymes\",\"Signaling\\u002fJAK-STAT\",\"Cell Cycle and Proliferation\\u002fProliferation Markers\",\"Signaling\\u002fGrowth Factors\",\"Immune System Genes\\u002fCell Surface Markers\",\"Immune System Genes\\u002fCell Surface Markers\",\"Immune System Genes\\u002fInflammatory Mediators\",\"Metabolism\\u002fFatty Acid Synthesis\",\"Metabolism\\u002fOther Enzymes\",\"Metabolism\\u002fOther Enzymes\",\"Metabolism\\u002fTransporters\",\"Metabolism\\u002fOther Enzymes\",\"Metabolism\\u002fOther Enzymes\",\"Cell Adhesion and Junctions\\u002fECM Proteins\",\"Cell Adhesion and Junctions\\u002fCell Adhesion Molecules\",\"Signaling\\u002fWnt\\u002f\\u03b2-catenin\",\"Gene Regulation\\u002fTranscription Factors\",\"Cell Cycle and Proliferation\\u002fCell Cycle Regulators\",\"Cell Cycle and Proliferation\\u002fProliferation Markers\",\"Immune System Genes\\u002fImmune Regulation\",\"Signaling\\u002fTNF\",\"Metabolism\\u002fOther Enzymes\",\"Gene Regulation\\u002fTranscription Factors\",\"Cytoskeletal Proteins\",\"Cell Adhesion and Junctions\",\"Cell Cycle and Proliferation\",\"Immune System Genes\",\"Immune System Genes\",\"Cell Adhesion and Junctions\",\"Cell Adhesion and Junctions\",\"Metabolism\",\"Gene Regulation\",\"Signaling\",\"Signaling\",\"Immune System Genes\",\"Immune System Genes\",\"Signaling\",\"Cytoskeletal Proteins\",\"Cytoskeletal Proteins\",\"Gene Regulation\",\"Metabolism\",\"Cell Cycle and Proliferation\",\"Signaling\",\"Gene Regulation\",\"Metabolism\",\"Signaling\",\"\",\"\",\"\",\"\",\"\",\"\",\"\"],\"values\":[1,1,1,1,1,1,1,1,1,2,1,1,1,1,1,1,2,1,1,1,1,1,1,1,1,1,1,1,1,1,1,1,1,1,1,1,1,1,1,1,1,1,1,1,1,1,1,1,1,1,1,5,3,3,1,2,6,2,1,2,2,1,1,1,2,1,1,6,2,1,5,2,1,13,5,4,7,6,10,7],\"type\":\"sunburst\",\"insidetextfont\":{\"size\":15},\"textinfo\":\"label\"}],                        {\"template\":{\"data\":{\"histogram2dcontour\":[{\"type\":\"histogram2dcontour\",\"colorbar\":{\"outlinewidth\":0,\"ticks\":\"\"},\"colorscale\":[[0.0,\"#0d0887\"],[0.1111111111111111,\"#46039f\"],[0.2222222222222222,\"#7201a8\"],[0.3333333333333333,\"#9c179e\"],[0.4444444444444444,\"#bd3786\"],[0.5555555555555556,\"#d8576b\"],[0.6666666666666666,\"#ed7953\"],[0.7777777777777778,\"#fb9f3a\"],[0.8888888888888888,\"#fdca26\"],[1.0,\"#f0f921\"]]}],\"choropleth\":[{\"type\":\"choropleth\",\"colorbar\":{\"outlinewidth\":0,\"ticks\":\"\"}}],\"histogram2d\":[{\"type\":\"histogram2d\",\"colorbar\":{\"outlinewidth\":0,\"ticks\":\"\"},\"colorscale\":[[0.0,\"#0d0887\"],[0.1111111111111111,\"#46039f\"],[0.2222222222222222,\"#7201a8\"],[0.3333333333333333,\"#9c179e\"],[0.4444444444444444,\"#bd3786\"],[0.5555555555555556,\"#d8576b\"],[0.6666666666666666,\"#ed7953\"],[0.7777777777777778,\"#fb9f3a\"],[0.8888888888888888,\"#fdca26\"],[1.0,\"#f0f921\"]]}],\"heatmap\":[{\"type\":\"heatmap\",\"colorbar\":{\"outlinewidth\":0,\"ticks\":\"\"},\"colorscale\":[[0.0,\"#0d0887\"],[0.1111111111111111,\"#46039f\"],[0.2222222222222222,\"#7201a8\"],[0.3333333333333333,\"#9c179e\"],[0.4444444444444444,\"#bd3786\"],[0.5555555555555556,\"#d8576b\"],[0.6666666666666666,\"#ed7953\"],[0.7777777777777778,\"#fb9f3a\"],[0.8888888888888888,\"#fdca26\"],[1.0,\"#f0f921\"]]}],\"heatmapgl\":[{\"type\":\"heatmapgl\",\"colorbar\":{\"outlinewidth\":0,\"ticks\":\"\"},\"colorscale\":[[0.0,\"#0d0887\"],[0.1111111111111111,\"#46039f\"],[0.2222222222222222,\"#7201a8\"],[0.3333333333333333,\"#9c179e\"],[0.4444444444444444,\"#bd3786\"],[0.5555555555555556,\"#d8576b\"],[0.6666666666666666,\"#ed7953\"],[0.7777777777777778,\"#fb9f3a\"],[0.8888888888888888,\"#fdca26\"],[1.0,\"#f0f921\"]]}],\"contourcarpet\":[{\"type\":\"contourcarpet\",\"colorbar\":{\"outlinewidth\":0,\"ticks\":\"\"}}],\"contour\":[{\"type\":\"contour\",\"colorbar\":{\"outlinewidth\":0,\"ticks\":\"\"},\"colorscale\":[[0.0,\"#0d0887\"],[0.1111111111111111,\"#46039f\"],[0.2222222222222222,\"#7201a8\"],[0.3333333333333333,\"#9c179e\"],[0.4444444444444444,\"#bd3786\"],[0.5555555555555556,\"#d8576b\"],[0.6666666666666666,\"#ed7953\"],[0.7777777777777778,\"#fb9f3a\"],[0.8888888888888888,\"#fdca26\"],[1.0,\"#f0f921\"]]}],\"surface\":[{\"type\":\"surface\",\"colorbar\":{\"outlinewidth\":0,\"ticks\":\"\"},\"colorscale\":[[0.0,\"#0d0887\"],[0.1111111111111111,\"#46039f\"],[0.2222222222222222,\"#7201a8\"],[0.3333333333333333,\"#9c179e\"],[0.4444444444444444,\"#bd3786\"],[0.5555555555555556,\"#d8576b\"],[0.6666666666666666,\"#ed7953\"],[0.7777777777777778,\"#fb9f3a\"],[0.8888888888888888,\"#fdca26\"],[1.0,\"#f0f921\"]]}],\"mesh3d\":[{\"type\":\"mesh3d\",\"colorbar\":{\"outlinewidth\":0,\"ticks\":\"\"}}],\"scatter\":[{\"fillpattern\":{\"fillmode\":\"overlay\",\"size\":10,\"solidity\":0.2},\"type\":\"scatter\"}],\"parcoords\":[{\"type\":\"parcoords\",\"line\":{\"colorbar\":{\"outlinewidth\":0,\"ticks\":\"\"}}}],\"scatterpolargl\":[{\"type\":\"scatterpolargl\",\"marker\":{\"colorbar\":{\"outlinewidth\":0,\"ticks\":\"\"}}}],\"bar\":[{\"error_x\":{\"color\":\"#2a3f5f\"},\"error_y\":{\"color\":\"#2a3f5f\"},\"marker\":{\"line\":{\"color\":\"#E5ECF6\",\"width\":0.5},\"pattern\":{\"fillmode\":\"overlay\",\"size\":10,\"solidity\":0.2}},\"type\":\"bar\"}],\"scattergeo\":[{\"type\":\"scattergeo\",\"marker\":{\"colorbar\":{\"outlinewidth\":0,\"ticks\":\"\"}}}],\"scatterpolar\":[{\"type\":\"scatterpolar\",\"marker\":{\"colorbar\":{\"outlinewidth\":0,\"ticks\":\"\"}}}],\"histogram\":[{\"marker\":{\"pattern\":{\"fillmode\":\"overlay\",\"size\":10,\"solidity\":0.2}},\"type\":\"histogram\"}],\"scattergl\":[{\"type\":\"scattergl\",\"marker\":{\"colorbar\":{\"outlinewidth\":0,\"ticks\":\"\"}}}],\"scatter3d\":[{\"type\":\"scatter3d\",\"line\":{\"colorbar\":{\"outlinewidth\":0,\"ticks\":\"\"}},\"marker\":{\"colorbar\":{\"outlinewidth\":0,\"ticks\":\"\"}}}],\"scattermapbox\":[{\"type\":\"scattermapbox\",\"marker\":{\"colorbar\":{\"outlinewidth\":0,\"ticks\":\"\"}}}],\"scatterternary\":[{\"type\":\"scatterternary\",\"marker\":{\"colorbar\":{\"outlinewidth\":0,\"ticks\":\"\"}}}],\"scattercarpet\":[{\"type\":\"scattercarpet\",\"marker\":{\"colorbar\":{\"outlinewidth\":0,\"ticks\":\"\"}}}],\"carpet\":[{\"aaxis\":{\"endlinecolor\":\"#2a3f5f\",\"gridcolor\":\"white\",\"linecolor\":\"white\",\"minorgridcolor\":\"white\",\"startlinecolor\":\"#2a3f5f\"},\"baxis\":{\"endlinecolor\":\"#2a3f5f\",\"gridcolor\":\"white\",\"linecolor\":\"white\",\"minorgridcolor\":\"white\",\"startlinecolor\":\"#2a3f5f\"},\"type\":\"carpet\"}],\"table\":[{\"cells\":{\"fill\":{\"color\":\"#EBF0F8\"},\"line\":{\"color\":\"white\"}},\"header\":{\"fill\":{\"color\":\"#C8D4E3\"},\"line\":{\"color\":\"white\"}},\"type\":\"table\"}],\"barpolar\":[{\"marker\":{\"line\":{\"color\":\"#E5ECF6\",\"width\":0.5},\"pattern\":{\"fillmode\":\"overlay\",\"size\":10,\"solidity\":0.2}},\"type\":\"barpolar\"}],\"pie\":[{\"automargin\":true,\"type\":\"pie\"}]},\"layout\":{\"autotypenumbers\":\"strict\",\"colorway\":[\"#636efa\",\"#EF553B\",\"#00cc96\",\"#ab63fa\",\"#FFA15A\",\"#19d3f3\",\"#FF6692\",\"#B6E880\",\"#FF97FF\",\"#FECB52\"],\"font\":{\"color\":\"#2a3f5f\"},\"hovermode\":\"closest\",\"hoverlabel\":{\"align\":\"left\"},\"paper_bgcolor\":\"white\",\"plot_bgcolor\":\"#E5ECF6\",\"polar\":{\"bgcolor\":\"#E5ECF6\",\"angularaxis\":{\"gridcolor\":\"white\",\"linecolor\":\"white\",\"ticks\":\"\"},\"radialaxis\":{\"gridcolor\":\"white\",\"linecolor\":\"white\",\"ticks\":\"\"}},\"ternary\":{\"bgcolor\":\"#E5ECF6\",\"aaxis\":{\"gridcolor\":\"white\",\"linecolor\":\"white\",\"ticks\":\"\"},\"baxis\":{\"gridcolor\":\"white\",\"linecolor\":\"white\",\"ticks\":\"\"},\"caxis\":{\"gridcolor\":\"white\",\"linecolor\":\"white\",\"ticks\":\"\"}},\"coloraxis\":{\"colorbar\":{\"outlinewidth\":0,\"ticks\":\"\"}},\"colorscale\":{\"sequential\":[[0.0,\"#0d0887\"],[0.1111111111111111,\"#46039f\"],[0.2222222222222222,\"#7201a8\"],[0.3333333333333333,\"#9c179e\"],[0.4444444444444444,\"#bd3786\"],[0.5555555555555556,\"#d8576b\"],[0.6666666666666666,\"#ed7953\"],[0.7777777777777778,\"#fb9f3a\"],[0.8888888888888888,\"#fdca26\"],[1.0,\"#f0f921\"]],\"sequentialminus\":[[0.0,\"#0d0887\"],[0.1111111111111111,\"#46039f\"],[0.2222222222222222,\"#7201a8\"],[0.3333333333333333,\"#9c179e\"],[0.4444444444444444,\"#bd3786\"],[0.5555555555555556,\"#d8576b\"],[0.6666666666666666,\"#ed7953\"],[0.7777777777777778,\"#fb9f3a\"],[0.8888888888888888,\"#fdca26\"],[1.0,\"#f0f921\"]],\"diverging\":[[0,\"#8e0152\"],[0.1,\"#c51b7d\"],[0.2,\"#de77ae\"],[0.3,\"#f1b6da\"],[0.4,\"#fde0ef\"],[0.5,\"#f7f7f7\"],[0.6,\"#e6f5d0\"],[0.7,\"#b8e186\"],[0.8,\"#7fbc41\"],[0.9,\"#4d9221\"],[1,\"#276419\"]]},\"xaxis\":{\"gridcolor\":\"white\",\"linecolor\":\"white\",\"ticks\":\"\",\"title\":{\"standoff\":15},\"zerolinecolor\":\"white\",\"automargin\":true,\"zerolinewidth\":2},\"yaxis\":{\"gridcolor\":\"white\",\"linecolor\":\"white\",\"ticks\":\"\",\"title\":{\"standoff\":15},\"zerolinecolor\":\"white\",\"automargin\":true,\"zerolinewidth\":2},\"scene\":{\"xaxis\":{\"backgroundcolor\":\"#E5ECF6\",\"gridcolor\":\"white\",\"linecolor\":\"white\",\"showbackground\":true,\"ticks\":\"\",\"zerolinecolor\":\"white\",\"gridwidth\":2},\"yaxis\":{\"backgroundcolor\":\"#E5ECF6\",\"gridcolor\":\"white\",\"linecolor\":\"white\",\"showbackground\":true,\"ticks\":\"\",\"zerolinecolor\":\"white\",\"gridwidth\":2},\"zaxis\":{\"backgroundcolor\":\"#E5ECF6\",\"gridcolor\":\"white\",\"linecolor\":\"white\",\"showbackground\":true,\"ticks\":\"\",\"zerolinecolor\":\"white\",\"gridwidth\":2}},\"shapedefaults\":{\"line\":{\"color\":\"#2a3f5f\"}},\"annotationdefaults\":{\"arrowcolor\":\"#2a3f5f\",\"arrowhead\":0,\"arrowwidth\":1},\"geo\":{\"bgcolor\":\"white\",\"landcolor\":\"#E5ECF6\",\"subunitcolor\":\"white\",\"showland\":true,\"showlakes\":true,\"lakecolor\":\"white\"},\"title\":{\"x\":0.05},\"mapbox\":{\"style\":\"light\"}}},\"coloraxis\":{\"colorbar\":{\"title\":{\"text\":\"Gene Importance Weight\"},\"tickvals\":[-0.0319,0.0545]},\"colorscale\":[[0.0,\"rgb(49,54,149)\"],[0.1,\"rgb(69,117,180)\"],[0.2,\"rgb(116,173,209)\"],[0.3,\"rgb(171,217,233)\"],[0.4,\"rgb(224,243,248)\"],[0.5,\"rgb(255,255,191)\"],[0.6,\"rgb(254,224,144)\"],[0.7,\"rgb(253,174,97)\"],[0.8,\"rgb(244,109,67)\"],[0.9,\"rgb(215,48,39)\"],[1.0,\"rgb(165,0,38)\"]]},\"legend\":{\"tracegroupgap\":0},\"margin\":{\"t\":60},\"width\":1000,\"height\":1000},                        {\"responsive\": true}                    ).then(function(){\n",
       "                            \n",
       "var gd = document.getElementById('2478b89f-2636-4bab-af1c-7be6012a77a1');\n",
       "var x = new MutationObserver(function (mutations, observer) {{\n",
       "        var display = window.getComputedStyle(gd).display;\n",
       "        if (!display || display === 'none') {{\n",
       "            console.log([gd, 'removed!']);\n",
       "            Plotly.purge(gd);\n",
       "            observer.disconnect();\n",
       "        }}\n",
       "}});\n",
       "\n",
       "// Listen for the removal of the full notebook cells\n",
       "var notebookContainer = gd.closest('#notebook-container');\n",
       "if (notebookContainer) {{\n",
       "    x.observe(notebookContainer, {childList: true});\n",
       "}}\n",
       "\n",
       "// Listen for the clearing of the current output cell\n",
       "var outputEl = gd.closest('.output');\n",
       "if (outputEl) {{\n",
       "    x.observe(outputEl, {childList: true});\n",
       "}}\n",
       "\n",
       "                        })                };                });            </script>        </div>"
      ]
     },
     "metadata": {},
     "output_type": "display_data"
    }
   ],
   "source": [
    "fig = px.sunburst(df, \n",
    "                  path=['Category', 'Subcategory', 'Gene'], \n",
    "                  color='Gene Weight',\n",
    "                  color_continuous_scale='RdYlBu_r')\n",
    "\n",
    "fig.update_layout(coloraxis_colorbar=dict(\n",
    "    title=\"Gene Importance Weight\",\n",
    "    tickvals=[min(df['Gene Weight']), max(df['Gene Weight'])],\n",
    "))\n",
    "\n",
    "fig.update_layout(\n",
    "    width=1000,\n",
    "    height=1000\n",
    ")\n",
    "\n",
    "\n",
    "fig.update_traces(\n",
    "    textinfo=\"label\",\n",
    "    insidetextfont=dict(size=15)\n",
    ")\n",
    "\n",
    "fig.show()\n",
    "\n",
    "fig.write_image(f'{fig_dir}/RdYlBu_r_add_on_86sunburst_plot.png', scale=3)"
   ]
  },
  {
   "cell_type": "code",
   "execution_count": 45,
   "metadata": {},
   "outputs": [
    {
     "name": "stdout",
     "output_type": "stream",
     "text": [
      "scikit-misc==0.3.1\n",
      "Babel==2.14.0\n",
      "Brotli==1.1.0\n",
      "MarkupSafe==2.1.5\n",
      "PyQt5==5.15.10\n",
      "PyQt5-Qt5==5.15.2\n",
      "PyQt5-sip==12.13.0\n",
      "PySocks==1.7.1\n",
      "PyYAML==6.0.1\n",
      "Send2Trash==1.8.3\n",
      "anndata==0.10.5.post1\n",
      "anyio==4.3.0\n",
      "archspec==0.2.3\n",
      "argon2-cffi==23.1.0\n",
      "argon2-cffi-bindings==21.2.0\n",
      "array-api-compat==1.6\n",
      "arrow==1.3.0\n",
      "asttokens==2.4.1\n",
      "async-lru==2.0.4\n",
      "attrs==23.2.0\n",
      "beautifulsoup4==4.12.3\n",
      "bleach==6.1.0\n",
      "boltons==24.0.0\n",
      "cached-property==1.5.2\n",
      "certifi==2024.6.2\n",
      "cffi==1.16.0\n",
      "chardet==5.2.0\n",
      "charset-normalizer==3.3.2\n",
      "click==8.1.7\n",
      "colorama==0.4.6\n",
      "comm==0.2.2\n",
      "conda==24.5.0\n",
      "conda-build==24.5.1\n",
      "conda-index==0.5.0\n",
      "conda-libmamba-solver==24.1.0\n",
      "conda-package-handling==2.3.0\n",
      "conda-package-streaming==0.10.0\n",
      "contourpy==1.2.1\n",
      "cycler==0.12.1\n",
      "debugpy==1.8.1\n",
      "decorator==5.1.1\n",
      "defusedxml==0.7.1\n",
      "distro==1.9.0\n",
      "entrypoints==0.4\n",
      "ete3==3.1.3\n",
      "exceptiongroup==1.2.0\n",
      "executing==2.0.1\n",
      "faiss-gpu==1.7.2\n",
      "fastjsonschema==2.19.1\n",
      "filelock==3.15.1\n",
      "fonttools==4.51.0\n",
      "fqdn==1.5.1\n",
      "frozendict==2.4.4\n",
      "get-annotations==0.1.2\n",
      "h11==0.14.0\n",
      "h2==4.1.0\n",
      "h5py==3.11.0\n",
      "hpack==4.0.0\n",
      "httpcore==1.0.5\n",
      "httpx==0.27.0\n",
      "hyperframe==6.0.1\n",
      "idna==3.7\n",
      "igraph==0.11.5\n",
      "importlib-metadata==7.1.0\n",
      "importlib-resources==6.4.0\n",
      "ipykernel==6.29.3\n",
      "ipython==8.24.0\n",
      "isoduration==20.11.0\n",
      "jedi==0.19.1\n",
      "jinja2==3.1.4\n",
      "joblib==1.4.2\n",
      "json5==0.9.25\n",
      "jsonpatch==1.33\n",
      "jsonpointer==2.4\n",
      "jsonschema==4.22.0\n",
      "jsonschema-specifications==2023.12.1\n",
      "jupyter-client==8.6.1\n",
      "jupyter-core==5.7.2\n",
      "jupyter-events==0.10.0\n",
      "jupyter-lsp==2.2.5\n",
      "jupyter-server==2.14.0\n",
      "jupyter-server-terminals==0.5.3\n",
      "jupyterlab==4.1.8\n",
      "jupyterlab-pygments==0.3.0\n",
      "jupyterlab-server==2.27.1\n",
      "kaleido==0.2.1\n",
      "kiwisolver==1.4.5\n",
      "legacy-api-wrap==1.4\n",
      "libarchive-c==5.1\n",
      "libmambapy==1.5.8\n",
      "lief==0.14.1\n",
      "llvmlite==0.38.1\n",
      "matplotlib==3.8.4\n",
      "matplotlib-inline==0.1.7\n",
      "menuinst==2.1.1\n",
      "mistune==3.0.2\n",
      "more-itertools==10.3.0\n",
      "munkres==1.1.4\n",
      "natsort==8.4.0\n",
      "nbclient==0.10.0\n",
      "nbconvert==7.16.4\n",
      "nbformat==5.10.4\n",
      "nest-asyncio==1.6.0\n",
      "networkx==3.3\n",
      "ninja==1.11.1.1\n",
      "notebook==7.1.3\n",
      "notebook-shim==0.2.4\n",
      "numba==0.55.2\n",
      "numpy==1.22.4\n",
      "overrides==7.7.0\n",
      "packaging==24.0\n",
      "pandas==2.2.2\n",
      "pandocfilters==1.5.0\n",
      "parso==0.8.4\n",
      "patsy==0.5.6\n",
      "pexpect==4.9.0\n",
      "pickleshare==0.7.5\n",
      "pillow==10.3.0\n",
      "pip==24.0\n",
      "pkginfo==1.11.1\n",
      "pkgutil-resolve-name==1.3.10\n",
      "platformdirs==4.2.1\n",
      "plotly==5.22.0\n",
      "pluggy==1.5.0\n",
      "prometheus-client==0.20.0\n",
      "prompt-toolkit==3.0.42\n",
      "psutil==5.9.8\n",
      "ptyprocess==0.7.0\n",
      "pure-eval==0.2.2\n",
      "pySankey==0.0.1\n",
      "pySankeyBeta==1.4.1\n",
      "pycosat==0.6.6\n",
      "pycparser==2.22\n",
      "pygments==2.18.0\n",
      "pynndescent==0.5.12\n",
      "pyparsing==3.1.2\n",
      "python-dateutil==2.9.0\n",
      "python-json-logger==2.0.7\n",
      "pytz==2024.1\n",
      "pyzmq==26.0.3\n",
      "referencing==0.35.1\n",
      "requests==2.31.0\n",
      "rfc3339-validator==0.1.4\n",
      "rfc3986-validator==0.1.1\n",
      "rpds-py==0.18.1\n",
      "ruamel.yaml==0.18.6\n",
      "ruamel.yaml.clib==0.2.8\n",
      "scanpy==1.9.8\n",
      "scikit-learn==1.4.2\n",
      "scipy==1.13.0\n",
      "seaborn==0.13.2\n",
      "session-info==1.0.0\n",
      "setuptools==70.0.0\n",
      "six==1.16.0\n",
      "sniffio==1.3.1\n",
      "soupsieve==2.5\n",
      "stack-data==0.6.2\n",
      "statsmodels==0.14.1\n",
      "stdlib-list==0.10.0\n",
      "tenacity==8.3.0\n",
      "terminado==0.18.1\n",
      "texttable==1.7.0\n",
      "threadpoolctl==3.5.0\n",
      "tinycss2==1.3.0\n",
      "tomli==2.0.1\n",
      "tornado==6.4\n",
      "tqdm==4.66.4\n",
      "traitlets==5.14.3\n",
      "truststore==0.8.0\n",
      "types-python-dateutil==2.9.0.20240316\n",
      "typing-extensions==4.11.0\n",
      "typing-utils==0.1.0\n",
      "tzdata==2024.1\n",
      "umap-learn==0.5.5\n",
      "unicodedata2==15.1.0\n",
      "uri-template==1.3.0\n",
      "urllib3==2.2.1\n",
      "wcwidth==0.2.13\n",
      "webcolors==1.13\n",
      "webencodings==0.5.1\n",
      "websocket-client==1.8.0\n",
      "wheel==0.43.0\n",
      "zipp==3.17.0\n",
      "zstandard==0.19.0\n",
      "torchph==0.0.0\n"
     ]
    }
   ],
   "source": [
    "import pkg_resources\n",
    "\n",
    "for dist in pkg_resources.working_set:\n",
    "    print(f\"{dist.project_name}=={dist.version}\")"
   ]
  }
 ],
 "metadata": {
  "kernelspec": {
   "display_name": "Python (pathway_motifs_env)",
   "language": "python",
   "name": "pathway_motifs_env"
  },
  "language_info": {
   "codemirror_mode": {
    "name": "ipython",
    "version": 3
   },
   "file_extension": ".py",
   "mimetype": "text/x-python",
   "name": "python",
   "nbconvert_exporter": "python",
   "pygments_lexer": "ipython3",
   "version": "3.10.14"
  }
 },
 "nbformat": 4,
 "nbformat_minor": 2
}
