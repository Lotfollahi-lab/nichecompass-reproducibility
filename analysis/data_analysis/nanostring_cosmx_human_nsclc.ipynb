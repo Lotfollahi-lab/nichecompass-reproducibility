{
 "cells": [
  {
   "cell_type": "markdown",
   "id": "992dc6ee-ffc4-4d15-a364-486eaa5f6edc",
   "metadata": {},
   "source": [
    "# NanoString CosMx Human NSCLC"
   ]
  },
  {
   "cell_type": "markdown",
   "id": "c325d921-2077-42b3-90a8-6f6c7dd928c5",
   "metadata": {},
   "source": [
    "- **Creator**: Irene Bonafonte Pardas (<irene.bonafonte@gmail.com>)\n",
    "- **Date of Creation:** 21.11.2023\n",
    "- **Date of Last Modification:** 30.12.2024 (Sebastian Birk; <sebastian.birk@helmholtz-munich.de>)"
   ]
  },
  {
   "cell_type": "markdown",
   "id": "8f6bd6fb-6697-43bd-b3ec-68b061afe511",
   "metadata": {},
   "source": [
    "- In order to run this notebook, a trained model needs to be stored under ```../artifacts/{dataset}/models/{model_label}/{load_timestamp}```\n",
    "    - dataset: ```nanostring_cosmx_human_nsclc```\n",
    "    - model_label: ```reference```, ```reference_query```\n",
    "    - load_timestamp: ```19102023_172844_43``` (reference), ```19102023_172844_43_3``` (reference_query), ```19102023_172844_43_8``` (reference_query)"
   ]
  },
  {
   "cell_type": "markdown",
   "id": "2d464ebf-354f-4f61-8040-c3dcbcc893b9",
   "metadata": {},
   "source": [
    "## 1. Setup"
   ]
  },
  {
   "cell_type": "markdown",
   "id": "d5631277-d8d2-4194-a376-280f4f149b7d",
   "metadata": {},
   "source": [
    "### 1.1 Import Libraries"
   ]
  },
  {
   "cell_type": "code",
   "execution_count": null,
   "id": "4e5d3297-0290-47c0-846f-705e74cdb3de",
   "metadata": {
    "tags": []
   },
   "outputs": [],
   "source": [
    "%load_ext autoreload\n",
    "%autoreload 2"
   ]
  },
  {
   "cell_type": "code",
   "execution_count": null,
   "id": "8dbd4925-7505-4d01-bf91-95b54bb8b533",
   "metadata": {
    "tags": []
   },
   "outputs": [],
   "source": [
    "import sys\n",
    "sys.path.append(\"../../utils\")"
   ]
  },
  {
   "cell_type": "code",
   "execution_count": null,
   "id": "b4aa3c6a-5a44-4cf1-84a3-5e514457cf3c",
   "metadata": {
    "tags": []
   },
   "outputs": [],
   "source": [
    "import gc\n",
    "import glob\n",
    "import os\n",
    "import shutil\n",
    "import warnings\n",
    "\n",
    "import altair as alt\n",
    "import matplotlib as mpl\n",
    "import matplotlib.pyplot as plt\n",
    "import numpy as np\n",
    "import pandas as pd\n",
    "import scanpy as sc\n",
    "import squidpy as sq\n",
    "import seaborn as sns\n",
    "from matplotlib import rcParams\n",
    "from matplotlib.colors import ListedColormap, to_rgb, to_hex\n",
    "from sklearn.metrics import silhouette_score\n",
    "from sklearn.neighbors import KNeighborsClassifier, NearestNeighbors\n",
    "\n",
    "from nichecompass.models import NicheCompass"
   ]
  },
  {
   "cell_type": "markdown",
   "id": "eeb8b324-ef18-4ab0-9ffb-8332d652458c",
   "metadata": {},
   "source": [
    "### 1.2 Define Parameters"
   ]
  },
  {
   "cell_type": "code",
   "execution_count": null,
   "id": "9325589b-a7e4-4c31-97e7-8b7048248896",
   "metadata": {},
   "outputs": [],
   "source": [
    "dataset = \"nanostring_cosmx_human_nsclc\""
   ]
  },
  {
   "cell_type": "markdown",
   "id": "10ac7b6d-4518-4356-bfdd-e141bf25d504",
   "metadata": {},
   "source": [
    "#### 1.2.1 Generic Parameters"
   ]
  },
  {
   "cell_type": "code",
   "execution_count": null,
   "id": "a4d4e6d9-239f-47c5-a30b-579b16d4c27c",
   "metadata": {
    "tags": []
   },
   "outputs": [],
   "source": [
    "## Model\n",
    "# AnnData keys\n",
    "gp_names_key = \"nichecompass_gp_names\"\n",
    "active_gp_names_key = \"nichecompass_active_gp_names\"\n",
    "latent_key = \"nichecompass_latent\""
   ]
  },
  {
   "cell_type": "markdown",
   "id": "8e7be323-bd40-4fa0-a2d5-b8ddf5cc1c51",
   "metadata": {},
   "source": [
    "#### 1.2.2 Dataset-specific Parameters"
   ]
  },
  {
   "cell_type": "code",
   "execution_count": null,
   "id": "01210b2f-017e-43f6-b650-5cc732252f8c",
   "metadata": {
    "tags": []
   },
   "outputs": [],
   "source": [
    "load_timestamps = [\"19102023_172844_43\",\n",
    "                   \"19102023_172844_43_3\",\n",
    "                   \"19102023_172844_43_8\"]\n",
    "model_labels = [\"reference\",\n",
    "                \"reference_query\",\n",
    "                \"reference_query\"]\n",
    "\n",
    "sample_key = \"batch\""
   ]
  },
  {
   "cell_type": "markdown",
   "id": "a6c3b7fa-fa59-43dd-81d2-7e116650915f",
   "metadata": {},
   "source": [
    "### 1.3 Run Notebook Setup"
   ]
  },
  {
   "cell_type": "code",
   "execution_count": null,
   "id": "1bf229ca-ab66-4e52-a31e-8655878d290d",
   "metadata": {
    "tags": []
   },
   "outputs": [],
   "source": [
    "sc.set_figure_params(figsize=(6, 6))\n",
    "sns.set_style(\"whitegrid\", {'axes.grid' : False})"
   ]
  },
  {
   "cell_type": "code",
   "execution_count": null,
   "id": "924032d4-24a4-45cf-87e1-0eba197da0c2",
   "metadata": {
    "tags": []
   },
   "outputs": [],
   "source": [
    "# Ignore future warnings and user warnings\n",
    "warnings.simplefilter(action=\"ignore\", category=FutureWarning)\n",
    "warnings.simplefilter(action=\"ignore\", category=UserWarning)\n",
    "warnings.simplefilter(action=\"ignore\", category=RuntimeWarning)"
   ]
  },
  {
   "cell_type": "code",
   "execution_count": null,
   "id": "4cb193fb-babf-4786-ad8a-7929f83cdd9f",
   "metadata": {},
   "outputs": [],
   "source": [
    "plt.rcParams['font.family'] = 'Helvetica'\n",
    "plt.rcParams['font.size'] = 5"
   ]
  },
  {
   "cell_type": "markdown",
   "id": "2b886225-6b6d-433c-b117-47b9a8f8091f",
   "metadata": {},
   "source": [
    "### 1.4 Configure Paths and Create Directories"
   ]
  },
  {
   "cell_type": "code",
   "execution_count": null,
   "id": "36675337-808d-40a9-93fc-d6cfa9473f66",
   "metadata": {
    "tags": []
   },
   "outputs": [],
   "source": [
    "# Define paths\n",
    "base_path = '/home/aih/sebastian.birk/workspace/projects/nichecompass-reproducibility'"
   ]
  },
  {
   "cell_type": "markdown",
   "id": "f6b48316-09f5-4d7f-9f4e-30b055d7ad43",
   "metadata": {},
   "source": [
    "### 1.5 Define Functions"
   ]
  },
  {
   "cell_type": "code",
   "execution_count": null,
   "id": "92c1cc3b-4be4-4b7b-85ea-ff4817683f2f",
   "metadata": {},
   "outputs": [],
   "source": [
    "def load_adata(load_timestamp, model_label='reference_query', dataset='nanostring_cosmx_human_nsclc'):\n",
    "    model_folder_path = f'{base_path}/artifacts/{dataset}/models/{model_label}/{load_timestamp}'\n",
    "    adata_path = f\"{model_folder_path}/{dataset}_{model_label}.h5ad\"\n",
    "    figure_folder_path = f'{base_path}/artifacts/{dataset}/figures/{model_label}/{load_timestamp}'\n",
    "    result_folder_path = f'{base_path}/artifacts/{dataset}/results/{model_label}/{load_timestamp}'\n",
    "    \n",
    "    adata = sc.read_h5ad(adata_path)\n",
    "\n",
    "    batch_colors = np.apply_along_axis(to_hex, 1, np.array(plt.get_cmap('tab20b').colors)[[0,1,3,5,8,11,13,17],:])\n",
    "    batch_colors = {b: c for b, c in zip(['lung5_rep1','lung5_rep2','lung5_rep3','lung6','lung9_rep1','lung9_rep2','lung12','lung13'], batch_colors)}\n",
    "    adata.uns['batch_colors'] = [batch_colors[b] for b in adata.obs.batch.unique()]\n",
    "    \n",
    "    os.makedirs(figure_folder_path, exist_ok=True)\n",
    "    os.makedirs(result_folder_path, exist_ok=True)\n",
    "    \n",
    "    return adata, adata_path, model_folder_path, figure_folder_path, result_folder_path"
   ]
  },
  {
   "cell_type": "code",
   "execution_count": null,
   "id": "9fe70451-7029-4747-b01c-e268dc112609",
   "metadata": {},
   "outputs": [],
   "source": [
    "def plot_cluster_proportions(cluster_props, \n",
    "                             cluster_palette=None,\n",
    "                             xlabel_rotation=0,\n",
    "                             figsize=(9,4),\n",
    "                             ax=None,\n",
    "                             figs=None): \n",
    "    if ax is None:\n",
    "        figs, ax = plt.subplots(figsize=figsize)\n",
    "        figs.patch.set_facecolor(\"white\")\n",
    "        figs.tight_layout()\n",
    "        \n",
    "    cmap = None\n",
    "    if cluster_palette is not None:\n",
    "        cmap = sns.palettes.blend_palette(\n",
    "            cluster_palette, \n",
    "            n_colors=len(cluster_palette), \n",
    "            as_cmap=True)    \n",
    "   \n",
    "    cluster_props.plot(\n",
    "        kind=\"bar\", \n",
    "        stacked=True, \n",
    "        ax=ax, \n",
    "        legend=None, \n",
    "        colormap=cmap\n",
    "    )\n",
    "    \n",
    "    ax.legend(bbox_to_anchor=(1.01, 1), frameon=False, title=\"Cluster\").remove()\n",
    "    ax.tick_params(axis=\"x\", rotation=xlabel_rotation, bottom=False)\n",
    "    ax.tick_params(axis=\"y\", rotation=90)\n",
    "    ax.set_xlabel('Niche', fontsize=20)\n",
    "    ax.set_ylabel(\"Proportion\", fontsize=20)\n",
    "    ax.tick_params(axis='both', which='major', labelsize=15)\n",
    "    ax.spines.left.set_bounds(0, 100)\n",
    "    ax.spines.right.set_visible(False)\n",
    "    ax.spines.bottom.set_visible(False)\n",
    "    ax.spines.top.set_visible(False)\n",
    "\n",
    "    return ax"
   ]
  },
  {
   "cell_type": "code",
   "execution_count": null,
   "id": "bd2dd033-a5b8-4eb7-ade0-75f82778eba1",
   "metadata": {},
   "outputs": [],
   "source": [
    "def plot_latent(adata, model='reference_query_mapping'):\n",
    "    \n",
    "    # plot umap and spatial with general characteristics\n",
    "    if model == 'reference_query_mapping':\n",
    "        query = adata.obs.batch[adata.obs.mapping_entity=='query'].unique()[0]\n",
    "        sc.pl.umap(adata, color=['mapping_entity','cell type', 'batch','niche'], ncols=4, wspace=0.5, size=0.5)\n",
    "        sc.pl.embedding(adata[adata.obs.batch==query], basis=\"spatial\", color=['cell type', 'niche'], ncols=2, wspace=0.5, size=1)\n",
    "        \n",
    "    elif model == 'reference':\n",
    "        sc.pl.umap(adata, color=['batch','cell type','niche'], ncols=3, wspace=0.5, size=0.5)\n",
    "\n",
    "    # plot clusters\n",
    "    cluster_res = adata.obs.columns[adata.obs.columns.str.contains('latent_leiden_')]\n",
    "    for cl in cluster_res:\n",
    "        if f'{cl}_colors' in adata.uns.keys():\n",
    "            del adata.uns[f'{cl}_colors']\n",
    "    sc.pl.umap(adata, color=cluster_res, ncols=4, wspace=0.5, size=0.5, palette=sc.pl.palettes.vega_20_scanpy)\n",
    "    \n",
    "    if model == 'reference_query_mapping':\n",
    "        sc.pl.embedding(adata[adata.obs.batch==query], basis=\"spatial\", color=cluster_res, ncols=4, wspace=0.5, size=1)    \n",
    "        \n",
    "    return"
   ]
  },
  {
   "cell_type": "code",
   "execution_count": null,
   "id": "4331e474-11e7-462a-afff-5383a99c0e51",
   "metadata": {},
   "outputs": [],
   "source": [
    "def res_details(adata, resolution=0.4, model='reference_query_mapping'):\n",
    "\n",
    "    # plot spatial for all samples\n",
    "    fig, axes = plt.subplots(nrows=2, ncols=4, figsize=(21, 6))\n",
    "    for i, batch in enumerate(adata.obs.batch.unique()):\n",
    "        if i < 4:\n",
    "            sc.pl.embedding(adata[adata.obs.batch==batch], basis=\"spatial\", color=f'latent_leiden_{resolution}', size=1, show=False, ax=axes[0,i], title=batch)\n",
    "        else:\n",
    "            sc.pl.embedding(adata[adata.obs.batch==batch], basis=\"spatial\", color=f'latent_leiden_{resolution}', size=1, show=False, ax=axes[1,i-4], title=batch)\n",
    "    plt.tight_layout()\n",
    "    plt.show()\n",
    "    \n",
    "    # plot proportions\n",
    "    figs, axes = plt.subplots(nrows=1, ncols=3, figsize=(18, 3))\n",
    "    plot_var = f'latent_leiden_{resolution}'\n",
    "    \n",
    "    for i, cluster_var in enumerate(['cell type', 'niche', 'batch']):\n",
    "        props = adata.obs.groupby([cluster_var, plot_var]).size().reset_index()\n",
    "        props = props.pivot(columns=plot_var, index=cluster_var).T\n",
    "        props.index = props.index.droplevel(0)\n",
    "        props.fillna(0, inplace=True)\n",
    "        props = props.div(props.sum(axis=1), axis=0)*100 \n",
    "        axes[i] = plot_cluster_proportions(props, xlabel_rotation=90, cluster_palette=adata.uns[f'{cluster_var}_colors'], figsize=(4,3), ax=axes[i], figs=figs)\n",
    "    figs.show()\n",
    "\n",
    "    return"
   ]
  },
  {
   "cell_type": "code",
   "execution_count": null,
   "id": "9a53d499-8671-4e11-a48b-ef2acd8aa719",
   "metadata": {},
   "outputs": [],
   "source": [
    "def colorFader(c1, c2='#FFFFFF', n=10, mix=0):\n",
    "    n+=1\n",
    "    c1=np.array(to_rgb(c1))\n",
    "    c2=np.array(to_rgb(c2))\n",
    "    colors=[]\n",
    "    for x in range(n+1):\n",
    "         colors.append(to_hex((1-x/n)*c1 + c2*x/n))\n",
    "    return colors[:-1]"
   ]
  },
  {
   "cell_type": "markdown",
   "id": "3e89b0a9-c4a6-44e2-aef2-e64cbd9500a6",
   "metadata": {},
   "source": [
    "## 2. Reference (43)"
   ]
  },
  {
   "cell_type": "markdown",
   "id": "0713b85c-d79d-4d53-abe4-cd4609ce7f88",
   "metadata": {},
   "source": [
    "### 2.1 Data/Model"
   ]
  },
  {
   "cell_type": "code",
   "execution_count": null,
   "id": "692dc06f-1a09-440b-b3ae-79d3ff278b85",
   "metadata": {},
   "outputs": [],
   "source": [
    "adata, \\\n",
    "adata_path, \\\n",
    "model_folder_path, \\\n",
    "figure_folder_path, \\\n",
    "result_folder_path = load_adata(load_timestamp=load_timestamps[0],\n",
    "                                model_label=model_labels[0])"
   ]
  },
  {
   "cell_type": "code",
   "execution_count": null,
   "id": "b4201874-97b3-42d5-a306-e821f4d3be6b",
   "metadata": {},
   "outputs": [],
   "source": [
    "latent_leiden_resolution = 0.45\n",
    "latent_cluster_key = f\"latent_leiden_{str(latent_leiden_resolution)}\""
   ]
  },
  {
   "cell_type": "raw",
   "id": "056caa99-180f-4594-8a7c-c37ec7b73a7e",
   "metadata": {},
   "source": [
    "# Compute latent Leiden clustering\n",
    "# (already stored in saved model)\n",
    "sc.tl.leiden(adata=adata,\n",
    "             resolution=latent_leiden_resolution,\n",
    "             key_added=latent_cluster_key,\n",
    "             neighbors_key=latent_key)"
   ]
  },
  {
   "cell_type": "markdown",
   "id": "7f662f73-455e-46c2-bc4b-ec25fb2f1d2b",
   "metadata": {},
   "source": [
    "### 2.2 Analysis"
   ]
  },
  {
   "cell_type": "code",
   "execution_count": null,
   "id": "02ddd954-1238-457f-b9f4-a8758c364c55",
   "metadata": {},
   "outputs": [],
   "source": [
    "# Merge super small cluster\n",
    "adata.obs.loc[(adata.obs['latent_leiden_0.45']=='12').values,'latent_leiden_0.45'] = '7'\n",
    "adata.obs['latent_leiden_0.45'] = adata.obs['latent_leiden_0.45'].cat.remove_unused_categories()"
   ]
  },
  {
   "cell_type": "code",
   "execution_count": null,
   "id": "239fb49b-b8d2-42aa-b691-94a64fe5853b",
   "metadata": {},
   "outputs": [],
   "source": [
    "plot_latent(adata, model='reference')"
   ]
  },
  {
   "cell_type": "code",
   "execution_count": null,
   "id": "da9c8fd4-f7c6-4e55-9e62-9c93bd13dea4",
   "metadata": {},
   "outputs": [],
   "source": [
    "res_details(adata, resolution=latent_leiden_resolution, model='reference')"
   ]
  },
  {
   "cell_type": "code",
   "execution_count": null,
   "id": "e17f9e2b-0e2f-4b21-9ded-e5ae14c3faba",
   "metadata": {},
   "outputs": [],
   "source": [
    "# Label niches\n",
    "leiden2niche = {\n",
    "    '0': '1- Tumor (stroma border)', '2': '2- Tumor interior', '5': '3- Tumor (neutrophil border)', '7': '4- Tumor interior', '11': '5- Infiltrated tumor',\n",
    "    '3': '6- Neutrophil expansion', '4': '7- Myeloid cells rich stroma', '1': '8- Stroma', '6': '9- Plasmablast rich stroma', '9': '10- Lymphoid rich stroma', '8': '11- Lymphoid aggregates', '10': '12- Macrophage rich stroma'\n",
    "}\n",
    "\n",
    "leiden2leiden = {'0': '1', '2': '2', '5': '3', '7': '4', '11': '5', '3': '6', '4': '7', '1': '8', '6': '9', '9': '10', '8': '11', '10': '12'}\n",
    "adata.obs['niche'] = adata.obs['latent_leiden_0.45'].map(leiden2niche)\n",
    "adata.obs['leidenOrd'] = adata.obs['latent_leiden_0.45'].map(leiden2leiden)"
   ]
  },
  {
   "cell_type": "code",
   "execution_count": null,
   "id": "7f899a23-eae2-4698-b0c3-e8f057f34894",
   "metadata": {},
   "outputs": [],
   "source": [
    "# Group niches\n",
    "if not 'cluster_grups' in adata.uns:\n",
    "    adata.uns['cluster_groups'] = {}\n",
    "    \n",
    "adata.uns['cluster_groups'][f\"latent_leiden_0.45\"] = {\n",
    "    'tumor_clusters': ['0', '2', '5', '7', '11'],\n",
    "    'stroma_clusters': ['3', '4', '1', '6', '9', '8', '10'],\n",
    "    'neutrophil_clusters': ['3', '4'],\n",
    "    'macrophage_clusters': ['10'],\n",
    "    'lymphoid_clusters': ['6', '9', '8']\n",
    "}\n",
    "\n",
    "adata.uns['cluster_groups'][f\"leidenOrd\"] = {\n",
    "    'tumor_clusters': ['1', '2', '3', '4', '5'],\n",
    "    'stroma_clusters': ['6', '7', '8', '9', '10', '11', '12'],\n",
    "    'neutrophil_clusters': ['6', '7'],\n",
    "    'macrophage_clusters': ['12'],\n",
    "    'lymphoid_clusters': ['9', '10', '11']\n",
    "}"
   ]
  },
  {
   "cell_type": "markdown",
   "id": "73f67b76-7079-4b6b-a97b-da34f48348ad",
   "metadata": {},
   "source": [
    "#### 2.2.1 Create Figures"
   ]
  },
  {
   "cell_type": "code",
   "execution_count": null,
   "id": "76d4ac8f-81ad-49ac-aa42-4d083ca1db6f",
   "metadata": {},
   "outputs": [],
   "source": [
    "### Extended Data Fig. 15a: Tissue niche hierarchy ###\n",
    "sc.tl.dendrogram(adata=adata,\n",
    "                 use_rep=\"nichecompass_latent\",\n",
    "                 n_pcs=adata.obsm['nichecompass_latent'].shape[1],\n",
    "                 groupby=\"niche\")\n",
    "fig, (ax) = plt.subplots(1, 1, figsize=(0.6, 1.5))\n",
    "sc.pl.dendrogram(\n",
    "    adata=adata,\n",
    "    groupby=\"niche\",\n",
    "    orientation=\"left\",\n",
    "    ax=ax,\n",
    "    save=\"_nichecompass_latent.svg\")\n",
    "plt.show()\n",
    "if os.path.exists(f\"{figure_folder_path}/dendrogram_nichecompass_latent.svg\"):\n",
    "    os.remove(f\"{figure_folder_path}/dendrogram_nichecompass_latent.svg\")\n",
    "shutil.move(f\"./figures/dendrogram_nichecompass_latent.svg\", figure_folder_path)\n",
    "shutil.rmtree(\"./figures/\")"
   ]
  },
  {
   "cell_type": "code",
   "execution_count": null,
   "id": "bfcdb39d-08d1-441f-b830-21fb087bfeae",
   "metadata": {},
   "outputs": [],
   "source": [
    "# Niche colors\n",
    "rcParams['figure.figsize'] = (4, 0.5)\n",
    "general=np.apply_along_axis(to_hex, 1, np.array(plt.get_cmap('Dark2').colors))\n",
    "a=np.outer(np.ones(len(general)),np.arange(0,1,0.01))   # pseudo image data\n",
    "plt.imshow(a,aspect='auto',cmap=plt.get_cmap('Dark2'),origin=\"lower\")\n",
    "rcParams['figure.figsize'] = (4, 3)\n",
    "\n",
    "# use dendogram order to define niche palette related to cell type\n",
    "general=np.apply_along_axis(to_hex, 1, np.array(plt.get_cmap('Dark2').colors))\n",
    "tumor=colorFader(general[2], c2='#FFFFFF', n=5, mix=0)\n",
    "lymphoid=general[4]\n",
    "myeloid=general[1]\n",
    "Blike=colorFader(general[0], c2='#FFFFFF', n=2, mix=0)\n",
    "neutrophil=colorFader(general[3], c2='#FFFFFF', n=2, mix=0)\n",
    "stroma=general[5]\n",
    "\n",
    "leiden_colDict = {\n",
    "    '0': tumor[0], '2': tumor[1], '5': tumor[2], '7': tumor[3], '11': tumor[4], \n",
    "    '3': neutrophil[0], '4': neutrophil[1], \n",
    "    '1': stroma, '6': Blike[0], '9': Blike[1], '8': lymphoid, '10': myeloid \n",
    "}\n",
    "adata.uns['latent_leiden_0.45_colors'] = [x for x in leiden_colDict.values()]\n",
    "adata.uns['leidenOrd_colors'] = [x for x in leiden_colDict.values()]\n",
    "adata.uns['niche_colors'] = [x for x in leiden_colDict.values()]"
   ]
  },
  {
   "cell_type": "code",
   "execution_count": null,
   "id": "b81bfa7d-a747-40aa-b236-f93f593875d6",
   "metadata": {},
   "outputs": [],
   "source": [
    "### Fig. 5a: Niches ###\n",
    "rcParams['figure.figsize'] = (8, 6)\n",
    "sc.pl.umap(adata,\n",
    "           color=['niche'],\n",
    "           ncols=1,\n",
    "           wspace=1,\n",
    "           size=2.5,\n",
    "           legend_fontsize='x-large',\n",
    "           show=False,\n",
    "           frameon=False,\n",
    "           title=[''])\n",
    "plt.savefig(f\"{figure_folder_path}/5_a.svg\", bbox_inches=\"tight\", format='svg')\n",
    "sc.pl.umap(adata, color=['leidenOrd'], ncols=1, wspace=1, size=2.5, legend_fontsize='x-large', show=False, frameon=False, title=[''], legend_loc='on data')\n",
    "plt.savefig(f\"{figure_folder_path}/5_a_num.svg\", bbox_inches=\"tight\", format='svg')\n",
    "rcParams['figure.figsize'] = (4, 3)"
   ]
  },
  {
   "cell_type": "code",
   "execution_count": null,
   "id": "af82da00-5b0d-4c97-b8d4-c1c75ccb0fca",
   "metadata": {},
   "outputs": [],
   "source": [
    "### Fig. 5b: Cell types ###\n",
    "rcParams['figure.figsize'] = (8, 6)\n",
    "sc.pl.umap(adata, color=['cell type'], ncols=1, wspace=1, size=2.5, legend_fontsize='x-large', show=False, frameon=False, title=[''])\n",
    "plt.savefig(f\"{figure_folder_path}/5_b.svg\", bbox_inches=\"tight\", format='svg')\n",
    "rcParams['figure.figsize'] = (4, 3)"
   ]
  },
  {
   "cell_type": "code",
   "execution_count": null,
   "id": "df2de409-c36c-4e0f-8811-73f545ca7b41",
   "metadata": {},
   "outputs": [],
   "source": [
    "### Fig. 5c: Data sources ###\n",
    "adata.obs['donor'] = adata.obs.batch.str.replace('_',' ')\n",
    "adata.obs['donor'] = adata.obs.donor.str.replace('lung','Donor ')\n",
    "adata.obs['donor'] = adata.obs.donor.str.replace('rep','r')\n",
    "adata.uns['donor_colors'] = adata.uns['batch_colors']\n",
    "\n",
    "rcParams['figure.figsize'] = (8, 6)\n",
    "sc.pl.umap(adata,\n",
    "           color=['donor'],\n",
    "           ncols=1,\n",
    "           wspace=1,\n",
    "           size=2.5,\n",
    "           legend_fontsize='x-large',\n",
    "           show=False,\n",
    "           frameon=False,\n",
    "           title=[''])\n",
    "plt.savefig(f\"{figure_folder_path}/5_c.svg\", bbox_inches=\"tight\", format='svg')\n",
    "rcParams['figure.figsize'] = (4, 3)"
   ]
  },
  {
   "cell_type": "code",
   "execution_count": null,
   "id": "015e960d-b61e-4c15-8c9d-b3c4f1c48700",
   "metadata": {},
   "outputs": [],
   "source": [
    "### Extended Data Fig. 15e ###\n",
    "n = adata.obs.batch.nunique()\n",
    "fig, axes = plt.subplots(nrows=2, ncols=n, figsize=(4*n,3*2))\n",
    "\n",
    "for i, batch in enumerate(adata.obs.batch.unique()):\n",
    "    ax = sc.pl.embedding(adata[adata.obs.batch==batch], basis=\"spatial\", color=['cell type'], size=6, legend_loc=None, frameon=False, title=[''], ax=axes[0,i], show=False)\n",
    "    ax = sc.pl.embedding(adata[adata.obs.batch==batch], basis=\"spatial\", color=['leidenOrd'], size=6, legend_loc=None, frameon=False, title=[''], ax=axes[1,i], show=False)\n",
    "\n",
    "fig.tight_layout()\n",
    "fig.subplots_adjust(wspace=0.01, hspace=0.01)\n",
    "plt.savefig(f\"{figure_folder_path}/e15_e.svg\", bbox_inches=\"tight\", format='svg')"
   ]
  },
  {
   "cell_type": "code",
   "execution_count": null,
   "id": "e3d0c447-79d1-45d9-9ebd-7e58ffd43259",
   "metadata": {},
   "outputs": [],
   "source": [
    "### Fig. 5d ###\n",
    "# add gp\n",
    "gp = 'CXCL1_ligand_receptor_GP'\n",
    "adata.obs[gp] = - adata.obsm['nichecompass_latent'][:,adata.uns['nichecompass_active_gp_names']==gp]\n",
    "\n",
    "rcParams['figure.figsize'] = (4, 3)\n",
    "batches = ['lung9_rep2','lung12']\n",
    "nr = len(batches)\n",
    "nc = 3\n",
    "fig, axes = plt.subplots(nrows=nr, ncols=nc, figsize=(4*nc,3*nr))\n",
    "for i, batch in enumerate(batches):\n",
    "    ax = sc.pl.embedding(adata[adata.obs.batch==batch], basis=\"spatial\", color=['cell type'], size=6, frameon=False, title=[''], ax=axes[i,1], show=False, legend_loc=None)\n",
    "    ax = sc.pl.embedding(adata[adata.obs.batch==batch], basis=\"spatial\", color=['niche'], size=6, frameon=False, title=[''], ax=axes[i,0], show=False, legend_loc=None, groups=['1- Tumor (stroma border)','3- Tumor (neutrophil border)','6- Neutrophil expansion'])\n",
    "    ax = sc.pl.embedding(adata[adata.obs.batch==batch], basis=\"spatial\", color=['CXCL1_ligand_receptor_GP'], size=10, frameon=False, title=[''], ax=axes[i,2], show=False, colorbar_loc=None, cmap='RdGy_r')\n",
    "    \n",
    "fig.tight_layout()\n",
    "fig.subplots_adjust(wspace=0.01, hspace=0.01)\n",
    "plt.savefig(f\"{figure_folder_path}/5d.svg\", bbox_inches=\"tight\", format='svg')"
   ]
  },
  {
   "cell_type": "code",
   "execution_count": null,
   "id": "bdd82bcd",
   "metadata": {},
   "outputs": [],
   "source": [
    "### Extended Data Fig. 18a ###\n",
    "rcParams['figure.figsize'] = (12, 3)\n",
    "sns.boxplot(data=adata.obs[(adata.obs.batch == 'lung9_rep2') & (adata.obs.leidenOrd.isin(['1','3']))], x='leidenOrd', y='CXCL1_ligand_receptor_GP', palette=adata.uns['leidenOrd_colors'], showfliers = False).set(title='')\n",
    "plt.ylim((-75, 100))\n",
    "plt.xticks(rotation=0)\n",
    "plt.xlabel(\"\", fontsize=17.5)\n",
    "plt.ylabel('CXCL1 LR GP', fontsize=17.5)\n",
    "plt.legend(frameon=False, loc='center left', bbox_to_anchor=(1, 0.7), fontsize=15)\n",
    "plt.tick_params(bottom=False, labelsize=17.5)\n",
    "sns.despine(offset=10, trim=True, bottom=True)\n",
    "rcParams['figure.figsize'] = (4, 3)\n",
    "plt.savefig(f\"{figure_folder_path}/s28_a.svg\", bbox_inches=\"tight\", format='svg')\n"
   ]
  },
  {
   "cell_type": "code",
   "execution_count": null,
   "id": "d5af7953-c102-4309-a507-d50829d16df0",
   "metadata": {},
   "outputs": [],
   "source": [
    "adata.obs[\"niche\"].unique().tolist()"
   ]
  },
  {
   "cell_type": "code",
   "execution_count": null,
   "id": "caa77718-8409-4b9a-84f4-b286d0876d0a",
   "metadata": {},
   "outputs": [],
   "source": [
    "### Fig. 5e1 ###\n",
    "batches = ['lung5_rep1','lung12']\n",
    "n = len(batches)\n",
    "fig, axes = plt.subplots(nrows=2, ncols=n, figsize=(4*n,3*2))\n",
    "for i, batch in enumerate(batches):\n",
    "    ax = sc.pl.embedding(adata[(adata.obs.batch==batch) & adata.obs.niche.isin(['9- Plasmablast rich stroma','11- Lymphoid aggregates', '6- Neutrophil expansion'])],\n",
    "                         basis=\"spatial\",\n",
    "                         color=['cell type'],\n",
    "                         size=6,\n",
    "                         frameon=False,\n",
    "                         title=[''],\n",
    "                         ax=axes[1,i],\n",
    "                         show=False,\n",
    "                         legend_loc=None)\n",
    "    ax = sc.pl.embedding(adata[adata.obs.batch==batch],\n",
    "                         basis=\"spatial\",\n",
    "                         color=['niche'],\n",
    "                         size=6,\n",
    "                         groups=['9- Plasmablast rich stroma','11- Lymphoid aggregates', '6- Neutrophil expansion'],\n",
    "                         frameon=False,\n",
    "                         title=[''],\n",
    "                         ax=axes[0,i],\n",
    "                         show=False,\n",
    "                         legend_loc=None)\n",
    "\n",
    "fig.tight_layout()\n",
    "fig.subplots_adjust(wspace=0.01, hspace=0.01)\n",
    "plt.savefig(f\"{figure_folder_path}/5_e1.svg\", bbox_inches=\"tight\", format='svg')"
   ]
  },
  {
   "cell_type": "code",
   "execution_count": null,
   "id": "fa847e7c-3977-4c49-b4bb-8128ee65c493",
   "metadata": {},
   "outputs": [],
   "source": [
    "### Fig. 5e2 ###\n",
    "batches = ['lung5_rep1','lung9_rep2']\n",
    "n = len(batches)\n",
    "fig, axes = plt.subplots(nrows=2, ncols=n, figsize=(4*n,3*2))\n",
    "for i, batch in enumerate(batches):\n",
    "    ax = sc.pl.embedding(adata[(adata.obs.batch==batch) & adata.obs.niche.isin(['6- Neutrophil expansion','7- Myeloid cells rich stroma'])],\n",
    "                         basis=\"spatial\",\n",
    "                         color=['cell type'],\n",
    "                         size=6,\n",
    "                         frameon=False,\n",
    "                         title=[''],\n",
    "                         ax=axes[1,i],\n",
    "                         show=False,\n",
    "                         legend_loc=None)\n",
    "    ax = sc.pl.embedding(adata[adata.obs.batch==batch],\n",
    "                         basis=\"spatial\",\n",
    "                         color=['niche'],\n",
    "                         size=6,\n",
    "                         groups=['6- Neutrophil expansion','7- Myeloid cells rich stroma'],\n",
    "                         frameon=False,\n",
    "                         title=[''],\n",
    "                         ax=axes[0,i],\n",
    "                         show=False,\n",
    "                         legend_loc=None)\n",
    "\n",
    "fig.tight_layout()\n",
    "fig.subplots_adjust(wspace=0.01, hspace=0.01)\n",
    "plt.savefig(f\"{figure_folder_path}/5_e2.svg\", bbox_inches=\"tight\", format='svg')"
   ]
  },
  {
   "cell_type": "code",
   "execution_count": null,
   "id": "eab90e17-8957-4ebd-9e15-4ff953729ff7",
   "metadata": {},
   "outputs": [],
   "source": [
    "### Extended Data Fig. 5c ###\n",
    "cluster_var = 'batch'\n",
    "plot_var = 'leidenOrd'\n",
    "props = adata.obs.groupby([cluster_var, plot_var]).size().reset_index()\n",
    "props = props.pivot(columns=plot_var, index=cluster_var).T\n",
    "props.index = props.index.droplevel(0)\n",
    "props.fillna(0, inplace=True)\n",
    "props = props.div(props.sum(axis=1), axis=0)*100 \n",
    "fig = plot_cluster_proportions(props,\n",
    "                               xlabel_rotation=90,\n",
    "                               cluster_palette=adata.uns[f'{cluster_var}_colors'],\n",
    "                               figsize=(8,3))\n",
    "plt.savefig(f\"{figure_folder_path}/e15_c.svg\", bbox_inches=\"tight\", format='svg')"
   ]
  },
  {
   "cell_type": "code",
   "execution_count": null,
   "id": "35abcddc-67bd-4e36-9302-cabaca7afeac",
   "metadata": {},
   "outputs": [],
   "source": [
    "### Extended Data Fig. 18b ###\n",
    "cluster_var = 'batch'\n",
    "plot_var = 'leidenOrd'\n",
    "props = adata[adata.obs.leidenOrd.isin(['3','5'])].obs.groupby([cluster_var, plot_var]).size().reset_index()\n",
    "props = props.pivot(columns=plot_var, index=cluster_var).T\n",
    "props.index = props.index.droplevel(0)\n",
    "props.fillna(0, inplace=True)\n",
    "props = props.div(props.sum(axis=1), axis=0)*100 \n",
    "fig = plot_cluster_proportions(props,\n",
    "                               xlabel_rotation=90,\n",
    "                               cluster_palette=adata.uns[f'{cluster_var}_colors'],\n",
    "                               figsize=(2,3))\n",
    "plt.savefig(f\"{figure_folder_path}/e18_b.svg\", bbox_inches=\"tight\", format='svg')"
   ]
  },
  {
   "cell_type": "code",
   "execution_count": null,
   "id": "7c194c14-dcd1-4997-993a-6ad87c464d4e",
   "metadata": {},
   "outputs": [],
   "source": [
    "### Extended Data Fig. 15d ###\n",
    "cluster_var = 'cell type'\n",
    "plot_var = 'leidenOrd'\n",
    "props = adata.obs.groupby([cluster_var, plot_var]).size().reset_index()\n",
    "props = props.pivot(columns=plot_var, index=cluster_var).T\n",
    "props.index = props.index.droplevel(0)\n",
    "props.fillna(0, inplace=True)\n",
    "props = props.div(props.sum(axis=1), axis=0)*100 \n",
    "fig = plot_cluster_proportions(props,\n",
    "                               xlabel_rotation=90,\n",
    "                               cluster_palette=adata.uns[f'{cluster_var}_colors'],\n",
    "                               figsize=(8,3))\n",
    "plt.savefig(f\"{figure_folder_path}/e15_d.svg\", bbox_inches=\"tight\", format='svg')"
   ]
  },
  {
   "cell_type": "code",
   "execution_count": null,
   "id": "f2d2c39d-864a-48ce-9ade-772e2899e752",
   "metadata": {},
   "outputs": [],
   "source": [
    "### Extended Data Fig. 5f ###\n",
    "rcParams['figure.figsize'] = (8, 12)\n",
    "adata_tumor_subset = adata[adata.obs['niche'].str.contains(\"umor\")]\n",
    "\n",
    "sc.tl.dendrogram(adata=adata_tumor_subset,\n",
    "                 use_rep=\"nichecompass_latent\",\n",
    "                 n_pcs=adata.obsm['nichecompass_latent'].shape[1],\n",
    "                 groupby=\"niche\")\n",
    "\n",
    "sc.tl.rank_genes_groups(adata_tumor_subset,\n",
    "                        'niche')\n",
    "sc.set_figure_params(fontsize=12, dpi=300)\n",
    "sc.pl.rank_genes_groups_dotplot(adata_tumor_subset, n_genes=5, show=False)\n",
    "plt.savefig(f\"{figure_folder_path}/e15_f.svg\", bbox_inches=\"tight\", format='svg')\n",
    "rcParams['figure.figsize'] = (4, 3)"
   ]
  },
  {
   "cell_type": "code",
   "execution_count": null,
   "id": "aa98e6dd-c720-4698-90b9-43337300efd9",
   "metadata": {},
   "outputs": [],
   "source": [
    "### Extended Data Fig. 16 ###\n",
    "# scale adata\n",
    "adata.layers[\"scaled\"] = sc.pp.scale(adata, copy=True).X\n",
    "\n",
    "# cell types markers\n",
    "markers = {\n",
    "    'B-cell': ['MS4A1', 'CD37', 'CD79A','CD19'],\n",
    "    'NK/T cell': ['CD2','IL7R','CD3G','CTLA4','CD69','GZMA','CD28','TIGIT'],\n",
    "    'endothelial': ['VWF','FLT1','CDH5','CLEC14A','RAMP2'],\n",
    "    'epithelial': ['CCL20','LAMP3','AQP3'],\n",
    "    'fibroblast': ['COL1A1','COL3A1','FN1'],\n",
    "    'mast': ['TPSB2', 'TPSAB1', 'CPA3'],\n",
    "    'DC/monocyte': ['CD163','CD74','HLA-DRB1','LYZ','FCGR3A','CD68','CD14'], # DC, monocyte, macrophage (SPP1 or not)    \n",
    "    'macrophage': ['MARCO', 'SPP1', 'C1QC', 'GPNMB'],\n",
    "    'neutrophil': ['CXCL8','CXCR1','CXCR2','IL1R2'],\n",
    "    'plasmablast': ['IGKC','IGHG1','JCHAIN','XBP1','MZB1', 'CD38'],\n",
    "}\n",
    "markers_list = [x for y in markers.values() for x in y]\n",
    "\n",
    "# cell types to highlight in each niche\n",
    "keep_niche = []\n",
    "niche_name = []\n",
    "for niche in adata.obs.niche.unique():\n",
    "    if not 'umor' in niche:\n",
    "        props = (adata[adata.obs.niche == niche].obs['cell type'].value_counts() / len(adata[adata.obs.niche == niche]))\n",
    "        keep = adata[adata.obs.niche == niche].obs['cell type'].value_counts()[(adata[adata.obs.niche == niche].obs['cell type'].value_counts() / len(adata[adata.obs.niche == niche])) > 0.1].index.values\n",
    "        keep_niche.append(keep.astype(str).tolist())\n",
    "        niche_name.append(niche)\n",
    "\n",
    "# set up grid\n",
    "TEXT_WIDTH = 6.7261  # in\n",
    "DPI = 360\n",
    "\n",
    "def set_font_size(font_size):\n",
    "    plt.rc('font', size=font_size)          # controls default text sizes\n",
    "    plt.rc('axes', titlesize=font_size)     # fontsize of the axes title\n",
    "    plt.rc('axes', labelsize=font_size)     # fontsize of the x and y labels\n",
    "    plt.rc('xtick', labelsize=font_size-2)    # fontsize of the tick labels\n",
    "    plt.rc('ytick', labelsize=font_size-2)    # fontsize of the tick labels\n",
    "    plt.rc('legend', fontsize=font_size-4, title_fontsize=font_size)    # legend fontsize\n",
    "    plt.rc('figure', titlesize=font_size)   # fontsize of the figure title\n",
    "    \n",
    "sns.set(context='paper', style='whitegrid')\n",
    "plt.rc('grid', linewidth=0.3)\n",
    "sns.set_palette('colorblind')\n",
    "sc.set_figure_params(vector_friendly=True, dpi_save=DPI)\n",
    "set_font_size(10)\n",
    "plt.rcParams['figure.constrained_layout.use'] = True\n",
    "\n",
    "\n",
    "fig = plt.figure(figsize=(TEXT_WIDTH, TEXT_WIDTH * 0.5), dpi=DPI)\n",
    "gridspecs = {}\n",
    "\n",
    "gridspecs[\"columns\"] = mpl.gridspec.GridSpec(\n",
    "    figure=fig,\n",
    "    nrows=1,\n",
    "    ncols=2,\n",
    "    height_ratios=[1],\n",
    "    width_ratios=[1, 4],\n",
    ")\n",
    "\n",
    "gridspecs['barplots'] = mpl.gridspec.GridSpecFromSubplotSpec(\n",
    "    subplot_spec=gridspecs[\"columns\"][0],\n",
    "    nrows=len(niche_name),\n",
    "    ncols=1,\n",
    "    height_ratios=[len(x) for x in keep_niche],\n",
    "    width_ratios=[1],\n",
    "    hspace=0.35,\n",
    ")\n",
    "gridspecs['heatmaps'] = mpl.gridspec.GridSpecFromSubplotSpec(\n",
    "    subplot_spec=gridspecs[\"columns\"][1],\n",
    "    nrows=len(niche_name),\n",
    "    ncols=1,\n",
    "    height_ratios=[len(x) for x in keep_niche],\n",
    "    width_ratios=[1],\n",
    "    hspace=0.35,\n",
    ")\n",
    "\n",
    "ax_barplots, ax_heatmaps = {}, {}\n",
    "for i in range(len(keep_niche)):\n",
    "    ax_barplots[i] = fig.add_subplot(gridspecs['barplots'][i])\n",
    "    ax_heatmaps[i] = fig.add_subplot(gridspecs['heatmaps'][i])\n",
    "\n",
    "\n",
    "# cell type proportion\n",
    "batch_col_dict = pd.Series({cell: color for cell, color in zip(adata.obs['cell type'].cat.categories, adata.uns['cell type_colors'])})\n",
    "for i, niche in enumerate(niche_name):\n",
    "    props = (adata[adata.obs.niche == niche].obs['cell type'].value_counts() / len(adata[adata.obs.niche == niche]))\n",
    "    props = pd.DataFrame({'cell type': keep_niche[i],'proportion': props[keep_niche[i]], 'color': batch_col_dict[keep_niche[i]]})\n",
    "    \n",
    "    sns.barplot(props, x='proportion', y='cell type', hue='proportion', ax=ax_barplots[i], dodge=False, palette='Blues' , width=0.8)\n",
    "    ax_barplots[i].legend().remove()\n",
    "    ax_barplots[i].tick_params(axis=\"x\", rotation=90, bottom=False)\n",
    "    ax_barplots[i].tick_params(axis=\"y\", rotation=0)\n",
    "    ax_barplots[i].set_xlabel('')\n",
    "    ax_barplots[i].set_ylabel('')\n",
    "    ax_barplots[i].tick_params(axis='both', which='major', labelsize=6)\n",
    "    ax_barplots[i].spines.left.set_visible(False)\n",
    "    ax_barplots[i].spines.right.set_visible(False)\n",
    "    ax_barplots[i].spines.bottom.set_visible(False)\n",
    "    ax_barplots[i].spines.top.set_visible(False)\n",
    "    ax_barplots[i].set_xlim(ax_barplots[i].get_xlim()[1], ax_barplots[i].get_xlim()[0])\n",
    "    ax_barplots[i].yaxis.set_label_position('right')\n",
    "    ax_barplots[i].yaxis.set_ticks_position('right')\n",
    "    ax_barplots[i].get_xaxis().set_visible(False)\n",
    "    ax_barplots[i].tick_params(axis='y', which='both',length=0)\n",
    "\n",
    "# cell type markers\n",
    "for i, niche in enumerate(niche_name):\n",
    "    adata_tmp = adata[(adata.obs.niche == niche) & adata.obs['cell type'].isin(keep_niche[i])]\n",
    "    data = pd.DataFrame(adata_tmp[:,markers_list].layers['scaled'], index=adata_tmp.obs_names, columns=markers_list)\n",
    "    data['cell type'] = adata_tmp.obs['cell type'].values\n",
    "    data = data.groupby('cell type').mean()\n",
    "    data = data.loc[keep_niche[i],:]\n",
    "    \n",
    "    ax_heatmaps[i] = sns.heatmap(data, cmap='RdBu_r', center=0, cbar=False, linewidth=0.1, linecolor='gray', square=False, xticklabels=False, yticklabels=False, ax=ax_heatmaps[i])        \n",
    "    # ax_heatmaps[i] = sns.heatmap(data, cmap='RdBu_r', center=0, cbar=False, linewidth=0.1, linecolor='gray', square=False, xticklabels=True, yticklabels=False, ax=ax_heatmaps[i]) # to get gene labels\n",
    "    ax_heatmaps[i].set_ylabel('')\n",
    "    ax_heatmaps[i].set_xlabel('')\n",
    "    ax_heatmaps[i].yaxis.set_label_position('right')\n",
    "    ax_heatmaps[i].patch.set_edgecolor('black')\n",
    "    ax_heatmaps[i].patch.set_linewidth(1)\n",
    "\n",
    "plt.savefig(f\"{figure_folder_path}/e16.svg\", bbox_inches=\"tight\", format='svg')"
   ]
  },
  {
   "cell_type": "code",
   "execution_count": null,
   "id": "9a098293-8477-4ece-a7cb-886296503a27",
   "metadata": {},
   "outputs": [],
   "source": [
    "### Extended Data Fig. 17 ###\n",
    "# compute n neighbours per cell type\n",
    "for n in [4, 25, 50]: \n",
    "    knn = {}\n",
    "    cell_counts = {}\n",
    "    for b in adata.obs.batch.unique():\n",
    "        adata_tmp = adata[adata.obs.batch==b]\n",
    "        celltypes = adata_tmp.obs['cell type'].astype(str).values.astype('<U22')\n",
    "        cellnames = adata_tmp.obs_names\n",
    "        \n",
    "        sq.gr.spatial_neighbors(adata_tmp,\n",
    "                                coord_type=\"generic\",\n",
    "                                spatial_key=\"spatial\",\n",
    "                                n_neighs=n)\n",
    "\n",
    "        # Make adjacency matrix symmetric\n",
    "        adata_tmp.obsp['spatial_connectivities'] = (\n",
    "            adata_tmp.obsp['spatial_connectivities'].maximum(\n",
    "                adata_tmp.obsp['spatial_connectivities'].T))\n",
    "        \n",
    "        boolean_connectivities = adata_tmp.obsp['spatial_connectivities'].A.astype(bool)\n",
    "\n",
    "        for i in range(len(cellnames)):\n",
    "            unique, counts = np.unique(celltypes[boolean_connectivities[i,:]], return_counts=True)\n",
    "            cell_counts[cellnames[i]] = dict(zip(unique, counts))\n",
    "\n",
    "    adata.obsm[f'k{n}_neighbours_celltype'] = pd.DataFrame(cell_counts).T.fillna(0)\n",
    "\n",
    "\n",
    "# Plot neighbor distribution in tumor niches\n",
    "for n in [4, 25, 50]: \n",
    "    # format for plotting and keep only those with an interesting number\n",
    "    leiden_col_key='leidenOrd'\n",
    "    dt = adata.obsm[f'k{n}_neighbours_celltype'].copy()\n",
    "    dt['leidenOrd'] = adata.obs[leiden_col_key].copy()\n",
    "    dt = dt[(adata.obs['cell type'] == 'tumor') & (adata.obs.niche.str.contains('umor'))]\n",
    "    # dt = dt.loc[dt[leiden_col_key]=='tumor']\n",
    "    dt[leiden_col_key] = dt[leiden_col_key].cat.remove_unused_categories()\n",
    "    dt = dt.reset_index()\n",
    "    dt = pd.melt(dt, id_vars=['index',leiden_col_key], value_name=f'n NN/{n}', var_name='cell type')\n",
    "    dt['cell type'] = pd.Categorical(dt['cell type'], categories=adata.obs['cell type'].cat.categories)\n",
    "\n",
    "    include = (dt.groupby(['cell type','leidenOrd'])[f'n NN/{n}'].mean().groupby(['cell type']).max() > n*0)\n",
    "    # include = (dt.groupby(['cell type',leiden_col_key])[f'n NN/{n}'].mean().groupby(['cell type']).max() > n*0.15) & (dt.groupby(['cell type',leiden_col_key])[f'n NN/{n}'].mean().groupby(['cell type']).max() < n*0.6)\n",
    "    rcParams['figure.figsize'] = (adata.obs[leiden_col_key].nunique()*2, 4)\n",
    "    dt = dt[dt['cell type'].isin(include[include].index.values)]\n",
    "    dt['cell type'] = dt['cell type'].cat.remove_unused_categories()\n",
    "\n",
    "    # plot\n",
    "    sns.boxplot(data=dt, x=leiden_col_key, y=f'n NN/{n}', hue='cell type', palette=adata.uns[f'cell type_colors'][include.values], showfliers = False).set(title='')\n",
    "    # plt.ylim((0, n))\n",
    "    plt.xticks(rotation=0)\n",
    "    plt.xlabel(\"\", fontsize=17.5)\n",
    "    plt.ylabel(f'neighborhood composition', fontsize=17.5)\n",
    "    plt.legend(frameon=False, loc='center left', bbox_to_anchor=(1, 0.7), fontsize=15)\n",
    "    plt.tick_params(bottom=False, labelsize=17.5)\n",
    "    sns.despine(offset=10, trim=True, bottom=True)\n",
    "    plt.savefig(f\"{figure_folder_path}/e17_k{n}.svg\", bbox_inches=\"tight\", format='svg')\n",
    "rcParams['figure.figsize'] = (4, 3)"
   ]
  },
  {
   "cell_type": "code",
   "execution_count": null,
   "id": "0bb0caac-1dc3-4f8b-902b-fad0efd92b0f",
   "metadata": {},
   "outputs": [],
   "source": [
    "### Extended Data Fig. 18c ###\n",
    "# Compute spatial neighbors only sample 12 for k=25\n",
    "leiden_col_key='leidenOrd'\n",
    "n=25\n",
    "\n",
    "# compute n neighbours per cell type\n",
    "knn = {}\n",
    "cell_counts = {}\n",
    "b = 'lung12'\n",
    "X = adata[adata.obs.batch==b].obsm['spatial']\n",
    "celltypes = adata[adata.obs.batch==b].obs['cell type'].astype(str).values.astype('<U22')   \n",
    "cellnames = adata[adata.obs.batch==b].obs_names\n",
    "\n",
    "knn[b] = NearestNeighbors(n_neighbors=n)\n",
    "knn[b].fit(X)\n",
    "knn[b] = knn[b].kneighbors(X, return_distance=False)    \n",
    "knn[b] = celltypes[knn[b]]\n",
    "\n",
    "for i in range(len(cellnames)):\n",
    "    unique, counts = np.unique(knn[b][i,:], return_counts=True)\n",
    "    cell_counts[cellnames[i]] = dict(zip(unique, counts))\n",
    "\n",
    "res = pd.DataFrame(cell_counts).T.fillna(0)\n",
    "res[leiden_col_key] = adata.obs.loc[res.index,leiden_col_key]\n",
    "\n",
    "structure='tumor_clusters'\n",
    "groups=adata.uns['cluster_groups'][leiden_col_key][structure]\n",
    "    \n",
    "# format for plotting and keep only those with an interesting number\n",
    "dt = res.copy()\n",
    "dt = dt.loc[dt[leiden_col_key].isin(['3','5']),:]\n",
    "dt[leiden_col_key] = dt[leiden_col_key].cat.remove_unused_categories()\n",
    "dt = dt.reset_index()\n",
    "dt = pd.melt(dt, id_vars=['index',leiden_col_key], value_name=f'n NN/{n}', var_name='cell type')\n",
    "dt['cell type'] = pd.Categorical(dt['cell type'], categories=adata.obs['cell type'].cat.categories)\n",
    "include = (dt.groupby(['cell type',leiden_col_key])[f'n NN/{n}'].mean().groupby(['cell type']).max() > n*0.05) & (dt.groupby(['cell type',leiden_col_key])[f'n NN/{n}'].mean().groupby(['cell type']).max() < n*0.6)\n",
    "dt = dt[dt['cell type'].isin(include[include].index.values)]\n",
    "dt['cell type'] = dt['cell type'].cat.remove_unused_categories()\n",
    "\n",
    "# plot\n",
    "rcParams['figure.figsize'] = (2*1.5, 4)\n",
    "sns.boxplot(data=dt, x=leiden_col_key, y=f'n NN/{n}', hue='cell type', palette=adata.uns[f'cell type_colors'][include.values], showfliers = False).set(title='')\n",
    "plt.ylim((0, 25))\n",
    "plt.xticks(rotation=0)\n",
    "plt.xlabel(\"\", fontsize=17.5)\n",
    "plt.ylabel(f'neighborhood composition', fontsize=17.5)\n",
    "plt.legend(frameon=False, loc='center left', bbox_to_anchor=(1, 0.7), fontsize=15)\n",
    "plt.tick_params(bottom=False, labelsize=17)\n",
    "sns.despine(offset=10, trim=True, bottom=True)\n",
    "plt.savefig(f\"{figure_folder_path}/e18_c.svg\", bbox_inches=\"tight\", format='svg')\n",
    "plt.show()\n",
    "rcParams['figure.figsize'] = (4, 3)"
   ]
  },
  {
   "cell_type": "markdown",
   "id": "f31c21c4-3215-4d80-8c15-d9fa83a474af",
   "metadata": {
    "tags": []
   },
   "source": [
    "## 3. Reference Query (43 + donor5 r3)"
   ]
  },
  {
   "cell_type": "markdown",
   "id": "b9f62670-04fc-4909-9db0-c4d8908dc87a",
   "metadata": {},
   "source": [
    "### 3.1 Data/Model"
   ]
  },
  {
   "cell_type": "code",
   "execution_count": null,
   "id": "4ae91c84-3b1f-4af5-a81c-53dc7a79da54",
   "metadata": {},
   "outputs": [],
   "source": [
    "adata, \\\n",
    "adata_path, \\\n",
    "model_folder_path, \\\n",
    "figure_folder_path, \\\n",
    "result_folder_path = load_adata(load_timestamp=load_timestamps[1],\n",
    "                                model_label=model_labels[1])"
   ]
  },
  {
   "cell_type": "markdown",
   "id": "c80bf042-ad0f-4379-adee-4332153a01e3",
   "metadata": {},
   "source": [
    "### 3.2 Analysis"
   ]
  },
  {
   "cell_type": "code",
   "execution_count": null,
   "id": "df4fca8f-37a8-4f88-895c-18495c9b174a",
   "metadata": {},
   "outputs": [],
   "source": [
    "plot_latent(adata, model='reference_query_mapping')"
   ]
  },
  {
   "cell_type": "code",
   "execution_count": null,
   "id": "dce6e832-edf8-4ba0-ae22-d9c191d0a450",
   "metadata": {},
   "outputs": [],
   "source": [
    "latent_leiden_resolution = 0.35\n",
    "res_details(adata, resolution=latent_leiden_resolution, model='reference_query_mapping')"
   ]
  },
  {
   "cell_type": "code",
   "execution_count": null,
   "id": "9947e29f-cb9c-4bcc-8789-655d3db03db8",
   "metadata": {},
   "outputs": [],
   "source": [
    "# set colors\n",
    "leiden2niche = {\n",
    "    '2': '1- Tumor (stroma border)', '4': '2- Tumor interior', '8': '3- Tumor (neutrophil border)', '5': '4- Tumor interior', '11': '5- Infiltrated tumor',\n",
    "    '7': '6- Neutrophil expansion', '6': '7- Myeloid cells rich stroma', '10': '8- Stroma', '1': '9- Plasmablast rich stroma', '9': '10- Plasmablast rich stroma', '3': '11- Lymphoid aggregates', '10': '12- Macrophage rich stroma'\n",
    "}\n",
    "\n",
    "adata.obs['niche'] = adata.obs['latent_leiden_0.35'].map(leiden2niche)\n",
    "\n",
    "general=np.apply_along_axis(to_hex, 1, np.array(plt.get_cmap('Dark2').colors))\n",
    "tumor=colorFader(general[2], c2='#FFFFFF', n=5, mix=0)\n",
    "lymphoid=general[4]\n",
    "myeloid=general[1]\n",
    "Blike=colorFader(general[0], c2='#FFFFFF', n=2, mix=0)\n",
    "neutrophil=colorFader(general[3], c2='#FFFFFF', n=2, mix=0)\n",
    "stroma=general[5]\n",
    "\n",
    "leiden_col = [tumor[0], tumor[1], tumor[2], tumor[3], tumor[4], neutrophil[0], neutrophil[1], stroma,  Blike[0],  Blike[1], lymphoid, myeloid]\n",
    "\n",
    "adata.uns['latent_leiden_0.35_colors'] = leiden_col\n",
    "adata.uns['niche_colors'] = leiden_col"
   ]
  },
  {
   "cell_type": "markdown",
   "id": "413db0fe-6e00-47d1-bf7d-6ba564a60bec",
   "metadata": {},
   "source": [
    "Compute integration metric"
   ]
  },
  {
   "cell_type": "code",
   "execution_count": null,
   "id": "8da76bf3-3a05-4cc8-b9c2-ba07d60da383",
   "metadata": {},
   "outputs": [],
   "source": [
    "nc_silouette = silhouette_score(X=adata[adata.obs.patient == 'Lung5'].obsm['nichecompass_latent'], labels=adata[adata.obs.patient == 'Lung5'].obs['mapping_entity'])\n",
    "print(nc_silouette)"
   ]
  },
  {
   "cell_type": "markdown",
   "id": "696b558f-7c9c-41ef-93e0-3e716de11cdf",
   "metadata": {},
   "source": [
    "#### 3.2.1 Create Figures"
   ]
  },
  {
   "cell_type": "code",
   "execution_count": null,
   "id": "4bd103cd-940f-46e7-a333-885e9134bc03",
   "metadata": {},
   "outputs": [],
   "source": [
    "### Extended Data Fig. 19b ###\n",
    "# sort batch colors\n",
    "adata.uns['batch_colors'] = list(np.array(adata.uns['batch_colors'])[[0,1,6,2,3,4,5]])\n",
    "sc.pl.umap(adata, color=['batch'], ncols=4, wspace=0.3, size=0.5)\n",
    "plt.savefig(f\"{figure_folder_path}/e19_b.svg\", bbox_inches=\"tight\", format='svg')\n",
    "sc.set_figure_params(fontsize=12, dpi=100, figsize=(4,3))"
   ]
  },
  {
   "cell_type": "markdown",
   "id": "98088a0c-06ed-4dd4-aaa3-b402cfe39c63",
   "metadata": {},
   "source": [
    "Label Transfer"
   ]
  },
  {
   "cell_type": "code",
   "execution_count": null,
   "id": "34ca53c5-9bbd-4acb-989e-8b63abc4ed8c",
   "metadata": {},
   "outputs": [],
   "source": [
    "# Get query active GPs to subset the reference on\n",
    "model =  NicheCompass.load(dir_path=f'{base_path}/artifacts/{dataset}/models/{model_labels[1]}/{load_timestamps[1]}/',\n",
    "                           adata=None,\n",
    "                           adata_file_name=f'{dataset}_{model_labels[1]}.h5ad',\n",
    "                           gp_names_key='nichecompass_gp_names')\n",
    "query_active_gps = model.get_active_gps()\n",
    "\n",
    "del model\n",
    "gc.collect()"
   ]
  },
  {
   "cell_type": "code",
   "execution_count": null,
   "id": "f7799832-4f48-464f-bffe-3ef788e44b3f",
   "metadata": {},
   "outputs": [],
   "source": [
    "# Load reference adata and pre-process labels\n",
    "adata_ref, adata_path, _, _, _ = load_adata(\n",
    "    load_timestamp=load_timestamps[0],\n",
    "    model_label=model_labels[0])\n",
    "\n",
    "leiden2niche = {\n",
    "    '0': '1- Tumor (stroma border)', '2': '2- Tumor interior', '5': '3- Tumor (neutrophil border)', '7': '4- Tumor interior', '11': '5- Infiltrated tumor',\n",
    "    '3': '6- Neutrophil expansion', '4': '7- Myeloid cells rich stroma', '1': '8- Stroma', '6': '9- Plasmablast rich stroma', '9': '10- Plasmablast rich stroma', '8': '11- Lymphoid aggregates', '10': '12- Macrophage rich stroma'\n",
    "}\n",
    "\n",
    "adata_ref.obs['niche'] = adata_ref.obs['latent_leiden_0.45'].map(leiden2niche)\n",
    "adata_ref.obs['niche_0.1'] = adata_ref.obs['latent_leiden_0.1'].map({'0':'lymphoid stroma', '1':'tumor 9,12', '2': 'myeloid stroma', '3': 'tumor 6', '4': 'tumor 5'})\n",
    "adata_ref.obs['niche_0.1lo'] = adata_ref.obs['latent_leiden_0.1'].map({'0':'lymphoid stroma', '1':'tumor', '2': 'myeloid stroma', '3': 'tumor', '4': 'tumor'})\n",
    "\n",
    "general=np.apply_along_axis(to_hex, 1, np.array(plt.get_cmap('Dark2').colors))\n",
    "tumor=colorFader(general[2], c2='#FFFFFF', n=5, mix=0)\n",
    "lymphoid=general[4]\n",
    "myeloid=general[1]\n",
    "Blike=colorFader(general[0], c2='#FFFFFF', n=2, mix=0)\n",
    "neutrophil=colorFader(general[3], c2='#FFFFFF', n=2, mix=0)\n",
    "stroma=general[5]\n",
    "\n",
    "\n",
    "leiden_colDict = {\n",
    "    '0': tumor[0], '2': tumor[1], '5': tumor[2], '7': tumor[3], '11': tumor[4], \n",
    "    '3': neutrophil[0], '4': neutrophil[1], \n",
    "    '1': stroma, '6': Blike[0], '9': Blike[1], '8': lymphoid, '10': myeloid \n",
    "}\n",
    "adata_ref.uns['latent_leiden_0.45_colors'] = [x for x in leiden_colDict.values()]\n",
    "adata_ref.uns['leidenOrd_colors'] = [x for x in leiden_colDict.values()]\n",
    "adata_ref.uns['niche_colors'] = [x for x in leiden_colDict.values()]\n",
    "colDict = {cl: color for color, cl in zip(adata_ref.uns['niche_colors'], adata_ref.obs.niche.cat.categories)}\n",
    "\n",
    "# Subset GPs to those active both in query and reference\n",
    "ref_active_gps = adata_ref.uns['nichecompass_active_gp_names']\n",
    "gps = list(set(ref_active_gps).intersection(set(query_active_gps)))\n",
    "adata_ref.obsm['nichecompass_latent'] = adata_ref.obsm['nichecompass_latent'][:,pd.Series(ref_active_gps).isin(gps)]\n",
    "gc.collect()\n",
    "\n",
    "# Fit kNN classifier on the reference\n",
    "knn = KNeighborsClassifier(n_neighbors=50, weights='distance')\n",
    "knn.fit(X=adata_ref.obsm['nichecompass_latent'], y=adata_ref.obs[['niche','niche_0.1','niche_0.1lo']])\n",
    "\n",
    "del adata_ref\n",
    "gc.collect()"
   ]
  },
  {
   "cell_type": "code",
   "execution_count": null,
   "id": "2312755d-4731-4a51-adde-fb892a3c2424",
   "metadata": {},
   "outputs": [],
   "source": [
    "# Load query\n",
    "adata_query, adata_path, _, _, _ = load_adata(\n",
    "    load_timestamp=load_timestamps[1],\n",
    "    model_label=model_labels[1])\n",
    "\n",
    "adata_query.obs['mapping_entity'].value_counts()\n",
    "adata_query  = adata_query[adata_query.obs.mapping_entity=='query']\n",
    "adata_query.obsm['nichecompass_latent'] = adata_query.obsm['nichecompass_latent'][:,pd.Series(query_active_gps).isin(gps)]\n",
    "gc.collect()\n",
    "\n",
    "# Predict labels with the knn classifier\n",
    "proba = knn.predict_proba(adata_query.obsm['nichecompass_latent'])\n",
    "k_dist, k_indx = knn.kneighbors(adata_query.obsm['nichecompass_latent'], n_neighbors=50, return_distance=True)\n",
    "\n",
    "predictions = proba[0]\n",
    "predictions = pd.DataFrame({'predlabel': np.argmax(predictions, axis=1), 'probability': np.max(predictions, axis=1), 'mean_dist': np.mean(k_dist, axis=1), 'k_dist': k_dist[:,49]})\n",
    "predictions['predlabel'] = predictions['predlabel'].map({i: l for i, l in enumerate(knn.classes_[0])})\n",
    "predictions.index = adata_query.obs.index\n",
    "\n",
    "predictions.to_csv(f'{result_folder_path}/label_transfer.csv')"
   ]
  },
  {
   "cell_type": "code",
   "execution_count": null,
   "id": "a33e75b1-240c-4024-bec3-77aaad7d298e",
   "metadata": {},
   "outputs": [],
   "source": [
    "# predictions = pd.read_csv(f'{result_folder_path}/label_transfer.csv', index_col=0)\n",
    "adata_query.obs = pd.concat([adata_query.obs, predictions], axis=1)\n",
    "adata_query.obs.predlabel = pd.Categorical(adata_query.obs.predlabel, categories=colDict.keys())\n",
    "adata_query.uns['predlabel_colors'] = [colDict[cl] for cl in adata_query.obs.predlabel.cat.categories]"
   ]
  },
  {
   "cell_type": "code",
   "execution_count": null,
   "id": "e31bd38e-fb8a-4bf2-8656-6f8b1219d166",
   "metadata": {},
   "outputs": [],
   "source": [
    "### Extended Data Fig. 19c,d,e ###\n",
    "# plot only most present niches (>5%)\n",
    "keep = predictions['predlabel'].value_counts().index[predictions['predlabel'].value_counts()/predictions.shape[0] > 0.05]\n",
    "adata_query = adata_query[adata_query.obs.predlabel.isin(keep)]\n",
    "\n",
    "sc.set_figure_params(dpi=300, figsize=(6,4))\n",
    "sc.pl.umap(adata_query,\n",
    "           color=['cell type'],\n",
    "           size=2,\n",
    "           show=False,\n",
    "           frameon=False,\n",
    "           ncols=1,\n",
    "           wspace=3)\n",
    "plt.savefig(f\"{figure_folder_path}/s19_c.svg\", bbox_inches=\"tight\", format='svg')\n",
    "sc.pl.umap(adata_query,\n",
    "           color=['predlabel'],\n",
    "           size=1.5,\n",
    "           show=False,\n",
    "           frameon=False,\n",
    "           ncols=1,\n",
    "           wspace=3)\n",
    "plt.savefig(f\"{figure_folder_path}/s19_d.svg\", bbox_inches=\"tight\", format='svg')\n",
    "sc.pl.umap(adata_query,\n",
    "           color=['probability'],\n",
    "           size=1.5,\n",
    "           color_map='viridis',\n",
    "           show=False,\n",
    "           frameon=False,\n",
    "           ncols=1,\n",
    "           wspace=3,\n",
    "           vmax=1,\n",
    "           vmin=0)\n",
    "plt.savefig(f\"{figure_folder_path}/19_e.svg\", bbox_inches=\"tight\", format='svg')\n",
    "sc.set_figure_params(dpi=300, figsize=(4,3))"
   ]
  },
  {
   "cell_type": "code",
   "execution_count": null,
   "id": "10325de6-3421-4d73-9c08-cb2c42c13090",
   "metadata": {},
   "outputs": [],
   "source": [
    "### Extended Data Fig. 20a ###\n",
    "print((predictions.probability < 0.7).value_counts()/(74045+17646))\n",
    "predictions.probability.hist()\n",
    "plt.savefig(f\"{figure_folder_path}/s30_a1.svg\", bbox_inches=\"tight\", format='svg')"
   ]
  },
  {
   "cell_type": "markdown",
   "id": "db5efab0-0a33-4c31-afc0-14880b378a48",
   "metadata": {
    "tags": []
   },
   "source": [
    "## 4. Reference Query (43 + donor 13)"
   ]
  },
  {
   "cell_type": "markdown",
   "id": "75e427f3-1786-4476-b098-6e03fbd803ee",
   "metadata": {},
   "source": [
    "### 4.1 Data/Model"
   ]
  },
  {
   "cell_type": "code",
   "execution_count": null,
   "id": "d6d693fe-ed91-4194-9885-22458880cb1a",
   "metadata": {},
   "outputs": [],
   "source": [
    "adata, \\\n",
    "adata_path, \\\n",
    "model_folder_path, \\\n",
    "figure_folder_path, \\\n",
    "result_folder_path = load_adata(load_timestamp=load_timestamps[2],\n",
    "                                model_label=model_labels[2])"
   ]
  },
  {
   "cell_type": "markdown",
   "id": "4d765529-1172-46eb-b90c-61ef84518010",
   "metadata": {},
   "source": [
    "### 4.2 Analysis"
   ]
  },
  {
   "cell_type": "code",
   "execution_count": null,
   "id": "38ebaae3-5fa0-44d1-a918-17da23b4d49c",
   "metadata": {},
   "outputs": [],
   "source": [
    "plot_latent(adata, model='reference_query_mapping')"
   ]
  },
  {
   "cell_type": "code",
   "execution_count": null,
   "id": "26903dfb-75ab-4a84-bd6f-5486053660ac",
   "metadata": {},
   "outputs": [],
   "source": [
    "latent_leiden_resolution=0.7\n",
    "res_details(adata, resolution=latent_leiden_resolution, model='reference_query_mapping')"
   ]
  },
  {
   "cell_type": "markdown",
   "id": "5180bede-75a5-45df-9a74-24e19f8488d2",
   "metadata": {},
   "source": [
    "#### 4.2.1 Create Figures"
   ]
  },
  {
   "cell_type": "code",
   "execution_count": null,
   "id": "9133faf6-b565-4be6-b966-1efb01a33df4",
   "metadata": {},
   "outputs": [],
   "source": [
    "### Fig. 5f ###\n",
    "sc.set_figure_params(dpi=200, figsize=(4,3))\n",
    "sc.pl.umap(adata[adata.obs.mapping_entity=='reference'], color=['mapping_entity'], ncols=1, wspace=0.3, size=0.5,frameon=False, show=False)\n",
    "plt.savefig(f\"{figure_folder_path}/5_f1.svg\", bbox_inches=\"tight\", format='svg')\n",
    "sc.pl.umap(adata, color=['mapping_entity'], ncols=1, wspace=0.3, size=0.5,frameon=False, show=False)\n",
    "plt.savefig(f\"{figure_folder_path}/5_f2.svg\", bbox_inches=\"tight\", format='svg')\n",
    "sc.set_figure_params(fontsize=12, dpi=100, figsize=(4,3))"
   ]
  },
  {
   "cell_type": "code",
   "execution_count": null,
   "id": "18737449-5f6a-4a68-81e8-ab7d39304444",
   "metadata": {},
   "outputs": [],
   "source": [
    "latent_leiden_resolution = 0.7\n",
    "sc.tl.dendrogram(adata, groupby=f\"latent_leiden_{latent_leiden_resolution}\", use_rep='nichecompass_latent', n_pcs=adata.obsm['nichecompass_latent'].shape[1])\n",
    "adata.obs[f'latent_leiden_{latent_leiden_resolution}'] = adata.obs[f'latent_leiden_{latent_leiden_resolution}'].cat.reorder_categories(adata.uns[f'dendrogram_latent_leiden_{latent_leiden_resolution}']['categories_ordered'], ordered=False)\n",
    "\n",
    "rcParams['figure.figsize'] = (8, 6)\n",
    "sc.pl.umap(adata, color=['latent_leiden_0.7'], size=2.5, legend_loc='on data', frameon=False)\n",
    "rcParams['figure.figsize'] = (4, 3)"
   ]
  },
  {
   "cell_type": "code",
   "execution_count": null,
   "id": "97881696-ea00-40db-98fd-2fc03c95c5ba",
   "metadata": {},
   "outputs": [],
   "source": [
    "leiden2niche = {\n",
    "    '0': '1- Tumor (stroma border)', '8': '1- Tumor (stroma border)', '1': '2- Tumor interior', '5': '3- Tumor (neutrophil border)', '7': '4- Tumor interior', '19': '4- Tumor interior', \n",
    "    '17': '5- Infiltrated tumor', '12': '6- Neutrophil expansion', '6': '7- Myeloid cells rich stroma', '13': '8- Stroma', '14': '8- Stroma', '4': '8- Stroma', '15': '8- Stroma', '11': '9- Plasmablast rich stroma', \n",
    "    '10': '10- Plasmablast rich stroma', '2': '11- Lymphoid aggregates', \n",
    "    '9': '15- Tumor (macrophage infiltrated)', '18': '13- Infiltrating macrophages', '16': '12- Macrophage rich stroma', '3': '14- Immune rich stroma'\n",
    "}\n",
    "\n",
    "adata.obs['niche'] = adata.obs['latent_leiden_0.7'].map(leiden2niche)\n",
    "adata.obs['leidenOrd'] = adata.obs['niche'].apply(lambda x: x.split('-')[0])\n",
    "sc.pl.umap(adata, color=['niche','leidenOrd'], size=2.5, legend_loc='on data', frameon=False)\n",
    "\n",
    "rcParams['figure.figsize'] = (4, 0.5)\n",
    "general=np.apply_along_axis(to_hex, 1, np.array(plt.get_cmap('Dark2').colors))\n",
    "a=np.outer(np.ones(len(general)),np.arange(0,1,0.01))   # pseudo image data\n",
    "plt.imshow(a,aspect='auto',cmap=plt.get_cmap('Dark2'),origin=\"lower\")\n",
    "\n",
    "general=np.apply_along_axis(to_hex, 1, np.array(plt.get_cmap('Dark2').colors))\n",
    "tumor=colorFader(general[2], c2='#FFFFFF', n=6, mix=0)\n",
    "lymphoid=general[4]\n",
    "myeloid=colorFader(general[1], c2='#FFFFFF', n=2, mix=0)\n",
    "Blike=colorFader(general[0], c2='#FFFFFF', n=2, mix=0)\n",
    "neutrophil=colorFader(general[3], c2='#FFFFFF', n=2, mix=0)\n",
    "stroma=colorFader(general[5], c2='#FFFFFF', n=2, mix=0)\n",
    "\n",
    "\n",
    "leiden_colDict = {\n",
    "    '1': tumor[0], '2': tumor[1], '3': tumor[2], '4': tumor[3], '5': tumor[4],\n",
    "    '7': neutrophil[0], '6': neutrophil[1], \n",
    "    '8': stroma[0], '10': Blike[0], '9': Blike[1], '11': lymphoid, '12': myeloid[0],\n",
    "    '13': myeloid[1], '14': stroma[1], '15': tumor[5]\n",
    "}\n",
    "# adata.uns['latent_leiden_0.7_colors'] = [x for x in leiden_colDict.values()]\n",
    "adata.uns['leidenOrd_colors'] = [x for x in leiden_colDict.values()]\n",
    "adata.uns['niche_colors'] = [x for x in leiden_colDict.values()]"
   ]
  },
  {
   "cell_type": "markdown",
   "id": "730a58a8",
   "metadata": {},
   "source": [
    "UMAPs and tissues"
   ]
  },
  {
   "cell_type": "code",
   "execution_count": null,
   "id": "62275702-c09b-42e0-9550-c07c5f5d04bb",
   "metadata": {},
   "outputs": [],
   "source": [
    "### Fig. 5i ###\n",
    "rcParams['figure.figsize'] = (8, 6)\n",
    "sc.pl.umap(adata, color=['leidenOrd'], size=2.5, legend_loc='on data', frameon=False, show=False)\n",
    "plt.savefig(f\"{figure_folder_path}/5_i1.svg\", bbox_inches=\"tight\", format='svg')\n",
    "\n",
    "sc.pl.umap(adata, color=['niche'], size=2.5, frameon=False, show=False)\n",
    "plt.savefig(f\"{figure_folder_path}/5_i2.svg\", bbox_inches=\"tight\", format='svg')\n",
    "rcParams['figure.figsize'] = (4, 3)\n",
    "\n",
    "cluster_var = 'batch'\n",
    "plot_var = 'leidenOrd'\n",
    "props = adata.obs.groupby([cluster_var, plot_var]).size().reset_index()\n",
    "props = props.pivot(columns=plot_var, index=cluster_var).T\n",
    "props.index = props.index.droplevel(0)\n",
    "props.fillna(0, inplace=True)\n",
    "props = props.div(props.sum(axis=1), axis=0)*100 \n",
    "fig = plot_cluster_proportions(props, xlabel_rotation=90, cluster_palette=adata.uns[f'{cluster_var}_colors'], figsize=(8,3))\n",
    "plt.savefig(f\"{figure_folder_path}/5_i3.svg\", bbox_inches=\"tight\", format='svg')\n"
   ]
  },
  {
   "cell_type": "code",
   "execution_count": null,
   "id": "ddbc4895-3457-43f8-80f2-1fbb12ba36e1",
   "metadata": {},
   "outputs": [],
   "source": [
    "cluster_var = 'cell type'\n",
    "plot_var = 'leidenOrd'\n",
    "\n",
    "props = adata[(adata.obs.batch=='lung13') & adata.obs.leidenOrd.isin(['10','14'])].obs.groupby([cluster_var, plot_var]).size().reset_index()\n",
    "props = props.pivot(columns=plot_var, index=cluster_var).T\n",
    "props.index = props.index.droplevel(0)\n",
    "props.fillna(0, inplace=True)\n",
    "props = props.div(props.sum(axis=1), axis=0)*100 \n",
    "fig = plot_cluster_proportions(props, xlabel_rotation=90, cluster_palette=adata.uns[f'{cluster_var}_colors'], figsize=(2,3))\n",
    "plt.savefig(f\"{figure_folder_path}/e20_b1.svg\", bbox_inches=\"tight\", format='svg')\n",
    "\n",
    "props = adata[(adata.obs.batch.isin(['lung9_rep1','lung9_rep2'])) & adata.obs.leidenOrd.isin(['10','14'])].obs.groupby([cluster_var, plot_var]).size().reset_index()\n",
    "props = props.pivot(columns=plot_var, index=cluster_var).T\n",
    "props.index = props.index.droplevel(0)\n",
    "props.fillna(0, inplace=True)\n",
    "props = props.div(props.sum(axis=1), axis=0)*100 \n",
    "fig = plot_cluster_proportions(props, xlabel_rotation=90, cluster_palette=adata.uns[f'{cluster_var}_colors'], figsize=(2,3))\n",
    "plt.savefig(f\"{figure_folder_path}/e20_b2.svg\", bbox_inches=\"tight\", format='svg')"
   ]
  },
  {
   "cell_type": "code",
   "execution_count": null,
   "id": "813daaa1-4ead-4118-979c-b0ae1710e4af",
   "metadata": {},
   "outputs": [],
   "source": [
    "### Fig. 5j ###\n",
    "n = 3\n",
    "fig, axes = plt.subplots(nrows=2, ncols=n, figsize=(8*n,6*2))\n",
    "\n",
    "# for i, batch in enumerate(adata.obs.batch.unique()):\n",
    "for i, batch in enumerate(['lung13', 'lung6', 'lung9_rep1']):\n",
    "    ax = sc.pl.embedding(adata[adata.obs.batch==batch], basis=\"spatial\", color=['cell type'], size=6, legend_loc=None, frameon=False, title=[''], ax=axes[0,i], show=False)\n",
    "    ax = sc.pl.embedding(adata[adata.obs.batch==batch], basis=\"spatial\", color=['leidenOrd'], size=6, legend_loc=None, frameon=False, title=[''], ax=axes[1,i], show=False)\n",
    "\n",
    "fig.tight_layout()\n",
    "fig.subplots_adjust(wspace=0.01, hspace=0.01)\n",
    "plt.savefig(f\"{figure_folder_path}/5_j.svg\", bbox_inches=\"tight\", format='svg')"
   ]
  },
  {
   "cell_type": "markdown",
   "id": "fa5f5f88",
   "metadata": {},
   "source": [
    "Spatial neighbors"
   ]
  },
  {
   "cell_type": "code",
   "execution_count": null,
   "id": "5ec826dc-3449-4b60-b42e-2ce8242887ce",
   "metadata": {},
   "outputs": [],
   "source": [
    "### Fig. 5k ###\n",
    "leiden_col_key='leidenOrd'\n",
    "n = 25\n",
    "# compute n neighbours per cell type\n",
    "knn = {}\n",
    "cell_counts = {}\n",
    "for b in adata.obs.batch.unique():\n",
    "    X = adata[adata.obs.batch==b].obsm['spatial']\n",
    "    celltypes = adata[adata.obs.batch==b].obs['cell type'].astype(str).values.astype('<U22')    \n",
    "    cellnames = adata[adata.obs.batch==b].obs_names\n",
    "\n",
    "    knn[b] = NearestNeighbors(n_neighbors=n)\n",
    "    knn[b].fit(X)\n",
    "    knn[b] = knn[b].kneighbors(X, return_distance=False)    \n",
    "    knn[b] = celltypes[knn[b]]\n",
    "\n",
    "    for i in range(len(cellnames)):\n",
    "        unique, counts = np.unique(knn[b][i,:], return_counts=True)\n",
    "        cell_counts[cellnames[i]] = dict(zip(unique, counts))\n",
    "\n",
    "adata.obsm[f'k{n}_neighbours_celltype'] = pd.DataFrame(cell_counts).T.fillna(0)\n",
    "\n",
    "rcParams['figure.figsize'] = (10, 4)\n",
    "leiden_col_key='leidenOrd'\n",
    "n=25\n",
    "rcParams['figure.figsize'] = (4, 3)\n",
    "structure = 'tumor_clusters'\n",
    "groups = adata.uns['cluster_groups'][leiden_col_key][structure]\n",
    "# format for plotting and keep only those with an interesting number\n",
    "dt = adata.obsm[f'k{n}_neighbours_celltype']\n",
    "dt[leiden_col_key] = adata.obs[leiden_col_key]\n",
    "dt = dt.loc[dt[leiden_col_key].isin(groups),:]\n",
    "dt[leiden_col_key] = dt[leiden_col_key].cat.remove_unused_categories()\n",
    "dt = dt.reset_index()\n",
    "dt = pd.melt(dt, id_vars=['index',leiden_col_key], value_name=f'n NN/{n}', var_name='cell type')\n",
    "dt['cell type'] = pd.Categorical(dt['cell type'], categories=adata.obs['cell type'].cat.categories)\n",
    "if structure == 'tumor_clusters':\n",
    "    include = (dt.groupby(['cell type',leiden_col_key])[f'n NN/{n}'].mean().groupby(['cell type']).max() > n*0.05) & (dt.groupby(['cell type',leiden_col_key])[f'n NN/{n}'].mean().groupby(['cell type']).max() < n*0.6)\n",
    "    rcParams['figure.figsize'] = (len(groups)*1.5, 4)\n",
    "else:\n",
    "    include = (dt.groupby(['cell type',leiden_col_key])[f'n NN/{n}'].mean().groupby(['cell type']).max() > n*0.15) & (dt.groupby(['cell type',leiden_col_key])[f'n NN/{n}'].mean().groupby(['cell type']).max() < n*0.6)\n",
    "    rcParams['figure.figsize'] = (len(groups)*2, 4)\n",
    "dt = dt[dt['cell type'].isin(include[include].index.values)]\n",
    "dt['cell type'] = dt['cell type'].cat.remove_unused_categories()\n",
    "\n",
    "# plot\n",
    "sns.boxplot(data=dt, x=leiden_col_key, y=f'n NN/{n}', hue='cell type', palette=adata.uns[f'cell type_colors'][include.values], showfliers = False).set(title='')\n",
    "plt.ylim((0, 25))\n",
    "plt.xticks(rotation=0)\n",
    "plt.xlabel(\"\", fontsize=17.5)\n",
    "plt.ylabel(f'neighborhood composition', fontsize=17.5)\n",
    "# plt.legend([],[], frameon=False)\n",
    "plt.legend(frameon=False, loc='center left', bbox_to_anchor=(1, 0.7), fontsize=15)\n",
    "plt.tick_params(bottom=False, labelsize=17.5)\n",
    "sns.despine(offset=10, trim=True, bottom=True)\n",
    "plt.show()\n",
    "plt.savefig(f\"{figure_folder_path}/5_k.svg\", bbox_inches=\"tight\", format='svg')\n",
    "rcParams['figure.figsize'] = (4, 3)"
   ]
  },
  {
   "cell_type": "markdown",
   "id": "69a34354",
   "metadata": {},
   "source": [
    "SPP1 pathway"
   ]
  },
  {
   "cell_type": "code",
   "execution_count": null,
   "id": "d4a61a22",
   "metadata": {},
   "outputs": [],
   "source": [
    "### Fig. 5l ###\n",
    "interest_gps = ['SPP1_ligand_receptor_GP', 'Spp1_ligand_receptor_target_gene_GP']\n",
    "invert = ['SPP1_ligand_receptor_GP']\n",
    "\n",
    "# Create active gene program df\n",
    "interest_gp_df = pd.DataFrame(adata.obsm['nichecompass_latent'][:,pd.Series(adata.uns['nichecompass_active_gp_names']).isin(interest_gps).values],\n",
    "                            columns=adata.uns['nichecompass_active_gp_names'][pd.Series(adata.uns['nichecompass_active_gp_names']).isin(interest_gps).values])\n",
    "interest_gp_df = interest_gp_df.set_index(adata.obs.index)\n",
    "\n",
    "# Drop columns if they are already in ´adata.obs´ and invert if apropriate\n",
    "for gp in interest_gps:\n",
    "    if gp in adata.obs:\n",
    "        adata.obs.drop(gp, axis=1, inplace=True)\n",
    "        \n",
    "    if gp in invert:\n",
    "        interest_gp_df[gp] = -interest_gp_df[gp]\n",
    "\n",
    "# Concatenate active gene program df horizontally to ´adata.obs´\n",
    "adata.obs = pd.concat([adata.obs, interest_gp_df], axis=1)\n",
    "\n",
    "sc.set_figure_params(dpi=200, figsize=(4,3))\n",
    "\n",
    "for gp in interest_gps:\n",
    "    gp_idx = adata.uns['nichecompass_gp_names'].tolist().index(gp)\n",
    "    sc.pl.umap(adata, color=[gp], ncols=2, size=0.5, frameon=False, show=False, cmap='RdGy_r')\n",
    "    plt.savefig(f\"{figure_folder_path}/5_l{gp}.svg\", bbox_inches=\"tight\", format='svg')\n",
    "\n",
    "sc.pl.umap(adata, color=['SPP1','EGFR','ITGAV'], ncols=3, size=0.5, frameon=False, show=False, cmap='RdPu')\n",
    "plt.savefig(f\"{figure_folder_path}/5_l.svg\", bbox_inches=\"tight\", format='svg')"
   ]
  },
  {
   "cell_type": "code",
   "execution_count": null,
   "id": "a367c6b3",
   "metadata": {},
   "outputs": [],
   "source": [
    "### Extended Data Fig. 20 ###\n",
    "# cell types markers\n",
    "markers = [\"CD68\", \"MARCO\", \"CD14\", \"SPP1\", \"CXCL9\", \"IFI27\", \"CD9\", \"FN1\", \"TIMP1\", \"COL3A1\", \"COL1A1\", \"MMP12\", \"MMP2\"]\n",
    "\n",
    "adata_tmp = adata[(adata.obs['cell type']=='macrophage')]\n",
    "adata_tmp.obs['batch'] = adata_tmp.obs['batch'].str.replace('lung','Lung ').str.replace('_rep',' Replicate ')\n",
    "\n",
    "rcParams['figure.figsize'] = (6, 4)\n",
    "keep = adata.obs['niche'].value_counts().index[adata.obs['niche'].value_counts() > 1000]\n",
    "adata_tmp = adata_tmp[adata_tmp.obs['niche'].isin(keep)]\n",
    "\n",
    "rcParams['figure.figsize'] = (6, 4)\n",
    "sc.pl.umap(adata_tmp,\n",
    "           color=['cell type', 'batch', 'niche'],\n",
    "           ncols=3,\n",
    "           size=0.5,\n",
    "           frameon=False,\n",
    "           show=False,\n",
    "           wspace=0.25)\n",
    "plt.savefig(f\"{figure_folder_path}/20_a.svg\", bbox_inches=\"tight\", format='svg')\n",
    "\n",
    "sc.pl.umap(adata_tmp,\n",
    "           color=['MARCO', 'SPP1', 'IFI27', 'CD9', 'FN1', 'TIMP1', 'COL3A1', 'COL1A1', 'MMP12', 'MMP2'],\n",
    "           size=0.5,\n",
    "           frameon=False,\n",
    "           show=False,\n",
    "           cmap='RdPu',\n",
    "           ncols=4,\n",
    "           colorbar_loc=None)\n",
    "plt.savefig(f\"{figure_folder_path}/20_b.svg\", bbox_inches=\"tight\", format='svg')\n",
    "\n",
    "sc.pl.dotplot(adata_tmp, markers, groupby='batch', dendrogram=False, show=False, cmap=\"Reds\")\n",
    "plt.savefig(f\"{figure_folder_path}/20_c.svg\", bbox_inches=\"tight\", format='svg')"
   ]
  },
  {
   "cell_type": "markdown",
   "id": "322ed653",
   "metadata": {},
   "source": [
    "kNN Mapping"
   ]
  },
  {
   "cell_type": "code",
   "execution_count": null,
   "id": "da29cdae-ea63-4d8f-bb1f-6d52cc91a279",
   "metadata": {},
   "outputs": [],
   "source": [
    "# Load query to select shared GPs\n",
    "model =  NicheCompass.load(dir_path=f'{base_path}/artifacts/{dataset}/models/{model_labels[2]}/{load_timestamps[2]}/',\n",
    "                  adata=None,\n",
    "                  adata_file_name=f'{dataset}_{model_labels[2]}.h5ad',\n",
    "                  gp_names_key='nichecompass_gp_names')\n",
    "query_active_gps = model.get_active_gps()\n",
    "\n",
    "# Load reference adata and preprocess\n",
    "adata_ref, adata_path, _, _, _ = load_adata(\n",
    "    load_timestamp=load_timestamps[0],\n",
    "    model_label=model_labels[0])\n",
    "\n",
    "leiden2niche = {\n",
    "    '0': '1- Tumor (stroma border)', '2': '2- Tumor interior', '5': '3- Tumor (neutrophil border)', '7': '4- Tumor interior', '11': '5- Infiltrated tumor',\n",
    "    '3': '6- Neutrophil expansion', '4': '7- Myeloid cells rich stroma', '1': '8- Stroma', '6': '9- Plasmablast rich stroma', '9': '10- Plasmablast rich stroma', '8': '11- Lymphoid aggregates', '10': '12- Macrophage rich stroma'\n",
    "}\n",
    "\n",
    "adata_ref.obs['niche'] = adata_ref.obs['latent_leiden_0.45'].map(leiden2niche)\n",
    "adata_ref.obs['niche_0.1'] = adata_ref.obs['latent_leiden_0.1'].map({'0':'lymphoid stroma', '1':'tumor 9,12', '2': 'myeloid stroma', '3': 'tumor 6', '4': 'tumor 5'})\n",
    "adata_ref.obs['niche_0.1lo'] = adata_ref.obs['latent_leiden_0.1'].map({'0':'lymphoid stroma', '1':'tumor', '2': 'myeloid stroma', '3': 'tumor', '4': 'tumor'})\n",
    "\n",
    "general=np.apply_along_axis(to_hex, 1, np.array(plt.get_cmap('Dark2').colors))\n",
    "tumor=colorFader(general[2], c2='#FFFFFF', n=5, mix=0)\n",
    "lymphoid=general[4]\n",
    "myeloid=general[1]\n",
    "Blike=colorFader(general[0], c2='#FFFFFF', n=2, mix=0)\n",
    "neutrophil=colorFader(general[3], c2='#FFFFFF', n=2, mix=0)\n",
    "stroma=general[5]\n",
    "\n",
    "leiden_colDict = {\n",
    "    '0': tumor[0], '2': tumor[1], '5': tumor[2], '7': tumor[3], '11': tumor[4], \n",
    "    '3': neutrophil[0], '4': neutrophil[1], \n",
    "    '1': stroma, '6': Blike[0], '9': Blike[1], '8': lymphoid, '10': myeloid \n",
    "}\n",
    "adata_ref.uns['latent_leiden_0.45_colors'] = [x for x in leiden_colDict.values()]\n",
    "adata_ref.uns['leidenOrd_colors'] = [x for x in leiden_colDict.values()]\n",
    "adata_ref.uns['niche_colors'] = [x for x in leiden_colDict.values()]\n",
    "\n",
    "colDict = {cl: color for color, cl in zip(adata_ref.uns['niche_colors'], adata_ref.obs.niche.cat.categories)}\n",
    "ref_active_gps = adata_ref.uns['nichecompass_active_gp_names']\n",
    "gps = list(set(ref_active_gps).intersection(set(query_active_gps)))\n",
    "adata_ref.obsm['nichecompass_latent'] = adata_ref.obsm['nichecompass_latent'][:,pd.Series(ref_active_gps).isin(gps)]\n",
    "gc.collect()\n",
    "\n",
    "# fit knn on reference\n",
    "knn = KNeighborsClassifier(n_neighbors=50, weights='distance')\n",
    "knn.fit(X=adata_ref.obsm['nichecompass_latent'], y=adata_ref.obs[['niche','niche_0.1','niche_0.1lo']])\n",
    "del adata_ref\n",
    "gc.collect()\n",
    "\n",
    "# load query\n",
    "adata_query, adata_path, _, _, _ = load_adata(\n",
    "    load_timestamp=load_timestamps[2],\n",
    "    model_label=model_labels[2])\n",
    "adata_query.obs['mapping_entity'].value_counts()\n",
    "adata_query  = adata_query[adata_query.obs.mapping_entity=='query']\n",
    "adata_query.obsm['nichecompass_latent'] = adata_query.obsm['nichecompass_latent'][:,pd.Series(query_active_gps).isin(gps)]\n",
    "gc.collect()\n",
    "\n",
    "# predict on query\n",
    "proba = knn.predict_proba(adata_query.obsm['nichecompass_latent'])\n",
    "k_dist, k_indx = knn.kneighbors(adata_query.obsm['nichecompass_latent'], n_neighbors=50, return_distance=True)\n",
    "\n",
    "predictions = proba[0]\n",
    "predictions = pd.DataFrame({'predlabel': np.argmax(predictions, axis=1), 'probability': np.max(predictions, axis=1), 'mean_dist': np.mean(k_dist, axis=1), 'k_dist': k_dist[:,49]})\n",
    "predictions['predlabel'] = predictions['predlabel'].map({i: l for i, l in enumerate(knn.classes_[0])})\n",
    "predictions.index = adata_query.obs.index\n",
    "predictions.to_csv(f'{result_folder_path}/label_transfer.csv')"
   ]
  },
  {
   "cell_type": "code",
   "execution_count": null,
   "id": "5f93b2c8-33cb-44a9-8def-624e02b1bd4a",
   "metadata": {},
   "outputs": [],
   "source": [
    "# load query\n",
    "adata_query, adata_path, _, _, _ = load_adata(\n",
    "    load_timestamp=load_timestamps[2],\n",
    "    model_label=model_labels[2])\n",
    "adata_query.obs['mapping_entity'].value_counts()\n",
    "adata_query  = adata_query[adata_query.obs.mapping_entity=='query']\n",
    "adata_query.obsm['nichecompass_latent'] = adata_query.obsm['nichecompass_latent'][:,pd.Series(query_active_gps).isin(gps)]\n",
    "gc.collect()"
   ]
  },
  {
   "cell_type": "code",
   "execution_count": null,
   "id": "21788f9d-6608-41e3-8db0-0675d3fb9790",
   "metadata": {},
   "outputs": [],
   "source": [
    "### Extended Data Fig. 20a ###\n",
    "predictions = pd.read_csv(f'{result_folder_path}/label_transfer.csv', index_col=0)\n",
    "sc.set_figure_params(dpi=300, figsize=(4,3.3))\n",
    "print((predictions.probability < 0.7).value_counts()/predictions.probability.shape[0])\n",
    "print((predictions.probability < 0.5).value_counts()/predictions.probability.shape[0])\n",
    "predictions.probability.hist()\n",
    "plt.savefig(f\"{figure_folder_path}/s30_a2.svg\", bbox_inches=\"tight\", format='svg')\n"
   ]
  },
  {
   "cell_type": "code",
   "execution_count": null,
   "id": "8b099f3c-ed32-40d7-9525-77df6c816aeb",
   "metadata": {},
   "outputs": [],
   "source": [
    "### Fig. 5g-h ###\n",
    "# simplify labels by keeping only niches that are assigned to at least 5% of the cells\n",
    "keep = predictions['predlabel'].value_counts().index[predictions['predlabel'].value_counts()/predictions.shape[0] > 0.05]\n",
    "adata_query.obs = pd.concat([adata_query.obs, predictions], axis=1)\n",
    "adata_query.obs.predlabel = pd.Categorical(adata_query.obs.predlabel, categories=colDict.keys())\n",
    "adata_query.uns['predlabel_colors'] = [colDict[cl] for cl in adata_query.obs.predlabel.cat.categories]\n",
    "\n",
    "sc.set_figure_params(dpi=200, figsize=(6,4))\n",
    "sc.pl.umap(adata_query, color=['cell type'], size=0.5, frameon=False, show=False, ncols=1, wspace=3, title=[''])\n",
    "plt.savefig(f\"{figure_folder_path}/5_g.svg\", bbox_inches=\"tight\", format='svg')\n",
    "\n",
    "sc.pl.umap(adata_query, color=['predlabel'], size=0.5, frameon=False, show=False, ncols=1, wspace=3, title=[''])\n",
    "plt.savefig(f\"{figure_folder_path}/5_h1.svg\", bbox_inches=\"tight\", format='svg')\n",
    "\n",
    "sc.pl.umap(adata_query, color=['probability'], size=0.5, frameon=False, show=False, ncols=1, wspace=3, vmax=1, vmin=0, colorbar_loc='bottom', title=[''], color_map='viridis')\n",
    "plt.savefig(f\"{figure_folder_path}/5_h2.svg\", bbox_inches=\"tight\", format='svg')\n",
    "\n",
    "sc.set_figure_params(dpi=100, figsize=(4,3))"
   ]
  },
  {
   "cell_type": "markdown",
   "id": "31e6e333-df84-4218-8659-79e747f05944",
   "metadata": {
    "tags": []
   },
   "source": [
    "communication"
   ]
  },
  {
   "cell_type": "code",
   "execution_count": null,
   "id": "09c43d5a-3281-47f9-a0b1-a04e50a85a80",
   "metadata": {},
   "outputs": [],
   "source": [
    "# Compute communication network\n",
    "model =  NicheCompass.load(dir_path=f'{base_path}/artifacts/{dataset}/models/{model_labels[2]}/{load_timestamps[2]}/',\n",
    "                  adata=None,\n",
    "                  adata_file_name=f'{dataset}_{model_labels[2]}.h5ad',\n",
    "                  gp_names_key='nichecompass_gp_names')\n",
    "\n",
    "sc.pp.neighbors(adata,\n",
    "                n_neighbors=90,\n",
    "                use_rep=\"spatial\",\n",
    "                key_added=\"spatial_cci\")\n",
    "\n",
    "from nichecompass.utils import compute_communication_gp_network\n",
    "nx_s13 = compute_communication_gp_network(gp_list=['Spp1_ligand_receptor_target_gene_GP'],  model=model, group_key=\"latent_leiden_0.7\", filter_key='batch', filter_cat='lung13')\n",
    "nx_s13.to_csv(f'{result_folder_path}/Spp1_ligand_receptor_target_gene_GP_lung13.csv')\n",
    "nx_s6 = compute_communication_gp_network(gp_list=['Spp1_ligand_receptor_target_gene_GP'],  model=model, group_key=\"latent_leiden_0.7\", filter_key='batch', filter_cat='lung6')\n",
    "nx_s6.to_csv(f'{result_folder_path}/Spp1_ligand_receptor_target_gene_GP_lung6.csv')"
   ]
  },
  {
   "cell_type": "code",
   "execution_count": null,
   "id": "0f942189-1cba-4fcd-99ab-81c63afca92c",
   "metadata": {},
   "outputs": [],
   "source": [
    "# Or load\n",
    "nx_s6 = pd.read_csv(f'{result_folder_path}/Spp1_ligand_receptor_target_gene_GP_lung6.csv', index_col=0)\n",
    "nx_s13 = pd.read_csv(f'{result_folder_path}/Spp1_ligand_receptor_target_gene_GP_lung13.csv', index_col=0)"
   ]
  },
  {
   "cell_type": "code",
   "execution_count": null,
   "id": "0f386bc8-1a9c-461c-bcd9-cb07f1377f58",
   "metadata": {},
   "outputs": [],
   "source": [
    "# re-scale\n",
    "min_value = min(nx_s6[\"strength_unscaled\"].min(), nx_s13[\"strength_unscaled\"].min())\n",
    "max_value = max(nx_s6[\"strength_unscaled\"].max(), nx_s13[\"strength_unscaled\"].max())\n",
    "nx_s13[\"strength\"] = (nx_s13[\"strength_unscaled\"] - min_value) / (max_value - min_value)\n",
    "nx_s13[\"strength\"] = np.round(nx_s13[\"strength\"], 2)\n",
    "nx_s6[\"strength\"] = (nx_s6[\"strength_unscaled\"] - min_value) / (max_value - min_value)\n",
    "nx_s6[\"strength\"] = np.round(nx_s6[\"strength\"], 2)\n",
    "nx_s6 = nx_s6[nx_s6.strength>0]\n",
    "nx_s13 = nx_s13[nx_s13.strength>0]\n",
    "\n",
    "nx_s13.source = nx_s13.source.astype(str).map(leiden2niche)\n",
    "nx_s13.target = nx_s13.target.astype(str).map(leiden2niche)"
   ]
  },
  {
   "cell_type": "code",
   "execution_count": null,
   "id": "9d2921b3-9cca-4af7-956c-e035582b1ac5",
   "metadata": {},
   "outputs": [],
   "source": [
    "# Fig 5m 1\n",
    "nx = nx_s13.copy()\n",
    "niches = nx.source.unique().tolist() + nx.target.unique().tolist()\n",
    "base = alt.Chart(nx[nx.strength > 0]).mark_point(\n",
    "    filled=True,\n",
    "    size=2000,\n",
    "    shape='square',\n",
    "    opacity=0.6,\n",
    "    strokeWidth=0\n",
    ").encode(\n",
    "    x=alt.X('target:O', title=None, axis=alt.Axis(orient='bottom', labelFontSize=15, titleFontSize=15), scale=alt.Scale(domain=niches)),    \n",
    "    y=alt.Y('source:O', title=None, axis=alt.Axis(labelFontSize=15, titleFontSize=15), scale=alt.Scale(domain=niches)),\n",
    "    color=alt.Color('strength:Q', scale=alt.Scale(scheme='yellowgreenblue', domain=[0,1]))\n",
    ").properties(\n",
    "    width=len(niches)*27,\n",
    "    height=27*len(niches)\n",
    ")\n",
    "\n",
    "text = base.mark_text().encode(\n",
    "    text='strength:Q',\n",
    "    color=alt.value(\"black\")\n",
    ")\n",
    "base + text"
   ]
  },
  {
   "cell_type": "code",
   "execution_count": null,
   "id": "13055cf7-16bd-4008-afe4-b19e006baa42",
   "metadata": {},
   "outputs": [],
   "source": [
    "# Fig 5m 2\n",
    "nx = nx_s6.copy()\n",
    "niches = nx.source.unique().tolist() + nx.target.unique().tolist()\n",
    "base = alt.Chart(nx[nx.strength > 0]).mark_point(\n",
    "    filled=True,\n",
    "    size=2000,\n",
    "    shape='square',\n",
    "    opacity=0.6,\n",
    "    strokeWidth=0\n",
    ").encode(\n",
    "    x=alt.X('target:O', title=None, axis=alt.Axis(orient='bottom', labelFontSize=15, titleFontSize=15), scale=alt.Scale(domain=niches)),    \n",
    "    y=alt.Y('source:O', title=None, axis=alt.Axis(labelFontSize=15, titleFontSize=15), scale=alt.Scale(domain=niches)),\n",
    "    color=alt.Color('strength:Q', scale=alt.Scale(scheme='yellowgreenblue', domain=[0,1]))\n",
    ").properties(\n",
    "    width=len(niches)*27,\n",
    "    height=27*len(niches)\n",
    ")\n",
    "\n",
    "text = base.mark_text().encode(\n",
    "    text='strength:Q',\n",
    "    color=alt.value(\"black\")\n",
    ")\n",
    "chart = base + text\n",
    "\n",
    "chart.save(f\"{figure_folder_path}/5_m2.svg\")"
   ]
  },
  {
   "cell_type": "code",
   "execution_count": null,
   "id": "618d76bd-fc8c-4ecd-8b6e-897f5764f981",
   "metadata": {},
   "outputs": [],
   "source": []
  }
 ],
 "metadata": {
  "kernelspec": {
   "display_name": "Python 3 (ipykernel)",
   "language": "python",
   "name": "python3"
  },
  "language_info": {
   "codemirror_mode": {
    "name": "ipython",
    "version": 3
   },
   "file_extension": ".py",
   "mimetype": "text/x-python",
   "name": "python",
   "nbconvert_exporter": "python",
   "pygments_lexer": "ipython3",
   "version": "3.9.19"
  },
  "toc-autonumbering": false,
  "toc-showcode": false,
  "toc-showmarkdowntxt": false
 },
 "nbformat": 4,
 "nbformat_minor": 5
}
