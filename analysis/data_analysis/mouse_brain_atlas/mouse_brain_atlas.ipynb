{
 "cells": [
  {
   "cell_type": "markdown",
   "id": "992dc6ee-ffc4-4d15-a364-486eaa5f6edc",
   "metadata": {},
   "source": [
    "# Mouse Brain Atlas"
   ]
  },
  {
   "cell_type": "markdown",
   "id": "c325d921-2077-42b3-90a8-6f6c7dd928c5",
   "metadata": {},
   "source": [
    "- **Creator**: Sebastian Birk (<sebastian.birk@helmholtz-munich.de>)\n",
    "- **Date of Creation:** 22.01.2023\n",
    "- **Date of Last Modification:** 10.01.2025 (Sebastian Birk; <sebastian.birk@helmholtz-munich.de>)"
   ]
  },
  {
   "cell_type": "markdown",
   "id": "8f6bd6fb-6697-43bd-b3ec-68b061afe511",
   "metadata": {},
   "source": [
    "- In order to run this notebook, a trained model needs to be stored under ```../../artifacts/{dataset}/models/{model_label}/{load_timestamp}```\n",
    "    - dataset: ```mouse_brain_atlas```\n",
    "    - model_label: ```reference```\n",
    "    - load_timestamp: ```220824_000000_1```"
   ]
  },
  {
   "cell_type": "markdown",
   "id": "2d464ebf-354f-4f61-8040-c3dcbcc893b9",
   "metadata": {},
   "source": [
    "## 1. Setup"
   ]
  },
  {
   "cell_type": "markdown",
   "id": "d5631277-d8d2-4194-a376-280f4f149b7d",
   "metadata": {},
   "source": [
    "### 1.1 Import Libraries"
   ]
  },
  {
   "cell_type": "code",
   "execution_count": 1,
   "id": "4e5d3297-0290-47c0-846f-705e74cdb3de",
   "metadata": {
    "tags": []
   },
   "outputs": [],
   "source": [
    "%load_ext autoreload\n",
    "%autoreload 2"
   ]
  },
  {
   "cell_type": "code",
   "execution_count": 2,
   "id": "8dbd4925-7505-4d01-bf91-95b54bb8b533",
   "metadata": {
    "tags": []
   },
   "outputs": [],
   "source": [
    "import sys\n",
    "sys.path.append(\"../../../utils\")"
   ]
  },
  {
   "cell_type": "code",
   "execution_count": 3,
   "id": "b4aa3c6a-5a44-4cf1-84a3-5e514457cf3c",
   "metadata": {
    "tags": []
   },
   "outputs": [
    {
     "name": "stderr",
     "output_type": "stream",
     "text": [
      "/home/aih/sebastian.birk/miniconda3/envs/nichecompass-reproducibility/lib/python3.9/site-packages/torch_geometric/typing.py:72: UserWarning: An issue occurred while importing 'torch-scatter'. Disabling its usage. Stacktrace: /ictstr01/home/aih/sebastian.birk/miniconda3/envs/nichecompass-reproducibility/lib/python3.9/site-packages/torch_scatter/_version_cuda.so: undefined symbol: _ZN3c1017RegisterOperatorsD1Ev\n",
      "  warnings.warn(f\"An issue occurred while importing 'torch-scatter'. \"\n",
      "/home/aih/sebastian.birk/miniconda3/envs/nichecompass-reproducibility/lib/python3.9/site-packages/torch_geometric/typing.py:110: UserWarning: An issue occurred while importing 'torch-sparse'. Disabling its usage. Stacktrace: /ictstr01/home/aih/sebastian.birk/miniconda3/envs/nichecompass-reproducibility/lib/python3.9/site-packages/torch_sparse/_version_cuda.so: undefined symbol: _ZN3c1017RegisterOperatorsD1Ev\n",
      "  warnings.warn(f\"An issue occurred while importing 'torch-sparse'. \"\n"
     ]
    },
    {
     "ename": "OSError",
     "evalue": "/ictstr01/home/aih/sebastian.birk/miniconda3/envs/nichecompass-reproducibility/lib/python3.9/site-packages/torch_sparse/_version_cuda.so: undefined symbol: _ZN3c1017RegisterOperatorsD1Ev",
     "output_type": "error",
     "traceback": [
      "\u001b[0;31m---------------------------------------------------------------------------\u001b[0m",
      "\u001b[0;31mOSError\u001b[0m                                   Traceback (most recent call last)",
      "Cell \u001b[0;32mIn[3], line 8\u001b[0m\n\u001b[1;32m      5\u001b[0m \u001b[38;5;28;01mimport\u001b[39;00m \u001b[38;5;21;01mnumpy\u001b[39;00m \u001b[38;5;28;01mas\u001b[39;00m \u001b[38;5;21;01mnp\u001b[39;00m\n\u001b[1;32m      6\u001b[0m \u001b[38;5;28;01mimport\u001b[39;00m \u001b[38;5;21;01mscanpy\u001b[39;00m \u001b[38;5;28;01mas\u001b[39;00m \u001b[38;5;21;01msc\u001b[39;00m\n\u001b[0;32m----> 8\u001b[0m \u001b[38;5;28;01mfrom\u001b[39;00m \u001b[38;5;21;01mnichecompass\u001b[39;00m\u001b[38;5;21;01m.\u001b[39;00m\u001b[38;5;21;01mmodels\u001b[39;00m \u001b[38;5;28;01mimport\u001b[39;00m NicheCompass\n\u001b[1;32m      9\u001b[0m \u001b[38;5;28;01mfrom\u001b[39;00m \u001b[38;5;21;01mnichecompass\u001b[39;00m\u001b[38;5;21;01m.\u001b[39;00m\u001b[38;5;21;01mutils\u001b[39;00m \u001b[38;5;28;01mimport\u001b[39;00m create_new_color_dict\n\u001b[1;32m     11\u001b[0m \u001b[38;5;28;01mfrom\u001b[39;00m \u001b[38;5;21;01manalysis_utils\u001b[39;00m \u001b[38;5;28;01mimport\u001b[39;00m plot_category_in_latent_and_physical_space\n",
      "File \u001b[0;32m/ictstr01/home/aih/sebastian.birk/workspace/projects/nichecompass/src/nichecompass/__init__.py:3\u001b[0m\n\u001b[1;32m      1\u001b[0m \u001b[38;5;28;01mfrom\u001b[39;00m \u001b[38;5;21;01mimportlib\u001b[39;00m\u001b[38;5;21;01m.\u001b[39;00m\u001b[38;5;21;01mmetadata\u001b[39;00m \u001b[38;5;28;01mimport\u001b[39;00m version\n\u001b[0;32m----> 3\u001b[0m \u001b[38;5;28;01mfrom\u001b[39;00m \u001b[38;5;21;01m.\u001b[39;00m \u001b[38;5;28;01mimport\u001b[39;00m data, models, modules, nn, train, utils\n\u001b[1;32m      5\u001b[0m __all__ \u001b[38;5;241m=\u001b[39m [\u001b[38;5;124m\"\u001b[39m\u001b[38;5;124mdata\u001b[39m\u001b[38;5;124m\"\u001b[39m, \u001b[38;5;124m\"\u001b[39m\u001b[38;5;124mmodels\u001b[39m\u001b[38;5;124m\"\u001b[39m, \u001b[38;5;124m\"\u001b[39m\u001b[38;5;124mmodules\u001b[39m\u001b[38;5;124m\"\u001b[39m, \u001b[38;5;124m\"\u001b[39m\u001b[38;5;124mnn\u001b[39m\u001b[38;5;124m\"\u001b[39m, \u001b[38;5;124m\"\u001b[39m\u001b[38;5;124mtrain\u001b[39m\u001b[38;5;124m\"\u001b[39m, \u001b[38;5;124m\"\u001b[39m\u001b[38;5;124mutils\u001b[39m\u001b[38;5;124m\"\u001b[39m]\n\u001b[1;32m      7\u001b[0m __version__ \u001b[38;5;241m=\u001b[39m version(\u001b[38;5;124m\"\u001b[39m\u001b[38;5;124mnichecompass\u001b[39m\u001b[38;5;124m\"\u001b[39m)\n",
      "File \u001b[0;32m/ictstr01/home/aih/sebastian.birk/workspace/projects/nichecompass/src/nichecompass/data/__init__.py:2\u001b[0m\n\u001b[1;32m      1\u001b[0m \u001b[38;5;28;01mfrom\u001b[39;00m \u001b[38;5;21;01m.\u001b[39;00m\u001b[38;5;21;01mdataloaders\u001b[39;00m \u001b[38;5;28;01mimport\u001b[39;00m initialize_dataloaders\n\u001b[0;32m----> 2\u001b[0m \u001b[38;5;28;01mfrom\u001b[39;00m \u001b[38;5;21;01m.\u001b[39;00m\u001b[38;5;21;01mdataprocessors\u001b[39;00m \u001b[38;5;28;01mimport\u001b[39;00m (edge_level_split,\n\u001b[1;32m      3\u001b[0m                              node_level_split_mask,\n\u001b[1;32m      4\u001b[0m                              prepare_data)\n\u001b[1;32m      5\u001b[0m \u001b[38;5;28;01mfrom\u001b[39;00m \u001b[38;5;21;01m.\u001b[39;00m\u001b[38;5;21;01mdatareaders\u001b[39;00m \u001b[38;5;28;01mimport\u001b[39;00m load_spatial_adata_from_csv\n\u001b[1;32m      6\u001b[0m \u001b[38;5;28;01mfrom\u001b[39;00m \u001b[38;5;21;01m.\u001b[39;00m\u001b[38;5;21;01mdatasets\u001b[39;00m \u001b[38;5;28;01mimport\u001b[39;00m SpatialAnnTorchDataset\n",
      "File \u001b[0;32m/ictstr01/home/aih/sebastian.birk/workspace/projects/nichecompass/src/nichecompass/data/dataprocessors.py:14\u001b[0m\n\u001b[1;32m     11\u001b[0m \u001b[38;5;28;01mfrom\u001b[39;00m \u001b[38;5;21;01mtorch_geometric\u001b[39;00m\u001b[38;5;21;01m.\u001b[39;00m\u001b[38;5;21;01mtransforms\u001b[39;00m \u001b[38;5;28;01mimport\u001b[39;00m RandomNodeSplit, RandomLinkSplit\n\u001b[1;32m     12\u001b[0m \u001b[38;5;28;01mfrom\u001b[39;00m \u001b[38;5;21;01mtorch_geometric\u001b[39;00m\u001b[38;5;21;01m.\u001b[39;00m\u001b[38;5;21;01mutils\u001b[39;00m \u001b[38;5;28;01mimport\u001b[39;00m add_self_loops, remove_self_loops\n\u001b[0;32m---> 14\u001b[0m \u001b[38;5;28;01mfrom\u001b[39;00m \u001b[38;5;21;01m.\u001b[39;00m\u001b[38;5;21;01mdatasets\u001b[39;00m \u001b[38;5;28;01mimport\u001b[39;00m SpatialAnnTorchDataset\n\u001b[1;32m     17\u001b[0m \u001b[38;5;28;01mdef\u001b[39;00m \u001b[38;5;21medge_level_split\u001b[39m(data: Data,\n\u001b[1;32m     18\u001b[0m                      edge_label_adj: Optional[sp\u001b[38;5;241m.\u001b[39mcsr_matrix],\n\u001b[1;32m     19\u001b[0m                      val_ratio: \u001b[38;5;28mfloat\u001b[39m\u001b[38;5;241m=\u001b[39m\u001b[38;5;241m0.1\u001b[39m,\n\u001b[1;32m     20\u001b[0m                      test_ratio: \u001b[38;5;28mfloat\u001b[39m\u001b[38;5;241m=\u001b[39m\u001b[38;5;241m0.\u001b[39m,\n\u001b[1;32m     21\u001b[0m                      is_undirected: \u001b[38;5;28mbool\u001b[39m\u001b[38;5;241m=\u001b[39m\u001b[38;5;28;01mTrue\u001b[39;00m,\n\u001b[1;32m     22\u001b[0m                      neg_sampling_ratio: \u001b[38;5;28mfloat\u001b[39m\u001b[38;5;241m=\u001b[39m\u001b[38;5;241m0.\u001b[39m) \u001b[38;5;241m-\u001b[39m\u001b[38;5;241m>\u001b[39m Tuple[Data, Data, Data]:\n\u001b[1;32m     23\u001b[0m \u001b[38;5;250m    \u001b[39m\u001b[38;5;124;03m\"\"\"\u001b[39;00m\n\u001b[1;32m     24\u001b[0m \u001b[38;5;124;03m    Split a PyG Data object into training, validation and test PyG Data objects \u001b[39;00m\n\u001b[1;32m     25\u001b[0m \u001b[38;5;124;03m    using an edge-level split. The training split does not include edges in the\u001b[39;00m\n\u001b[0;32m   (...)\u001b[0m\n\u001b[1;32m     60\u001b[0m \u001b[38;5;124;03m        Test PyG Data object.\u001b[39;00m\n\u001b[1;32m     61\u001b[0m \u001b[38;5;124;03m    \"\"\"\u001b[39;00m\n",
      "File \u001b[0;32m/ictstr01/home/aih/sebastian.birk/workspace/projects/nichecompass/src/nichecompass/data/datasets.py:13\u001b[0m\n\u001b[1;32m     10\u001b[0m \u001b[38;5;28;01mfrom\u001b[39;00m \u001b[38;5;21;01manndata\u001b[39;00m \u001b[38;5;28;01mimport\u001b[39;00m AnnData\n\u001b[1;32m     11\u001b[0m \u001b[38;5;28;01mfrom\u001b[39;00m \u001b[38;5;21;01mtorch_geometric\u001b[39;00m\u001b[38;5;21;01m.\u001b[39;00m\u001b[38;5;21;01mutils\u001b[39;00m \u001b[38;5;28;01mimport\u001b[39;00m add_self_loops, remove_self_loops\n\u001b[0;32m---> 13\u001b[0m \u001b[38;5;28;01mfrom\u001b[39;00m \u001b[38;5;21;01m.\u001b[39;00m\u001b[38;5;21;01mutils\u001b[39;00m \u001b[38;5;28;01mimport\u001b[39;00m encode_labels, sparse_mx_to_sparse_tensor\n\u001b[1;32m     16\u001b[0m \u001b[38;5;28;01mclass\u001b[39;00m \u001b[38;5;21;01mSpatialAnnTorchDataset\u001b[39;00m():\n\u001b[1;32m     17\u001b[0m \u001b[38;5;250m    \u001b[39m\u001b[38;5;124;03m\"\"\"\u001b[39;00m\n\u001b[1;32m     18\u001b[0m \u001b[38;5;124;03m    Spatially annotated torch dataset class to extract node features, node \u001b[39;00m\n\u001b[1;32m     19\u001b[0m \u001b[38;5;124;03m    labels, adjacency matrix and edge indices in a standardized format from an \u001b[39;00m\n\u001b[0;32m   (...)\u001b[0m\n\u001b[1;32m     43\u001b[0m \u001b[38;5;124;03m        Keys under which the categorical covariates are stored in ´adata.obs´.\u001b[39;00m\n\u001b[1;32m     44\u001b[0m \u001b[38;5;124;03m    \"\"\"\u001b[39;00m\n",
      "File \u001b[0;32m/ictstr01/home/aih/sebastian.birk/workspace/projects/nichecompass/src/nichecompass/data/utils.py:9\u001b[0m\n\u001b[1;32m      7\u001b[0m \u001b[38;5;28;01mimport\u001b[39;00m \u001b[38;5;21;01mtorch\u001b[39;00m\n\u001b[1;32m      8\u001b[0m \u001b[38;5;28;01mfrom\u001b[39;00m \u001b[38;5;21;01mscipy\u001b[39;00m\u001b[38;5;21;01m.\u001b[39;00m\u001b[38;5;21;01msparse\u001b[39;00m \u001b[38;5;28;01mimport\u001b[39;00m csr_matrix\n\u001b[0;32m----> 9\u001b[0m \u001b[38;5;28;01mfrom\u001b[39;00m \u001b[38;5;21;01mtorch_sparse\u001b[39;00m \u001b[38;5;28;01mimport\u001b[39;00m SparseTensor\n\u001b[1;32m     12\u001b[0m \u001b[38;5;28;01mdef\u001b[39;00m \u001b[38;5;21mencode_labels\u001b[39m(adata: ad\u001b[38;5;241m.\u001b[39mAnnData,\n\u001b[1;32m     13\u001b[0m                   label_encoder: \u001b[38;5;28mdict\u001b[39m,\n\u001b[1;32m     14\u001b[0m                   label_key\u001b[38;5;241m=\u001b[39m\u001b[38;5;124m\"\u001b[39m\u001b[38;5;124mstr\u001b[39m\u001b[38;5;124m\"\u001b[39m) \u001b[38;5;241m-\u001b[39m\u001b[38;5;241m>\u001b[39m np\u001b[38;5;241m.\u001b[39mndarray:\n\u001b[1;32m     15\u001b[0m \u001b[38;5;250m    \u001b[39m\u001b[38;5;124;03m\"\"\"\u001b[39;00m\n\u001b[1;32m     16\u001b[0m \u001b[38;5;124;03m    Encode labels from an `adata` object stored in `adata.obs` to integers.\u001b[39;00m\n\u001b[1;32m     17\u001b[0m \n\u001b[0;32m   (...)\u001b[0m\n\u001b[1;32m     34\u001b[0m \u001b[38;5;124;03m        Integer-encoded labels.\u001b[39;00m\n\u001b[1;32m     35\u001b[0m \u001b[38;5;124;03m    \"\"\"\u001b[39;00m\n",
      "File \u001b[0;32m~/miniconda3/envs/nichecompass-reproducibility/lib/python3.9/site-packages/torch_sparse/__init__.py:18\u001b[0m\n\u001b[1;32m     16\u001b[0m spec \u001b[38;5;241m=\u001b[39m cuda_spec \u001b[38;5;129;01mor\u001b[39;00m cpu_spec\n\u001b[1;32m     17\u001b[0m \u001b[38;5;28;01mif\u001b[39;00m spec \u001b[38;5;129;01mis\u001b[39;00m \u001b[38;5;129;01mnot\u001b[39;00m \u001b[38;5;28;01mNone\u001b[39;00m:\n\u001b[0;32m---> 18\u001b[0m     \u001b[43mtorch\u001b[49m\u001b[38;5;241;43m.\u001b[39;49m\u001b[43mops\u001b[49m\u001b[38;5;241;43m.\u001b[39;49m\u001b[43mload_library\u001b[49m\u001b[43m(\u001b[49m\u001b[43mspec\u001b[49m\u001b[38;5;241;43m.\u001b[39;49m\u001b[43morigin\u001b[49m\u001b[43m)\u001b[49m\n\u001b[1;32m     19\u001b[0m \u001b[38;5;28;01melse\u001b[39;00m:  \u001b[38;5;66;03m# pragma: no cover\u001b[39;00m\n\u001b[1;32m     20\u001b[0m     \u001b[38;5;28;01mraise\u001b[39;00m \u001b[38;5;167;01mImportError\u001b[39;00m(\u001b[38;5;124mf\u001b[39m\u001b[38;5;124m\"\u001b[39m\u001b[38;5;124mCould not find module \u001b[39m\u001b[38;5;124m'\u001b[39m\u001b[38;5;132;01m{\u001b[39;00mlibrary\u001b[38;5;132;01m}\u001b[39;00m\u001b[38;5;124m_cpu\u001b[39m\u001b[38;5;124m'\u001b[39m\u001b[38;5;124m in \u001b[39m\u001b[38;5;124m\"\u001b[39m\n\u001b[1;32m     21\u001b[0m                       \u001b[38;5;124mf\u001b[39m\u001b[38;5;124m\"\u001b[39m\u001b[38;5;132;01m{\u001b[39;00mosp\u001b[38;5;241m.\u001b[39mdirname(\u001b[38;5;18m__file__\u001b[39m)\u001b[38;5;132;01m}\u001b[39;00m\u001b[38;5;124m\"\u001b[39m)\n",
      "File \u001b[0;32m~/miniconda3/envs/nichecompass-reproducibility/lib/python3.9/site-packages/torch/_ops.py:1350\u001b[0m, in \u001b[0;36m_Ops.load_library\u001b[0;34m(self, path)\u001b[0m\n\u001b[1;32m   1345\u001b[0m path \u001b[38;5;241m=\u001b[39m _utils_internal\u001b[38;5;241m.\u001b[39mresolve_library_path(path)\n\u001b[1;32m   1346\u001b[0m \u001b[38;5;28;01mwith\u001b[39;00m dl_open_guard():\n\u001b[1;32m   1347\u001b[0m     \u001b[38;5;66;03m# Import the shared library into the process, thus running its\u001b[39;00m\n\u001b[1;32m   1348\u001b[0m     \u001b[38;5;66;03m# static (global) initialization code in order to register custom\u001b[39;00m\n\u001b[1;32m   1349\u001b[0m     \u001b[38;5;66;03m# operators with the JIT.\u001b[39;00m\n\u001b[0;32m-> 1350\u001b[0m     \u001b[43mctypes\u001b[49m\u001b[38;5;241;43m.\u001b[39;49m\u001b[43mCDLL\u001b[49m\u001b[43m(\u001b[49m\u001b[43mpath\u001b[49m\u001b[43m)\u001b[49m\n\u001b[1;32m   1351\u001b[0m \u001b[38;5;28mself\u001b[39m\u001b[38;5;241m.\u001b[39mloaded_libraries\u001b[38;5;241m.\u001b[39madd(path)\n",
      "File \u001b[0;32m~/miniconda3/envs/nichecompass-reproducibility/lib/python3.9/ctypes/__init__.py:374\u001b[0m, in \u001b[0;36mCDLL.__init__\u001b[0;34m(self, name, mode, handle, use_errno, use_last_error, winmode)\u001b[0m\n\u001b[1;32m    371\u001b[0m \u001b[38;5;28mself\u001b[39m\u001b[38;5;241m.\u001b[39m_FuncPtr \u001b[38;5;241m=\u001b[39m _FuncPtr\n\u001b[1;32m    373\u001b[0m \u001b[38;5;28;01mif\u001b[39;00m handle \u001b[38;5;129;01mis\u001b[39;00m \u001b[38;5;28;01mNone\u001b[39;00m:\n\u001b[0;32m--> 374\u001b[0m     \u001b[38;5;28mself\u001b[39m\u001b[38;5;241m.\u001b[39m_handle \u001b[38;5;241m=\u001b[39m \u001b[43m_dlopen\u001b[49m\u001b[43m(\u001b[49m\u001b[38;5;28;43mself\u001b[39;49m\u001b[38;5;241;43m.\u001b[39;49m\u001b[43m_name\u001b[49m\u001b[43m,\u001b[49m\u001b[43m \u001b[49m\u001b[43mmode\u001b[49m\u001b[43m)\u001b[49m\n\u001b[1;32m    375\u001b[0m \u001b[38;5;28;01melse\u001b[39;00m:\n\u001b[1;32m    376\u001b[0m     \u001b[38;5;28mself\u001b[39m\u001b[38;5;241m.\u001b[39m_handle \u001b[38;5;241m=\u001b[39m handle\n",
      "\u001b[0;31mOSError\u001b[0m: /ictstr01/home/aih/sebastian.birk/miniconda3/envs/nichecompass-reproducibility/lib/python3.9/site-packages/torch_sparse/_version_cuda.so: undefined symbol: _ZN3c1017RegisterOperatorsD1Ev"
     ]
    }
   ],
   "source": [
    "import os\n",
    "import warnings\n",
    "\n",
    "import matplotlib.pyplot as plt\n",
    "import numpy as np\n",
    "import scanpy as sc\n",
    "\n",
    "from nichecompass.models import NicheCompass\n",
    "from nichecompass.utils import create_new_color_dict\n",
    "\n",
    "from analysis_utils import plot_category_in_latent_and_physical_space"
   ]
  },
  {
   "cell_type": "markdown",
   "id": "eeb8b324-ef18-4ab0-9ffb-8332d652458c",
   "metadata": {},
   "source": [
    "### 1.2 Define Parameters"
   ]
  },
  {
   "cell_type": "code",
   "execution_count": null,
   "id": "9325589b-a7e4-4c31-97e7-8b7048248896",
   "metadata": {},
   "outputs": [],
   "source": [
    "dataset = \"mouse_brain_atlas\""
   ]
  },
  {
   "cell_type": "markdown",
   "id": "10ac7b6d-4518-4356-bfdd-e141bf25d504",
   "metadata": {},
   "source": [
    "#### 1.2.1 Generic Parameters"
   ]
  },
  {
   "cell_type": "code",
   "execution_count": null,
   "id": "a4d4e6d9-239f-47c5-a30b-579b16d4c27c",
   "metadata": {
    "tags": []
   },
   "outputs": [],
   "source": [
    "## Model\n",
    "# AnnData keys\n",
    "gp_names_key = \"nichecompass_gp_names\"\n",
    "active_gp_names_key = \"nichecompass_active_gp_names\""
   ]
  },
  {
   "cell_type": "markdown",
   "id": "8e7be323-bd40-4fa0-a2d5-b8ddf5cc1c51",
   "metadata": {},
   "source": [
    "#### 1.2.2 Dataset-specific Parameters"
   ]
  },
  {
   "cell_type": "code",
   "execution_count": null,
   "id": "01210b2f-017e-43f6-b650-5cc732252f8c",
   "metadata": {
    "tags": []
   },
   "outputs": [],
   "source": [
    "load_timestamp = \"220824_000000_1\"\n",
    "model_label = \"reference\"\n",
    "cell_type_key = \"cell_type\"\n",
    "spot_size = 50\n",
    "samples = [f\"batch{i}\" for i in range(1, 240)]\n",
    "latent_leiden_resolution = 0.2\n",
    "sample_key = \"batch\"\n",
    "    \n",
    "latent_cluster_key = f\"latent_leiden_{str(latent_leiden_resolution)}\""
   ]
  },
  {
   "cell_type": "markdown",
   "id": "a6c3b7fa-fa59-43dd-81d2-7e116650915f",
   "metadata": {},
   "source": [
    "### 1.3 Run Notebook Setup"
   ]
  },
  {
   "cell_type": "code",
   "execution_count": null,
   "id": "1bf229ca-ab66-4e52-a31e-8655878d290d",
   "metadata": {
    "tags": []
   },
   "outputs": [],
   "source": [
    "sc.set_figure_params(figsize=(6, 6))"
   ]
  },
  {
   "cell_type": "code",
   "execution_count": null,
   "id": "924032d4-24a4-45cf-87e1-0eba197da0c2",
   "metadata": {
    "tags": []
   },
   "outputs": [],
   "source": [
    "# Ignore future warnings and user warnings\n",
    "warnings.simplefilter(action=\"ignore\", category=FutureWarning)\n",
    "warnings.simplefilter(action=\"ignore\", category=UserWarning)\n",
    "warnings.simplefilter(action=\"ignore\", category=RuntimeWarning)"
   ]
  },
  {
   "cell_type": "code",
   "execution_count": null,
   "id": "1f7952b9-4798-471b-a7b7-96c775b92e48",
   "metadata": {},
   "outputs": [],
   "source": [
    "plt.rcParams['font.family'] = 'Helvetica'\n",
    "plt.rcParams['font.size'] = 5"
   ]
  },
  {
   "cell_type": "code",
   "execution_count": null,
   "id": "3a567cc2-2899-429b-b777-7b6174d16a06",
   "metadata": {},
   "outputs": [],
   "source": [
    "niche_color_map = {\n",
    "    \"0\": \"#66C5CC\",\n",
    "    \"1\": \"#F6CF71\",\n",
    "    \"2\": \"#F89C74\",\n",
    "    \"3\": \"#DCB0F2\",\n",
    "    \"4\": \"#87C55F\",\n",
    "    \"5\": \"#9EB9F3\",\n",
    "    \"6\": \"#FE88B1\",\n",
    "    \"7\": \"#C9DB74\",\n",
    "    \"8\": \"#8BE0A4\",\n",
    "    \"9\": \"#B497E7\",\n",
    "    \"10\": \"#D3B484\",\n",
    "    \"11\": \"#B3B3B3\",\n",
    "    \"12\": \"#276A8C\",\n",
    "    \"13\": \"#DAB6C4\",\n",
    "    \"14\": \"#9B4DCA\",\n",
    "    \"15\": \"#9D88A2\",\n",
    "    \"16\": \"#FF4D4D\",\n",
    "}"
   ]
  },
  {
   "cell_type": "markdown",
   "id": "2b886225-6b6d-433c-b117-47b9a8f8091f",
   "metadata": {},
   "source": [
    "### 1.4 Configure Paths and Create Directories"
   ]
  },
  {
   "cell_type": "code",
   "execution_count": null,
   "id": "36675337-808d-40a9-93fc-d6cfa9473f66",
   "metadata": {
    "tags": []
   },
   "outputs": [],
   "source": [
    "# Define paths\n",
    "figure_folder_path = f\"../../../artifacts/{dataset}/figures/{model_label}/{load_timestamp}\"\n",
    "model_folder_path = f\"../../../artifacts/{dataset}/models/{model_label}/{load_timestamp}\"\n",
    "result_folder_path = f\"../../../artifacts/{dataset}/results/{model_label}/{load_timestamp}\"\n",
    "\n",
    "# Create required directories\n",
    "os.makedirs(figure_folder_path, exist_ok=True)\n",
    "os.makedirs(result_folder_path, exist_ok=True)"
   ]
  },
  {
   "cell_type": "markdown",
   "id": "9cea1a5c-d075-4e51-90e5-90684bee88a6",
   "metadata": {},
   "source": [
    "## 2. Model"
   ]
  },
  {
   "cell_type": "code",
   "execution_count": null,
   "id": "3dad2ca6-7e34-48bc-89ef-4f994389a0f1",
   "metadata": {
    "tags": []
   },
   "outputs": [],
   "source": [
    "# Load trained model\n",
    "model = NicheCompass.load(dir_path=model_folder_path,\n",
    "                          adata=None,\n",
    "                          adata_file_name=f\"{dataset}_{model_label}.h5ad\",\n",
    "                          gp_names_key=gp_names_key)"
   ]
  },
  {
   "cell_type": "code",
   "execution_count": null,
   "id": "4d99a385-5769-4c6b-a7dc-62f40028620a",
   "metadata": {},
   "outputs": [],
   "source": [
    "model.adata.uns[gp_names_key] = np.array([gp for gp in model.adata.uns[gp_names_key] if not \"Add-on \" in gp])\n",
    "model.adata.uns[active_gp_names_key] = np.array([gp for gp in model.adata.uns[active_gp_names_key] if not \"Add-on \" in gp])\n",
    "model.adata.uns[gp_names_key] = np.array([gp.replace(\" \", \"_\") for gp in model.adata.uns[gp_names_key]])\n",
    "model.adata.uns[active_gp_names_key] = np.array([gp.replace(\" \", \"_\") for gp in model.adata.uns[active_gp_names_key]])"
   ]
  },
  {
   "cell_type": "code",
   "execution_count": null,
   "id": "8fc40859-6a4a-4bfa-8362-d28d4c1c2057",
   "metadata": {
    "tags": []
   },
   "outputs": [],
   "source": [
    "# Check number of active gene programs\n",
    "active_gps = model.get_active_gps()\n",
    "print(f\"Number of total gene programs: {len(model.adata.uns[gp_names_key])}.\")\n",
    "print(f\"Number of active gene programs: {len(active_gps)}.\")\n",
    "\n",
    "gp_summary_df = model.get_gp_summary()\n",
    "gp_summary_df[gp_summary_df[\"gp_active\"] == True][20:]\n",
    "\n",
    "samples = model.adata.obs[sample_key].unique().tolist()\n",
    "model.add_active_gp_scores_to_obs()"
   ]
  },
  {
   "cell_type": "markdown",
   "id": "7f662f73-455e-46c2-bc4b-ec25fb2f1d2b",
   "metadata": {},
   "source": [
    "## 3. Analysis"
   ]
  },
  {
   "cell_type": "markdown",
   "id": "cac5fc20-7f07-4d92-a918-422b82d78fb8",
   "metadata": {},
   "source": [
    "### 3.1 Create Figures"
   ]
  },
  {
   "cell_type": "code",
   "execution_count": null,
   "id": "746e18dd-04b1-4c86-a1d1-e4bd354fd917",
   "metadata": {},
   "outputs": [],
   "source": [
    "model_folder_path"
   ]
  },
  {
   "cell_type": "code",
   "execution_count": null,
   "id": "c7cd8ccd-a278-47cc-ae08-5e5fb77a1d92",
   "metadata": {},
   "outputs": [],
   "source": [
    "adata = sc.read_h5ad(f\"{model_folder_path}/anndata_umap_with_clusters.h5ad\")"
   ]
  },
  {
   "cell_type": "markdown",
   "id": "04aefccb-3730-4688-88b9-23be4d352110",
   "metadata": {},
   "source": [
    "# preprocessing"
   ]
  },
  {
   "cell_type": "markdown",
   "id": "55607cec-1723-4fb5-8686-487ba6171d0d",
   "metadata": {},
   "source": [
    "## niche selection and filtering"
   ]
  },
  {
   "cell_type": "code",
   "execution_count": null,
   "id": "c49503d4-f441-4b1c-8dab-8ddb1504a233",
   "metadata": {},
   "outputs": [],
   "source": [
    "niche_cell_counts = adata.obs[\"nichecompass_latent_cluster\"].value_counts().to_dict()\n",
    "retained_niches = [x for x, y in niche_cell_counts.items() if y > 100_000]\n",
    "adata_filtered = adata[adata.obs[\"nichecompass_latent_cluster\"].isin(retained_niches)]\n",
    "print(f\"retaining {len(adata_filtered)} of {len(adata)} cells following filtering\")"
   ]
  },
  {
   "cell_type": "code",
   "execution_count": null,
   "id": "2d90e9b7-d3ad-4f92-bd82-8c0d6a516517",
   "metadata": {},
   "outputs": [],
   "source": [
    "len(retained_niches)"
   ]
  },
  {
   "cell_type": "markdown",
   "id": "0b56c94c-6492-47d4-8142-67512dee73b9",
   "metadata": {},
   "source": [
    "# visualise results"
   ]
  },
  {
   "cell_type": "markdown",
   "id": "af36e10b-ef8e-452f-b887-e78ca2bf9819",
   "metadata": {},
   "source": [
    "## gene program embedding"
   ]
  },
  {
   "cell_type": "code",
   "execution_count": null,
   "id": "2740a901-c242-4842-8232-60944b20748c",
   "metadata": {},
   "outputs": [],
   "source": [
    "adata_filtered_subsample = sc.pp.subsample(\n",
    "    adata_filtered, fraction=0.01, copy=True)"
   ]
  },
  {
   "cell_type": "code",
   "execution_count": null,
   "id": "246d5473-830e-4e7d-99b4-5737c8d18657",
   "metadata": {},
   "outputs": [],
   "source": [
    "fig = sc.pl.umap(adata_filtered_subsample,\n",
    "                 color=\"dataset\",\n",
    "                 title=\"NicheCompass GP embedding\",\n",
    "                 size=1, frameon=False,\n",
    "                 return_fig=True)\n",
    "plt.savefig(\"r3c12_gp_embedding.svg\")"
   ]
  },
  {
   "cell_type": "code",
   "execution_count": null,
   "id": "4de57692-87f3-42dc-ae9b-1d07a3a80880",
   "metadata": {},
   "outputs": [],
   "source": [
    "sc.pl.umap(adata_filtered_subsample,\n",
    "           color=\"nichecompass_latent_cluster\",\n",
    "           size=1,\n",
    "           palette=niche_color_map)"
   ]
  },
  {
   "cell_type": "markdown",
   "id": "90ff1860-497f-4eea-a4c3-41e3bc4f65cb",
   "metadata": {},
   "source": [
    "## niche composition"
   ]
  },
  {
   "cell_type": "code",
   "execution_count": null,
   "id": "c1da0ff9-4209-4d03-b8de-55d7b78fbb47",
   "metadata": {},
   "outputs": [],
   "source": [
    "freq_table = pd.crosstab(\n",
    "    adata_filtered.obs[\"dataset\"],\n",
    "    adata_filtered.obs[\"nichecompass_latent_cluster\"]\n",
    ")\n",
    "freq_table"
   ]
  },
  {
   "cell_type": "code",
   "execution_count": null,
   "id": "0fa29d08-e8e1-4ef6-b52b-7a81c21789fa",
   "metadata": {},
   "outputs": [],
   "source": [
    "fig, ax = plt.subplots()\n",
    "ax = freq_table.transpose().plot(kind=\"bar\", stacked=True, ylabel=\"Number of cells\", xlabel=\"NicheCompass niche\", ax=ax)\n",
    "\n",
    "ax.grid(which='major', axis='y', linestyle='--')\n",
    "ax.grid(False, axis='x')\n",
    "ax.spines[['right', 'top']].set_visible(False)\n",
    "ax.spines[['left', 'bottom']].set_linewidth(1)\n",
    "ax.spines[['left', 'bottom']].set_color(\"black\")\n",
    "\n",
    "plt.xticks(rotation=0)\n",
    "\n",
    "ax.get_yaxis().set_major_formatter(ticker.FuncFormatter(lambda x, p: format(int(x), ',')))\n",
    "\n",
    "plt.savefig(\"r3c12_number_of_cells.svg\")"
   ]
  },
  {
   "cell_type": "markdown",
   "id": "2d9953cb-24e5-48fd-a4f4-b6004295136b",
   "metadata": {},
   "source": [
    "## spatial distribution"
   ]
  },
  {
   "cell_type": "code",
   "execution_count": null,
   "id": "7df2f42f-c2e2-481c-bd14-695256b68a26",
   "metadata": {},
   "outputs": [],
   "source": [
    "merfish_section_label = \"C57BL6J-1.083\"\n",
    "starmap_section_label = \"well11\""
   ]
  },
  {
   "cell_type": "code",
   "execution_count": null,
   "id": "476c5523-f742-4c6e-9ce9-c1e5abfe0f6e",
   "metadata": {},
   "outputs": [],
   "source": [
    "fig, axs = plt.subplots(1, 2)\n",
    "\n",
    "merfish_selected_section_adata = adata_filtered[\n",
    "    adata_filtered.obs[\"section\"] == merfish_section_label]\n",
    "sc.pl.spatial(merfish_selected_section_adata,\n",
    "              spot_size=20,\n",
    "              title=\"MERFISH\",\n",
    "              color=\"nichecompass_latent_cluster\",\n",
    "              palette=niche_color_map,\n",
    "              ax=axs[0],\n",
    "              return_fig=False,\n",
    "              show=False,\n",
    "              frameon=False)\n",
    "axs[0].legend().set_visible(False)\n",
    "\n",
    "def rotate_origin_only(xy, radians):\n",
    "    \"\"\"Only rotate a point around the origin (0, 0).\"\"\"\n",
    "    x, y = xy\n",
    "    xx = x * math.cos(radians) + y * math.sin(radians)\n",
    "    yy = -x * math.sin(radians) + y * math.cos(radians)\n",
    "\n",
    "    return [xx, yy]\n",
    "\n",
    "starmap_selected_section_adata = adata_filtered[\n",
    "    adata_filtered.obs[\"section\"] == starmap_section_label]\n",
    "spatial_coordinates = starmap_selected_section_adata.obsm[\"spatial\"].tolist()\n",
    "rotated_spatial_coordinates = [rotate_origin_only(xy, math.pi/2) for xy in spatial_coordinates]\n",
    "starmap_selected_section_adata.obsm[\"spatial\"] = np.array(rotated_spatial_coordinates)\n",
    "sc.pl.spatial(starmap_selected_section_adata,\n",
    "              spot_size=0.12,\n",
    "              title=\"STARmap PLUS\",\n",
    "              color=\"nichecompass_latent_cluster\",\n",
    "              palette=niche_color_map,\n",
    "              ax=axs[1],\n",
    "              return_fig=False,\n",
    "              show=False,\n",
    "              frameon=False)\n",
    "\n",
    "legend_elements = [matplotlib.patches.Patch(facecolor=y, edgecolor=y, label=x) for x, y in niche_color_map.items()]\n",
    "\n",
    "leg = axs[1].legend(handles=legend_elements,\n",
    "                    loc=\"right\",\n",
    "                    bbox_to_anchor=(1.5, 0.5),\n",
    "                    frameon=False)\n",
    "\n",
    "plt.savefig(\"r3c12_slide_overview.svg\")"
   ]
  },
  {
   "cell_type": "markdown",
   "id": "ef898369-93ad-4a91-9647-0ee894994141",
   "metadata": {},
   "source": [
    "And now we'll run through the niches to better visualise this"
   ]
  },
  {
   "cell_type": "code",
   "execution_count": null,
   "id": "67dd150e-73e4-4b10-b17c-8748242a53e8",
   "metadata": {},
   "outputs": [],
   "source": [
    "color_map = {\"True\": \"blue\", \"False\": \"lightgrey\"}\n",
    "\n",
    "for selected_nichecompass_latent_cluster in retained_niches:\n",
    "    \n",
    "    fig, axs = plt.subplots(1, 2)\n",
    "    \n",
    "    # plot the merfish cluster\n",
    "    merfish_selected_section_adata.obs[\"is_cluster\"] = merfish_selected_section_adata.obs[\"nichecompass_latent_cluster\"] == selected_nichecompass_latent_cluster\n",
    "    merfish_selected_section_adata.obs[\"is_cluster\"] = merfish_selected_section_adata.obs[\"is_cluster\"].astype(\"str\")\n",
    "    sc.pl.spatial(merfish_selected_section_adata,\n",
    "                  spot_size=20,\n",
    "                  return_fig=False,\n",
    "                  title=\"MERFISH\",\n",
    "                  color=\"is_cluster\",\n",
    "                  show=False,\n",
    "                  ax=axs[0],\n",
    "                  palette=color_map,\n",
    "                  frameon=False)\n",
    "    \n",
    "    # plot the starmap cluster\n",
    "    starmap_selected_section_adata.obs[\"is_cluster\"] = starmap_selected_section_adata.obs[\"nichecompass_latent_cluster\"] == selected_nichecompass_latent_cluster\n",
    "    starmap_selected_section_adata.obs[\"is_cluster\"] = starmap_selected_section_adata.obs[\"is_cluster\"].astype(\"str\")\n",
    "    sc.pl.spatial(starmap_selected_section_adata,\n",
    "                  spot_size=0.12,\n",
    "                  return_fig=False,\n",
    "                  title=\"STARmap PLUS\",\n",
    "                  color=\"is_cluster\",\n",
    "                  show=False,\n",
    "                  ax=axs[1],\n",
    "                  palette=color_map, \n",
    "                  frameon=False)\n",
    "    \n",
    "    axs[0].legend().set_visible(False)\n",
    "    axs[1].legend().set_visible(False)\n",
    "    \n",
    "    fig.suptitle(f\"niche {selected_nichecompass_latent_cluster}\")\n",
    "    plt.savefig(f\"{figure_folder_path}/r3c12_slide_detail_{selected_nichecompass_latent_cluster}.svg\")   "
   ]
  },
  {
   "cell_type": "markdown",
   "id": "7eb08e58-7866-4b2e-baf1-a4264c1a37b8",
   "metadata": {},
   "source": [
    "### 3.2 Save Results"
   ]
  },
  {
   "cell_type": "code",
   "execution_count": null,
   "id": "64e2a7ac-8d25-4d2d-aa75-09a0841dd720",
   "metadata": {},
   "outputs": [],
   "source": [
    "# Log normalize counts for cellxgene server\n",
    "model.adata.layers['counts'] = model.adata.X\n",
    "sc.pp.normalize_total(model.adata, target_sum=1e4)\n",
    "sc.pp.log1p(model.adata)\n",
    "\n",
    "# Store gp summary in adata\n",
    "gp_summary = model.get_gp_summary()\n",
    "for col in gp_summary.columns:\n",
    "    gp_summary[col] = gp_summary[col].astype(str)\n",
    "model.adata.uns[\"nichecompass_gp_summary\"] = gp_summary\n",
    "\n",
    "model.adata.write(f\"{result_folder_path}/{dataset}_analysis.h5ad\")"
   ]
  },
  {
   "cell_type": "code",
   "execution_count": null,
   "id": "355d1d04-aa90-4915-8920-d43dab8fe08b",
   "metadata": {},
   "outputs": [],
   "source": []
  }
 ],
 "metadata": {
  "kernelspec": {
   "display_name": "Python 3 (ipykernel)",
   "language": "python",
   "name": "python3"
  },
  "language_info": {
   "codemirror_mode": {
    "name": "ipython",
    "version": 3
   },
   "file_extension": ".py",
   "mimetype": "text/x-python",
   "name": "python",
   "nbconvert_exporter": "python",
   "pygments_lexer": "ipython3",
   "version": "3.9.19"
  },
  "toc-autonumbering": false,
  "toc-showcode": false,
  "toc-showmarkdowntxt": false
 },
 "nbformat": 4,
 "nbformat_minor": 5
}
