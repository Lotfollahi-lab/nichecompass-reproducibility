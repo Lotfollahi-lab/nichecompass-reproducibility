{
 "cells": [
  {
   "cell_type": "markdown",
   "id": "992dc6ee-ffc4-4d15-a364-486eaa5f6edc",
   "metadata": {},
   "source": [
    "# Mouse Brain Atlas"
   ]
  },
  {
   "cell_type": "markdown",
   "id": "c325d921-2077-42b3-90a8-6f6c7dd928c5",
   "metadata": {},
   "source": [
    "- **Creator**: Sebastian Birk (<sebastian.birk@helmholtz-munich.de>)\n",
    "- **Date of Creation:** 22.01.2023\n",
    "- **Date of Last Modification:** 10.01.2025 (Sebastian Birk; <sebastian.birk@helmholtz-munich.de>)"
   ]
  },
  {
   "cell_type": "markdown",
   "id": "8f6bd6fb-6697-43bd-b3ec-68b061afe511",
   "metadata": {},
   "source": [
    "- In order to run this notebook, a trained model needs to be stored under ```../../../artifacts/{dataset}/models/{model_label}/{load_timestamp}```\n",
    "    - dataset: ```mouse_brain_atlas```\n",
    "    - model_label: ```reference```\n",
    "    - load_timestamp: ```220824_000000_1```\n",
    "- Run this notebook in the nichecompass-reproducibility environment, installable from ```('../../../envs/environment.yaml')```."
   ]
  },
  {
   "cell_type": "markdown",
   "id": "2d464ebf-354f-4f61-8040-c3dcbcc893b9",
   "metadata": {},
   "source": [
    "## 1. Setup"
   ]
  },
  {
   "cell_type": "markdown",
   "id": "d5631277-d8d2-4194-a376-280f4f149b7d",
   "metadata": {},
   "source": [
    "### 1.1 Import Libraries"
   ]
  },
  {
   "cell_type": "code",
   "execution_count": 1,
   "id": "4e5d3297-0290-47c0-846f-705e74cdb3de",
   "metadata": {
    "tags": []
   },
   "outputs": [],
   "source": [
    "%load_ext autoreload\n",
    "%autoreload 2"
   ]
  },
  {
   "cell_type": "code",
   "execution_count": 2,
   "id": "8dbd4925-7505-4d01-bf91-95b54bb8b533",
   "metadata": {
    "tags": []
   },
   "outputs": [],
   "source": [
    "import sys\n",
    "sys.path.append(\"../../../utils\")"
   ]
  },
  {
   "cell_type": "code",
   "execution_count": 3,
   "id": "b4aa3c6a-5a44-4cf1-84a3-5e514457cf3c",
   "metadata": {
    "tags": []
   },
   "outputs": [
    {
     "name": "stderr",
     "output_type": "stream",
     "text": [
      "WARNING:root:Failed to download from `https://omnipathdb.org/`.\n",
      "WARNING:root:Traceback (most recent call last):\n",
      "  File \"/home/aih/sebastian.birk/miniconda3/envs/nichecompass-reproducibility/lib/python3.9/site-packages/urllib3/connectionpool.py\", line 404, in _make_request\n",
      "    self._validate_conn(conn)\n",
      "  File \"/home/aih/sebastian.birk/miniconda3/envs/nichecompass-reproducibility/lib/python3.9/site-packages/urllib3/connectionpool.py\", line 1061, in _validate_conn\n",
      "    conn.connect()\n",
      "  File \"/home/aih/sebastian.birk/miniconda3/envs/nichecompass-reproducibility/lib/python3.9/site-packages/urllib3/connection.py\", line 419, in connect\n",
      "    self.sock = ssl_wrap_socket(\n",
      "  File \"/home/aih/sebastian.birk/miniconda3/envs/nichecompass-reproducibility/lib/python3.9/site-packages/urllib3/util/ssl_.py\", line 458, in ssl_wrap_socket\n",
      "    ssl_sock = _ssl_wrap_socket_impl(\n",
      "  File \"/home/aih/sebastian.birk/miniconda3/envs/nichecompass-reproducibility/lib/python3.9/site-packages/urllib3/util/ssl_.py\", line 502, in _ssl_wrap_socket_impl\n",
      "    return ssl_context.wrap_socket(sock, server_hostname=server_hostname)\n",
      "  File \"/home/aih/sebastian.birk/miniconda3/envs/nichecompass-reproducibility/lib/python3.9/ssl.py\", line 501, in wrap_socket\n",
      "    return self.sslsocket_class._create(\n",
      "  File \"/home/aih/sebastian.birk/miniconda3/envs/nichecompass-reproducibility/lib/python3.9/ssl.py\", line 1074, in _create\n",
      "    self.do_handshake()\n",
      "  File \"/home/aih/sebastian.birk/miniconda3/envs/nichecompass-reproducibility/lib/python3.9/ssl.py\", line 1343, in do_handshake\n",
      "    self._sslobj.do_handshake()\n",
      "socket.timeout: _ssl.c:1116: The handshake operation timed out\n",
      "\n",
      "During handling of the above exception, another exception occurred:\n",
      "\n",
      "Traceback (most recent call last):\n",
      "  File \"/home/aih/sebastian.birk/miniconda3/envs/nichecompass-reproducibility/lib/python3.9/site-packages/requests/adapters.py\", line 667, in send\n",
      "    resp = conn.urlopen(\n",
      "  File \"/home/aih/sebastian.birk/miniconda3/envs/nichecompass-reproducibility/lib/python3.9/site-packages/urllib3/connectionpool.py\", line 802, in urlopen\n",
      "    retries = retries.increment(\n",
      "  File \"/home/aih/sebastian.birk/miniconda3/envs/nichecompass-reproducibility/lib/python3.9/site-packages/urllib3/util/retry.py\", line 552, in increment\n",
      "    raise six.reraise(type(error), error, _stacktrace)\n",
      "  File \"/home/aih/sebastian.birk/miniconda3/envs/nichecompass-reproducibility/lib/python3.9/site-packages/urllib3/packages/six.py\", line 770, in reraise\n",
      "    raise value\n",
      "  File \"/home/aih/sebastian.birk/miniconda3/envs/nichecompass-reproducibility/lib/python3.9/site-packages/urllib3/connectionpool.py\", line 716, in urlopen\n",
      "    httplib_response = self._make_request(\n",
      "  File \"/home/aih/sebastian.birk/miniconda3/envs/nichecompass-reproducibility/lib/python3.9/site-packages/urllib3/connectionpool.py\", line 407, in _make_request\n",
      "    self._raise_timeout(err=e, url=url, timeout_value=conn.timeout)\n",
      "  File \"/home/aih/sebastian.birk/miniconda3/envs/nichecompass-reproducibility/lib/python3.9/site-packages/urllib3/connectionpool.py\", line 358, in _raise_timeout\n",
      "    raise ReadTimeoutError(\n",
      "urllib3.exceptions.ReadTimeoutError: HTTPSConnectionPool(host='omnipathdb.org', port=443): Read timed out. (read timeout=3.0)\n",
      "\n",
      "During handling of the above exception, another exception occurred:\n",
      "\n",
      "Traceback (most recent call last):\n",
      "  File \"/home/aih/sebastian.birk/miniconda3/envs/nichecompass-reproducibility/lib/python3.9/site-packages/omnipath/_core/downloader/_downloader.py\", line 143, in maybe_download\n",
      "    res = self._download(req)\n",
      "  File \"/home/aih/sebastian.birk/miniconda3/envs/nichecompass-reproducibility/lib/python3.9/site-packages/omnipath/_core/downloader/_downloader.py\", line 178, in _download\n",
      "    with self._session.send(\n",
      "  File \"/home/aih/sebastian.birk/miniconda3/envs/nichecompass-reproducibility/lib/python3.9/site-packages/requests/sessions.py\", line 703, in send\n",
      "    r = adapter.send(request, **kwargs)\n",
      "  File \"/home/aih/sebastian.birk/miniconda3/envs/nichecompass-reproducibility/lib/python3.9/site-packages/requests/adapters.py\", line 713, in send\n",
      "    raise ReadTimeout(e, request=request)\n",
      "requests.exceptions.ReadTimeout: HTTPSConnectionPool(host='omnipathdb.org', port=443): Read timed out. (read timeout=3.0)\n",
      "\n"
     ]
    }
   ],
   "source": [
    "import os\n",
    "import warnings\n",
    "\n",
    "import matplotlib.pyplot as plt\n",
    "import numpy as np\n",
    "import scanpy as sc\n",
    "\n",
    "from nichecompass.models import NicheCompass\n",
    "from nichecompass.utils import create_new_color_dict\n",
    "\n",
    "from analysis_utils import plot_category_in_latent_and_physical_space"
   ]
  },
  {
   "cell_type": "markdown",
   "id": "eeb8b324-ef18-4ab0-9ffb-8332d652458c",
   "metadata": {},
   "source": [
    "### 1.2 Define Parameters"
   ]
  },
  {
   "cell_type": "code",
   "execution_count": 4,
   "id": "9325589b-a7e4-4c31-97e7-8b7048248896",
   "metadata": {},
   "outputs": [],
   "source": [
    "dataset = \"mouse_brain_atlas\""
   ]
  },
  {
   "cell_type": "markdown",
   "id": "10ac7b6d-4518-4356-bfdd-e141bf25d504",
   "metadata": {},
   "source": [
    "#### 1.2.1 Generic Parameters"
   ]
  },
  {
   "cell_type": "code",
   "execution_count": 5,
   "id": "a4d4e6d9-239f-47c5-a30b-579b16d4c27c",
   "metadata": {
    "tags": []
   },
   "outputs": [],
   "source": [
    "## Model\n",
    "# AnnData keys\n",
    "gp_names_key = \"nichecompass_gp_names\"\n",
    "active_gp_names_key = \"nichecompass_active_gp_names\""
   ]
  },
  {
   "cell_type": "markdown",
   "id": "8e7be323-bd40-4fa0-a2d5-b8ddf5cc1c51",
   "metadata": {},
   "source": [
    "#### 1.2.2 Dataset-specific Parameters"
   ]
  },
  {
   "cell_type": "code",
   "execution_count": 6,
   "id": "01210b2f-017e-43f6-b650-5cc732252f8c",
   "metadata": {
    "tags": []
   },
   "outputs": [],
   "source": [
    "load_timestamp = \"220824_000000_1\"\n",
    "model_label = \"reference\"\n",
    "cell_type_key = \"cell_type\"\n",
    "spot_size = 50\n",
    "samples = [f\"batch{i}\" for i in range(1, 240)]\n",
    "latent_leiden_resolution = 0.2\n",
    "sample_key = \"batch\"\n",
    "    \n",
    "latent_cluster_key = f\"latent_leiden_{str(latent_leiden_resolution)}\""
   ]
  },
  {
   "cell_type": "markdown",
   "id": "a6c3b7fa-fa59-43dd-81d2-7e116650915f",
   "metadata": {},
   "source": [
    "### 1.3 Run Notebook Setup"
   ]
  },
  {
   "cell_type": "code",
   "execution_count": 7,
   "id": "1bf229ca-ab66-4e52-a31e-8655878d290d",
   "metadata": {
    "tags": []
   },
   "outputs": [],
   "source": [
    "sc.set_figure_params(figsize=(6, 6))"
   ]
  },
  {
   "cell_type": "code",
   "execution_count": 8,
   "id": "924032d4-24a4-45cf-87e1-0eba197da0c2",
   "metadata": {
    "tags": []
   },
   "outputs": [],
   "source": [
    "# Ignore future warnings and user warnings\n",
    "warnings.simplefilter(action=\"ignore\", category=FutureWarning)\n",
    "warnings.simplefilter(action=\"ignore\", category=UserWarning)\n",
    "warnings.simplefilter(action=\"ignore\", category=RuntimeWarning)"
   ]
  },
  {
   "cell_type": "code",
   "execution_count": 9,
   "id": "1f7952b9-4798-471b-a7b7-96c775b92e48",
   "metadata": {},
   "outputs": [],
   "source": [
    "plt.rcParams['font.family'] = 'Helvetica'\n",
    "plt.rcParams['font.size'] = 5"
   ]
  },
  {
   "cell_type": "code",
   "execution_count": 10,
   "id": "3a567cc2-2899-429b-b777-7b6174d16a06",
   "metadata": {},
   "outputs": [],
   "source": [
    "niche_color_map = {\n",
    "    \"0\": \"#66C5CC\",\n",
    "    \"1\": \"#F6CF71\",\n",
    "    \"2\": \"#F89C74\",\n",
    "    \"3\": \"#DCB0F2\",\n",
    "    \"4\": \"#87C55F\",\n",
    "    \"5\": \"#9EB9F3\",\n",
    "    \"6\": \"#FE88B1\",\n",
    "    \"7\": \"#C9DB74\",\n",
    "    \"8\": \"#8BE0A4\",\n",
    "    \"9\": \"#B497E7\",\n",
    "    \"10\": \"#D3B484\",\n",
    "    \"11\": \"#B3B3B3\",\n",
    "    \"12\": \"#276A8C\",\n",
    "    \"13\": \"#DAB6C4\",\n",
    "    \"14\": \"#9B4DCA\",\n",
    "    \"15\": \"#9D88A2\",\n",
    "    \"16\": \"#FF4D4D\",\n",
    "}"
   ]
  },
  {
   "cell_type": "markdown",
   "id": "2b886225-6b6d-433c-b117-47b9a8f8091f",
   "metadata": {},
   "source": [
    "### 1.4 Configure Paths and Create Directories"
   ]
  },
  {
   "cell_type": "code",
   "execution_count": 11,
   "id": "36675337-808d-40a9-93fc-d6cfa9473f66",
   "metadata": {
    "tags": []
   },
   "outputs": [],
   "source": [
    "# Define paths\n",
    "figure_folder_path = f\"../../../artifacts/{dataset}/figures/{model_label}/{load_timestamp}\"\n",
    "model_folder_path = f\"../../../artifacts/{dataset}/models/{model_label}/{load_timestamp}\"\n",
    "result_folder_path = f\"../../../artifacts/{dataset}/results/{model_label}/{load_timestamp}\"\n",
    "\n",
    "# Create required directories\n",
    "os.makedirs(figure_folder_path, exist_ok=True)\n",
    "os.makedirs(result_folder_path, exist_ok=True)"
   ]
  },
  {
   "cell_type": "markdown",
   "id": "9cea1a5c-d075-4e51-90e5-90684bee88a6",
   "metadata": {},
   "source": [
    "## 2. Model"
   ]
  },
  {
   "cell_type": "code",
   "execution_count": null,
   "id": "3dad2ca6-7e34-48bc-89ef-4f994389a0f1",
   "metadata": {
    "tags": []
   },
   "outputs": [],
   "source": [
    "# Load trained model\n",
    "model = NicheCompass.load(dir_path=model_folder_path,\n",
    "                          adata=None,\n",
    "                          adata_file_name=f\"{dataset}_{model_label}.h5ad\",\n",
    "                          gp_names_key=gp_names_key)"
   ]
  },
  {
   "cell_type": "code",
   "execution_count": null,
   "id": "4d99a385-5769-4c6b-a7dc-62f40028620a",
   "metadata": {},
   "outputs": [],
   "source": [
    "model.adata.uns[gp_names_key] = np.array([gp for gp in model.adata.uns[gp_names_key] if not \"Add-on \" in gp])\n",
    "model.adata.uns[active_gp_names_key] = np.array([gp for gp in model.adata.uns[active_gp_names_key] if not \"Add-on \" in gp])\n",
    "model.adata.uns[gp_names_key] = np.array([gp.replace(\" \", \"_\") for gp in model.adata.uns[gp_names_key]])\n",
    "model.adata.uns[active_gp_names_key] = np.array([gp.replace(\" \", \"_\") for gp in model.adata.uns[active_gp_names_key]])"
   ]
  },
  {
   "cell_type": "code",
   "execution_count": null,
   "id": "8fc40859-6a4a-4bfa-8362-d28d4c1c2057",
   "metadata": {
    "tags": []
   },
   "outputs": [],
   "source": [
    "# Check number of active gene programs\n",
    "active_gps = model.get_active_gps()\n",
    "print(f\"Number of total gene programs: {len(model.adata.uns[gp_names_key])}.\")\n",
    "print(f\"Number of active gene programs: {len(active_gps)}.\")\n",
    "\n",
    "gp_summary_df = model.get_gp_summary()\n",
    "gp_summary_df[gp_summary_df[\"gp_active\"] == True][20:]\n",
    "\n",
    "samples = model.adata.obs[sample_key].unique().tolist()\n",
    "model.add_active_gp_scores_to_obs()"
   ]
  },
  {
   "cell_type": "markdown",
   "id": "7f662f73-455e-46c2-bc4b-ec25fb2f1d2b",
   "metadata": {},
   "source": [
    "## 3. Analysis"
   ]
  },
  {
   "cell_type": "markdown",
   "id": "cac5fc20-7f07-4d92-a918-422b82d78fb8",
   "metadata": {},
   "source": [
    "### 3.1 Create Figures"
   ]
  },
  {
   "cell_type": "code",
   "execution_count": 12,
   "id": "746e18dd-04b1-4c86-a1d1-e4bd354fd917",
   "metadata": {},
   "outputs": [
    {
     "data": {
      "text/plain": [
       "'../../../artifacts/mouse_brain_atlas/models/reference/220824_000000_1'"
      ]
     },
     "execution_count": 12,
     "metadata": {},
     "output_type": "execute_result"
    }
   ],
   "source": [
    "model_folder_path"
   ]
  },
  {
   "cell_type": "code",
   "execution_count": 13,
   "id": "c7cd8ccd-a278-47cc-ae08-5e5fb77a1d92",
   "metadata": {},
   "outputs": [
    {
     "ename": "OSError",
     "evalue": "Unable to synchronously open file (truncated file: eof = 19976421376, sblock->base_addr = 0, stored_eof = 21314909440)",
     "output_type": "error",
     "traceback": [
      "\u001b[0;31m---------------------------------------------------------------------------\u001b[0m",
      "\u001b[0;31mOSError\u001b[0m                                   Traceback (most recent call last)",
      "Cell \u001b[0;32mIn[13], line 1\u001b[0m\n\u001b[0;32m----> 1\u001b[0m adata \u001b[38;5;241m=\u001b[39m \u001b[43msc\u001b[49m\u001b[38;5;241;43m.\u001b[39;49m\u001b[43mread_h5ad\u001b[49m\u001b[43m(\u001b[49m\u001b[38;5;124;43mf\u001b[39;49m\u001b[38;5;124;43m\"\u001b[39;49m\u001b[38;5;132;43;01m{\u001b[39;49;00m\u001b[43mmodel_folder_path\u001b[49m\u001b[38;5;132;43;01m}\u001b[39;49;00m\u001b[38;5;124;43m/anndata_umap_with_clusters.h5ad\u001b[39;49m\u001b[38;5;124;43m\"\u001b[39;49m\u001b[43m)\u001b[49m\n",
      "File \u001b[0;32m~/miniconda3/envs/nichecompass-reproducibility/lib/python3.9/site-packages/anndata/_io/h5ad.py:237\u001b[0m, in \u001b[0;36mread_h5ad\u001b[0;34m(filename, backed, as_sparse, as_sparse_fmt, chunk_size)\u001b[0m\n\u001b[1;32m    229\u001b[0m         \u001b[38;5;28;01mraise\u001b[39;00m \u001b[38;5;167;01mNotImplementedError\u001b[39;00m(\n\u001b[1;32m    230\u001b[0m             \u001b[38;5;124m\"\u001b[39m\u001b[38;5;124mCurrently only `X` and `raw/X` can be read as sparse.\u001b[39m\u001b[38;5;124m\"\u001b[39m\n\u001b[1;32m    231\u001b[0m         )\n\u001b[1;32m    233\u001b[0m rdasp \u001b[38;5;241m=\u001b[39m partial(\n\u001b[1;32m    234\u001b[0m     read_dense_as_sparse, sparse_format\u001b[38;5;241m=\u001b[39mas_sparse_fmt, axis_chunk\u001b[38;5;241m=\u001b[39mchunk_size\n\u001b[1;32m    235\u001b[0m )\n\u001b[0;32m--> 237\u001b[0m \u001b[38;5;28;01mwith\u001b[39;00m \u001b[43mh5py\u001b[49m\u001b[38;5;241;43m.\u001b[39;49m\u001b[43mFile\u001b[49m\u001b[43m(\u001b[49m\u001b[43mfilename\u001b[49m\u001b[43m,\u001b[49m\u001b[43m \u001b[49m\u001b[38;5;124;43m\"\u001b[39;49m\u001b[38;5;124;43mr\u001b[39;49m\u001b[38;5;124;43m\"\u001b[39;49m\u001b[43m)\u001b[49m \u001b[38;5;28;01mas\u001b[39;00m f:\n\u001b[1;32m    239\u001b[0m     \u001b[38;5;28;01mdef\u001b[39;00m\u001b[38;5;250m \u001b[39m\u001b[38;5;21mcallback\u001b[39m(func, elem_name: \u001b[38;5;28mstr\u001b[39m, elem, iospec):\n\u001b[1;32m    240\u001b[0m         \u001b[38;5;28;01mif\u001b[39;00m iospec\u001b[38;5;241m.\u001b[39mencoding_type \u001b[38;5;241m==\u001b[39m \u001b[38;5;124m\"\u001b[39m\u001b[38;5;124manndata\u001b[39m\u001b[38;5;124m\"\u001b[39m \u001b[38;5;129;01mor\u001b[39;00m elem_name\u001b[38;5;241m.\u001b[39mendswith(\u001b[38;5;124m\"\u001b[39m\u001b[38;5;124m/\u001b[39m\u001b[38;5;124m\"\u001b[39m):\n",
      "File \u001b[0;32m~/miniconda3/envs/nichecompass-reproducibility/lib/python3.9/site-packages/h5py/_hl/files.py:561\u001b[0m, in \u001b[0;36mFile.__init__\u001b[0;34m(self, name, mode, driver, libver, userblock_size, swmr, rdcc_nslots, rdcc_nbytes, rdcc_w0, track_order, fs_strategy, fs_persist, fs_threshold, fs_page_size, page_buf_size, min_meta_keep, min_raw_keep, locking, alignment_threshold, alignment_interval, meta_block_size, **kwds)\u001b[0m\n\u001b[1;32m    552\u001b[0m     fapl \u001b[38;5;241m=\u001b[39m make_fapl(driver, libver, rdcc_nslots, rdcc_nbytes, rdcc_w0,\n\u001b[1;32m    553\u001b[0m                      locking, page_buf_size, min_meta_keep, min_raw_keep,\n\u001b[1;32m    554\u001b[0m                      alignment_threshold\u001b[38;5;241m=\u001b[39malignment_threshold,\n\u001b[1;32m    555\u001b[0m                      alignment_interval\u001b[38;5;241m=\u001b[39malignment_interval,\n\u001b[1;32m    556\u001b[0m                      meta_block_size\u001b[38;5;241m=\u001b[39mmeta_block_size,\n\u001b[1;32m    557\u001b[0m                      \u001b[38;5;241m*\u001b[39m\u001b[38;5;241m*\u001b[39mkwds)\n\u001b[1;32m    558\u001b[0m     fcpl \u001b[38;5;241m=\u001b[39m make_fcpl(track_order\u001b[38;5;241m=\u001b[39mtrack_order, fs_strategy\u001b[38;5;241m=\u001b[39mfs_strategy,\n\u001b[1;32m    559\u001b[0m                      fs_persist\u001b[38;5;241m=\u001b[39mfs_persist, fs_threshold\u001b[38;5;241m=\u001b[39mfs_threshold,\n\u001b[1;32m    560\u001b[0m                      fs_page_size\u001b[38;5;241m=\u001b[39mfs_page_size)\n\u001b[0;32m--> 561\u001b[0m     fid \u001b[38;5;241m=\u001b[39m \u001b[43mmake_fid\u001b[49m\u001b[43m(\u001b[49m\u001b[43mname\u001b[49m\u001b[43m,\u001b[49m\u001b[43m \u001b[49m\u001b[43mmode\u001b[49m\u001b[43m,\u001b[49m\u001b[43m \u001b[49m\u001b[43muserblock_size\u001b[49m\u001b[43m,\u001b[49m\u001b[43m \u001b[49m\u001b[43mfapl\u001b[49m\u001b[43m,\u001b[49m\u001b[43m \u001b[49m\u001b[43mfcpl\u001b[49m\u001b[43m,\u001b[49m\u001b[43m \u001b[49m\u001b[43mswmr\u001b[49m\u001b[38;5;241;43m=\u001b[39;49m\u001b[43mswmr\u001b[49m\u001b[43m)\u001b[49m\n\u001b[1;32m    563\u001b[0m \u001b[38;5;28;01mif\u001b[39;00m \u001b[38;5;28misinstance\u001b[39m(libver, \u001b[38;5;28mtuple\u001b[39m):\n\u001b[1;32m    564\u001b[0m     \u001b[38;5;28mself\u001b[39m\u001b[38;5;241m.\u001b[39m_libver \u001b[38;5;241m=\u001b[39m libver\n",
      "File \u001b[0;32m~/miniconda3/envs/nichecompass-reproducibility/lib/python3.9/site-packages/h5py/_hl/files.py:235\u001b[0m, in \u001b[0;36mmake_fid\u001b[0;34m(name, mode, userblock_size, fapl, fcpl, swmr)\u001b[0m\n\u001b[1;32m    233\u001b[0m     \u001b[38;5;28;01mif\u001b[39;00m swmr \u001b[38;5;129;01mand\u001b[39;00m swmr_support:\n\u001b[1;32m    234\u001b[0m         flags \u001b[38;5;241m|\u001b[39m\u001b[38;5;241m=\u001b[39m h5f\u001b[38;5;241m.\u001b[39mACC_SWMR_READ\n\u001b[0;32m--> 235\u001b[0m     fid \u001b[38;5;241m=\u001b[39m \u001b[43mh5f\u001b[49m\u001b[38;5;241;43m.\u001b[39;49m\u001b[43mopen\u001b[49m\u001b[43m(\u001b[49m\u001b[43mname\u001b[49m\u001b[43m,\u001b[49m\u001b[43m \u001b[49m\u001b[43mflags\u001b[49m\u001b[43m,\u001b[49m\u001b[43m \u001b[49m\u001b[43mfapl\u001b[49m\u001b[38;5;241;43m=\u001b[39;49m\u001b[43mfapl\u001b[49m\u001b[43m)\u001b[49m\n\u001b[1;32m    236\u001b[0m \u001b[38;5;28;01melif\u001b[39;00m mode \u001b[38;5;241m==\u001b[39m \u001b[38;5;124m'\u001b[39m\u001b[38;5;124mr+\u001b[39m\u001b[38;5;124m'\u001b[39m:\n\u001b[1;32m    237\u001b[0m     fid \u001b[38;5;241m=\u001b[39m h5f\u001b[38;5;241m.\u001b[39mopen(name, h5f\u001b[38;5;241m.\u001b[39mACC_RDWR, fapl\u001b[38;5;241m=\u001b[39mfapl)\n",
      "File \u001b[0;32mh5py/_objects.pyx:54\u001b[0m, in \u001b[0;36mh5py._objects.with_phil.wrapper\u001b[0;34m()\u001b[0m\n",
      "File \u001b[0;32mh5py/_objects.pyx:55\u001b[0m, in \u001b[0;36mh5py._objects.with_phil.wrapper\u001b[0;34m()\u001b[0m\n",
      "File \u001b[0;32mh5py/h5f.pyx:102\u001b[0m, in \u001b[0;36mh5py.h5f.open\u001b[0;34m()\u001b[0m\n",
      "\u001b[0;31mOSError\u001b[0m: Unable to synchronously open file (truncated file: eof = 19976421376, sblock->base_addr = 0, stored_eof = 21314909440)"
     ]
    }
   ],
   "source": [
    "adata = sc.read_h5ad(f\"{model_folder_path}/anndata_umap_with_clusters.h5ad\")"
   ]
  },
  {
   "cell_type": "code",
   "execution_count": null,
   "id": "c49503d4-f441-4b1c-8dab-8ddb1504a233",
   "metadata": {},
   "outputs": [],
   "source": [
    "# Preprocess data (niche selection and filtering)\n",
    "niche_cell_counts = adata.obs[\"nichecompass_latent_cluster\"].value_counts().to_dict()\n",
    "retained_niches = [x for x, y in niche_cell_counts.items() if y > 100_000]\n",
    "adata_filtered = adata[adata.obs[\"nichecompass_latent_cluster\"].isin(retained_niches)]\n",
    "print(f\"retaining {len(adata_filtered)} of {len(adata)} cells following filtering\")"
   ]
  },
  {
   "cell_type": "code",
   "execution_count": null,
   "id": "2d90e9b7-d3ad-4f92-bd82-8c0d6a516517",
   "metadata": {},
   "outputs": [],
   "source": [
    "len(retained_niches)"
   ]
  },
  {
   "cell_type": "code",
   "execution_count": null,
   "id": "2740a901-c242-4842-8232-60944b20748c",
   "metadata": {},
   "outputs": [],
   "source": [
    "# Visualize subsample of embeddings\n",
    "adata_filtered_subsample = sc.pp.subsample(\n",
    "    adata_filtered, fraction=0.01, copy=True)\n",
    "\n",
    "fig = sc.pl.umap(adata_filtered_subsample,\n",
    "                 color=\"dataset\",\n",
    "                 title=\"NicheCompass GP embedding\",\n",
    "                 size=1, frameon=False,\n",
    "                 return_fig=True)\n",
    "plt.savefig(\"r3c12_gp_embedding.svg\")"
   ]
  },
  {
   "cell_type": "code",
   "execution_count": null,
   "id": "246d5473-830e-4e7d-99b4-5737c8d18657",
   "metadata": {},
   "outputs": [],
   "source": []
  },
  {
   "cell_type": "code",
   "execution_count": null,
   "id": "4de57692-87f3-42dc-ae9b-1d07a3a80880",
   "metadata": {},
   "outputs": [],
   "source": [
    "sc.pl.umap(adata_filtered_subsample,\n",
    "           color=\"nichecompass_latent_cluster\",\n",
    "           size=1,\n",
    "           palette=niche_color_map)"
   ]
  },
  {
   "cell_type": "code",
   "execution_count": null,
   "id": "c1da0ff9-4209-4d03-b8de-55d7b78fbb47",
   "metadata": {},
   "outputs": [],
   "source": [
    "# Plot niche composition\n",
    "freq_table = pd.crosstab(\n",
    "    adata_filtered.obs[\"dataset\"],\n",
    "    adata_filtered.obs[\"nichecompass_latent_cluster\"]\n",
    ")\n",
    "freq_table\n",
    "\n",
    "fig, ax = plt.subplots()\n",
    "ax = freq_table.transpose().plot(kind=\"bar\", stacked=True, ylabel=\"Number of cells\", xlabel=\"NicheCompass niche\", ax=ax)\n",
    "\n",
    "ax.grid(which='major', axis='y', linestyle='--')\n",
    "ax.grid(False, axis='x')\n",
    "ax.spines[['right', 'top']].set_visible(False)\n",
    "ax.spines[['left', 'bottom']].set_linewidth(1)\n",
    "ax.spines[['left', 'bottom']].set_color(\"black\")\n",
    "\n",
    "plt.xticks(rotation=0)\n",
    "\n",
    "ax.get_yaxis().set_major_formatter(ticker.FuncFormatter(lambda x, p: format(int(x), ',')))\n",
    "\n",
    "plt.savefig(\"r3c12_number_of_cells.svg\")"
   ]
  },
  {
   "cell_type": "code",
   "execution_count": null,
   "id": "476c5523-f742-4c6e-9ce9-c1e5abfe0f6e",
   "metadata": {},
   "outputs": [],
   "source": [
    "# Plot spatial distribution\n",
    "merfish_section_label = \"C57BL6J-1.083\"\n",
    "starmap_section_label = \"well11\"\n",
    "\n",
    "fig, axs = plt.subplots(1, 2)\n",
    "\n",
    "merfish_selected_section_adata = adata_filtered[\n",
    "    adata_filtered.obs[\"section\"] == merfish_section_label]\n",
    "sc.pl.spatial(merfish_selected_section_adata,\n",
    "              spot_size=20,\n",
    "              title=\"MERFISH\",\n",
    "              color=\"nichecompass_latent_cluster\",\n",
    "              palette=niche_color_map,\n",
    "              ax=axs[0],\n",
    "              return_fig=False,\n",
    "              show=False,\n",
    "              frameon=False)\n",
    "axs[0].legend().set_visible(False)\n",
    "\n",
    "def rotate_origin_only(xy, radians):\n",
    "    \"\"\"Only rotate a point around the origin (0, 0).\"\"\"\n",
    "    x, y = xy\n",
    "    xx = x * math.cos(radians) + y * math.sin(radians)\n",
    "    yy = -x * math.sin(radians) + y * math.cos(radians)\n",
    "\n",
    "    return [xx, yy]\n",
    "\n",
    "starmap_selected_section_adata = adata_filtered[\n",
    "    adata_filtered.obs[\"section\"] == starmap_section_label]\n",
    "spatial_coordinates = starmap_selected_section_adata.obsm[\"spatial\"].tolist()\n",
    "rotated_spatial_coordinates = [rotate_origin_only(xy, math.pi/2) for xy in spatial_coordinates]\n",
    "starmap_selected_section_adata.obsm[\"spatial\"] = np.array(rotated_spatial_coordinates)\n",
    "sc.pl.spatial(starmap_selected_section_adata,\n",
    "              spot_size=0.12,\n",
    "              title=\"STARmap PLUS\",\n",
    "              color=\"nichecompass_latent_cluster\",\n",
    "              palette=niche_color_map,\n",
    "              ax=axs[1],\n",
    "              return_fig=False,\n",
    "              show=False,\n",
    "              frameon=False)\n",
    "\n",
    "legend_elements = [matplotlib.patches.Patch(facecolor=y, edgecolor=y, label=x) for x, y in niche_color_map.items()]\n",
    "\n",
    "leg = axs[1].legend(handles=legend_elements,\n",
    "                    loc=\"right\",\n",
    "                    bbox_to_anchor=(1.5, 0.5),\n",
    "                    frameon=False)\n",
    "\n",
    "plt.savefig(\"r3c12_slide_overview.svg\")"
   ]
  },
  {
   "cell_type": "code",
   "execution_count": null,
   "id": "67dd150e-73e4-4b10-b17c-8748242a53e8",
   "metadata": {},
   "outputs": [],
   "source": [
    "# Visualize niches\n",
    "color_map = {\"True\": \"blue\", \"False\": \"lightgrey\"}\n",
    "\n",
    "for selected_nichecompass_latent_cluster in retained_niches:\n",
    "    \n",
    "    fig, axs = plt.subplots(1, 2)\n",
    "    \n",
    "    # plot the merfish cluster\n",
    "    merfish_selected_section_adata.obs[\"is_cluster\"] = merfish_selected_section_adata.obs[\"nichecompass_latent_cluster\"] == selected_nichecompass_latent_cluster\n",
    "    merfish_selected_section_adata.obs[\"is_cluster\"] = merfish_selected_section_adata.obs[\"is_cluster\"].astype(\"str\")\n",
    "    sc.pl.spatial(merfish_selected_section_adata,\n",
    "                  spot_size=20,\n",
    "                  return_fig=False,\n",
    "                  title=\"MERFISH\",\n",
    "                  color=\"is_cluster\",\n",
    "                  show=False,\n",
    "                  ax=axs[0],\n",
    "                  palette=color_map,\n",
    "                  frameon=False)\n",
    "    \n",
    "    # plot the starmap cluster\n",
    "    starmap_selected_section_adata.obs[\"is_cluster\"] = starmap_selected_section_adata.obs[\"nichecompass_latent_cluster\"] == selected_nichecompass_latent_cluster\n",
    "    starmap_selected_section_adata.obs[\"is_cluster\"] = starmap_selected_section_adata.obs[\"is_cluster\"].astype(\"str\")\n",
    "    sc.pl.spatial(starmap_selected_section_adata,\n",
    "                  spot_size=0.12,\n",
    "                  return_fig=False,\n",
    "                  title=\"STARmap PLUS\",\n",
    "                  color=\"is_cluster\",\n",
    "                  show=False,\n",
    "                  ax=axs[1],\n",
    "                  palette=color_map, \n",
    "                  frameon=False)\n",
    "    \n",
    "    axs[0].legend().set_visible(False)\n",
    "    axs[1].legend().set_visible(False)\n",
    "    \n",
    "    fig.suptitle(f\"niche {selected_nichecompass_latent_cluster}\")\n",
    "    plt.savefig(f\"{figure_folder_path}/r3c12_slide_detail_{selected_nichecompass_latent_cluster}.svg\")   "
   ]
  },
  {
   "cell_type": "markdown",
   "id": "7eb08e58-7866-4b2e-baf1-a4264c1a37b8",
   "metadata": {},
   "source": [
    "### 3.2 Save Results"
   ]
  },
  {
   "cell_type": "code",
   "execution_count": null,
   "id": "64e2a7ac-8d25-4d2d-aa75-09a0841dd720",
   "metadata": {},
   "outputs": [],
   "source": [
    "# Log normalize counts for cellxgene server\n",
    "model.adata.layers['counts'] = model.adata.X\n",
    "sc.pp.normalize_total(model.adata, target_sum=1e4)\n",
    "sc.pp.log1p(model.adata)\n",
    "\n",
    "# Store gp summary in adata\n",
    "gp_summary = model.get_gp_summary()\n",
    "for col in gp_summary.columns:\n",
    "    gp_summary[col] = gp_summary[col].astype(str)\n",
    "model.adata.uns[\"nichecompass_gp_summary\"] = gp_summary\n",
    "\n",
    "model.adata.write(f\"{result_folder_path}/{dataset}_analysis.h5ad\")"
   ]
  },
  {
   "cell_type": "code",
   "execution_count": null,
   "id": "355d1d04-aa90-4915-8920-d43dab8fe08b",
   "metadata": {},
   "outputs": [],
   "source": []
  }
 ],
 "metadata": {
  "kernelspec": {
   "display_name": "Python 3 (ipykernel)",
   "language": "python",
   "name": "python3"
  },
  "language_info": {
   "codemirror_mode": {
    "name": "ipython",
    "version": 3
   },
   "file_extension": ".py",
   "mimetype": "text/x-python",
   "name": "python",
   "nbconvert_exporter": "python",
   "pygments_lexer": "ipython3",
   "version": "3.9.19"
  },
  "toc-autonumbering": false,
  "toc-showcode": false,
  "toc-showmarkdowntxt": false
 },
 "nbformat": 4,
 "nbformat_minor": 5
}
