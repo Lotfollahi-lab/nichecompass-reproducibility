{
 "cells": [
  {
   "cell_type": "markdown",
   "id": "992dc6ee-ffc4-4d15-a364-486eaa5f6edc",
   "metadata": {},
   "source": [
    "# Mouse Brain Atlas"
   ]
  },
  {
   "cell_type": "markdown",
   "id": "c325d921-2077-42b3-90a8-6f6c7dd928c5",
   "metadata": {},
   "source": [
    "- **Creator**: Sebastian Birk (<sebastian.birk@helmholtz-munich.de>)\n",
    "- **Date of Creation:** 22.01.2023\n",
    "- **Date of Last Modification:** 11.01.2025 (Sebastian Birk; <sebastian.birk@helmholtz-munich.de>)"
   ]
  },
  {
   "cell_type": "markdown",
   "id": "8f6bd6fb-6697-43bd-b3ec-68b061afe511",
   "metadata": {},
   "source": [
    "- In order to run this notebook, a trained model needs to be stored under ```../../../artifacts/{dataset}/models/{model_label}/{load_timestamp}```\n",
    "    - dataset: ```mouse_brain_atlas```\n",
    "    - model_label: ```reference```\n",
    "    - load_timestamp: ```220824_000000_1```\n",
    "- Run this notebook in the nichecompass-reproducibility environment, installable from ```('../../../envs/environment.yaml')```."
   ]
  },
  {
   "cell_type": "markdown",
   "id": "2d464ebf-354f-4f61-8040-c3dcbcc893b9",
   "metadata": {},
   "source": [
    "## 1. Setup"
   ]
  },
  {
   "cell_type": "markdown",
   "id": "d5631277-d8d2-4194-a376-280f4f149b7d",
   "metadata": {},
   "source": [
    "### 1.1 Import Libraries"
   ]
  },
  {
   "cell_type": "code",
   "execution_count": null,
   "id": "4e5d3297-0290-47c0-846f-705e74cdb3de",
   "metadata": {
    "tags": []
   },
   "outputs": [],
   "source": [
    "%load_ext autoreload\n",
    "%autoreload 2"
   ]
  },
  {
   "cell_type": "code",
   "execution_count": null,
   "id": "8dbd4925-7505-4d01-bf91-95b54bb8b533",
   "metadata": {
    "tags": []
   },
   "outputs": [],
   "source": [
    "import sys\n",
    "sys.path.append(\"../../../utils\")"
   ]
  },
  {
   "cell_type": "code",
   "execution_count": null,
   "id": "b4aa3c6a-5a44-4cf1-84a3-5e514457cf3c",
   "metadata": {
    "tags": []
   },
   "outputs": [],
   "source": [
    "import math\n",
    "import os\n",
    "import warnings\n",
    "\n",
    "import matplotlib\n",
    "import matplotlib.pyplot as plt\n",
    "import numpy as np\n",
    "import pandas as pd\n",
    "import scanpy as sc\n",
    "from matplotlib import ticker\n",
    "\n",
    "from nichecompass.models import NicheCompass\n",
    "from nichecompass.utils import create_new_color_dict\n",
    "\n",
    "from analysis_utils import plot_category_in_latent_and_physical_space"
   ]
  },
  {
   "cell_type": "markdown",
   "id": "eeb8b324-ef18-4ab0-9ffb-8332d652458c",
   "metadata": {},
   "source": [
    "### 1.2 Define Parameters"
   ]
  },
  {
   "cell_type": "code",
   "execution_count": null,
   "id": "9325589b-a7e4-4c31-97e7-8b7048248896",
   "metadata": {},
   "outputs": [],
   "source": [
    "dataset = \"mouse_brain_atlas\""
   ]
  },
  {
   "cell_type": "markdown",
   "id": "10ac7b6d-4518-4356-bfdd-e141bf25d504",
   "metadata": {},
   "source": [
    "#### 1.2.1 Generic Parameters"
   ]
  },
  {
   "cell_type": "code",
   "execution_count": null,
   "id": "a4d4e6d9-239f-47c5-a30b-579b16d4c27c",
   "metadata": {
    "tags": []
   },
   "outputs": [],
   "source": [
    "## Model\n",
    "# AnnData keys\n",
    "gp_names_key = \"nichecompass_gp_names\"\n",
    "active_gp_names_key = \"nichecompass_active_gp_names\""
   ]
  },
  {
   "cell_type": "markdown",
   "id": "8e7be323-bd40-4fa0-a2d5-b8ddf5cc1c51",
   "metadata": {},
   "source": [
    "#### 1.2.2 Dataset-specific Parameters"
   ]
  },
  {
   "cell_type": "code",
   "execution_count": null,
   "id": "01210b2f-017e-43f6-b650-5cc732252f8c",
   "metadata": {
    "tags": []
   },
   "outputs": [],
   "source": [
    "load_timestamp = \"220824_000000_1\"\n",
    "model_label = \"reference\"\n",
    "cell_type_key = \"cell_type\"\n",
    "spot_size = 50\n",
    "samples = [f\"batch{i}\" for i in range(1, 240)]\n",
    "latent_leiden_resolution = 0.2\n",
    "sample_key = \"batch\"\n",
    "    \n",
    "latent_cluster_key = f\"latent_leiden_{str(latent_leiden_resolution)}\""
   ]
  },
  {
   "cell_type": "markdown",
   "id": "a6c3b7fa-fa59-43dd-81d2-7e116650915f",
   "metadata": {},
   "source": [
    "### 1.3 Run Notebook Setup"
   ]
  },
  {
   "cell_type": "code",
   "execution_count": null,
   "id": "1bf229ca-ab66-4e52-a31e-8655878d290d",
   "metadata": {
    "tags": []
   },
   "outputs": [],
   "source": [
    "sc.set_figure_params(figsize=(6, 6))"
   ]
  },
  {
   "cell_type": "code",
   "execution_count": null,
   "id": "924032d4-24a4-45cf-87e1-0eba197da0c2",
   "metadata": {
    "tags": []
   },
   "outputs": [],
   "source": [
    "# Ignore future warnings and user warnings\n",
    "warnings.simplefilter(action=\"ignore\", category=FutureWarning)\n",
    "warnings.simplefilter(action=\"ignore\", category=UserWarning)\n",
    "warnings.simplefilter(action=\"ignore\", category=RuntimeWarning)"
   ]
  },
  {
   "cell_type": "code",
   "execution_count": null,
   "id": "1f7952b9-4798-471b-a7b7-96c775b92e48",
   "metadata": {},
   "outputs": [],
   "source": [
    "plt.rcParams['font.family'] = 'Helvetica'\n",
    "plt.rcParams['font.size'] = 5"
   ]
  },
  {
   "cell_type": "code",
   "execution_count": null,
   "id": "3a567cc2-2899-429b-b777-7b6174d16a06",
   "metadata": {},
   "outputs": [],
   "source": [
    "niche_color_map = {\n",
    "    \"0\": \"#66C5CC\",\n",
    "    \"1\": \"#F6CF71\",\n",
    "    \"2\": \"#F89C74\",\n",
    "    \"3\": \"#DCB0F2\",\n",
    "    \"4\": \"#87C55F\",\n",
    "    \"5\": \"#9EB9F3\",\n",
    "    \"6\": \"#FE88B1\",\n",
    "    \"7\": \"#C9DB74\",\n",
    "    \"8\": \"#8BE0A4\",\n",
    "    \"9\": \"#B497E7\",\n",
    "    \"10\": \"#D3B484\",\n",
    "    \"11\": \"#B3B3B3\",\n",
    "    \"12\": \"#276A8C\",\n",
    "    \"13\": \"#DAB6C4\",\n",
    "    \"14\": \"#9B4DCA\",\n",
    "    \"15\": \"#9D88A2\",\n",
    "    \"16\": \"#FF4D4D\",\n",
    "}"
   ]
  },
  {
   "cell_type": "markdown",
   "id": "2b886225-6b6d-433c-b117-47b9a8f8091f",
   "metadata": {},
   "source": [
    "### 1.4 Configure Paths and Create Directories"
   ]
  },
  {
   "cell_type": "code",
   "execution_count": null,
   "id": "36675337-808d-40a9-93fc-d6cfa9473f66",
   "metadata": {
    "tags": []
   },
   "outputs": [],
   "source": [
    "# Define paths\n",
    "figure_folder_path = f\"../../../artifacts/{dataset}/figures/{model_label}/{load_timestamp}\"\n",
    "model_folder_path = f\"../../../artifacts/{dataset}/models/{model_label}/{load_timestamp}\"\n",
    "result_folder_path = f\"../../../artifacts/{dataset}/results/{model_label}/{load_timestamp}\"\n",
    "\n",
    "# Create required directories\n",
    "os.makedirs(figure_folder_path, exist_ok=True)\n",
    "os.makedirs(result_folder_path, exist_ok=True)"
   ]
  },
  {
   "cell_type": "markdown",
   "id": "9cea1a5c-d075-4e51-90e5-90684bee88a6",
   "metadata": {},
   "source": [
    "## 2. Data"
   ]
  },
  {
   "cell_type": "code",
   "execution_count": null,
   "id": "3dad2ca6-7e34-48bc-89ef-4f994389a0f1",
   "metadata": {
    "tags": []
   },
   "outputs": [],
   "source": [
    "adata = sc.read_h5ad(f\"{model_folder_path}/anndata_umap_with_clusters.h5ad\")"
   ]
  },
  {
   "cell_type": "markdown",
   "id": "7f662f73-455e-46c2-bc4b-ec25fb2f1d2b",
   "metadata": {},
   "source": [
    "## 3. Analysis"
   ]
  },
  {
   "cell_type": "markdown",
   "id": "cac5fc20-7f07-4d92-a918-422b82d78fb8",
   "metadata": {},
   "source": [
    "### 3.1 Create Figures"
   ]
  },
  {
   "cell_type": "code",
   "execution_count": null,
   "id": "c49503d4-f441-4b1c-8dab-8ddb1504a233",
   "metadata": {},
   "outputs": [],
   "source": [
    "# Preprocess data (niche selection and filtering)\n",
    "niche_cell_counts = adata.obs[\"nichecompass_latent_cluster\"].value_counts().to_dict()\n",
    "retained_niches = [x for x, y in niche_cell_counts.items() if y > 100_000]\n",
    "adata_filtered = adata[adata.obs[\"nichecompass_latent_cluster\"].isin(retained_niches)]\n",
    "print(f\"Retaining {len(adata_filtered)} of {len(adata)} cells following filtering\")\n",
    "print(f\"Retaining {len(retained_niches)} niches\")"
   ]
  },
  {
   "cell_type": "code",
   "execution_count": null,
   "id": "3260a89c-3edc-4dfe-adfa-393d91171b6b",
   "metadata": {},
   "outputs": [],
   "source": [
    "figure_folder_path"
   ]
  },
  {
   "cell_type": "code",
   "execution_count": null,
   "id": "2740a901-c242-4842-8232-60944b20748c",
   "metadata": {},
   "outputs": [],
   "source": [
    "### Extended Data Fig. 9a ###\n",
    "# Visualize subsample of embeddings\n",
    "adata_filtered_subsample = sc.pp.subsample(\n",
    "    adata_filtered, fraction=0.01, copy=True)\n",
    "\n",
    "fig = sc.pl.umap(adata_filtered_subsample,\n",
    "                 color=\"dataset\",\n",
    "                 title=\"NicheCompass GP embedding\",\n",
    "                 size=1, frameon=False,\n",
    "                 return_fig=True)\n",
    "plt.savefig(f\"{figure_folder_path}/e9_a.svg\")"
   ]
  },
  {
   "cell_type": "code",
   "execution_count": null,
   "id": "4de57692-87f3-42dc-ae9b-1d07a3a80880",
   "metadata": {},
   "outputs": [],
   "source": [
    "sc.pl.umap(adata_filtered_subsample,\n",
    "           color=\"nichecompass_latent_cluster\",\n",
    "           size=1,\n",
    "           palette=niche_color_map)"
   ]
  },
  {
   "cell_type": "code",
   "execution_count": null,
   "id": "c1da0ff9-4209-4d03-b8de-55d7b78fbb47",
   "metadata": {},
   "outputs": [],
   "source": [
    "### Extended Data Fig. 9b ###\n",
    "# Plot niche composition\n",
    "freq_table = pd.crosstab(\n",
    "    adata_filtered.obs[\"dataset\"],\n",
    "    adata_filtered.obs[\"nichecompass_latent_cluster\"]\n",
    ")\n",
    "freq_table\n",
    "\n",
    "fig, ax = plt.subplots()\n",
    "ax = freq_table.transpose().plot(kind=\"bar\", stacked=True, ylabel=\"Number of cells\", xlabel=\"NicheCompass niche\", ax=ax)\n",
    "\n",
    "ax.grid(which='major', axis='y', linestyle='--')\n",
    "ax.grid(False, axis='x')\n",
    "ax.spines[['right', 'top']].set_visible(False)\n",
    "ax.spines[['left', 'bottom']].set_linewidth(1)\n",
    "ax.spines[['left', 'bottom']].set_color(\"black\")\n",
    "\n",
    "plt.xticks(rotation=0)\n",
    "\n",
    "ax.get_yaxis().set_major_formatter(ticker.FuncFormatter(lambda x, p: format(int(x), ',')))\n",
    "\n",
    "plt.savefig(f\"{figure_folder_path}/e9_b.svg\")"
   ]
  },
  {
   "cell_type": "code",
   "execution_count": null,
   "id": "476c5523-f742-4c6e-9ce9-c1e5abfe0f6e",
   "metadata": {},
   "outputs": [],
   "source": [
    "### Extended Data Fig. 9c ###\n",
    "# Plot spatial distribution\n",
    "merfish_section_label = \"C57BL6J-1.083\"\n",
    "starmap_section_label = \"well11\"\n",
    "\n",
    "fig, axs = plt.subplots(1, 2)\n",
    "\n",
    "merfish_selected_section_adata = adata_filtered[\n",
    "    adata_filtered.obs[\"section\"] == merfish_section_label]\n",
    "sc.pl.spatial(merfish_selected_section_adata,\n",
    "              spot_size=20,\n",
    "              title=\"MERFISH\",\n",
    "              color=\"nichecompass_latent_cluster\",\n",
    "              palette=niche_color_map,\n",
    "              ax=axs[0],\n",
    "              return_fig=False,\n",
    "              show=False,\n",
    "              frameon=False)\n",
    "axs[0].legend().set_visible(False)\n",
    "\n",
    "def rotate_origin_only(xy, radians):\n",
    "    \"\"\"Only rotate a point around the origin (0, 0).\"\"\"\n",
    "    x, y = xy\n",
    "    xx = x * math.cos(radians) + y * math.sin(radians)\n",
    "    yy = -x * math.sin(radians) + y * math.cos(radians)\n",
    "\n",
    "    return [xx, yy]\n",
    "\n",
    "starmap_selected_section_adata = adata_filtered[\n",
    "    adata_filtered.obs[\"section\"] == starmap_section_label]\n",
    "spatial_coordinates = starmap_selected_section_adata.obsm[\"spatial\"].tolist()\n",
    "rotated_spatial_coordinates = [rotate_origin_only(xy, math.pi/2) for xy in spatial_coordinates]\n",
    "starmap_selected_section_adata.obsm[\"spatial\"] = np.array(rotated_spatial_coordinates)\n",
    "sc.pl.spatial(starmap_selected_section_adata,\n",
    "              spot_size=0.12,\n",
    "              title=\"STARmap PLUS\",\n",
    "              color=\"nichecompass_latent_cluster\",\n",
    "              palette=niche_color_map,\n",
    "              ax=axs[1],\n",
    "              return_fig=False,\n",
    "              show=False,\n",
    "              frameon=False)\n",
    "\n",
    "legend_elements = [matplotlib.patches.Patch(facecolor=y, edgecolor=y, label=x) for x, y in niche_color_map.items()]\n",
    "\n",
    "leg = axs[1].legend(handles=legend_elements,\n",
    "                    loc=\"right\",\n",
    "                    bbox_to_anchor=(1.5, 0.5),\n",
    "                    frameon=False)\n",
    "\n",
    "plt.savefig(f\"{figure_folder_path}/e9_c.svg\")"
   ]
  },
  {
   "cell_type": "code",
   "execution_count": null,
   "id": "67dd150e-73e4-4b10-b17c-8748242a53e8",
   "metadata": {},
   "outputs": [],
   "source": [
    "### Extended Data Fig. 9d ###\n",
    "# Visualize niches\n",
    "color_map = {\"True\": \"blue\", \"False\": \"lightgrey\"}\n",
    "\n",
    "for selected_nichecompass_latent_cluster in retained_niches:\n",
    "    \n",
    "    fig, axs = plt.subplots(1, 2)\n",
    "    \n",
    "    # plot the merfish cluster\n",
    "    merfish_selected_section_adata.obs[\"is_cluster\"] = merfish_selected_section_adata.obs[\"nichecompass_latent_cluster\"] == selected_nichecompass_latent_cluster\n",
    "    merfish_selected_section_adata.obs[\"is_cluster\"] = merfish_selected_section_adata.obs[\"is_cluster\"].astype(\"str\")\n",
    "    sc.pl.spatial(merfish_selected_section_adata,\n",
    "                  spot_size=20,\n",
    "                  return_fig=False,\n",
    "                  title=\"MERFISH\",\n",
    "                  color=\"is_cluster\",\n",
    "                  show=False,\n",
    "                  ax=axs[0],\n",
    "                  palette=color_map,\n",
    "                  frameon=False)\n",
    "    \n",
    "    # plot the starmap cluster\n",
    "    starmap_selected_section_adata.obs[\"is_cluster\"] = starmap_selected_section_adata.obs[\"nichecompass_latent_cluster\"] == selected_nichecompass_latent_cluster\n",
    "    starmap_selected_section_adata.obs[\"is_cluster\"] = starmap_selected_section_adata.obs[\"is_cluster\"].astype(\"str\")\n",
    "    sc.pl.spatial(starmap_selected_section_adata,\n",
    "                  spot_size=0.12,\n",
    "                  return_fig=False,\n",
    "                  title=\"STARmap PLUS\",\n",
    "                  color=\"is_cluster\",\n",
    "                  show=False,\n",
    "                  ax=axs[1],\n",
    "                  palette=color_map, \n",
    "                  frameon=False)\n",
    "    \n",
    "    axs[0].legend().set_visible(False)\n",
    "    axs[1].legend().set_visible(False)\n",
    "    \n",
    "    fig.suptitle(f\"niche {selected_nichecompass_latent_cluster}\")\n",
    "    plt.savefig(f\"{figure_folder_path}/e9_d.svg\")   "
   ]
  },
  {
   "cell_type": "code",
   "execution_count": null,
   "id": "159d315d-07bd-455e-a961-dfb9820a2154",
   "metadata": {},
   "outputs": [],
   "source": [
    "### Extended Data Fig. 9e ###\n",
    "# Plot spatial distribution\n",
    "merfish_section_label = \"C57BL6J-3.015\"\n",
    "starmap_section_label = \"sagittal1\"\n",
    "\n",
    "fig, axs = plt.subplots(1, 2)\n",
    "\n",
    "merfish_selected_section_adata = adata_filtered[\n",
    "    adata_filtered.obs[\"section\"] == merfish_section_label]\n",
    "sc.pl.spatial(merfish_selected_section_adata,\n",
    "              spot_size=20,\n",
    "              title=\"MERFISH\",\n",
    "              color=\"nichecompass_latent_cluster\",\n",
    "              palette=niche_color_map,\n",
    "              ax=axs[0],\n",
    "              return_fig=False,\n",
    "              show=False,\n",
    "              frameon=False)\n",
    "axs[0].legend().set_visible(False)\n",
    "\n",
    "def rotate_origin_only(xy, radians):\n",
    "    \"\"\"Only rotate a point around the origin (0, 0).\"\"\"\n",
    "    x, y = xy\n",
    "    xx = x * math.cos(radians) + y * math.sin(radians)\n",
    "    yy = -x * math.sin(radians) + y * math.cos(radians)\n",
    "\n",
    "    return [xx, yy]\n",
    "\n",
    "starmap_selected_section_adata = adata_filtered[\n",
    "    adata_filtered.obs[\"section\"] == starmap_section_label]\n",
    "spatial_coordinates = starmap_selected_section_adata.obsm[\"spatial\"].tolist()\n",
    "rotated_spatial_coordinates = [rotate_origin_only(xy, math.pi/2) for xy in spatial_coordinates]\n",
    "starmap_selected_section_adata.obsm[\"spatial\"] = np.array(rotated_spatial_coordinates)\n",
    "sc.pl.spatial(starmap_selected_section_adata,\n",
    "              spot_size=0.12,\n",
    "              title=\"STARmap PLUS\",\n",
    "              color=\"nichecompass_latent_cluster\",\n",
    "              palette=niche_color_map,\n",
    "              ax=axs[1],\n",
    "              return_fig=False,\n",
    "              show=False,\n",
    "              frameon=False)\n",
    "\n",
    "legend_elements = [matplotlib.patches.Patch(facecolor=y, edgecolor=y, label=x) for x, y in niche_color_map.items()]\n",
    "\n",
    "leg = axs[1].legend(handles=legend_elements,\n",
    "                    loc=\"right\",\n",
    "                    bbox_to_anchor=(1.5, 0.5),\n",
    "                    frameon=False)\n",
    "\n",
    "plt.savefig(f\"{figure_folder_path}/e9_e1.svg\")"
   ]
  },
  {
   "cell_type": "code",
   "execution_count": null,
   "id": "fd91f129-2415-4c18-96be-864d3fc0f6b3",
   "metadata": {},
   "outputs": [],
   "source": [
    "### Extended Data Fig. 9e ###\n",
    "# Plot spatial distribution\n",
    "merfish_section_label = \"C57BL6J-1.129\"\n",
    "starmap_section_label = \"well10\"\n",
    "\n",
    "fig, axs = plt.subplots(1, 2)\n",
    "\n",
    "merfish_selected_section_adata = adata_filtered[\n",
    "    adata_filtered.obs[\"section\"] == merfish_section_label]\n",
    "sc.pl.spatial(merfish_selected_section_adata,\n",
    "              spot_size=20,\n",
    "              title=\"MERFISH\",\n",
    "              color=\"nichecompass_latent_cluster\",\n",
    "              palette=niche_color_map,\n",
    "              ax=axs[0],\n",
    "              return_fig=False,\n",
    "              show=False,\n",
    "              frameon=False)\n",
    "axs[0].legend().set_visible(False)\n",
    "\n",
    "def rotate_origin_only(xy, radians):\n",
    "    \"\"\"Only rotate a point around the origin (0, 0).\"\"\"\n",
    "    x, y = xy\n",
    "    xx = x * math.cos(radians) + y * math.sin(radians)\n",
    "    yy = -x * math.sin(radians) + y * math.cos(radians)\n",
    "\n",
    "    return [xx, yy]\n",
    "\n",
    "starmap_selected_section_adata = adata_filtered[\n",
    "    adata_filtered.obs[\"section\"] == starmap_section_label]\n",
    "spatial_coordinates = starmap_selected_section_adata.obsm[\"spatial\"].tolist()\n",
    "rotated_spatial_coordinates = [rotate_origin_only(xy, math.pi/2) for xy in spatial_coordinates]\n",
    "starmap_selected_section_adata.obsm[\"spatial\"] = np.array(rotated_spatial_coordinates)\n",
    "sc.pl.spatial(starmap_selected_section_adata,\n",
    "              spot_size=0.12,\n",
    "              title=\"STARmap PLUS\",\n",
    "              color=\"nichecompass_latent_cluster\",\n",
    "              palette=niche_color_map,\n",
    "              ax=axs[1],\n",
    "              return_fig=False,\n",
    "              show=False,\n",
    "              frameon=False)\n",
    "\n",
    "legend_elements = [matplotlib.patches.Patch(facecolor=y, edgecolor=y, label=x) for x, y in niche_color_map.items()]\n",
    "\n",
    "leg = axs[1].legend(handles=legend_elements,\n",
    "                    loc=\"right\",\n",
    "                    bbox_to_anchor=(1.5, 0.5),\n",
    "                    frameon=False)\n",
    "\n",
    "plt.savefig(f\"{figure_folder_path}/e9_e2.svg\")"
   ]
  },
  {
   "cell_type": "code",
   "execution_count": null,
   "id": "355d1d04-aa90-4915-8920-d43dab8fe08b",
   "metadata": {},
   "outputs": [],
   "source": []
  }
 ],
 "metadata": {
  "kernelspec": {
   "display_name": "Python 3 (ipykernel)",
   "language": "python",
   "name": "python3"
  },
  "language_info": {
   "codemirror_mode": {
    "name": "ipython",
    "version": 3
   },
   "file_extension": ".py",
   "mimetype": "text/x-python",
   "name": "python",
   "nbconvert_exporter": "python",
   "pygments_lexer": "ipython3",
   "version": "3.9.19"
  },
  "toc-autonumbering": false,
  "toc-showcode": false,
  "toc-showmarkdowntxt": false
 },
 "nbformat": 4,
 "nbformat_minor": 5
}
