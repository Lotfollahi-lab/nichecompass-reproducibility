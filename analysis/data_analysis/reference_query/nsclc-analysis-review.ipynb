{
 "cells": [
  {
   "cell_type": "markdown",
   "id": "a369d110-3fa4-4ecd-a172-871151f5eb7c",
   "metadata": {},
   "source": [
    "# Imports"
   ]
  },
  {
   "cell_type": "code",
   "execution_count": null,
   "id": "51629292-f85d-4ce5-ae96-600f025f1f53",
   "metadata": {},
   "outputs": [],
   "source": [
    "import seaborn as sns\n",
    "import matplotlib.pyplot as plt \n",
    "import scanpy as sc\n",
    "from matplotlib import rcParams\n",
    "import gc\n",
    "import glob\n",
    "import numpy as np\n",
    "from matplotlib.colors import to_hex\n",
    "import pandas as pd\n",
    "import matplotlib as mpl"
   ]
  },
  {
   "cell_type": "code",
   "execution_count": null,
   "id": "4627b7a2-a70e-42f8-9fdb-27b6a98133cb",
   "metadata": {},
   "outputs": [],
   "source": [
    "import warnings\n",
    "warnings.filterwarnings(\"ignore\")\n",
    "rcParams['figure.figsize'] = (4, 3)\n",
    "sns.set_style(\"whitegrid\", {'axes.grid' : False})"
   ]
  },
  {
   "cell_type": "code",
   "execution_count": null,
   "id": "c941e580-2fad-4a89-8e64-7c46abdf01da",
   "metadata": {},
   "outputs": [],
   "source": [
    "base_path = '/lustre/groups/imm01/workspace/irene.bonafonte/Projects/2023May_nichecompass/nichecompass-reproducibility'"
   ]
  },
  {
   "cell_type": "markdown",
   "id": "e0fcf2fe-fb6c-4b30-856b-69952a58b8e2",
   "metadata": {
    "tags": []
   },
   "source": [
    "# Functions"
   ]
  },
  {
   "cell_type": "code",
   "execution_count": null,
   "id": "b3d761f9-abbc-4d4d-bc7e-55e6dae3324b",
   "metadata": {},
   "outputs": [],
   "source": [
    "def load_adata(suffix, model='reference_query_mapping', dataset='nanostring_cosmx_human_nsclc'):    \n",
    "    model_folder = glob.glob(f'{base_path}/artifacts/{dataset}/models/{model}/*_{suffix}')[0]\n",
    "    adata_path = f\"{model_folder}/{dataset}_{model}.h5ad\"\n",
    "    adata = sc.read_h5ad(adata_path)\n",
    "    \n",
    "    from matplotlib.colors import to_hex\n",
    "    batch_colors = np.apply_along_axis(to_hex, 1, np.array(plt.get_cmap('tab20b').colors)[[0,1,3,5,8,11,13,17],:])\n",
    "    batch_colors = {b: c for b, c in zip(['lung5_rep1','lung5_rep2','lung5_rep3','lung6','lung9_rep1','lung9_rep2','lung12','lung13'], batch_colors)}\n",
    "    adata.uns['batch_colors'] = [batch_colors[b] for b in adata.obs.batch.unique()]\n",
    "    \n",
    "    return adata, adata_path"
   ]
  },
  {
   "cell_type": "code",
   "execution_count": null,
   "id": "a3ebbb12-5359-4b1b-b349-df2ca2e31e74",
   "metadata": {},
   "outputs": [],
   "source": [
    "def plot_cluster_proportions(cluster_props, \n",
    "                             cluster_palette=None,\n",
    "                             xlabel_rotation=0,\n",
    "                             figsize=(9,4),\n",
    "                             ax=None,\n",
    "                             figs=None): \n",
    "    if ax is None:\n",
    "        figs, ax = plt.subplots(figsize=figsize)\n",
    "        figs.patch.set_facecolor(\"white\")\n",
    "        figs.tight_layout()\n",
    "        \n",
    "    cmap = None\n",
    "    if cluster_palette is not None:\n",
    "        cmap = sns.palettes.blend_palette(\n",
    "            cluster_palette, \n",
    "            n_colors=len(cluster_palette), \n",
    "            as_cmap=True)    \n",
    "   \n",
    "    cluster_props.plot(\n",
    "        kind=\"bar\", \n",
    "        stacked=True, \n",
    "        ax=ax, \n",
    "        legend=None, \n",
    "        colormap=cmap\n",
    "    )\n",
    "    \n",
    "    ax.legend(bbox_to_anchor=(1.01, 1), frameon=False, title=\"Cluster\").remove()\n",
    "    ax.tick_params(axis=\"x\", rotation=xlabel_rotation, bottom=False)\n",
    "    ax.tick_params(axis=\"y\", rotation=90)\n",
    "    ax.set_xlabel('Niche', fontsize=20)\n",
    "    ax.set_ylabel(\"Proportion\", fontsize=20)\n",
    "    ax.tick_params(axis='both', which='major', labelsize=15)\n",
    "    ax.spines.left.set_bounds(0, 100)\n",
    "    ax.spines.right.set_visible(False)\n",
    "    ax.spines.bottom.set_visible(False)\n",
    "    ax.spines.top.set_visible(False)\n",
    "\n",
    "    return ax"
   ]
  },
  {
   "cell_type": "code",
   "execution_count": null,
   "id": "a6f86d72-b279-4e8f-849d-a56eb73967fb",
   "metadata": {},
   "outputs": [],
   "source": [
    "def plot_latent(adata, model='reference_query_mapping'):\n",
    "    \n",
    "    # plot umap and spatial with general characteristics\n",
    "    if model == 'reference_query_mapping':\n",
    "        query = adata.obs.batch[adata.obs.mapping_entity=='query'].unique()[0]\n",
    "        sc.pl.umap(adata, color=['mapping_entity','cell type', 'batch','niche'], ncols=4, wspace=0.5, size=0.5)\n",
    "        sc.pl.embedding(adata[adata.obs.batch==query], basis=\"spatial\", color=['cell type', 'niche'], ncols=2, wspace=0.5, size=1)\n",
    "        \n",
    "    elif model == 'reference':\n",
    "        sc.pl.umap(adata, color=['batch','cell type','niche'], ncols=3, wspace=0.5, size=0.5)\n",
    "\n",
    "    # plot clusters\n",
    "    cluster_res = adata.obs.columns[adata.obs.columns.str.contains('latent_leiden_')]\n",
    "    for cl in cluster_res:\n",
    "        if f'{cl}_colors' in adata.uns.keys():\n",
    "            del adata.uns[f'{cl}_colors']\n",
    "    sc.pl.umap(adata, color=cluster_res, ncols=4, wspace=0.5, size=0.5, palette=sc.pl.palettes.vega_20_scanpy)\n",
    "    \n",
    "    if model == 'reference_query_mapping':\n",
    "        sc.pl.embedding(adata[adata.obs.batch==query], basis=\"spatial\", color=cluster_res, ncols=4, wspace=0.5, size=1)    \n",
    "        \n",
    "    return"
   ]
  },
  {
   "cell_type": "code",
   "execution_count": null,
   "id": "75f0e952-1dda-43b0-9c36-9505eced7933",
   "metadata": {},
   "outputs": [],
   "source": [
    "def res_details(adata, resolution=0.4, model='reference_query_mapping'):\n",
    "\n",
    "    # plot spatial for all samples\n",
    "    fig, axes = plt.subplots(nrows=2, ncols=4, figsize=(21, 6))\n",
    "    for i, batch in enumerate(adata.obs.batch.unique()):\n",
    "        if i < 4:\n",
    "            sc.pl.embedding(adata[adata.obs.batch==batch], basis=\"spatial\", color=f'latent_leiden_{resolution}', size=1, show=False, ax=axes[0,i], title=batch)\n",
    "        else:\n",
    "            sc.pl.embedding(adata[adata.obs.batch==batch], basis=\"spatial\", color=f'latent_leiden_{resolution}', size=1, show=False, ax=axes[1,i-4], title=batch)\n",
    "    plt.tight_layout()\n",
    "    plt.show()\n",
    "    \n",
    "    # plot proportions\n",
    "    figs, axes = plt.subplots(nrows=1, ncols=3, figsize=(18, 3))\n",
    "    plot_var = f'latent_leiden_{resolution}'\n",
    "    \n",
    "    for i, cluster_var in enumerate(['cell type', 'niche', 'batch']):\n",
    "        props = adata.obs.groupby([cluster_var, plot_var]).size().reset_index()\n",
    "        props = props.pivot(columns=plot_var, index=cluster_var).T\n",
    "        props.index = props.index.droplevel(0)\n",
    "        props.fillna(0, inplace=True)\n",
    "        props = props.div(props.sum(axis=1), axis=0)*100 \n",
    "        axes[i] = plot_cluster_proportions(props, xlabel_rotation=90, cluster_palette=adata.uns[f'{cluster_var}_colors'], figsize=(4,3), ax=axes[i], figs=figs)\n",
    "    figs.show()\n",
    "\n",
    "    return"
   ]
  },
  {
   "cell_type": "code",
   "execution_count": null,
   "id": "a1027aec-9593-4af3-94ad-fdd7cb9a1561",
   "metadata": {},
   "outputs": [],
   "source": [
    "from matplotlib.colors import ListedColormap, to_rgb, to_hex\n",
    "def colorFader(c1, c2='#FFFFFF', n=10, mix=0):\n",
    "    n+=1\n",
    "    c1=np.array(to_rgb(c1))\n",
    "    c2=np.array(to_rgb(c2))\n",
    "    colors=[]\n",
    "    for x in range(n+1):\n",
    "         colors.append(to_hex((1-x/n)*c1 + c2*x/n))\n",
    "    return colors[:-1]"
   ]
  },
  {
   "cell_type": "markdown",
   "id": "d9432ac7-dc68-4e5d-9405-a61463d26e3e",
   "metadata": {
    "tags": []
   },
   "source": [
    "# Reference 43\n",
    "no contrastive, L1 0 add on, 1000 masked, decrease kl x10, 0.03 active GPs"
   ]
  },
  {
   "cell_type": "markdown",
   "id": "32892972-a2aa-4d6b-8753-c26fde81833b",
   "metadata": {
    "tags": []
   },
   "source": [
    "## Prepare for analysis"
   ]
  },
  {
   "cell_type": "markdown",
   "id": "472eadca-805e-41ec-8ec2-5e43ea9383d5",
   "metadata": {},
   "source": [
    "### Select resolution"
   ]
  },
  {
   "cell_type": "code",
   "execution_count": null,
   "id": "bb073cda-f814-4020-ad2d-a353cf7d7da1",
   "metadata": {},
   "outputs": [],
   "source": [
    "adata, adata_path = load_adata(suffix='43', model='reference')\n",
    "figure_path = adata_path.replace('models','figures').replace('/nanostring_cosmx_human_nsclc_reference.h5ad','')\n",
    "print(figure_path)\n",
    "adata"
   ]
  },
  {
   "cell_type": "code",
   "execution_count": null,
   "id": "b64a47b2-5c06-4e86-b0c8-a7f1387b5fce",
   "metadata": {},
   "outputs": [],
   "source": [
    "# merge super small cluster\n",
    "adata.obs.loc[(adata.obs['latent_leiden_0.4']=='11').values,'latent_leiden_0.4'] = '6'\n",
    "adata.obs.loc[(adata.obs['latent_leiden_0.45']=='12').values,'latent_leiden_0.45'] = '7'\n",
    "adata.obs.loc[(adata.obs['latent_leiden_0.5']=='12').values,'latent_leiden_0.5'] = '7'\n",
    "\n",
    "adata.obs['latent_leiden_0.4'] = adata.obs['latent_leiden_0.4'].cat.remove_unused_categories()\n",
    "adata.obs['latent_leiden_0.45'] = adata.obs['latent_leiden_0.45'].cat.remove_unused_categories()\n",
    "adata.obs['latent_leiden_0.5'] = adata.obs['latent_leiden_0.5'].cat.remove_unused_categories()"
   ]
  },
  {
   "cell_type": "code",
   "execution_count": null,
   "id": "21a83239-ede3-4453-866c-b868decd628b",
   "metadata": {},
   "outputs": [],
   "source": [
    "plot_latent(adata, model='reference')"
   ]
  },
  {
   "cell_type": "code",
   "execution_count": null,
   "id": "4bab049b-8a15-4761-914c-113e97f46284",
   "metadata": {},
   "outputs": [],
   "source": [
    "latent_leiden_resolution=0.45\n",
    "res_details(adata, resolution=latent_leiden_resolution, model='reference')"
   ]
  },
  {
   "cell_type": "code",
   "execution_count": null,
   "id": "e6ca6445-c7db-4fcd-932c-a8792f4c5d4c",
   "metadata": {},
   "outputs": [],
   "source": [
    "leiden2niche = {\n",
    "    '0': '1- Tumor (stroma border)', '2': '2- Tumor interior', '5': '3- Tumor (neutrophil border)', '7': '4- Tumor interior', '11': '5- Infiltrated tumor',\n",
    "    '3': '6- Neutrophil expansion', '4': '7- Myeloid cells rich stroma', '1': '8- Stroma', '6': '9- Plasmablast rich stroma', '9': '10- Lymphoid rich stroma', '8': '11- Lymphoid aggregates', '10': '12- Macrophage rich stroma'\n",
    "}\n",
    "\n",
    "leiden2leiden = {'0': '1', '2': '2', '5': '3', '7': '4', '11': '5', '3': '6', '4': '7', '1': '8', '6': '9', '9': '10', '8': '11', '10': '12'}\n",
    "adata.obs['niche'] = adata.obs['latent_leiden_0.45'].map(leiden2niche)\n",
    "adata.obs['leidenOrd'] = adata.obs['latent_leiden_0.45'].map(leiden2leiden)"
   ]
  },
  {
   "cell_type": "code",
   "execution_count": null,
   "id": "0d803a97-c238-40e8-a621-8f771984f009",
   "metadata": {},
   "outputs": [],
   "source": [
    "if not 'cluster_grups' in adata.uns:\n",
    "    adata.uns['cluster_groups'] = {}\n",
    "    \n",
    "adata.uns['cluster_groups'][f\"latent_leiden_0.45\"] = {\n",
    "    'tumor_clusters': ['0', '2', '5', '7', '11'],\n",
    "    'stroma_clusters': ['3', '4', '1', '6', '9', '8', '10'],\n",
    "    'neutrophil_clusters': ['3', '4'],\n",
    "    'macrophage_clusters': ['10'],\n",
    "    'lymphoid_clusters': ['6', '9', '8']\n",
    "}\n",
    "\n",
    "adata.uns['cluster_groups'][f\"leidenOrd\"] = {\n",
    "    'tumor_clusters': ['1', '2', '3', '4', '5'],\n",
    "    'stroma_clusters': ['6', '7', '8', '9', '10', '11', '12'],\n",
    "    'neutrophil_clusters': ['6', '7'],\n",
    "    'macrophage_clusters': ['12'],\n",
    "    'lymphoid_clusters': ['9', '10', '11']\n",
    "}"
   ]
  },
  {
   "cell_type": "markdown",
   "id": "fa5f6445-7627-405e-b1ff-da475670d0af",
   "metadata": {},
   "source": [
    "### Dendogram"
   ]
  },
  {
   "cell_type": "code",
   "execution_count": null,
   "id": "eafd11d0-4ef4-4413-bdc7-3d8219b051d2",
   "metadata": {},
   "outputs": [],
   "source": [
    "rcParams['figure.figsize'] = (6, 1.5)\n",
    "sc.tl.dendrogram(adata, groupby=\"latent_leiden_0.45\", use_rep='nichecompass_latent', n_pcs=adata.obsm['nichecompass_latent'].shape[1])\n",
    "sc.tl.dendrogram(adata, groupby=\"niche\", use_rep='nichecompass_latent', n_pcs=adata.obsm['nichecompass_latent'].shape[1])\n",
    "sc.pl.dendrogram(adata, groupby=\"niche\", orientation='bottom', show=True)\n",
    "rcParams['figure.figsize'] = (4, 3)"
   ]
  },
  {
   "cell_type": "markdown",
   "id": "1c972d09-12c5-47eb-91b7-9bdd2e50c11c",
   "metadata": {},
   "source": [
    "### Define palette"
   ]
  },
  {
   "cell_type": "code",
   "execution_count": null,
   "id": "24573849-ef74-4080-bf43-3058850df2c5",
   "metadata": {},
   "outputs": [],
   "source": [
    "adata.uns['cluster_groups']"
   ]
  },
  {
   "cell_type": "code",
   "execution_count": null,
   "id": "ebc8b22e-d3ed-41bb-8bd0-c1a7832d20c3",
   "metadata": {},
   "outputs": [],
   "source": [
    "adata.uns[f'dendrogram_latent_leiden_0.45']['categories_ordered']"
   ]
  },
  {
   "cell_type": "code",
   "execution_count": null,
   "id": "64e9b6c4-e823-4a2e-a67b-abf74cb7496f",
   "metadata": {},
   "outputs": [],
   "source": [
    "rcParams['figure.figsize'] = (4, 0.5)\n",
    "general=np.apply_along_axis(to_hex, 1, np.array(plt.get_cmap('Dark2').colors))\n",
    "a=np.outer(np.ones(len(general)),np.arange(0,1,0.01))   # pseudo image data\n",
    "plt.imshow(a,aspect='auto',cmap=plt.get_cmap('Dark2'),origin=\"lower\")\n",
    "rcParams['figure.figsize'] = (4, 3)"
   ]
  },
  {
   "cell_type": "code",
   "execution_count": null,
   "id": "bd6630ee-4893-4d1f-ac78-f0d311778adf",
   "metadata": {},
   "outputs": [],
   "source": [
    "# use dendogram order to define niche palette related to cell type\n",
    "general=np.apply_along_axis(to_hex, 1, np.array(plt.get_cmap('Dark2').colors))\n",
    "tumor=colorFader(general[2], c2='#FFFFFF', n=5, mix=0)\n",
    "lymphoid=general[4]\n",
    "myeloid=general[1]\n",
    "Blike=colorFader(general[0], c2='#FFFFFF', n=2, mix=0)\n",
    "neutrophil=colorFader(general[3], c2='#FFFFFF', n=2, mix=0)\n",
    "stroma=general[5]\n",
    "\n",
    "\n",
    "leiden_colDict = {\n",
    "    '0': tumor[0], '2': tumor[1], '5': tumor[2], '7': tumor[3], '11': tumor[4], \n",
    "    '3': neutrophil[0], '4': neutrophil[1], \n",
    "    '1': stroma, '6': Blike[0], '9': Blike[1], '8': lymphoid, '10': myeloid \n",
    "}\n",
    "adata.uns['latent_leiden_0.45_colors'] = [x for x in leiden_colDict.values()]\n",
    "adata.uns['leidenOrd_colors'] = [x for x in leiden_colDict.values()]\n",
    "adata.uns['niche_colors'] = [x for x in leiden_colDict.values()]"
   ]
  },
  {
   "cell_type": "code",
   "execution_count": null,
   "id": "ea304f07-943d-48e9-992e-16934af3aa3a",
   "metadata": {},
   "outputs": [],
   "source": [
    "adata.write_h5ad(adata_path)"
   ]
  },
  {
   "cell_type": "markdown",
   "id": "0e3a739a-5d3b-48df-87f5-3dc8d0b11f23",
   "metadata": {
    "tags": []
   },
   "source": [
    "## Overview plots"
   ]
  },
  {
   "cell_type": "code",
   "execution_count": null,
   "id": "85c0dafc-8a63-4a60-84c8-bba71fdad288",
   "metadata": {},
   "outputs": [],
   "source": [
    "sc.set_figure_params(fontsize=14, dpi=120)"
   ]
  },
  {
   "cell_type": "code",
   "execution_count": null,
   "id": "a8a3a314-a181-487b-bb09-e723a90a848c",
   "metadata": {},
   "outputs": [],
   "source": [
    "rcParams['figure.figsize'] = (8, 6)\n",
    "sc.pl.umap(adata, color=['niche'], ncols=1, wspace=1, size=2.5, legend_fontsize='x-large', show=False, frameon=False, title=[''])\n",
    "plt.savefig(f\"{figure_path}/a1.pdf\", bbox_inches=\"tight\", format='pdf')\n",
    "rcParams['figure.figsize'] = (4, 3)\n"
   ]
  },
  {
   "cell_type": "code",
   "execution_count": null,
   "id": "db7da16f-f8b7-4fa1-922c-4915b6ab7630",
   "metadata": {},
   "outputs": [],
   "source": [
    "rcParams['figure.figsize'] = (8, 6)\n",
    "sc.pl.umap(adata, color=['leidenOrd'], ncols=1, wspace=1, size=2.5, legend_fontsize='x-large', show=False, frameon=False, title=[''], legend_loc='on data')\n",
    "plt.savefig(f\"{figure_path}/a1_num.pdf\", bbox_inches=\"tight\", format='pdf')\n",
    "rcParams['figure.figsize'] = (4, 3)"
   ]
  },
  {
   "cell_type": "code",
   "execution_count": null,
   "id": "6ceb80a1-ed7b-4c24-81bc-3287f547665c",
   "metadata": {},
   "outputs": [],
   "source": [
    "rcParams['figure.figsize'] = (8, 6)\n",
    "sc.pl.umap(adata, color=['cell type'], ncols=1, wspace=1, size=2.5, legend_fontsize='x-large', show=False, frameon=False, title=[''])\n",
    "plt.savefig(f\"{figure_path}/a2.pdf\", bbox_inches=\"tight\", format='pdf')\n",
    "rcParams['figure.figsize'] = (4, 3)"
   ]
  },
  {
   "cell_type": "code",
   "execution_count": null,
   "id": "4fe9c083-13fe-4262-a745-465d93460001",
   "metadata": {},
   "outputs": [],
   "source": [
    "adata.obs['donor'] = adata.obs.batch.str.replace('_',' ')\n",
    "adata.obs['donor'] = adata.obs.donor.str.replace('lung','Donor ')\n",
    "adata.obs['donor'] = adata.obs.donor.str.replace('rep','r')\n",
    "adata.uns['donor_colors'] = adata.uns['batch_colors']\n",
    "\n",
    "rcParams['figure.figsize'] = (8, 6)\n",
    "sc.pl.umap(adata, color=['donor'], ncols=1, wspace=1, size=2.5, legend_fontsize='x-large', show=False, frameon=False, title=[''])\n",
    "plt.savefig(f\"{figure_path}/a3.pdf\", bbox_inches=\"tight\", format='pdf')\n",
    "rcParams['figure.figsize'] = (4, 3)"
   ]
  },
  {
   "cell_type": "code",
   "execution_count": null,
   "id": "4ba87fd5-0c60-4057-9200-d3a854d81352",
   "metadata": {},
   "outputs": [],
   "source": [
    "n = adata.obs.batch.nunique()\n",
    "fig, axes = plt.subplots(nrows=2, ncols=n, figsize=(8*n,6*2))\n",
    "\n",
    "for i, batch in enumerate(adata.obs.batch.unique()):\n",
    "    ax = sc.pl.embedding(adata[adata.obs.batch==batch], basis=\"spatial\", color=['cell type'], size=6, legend_loc=None, frameon=False, title=[''], ax=axes[0,i], show=False)\n",
    "    ax = sc.pl.embedding(adata[adata.obs.batch==batch], basis=\"spatial\", color=['leidenOrd'], size=6, legend_loc=None, frameon=False, title=[''], ax=axes[1,i], show=False)\n",
    "\n",
    "fig.tight_layout()\n",
    "fig.subplots_adjust(wspace=0.01, hspace=0.01)\n",
    "plt.savefig(f\"{figure_path}/histology_h.pdf\", bbox_inches=\"tight\", format='pdf')"
   ]
  },
  {
   "cell_type": "code",
   "execution_count": null,
   "id": "bf20460f-18fd-40a8-8fe5-ab401053322d",
   "metadata": {},
   "outputs": [],
   "source": [
    "cluster_var = 'batch'\n",
    "plot_var = 'leidenOrd'\n",
    "props = adata.obs.groupby([cluster_var, plot_var]).size().reset_index()\n",
    "props = props.pivot(columns=plot_var, index=cluster_var).T\n",
    "props.index = props.index.droplevel(0)\n",
    "props.fillna(0, inplace=True)\n",
    "props = props.div(props.sum(axis=1), axis=0)*100 \n",
    "fig = plot_cluster_proportions(props, xlabel_rotation=90, cluster_palette=adata.uns[f'{cluster_var}_colors'], figsize=(8,3))\n",
    "plt.savefig(f\"{figure_path}/a3_prop.pdf\", bbox_inches=\"tight\", format='pdf')\n"
   ]
  },
  {
   "cell_type": "code",
   "execution_count": null,
   "id": "0989d483-61ea-43d0-b576-1884a66d4a27",
   "metadata": {},
   "outputs": [],
   "source": [
    "cluster_var = 'batch'\n",
    "plot_var = 'leidenOrd'\n",
    "props = adata[adata.obs.leidenOrd.isin(['3','5'])].obs.groupby([cluster_var, plot_var]).size().reset_index()\n",
    "props = props.pivot(columns=plot_var, index=cluster_var).T\n",
    "props.index = props.index.droplevel(0)\n",
    "props.fillna(0, inplace=True)\n",
    "props = props.div(props.sum(axis=1), axis=0)*100 \n",
    "fig = plot_cluster_proportions(props, xlabel_rotation=90, cluster_palette=adata.uns[f'{cluster_var}_colors'], figsize=(2,3))\n",
    "plt.savefig(f\"{figure_path}/i.pdf\", bbox_inches=\"tight\", format='pdf')"
   ]
  },
  {
   "cell_type": "code",
   "execution_count": null,
   "id": "0c05cae4-900c-444d-9301-247d068abe12",
   "metadata": {},
   "outputs": [],
   "source": [
    "cluster_var = 'cell type'\n",
    "plot_var = 'leidenOrd'\n",
    "props = adata.obs.groupby([cluster_var, plot_var]).size().reset_index()\n",
    "props = props.pivot(columns=plot_var, index=cluster_var).T\n",
    "props.index = props.index.droplevel(0)\n",
    "props.fillna(0, inplace=True)\n",
    "props = props.div(props.sum(axis=1), axis=0)*100 \n",
    "fig = plot_cluster_proportions(props, xlabel_rotation=90, cluster_palette=adata.uns[f'{cluster_var}_colors'], figsize=(8,3))\n",
    "plt.savefig(f\"{figure_path}/a2_prop.pdf\", bbox_inches=\"tight\", format='pdf')"
   ]
  },
  {
   "cell_type": "code",
   "execution_count": null,
   "id": "5e209fea-ddd6-4349-a7c0-0bbf06bd5450",
   "metadata": {},
   "outputs": [],
   "source": [
    "cluster_var = 'cell type'\n",
    "plot_var = 'leidenOrd'\n",
    "props = adata[~adata.obs.niche.str.contains('tumor', case=False)].obs.groupby([cluster_var, plot_var]).size().reset_index()\n",
    "props = props.pivot(columns=plot_var, index=cluster_var).T\n",
    "props.index = props.index.droplevel(0)\n",
    "props.fillna(0, inplace=True)\n",
    "props = props.div(props.sum(axis=1), axis=0)*100 \n",
    "fig = plot_cluster_proportions(props, xlabel_rotation=90, cluster_palette=adata.uns[f'{cluster_var}_colors'], figsize=(5.5,3))\n",
    "plt.savefig(f\"{figure_path}/j.pdf\", bbox_inches=\"tight\", format='pdf')"
   ]
  },
  {
   "cell_type": "code",
   "execution_count": null,
   "id": "6f009735-6eed-44fa-a625-3a34e60a8427",
   "metadata": {},
   "outputs": [],
   "source": [
    "cluster_var='niche'\n",
    "plot_var='cell type'\n",
    "\n",
    "props = adata.obs.groupby([cluster_var, plot_var]).size().reset_index()\n",
    "props = props.pivot(columns=plot_var, index=cluster_var).T\n",
    "props.index = props.index.droplevel(0)\n",
    "props.fillna(0, inplace=True)\n",
    "props = props.div(props.sum(axis=1), axis=0)*100 \n",
    "props"
   ]
  },
  {
   "cell_type": "code",
   "execution_count": null,
   "id": "7035678f-be07-43da-8c2f-989b0352c592",
   "metadata": {},
   "outputs": [],
   "source": [
    "props.iloc[0,0:5].sum()"
   ]
  },
  {
   "cell_type": "code",
   "execution_count": null,
   "id": "5e488e0e-b3bf-485a-9b68-a2bb333a06de",
   "metadata": {},
   "outputs": [],
   "source": [
    "plot_var='niche'\n",
    "cluster_var='cell type'\n",
    "\n",
    "props = adata.obs.groupby([cluster_var, plot_var]).size().reset_index()\n",
    "props = props.pivot(columns=plot_var, index=cluster_var).T\n",
    "props.index = props.index.droplevel(0)\n",
    "props.fillna(0, inplace=True)\n",
    "props = props.div(props.sum(axis=1), axis=0)*100 \n",
    "props"
   ]
  },
  {
   "cell_type": "code",
   "execution_count": null,
   "id": "06ec7811-307a-4b20-a0c2-7bed9eb248e5",
   "metadata": {},
   "outputs": [],
   "source": [
    "adata[(adata.obs.batch=='lung12') & (adata.obs['cell type']=='tumor')].obs.niche.value_counts()/adata[(adata.obs.batch=='lung12') & (adata.obs['cell type']=='tumor')].shape[0]"
   ]
  },
  {
   "cell_type": "code",
   "execution_count": null,
   "id": "cae05c54-341f-493a-bcd1-0def50e36d7a",
   "metadata": {},
   "outputs": [],
   "source": [
    "sc.set_figure_params(fontsize=12, dpi=100)"
   ]
  },
  {
   "cell_type": "markdown",
   "id": "d7500a41-243f-40ee-8c60-f0e03aaae091",
   "metadata": {},
   "source": [
    "## Niche characterization"
   ]
  },
  {
   "cell_type": "code",
   "execution_count": null,
   "id": "fbfa7b17-97fd-45c7-98f7-2b98a6d235d3",
   "metadata": {},
   "outputs": [],
   "source": [
    "adata.layers[\"scaled\"] = sc.pp.scale(adata, copy=True).X\n",
    "\n",
    "markers = {\n",
    "    'B-cell': ['MS4A1', 'CD37', 'CD79A','CD19'],\n",
    "    'NK/T cell': ['CD2','IL7R','CD3G','CTLA4','CD69','GZMA','CD28','TIGIT'],\n",
    "    'endothelial': ['VWF','FLT1','CDH5','CLEC14A','RAMP2'],\n",
    "    'epithelial': ['CCL20','LAMP3','AQP3'],\n",
    "    'fibroblast': ['COL1A1','COL3A1','FN1'],\n",
    "    'mast': ['TPSB2', 'TPSAB1', 'CPA3'],\n",
    "    'DC/monocyte': ['CD163','CD74','HLA-DRB1','LYZ','FCGR3A','CD68','CD14'], # DC, monocyte, macrophage (SPP1 or not)    \n",
    "    'macrophage': ['MARCO', 'SPP1', 'C1QC', 'GPNMB'],\n",
    "    'neutrophil': ['CXCL8','CXCR1','CXCR2','IL1R2'],\n",
    "    'plasmablast': ['IGKC','IGHG1','JCHAIN','XBP1','MZB1', 'CD38'],\n",
    "}\n",
    "markers_list = [x for y in markers.values() for x in y]\n",
    "\n",
    "keep_niche = []\n",
    "niche_name = []\n",
    "for niche in adata.obs.niche.unique():\n",
    "    if not 'umor' in niche:\n",
    "        props = (adata[adata.obs.niche == niche].obs['cell type'].value_counts() / len(adata[adata.obs.niche == niche]))\n",
    "        keep = adata[adata.obs.niche == niche].obs['cell type'].value_counts()[(adata[adata.obs.niche == niche].obs['cell type'].value_counts() / len(adata[adata.obs.niche == niche])) > 0.1].index.values\n",
    "        keep_niche.append(keep.astype(str).tolist())\n",
    "        niche_name.append(niche)"
   ]
  },
  {
   "cell_type": "code",
   "execution_count": null,
   "id": "112673a5-31c6-443e-ba20-31f6e287d099",
   "metadata": {},
   "outputs": [],
   "source": [
    "# set up grid\n",
    "TEXT_WIDTH = 6.7261  # in\n",
    "DPI = 360\n",
    "\n",
    "def set_font_size(font_size):\n",
    "    plt.rc('font', size=font_size)          # controls default text sizes\n",
    "    plt.rc('axes', titlesize=font_size)     # fontsize of the axes title\n",
    "    plt.rc('axes', labelsize=font_size)     # fontsize of the x and y labels\n",
    "    plt.rc('xtick', labelsize=font_size-2)    # fontsize of the tick labels\n",
    "    plt.rc('ytick', labelsize=font_size-2)    # fontsize of the tick labels\n",
    "    plt.rc('legend', fontsize=font_size-4, title_fontsize=font_size)    # legend fontsize\n",
    "    plt.rc('figure', titlesize=font_size)   # fontsize of the figure title\n",
    "    \n",
    "sns.set(context='paper', style='whitegrid')\n",
    "plt.rc('grid', linewidth=0.3)\n",
    "sns.set_palette('colorblind')\n",
    "sc.set_figure_params(vector_friendly=True, dpi_save=DPI)\n",
    "set_font_size(10)\n",
    "plt.rcParams['figure.constrained_layout.use'] = True\n",
    "\n",
    "\n",
    "fig = plt.figure(figsize=(TEXT_WIDTH, TEXT_WIDTH * 0.5), dpi=DPI)\n",
    "gridspecs = {}\n",
    "\n",
    "gridspecs[\"columns\"] = mpl.gridspec.GridSpec(\n",
    "    figure=fig,\n",
    "    nrows=1,\n",
    "    ncols=2,\n",
    "    height_ratios=[1],\n",
    "    width_ratios=[1, 4],\n",
    ")\n",
    "\n",
    "gridspecs['barplots'] = mpl.gridspec.GridSpecFromSubplotSpec(\n",
    "    subplot_spec=gridspecs[\"columns\"][0],\n",
    "    nrows=len(niche_name),\n",
    "    ncols=1,\n",
    "    height_ratios=[len(x) for x in keep_niche],\n",
    "    width_ratios=[1],\n",
    "    hspace=0.35,\n",
    ")\n",
    "gridspecs['heatmaps'] = mpl.gridspec.GridSpecFromSubplotSpec(\n",
    "    subplot_spec=gridspecs[\"columns\"][1],\n",
    "    nrows=len(niche_name),\n",
    "    ncols=1,\n",
    "    height_ratios=[len(x) for x in keep_niche],\n",
    "    width_ratios=[1],\n",
    "    hspace=0.35,\n",
    ")\n",
    "\n",
    "ax_barplots, ax_heatmaps = {}, {}\n",
    "for i in range(len(keep_niche)):\n",
    "    ax_barplots[i] = fig.add_subplot(gridspecs['barplots'][i])\n",
    "    ax_heatmaps[i] = fig.add_subplot(gridspecs['heatmaps'][i])    "
   ]
  },
  {
   "cell_type": "code",
   "execution_count": null,
   "id": "3140cc4a-5616-4d7f-90b8-ff4ef6bb8b2c",
   "metadata": {},
   "outputs": [],
   "source": [
    "# cell type proportion\n",
    "batch_col_dict = pd.Series({cell: color for cell, color in zip(adata.obs['cell type'].cat.categories, adata.uns['cell type_colors'])})\n",
    "for i, niche in enumerate(niche_name):\n",
    "    props = (adata[adata.obs.niche == niche].obs['cell type'].value_counts() / len(adata[adata.obs.niche == niche]))\n",
    "    props = pd.DataFrame({'cell type': keep_niche[i],'proportion': props[keep_niche[i]], 'color': batch_col_dict[keep_niche[i]]})\n",
    "    \n",
    "    sns.barplot(props, x='proportion', y='cell type', hue='proportion', ax=ax_barplots[i], dodge=False, palette='Blues' , width=0.8)\n",
    "    ax_barplots[i].legend().remove()\n",
    "    ax_barplots[i].tick_params(axis=\"x\", rotation=90, bottom=False)\n",
    "    ax_barplots[i].tick_params(axis=\"y\", rotation=0)\n",
    "    ax_barplots[i].set_xlabel('')\n",
    "    ax_barplots[i].set_ylabel('')\n",
    "    ax_barplots[i].tick_params(axis='both', which='major', labelsize=6)\n",
    "    ax_barplots[i].spines.left.set_visible(False)\n",
    "    ax_barplots[i].spines.right.set_visible(False)\n",
    "    ax_barplots[i].spines.bottom.set_visible(False)\n",
    "    ax_barplots[i].spines.top.set_visible(False)\n",
    "    ax_barplots[i].set_xlim(ax_barplots[i].get_xlim()[1], ax_barplots[i].get_xlim()[0])\n",
    "    ax_barplots[i].yaxis.set_label_position('right')\n",
    "    ax_barplots[i].yaxis.set_ticks_position('right')\n",
    "    ax_barplots[i].get_xaxis().set_visible(False)\n",
    "    ax_barplots[i].tick_params(axis='y', which='both',length=0)\n",
    "\n",
    "# cell type markers\n",
    "for i, niche in enumerate(niche_name):\n",
    "    adata_tmp = adata[(adata.obs.niche == niche) & adata.obs['cell type'].isin(keep_niche[i])]\n",
    "    data = pd.DataFrame(adata_tmp[:,markers_list].layers['scaled'], index=adata_tmp.obs_names, columns=markers_list)\n",
    "    data['cell type'] = adata_tmp.obs['cell type'].values\n",
    "    data = data.groupby('cell type').mean()\n",
    "    data = data.loc[keep_niche[i],:]\n",
    "    \n",
    "    ax_heatmaps[i] = sns.heatmap(data, cmap='RdBu_r', center=0, cbar=False, linewidth=0.1, linecolor='gray', square=False, xticklabels=False, yticklabels=False, ax=ax_heatmaps[i])        \n",
    "    # ax_heatmaps[i] = sns.heatmap(data, cmap='RdBu_r', center=0, cbar=False, linewidth=0.1, linecolor='gray', square=False, xticklabels=True, yticklabels=False, ax=ax_heatmaps[i]) # to get gene labels\n",
    "    ax_heatmaps[i].set_ylabel('')\n",
    "    ax_heatmaps[i].set_xlabel('')\n",
    "    ax_heatmaps[i].yaxis.set_label_position('right')\n",
    "    ax_heatmaps[i].patch.set_edgecolor('black')\n",
    "    ax_heatmaps[i].patch.set_linewidth(1)\n",
    "\n",
    "fig.savefig('../../artifacts/nanostring_cosmx_human_nsclc/figures/reference/19102023_172844_43/markers_plot.pdf', dpi=DPI, bbox_inches='tight')"
   ]
  },
  {
   "cell_type": "markdown",
   "id": "57e6f5e5-ac3c-49fb-b204-ac6af2620c2b",
   "metadata": {},
   "source": [
    "## Niche highlight plots"
   ]
  },
  {
   "cell_type": "code",
   "execution_count": null,
   "id": "6d2696ad-c770-4a0d-ad07-82ce1a936dc5",
   "metadata": {},
   "outputs": [],
   "source": [
    "# add gp\n",
    "gp = 'CXCL1_ligand_receptor_GP'\n",
    "adata.obs[gp] = - adata.obsm['nichecompass_latent'][:,adata.uns['nichecompass_active_gp_names']==gp]\n",
    "\n",
    "rcParams['figure.figsize'] = (8, 6)\n",
    "batches = ['lung9_rep2','lung12']\n",
    "nr = len(batches)\n",
    "nc = 3\n",
    "fig, axes = plt.subplots(nrows=nr, ncols=nc, figsize=(8*nc,6*nr))\n",
    "for i, batch in enumerate(batches):\n",
    "    ax = sc.pl.embedding(adata[adata.obs.batch==batch], basis=\"spatial\", color=['cell type'], size=6, frameon=False, title=[''], ax=axes[i,1], show=False, legend_loc=None)\n",
    "    ax = sc.pl.embedding(adata[adata.obs.batch==batch], basis=\"spatial\", color=['niche'], size=6, frameon=False, title=[''], ax=axes[i,0], show=False, legend_loc=None, groups=['1- Tumor (stroma border)','3- Tumor (neutrophil border)','6- Neutrophil expansion'])\n",
    "    ax = sc.pl.embedding(adata[adata.obs.batch==batch], basis=\"spatial\", color=['CXCL1_ligand_receptor_GP'], size=10, frameon=False, title=[''], ax=axes[i,2], show=False, colorbar_loc=None, cmap='RdGy_r')\n",
    "    \n",
    "fig.tight_layout()\n",
    "fig.subplots_adjust(wspace=0.01, hspace=0.01)\n",
    "\n",
    "rcParams['figure.figsize'] = (4, 3)"
   ]
  },
  {
   "cell_type": "code",
   "execution_count": null,
   "id": "e4264776-fc0b-4210-a396-cd9a7c23c79d",
   "metadata": {},
   "outputs": [],
   "source": [
    "batches = ['lung5_rep1','lung12']\n",
    "n = len(batches)\n",
    "fig, axes = plt.subplots(nrows=2, ncols=n, figsize=(8*n,6*2))\n",
    "for i, batch in enumerate(batches):\n",
    "    ax = sc.pl.embedding(adata[adata.obs.batch==batch], basis=\"spatial\", color=['cell type'], size=6, frameon=False, title=[''], ax=axes[1,i], show=False, legend_loc=None)\n",
    "    ax = sc.pl.embedding(adata[adata.obs.batch==batch], basis=\"spatial\", color=['niche'], size=6, groups=['9- Plasmablast rich stroma','11- Lymphoid aggregates'], frameon=False, title=[''], ax=axes[0,i], show=False, legend_loc=None)\n",
    "\n",
    "fig.tight_layout()\n",
    "fig.subplots_adjust(wspace=0.01, hspace=0.01)\n",
    "plt.savefig(f\"{figure_path}/l.pdf\", bbox_inches=\"tight\", format='pdf')"
   ]
  },
  {
   "cell_type": "code",
   "execution_count": null,
   "id": "3837cf77-3117-439b-9c62-3309110f5d49",
   "metadata": {},
   "outputs": [],
   "source": [
    "# highlights\n",
    "batches = ['lung5_rep1','lung9_rep2']\n",
    "n = len(batches)\n",
    "fig, axes = plt.subplots(nrows=2, ncols=n, figsize=(8*n,6*2))\n",
    "for i, batch in enumerate(batches):\n",
    "    ax = sc.pl.embedding(adata[adata.obs.batch==batch], basis=\"spatial\", color=['cell type'], size=6, frameon=False, title=[''], ax=axes[1,i], show=False, legend_loc=None)\n",
    "    ax = sc.pl.embedding(adata[adata.obs.batch==batch], basis=\"spatial\", color=['niche'], size=6, groups=['6- Neutrophil expansion','7- Myeloid cells rich stroma'], frameon=False, title=[''], ax=axes[0,i], show=False, legend_loc=None)\n",
    "\n",
    "fig.tight_layout()\n",
    "fig.subplots_adjust(wspace=0.01, hspace=0.01)\n",
    "plt.savefig(f\"{figure_path}/m.pdf\", bbox_inches=\"tight\", format='pdf')"
   ]
  },
  {
   "cell_type": "markdown",
   "id": "2fdddbe8-4224-4b00-b426-1db16f14a7ba",
   "metadata": {
    "tags": []
   },
   "source": [
    "## Neighborhood composition"
   ]
  },
  {
   "cell_type": "code",
   "execution_count": null,
   "id": "bdae92a7-e39c-4d94-826b-724431ef65dc",
   "metadata": {},
   "outputs": [],
   "source": [
    "from sklearn.neighbors import NearestNeighbors\n",
    "leiden_col_key='leidenOrd'\n",
    "n=25\n",
    "\n",
    "# compute n neighbours per cell type\n",
    "knn = {}\n",
    "cell_counts = {}\n",
    "for b in adata.obs.batch.unique():\n",
    "    X = adata[adata.obs.batch==b].obsm['spatial']\n",
    "    celltypes = adata[adata.obs.batch==b].obs['cell type'].astype(str).values.astype('<U22')\n",
    "    cellnames = adata[adata.obs.batch==b].obs_names\n",
    "\n",
    "    knn[b] = NearestNeighbors(n_neighbors=n)\n",
    "    knn[b].fit(X)\n",
    "    knn[b] = knn[b].kneighbors(X, return_distance=False)    \n",
    "    knn[b] = celltypes[knn[b]]\n",
    "\n",
    "    for i in range(len(cellnames)):\n",
    "        unique, counts = np.unique(knn[b][i,:], return_counts=True)\n",
    "        cell_counts[cellnames[i]] = dict(zip(unique, counts))\n",
    "\n",
    "adata.obsm[f'k{n}_neighbours_celltype'] = pd.DataFrame(cell_counts).T.fillna(0)"
   ]
  },
  {
   "cell_type": "code",
   "execution_count": null,
   "id": "a039b41a-6caf-451a-aeb6-c0f51a0abcf6",
   "metadata": {},
   "outputs": [],
   "source": [
    "leiden_col_key='leidenOrd'\n",
    "for structure, groups in adata.uns['cluster_groups'][leiden_col_key].items():\n",
    "    # format for plotting and keep only those with an interesting number\n",
    "    dt = adata.obsm[f'k{n}_neighbours_celltype']\n",
    "    dt[leiden_col_key] = adata.obs[leiden_col_key]\n",
    "    dt = dt.loc[dt[leiden_col_key].isin(groups),:]\n",
    "    dt[leiden_col_key] = dt[leiden_col_key].cat.remove_unused_categories()\n",
    "    dt = dt.reset_index()\n",
    "    dt = pd.melt(dt, id_vars=['index',leiden_col_key], value_name=f'n NN/{n}', var_name='cell type')\n",
    "    dt['cell type'] = pd.Categorical(dt['cell type'], categories=adata.obs['cell type'].cat.categories)\n",
    "    if structure == 'tumor_clusters':\n",
    "        include = (dt.groupby(['cell type',leiden_col_key])[f'n NN/{n}'].mean().groupby(['cell type']).max() > n*0.05) & (dt.groupby(['cell type',leiden_col_key])[f'n NN/{n}'].mean().groupby(['cell type']).max() < n*0.6)\n",
    "        rcParams['figure.figsize'] = (len(groups)*1.5, 4)\n",
    "    else:\n",
    "        include = (dt.groupby(['cell type',leiden_col_key])[f'n NN/{n}'].mean().groupby(['cell type']).max() > n*0.15) & (dt.groupby(['cell type',leiden_col_key])[f'n NN/{n}'].mean().groupby(['cell type']).max() < n*0.6)\n",
    "        rcParams['figure.figsize'] = (len(groups)*2, 4)\n",
    "    dt = dt[dt['cell type'].isin(include[include].index.values)]\n",
    "    dt['cell type'] = dt['cell type'].cat.remove_unused_categories()\n",
    "\n",
    "    # plot\n",
    "    sns.boxplot(data=dt, x=leiden_col_key, y=f'n NN/{n}', hue='cell type', palette=adata.uns[f'cell type_colors'][include.values], showfliers = False).set(title='')\n",
    "    plt.ylim((0, 25))\n",
    "    plt.xticks(rotation=0)\n",
    "    plt.xlabel(\"\", fontsize=17.5)\n",
    "    plt.ylabel(f'neighborhood composition', fontsize=17.5)\n",
    "    plt.legend(frameon=False, loc='center left', bbox_to_anchor=(1, 0.7), fontsize=15)\n",
    "    plt.tick_params(bottom=False, labelsize=17.5)\n",
    "    sns.despine(offset=10, trim=True, bottom=True)\n",
    "    plt.savefig(f\"{figure_path}/spatial_{structure}_{b}.pdf\", bbox_inches=\"tight\", format='pdf')\n",
    "    plt.show()\n",
    "rcParams['figure.figsize'] = (4, 3)"
   ]
  },
  {
   "cell_type": "code",
   "execution_count": null,
   "id": "e8b95ee7-e55c-465e-982d-b4a63633a0a4",
   "metadata": {},
   "outputs": [],
   "source": [
    "# only sample 12\n",
    "from sklearn.neighbors import NearestNeighbors\n",
    "leiden_col_key='leidenOrd'\n",
    "n=25\n",
    "\n",
    "# compute n neighbours per cell type\n",
    "knn = {}\n",
    "cell_counts = {}\n",
    "b = 'lung12'\n",
    "X = adata[adata.obs.batch==b].obsm['spatial']\n",
    "celltypes = adata[adata.obs.batch==b].obs['cell type'].astype(str).values.astype('<U22')   \n",
    "cellnames = adata[adata.obs.batch==b].obs_names\n",
    "\n",
    "knn[b] = NearestNeighbors(n_neighbors=n)\n",
    "knn[b].fit(X)\n",
    "knn[b] = knn[b].kneighbors(X, return_distance=False)    \n",
    "knn[b] = celltypes[knn[b]]\n",
    "\n",
    "for i in range(len(cellnames)):\n",
    "    unique, counts = np.unique(knn[b][i,:], return_counts=True)\n",
    "    cell_counts[cellnames[i]] = dict(zip(unique, counts))\n",
    "\n",
    "res = pd.DataFrame(cell_counts).T.fillna(0)\n",
    "res[leiden_col_key] = adata.obs.loc[res.index,leiden_col_key]\n",
    "\n",
    "structure='tumor_clusters'\n",
    "groups=adata.uns['cluster_groups'][leiden_col_key][structure]\n",
    "    \n",
    "# format for plotting and keep only those with an interesting number\n",
    "dt = res.copy()\n",
    "dt = dt.loc[dt[leiden_col_key].isin(['3','5']),:]\n",
    "dt[leiden_col_key] = dt[leiden_col_key].cat.remove_unused_categories()\n",
    "dt = dt.reset_index()\n",
    "dt = pd.melt(dt, id_vars=['index',leiden_col_key], value_name=f'n NN/{n}', var_name='cell type')\n",
    "dt['cell type'] = pd.Categorical(dt['cell type'], categories=adata.obs['cell type'].cat.categories)\n",
    "include = (dt.groupby(['cell type',leiden_col_key])[f'n NN/{n}'].mean().groupby(['cell type']).max() > n*0.05) & (dt.groupby(['cell type',leiden_col_key])[f'n NN/{n}'].mean().groupby(['cell type']).max() < n*0.6)\n",
    "dt = dt[dt['cell type'].isin(include[include].index.values)]\n",
    "dt['cell type'] = dt['cell type'].cat.remove_unused_categories()\n",
    "\n",
    "# plot\n",
    "rcParams['figure.figsize'] = (2*1.5, 4)\n",
    "sns.boxplot(data=dt, x=leiden_col_key, y=f'n NN/{n}', hue='cell type', palette=adata.uns[f'cell type_colors'][include.values], showfliers = False).set(title='')\n",
    "plt.ylim((0, 25))\n",
    "plt.xticks(rotation=0)\n",
    "plt.xlabel(\"\", fontsize=17.5)\n",
    "plt.ylabel(f'neighborhood composition', fontsize=17.5)\n",
    "plt.legend(frameon=False, loc='center left', bbox_to_anchor=(1, 0.7), fontsize=15)\n",
    "plt.tick_params(bottom=False, labelsize=17)\n",
    "sns.despine(offset=10, trim=True, bottom=True)\n",
    "plt.savefig(f\"{figure_path}/spatial_{structure}_{b}.pdf\", bbox_inches=\"tight\", format='pdf')\n",
    "plt.show()\n",
    "rcParams['figure.figsize'] = (4, 3)"
   ]
  },
  {
   "cell_type": "markdown",
   "id": "863cc956-9623-4f3c-aeaa-dcbadf499564",
   "metadata": {},
   "source": [
    "### cell mixing with symmetric graph"
   ]
  },
  {
   "cell_type": "code",
   "execution_count": null,
   "id": "7ee86f9a-b11c-4e07-b765-783f5b3c710d",
   "metadata": {},
   "outputs": [],
   "source": [
    "import squidpy as sq\n",
    "\n",
    "# compute n neighbours per cell type\n",
    "for n in [4, 25, 50]: \n",
    "    knn = {}\n",
    "    cell_counts = {}\n",
    "    for b in adata.obs.batch.unique():\n",
    "        adata_tmp = adata[adata.obs.batch==b]\n",
    "        celltypes = adata_tmp.obs['cell type'].astype(str).values.astype('<U22')\n",
    "        cellnames = adata_tmp.obs_names\n",
    "        \n",
    "        sq.gr.spatial_neighbors(adata_tmp,\n",
    "                                coord_type=\"generic\",\n",
    "                                spatial_key=\"spatial\",\n",
    "                                n_neighs=n)\n",
    "\n",
    "        # Make adjacency matrix symmetric\n",
    "        adata_tmp.obsp['spatial_connectivities'] = (\n",
    "            adata_tmp.obsp['spatial_connectivities'].maximum(\n",
    "                adata_tmp.obsp['spatial_connectivities'].T))\n",
    "        \n",
    "        boolean_connectivities = adata_tmp.obsp['spatial_connectivities'].A.astype(bool)\n",
    "\n",
    "        for i in range(len(cellnames)):\n",
    "            unique, counts = np.unique(celltypes[boolean_connectivities[i,:]], return_counts=True)\n",
    "            cell_counts[cellnames[i]] = dict(zip(unique, counts))\n",
    "\n",
    "    adata.obsm[f'k{n}_neighbours_celltype'] = pd.DataFrame(cell_counts).T.fillna(0)"
   ]
  },
  {
   "cell_type": "code",
   "execution_count": null,
   "id": "1d47df43-0081-4abf-bddc-51a02207601c",
   "metadata": {},
   "outputs": [],
   "source": [
    "# per cell type\n",
    "for n in [4, 25, 50]:\n",
    "    # format for plotting and keep only those with an interesting number\n",
    "    leiden_col_key='cell type'\n",
    "    dt = adata.obsm[f'k{n}_neighbours_celltype'].copy()\n",
    "    dt['grouping_variable'] = adata.obs[leiden_col_key].copy()\n",
    "    leiden_col_key = 'grouping_variable'\n",
    "    # dt = dt.loc[dt[leiden_col_key]=='tumor']\n",
    "    dt[leiden_col_key] = dt[leiden_col_key].cat.remove_unused_categories()\n",
    "    dt = dt.reset_index()\n",
    "    dt = pd.melt(dt, id_vars=['index',leiden_col_key], value_name=f'n NN/{n}', var_name='cell type')\n",
    "    dt['cell type'] = pd.Categorical(dt['cell type'], categories=adata.obs['cell type'].cat.categories)\n",
    "\n",
    "    include = (dt.groupby(['cell type',leiden_col_key])[f'n NN/{n}'].mean().groupby(['cell type']).max() > n*0.)\n",
    "    # include = (dt.groupby(['cell type',leiden_col_key])[f'n NN/{n}'].mean().groupby(['cell type']).max() > n*0.15) & (dt.groupby(['cell type',leiden_col_key])[f'n NN/{n}'].mean().groupby(['cell type']).max() < n*0.6)\n",
    "    rcParams['figure.figsize'] = (adata.obs['cell type'].nunique()*2, 4)\n",
    "    dt = dt[dt['cell type'].isin(include[include].index.values)]\n",
    "    dt['cell type'] = dt['cell type'].cat.remove_unused_categories()\n",
    "\n",
    "    # plot\n",
    "    sns.boxplot(data=dt, x=leiden_col_key, y=f'n NN/{n}', hue='cell type', palette=adata.uns[f'cell type_colors'][include.values], showfliers = False).set(title='')\n",
    "    # plt.ylim((0, n))\n",
    "    plt.xticks(rotation=0)\n",
    "    plt.xlabel(\"\", fontsize=17.5)\n",
    "    plt.ylabel(f'neighborhood composition', fontsize=17.5)\n",
    "    plt.legend(frameon=False, loc='center left', bbox_to_anchor=(1, 0.7), fontsize=15)\n",
    "    plt.tick_params(bottom=False, labelsize=17.5)\n",
    "    sns.despine(offset=10, trim=True, bottom=True)\n",
    "    plt.savefig(f\"{figure_path}/spatial_{n}_cell_type.pdf\", bbox_inches=\"tight\", format='pdf')\n",
    "    plt.show()\n",
    "    rcParams['figure.figsize'] = (4, 3)\n"
   ]
  },
  {
   "cell_type": "code",
   "execution_count": null,
   "id": "ecc630ea-d37f-4314-a4ec-94f38384f1a7",
   "metadata": {},
   "outputs": [],
   "source": [
    "# in tumor niches\n",
    "for n in [4, 25, 50]: \n",
    "    # format for plotting and keep only those with an interesting number\n",
    "    leiden_col_key='leidenOrd'\n",
    "    dt = adata.obsm[f'k{n}_neighbours_celltype'].copy()\n",
    "    dt['leidenOrd'] = adata.obs[leiden_col_key].copy()\n",
    "    dt = dt[(adata.obs['cell type'] == 'tumor') & (adata.obs.niche.str.contains('umor'))]\n",
    "    # dt = dt.loc[dt[leiden_col_key]=='tumor']\n",
    "    dt[leiden_col_key] = dt[leiden_col_key].cat.remove_unused_categories()\n",
    "    dt = dt.reset_index()\n",
    "    dt = pd.melt(dt, id_vars=['index',leiden_col_key], value_name=f'n NN/{n}', var_name='cell type')\n",
    "    dt['cell type'] = pd.Categorical(dt['cell type'], categories=adata.obs['cell type'].cat.categories)\n",
    "\n",
    "    include = (dt.groupby(['cell type','leidenOrd'])[f'n NN/{n}'].mean().groupby(['cell type']).max() > n*0)\n",
    "    # include = (dt.groupby(['cell type',leiden_col_key])[f'n NN/{n}'].mean().groupby(['cell type']).max() > n*0.15) & (dt.groupby(['cell type',leiden_col_key])[f'n NN/{n}'].mean().groupby(['cell type']).max() < n*0.6)\n",
    "    rcParams['figure.figsize'] = (adata.obs[leiden_col_key].nunique()*2, 4)\n",
    "    dt = dt[dt['cell type'].isin(include[include].index.values)]\n",
    "    dt['cell type'] = dt['cell type'].cat.remove_unused_categories()\n",
    "\n",
    "    # plot\n",
    "    sns.boxplot(data=dt, x=leiden_col_key, y=f'n NN/{n}', hue='cell type', palette=adata.uns[f'cell type_colors'][include.values], showfliers = False).set(title='')\n",
    "    # plt.ylim((0, n))\n",
    "    plt.xticks(rotation=0)\n",
    "    plt.xlabel(\"\", fontsize=17.5)\n",
    "    plt.ylabel(f'neighborhood composition', fontsize=17.5)\n",
    "    plt.legend(frameon=False, loc='center left', bbox_to_anchor=(1, 0.7), fontsize=15)\n",
    "    plt.tick_params(bottom=False, labelsize=17.5)\n",
    "    sns.despine(offset=10, trim=True, bottom=True)\n",
    "    plt.savefig(f\"{figure_path}/spatial_{n}_leiden.pdf\", bbox_inches=\"tight\", format='pdf')\n",
    "    plt.show()\n",
    "    rcParams['figure.figsize'] = (4, 3)"
   ]
  },
  {
   "cell_type": "markdown",
   "id": "95e22de5-9c50-44ae-93fc-25437f67e54f",
   "metadata": {
    "tags": []
   },
   "source": [
    "## Compare GEX"
   ]
  },
  {
   "cell_type": "code",
   "execution_count": null,
   "id": "baabf5b4-a40c-49b8-b712-edda291c9631",
   "metadata": {},
   "outputs": [],
   "source": [
    "sc.tl.rank_genes_groups(adata, 'niche')\n",
    "sc.set_figure_params(fontsize=20, dpi=200)\n",
    "sc.pl.rank_genes_groups_dotplot(adata, n_genes=5)\n",
    "sc.set_figure_params(fontsize=12, dpi=100)"
   ]
  },
  {
   "cell_type": "code",
   "execution_count": null,
   "id": "58c96461-8656-45a1-86ec-8d89b57220d9",
   "metadata": {},
   "outputs": [],
   "source": [
    "# only tumor\n",
    "x = adata[adata.obs['niche'].isin([n for n in adata.obs['niche'].unique() if 'umor' in n])]\n",
    "sc.tl.rank_genes_groups(x, 'niche')\n",
    "rcParams['figure.figsize'] = (8, 12)\n",
    "sc.pl.rank_genes_groups_dotplot(x, n_genes=5, dendrogram=False)\n",
    "rcParams['figure.figsize'] = (4, 3)"
   ]
  },
  {
   "cell_type": "code",
   "execution_count": null,
   "id": "fe4125ea-61ff-4e4c-9918-614376d82686",
   "metadata": {},
   "outputs": [],
   "source": [
    "for structure, clusters in adata.uns['cluster_groups']['leidenOrd'].items():\n",
    "    print(structure)\n",
    "    sc.tl.rank_genes_groups(adata, 'leidenOrd', groups=clusters)\n",
    "    sc.pl.rank_genes_groups(adata, n_genes=25, sharey=False)"
   ]
  },
  {
   "cell_type": "code",
   "execution_count": null,
   "id": "5f966cd9-d812-4f64-8afd-ad8f0ad25f39",
   "metadata": {},
   "outputs": [],
   "source": [
    "# check important tumor markers\n",
    "sc.pl.umap(adata, color=['CD24','CD44','SOX9','SFN','SLPI','OLFM4','SOX4','MIF','AKT1','FGFR1','EGFR','KRT5','CD9','TYK2','CDH1','NDRG1','VEGFA','IGFBP5','DUSP5','MMP7','ITGB4','EPCAM','SERPINA1','WIF1'], ncols=8, wspace=0.3, size=0.5, frameon=False, color_map='viridis')"
   ]
  },
  {
   "cell_type": "code",
   "execution_count": null,
   "id": "d86166d1-7aaf-4ba5-9f83-820497d7cc47",
   "metadata": {},
   "outputs": [],
   "source": [
    "# check important tumor markers\n",
    "gf = ['EGF','EGFR','ERBB2','TGFB1', 'IGF1', 'IGF1R', 'IGF2', 'IGF2R', 'IGFBP3', 'IGFBP5', 'IGFBP6', 'IGFBP7', 'PDGFA', 'PDGFB', 'PDGFC', 'PDGFD', 'PDGFRA', 'PDGFRB', 'HIF1A', 'MAPK13', 'MAPK14']\n",
    "ras = ['KRAS', 'MYC']\n",
    "apoptosis = ['TP53','BCL2','BAX','BCL2L1']\n",
    "markers = gf+ras+apoptosis\n",
    "sc.pl.umap(adata, color=markers, ncols=8, wspace=0.3, size=0.5, color_map='viridis', frameon=False)"
   ]
  },
  {
   "cell_type": "markdown",
   "id": "270ef66a-ca10-4d30-9d63-8c82db5081bf",
   "metadata": {
    "tags": []
   },
   "source": [
    "## Compare GPs\n",
    "computed with the scripts/differential_gp.py script"
   ]
  },
  {
   "cell_type": "code",
   "execution_count": null,
   "id": "63fd5cc6-1246-42df-8797-a5dd60eb53d5",
   "metadata": {},
   "outputs": [],
   "source": [
    "rcParams['figure.figsize'] = (4, 3)"
   ]
  },
  {
   "cell_type": "code",
   "execution_count": null,
   "id": "58c52e76-3320-4d97-9394-2a50e4a4279b",
   "metadata": {},
   "outputs": [],
   "source": [
    "adata.uns['nichecompass_targets_categories_label_encoder'], adata.uns['nichecompass_sources_categories_label_encoder']"
   ]
  },
  {
   "cell_type": "markdown",
   "id": "bc256ef5-2b6a-4560-880c-e52e6b50d07d",
   "metadata": {
    "tags": []
   },
   "source": [
    "### Tumor niches"
   ]
  },
  {
   "cell_type": "code",
   "execution_count": null,
   "id": "542165c4-d809-4678-9232-49b3ab356390",
   "metadata": {},
   "outputs": [],
   "source": [
    "files = glob.glob(f\"{base_path}/artifacts/nanostring_cosmx_human_nsclc/results/reference/19102023_172844_43/gpTest_tumor_clusters_*_r0.45.csv\")\n",
    "significant_gps = []\n",
    "for f in files: \n",
    "    significant_gps.append(pd.read_csv(f, index_col=0))\n",
    "significant_gps = pd.concat(significant_gps, axis=0)\n",
    "significant_gps = significant_gps[~significant_gps.gene_program.str.contains('Add-on')]\n",
    "print(len(significant_gps))\n",
    "significant_gps.head()"
   ]
  },
  {
   "cell_type": "code",
   "execution_count": null,
   "id": "d7a0e5a9-56ba-460b-af4a-58bb8ebcb0c7",
   "metadata": {},
   "outputs": [],
   "source": [
    "interest_gps = significant_gps.gene_program.values\n",
    "invert = []\n",
    "\n",
    "# overwrite to selected GPs\n",
    "interest_gps = ['EFNB2_ligand_receptor_GP','Ghrl_ligand_receptor_target_gene_GP','CXCL1_ligand_receptor_GP','CEACAM6_ligand_receptor_GP','CXCL5_ligand_receptor_GP','Mmp7_ligand_receptor_target_gene_GP']\n",
    "invert = ['EFNB2_ligand_receptor_GP','Ghrl_ligand_receptor_target_gene_GP','CXCL1_ligand_receptor_GP','CXCL5_ligand_receptor_GP','Mmp7_ligand_receptor_target_gene_GP']\n",
    "\n",
    "# Create active gene program df\n",
    "interest_gp_df = pd.DataFrame(adata.obsm['nichecompass_latent'][:,pd.Series(adata.uns['nichecompass_active_gp_names']).isin(interest_gps).values],\n",
    "                            columns=adata.uns['nichecompass_active_gp_names'][pd.Series(adata.uns['nichecompass_active_gp_names']).isin(interest_gps).values])\n",
    "interest_gp_df = interest_gp_df.set_index(adata.obs.index)\n",
    "\n",
    "# Drop columns if they are already in ´adata.obs´ and invert if apropriate\n",
    "for gp in interest_gps:\n",
    "    if gp in adata.obs:\n",
    "        adata.obs.drop(gp, axis=1, inplace=True)\n",
    "        \n",
    "    if gp in invert:\n",
    "        interest_gp_df[gp] = -interest_gp_df[gp]\n",
    "\n",
    "# Concatenate active gene program df horizontally to ´adata.obs´\n",
    "adata.obs = pd.concat([adata.obs, interest_gp_df], axis=1)"
   ]
  },
  {
   "cell_type": "code",
   "execution_count": null,
   "id": "39e31fe5-448b-48cb-80e1-34229c335291",
   "metadata": {},
   "outputs": [],
   "source": [
    "for gp in interest_gps:\n",
    "    gp_idx = adata.uns['nichecompass_gp_names'].tolist().index(gp)\n",
    "    source = adata.var_names[(adata.varm['nichecompass_gp_sources_categories'][:,gp_idx] == 1) |  (adata.varm['nichecompass_gp_sources_categories'][:,gp_idx] == 2)].tolist()\n",
    "    targets = adata.var_names[(adata.varm['nichecompass_gp_targets_categories'][:,gp_idx] == 3) | (adata.varm['nichecompass_gp_targets_categories'][:,gp_idx] == 2)].tolist()\n",
    "    sc.pl.umap(adata, color=gp, ncols=5, size=0.5, frameon=False, cmap='RdGy_r')\n",
    "    if len(source+targets) > 0:\n",
    "        sc.pl.umap(adata, color=source+targets, ncols=5, size=0.5, frameon=False, cmap='RdPu')"
   ]
  },
  {
   "cell_type": "code",
   "execution_count": null,
   "id": "0b5928f9-a68f-4c88-aad8-b5c372575027",
   "metadata": {},
   "outputs": [],
   "source": [
    "sc.pl.embedding(adata[adata.obs.batch=='lung5_rep1'], basis=\"spatial\", color=['CEACAM6_ligand_receptor_GP', 'PTK2','SRC','CEACAM6'], size=6, frameon=False, color_map='viridis')\n",
    "sc.pl.umap(adata, color=['CEACAM6_ligand_receptor_GP', 'PTK2','SRC','CEACAM6'], size=1, frameon=False, color_map='viridis')"
   ]
  },
  {
   "cell_type": "code",
   "execution_count": null,
   "id": "77681d08-ee0d-4f2c-a9f9-b53d8940e71e",
   "metadata": {},
   "outputs": [],
   "source": [
    "rcParams['figure.figsize'] = (8, 6)\n",
    "adata.obs.columns = adata.obs.columns.str.replace('ligand_receptor_target_gene','LRT')\n",
    "adata.obs.columns = adata.obs.columns.str.replace('ligand_receptor','LR')\n",
    "interest_gps = pd.Series(interest_gps).str.replace('ligand_receptor_target_gene','LRT').str.replace('ligand_receptor','LR')\n",
    "sc.pl.MatrixPlot(adata[adata.obs.niche.str.contains('umor')], interest_gps, groupby='niche', cmap='viridis', standard_scale='var').show()\n",
    "rcParams['figure.figsize'] = (4, 3)"
   ]
  },
  {
   "cell_type": "markdown",
   "id": "920c94b5-fd12-455d-b173-9a9f0c33c09b",
   "metadata": {
    "tags": []
   },
   "source": [
    "### Tumor niches donor 9"
   ]
  },
  {
   "cell_type": "code",
   "execution_count": null,
   "id": "28e6870a-bd5a-4e10-9f2c-e6ea7917b544",
   "metadata": {},
   "outputs": [],
   "source": [
    "significant_gps=pd.read_csv(f\"{base_path}/artifacts/nanostring_cosmx_human_nsclc/results/reference/19102023_172844_43/gpTest_tumor_clusters_s9_0_r0.45.csv\")\n",
    "significant_gps = significant_gps[~significant_gps.gene_program.str.contains('Add-on')]"
   ]
  },
  {
   "cell_type": "code",
   "execution_count": null,
   "id": "4c7cdbde-567a-40f4-a07c-497c1c545005",
   "metadata": {},
   "outputs": [],
   "source": [
    "interest_gps = significant_gps.gene_program.values\n",
    "invert = []\n",
    "\n",
    "# Create active gene program df\n",
    "interest_gp_df = pd.DataFrame(adata.obsm['nichecompass_latent'][:,pd.Series(adata.uns['nichecompass_active_gp_names']).isin(interest_gps).values],\n",
    "                            columns=adata.uns['nichecompass_active_gp_names'][pd.Series(adata.uns['nichecompass_active_gp_names']).isin(interest_gps).values])\n",
    "interest_gp_df = interest_gp_df.set_index(adata.obs.index)\n",
    "\n",
    "# Drop columns if they are already in ´adata.obs´ and invert if apropriate\n",
    "for gp in interest_gps:\n",
    "    if gp in adata.obs:\n",
    "        adata.obs.drop(gp, axis=1, inplace=True)\n",
    "        \n",
    "    if gp in invert:\n",
    "        interest_gp_df[gp] = -interest_gp_df[gp]\n",
    "\n",
    "# Concatenate active gene program df horizontally to ´adata.obs´\n",
    "adata.obs = pd.concat([adata.obs, interest_gp_df], axis=1)"
   ]
  },
  {
   "cell_type": "code",
   "execution_count": null,
   "id": "44dcb326-d6d9-4aca-9dac-48b073543a6b",
   "metadata": {},
   "outputs": [],
   "source": [
    "# not executed to reduce notebook size\n",
    "for gp in interest_gps:\n",
    "    gp_idx = adata.uns['nichecompass_gp_names'].tolist().index(gp)\n",
    "    source = adata.var_names[(adata.varm['nichecompass_gp_sources_categories'][:,gp_idx] == 1) |  (adata.varm['nichecompass_gp_sources_categories'][:,gp_idx] == 2)].tolist()\n",
    "    targets = adata.var_names[(adata.varm['nichecompass_gp_targets_categories'][:,gp_idx] == 3) | (adata.varm['nichecompass_gp_targets_categories'][:,gp_idx] == 2)].tolist()\n",
    "    sc.pl.umap(adata, color=gp, ncols=5, size=0.5, frameon=False, cmap='RdGy_r')\n",
    "    if len(source+targets) > 0:\n",
    "        sc.pl.umap(adata, color=source+targets, ncols=5, size=0.5, frameon=False, cmap='RdPu')"
   ]
  },
  {
   "cell_type": "markdown",
   "id": "b176ef05-2690-4895-9e15-25c0262de55f",
   "metadata": {
    "tags": []
   },
   "source": [
    "### Stroma niches"
   ]
  },
  {
   "cell_type": "code",
   "execution_count": null,
   "id": "4e07af3b-b01b-423a-8451-e5d595cb6f16",
   "metadata": {},
   "outputs": [],
   "source": [
    "files = glob.glob(f\"{base_path}/artifacts/nanostring_cosmx_human_nsclc/results/reference/19102023_172844_43/gpTest_stroma_clusters_*_r0.45.csv\")\n",
    "significant_gps = []\n",
    "for f in files: \n",
    "    significant_gps.append(pd.read_csv(f, index_col=0))\n",
    "significant_gps = pd.concat(significant_gps, axis=0)\n",
    "significant_gps = significant_gps[~significant_gps.gene_program.str.contains('Add-on')]\n",
    "print(len(significant_gps))\n",
    "significant_gps.head()"
   ]
  },
  {
   "cell_type": "code",
   "execution_count": null,
   "id": "d926ef9b-fea9-4122-bd95-d58596155eb0",
   "metadata": {},
   "outputs": [],
   "source": [
    "interest_gps = significant_gps.gene_program.values\n",
    "invert = []\n",
    "\n",
    "# overwrite to selected GPs\n",
    "interest_gps = ['CD59_ligand_receptor_GP','Ins1_ligand_receptor_target_gene_GP','L-Glutamine_metabolite_enzyme_sensor_GP','Sbpl_ligand_receptor_target_gene_GP']\n",
    "\n",
    "# Create active gene program df\n",
    "interest_gp_df = pd.DataFrame(adata.obsm['nichecompass_latent'][:,pd.Series(adata.uns['nichecompass_active_gp_names']).isin(interest_gps).values],\n",
    "                            columns=adata.uns['nichecompass_active_gp_names'][pd.Series(adata.uns['nichecompass_active_gp_names']).isin(interest_gps).values])\n",
    "interest_gp_df = interest_gp_df.set_index(adata.obs.index)\n",
    "\n",
    "# Drop columns if they are already in ´adata.obs´ and invert if apropriate\n",
    "for gp in interest_gps:\n",
    "    if gp in adata.obs:\n",
    "        adata.obs.drop(gp, axis=1, inplace=True)\n",
    "        \n",
    "    if gp in invert:\n",
    "        interest_gp_df[gp] = -interest_gp_df[gp]\n",
    "\n",
    "# Concatenate active gene program df horizontally to ´adata.obs´\n",
    "adata.obs = pd.concat([adata.obs, interest_gp_df], axis=1)"
   ]
  },
  {
   "cell_type": "code",
   "execution_count": null,
   "id": "4b501802-15b2-4520-96a2-ffeaa6ead7aa",
   "metadata": {},
   "outputs": [],
   "source": [
    "for gp in interest_gps:\n",
    "    gp_idx = adata.uns['nichecompass_gp_names'].tolist().index(gp)\n",
    "    source = adata.var_names[(adata.varm['nichecompass_gp_sources_categories'][:,gp_idx] == 1) |  (adata.varm['nichecompass_gp_sources_categories'][:,gp_idx] == 2)].tolist()\n",
    "    targets = adata.var_names[(adata.varm['nichecompass_gp_targets_categories'][:,gp_idx] == 3) | (adata.varm['nichecompass_gp_targets_categories'][:,gp_idx] == 2)].tolist()\n",
    "    sc.pl.umap(adata, color=gp, ncols=5, size=0.5, frameon=False, cmap='RdGy_r')\n",
    "    if len(source+targets) > 0:\n",
    "        sc.pl.umap(adata, color=source+targets, ncols=5, size=0.5, frameon=False, cmap='RdPu')"
   ]
  },
  {
   "cell_type": "code",
   "execution_count": null,
   "id": "b1d64fc9-4630-4fcb-bf29-214072da0145",
   "metadata": {},
   "outputs": [],
   "source": [
    "rcParams['figure.figsize'] = (8, 6)\n",
    "adata.obs.columns = adata.obs.columns.str.replace('ligand_receptor_target_gene','LRT')\n",
    "adata.obs.columns = adata.obs.columns.str.replace('ligand_receptor','LR')\n",
    "adata.obs.columns = adata.obs.columns.str.replace('metabolite_enzyme_sensor','MES')\n",
    "interest_gps = pd.Series(interest_gps).str.replace('ligand_receptor_target_gene','LRT').str.replace('ligand_receptor','LR').str.replace('metabolite_enzyme_sensor','MES')\n",
    "sc.pl.MatrixPlot(adata[~adata.obs.niche.str.contains('umor')], interest_gps, groupby='niche', cmap='viridis', standard_scale='var').show()\n",
    "rcParams['figure.figsize'] = (4, 3)"
   ]
  },
  {
   "cell_type": "code",
   "execution_count": null,
   "id": "5d6639ca-f0fb-4ce9-a976-5b0d6f2e595c",
   "metadata": {},
   "outputs": [],
   "source": [
    "# selected genes\n",
    "sc.pl.umap(adata, color=['CXCR4', 'GLUL', 'CD59', 'INSR'], ncols=2, size=2.5, legend_fontsize='x-large', show=True, frameon=False, cmap='PuRd')"
   ]
  },
  {
   "cell_type": "markdown",
   "id": "c1be5625-280f-4fd1-849a-9e16b46fb5c8",
   "metadata": {
    "tags": []
   },
   "source": [
    "### Neutrophil niches\n",
    "infiltrative vs expansions"
   ]
  },
  {
   "cell_type": "code",
   "execution_count": null,
   "id": "d289acfe-f06a-4b55-a348-d1482d2f3291",
   "metadata": {},
   "outputs": [],
   "source": [
    "significant_gps=pd.read_csv(f\"{base_path}/artifacts/nanostring_cosmx_human_nsclc/results/reference/19102023_172844_43/gpTest_neutrophil_clusters_4_r0.45.csv\").gene_program.values.tolist()\n",
    "significant_gps = significant_gps[~significant_gps.gene_program.str.contains('Add-on')]"
   ]
  },
  {
   "cell_type": "code",
   "execution_count": null,
   "id": "0bd7fb67-344f-46ed-9393-05a1ab6f2b6d",
   "metadata": {},
   "outputs": [],
   "source": [
    "interest_gps = significant_gps.gene_program.values\n",
    "invert = []\n",
    "\n",
    "# Create active gene program df\n",
    "interest_gp_df = pd.DataFrame(adata.obsm['nichecompass_latent'][:,pd.Series(adata.uns['nichecompass_active_gp_names']).isin(interest_gps).values],\n",
    "                            columns=adata.uns['nichecompass_active_gp_names'][pd.Series(adata.uns['nichecompass_active_gp_names']).isin(interest_gps).values])\n",
    "interest_gp_df = interest_gp_df.set_index(adata.obs.index)\n",
    "\n",
    "# Drop columns if they are already in ´adata.obs´ and invert if apropriate\n",
    "for gp in interest_gps:\n",
    "    if gp in adata.obs:\n",
    "        adata.obs.drop(gp, axis=1, inplace=True)\n",
    "        \n",
    "    if gp in invert:\n",
    "        interest_gp_df[gp] = -interest_gp_df[gp]\n",
    "\n",
    "# Concatenate active gene program df horizontally to ´adata.obs´\n",
    "adata.obs = pd.concat([adata.obs, interest_gp_df], axis=1)"
   ]
  },
  {
   "cell_type": "code",
   "execution_count": null,
   "id": "ed613bc5-cc53-4e5e-a7bb-a1c083925da7",
   "metadata": {},
   "outputs": [],
   "source": [
    "# not executed to reduce notebook size\n",
    "for gp in interest_gps:\n",
    "    gp_idx = adata.uns['nichecompass_gp_names'].tolist().index(gp)\n",
    "    source = adata.var_names[(adata.varm['nichecompass_gp_sources_categories'][:,gp_idx] == 1) |  (adata.varm['nichecompass_gp_sources_categories'][:,gp_idx] == 2)].tolist()\n",
    "    targets = adata.var_names[(adata.varm['nichecompass_gp_targets_categories'][:,gp_idx] == 3) | (adata.varm['nichecompass_gp_targets_categories'][:,gp_idx] == 2)].tolist()\n",
    "    sc.pl.umap(adata, color=gp, ncols=5, size=0.5, frameon=False, cmap='RdGy_r')\n",
    "    if len(source+targets) > 0:\n",
    "        sc.pl.umap(adata, color=source+targets, ncols=5, size=0.5, frameon=False, cmap='RdPu')"
   ]
  },
  {
   "cell_type": "markdown",
   "id": "e01bac10-1f38-4fd1-9d4d-f0a22a347fbe",
   "metadata": {
    "tags": []
   },
   "source": [
    "# Reference 43 + donor 5 r3"
   ]
  },
  {
   "cell_type": "markdown",
   "id": "1514a9af-d3c0-434d-a0f6-bdc9099e5a2f",
   "metadata": {},
   "source": [
    "## Prepare for analysis"
   ]
  },
  {
   "cell_type": "code",
   "execution_count": null,
   "id": "5e804105-5afb-42b3-ab3a-e8e2f0f2386b",
   "metadata": {},
   "outputs": [],
   "source": [
    "adata, adata_path = load_adata(suffix='43_3', model='reference_query_mapping')\n",
    "figure_path = adata_path.replace('models','figures').replace('/nanostring_cosmx_human_nsclc_reference_query_mapping.h5ad','')\n",
    "gc.collect()\n",
    "print(figure_path)\n",
    "adata"
   ]
  },
  {
   "cell_type": "markdown",
   "id": "c9cf425d-e461-4e4c-89af-abedf6276e9f",
   "metadata": {},
   "source": [
    "### Select resolution"
   ]
  },
  {
   "cell_type": "code",
   "execution_count": null,
   "id": "bcff9f10-2fbe-484e-84b9-f4b75466a9a1",
   "metadata": {},
   "outputs": [],
   "source": [
    "plot_latent(adata, model='reference_query_mapping')"
   ]
  },
  {
   "cell_type": "code",
   "execution_count": null,
   "id": "4aadccbf-fea5-4ca2-91bc-f7834ef4b91b",
   "metadata": {},
   "outputs": [],
   "source": [
    "# sort batch colors\n",
    "adata.uns['batch_colors'] = list(np.array(adata.uns['batch_colors'])[[0,1,6,2,3,4,5]])\n",
    "sc.pl.umap(adata, color=['batch'], ncols=4, wspace=0.3, size=0.5)"
   ]
  },
  {
   "cell_type": "code",
   "execution_count": null,
   "id": "6f6b4f33-e29c-4c42-8fae-61bc0777c5b6",
   "metadata": {},
   "outputs": [],
   "source": [
    "latent_leiden_resolution=0.35\n",
    "res_details(adata, resolution=latent_leiden_resolution, model='reference_query_mapping')"
   ]
  },
  {
   "cell_type": "code",
   "execution_count": null,
   "id": "7ceb7466-3d62-4812-88aa-86e058479be1",
   "metadata": {},
   "outputs": [],
   "source": [
    "sc.set_figure_params(dpi=200, figsize=(4,3))\n",
    "sc.pl.umap(adata[adata.obs.mapping_entity=='reference'], color=['mapping_entity'], ncols=1, wspace=0.3, size=0.5,frameon=False)\n",
    "sc.pl.umap(adata, color=['mapping_entity'], ncols=1, wspace=0.3, size=0.5,frameon=False)\n",
    "sc.set_figure_params(fontsize=12, dpi=100, figsize=(4,3))"
   ]
  },
  {
   "cell_type": "code",
   "execution_count": null,
   "id": "413cbc05-574d-4eb6-ad34-a4b0bfa7c21b",
   "metadata": {},
   "outputs": [],
   "source": [
    "leiden2niche = {\n",
    "    '2': '1- Tumor (stroma border)', '4': '2- Tumor interior', '8': '3- Tumor (neutrophil border)', '5': '4- Tumor interior', '11': '5- Infiltrated tumor',\n",
    "    '7': '6- Neutrophil expansion', '6': '7- Myeloid cells rich stroma', '10': '8- Stroma', '1': '9- Plasmablast rich stroma', '9': '10- Plasmablast rich stroma', '3': '11- Lymphoid aggregates', '10': '12- Macrophage rich stroma'\n",
    "}\n",
    "\n",
    "adata.obs['niche'] = adata.obs['latent_leiden_0.35'].map(leiden2niche)\n",
    "\n",
    "general=np.apply_along_axis(to_hex, 1, np.array(plt.get_cmap('Dark2').colors))\n",
    "tumor=colorFader(general[2], c2='#FFFFFF', n=5, mix=0)\n",
    "lymphoid=general[4]\n",
    "myeloid=general[1]\n",
    "Blike=colorFader(general[0], c2='#FFFFFF', n=2, mix=0)\n",
    "neutrophil=colorFader(general[3], c2='#FFFFFF', n=2, mix=0)\n",
    "stroma=general[5]\n",
    "\n",
    "leiden_col = [tumor[0], tumor[1], tumor[2], tumor[3], tumor[4], neutrophil[0], neutrophil[1], stroma,  Blike[0],  Blike[1], lymphoid, myeloid]\n",
    "\n",
    "adata.uns['latent_leiden_0.35_colors'] = leiden_col\n",
    "adata.uns['niche_colors'] = leiden_col"
   ]
  },
  {
   "cell_type": "code",
   "execution_count": null,
   "id": "6b868e60-dc89-44ee-a72e-61559b9e53b6",
   "metadata": {},
   "outputs": [],
   "source": [
    "rcParams['figure.figsize'] = (8, 6)\n",
    "sc.pl.umap(adata, color=['niche'], ncols=1, wspace=1, size=2.5, legend_fontsize='x-large', show=False, frameon=False, title=[''])\n",
    "# plt.savefig(f\"{figure_path}/d1.pdf\", bbox_inches=\"tight\", format='pdf')\n",
    "rcParams['figure.figsize'] = (4, 3)"
   ]
  },
  {
   "cell_type": "code",
   "execution_count": null,
   "id": "0ec051de-1b9c-4064-90df-ed4385801e49",
   "metadata": {},
   "outputs": [],
   "source": [
    "cluster_var = 'batch'\n",
    "plot_var = 'latent_leiden_0.35'\n",
    "props = adata.obs.groupby([cluster_var, plot_var]).size().reset_index()\n",
    "props = props.pivot(columns=plot_var, index=cluster_var).T\n",
    "props.index = props.index.droplevel(0)\n",
    "props.fillna(0, inplace=True)\n",
    "props = props.div(props.sum(axis=1), axis=0)*100 \n",
    "fig = plot_cluster_proportions(props, xlabel_rotation=90, cluster_palette=adata.uns[f'{cluster_var}_colors'], figsize=(8,3))\n",
    "# plt.savefig(f\"{figure_path}/d3_prop.pdf\", bbox_inches=\"tight\", format='pdf')\n"
   ]
  },
  {
   "cell_type": "code",
   "execution_count": null,
   "id": "4fe0f036-1c94-4e92-b6c2-a8637decb504",
   "metadata": {},
   "outputs": [],
   "source": [
    "if not 'cluster_grups' in adata.uns:\n",
    "    adata.uns['cluster_groups'] = {}\n",
    "    \n",
    "adata.uns['cluster_groups'][f\"latent_leiden_{latent_leiden_resolution}\"] = {\n",
    "    'tumor_clusters': ['2','4','5','8','11'],\n",
    "    'stroma_clusters': ['0','1'],\n",
    "    'neutrophil_clusters': ['6','7'],\n",
    "    'macrophage_clusters': ['10'],\n",
    "    'lymphoid_clusters': ['3','9']\n",
    "}"
   ]
  },
  {
   "cell_type": "code",
   "execution_count": null,
   "id": "9034c50c-4145-405b-aaa7-975cae3c0a31",
   "metadata": {},
   "outputs": [],
   "source": [
    "adata.write_h5ad(adata_path)\n",
    "gc.collect()"
   ]
  },
  {
   "cell_type": "markdown",
   "id": "aef8c472-e70e-4005-acf9-7ecf3a234ff9",
   "metadata": {},
   "source": [
    "## Compute integration metric"
   ]
  },
  {
   "cell_type": "code",
   "execution_count": null,
   "id": "7851bcbd-4cf3-490b-a51e-89282d691f61",
   "metadata": {},
   "outputs": [],
   "source": [
    "from sklearn.metrics import silhouette_score\n",
    "nc_silouette = silhouette_score(X=adata[adata.obs.patient == 'Lung5'].obsm['nichecompass_latent'], labels=adata[adata.obs.patient == 'Lung5'].obs['mapping_entity'])\n",
    "print(nc_silouette)"
   ]
  },
  {
   "cell_type": "markdown",
   "id": "ade6a99f-908c-404f-a025-ace7841e111a",
   "metadata": {},
   "source": [
    "## Label Transfer"
   ]
  },
  {
   "cell_type": "code",
   "execution_count": null,
   "id": "fac5ac93-e454-4520-afa1-20ec97a45085",
   "metadata": {},
   "outputs": [],
   "source": [
    "del adata\n",
    "gc.collect()"
   ]
  },
  {
   "cell_type": "code",
   "execution_count": null,
   "id": "3dc133cd-cbef-4d00-8bc7-3ea6609fc66b",
   "metadata": {},
   "outputs": [],
   "source": [
    "model_label = '19102023_172844_43_3'\n",
    "batch_key = 'fov'\n",
    "latent_key = 'X_pca'\n",
    "within_sample = True\n",
    "\n",
    "dataset = 'nanostring_cosmx_human_nsclc'\n",
    "model_type = 'reference_query_mapping'\n",
    "cell_type_key='cell_type'\n",
    "# batch_key='mapping_entity'\n",
    "# latent_keys=['nichecompass_latent','X_pca']\n",
    "\n",
    "# load model\n",
    "adata = sc.read_h5ad(f'/lustre/groups/imm01/workspace/irene.bonafonte/Projects/2023May_nichecompass/nichecompass-reproducibility/artifacts/{dataset}/models/{model_type}/{model_label}/{dataset}_{model_type}.h5ad')\n",
    "adata.obs_names = adata.obs['cell_ID'].values\n",
    "adata.obs[cell_type_key] = adata.obs['cell_type_original'].map({\n",
    "    'tumor 9': 'tumor', 'tumor 6': 'tumor', 'tumor 5': 'tumor', 'tumor 13': 'tumor', 'tumor 12': 'tumor',\n",
    "    'fibroblast': 'fibroblast', 'neutrophil': 'neutrophil', 'plasmablast': 'plasmablast', 'B-cell': 'B-cell', 'endothelial': 'endothelial', 'epithelial': 'epithelial',\n",
    "    'T CD4 naive': 'T cell/NK', 'T CD4 memory': 'T cell/NK', 'T CD8 naive': 'T cell/NK', 'T CD8 memory': 'T cell/NK', 'Treg': 'T cell/NK', 'NK': 'T cell/NK',\n",
    "    'mDC': 'DC/monocyte', 'pDC': 'DC/monocyte', 'monocyte': 'DC/monocyte', 'macrophage': 'macrophage', 'mast': 'mast'\n",
    "}).astype(\"category\")\n",
    "\n",
    "\n",
    "# keep only those from the same replicate as the query\n",
    "if within_sample:\n",
    "    sample_name = adata.obs.loc[adata.obs.mapping_entity == 'query','patient'].unique()[0]\n",
    "    batches = adata.obs.loc[adata.obs.patient == sample_name,'batch'].unique()\n",
    "    if len(batches) > 1:\n",
    "        adata = adata[adata.obs.patient == sample_name]"
   ]
  },
  {
   "cell_type": "code",
   "execution_count": null,
   "id": "2eebb1ca-3101-4fa3-b1f3-23ce0f6c79bd",
   "metadata": {},
   "outputs": [],
   "source": [
    "if latent_key == 'X_pca':\n",
    "    sc.pp.scale(adata)\n",
    "    sc.tl.pca(adata, svd_solver='arpack')\n",
    "sc.pp.neighbors(adata, n_neighbors=10, n_pcs=40)\n",
    "sc.tl.umap(adata)"
   ]
  },
  {
   "cell_type": "code",
   "execution_count": null,
   "id": "3addce00-04b7-446a-b535-567aae46fc9e",
   "metadata": {},
   "outputs": [],
   "source": [
    "sc.pl.umap(adata, color=['cell type', 'batch','mapping_entity'], ncols=3, wspace=0.5)"
   ]
  },
  {
   "cell_type": "code",
   "execution_count": null,
   "id": "c5a54e13-3879-4cfa-8e8a-bbafe2b229f6",
   "metadata": {},
   "outputs": [],
   "source": [
    "adata.obs['fovbatch'] = np.nan\n",
    "adata.obs.loc[adata.obs.fov == 'lung5_rep1_1','fovbatch'] = adata.obs.loc[adata.obs.fov == 'lung5_rep1_1','fov']\n",
    "adata.obs.loc[adata.obs.fov == 'lung5_rep2_1','fovbatch'] = adata.obs.loc[adata.obs.fov == 'lung5_rep2_1','fov']\n",
    "adata.obs.loc[adata.obs.fov == 'lung5_rep3_1','fovbatch'] = adata.obs.loc[adata.obs.fov == 'lung5_rep3_1','fov']\n",
    "sc.pl.umap(adata, color=['fovbatch'], size=1.5, frameon=False)\n"
   ]
  },
  {
   "cell_type": "code",
   "execution_count": null,
   "id": "f1542124-2035-4498-9122-6e4edd3e6c5d",
   "metadata": {},
   "outputs": [],
   "source": [
    "adata = sc.read_h5ad(f'/lustre/groups/imm01/workspace/irene.bonafonte/Projects/2023May_nichecompass/nichecompass-reproducibility/artifacts/{dataset}/models/{model_type}/{model_label}/{dataset}_{model_type}.h5ad')\n",
    "if within_sample:\n",
    "    sample_name = adata.obs.loc[adata.obs.mapping_entity == 'query','patient'].unique()[0]\n",
    "    batches = adata.obs.loc[adata.obs.patient == sample_name,'batch'].unique()\n",
    "    if len(batches) > 1:\n",
    "        adata = adata[adata.obs.patient == sample_name]\n",
    "adata"
   ]
  },
  {
   "cell_type": "code",
   "execution_count": null,
   "id": "82f86d41-7ef4-45e0-8a17-9546b2ce9e7d",
   "metadata": {},
   "outputs": [],
   "source": [
    "sc.pl.umap(adata, color=['cell type', 'batch','mapping_entity'], ncols=3, wspace=0.5)"
   ]
  },
  {
   "cell_type": "code",
   "execution_count": null,
   "id": "c1e98dfa-a1fb-473d-8e3d-55dc81ac2ece",
   "metadata": {},
   "outputs": [],
   "source": [
    "adata.obs['fovbatch'] = np.nan\n",
    "adata.obs.loc[adata.obs.fov == 'lung5_rep1_1','fovbatch'] = adata.obs.loc[adata.obs.fov == 'lung5_rep1_1','fov']\n",
    "adata.obs.loc[adata.obs.fov == 'lung5_rep2_1','fovbatch'] = adata.obs.loc[adata.obs.fov == 'lung5_rep2_1','fov']\n",
    "adata.obs.loc[adata.obs.fov == 'lung5_rep3_1','fovbatch'] = adata.obs.loc[adata.obs.fov == 'lung5_rep3_1','fov']\n",
    "sc.pl.umap(adata, color=['fovbatch'], size=1.5, frameon=False)"
   ]
  },
  {
   "cell_type": "code",
   "execution_count": null,
   "id": "034f3e7f-c1b5-4fc2-83be-10411a5f34bd",
   "metadata": {},
   "outputs": [],
   "source": [
    "from sklearn.metrics import silhouette_score\n",
    "nc_silouette = silhouette_score(X=adata[adata.obs.patient == 'Lung5'].obsm['nichecompass_latent'], labels=adata[adata.obs.patient == 'Lung5'].obs['mapping_entity'])\n",
    "print(nc_silouette)\n",
    "pca_silouette = silhouette_score(X=adata[adata.obs.patient == 'Lung5'].obsm['X_pca'], labels=adata[adata.obs.patient == 'Lung5'].obs['mapping_entity'])\n",
    "print(pca_silouette)"
   ]
  },
  {
   "cell_type": "code",
   "execution_count": null,
   "id": "0fa0554c-e1b9-41d4-b5b5-91a536709f76",
   "metadata": {},
   "outputs": [],
   "source": [
    "from nichecompass.models import NicheCompass\n",
    "model =  NicheCompass.load(dir_path=f'{base_path}/artifacts/nanostring_cosmx_human_nsclc/models/reference_query_mapping/19102023_172844_43_3/',\n",
    "                  adata=None,\n",
    "                  adata_file_name='nanostring_cosmx_human_nsclc_reference_query_mapping.h5ad',\n",
    "                  gp_names_key='nichecompass_gp_names')\n",
    "query_active_gps = model.get_active_gps()\n",
    "\n",
    "del model\n",
    "gc.collect()"
   ]
  },
  {
   "cell_type": "code",
   "execution_count": null,
   "id": "5aa7a4a2-ba53-4a69-8fae-c35a0d7f41ed",
   "metadata": {},
   "outputs": [],
   "source": [
    "adata_ref, adata_path = load_adata(suffix='43', model='reference')\n",
    "leiden2niche = {\n",
    "    '0': '1- Tumor (stroma border)', '2': '2- Tumor interior', '5': '3- Tumor (neutrophil border)', '7': '4- Tumor interior', '11': '5- Infiltrated tumor',\n",
    "    '3': '6- Neutrophil expansion', '4': '7- Myeloid cells rich stroma', '1': '8- Stroma', '6': '9- Plasmablast rich stroma', '9': '10- Plasmablast rich stroma', '8': '11- Lymphoid aggregates', '10': '12- Macrophage rich stroma'\n",
    "}\n",
    "\n",
    "adata_ref.obs['niche'] = adata_ref.obs['latent_leiden_0.45'].map(leiden2niche)\n",
    "adata_ref.obs['niche_0.1'] = adata_ref.obs['latent_leiden_0.1'].map({'0':'lymphoid stroma', '1':'tumor 9,12', '2': 'myeloid stroma', '3': 'tumor 6', '4': 'tumor 5'})\n",
    "adata_ref.obs['niche_0.1lo'] = adata_ref.obs['latent_leiden_0.1'].map({'0':'lymphoid stroma', '1':'tumor', '2': 'myeloid stroma', '3': 'tumor', '4': 'tumor'})\n",
    "\n",
    "general=np.apply_along_axis(to_hex, 1, np.array(plt.get_cmap('Dark2').colors))\n",
    "tumor=colorFader(general[2], c2='#FFFFFF', n=5, mix=0)\n",
    "lymphoid=general[4]\n",
    "myeloid=general[1]\n",
    "Blike=colorFader(general[0], c2='#FFFFFF', n=2, mix=0)\n",
    "neutrophil=colorFader(general[3], c2='#FFFFFF', n=2, mix=0)\n",
    "stroma=general[5]\n",
    "\n",
    "\n",
    "leiden_colDict = {\n",
    "    '0': tumor[0], '2': tumor[1], '5': tumor[2], '7': tumor[3], '11': tumor[4], \n",
    "    '3': neutrophil[0], '4': neutrophil[1], \n",
    "    '1': stroma, '6': Blike[0], '9': Blike[1], '8': lymphoid, '10': myeloid \n",
    "}\n",
    "adata_ref.uns['latent_leiden_0.45_colors'] = [x for x in leiden_colDict.values()]\n",
    "adata_ref.uns['leidenOrd_colors'] = [x for x in leiden_colDict.values()]\n",
    "adata_ref.uns['niche_colors'] = [x for x in leiden_colDict.values()]\n",
    "\n",
    "colDict = {cl: color for color, cl in zip(adata_ref.uns['niche_colors'], adata_ref.obs.niche.cat.categories)}\n",
    "\n",
    "adata_ref"
   ]
  },
  {
   "cell_type": "code",
   "execution_count": null,
   "id": "f8a7fb4b-ca3d-43ab-a67e-6e366d10066d",
   "metadata": {},
   "outputs": [],
   "source": [
    "ref_active_gps = adata_ref.uns['nichecompass_active_gp_names']\n",
    "ref_obs = adata_ref.obs\n",
    "gps = list(set(ref_active_gps).intersection(set(query_active_gps)))\n",
    "adata_ref.obsm['nichecompass_latent'] = adata_ref.obsm['nichecompass_latent'][:,pd.Series(ref_active_gps).isin(gps)]\n",
    "gc.collect()"
   ]
  },
  {
   "cell_type": "code",
   "execution_count": null,
   "id": "7dfc9255-4c85-4228-bb38-8dd86b213ba0",
   "metadata": {},
   "outputs": [],
   "source": [
    "from sklearn.neighbors import KNeighborsClassifier\n",
    "knn = KNeighborsClassifier(n_neighbors=50, weights='distance')\n",
    "knn.fit(X=adata_ref.obsm['nichecompass_latent'], y=adata_ref.obs[['niche','niche_0.1','niche_0.1lo']])"
   ]
  },
  {
   "cell_type": "code",
   "execution_count": null,
   "id": "abf55b7f-8e15-45f6-ad62-1c5cdeb19c5d",
   "metadata": {},
   "outputs": [],
   "source": [
    "del adata_ref\n",
    "gc.collect()"
   ]
  },
  {
   "cell_type": "code",
   "execution_count": null,
   "id": "b34af4a5-a3b3-4527-a33c-056de3e1f1b9",
   "metadata": {},
   "outputs": [],
   "source": [
    "adata_query, adata_path = load_adata(suffix='43_3', model='reference_query_mapping')\n",
    "adata_query.obs['mapping_entity'].value_counts()\n",
    "adata_query  = adata_query[adata_query.obs.mapping_entity=='query']\n",
    "adata_query.obsm['nichecompass_latent'] = adata_query.obsm['nichecompass_latent'][:,pd.Series(query_active_gps).isin(gps)]\n",
    "gc.collect()"
   ]
  },
  {
   "cell_type": "code",
   "execution_count": null,
   "id": "43a572c6-0e53-43f7-acf2-9ffd0ed0f551",
   "metadata": {},
   "outputs": [],
   "source": [
    "proba = knn.predict_proba(adata_query.obsm['nichecompass_latent'])"
   ]
  },
  {
   "cell_type": "code",
   "execution_count": null,
   "id": "cad01d21-f24f-4461-9f8e-54e9e1e7419e",
   "metadata": {},
   "outputs": [],
   "source": [
    "k_dist, k_indx = knn.kneighbors(adata_query.obsm['nichecompass_latent'], n_neighbors=50, return_distance=True)"
   ]
  },
  {
   "cell_type": "code",
   "execution_count": null,
   "id": "f9055f23-55a0-41dc-b6d3-92914dbf5e20",
   "metadata": {},
   "outputs": [],
   "source": [
    "predictions = proba[0]\n",
    "predictions = pd.DataFrame({'predlabel': np.argmax(predictions, axis=1), 'probability': np.max(predictions, axis=1), 'mean_dist': np.mean(k_dist, axis=1), 'k_dist': k_dist[:,49]})\n",
    "predictions['predlabel'] = predictions['predlabel'].map({i: l for i, l in enumerate(knn.classes_[0])})\n",
    "predictions.index = adata_query.obs.index\n",
    "predictions"
   ]
  },
  {
   "cell_type": "code",
   "execution_count": null,
   "id": "ffcea961-7389-42b1-93f0-86826a49ae2b",
   "metadata": {},
   "outputs": [],
   "source": [
    "# predictions.to_csv(f'{base_path}/artifacts/nanostring_cosmx_human_nsclc/results/reference_query_mapping/19102023_172844_43_3/label_transfer.csv')\n",
    "predictions = pd.read_csv(f'{base_path}/artifacts/nanostring_cosmx_human_nsclc/results/reference_query_mapping/19102023_172844_43_3/label_transfer.csv', index_col=0)"
   ]
  },
  {
   "cell_type": "code",
   "execution_count": null,
   "id": "0b2f622c-1d8c-4677-a6b1-70695e478593",
   "metadata": {},
   "outputs": [],
   "source": [
    "predictions.probability.hist()"
   ]
  },
  {
   "cell_type": "code",
   "execution_count": null,
   "id": "c84df5c4-864f-4455-ad73-c1cca1001bcf",
   "metadata": {},
   "outputs": [],
   "source": [
    "(predictions.probability < 0.7).value_counts()/(74045+17646)"
   ]
  },
  {
   "cell_type": "code",
   "execution_count": null,
   "id": "bcb21938-0434-4918-95c6-b139d50201f6",
   "metadata": {},
   "outputs": [],
   "source": [
    "predictions['predlabel'].value_counts()/predictions.shape[0]"
   ]
  },
  {
   "cell_type": "code",
   "execution_count": null,
   "id": "728c249f-83f2-4120-a061-99e22ebab138",
   "metadata": {},
   "outputs": [],
   "source": [
    "keep = predictions['predlabel'].value_counts().index[predictions['predlabel'].value_counts()/predictions.shape[0] > 0.05]\n",
    "keep"
   ]
  },
  {
   "cell_type": "code",
   "execution_count": null,
   "id": "0029df3b-0cca-4be3-b493-b8a1f575db45",
   "metadata": {},
   "outputs": [],
   "source": [
    "adata_query.obs = pd.concat([adata_query.obs, predictions], axis=1)"
   ]
  },
  {
   "cell_type": "code",
   "execution_count": null,
   "id": "de3594cf-a792-4390-8f32-6d45f7535974",
   "metadata": {},
   "outputs": [],
   "source": [
    "adata_query.obs.predlabel = pd.Categorical(adata_query.obs.predlabel, categories=colDict.keys())\n",
    "adata_query.uns['predlabel_colors'] = [colDict[cl] for cl in adata_query.obs.predlabel.cat.categories]"
   ]
  },
  {
   "cell_type": "code",
   "execution_count": null,
   "id": "c58b4203-227a-495e-acc7-ff18bdeaab00",
   "metadata": {},
   "outputs": [],
   "source": [
    "adata_query = adata_query[adata_query.obs.predlabel.isin(keep)]"
   ]
  },
  {
   "cell_type": "code",
   "execution_count": null,
   "id": "1910a199-efc1-4108-8880-b0847b1fd858",
   "metadata": {},
   "outputs": [],
   "source": [
    "fig, axes = plt.subplots(nrows=2, ncols=2, figsize=(12,6))\n",
    "ax = sc.pl.umap(adata_query, color=['mean_dist'], size=1.5, frameon=False, ncols=1, wspace=3, vmax=170, vmin=50, ax=axes[0,0], show=False)\n",
    "ax = sc.pl.umap(adata_query, color=['k_dist'], size=1.5, frameon=False, ncols=1, wspace=3, vmax=170, vmin=50, ax=axes[0,1], show=False)\n",
    "ax = sc.pl.umap(adata_query, color=['probability'], size=1.5, frameon=False, ncols=1, wspace=3, vmax=1, vmin=0, ax=axes[1,0], show=False)\n",
    "ax = sc.pl.umap(adata_query, color=['predlabel'], size=1.5, frameon=False, ncols=1, wspace=3, ax=axes[1,1], show=False)\n",
    "\n",
    "fig.tight_layout()"
   ]
  },
  {
   "cell_type": "code",
   "execution_count": null,
   "id": "c61509da-2416-48de-a63c-77369391857b",
   "metadata": {},
   "outputs": [],
   "source": [
    "sc.set_figure_params(dpi=200, figsize=(6,4))\n",
    "sc.pl.umap(adata_query, color=['cell type'], size=2, frameon=False, ncols=1, wspace=3)\n",
    "sc.pl.umap(adata_query, color=['predlabel'], size=1.5, frameon=False, ncols=1, wspace=3)\n",
    "sc.pl.umap(adata_query, color=['probability'], size=1.5, frameon=False, ncols=1, wspace=3, vmax=1, vmin=0)\n",
    "sc.set_figure_params(dpi=80, figsize=(4,3))\n"
   ]
  },
  {
   "cell_type": "code",
   "execution_count": null,
   "id": "9c0c84e7-e24e-4ecd-8f9d-9e9731cad876",
   "metadata": {},
   "outputs": [],
   "source": [
    "#### cluster_var = 'cell type'\n",
    "plot_var = 'predlabel'\n",
    "props = adata_query.obs.groupby([cluster_var, plot_var]).size().reset_index()\n",
    "props = props.pivot(columns=plot_var, index=cluster_var).T\n",
    "props.index = props.index.droplevel(0)\n",
    "props.fillna(0, inplace=True)\n",
    "# props = props.div(props.sum(axis=1), axis=0)*100 \n",
    "fig = plot_cluster_proportions(props, xlabel_rotation=90, cluster_palette=adata_query.uns[f'{cluster_var}_colors'], figsize=(8,3))"
   ]
  },
  {
   "cell_type": "code",
   "execution_count": null,
   "id": "1ba4facd-8745-4abb-808a-4615eb897be1",
   "metadata": {},
   "outputs": [],
   "source": [
    "rcParams['figure.figsize'] = (10, 4)\n",
    "sns.boxplot(data=adata_query.obs, x='predlabel', y='probability', showfliers = False)\n",
    "sns.despine(offset=10, trim=True, bottom=True)\n",
    "plt.xticks(rotation=90)\n",
    "plt.xlabel(\"Niche\")\n",
    "plt.ylabel(f'Probability')\n",
    "plt.legend([],[], frameon=False)\n",
    "plt.show()\n",
    "rcParams['figure.figsize'] = (4, 3)"
   ]
  },
  {
   "cell_type": "code",
   "execution_count": null,
   "id": "06550204-5c08-4bcc-84ed-b6c62f0b9cb6",
   "metadata": {},
   "outputs": [],
   "source": [
    "rcParams['figure.figsize'] = (10, 4)\n",
    "sns.boxplot(data=adata_query.obs, x='predlabel', y='mean_dist', showfliers = False)\n",
    "sns.despine(offset=10, trim=True, bottom=True)\n",
    "plt.xticks(rotation=90)\n",
    "plt.xlabel(\"Niche\")\n",
    "plt.ylabel(f'Mean distance')\n",
    "plt.legend([],[], frameon=False)\n",
    "plt.show()\n",
    "rcParams['figure.figsize'] = (4, 3)"
   ]
  },
  {
   "cell_type": "code",
   "execution_count": null,
   "id": "a029cc7b-47e0-4918-ba73-effbdade9bee",
   "metadata": {},
   "outputs": [],
   "source": [
    "rcParams['figure.figsize'] = (10, 4)\n",
    "sns.boxplot(data=adata_query.obs, x='predlabel', y='k_dist', showfliers = False)\n",
    "sns.despine(offset=10, trim=True, bottom=True)\n",
    "plt.xticks(rotation=90)\n",
    "plt.xlabel(\"Niche\")\n",
    "plt.ylabel(f'K distance')\n",
    "plt.legend([],[], frameon=False)\n",
    "plt.show()\n",
    "rcParams['figure.figsize'] = (4, 3)"
   ]
  },
  {
   "cell_type": "markdown",
   "id": "51294566-9e35-4121-9828-59f194f05f93",
   "metadata": {
    "tags": []
   },
   "source": [
    "# Reference 43 + donor 13 "
   ]
  },
  {
   "cell_type": "markdown",
   "id": "3977e894-7298-43b1-85fb-ab9c2f341a1e",
   "metadata": {},
   "source": [
    "## Prepare for analysis"
   ]
  },
  {
   "cell_type": "code",
   "execution_count": null,
   "id": "0422b3f3-2dcf-4e3f-aa4f-d8a24f373244",
   "metadata": {},
   "outputs": [],
   "source": [
    "adata, adata_path = load_adata(suffix='43_8', model='reference_query_mapping')\n",
    "figure_path = adata_path.replace('models','figures').replace('/nanostring_cosmx_human_nsclc_reference_query_mapping.h5ad','')\n",
    "gc.collect()\n",
    "print(figure_path)\n",
    "adata"
   ]
  },
  {
   "cell_type": "markdown",
   "id": "6609f720-5800-42c4-99de-863fbb8fe81c",
   "metadata": {},
   "source": [
    "### Select resolution"
   ]
  },
  {
   "cell_type": "code",
   "execution_count": null,
   "id": "92b45745-0143-45b0-b0f1-9c49f1d6ff91",
   "metadata": {},
   "outputs": [],
   "source": [
    "plot_latent(adata, model='reference_query_mapping')"
   ]
  },
  {
   "cell_type": "code",
   "execution_count": null,
   "id": "6306b320-394b-4388-88b3-4080dc460d54",
   "metadata": {},
   "outputs": [],
   "source": [
    "latent_leiden_resolution=0.7\n",
    "res_details(adata, resolution=latent_leiden_resolution, model='reference_query_mapping')"
   ]
  },
  {
   "cell_type": "code",
   "execution_count": null,
   "id": "a723d93f-a58f-4b5f-a6c5-b2eef30be1f3",
   "metadata": {},
   "outputs": [],
   "source": [
    "sc.set_figure_params(dpi=200, figsize=(4,3))\n",
    "sc.pl.umap(adata[adata.obs.mapping_entity=='reference'], color=['mapping_entity'], ncols=1, wspace=0.3, size=0.5,frameon=False)\n",
    "sc.pl.umap(adata, color=['mapping_entity'], ncols=1, wspace=0.3, size=0.5,frameon=False)\n",
    "sc.set_figure_params(fontsize=12, dpi=100, figsize=(4,3))"
   ]
  },
  {
   "cell_type": "markdown",
   "id": "94a65d15-bbad-4f02-b04e-575955d0c6c0",
   "metadata": {},
   "source": [
    "### Dendogram"
   ]
  },
  {
   "cell_type": "code",
   "execution_count": null,
   "id": "c527abcd-6b1c-4a7a-ae16-0a924fd8dd5c",
   "metadata": {},
   "outputs": [],
   "source": [
    "latent_leiden_resolution = 0.7\n",
    "sc.tl.dendrogram(adata, groupby=f\"latent_leiden_{latent_leiden_resolution}\", use_rep='nichecompass_latent', n_pcs=adata.obsm['nichecompass_latent'].shape[1])\n",
    "adata.obs[f'latent_leiden_{latent_leiden_resolution}'] = adata.obs[f'latent_leiden_{latent_leiden_resolution}'].cat.reorder_categories(adata.uns[f'dendrogram_latent_leiden_{latent_leiden_resolution}']['categories_ordered'], ordered=False)"
   ]
  },
  {
   "cell_type": "code",
   "execution_count": null,
   "id": "0b2d9f80-0c1c-414c-ba23-a45d9ef52931",
   "metadata": {},
   "outputs": [],
   "source": [
    "rcParams['figure.figsize'] = (4,1.5)\n",
    "sc.pl.dendrogram(adata, groupby=f\"latent_leiden_{latent_leiden_resolution}\", orientation='bottom', show=False)\n",
    "rcParams['figure.figsize'] = (4, 3)"
   ]
  },
  {
   "cell_type": "markdown",
   "id": "536343e4-68e2-4511-a0a9-8aa8ae7c1752",
   "metadata": {},
   "source": [
    "### Labels and palette"
   ]
  },
  {
   "cell_type": "code",
   "execution_count": null,
   "id": "e68b0bd6-a9cb-4a50-8015-6a32bdd2ad40",
   "metadata": {},
   "outputs": [],
   "source": [
    "rcParams['figure.figsize'] = (8, 6)\n",
    "sc.pl.umap(adata, color=['latent_leiden_0.7'], size=2.5, legend_loc='on data', frameon=False)\n",
    "rcParams['figure.figsize'] = (4, 3)"
   ]
  },
  {
   "cell_type": "code",
   "execution_count": null,
   "id": "4fbf3136-e37b-488b-ac8b-b7f8fc9b6516",
   "metadata": {},
   "outputs": [],
   "source": [
    "leiden2niche = {\n",
    "    '0': '1- Tumor (stroma border)', '8': '1- Tumor (stroma border)', '1': '2- Tumor interior', '5': '3- Tumor (neutrophil border)', '7': '4- Tumor interior', '19': '4- Tumor interior', \n",
    "    '17': '5- Infiltrated tumor', '12': '6- Neutrophil expansion', '6': '7- Myeloid cells rich stroma', '13': '8- Stroma', '14': '8- Stroma', '4': '8- Stroma', '15': '8- Stroma', '11': '9- Plasmablast rich stroma', \n",
    "    '10': '10- Plasmablast rich stroma', '2': '11- Lymphoid aggregates', \n",
    "    '9': '15- Tumor (macrophage infiltrated)', '18': '13- Infiltrating macrophages', '16': '12- Macrophage rich stroma', '3': '14- Immune rich stroma'\n",
    "}\n",
    "\n",
    "adata.obs['niche'] = adata.obs['latent_leiden_0.7'].map(leiden2niche)\n",
    "adata.obs['leidenOrd'] = adata.obs['niche'].apply(lambda x: x.split('-')[0])"
   ]
  },
  {
   "cell_type": "code",
   "execution_count": null,
   "id": "4959323e-f6c0-4a2d-9718-70cd6ba910a3",
   "metadata": {},
   "outputs": [],
   "source": [
    "if not 'cluster_grups' in adata.uns:\n",
    "    adata.uns['cluster_groups'] = {}\n",
    "    \n",
    "adata.uns['cluster_groups'][f\"latent_leiden_0.7\"] = {\n",
    "    'tumor_clusters': ['9','0','1','5','7','8','17','19'],\n",
    "    'macrophage_clusters': ['18','6','15','16'],\n",
    "}\n",
    "\n",
    "adata.uns['cluster_groups'][f\"leidenOrd\"] = {\n",
    "    'tumor_clusters': ['1', '2', '3', '4', '5','15'],\n",
    "    'stroma_clusters': ['6', '7', '8', '9', '10', '11', '12','13','14'],\n",
    "    'neutrophil_clusters': ['6', '7'],\n",
    "    'macrophage_clusters': ['12','13'],\n",
    "    'lymphoid_clusters': ['9', '10', '11','14']\n",
    "}"
   ]
  },
  {
   "cell_type": "code",
   "execution_count": null,
   "id": "10f9d01e-02a2-40d0-8de6-ac0335cdd045",
   "metadata": {},
   "outputs": [],
   "source": [
    "rcParams['figure.figsize'] = (8, 6)\n",
    "sc.pl.umap(adata, color=['niche','leidenOrd'], size=2.5, legend_loc='on data', frameon=False)\n",
    "rcParams['figure.figsize'] = (4, 3)\n"
   ]
  },
  {
   "cell_type": "code",
   "execution_count": null,
   "id": "2b76b8c1-b51c-40a3-9f0c-714e07bf368f",
   "metadata": {},
   "outputs": [],
   "source": [
    "rcParams['figure.figsize'] = (4, 0.5)\n",
    "general=np.apply_along_axis(to_hex, 1, np.array(plt.get_cmap('Dark2').colors))\n",
    "a=np.outer(np.ones(len(general)),np.arange(0,1,0.01))   # pseudo image data\n",
    "plt.imshow(a,aspect='auto',cmap=plt.get_cmap('Dark2'),origin=\"lower\")\n",
    "rcParams['figure.figsize'] = (4, 3)"
   ]
  },
  {
   "cell_type": "code",
   "execution_count": null,
   "id": "a50fa73c-70a2-4140-ac52-4c10a7e5ede2",
   "metadata": {},
   "outputs": [],
   "source": [
    "general=np.apply_along_axis(to_hex, 1, np.array(plt.get_cmap('Dark2').colors))\n",
    "tumor=colorFader(general[2], c2='#FFFFFF', n=6, mix=0)\n",
    "lymphoid=general[4]\n",
    "myeloid=colorFader(general[1], c2='#FFFFFF', n=2, mix=0)\n",
    "Blike=colorFader(general[0], c2='#FFFFFF', n=2, mix=0)\n",
    "neutrophil=colorFader(general[3], c2='#FFFFFF', n=2, mix=0)\n",
    "stroma=colorFader(general[5], c2='#FFFFFF', n=2, mix=0)\n",
    "\n",
    "\n",
    "leiden_colDict = {\n",
    "    '1': tumor[0], '2': tumor[1], '3': tumor[2], '4': tumor[3], '5': tumor[4],\n",
    "    '7': neutrophil[0], '6': neutrophil[1], \n",
    "    '8': stroma[0], '10': Blike[0], '9': Blike[1], '11': lymphoid, '12': myeloid[0],\n",
    "    '13': myeloid[1], '14': stroma[1], '15': tumor[5]\n",
    "}\n",
    "# adata.uns['latent_leiden_0.7_colors'] = [x for x in leiden_colDict.values()]\n",
    "adata.uns['leidenOrd_colors'] = [x for x in leiden_colDict.values()]\n",
    "adata.uns['niche_colors'] = [x for x in leiden_colDict.values()]"
   ]
  },
  {
   "cell_type": "markdown",
   "id": "5a14b0b9-9d78-4714-b159-b4655cc4744d",
   "metadata": {},
   "source": [
    "## Overview plots"
   ]
  },
  {
   "cell_type": "code",
   "execution_count": null,
   "id": "ea40b126-ad03-49c8-a678-324e612d8936",
   "metadata": {},
   "outputs": [],
   "source": [
    "rcParams['figure.figsize'] = (8, 6)\n",
    "sc.pl.umap(adata, color=['niche','leidenOrd'], size=2.5, legend_loc='on data', frameon=False)\n",
    "rcParams['figure.figsize'] = (4, 3)"
   ]
  },
  {
   "cell_type": "code",
   "execution_count": null,
   "id": "da36508d-0ac1-4272-8796-b0a167695078",
   "metadata": {},
   "outputs": [],
   "source": [
    "rcParams['figure.figsize'] = (8, 6)\n",
    "sc.pl.umap(adata, color=['niche'], size=2.5, frameon=False)\n",
    "rcParams['figure.figsize'] = (4, 3)"
   ]
  },
  {
   "cell_type": "code",
   "execution_count": null,
   "id": "c1488fff-7526-4ddb-b0db-e1a447ae5418",
   "metadata": {},
   "outputs": [],
   "source": [
    "n = adata.obs.batch.nunique()\n",
    "fig, axes = plt.subplots(nrows=2, ncols=n, figsize=(8*n,6*2))\n",
    "\n",
    "for i, batch in enumerate(adata.obs.batch.unique()):\n",
    "    ax = sc.pl.embedding(adata[adata.obs.batch==batch], basis=\"spatial\", color=['cell type'], size=6, legend_loc=None, frameon=False, title=[''], ax=axes[0,i], show=False)\n",
    "    ax = sc.pl.embedding(adata[adata.obs.batch==batch], basis=\"spatial\", color=['leidenOrd'], size=6, legend_loc=None, frameon=False, title=[''], ax=axes[1,i], show=False)\n",
    "\n",
    "fig.tight_layout()\n",
    "fig.subplots_adjust(wspace=0.01, hspace=0.01)\n",
    "# plt.savefig(f\"{figure_path}/histology_h.pdf\", bbox_inches=\"tight\", format='pdf')"
   ]
  },
  {
   "cell_type": "code",
   "execution_count": null,
   "id": "6f65e71a-80c1-46e8-ae4b-c3f76f90f852",
   "metadata": {},
   "outputs": [],
   "source": [
    "cluster_var = 'cell type'\n",
    "plot_var = 'leidenOrd'\n",
    "props = adata.obs.groupby([cluster_var, plot_var]).size().reset_index()\n",
    "props = props.pivot(columns=plot_var, index=cluster_var).T\n",
    "props.index = props.index.droplevel(0)\n",
    "props.fillna(0, inplace=True)\n",
    "props = props.div(props.sum(axis=1), axis=0)*100 \n",
    "fig = plot_cluster_proportions(props, xlabel_rotation=90, cluster_palette=adata.uns[f'{cluster_var}_colors'], figsize=(8,3))\n",
    "# plt.savefig(f\"{figure_path}/a3_prop.pdf\", bbox_inches=\"tight\", format='pdf')"
   ]
  },
  {
   "cell_type": "code",
   "execution_count": null,
   "id": "6520eb21-1262-4b83-bd1b-3d67dfd5f415",
   "metadata": {},
   "outputs": [],
   "source": [
    "cluster_var = 'batch'\n",
    "plot_var = 'leidenOrd'\n",
    "props = adata.obs.groupby([cluster_var, plot_var]).size().reset_index()\n",
    "props = props.pivot(columns=plot_var, index=cluster_var).T\n",
    "props.index = props.index.droplevel(0)\n",
    "props.fillna(0, inplace=True)\n",
    "props = props.div(props.sum(axis=1), axis=0)*100 \n",
    "fig = plot_cluster_proportions(props, xlabel_rotation=90, cluster_palette=adata.uns[f'{cluster_var}_colors'], figsize=(8,3))\n",
    "# plt.savefig(f\"{figure_path}/a3_prop.pdf\", bbox_inches=\"tight\", format='pdf')\n"
   ]
  },
  {
   "cell_type": "markdown",
   "id": "59c14b65-c54b-4b0b-b27d-fa5a47c83751",
   "metadata": {
    "tags": []
   },
   "source": [
    "## Neighborhood composition"
   ]
  },
  {
   "cell_type": "code",
   "execution_count": null,
   "id": "28b4fbbc-a008-4dda-abf7-00bb95c5eccd",
   "metadata": {},
   "outputs": [],
   "source": [
    "from sklearn.neighbors import NearestNeighbors\n",
    "leiden_col_key='leidenOrd'\n",
    "n = 25\n",
    "# compute n neighbours per cell type\n",
    "knn = {}\n",
    "cell_counts = {}\n",
    "for b in adata.obs.batch.unique():\n",
    "    X = adata[adata.obs.batch==b].obsm['spatial']\n",
    "    celltypes = adata[adata.obs.batch==b].obs['cell type'].astype(str).values.astype('<U22')    \n",
    "    cellnames = adata[adata.obs.batch==b].obs_names\n",
    "\n",
    "    knn[b] = NearestNeighbors(n_neighbors=n)\n",
    "    knn[b].fit(X)\n",
    "    knn[b] = knn[b].kneighbors(X, return_distance=False)    \n",
    "    knn[b] = celltypes[knn[b]]\n",
    "\n",
    "    for i in range(len(cellnames)):\n",
    "        unique, counts = np.unique(knn[b][i,:], return_counts=True)\n",
    "        cell_counts[cellnames[i]] = dict(zip(unique, counts))\n",
    "\n",
    "adata.obsm[f'k{n}_neighbours_celltype'] = pd.DataFrame(cell_counts).T.fillna(0)"
   ]
  },
  {
   "cell_type": "code",
   "execution_count": null,
   "id": "409e2cda-789f-4836-9841-be9f1919d217",
   "metadata": {},
   "outputs": [],
   "source": [
    "rcParams['figure.figsize'] = (10, 4)\n",
    "leiden_col_key='leidenOrd'\n",
    "n=25\n",
    "rcParams['figure.figsize'] = (4, 3)\n",
    "for structure in ['tumor_clusters','stroma_clusters','macrophage_clusters']:\n",
    "    groups = adata.uns['cluster_groups'][leiden_col_key][structure]\n",
    "    # format for plotting and keep only those with an interesting number\n",
    "    dt = adata.obsm[f'k{n}_neighbours_celltype']\n",
    "    dt[leiden_col_key] = adata.obs[leiden_col_key]\n",
    "    dt = dt.loc[dt[leiden_col_key].isin(groups),:]\n",
    "    dt[leiden_col_key] = dt[leiden_col_key].cat.remove_unused_categories()\n",
    "    dt = dt.reset_index()\n",
    "    dt = pd.melt(dt, id_vars=['index',leiden_col_key], value_name=f'n NN/{n}', var_name='cell type')\n",
    "    dt['cell type'] = pd.Categorical(dt['cell type'], categories=adata.obs['cell type'].cat.categories)\n",
    "    if structure == 'tumor_clusters':\n",
    "        include = (dt.groupby(['cell type',leiden_col_key])[f'n NN/{n}'].mean().groupby(['cell type']).max() > n*0.05) & (dt.groupby(['cell type',leiden_col_key])[f'n NN/{n}'].mean().groupby(['cell type']).max() < n*0.6)\n",
    "        rcParams['figure.figsize'] = (len(groups)*1.5, 4)\n",
    "    else:\n",
    "        include = (dt.groupby(['cell type',leiden_col_key])[f'n NN/{n}'].mean().groupby(['cell type']).max() > n*0.15) & (dt.groupby(['cell type',leiden_col_key])[f'n NN/{n}'].mean().groupby(['cell type']).max() < n*0.6)\n",
    "        rcParams['figure.figsize'] = (len(groups)*2, 4)\n",
    "    dt = dt[dt['cell type'].isin(include[include].index.values)]\n",
    "    dt['cell type'] = dt['cell type'].cat.remove_unused_categories()\n",
    "\n",
    "    # plot\n",
    "    sns.boxplot(data=dt, x=leiden_col_key, y=f'n NN/{n}', hue='cell type', palette=adata.uns[f'cell type_colors'][include.values], showfliers = False).set(title='')\n",
    "    plt.ylim((0, 25))\n",
    "    plt.xticks(rotation=0)\n",
    "    plt.xlabel(\"\", fontsize=17.5)\n",
    "    plt.ylabel(f'neighborhood composition', fontsize=17.5)\n",
    "    # plt.legend([],[], frameon=False)\n",
    "    plt.legend(frameon=False, loc='center left', bbox_to_anchor=(1, 0.7), fontsize=15)\n",
    "    plt.tick_params(bottom=False, labelsize=17.5)\n",
    "    sns.despine(offset=10, trim=True, bottom=True)\n",
    "    plt.show()\n",
    "rcParams['figure.figsize'] = (4, 3)"
   ]
  },
  {
   "cell_type": "markdown",
   "id": "2de93857-1075-47dc-9aba-6765aa6a6df4",
   "metadata": {},
   "source": [
    "## Compare GEX"
   ]
  },
  {
   "cell_type": "code",
   "execution_count": null,
   "id": "dcd8ca46-123f-425b-aa47-29e9573faab9",
   "metadata": {},
   "outputs": [],
   "source": [
    "adata.uns['cluster_groups']"
   ]
  },
  {
   "cell_type": "code",
   "execution_count": null,
   "id": "8e01cf47-ae96-44f0-a150-2722b551642c",
   "metadata": {},
   "outputs": [],
   "source": [
    "rcParams['figure.figsize'] = (8, 3)\n",
    "sc.tl.rank_genes_groups(adata, 'leidenOrd', groups=['2','1','3','5','4','15'])\n",
    "x = pd.DataFrame({'gene': adata.uns['rank_genes_groups']['names']['15'], 'padj': adata.uns['rank_genes_groups']['pvals_adj']['15'], 'logFC': adata.uns['rank_genes_groups']['logfoldchanges']['15']})\n",
    "sc.pl.rank_genes_groups(adata, n_genes=25, sharey=False)\n",
    "rcParams['figure.figsize'] = (4, 3)\n"
   ]
  },
  {
   "cell_type": "code",
   "execution_count": null,
   "id": "558b2405-b5e6-43a7-a25b-6c5f499ed702",
   "metadata": {},
   "outputs": [],
   "source": [
    "x[x.gene.isin(['SPP1','EGFR','CD44','ITGAV','ITGB1','VEGFA','NFKB1','HIF1A','JUN','AKT1'])]"
   ]
  },
  {
   "cell_type": "code",
   "execution_count": null,
   "id": "24b27036-a63d-4882-ab05-b02d595c1f18",
   "metadata": {},
   "outputs": [],
   "source": [
    "x[(x.logFC > 0) & (x.padj < 0.05)].gene.values"
   ]
  },
  {
   "cell_type": "code",
   "execution_count": null,
   "id": "8cfb54e0-812d-4970-953e-90669dc30f8e",
   "metadata": {},
   "outputs": [],
   "source": [
    "sc.pl.umap(adata, color=['HLA-DRA','CCL5','SPP1','TGFB2'], ncols=4, wspace=0.3, size=0.5)"
   ]
  },
  {
   "cell_type": "code",
   "execution_count": null,
   "id": "3560e2eb-1278-480c-afe4-b94150b8b538",
   "metadata": {},
   "outputs": [],
   "source": [
    "sc.pl.umap(adata, color=['CD52'], ncols=4, wspace=0.3, size=0.5)"
   ]
  },
  {
   "cell_type": "code",
   "execution_count": null,
   "id": "5347b1ec-83e5-4536-a6fd-264c08936316",
   "metadata": {},
   "outputs": [],
   "source": [
    "for structure, clusters in adata.uns['cluster_groups'][f\"latent_leiden_{latent_leiden_resolution}\"].items():\n",
    "    print(structure)\n",
    "    sc.tl.rank_genes_groups(adata, f\"latent_leiden_{latent_leiden_resolution}\", groups=clusters)\n",
    "    sc.pl.rank_genes_groups(adata, n_genes=25, sharey=False)"
   ]
  },
  {
   "cell_type": "code",
   "execution_count": null,
   "id": "2f22b0ab-9282-4e89-a216-612ad8a0b841",
   "metadata": {},
   "outputs": [],
   "source": [
    "sc.tl.rank_genes_groups(adata, f\"latent_leiden_{latent_leiden_resolution}\", groups=['18'], reference='16')\n",
    "sc.pl.rank_genes_groups(adata, n_genes=25, sharey=False)\n",
    "sc.tl.rank_genes_groups(adata, f\"latent_leiden_{latent_leiden_resolution}\", groups=['16'], reference='18')\n",
    "sc.pl.rank_genes_groups(adata, n_genes=25, sharey=False)"
   ]
  },
  {
   "cell_type": "code",
   "execution_count": null,
   "id": "d9f1f29f-78b4-43f1-a4da-4185a881b93e",
   "metadata": {},
   "outputs": [],
   "source": [
    "sc.pl.embedding(adata[adata.obs.batch=='lung13'], basis=\"spatial\", color=['MARCO','FABP4','SPP1','CCL2'], ncols=4, wspace=0.3, size=2)"
   ]
  },
  {
   "cell_type": "code",
   "execution_count": null,
   "id": "73d4d930-bf58-41d7-9306-95792d39fecd",
   "metadata": {},
   "outputs": [],
   "source": [
    "sc.pl.embedding(adata[adata.obs.batch=='lung6'], basis=\"spatial\", color=['MARCO','FABP4','SPP1','CCL2'], ncols=4, wspace=0.3, size=2)"
   ]
  },
  {
   "cell_type": "code",
   "execution_count": null,
   "id": "2752a475-3a13-4803-8183-e6c0aa2a495e",
   "metadata": {},
   "outputs": [],
   "source": [
    "sc.pl.embedding(adata[adata.obs.batch==''], basis=\"spatial\", color=['PDCD1','CD274'], ncols=4, wspace=0.3, size=2)"
   ]
  },
  {
   "cell_type": "markdown",
   "id": "3b57e0b8-33cc-4301-96b8-2d0d4f454be5",
   "metadata": {
    "tags": []
   },
   "source": [
    "## Mapping"
   ]
  },
  {
   "cell_type": "code",
   "execution_count": null,
   "id": "5db51eef-e1c9-47a5-8b84-643927e8fa8d",
   "metadata": {},
   "outputs": [],
   "source": [
    "model =  NicheCompass.load(dir_path=f'{base_path}/artifacts/nanostring_cosmx_human_nsclc/models/reference_query_mapping/19102023_172844_43_8/',\n",
    "                  adata=None,\n",
    "                  adata_file_name='nanostring_cosmx_human_nsclc_reference_query_mapping.h5ad',\n",
    "                  gp_names_key='nichecompass_gp_names')\n",
    "query_active_gps = model.get_active_gps()\n",
    "adata_ref, adata_path = load_adata(suffix='43', model='reference')\n",
    "\n",
    "gc.collect()"
   ]
  },
  {
   "cell_type": "code",
   "execution_count": null,
   "id": "72d53ede-b204-4f8a-9814-9efd5cbed93b",
   "metadata": {},
   "outputs": [],
   "source": [
    "adata_ref, adata_path = load_adata(suffix='43', model='reference')\n",
    "leiden2niche = {\n",
    "    '0': '1- Tumor (stroma border)', '2': '2- Tumor interior', '5': '3- Tumor (neutrophil border)', '7': '4- Tumor interior', '11': '5- Infiltrated tumor',\n",
    "    '3': '6- Neutrophil expansion', '4': '7- Myeloid cells rich stroma', '1': '8- Stroma', '6': '9- Plasmablast rich stroma', '9': '10- Plasmablast rich stroma', '8': '11- Lymphoid aggregates', '10': '12- Macrophage rich stroma'\n",
    "}\n",
    "\n",
    "adata_ref.obs['niche'] = adata_ref.obs['latent_leiden_0.45'].map(leiden2niche)\n",
    "adata_ref.obs['niche_0.1'] = adata_ref.obs['latent_leiden_0.1'].map({'0':'lymphoid stroma', '1':'tumor 9,12', '2': 'myeloid stroma', '3': 'tumor 6', '4': 'tumor 5'})\n",
    "adata_ref.obs['niche_0.1lo'] = adata_ref.obs['latent_leiden_0.1'].map({'0':'lymphoid stroma', '1':'tumor', '2': 'myeloid stroma', '3': 'tumor', '4': 'tumor'})\n",
    "\n",
    "general=np.apply_along_axis(to_hex, 1, np.array(plt.get_cmap('Dark2').colors))\n",
    "tumor=colorFader(general[2], c2='#FFFFFF', n=5, mix=0)\n",
    "lymphoid=general[4]\n",
    "myeloid=general[1]\n",
    "Blike=colorFader(general[0], c2='#FFFFFF', n=2, mix=0)\n",
    "neutrophil=colorFader(general[3], c2='#FFFFFF', n=2, mix=0)\n",
    "stroma=general[5]\n",
    "\n",
    "\n",
    "leiden_colDict = {\n",
    "    '0': tumor[0], '2': tumor[1], '5': tumor[2], '7': tumor[3], '11': tumor[4], \n",
    "    '3': neutrophil[0], '4': neutrophil[1], \n",
    "    '1': stroma, '6': Blike[0], '9': Blike[1], '8': lymphoid, '10': myeloid \n",
    "}\n",
    "adata_ref.uns['latent_leiden_0.45_colors'] = [x for x in leiden_colDict.values()]\n",
    "adata_ref.uns['leidenOrd_colors'] = [x for x in leiden_colDict.values()]\n",
    "adata_ref.uns['niche_colors'] = [x for x in leiden_colDict.values()]\n",
    "\n",
    "colDict = {cl: color for color, cl in zip(adata_ref.uns['niche_colors'], adata_ref.obs.niche.cat.categories)}\n",
    "\n",
    "adata_ref"
   ]
  },
  {
   "cell_type": "code",
   "execution_count": null,
   "id": "ef8d0e68-4008-42da-8608-7fb2050adec9",
   "metadata": {},
   "outputs": [],
   "source": [
    "ref_active_gps = adata_ref.uns['nichecompass_active_gp_names']\n",
    "ref_obs = adata_ref.obs\n",
    "gps = list(set(ref_active_gps).intersection(set(query_active_gps)))\n",
    "adata_ref.obsm['nichecompass_latent'] = adata_ref.obsm['nichecompass_latent'][:,pd.Series(ref_active_gps).isin(gps)]\n",
    "gc.collect()"
   ]
  },
  {
   "cell_type": "code",
   "execution_count": null,
   "id": "ed091a12-befd-4260-82c1-578f6544aa94",
   "metadata": {},
   "outputs": [],
   "source": [
    "from sklearn.neighbors import KNeighborsClassifier\n",
    "knn = KNeighborsClassifier(n_neighbors=50, weights='distance')\n",
    "knn.fit(X=adata_ref.obsm['nichecompass_latent'], y=adata_ref.obs[['niche','niche_0.1','niche_0.1lo']])"
   ]
  },
  {
   "cell_type": "code",
   "execution_count": null,
   "id": "c7fa47f5-1298-46eb-aaab-b68bec972a1d",
   "metadata": {},
   "outputs": [],
   "source": [
    "del adata_ref\n",
    "gc.collect()"
   ]
  },
  {
   "cell_type": "code",
   "execution_count": null,
   "id": "7c797a57-c070-4cec-a981-34c669747dbe",
   "metadata": {},
   "outputs": [],
   "source": [
    "adata_query, adata_path = load_adata(suffix='43_8', model='reference_query_mapping')\n",
    "adata_query.obs['mapping_entity'].value_counts()\n",
    "adata_query  = adata_query[adata_query.obs.mapping_entity=='query']\n",
    "adata_query.obsm['nichecompass_latent'] = adata_query.obsm['nichecompass_latent'][:,pd.Series(query_active_gps).isin(gps)]\n",
    "gc.collect()"
   ]
  },
  {
   "cell_type": "code",
   "execution_count": null,
   "id": "4e58f12f-21b8-420a-bc78-3cc1341b6d7c",
   "metadata": {},
   "outputs": [],
   "source": [
    "proba = knn.predict_proba(adata_query.obsm['nichecompass_latent'])\n",
    "k_dist, k_indx = knn.kneighbors(adata_query.obsm['nichecompass_latent'], n_neighbors=50, return_distance=True)"
   ]
  },
  {
   "cell_type": "code",
   "execution_count": null,
   "id": "9b40bcd9-c5e4-47cb-a2f7-9bf728995f0a",
   "metadata": {},
   "outputs": [],
   "source": [
    "predictions = proba[0]\n",
    "predictions = pd.DataFrame({'predlabel': np.argmax(predictions, axis=1), 'probability': np.max(predictions, axis=1), 'mean_dist': np.mean(k_dist, axis=1), 'k_dist': k_dist[:,49]})\n",
    "predictions['predlabel'] = predictions['predlabel'].map({i: l for i, l in enumerate(knn.classes_[0])})\n",
    "predictions.index = adata_query.obs.index\n",
    "predictions.to_csv(f'{base_path}/artifacts/nanostring_cosmx_human_nsclc/results/reference_query_mapping/19102023_172844_43_8/label_transfer.csv')\n",
    "\n",
    "predictions"
   ]
  },
  {
   "cell_type": "code",
   "execution_count": null,
   "id": "bc974145-4b38-45a9-807a-e1a0fd810d9c",
   "metadata": {},
   "outputs": [],
   "source": [
    "predictions = pd.read_csv(f'{base_path}/artifacts/nanostring_cosmx_human_nsclc/results/reference_query_mapping/19102023_172844_43_8/label_transfer.csv', index_col=0)\n",
    "predictions.probability.hist()\n",
    "plt.show()"
   ]
  },
  {
   "cell_type": "code",
   "execution_count": null,
   "id": "8a382b4b-c7f2-440a-ad77-7aef00cce921",
   "metadata": {},
   "outputs": [],
   "source": [
    "(predictions.probability < 0.7).value_counts()/predictions.probability.shape[0]"
   ]
  },
  {
   "cell_type": "code",
   "execution_count": null,
   "id": "42e44e19-f89d-4d98-b155-b429b96365a5",
   "metadata": {},
   "outputs": [],
   "source": [
    "(predictions.probability < 0.5).value_counts()/predictions.probability.shape[0]"
   ]
  },
  {
   "cell_type": "code",
   "execution_count": null,
   "id": "99d7ebfc-52e8-4248-9dba-e7586cfe1ee9",
   "metadata": {},
   "outputs": [],
   "source": [
    "predictions['predlabel'].value_counts()/predictions.shape[0] > 0.05"
   ]
  },
  {
   "cell_type": "code",
   "execution_count": null,
   "id": "b50dc47d-de09-4229-9364-6ca05ef52705",
   "metadata": {},
   "outputs": [],
   "source": [
    "# simplify labels by keeping only niches that are assigned to at least 5% of the cells\n",
    "keep = predictions['predlabel'].value_counts().index[predictions['predlabel'].value_counts()/predictions.shape[0] > 0.05]\n",
    "keep"
   ]
  },
  {
   "cell_type": "code",
   "execution_count": null,
   "id": "988e7b75-8eb7-49ff-8753-0e5f87fff744",
   "metadata": {},
   "outputs": [],
   "source": [
    "adata_query.obs = pd.concat([adata_query.obs, predictions], axis=1)"
   ]
  },
  {
   "cell_type": "code",
   "execution_count": null,
   "id": "38f50d88-8317-461b-b017-14dbefa230ae",
   "metadata": {},
   "outputs": [],
   "source": [
    "adata_query.obs.predlabel"
   ]
  },
  {
   "cell_type": "code",
   "execution_count": null,
   "id": "1832ca26-974d-4833-820b-0cdb736e3da4",
   "metadata": {},
   "outputs": [],
   "source": [
    "adata_query.obs.predlabel = pd.Categorical(adata_query.obs.predlabel, categories=colDict.keys())\n",
    "adata_query.uns['predlabel_colors'] = [colDict[cl] for cl in adata_query.obs.predlabel.cat.categories]"
   ]
  },
  {
   "cell_type": "code",
   "execution_count": null,
   "id": "b4ac3f85-5ed1-454b-947e-c4cd46c9dae2",
   "metadata": {},
   "outputs": [],
   "source": [
    "sc.pl.umap(adata_query, color=['mean_dist','k_dist','probability','predlabel'], size=1.5, frameon=False, ncols=2, wspace=1, color_map='viridis')"
   ]
  },
  {
   "cell_type": "code",
   "execution_count": null,
   "id": "969ebbd9-17d6-4b9e-b77a-76ab650f2321",
   "metadata": {},
   "outputs": [],
   "source": [
    "adata_query = adata_query[adata_query.obs.predlabel.isin(keep)]"
   ]
  },
  {
   "cell_type": "code",
   "execution_count": null,
   "id": "48274147-0317-4e29-a623-5605967ba077",
   "metadata": {},
   "outputs": [],
   "source": [
    "fig, axes = plt.subplots(nrows=2, ncols=2, figsize=(12,6))\n",
    "ax = sc.pl.umap(adata_query, color=['mean_dist'], size=1.5, frameon=False, ncols=1, wspace=3, vmax=170, vmin=50, ax=axes[0,0], show=False, color_map='viridis')\n",
    "ax = sc.pl.umap(adata_query, color=['k_dist'], size=1.5, frameon=False, ncols=1, wspace=3, vmax=170, vmin=50, ax=axes[0,1], show=False, color_map='viridis')\n",
    "ax = sc.pl.umap(adata_query, color=['probability'], size=1.5, frameon=False, ncols=1, wspace=3, vmax=1, vmin=0, ax=axes[1,0], show=False, color_map='viridis')\n",
    "ax = sc.pl.umap(adata_query, color=['predlabel'], size=1.5, frameon=False, ncols=1, wspace=3, ax=axes[1,1], show=False)\n",
    "\n",
    "fig.tight_layout()"
   ]
  },
  {
   "cell_type": "code",
   "execution_count": null,
   "id": "60082071-de5c-4f74-9dca-db128294b4b3",
   "metadata": {},
   "outputs": [],
   "source": [
    "sc.set_figure_params(dpi=200, figsize=(6,4))\n",
    "sc.pl.umap(adata_query, color=['cell type'], size=2, frameon=False, ncols=1, wspace=3, title=[''])\n",
    "sc.pl.umap(adata_query, color=['predlabel'], size=1.5, frameon=False, ncols=1, wspace=3, title=[''])\n",
    "sc.pl.umap(adata_query, color=['probability'], size=1.5, frameon=False, ncols=1, wspace=3, vmax=1, vmin=0, colorbar_loc='bottom', title=[''], color_map='viridis')\n",
    "sc.set_figure_params(dpi=100, figsize=(4,3))"
   ]
  },
  {
   "cell_type": "code",
   "execution_count": null,
   "id": "d7731a36-bd25-43f6-ad56-d301b322d236",
   "metadata": {},
   "outputs": [],
   "source": [
    "cluster_var = 'cell type'\n",
    "plot_var = 'predlabel'\n",
    "props = adata_query.obs.groupby([cluster_var, plot_var]).size().reset_index()\n",
    "props = props.pivot(columns=plot_var, index=cluster_var).T\n",
    "props.index = props.index.droplevel(0)\n",
    "props.fillna(0, inplace=True)\n",
    "# props = props.div(props.sum(axis=1), axis=0)*100 \n",
    "fig = plot_cluster_proportions(props, xlabel_rotation=90, cluster_palette=adata_query.uns[f'{cluster_var}_colors'], figsize=(8,3))"
   ]
  },
  {
   "cell_type": "code",
   "execution_count": null,
   "id": "5546bd9b-8497-4ff4-9d7d-65425ef98be5",
   "metadata": {},
   "outputs": [],
   "source": [
    "adata_query.uns['niche_colors']"
   ]
  },
  {
   "cell_type": "code",
   "execution_count": null,
   "id": "4f74a97a-28d1-4f6d-8c4c-493509cd21f7",
   "metadata": {},
   "outputs": [],
   "source": [
    "rcParams['figure.figsize'] = (10, 4)\n",
    "sns.boxplot(data=adata_query.obs, x='predlabel', y='probability', showfliers = False, palette=adata_query.uns['predlabel_colors'])\n",
    "sns.despine(offset=10, trim=True, bottom=True)\n",
    "plt.xticks(rotation=90)\n",
    "plt.xlabel(\"Niche\")\n",
    "plt.ylabel(f'Probability')\n",
    "plt.legend([],[], frameon=False)\n",
    "plt.show()\n",
    "rcParams['figure.figsize'] = (4, 3)"
   ]
  },
  {
   "cell_type": "code",
   "execution_count": null,
   "id": "c6aaeb9c-f401-441e-a6f4-d7930920921b",
   "metadata": {},
   "outputs": [],
   "source": [
    "rcParams['figure.figsize'] = (10, 4)\n",
    "sns.boxplot(data=adata_query.obs, x='predlabel', y='mean_dist', showfliers = False, palette=adata_query.uns['predlabel_colors'])\n",
    "sns.despine(offset=10, trim=True, bottom=True)\n",
    "plt.xticks(rotation=90)\n",
    "plt.xlabel(\"Niche\")\n",
    "plt.ylabel(f'Mean distance')\n",
    "plt.legend([],[], frameon=False)\n",
    "plt.show()\n",
    "rcParams['figure.figsize'] = (4, 3)"
   ]
  },
  {
   "cell_type": "code",
   "execution_count": null,
   "id": "b4d9d5ea-3626-458a-a6af-a0679c3e45b1",
   "metadata": {},
   "outputs": [],
   "source": [
    "rcParams['figure.figsize'] = (10, 4)\n",
    "sns.boxplot(data=adata_query.obs, x='predlabel', y='k_dist', showfliers = False, palette=adata_query.uns['predlabel_colors'])\n",
    "sns.despine(offset=10, trim=True, bottom=True)\n",
    "plt.xticks(rotation=90)\n",
    "plt.xlabel(\"Niche\")\n",
    "plt.ylabel(f'Distance to k')\n",
    "plt.legend([],[], frameon=False)\n",
    "plt.show()\n",
    "rcParams['figure.figsize'] = (4, 3)"
   ]
  },
  {
   "cell_type": "markdown",
   "id": "454aeb98-afff-4fce-b5e2-f5510b7ddd8b",
   "metadata": {
    "tags": []
   },
   "source": [
    "## GPs"
   ]
  },
  {
   "cell_type": "markdown",
   "id": "e447b1ce-5a63-43d4-bf9d-40a200fb700c",
   "metadata": {},
   "source": [
    "### Tumor niche"
   ]
  },
  {
   "cell_type": "code",
   "execution_count": null,
   "id": "04bdd64a-c59d-4a83-a884-d6c885c6b7d2",
   "metadata": {},
   "outputs": [],
   "source": [
    "significant_gps=pd.read_csv(f\"{base_path}/artifacts/nanostring_cosmx_human_nsclc/results/reference_query_mapping/19102023_172844_43_8/gpTest_tumor_clusters_9_r0.7.csv\")\n",
    "significant_gps = significant_gps[~significant_gps.gene_program.str.contains('Add-on')]\n",
    "interest_gps = significant_gps.gene_program.values\n",
    "invert = []\n",
    "\n",
    "# Create active gene program df\n",
    "interest_gp_df = pd.DataFrame(adata.obsm['nichecompass_latent'][:,pd.Series(adata.uns['nichecompass_active_gp_names']).isin(interest_gps).values],\n",
    "                            columns=adata.uns['nichecompass_active_gp_names'][pd.Series(adata.uns['nichecompass_active_gp_names']).isin(interest_gps).values])\n",
    "interest_gp_df = interest_gp_df.set_index(adata.obs.index)\n",
    "\n",
    "# Drop columns if they are already in ´adata.obs´ and invert if apropriate\n",
    "for gp in interest_gps:\n",
    "    if gp in adata.obs:\n",
    "        adata.obs.drop(gp, axis=1, inplace=True)\n",
    "        \n",
    "    if gp in invert:\n",
    "        interest_gp_df[gp] = -interest_gp_df[gp]\n",
    "\n",
    "# Concatenate active gene program df horizontally to ´adata.obs´\n",
    "adata.obs = pd.concat([adata.obs, interest_gp_df], axis=1)"
   ]
  },
  {
   "cell_type": "code",
   "execution_count": null,
   "id": "325792ca-e107-4d13-9119-f13f539178fb",
   "metadata": {},
   "outputs": [],
   "source": [
    "# output not shown to reduce notebook size\n",
    "for gp in interest_gps:\n",
    "    gp_idx = adata.uns['nichecompass_gp_names'].tolist().index(gp)\n",
    "    source = adata.var_names[(adata.varm['nichecompass_gp_sources_categories'][:,gp_idx] == 1) |  (adata.varm['nichecompass_gp_sources_categories'][:,gp_idx] == 2)].tolist()\n",
    "    targets = adata.var_names[(adata.varm['nichecompass_gp_targets_categories'][:,gp_idx] == 3) | (adata.varm['nichecompass_gp_targets_categories'][:,gp_idx] == 2)].tolist()\n",
    "    sc.pl.umap(adata, color=gp, ncols=5, size=0.5, frameon=False, cmap='RdGy_r')\n",
    "    if len(source+targets) > 0:\n",
    "        sc.pl.umap(adata, color=source+targets, ncols=5, size=0.5, frameon=False, cmap='RdPu')"
   ]
  },
  {
   "cell_type": "markdown",
   "id": "a53b762b-79f5-496c-bcee-dfca94e39c72",
   "metadata": {},
   "source": [
    "### Macrophage niche"
   ]
  },
  {
   "cell_type": "code",
   "execution_count": null,
   "id": "9ad035b9-589f-4ea5-b4ec-738a81255a37",
   "metadata": {},
   "outputs": [],
   "source": [
    "significant_gps=pd.read_csv(f\"{base_path}/artifacts/nanostring_cosmx_human_nsclc/results/reference_query_mapping/19102023_172844_43_8/gpTest_macrophage_clusters_18_r0.7.csv\")\n",
    "significant_gps = significant_gps[~significant_gps.gene_program.str.contains('Add-on')]\n",
    "interest_gps = significant_gps.gene_program.values\n",
    "invert = []\n",
    "\n",
    "# Create active gene program df\n",
    "interest_gp_df = pd.DataFrame(adata.obsm['nichecompass_latent'][:,pd.Series(adata.uns['nichecompass_active_gp_names']).isin(interest_gps).values],\n",
    "                            columns=adata.uns['nichecompass_active_gp_names'][pd.Series(adata.uns['nichecompass_active_gp_names']).isin(interest_gps).values])\n",
    "interest_gp_df = interest_gp_df.set_index(adata.obs.index)\n",
    "\n",
    "# Drop columns if they are already in ´adata.obs´ and invert if apropriate\n",
    "for gp in interest_gps:\n",
    "    if gp in adata.obs:\n",
    "        adata.obs.drop(gp, axis=1, inplace=True)\n",
    "        \n",
    "    if gp in invert:\n",
    "        interest_gp_df[gp] = -interest_gp_df[gp]\n",
    "\n",
    "# Concatenate active gene program df horizontally to ´adata.obs´\n",
    "adata.obs = pd.concat([adata.obs, interest_gp_df], axis=1)"
   ]
  },
  {
   "cell_type": "code",
   "execution_count": null,
   "id": "3bf76b87-5036-483e-988b-a78c22130dcb",
   "metadata": {},
   "outputs": [],
   "source": [
    "# output not shown to reduce notebook size\n",
    "for gp in interest_gps:\n",
    "    gp_idx = adata.uns['nichecompass_gp_names'].tolist().index(gp)\n",
    "    source = adata.var_names[(adata.varm['nichecompass_gp_sources_categories'][:,gp_idx] == 1) |  (adata.varm['nichecompass_gp_sources_categories'][:,gp_idx] == 2)].tolist()\n",
    "    targets = adata.var_names[(adata.varm['nichecompass_gp_targets_categories'][:,gp_idx] == 3) | (adata.varm['nichecompass_gp_targets_categories'][:,gp_idx] == 2)].tolist()\n",
    "    sc.pl.umap(adata, color=gp, ncols=5, size=0.5, frameon=False, cmap='RdGy_r')\n",
    "    if len(source+targets) > 0:\n",
    "        sc.pl.umap(adata, color=source+targets, ncols=5, size=0.5, frameon=False, cmap='RdPu')"
   ]
  },
  {
   "cell_type": "markdown",
   "id": "015d1bd4-5c8e-466c-8c42-9e3bc1855d60",
   "metadata": {},
   "source": [
    "### SPP1 pathway"
   ]
  },
  {
   "cell_type": "code",
   "execution_count": null,
   "id": "63b3b51e-4540-411e-af8d-160973a0264d",
   "metadata": {},
   "outputs": [],
   "source": [
    "interest_gps = ['SPP1_ligand_receptor_GP', 'Spp1_ligand_receptor_target_gene_GP']\n",
    "invert = ['SPP1_ligand_receptor_GP']\n",
    "\n",
    "# Create active gene program df\n",
    "interest_gp_df = pd.DataFrame(adata.obsm['nichecompass_latent'][:,pd.Series(adata.uns['nichecompass_active_gp_names']).isin(interest_gps).values],\n",
    "                            columns=adata.uns['nichecompass_active_gp_names'][pd.Series(adata.uns['nichecompass_active_gp_names']).isin(interest_gps).values])\n",
    "interest_gp_df = interest_gp_df.set_index(adata.obs.index)\n",
    "\n",
    "# Drop columns if they are already in ´adata.obs´ and invert if apropriate\n",
    "for gp in interest_gps:\n",
    "    if gp in adata.obs:\n",
    "        adata.obs.drop(gp, axis=1, inplace=True)\n",
    "        \n",
    "    if gp in invert:\n",
    "        interest_gp_df[gp] = -interest_gp_df[gp]\n",
    "\n",
    "# Concatenate active gene program df horizontally to ´adata.obs´\n",
    "adata.obs = pd.concat([adata.obs, interest_gp_df], axis=1)"
   ]
  },
  {
   "cell_type": "code",
   "execution_count": null,
   "id": "0a9867fc-fe35-4883-acbe-1780fb4f32ad",
   "metadata": {},
   "outputs": [],
   "source": [
    "for gp in interest_gps:\n",
    "    gp_idx = adata.uns['nichecompass_gp_names'].tolist().index(gp)\n",
    "    source = adata.var_names[(adata.varm['nichecompass_gp_sources_categories'][:,gp_idx] == 1) |  (adata.varm['nichecompass_gp_sources_categories'][:,gp_idx] == 2)].tolist()\n",
    "    targets = adata.var_names[(adata.varm['nichecompass_gp_targets_categories'][:,gp_idx] == 3) | (adata.varm['nichecompass_gp_targets_categories'][:,gp_idx] == 2) | (adata.varm['nichecompass_gp_targets_categories'][:,gp_idx] == 1)].tolist()\n",
    "    sc.pl.umap(adata, color=gp, ncols=5, size=0.5, frameon=False, cmap='RdGy_r')\n",
    "    if len(source+targets) > 0:\n",
    "        sc.pl.umap(adata, color=source+targets, ncols=5, size=0.5, frameon=False, cmap='RdPu')"
   ]
  },
  {
   "cell_type": "code",
   "execution_count": null,
   "id": "03be1d30-ad47-449b-938e-ca6622945cf6",
   "metadata": {},
   "outputs": [],
   "source": [
    "rcParams['figure.figsize'] = (8, 6)\n",
    "\n",
    "for gp in significant_gps:\n",
    "    gp_idx = adata.uns['nichecompass_gp_names'].tolist().index(gp)\n",
    "    sc.pl.umap(adata, color=[gp], ncols=2, size=2.5, frameon=False, cmap='RdGy_r')\n",
    "    \n",
    "rcParams['figure.figsize'] = (4, 3)"
   ]
  },
  {
   "cell_type": "code",
   "execution_count": null,
   "id": "aaed8be4-22bc-4e13-a239-5cd34fbd1843",
   "metadata": {},
   "outputs": [],
   "source": [
    "adata.uns['cluster_groups']"
   ]
  },
  {
   "cell_type": "code",
   "execution_count": null,
   "id": "b2c00ab1-8580-4790-89d3-9c3ffd5ed3c3",
   "metadata": {},
   "outputs": [],
   "source": [
    "sc.pl.violin(adata, color=['SPP1','EGFR','CD44','ITGAV','ITGB1'], group_by='niche')\n"
   ]
  },
  {
   "cell_type": "code",
   "execution_count": null,
   "id": "05f520cf-b30f-4bc9-b665-6d1131b8a476",
   "metadata": {},
   "outputs": [],
   "source": [
    "rcParams['figure.figsize'] = (8, 6)\n",
    "\n",
    "sc.pl.umap(adata, color=['SPP1','EGFR','CD44','ITGAV','ITGB1'], ncols=2, size=1, frameon=False, cmap='viridis')\n",
    "sc.pl.umap(adata, color=['SPP1','EGFR','ITGAV'], ncols=3, size=0.5, frameon=False, cmap='RdPu')\n",
    "\n",
    "    \n",
    "rcParams['figure.figsize'] = (4, 3)"
   ]
  },
  {
   "cell_type": "code",
   "execution_count": null,
   "id": "564ef1ab-3056-4034-b55d-e2f6269b5e59",
   "metadata": {},
   "outputs": [],
   "source": [
    "keep = adata_tmp.obs['niche'].value_counts().index[adata_tmp.obs['niche'].value_counts() > 1000]\n",
    "adata_tmp = adata_tmp[adata_tmp.obs['niche'].isin(keep)]"
   ]
  },
  {
   "cell_type": "code",
   "execution_count": null,
   "id": "bb342c97-ef64-49bb-980d-e584d352a330",
   "metadata": {},
   "outputs": [],
   "source": [
    "rcParams['figure.figsize'] = (6, 4)\n",
    "sc.pl.dotplot(adata_tmp, markers, groupby='batch', dendrogram=False, cmap=\"Reds\", save='spp1_markers.svg')\n",
    "rcParams['figure.figsize'] = (6, 4)\n",
    "sc.pl.umap(adata_tmp, color=['cell type', 'batch', 'niche'], ncols=3, size=2, frameon=False, wspace=0.25, save='spp1_conditions.svg')\n",
    "sc.pl.umap(adata_tmp, color=['MARCO', 'SPP1', 'IFI27', 'CD9', 'FN1', 'TIMP1', 'COL3A1', 'COL1A1', 'MMP12', 'MMP2'], size=2, frameon=False, cmap='viridis', ncols=4, colorbar_loc=None, save='spp1_markers.svg')"
   ]
  },
  {
   "cell_type": "markdown",
   "id": "7d6e147e-58bf-4bfb-b128-8a0eac64127f",
   "metadata": {
    "tags": []
   },
   "source": [
    "## communication"
   ]
  },
  {
   "cell_type": "code",
   "execution_count": null,
   "id": "2b7836fd-774f-46da-80ea-8ee8a54582a3",
   "metadata": {},
   "outputs": [],
   "source": [
    "model =  NicheCompass.load(dir_path=f'{base_path}/artifacts/nanostring_cosmx_human_nsclc/models/reference_query_mapping/19102023_172844_43_8/',\n",
    "                  adata=None,\n",
    "                  adata_file_name='nanostring_cosmx_human_nsclc_reference_query_mapping.h5ad',\n",
    "                  gp_names_key='nichecompass_gp_names')\n",
    "model.adata"
   ]
  },
  {
   "cell_type": "code",
   "execution_count": null,
   "id": "9a2b2077-3f68-4f73-93dd-5b8321afeb65",
   "metadata": {},
   "outputs": [],
   "source": [
    "sc.pp.neighbors(model.adata,\n",
    "                n_neighbors=90,\n",
    "                use_rep=\"spatial\",\n",
    "                key_added=\"spatial_cci\")"
   ]
  },
  {
   "cell_type": "code",
   "execution_count": null,
   "id": "d4a71b59-ca6a-4439-8295-4edb853fce93",
   "metadata": {},
   "outputs": [],
   "source": [
    "from nichecompass.utils import compute_communication_gp_network\n",
    "nx_s13 = compute_communication_gp_network(gp_list=['Spp1_ligand_receptor_target_gene_GP'],  model=model, group_key=\"latent_leiden_0.7\", filter_key='batch', filter_cat='lung13')\n",
    "nx_s13.to_csv(f'{base_path}/artifacts/nanostring_cosmx_human_nsclc/results/reference_query_mapping/19102023_172844_43_8/Spp1_ligand_receptor_target_gene_GP_lung13.csv')\n",
    "nx_s6 = compute_communication_gp_network(gp_list=['Spp1_ligand_receptor_target_gene_GP'],  model=model, group_key=\"latent_leiden_0.7\", filter_key='batch', filter_cat='lung6')\n",
    "nx_s6.to_csv(f'{base_path}/artifacts/nanostring_cosmx_human_nsclc/results/reference_query_mapping/19102023_172844_43_8/Spp1_ligand_receptor_target_gene_GP_lung6.csv')"
   ]
  },
  {
   "cell_type": "code",
   "execution_count": null,
   "id": "7402171c-3c47-44b7-9962-d860505d32d8",
   "metadata": {},
   "outputs": [],
   "source": [
    "nx_s6 = pd.read_csv(f'{base_path}/artifacts/nanostring_cosmx_human_nsclc/results/reference_query_mapping/19102023_172844_43_8/Spp1_ligand_receptor_target_gene_GP_lung6.csv', index_col=0)\n",
    "nx_s13 = pd.read_csv(f'{base_path}/artifacts/nanostring_cosmx_human_nsclc/results/reference_query_mapping/19102023_172844_43_8/Spp1_ligand_receptor_target_gene_GP_lung13.csv', index_col=0)"
   ]
  },
  {
   "cell_type": "code",
   "execution_count": null,
   "id": "bcd7d583-3865-433f-a810-6fde7102f60a",
   "metadata": {},
   "outputs": [],
   "source": [
    "# re-scale\n",
    "min_value = min(nx_s6[\"strength_unscaled\"].min(), nx_s13[\"strength_unscaled\"].min())\n",
    "max_value = max(nx_s6[\"strength_unscaled\"].max(), nx_s13[\"strength_unscaled\"].max())\n",
    "nx_s13[\"strength\"] = (nx_s13[\"strength_unscaled\"] - min_value) / (max_value - min_value)\n",
    "nx_s13[\"strength\"] = np.round(nx_s13[\"strength\"], 2)\n",
    "nx_s6[\"strength\"] = (nx_s6[\"strength_unscaled\"] - min_value) / (max_value - min_value)\n",
    "nx_s6[\"strength\"] = np.round(nx_s6[\"strength\"], 2)\n",
    "nx_s6 = nx_s6[nx_s6.strength>0]\n",
    "nx_s13 = nx_s13[nx_s13.strength>0]\n"
   ]
  },
  {
   "cell_type": "code",
   "execution_count": null,
   "id": "263ab291-f502-4dfb-8c4a-4b9ce03f8150",
   "metadata": {},
   "outputs": [],
   "source": [
    "nx_s13.source = nx_s13.source.astype(str).map(leiden2niche)\n",
    "nx_s13.target = nx_s13.target.astype(str).map(leiden2niche)\n"
   ]
  },
  {
   "cell_type": "code",
   "execution_count": null,
   "id": "48ce53aa-5df7-4703-9f6e-dd8a66f194dd",
   "metadata": {},
   "outputs": [],
   "source": [
    "from nichecompass.utils import visualize_communication_gp_network\n",
    "cat = 'latent_leiden_0.7'\n",
    "cols = {k: c for k, c in zip(adata.obs[cat].cat.categories,adata.uns[f'{cat}_colors'])}\n",
    "visualize_communication_gp_network(adata, nx, cat_colors=cols, cat_key=cat, edge_type_colors=[\"#1f77b4\"], figsize=(8,8))"
   ]
  },
  {
   "cell_type": "code",
   "execution_count": null,
   "id": "3631dd8a-b1fa-4087-b42a-396bc7fb7b7f",
   "metadata": {},
   "outputs": [],
   "source": [
    "visualize_communication_gp_network(adata[adata.obs.batch=='lung6'], nx_s6, cat_colors=cols, cat_key=cat, edge_type_colors=[\"#1f77b4\"], figsize=(3,8))"
   ]
  },
  {
   "cell_type": "code",
   "execution_count": null,
   "id": "f5c79346-69b8-4c06-9a5e-3a9bc5c4f1ce",
   "metadata": {},
   "outputs": [],
   "source": [
    "import altair as alt\n",
    "nx = nx_s13.copy()\n",
    "niches = nx.source.unique().tolist() + nx.target.unique().tolist()\n",
    "base = alt.Chart(nx[nx.strength > 0]).mark_point(\n",
    "    filled=True,\n",
    "    size=2000,\n",
    "    shape='square',\n",
    "    opacity=0.6,\n",
    "    strokeWidth=0\n",
    ").encode(\n",
    "    x=alt.X('target:O', title=None, axis=alt.Axis(orient='bottom', labelFontSize=15, titleFontSize=15), scale=alt.Scale(domain=niches)),    \n",
    "    y=alt.Y('source:O', title=None, axis=alt.Axis(labelFontSize=15, titleFontSize=15), scale=alt.Scale(domain=niches)),\n",
    "    color=alt.Color('strength:Q', scale=alt.Scale(scheme='yellowgreenblue', domain=[0,1]))\n",
    ").properties(\n",
    "    width=len(niches)*27,\n",
    "    height=27*len(niches)\n",
    ")\n",
    "\n",
    "text = base.mark_text().encode(\n",
    "    text='strength:Q',\n",
    "    color=alt.value(\"black\")\n",
    ")\n",
    "base + text"
   ]
  },
  {
   "cell_type": "code",
   "execution_count": null,
   "id": "abb4e9c8-c558-41c0-b527-7e32ef550c08",
   "metadata": {},
   "outputs": [],
   "source": [
    "nx = nx_s6.copy()\n",
    "niches = nx.source.unique().tolist() + nx.target.unique().tolist()\n",
    "base = alt.Chart(nx[nx.strength > 0]).mark_point(\n",
    "    filled=True,\n",
    "    size=2000,\n",
    "    shape='square',\n",
    "    opacity=0.6,\n",
    "    strokeWidth=0\n",
    ").encode(\n",
    "    x=alt.X('target:O', title=None, axis=alt.Axis(orient='bottom', labelFontSize=15, titleFontSize=15), scale=alt.Scale(domain=niches)),    \n",
    "    y=alt.Y('source:O', title=None, axis=alt.Axis(labelFontSize=15, titleFontSize=15), scale=alt.Scale(domain=niches)),\n",
    "    color=alt.Color('strength:Q', scale=alt.Scale(scheme='yellowgreenblue', domain=[0,1]))\n",
    ").properties(\n",
    "    width=len(niches)*27,\n",
    "    height=27*len(niches)\n",
    ")\n",
    "\n",
    "text = base.mark_text().encode(\n",
    "    text='strength:Q',\n",
    "    color=alt.value(\"black\")\n",
    ")\n",
    "base + text"
   ]
  }
 ],
 "metadata": {
  "kernelspec": {
   "display_name": "Python 3 (ipykernel)",
   "language": "python",
   "name": "python3"
  },
  "language_info": {
   "codemirror_mode": {
    "name": "ipython",
    "version": 3
   },
   "file_extension": ".py",
   "mimetype": "text/x-python",
   "name": "python",
   "nbconvert_exporter": "python",
   "pygments_lexer": "ipython3",
   "version": "3.9.19"
  }
 },
 "nbformat": 4,
 "nbformat_minor": 5
}
