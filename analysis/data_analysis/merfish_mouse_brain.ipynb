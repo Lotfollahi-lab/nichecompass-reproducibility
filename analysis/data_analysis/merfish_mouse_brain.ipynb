{
 "cells": [
  {
   "cell_type": "markdown",
   "id": "992dc6ee-ffc4-4d15-a364-486eaa5f6edc",
   "metadata": {},
   "source": [
    "# MERFISH Mouse Brain"
   ]
  },
  {
   "cell_type": "markdown",
   "id": "c325d921-2077-42b3-90a8-6f6c7dd928c5",
   "metadata": {},
   "source": [
    "- **Creator**: Sebastian Birk (<sebastian.birk@helmholtz-munich.de>)\n",
    "- **Date of Creation:** 22.01.2023\n",
    "- **Date of Last Modification:** 09.01.2025 (Sebastian Birk; <sebastian.birk@helmholtz-munich.de>)"
   ]
  },
  {
   "cell_type": "markdown",
   "id": "8f6bd6fb-6697-43bd-b3ec-68b061afe511",
   "metadata": {},
   "source": [
    "- In order to run this notebook, a trained model needs to be stored under ```../../artifacts/{dataset}/models/{model_label}/{load_timestamp}```\n",
    "    - dataset: ```merfish_mouse_brain```\n",
    "    - model_label: ```reference```\n",
    "    - load_timestamp: ```21022024_194703_55```\n",
    "- Run this notebook in the nichecompass-reproducibility environment, installable from ```('../../envs/environment.yaml')```."
   ]
  },
  {
   "cell_type": "markdown",
   "id": "2d464ebf-354f-4f61-8040-c3dcbcc893b9",
   "metadata": {},
   "source": [
    "## 1. Setup"
   ]
  },
  {
   "cell_type": "markdown",
   "id": "d5631277-d8d2-4194-a376-280f4f149b7d",
   "metadata": {},
   "source": [
    "### 1.1 Import Libraries"
   ]
  },
  {
   "cell_type": "code",
   "execution_count": null,
   "id": "4e5d3297-0290-47c0-846f-705e74cdb3de",
   "metadata": {
    "tags": []
   },
   "outputs": [],
   "source": [
    "%load_ext autoreload\n",
    "%autoreload 2"
   ]
  },
  {
   "cell_type": "code",
   "execution_count": null,
   "id": "8dbd4925-7505-4d01-bf91-95b54bb8b533",
   "metadata": {
    "tags": []
   },
   "outputs": [],
   "source": [
    "import sys\n",
    "sys.path.append(\"../../utils\")"
   ]
  },
  {
   "cell_type": "code",
   "execution_count": null,
   "id": "b4aa3c6a-5a44-4cf1-84a3-5e514457cf3c",
   "metadata": {
    "tags": []
   },
   "outputs": [],
   "source": [
    "import os\n",
    "import warnings\n",
    "\n",
    "import matplotlib.pyplot as plt\n",
    "import numpy as np\n",
    "import scanpy as sc\n",
    "\n",
    "from nichecompass.models import NicheCompass\n",
    "from nichecompass.utils import create_new_color_dict\n",
    "\n",
    "from analysis_utils import plot_category_in_latent_and_physical_space"
   ]
  },
  {
   "cell_type": "markdown",
   "id": "eeb8b324-ef18-4ab0-9ffb-8332d652458c",
   "metadata": {},
   "source": [
    "### 1.2 Define Parameters"
   ]
  },
  {
   "cell_type": "code",
   "execution_count": null,
   "id": "9325589b-a7e4-4c31-97e7-8b7048248896",
   "metadata": {},
   "outputs": [],
   "source": [
    "dataset = \"merfish_mouse_brain\""
   ]
  },
  {
   "cell_type": "markdown",
   "id": "10ac7b6d-4518-4356-bfdd-e141bf25d504",
   "metadata": {},
   "source": [
    "#### 1.2.1 Generic Parameters"
   ]
  },
  {
   "cell_type": "code",
   "execution_count": null,
   "id": "a4d4e6d9-239f-47c5-a30b-579b16d4c27c",
   "metadata": {
    "tags": []
   },
   "outputs": [],
   "source": [
    "## Model\n",
    "# AnnData keys\n",
    "gp_names_key = \"nichecompass_gp_names\"\n",
    "active_gp_names_key = \"nichecompass_active_gp_names\""
   ]
  },
  {
   "cell_type": "markdown",
   "id": "8e7be323-bd40-4fa0-a2d5-b8ddf5cc1c51",
   "metadata": {},
   "source": [
    "#### 1.2.2 Dataset-specific Parameters"
   ]
  },
  {
   "cell_type": "code",
   "execution_count": null,
   "id": "01210b2f-017e-43f6-b650-5cc732252f8c",
   "metadata": {
    "tags": []
   },
   "outputs": [],
   "source": [
    "load_timestamp = \"21022024_194703_55\"\n",
    "model_label = \"reference\"\n",
    "cell_type_key = \"cell_type\"\n",
    "spot_size = 50\n",
    "samples = [f\"batch{i}\" for i in range(1, 240)]\n",
    "latent_leiden_resolution = 0.2\n",
    "sample_key = \"batch\"\n",
    "    \n",
    "latent_cluster_key = f\"latent_leiden_{str(latent_leiden_resolution)}\""
   ]
  },
  {
   "cell_type": "markdown",
   "id": "a6c3b7fa-fa59-43dd-81d2-7e116650915f",
   "metadata": {},
   "source": [
    "### 1.3 Run Notebook Setup"
   ]
  },
  {
   "cell_type": "code",
   "execution_count": null,
   "id": "1bf229ca-ab66-4e52-a31e-8655878d290d",
   "metadata": {
    "tags": []
   },
   "outputs": [],
   "source": [
    "sc.set_figure_params(figsize=(6, 6))"
   ]
  },
  {
   "cell_type": "code",
   "execution_count": null,
   "id": "924032d4-24a4-45cf-87e1-0eba197da0c2",
   "metadata": {
    "tags": []
   },
   "outputs": [],
   "source": [
    "# Ignore future warnings and user warnings\n",
    "warnings.simplefilter(action=\"ignore\", category=FutureWarning)\n",
    "warnings.simplefilter(action=\"ignore\", category=UserWarning)\n",
    "warnings.simplefilter(action=\"ignore\", category=RuntimeWarning)"
   ]
  },
  {
   "cell_type": "code",
   "execution_count": null,
   "id": "1f7952b9-4798-471b-a7b7-96c775b92e48",
   "metadata": {},
   "outputs": [],
   "source": [
    "plt.rcParams['font.family'] = 'Helvetica'\n",
    "plt.rcParams['font.size'] = 5"
   ]
  },
  {
   "cell_type": "markdown",
   "id": "2b886225-6b6d-433c-b117-47b9a8f8091f",
   "metadata": {},
   "source": [
    "### 1.4 Configure Paths and Create Directories"
   ]
  },
  {
   "cell_type": "code",
   "execution_count": null,
   "id": "36675337-808d-40a9-93fc-d6cfa9473f66",
   "metadata": {
    "tags": []
   },
   "outputs": [],
   "source": [
    "# Define paths\n",
    "figure_folder_path = f\"../../artifacts/{dataset}/figures/{model_label}/{load_timestamp}\"\n",
    "model_folder_path = f\"../../artifacts/{dataset}/models/{model_label}/{load_timestamp}\"\n",
    "result_folder_path = f\"../../artifacts/{dataset}/results/{model_label}/{load_timestamp}\"\n",
    "srt_data_folder_path = \"../../datasets/st_data\" # spatially resolved transcriptomics data\n",
    "srt_data_bronze_folder_path = f\"{srt_data_folder_path}/bronze\"\n",
    "\n",
    "# Create required directories\n",
    "os.makedirs(figure_folder_path, exist_ok=True)\n",
    "os.makedirs(result_folder_path, exist_ok=True)"
   ]
  },
  {
   "cell_type": "markdown",
   "id": "9cea1a5c-d075-4e51-90e5-90684bee88a6",
   "metadata": {},
   "source": [
    "## 2. Model"
   ]
  },
  {
   "cell_type": "code",
   "execution_count": null,
   "id": "3dad2ca6-7e34-48bc-89ef-4f994389a0f1",
   "metadata": {
    "tags": []
   },
   "outputs": [],
   "source": [
    "# Load trained model\n",
    "model = NicheCompass.load(dir_path=model_folder_path,\n",
    "                          adata=None,\n",
    "                          adata_file_name=f\"{dataset}_{model_label}.h5ad\",\n",
    "                          gp_names_key=gp_names_key)"
   ]
  },
  {
   "cell_type": "code",
   "execution_count": null,
   "id": "4d99a385-5769-4c6b-a7dc-62f40028620a",
   "metadata": {},
   "outputs": [],
   "source": [
    "model.adata.uns[gp_names_key] = np.array([gp for gp in model.adata.uns[gp_names_key] if not \"Add-on \" in gp])\n",
    "model.adata.uns[active_gp_names_key] = np.array([gp for gp in model.adata.uns[active_gp_names_key] if not \"Add-on \" in gp])\n",
    "model.adata.uns[gp_names_key] = np.array([gp.replace(\" \", \"_\") for gp in model.adata.uns[gp_names_key]])\n",
    "model.adata.uns[active_gp_names_key] = np.array([gp.replace(\" \", \"_\") for gp in model.adata.uns[active_gp_names_key]])"
   ]
  },
  {
   "cell_type": "code",
   "execution_count": null,
   "id": "8fc40859-6a4a-4bfa-8362-d28d4c1c2057",
   "metadata": {
    "tags": []
   },
   "outputs": [],
   "source": [
    "# Check number of active gene programs\n",
    "active_gps = model.get_active_gps()\n",
    "print(f\"Number of total gene programs: {len(model.adata.uns[gp_names_key])}.\")\n",
    "print(f\"Number of active gene programs: {len(active_gps)}.\")\n",
    "\n",
    "gp_summary_df = model.get_gp_summary()\n",
    "gp_summary_df[gp_summary_df[\"gp_active\"] == True][20:]\n",
    "\n",
    "samples = model.adata.obs[sample_key].unique().tolist()\n",
    "model.add_active_gp_scores_to_obs()"
   ]
  },
  {
   "cell_type": "markdown",
   "id": "7f662f73-455e-46c2-bc4b-ec25fb2f1d2b",
   "metadata": {},
   "source": [
    "## 3. Analysis"
   ]
  },
  {
   "cell_type": "markdown",
   "id": "cac5fc20-7f07-4d92-a918-422b82d78fb8",
   "metadata": {},
   "source": [
    "### 3.1 Create Figures"
   ]
  },
  {
   "cell_type": "code",
   "execution_count": null,
   "id": "f6b7cff1-776b-48b3-96f3-f99627079bf0",
   "metadata": {},
   "outputs": [],
   "source": [
    "### Extended Data Fig. 8a ###\n",
    "# Separate niches by major brain regions\n",
    "for i, file in enumerate([\"WB_MERFISH_animal1_coronal.h5ad\",\n",
    "                          \"WB_MERFISH_animal3_sagittal.h5ad\",\n",
    "                          \"WB_MERFISH_animal2_coronal.h5ad\",\n",
    "                          \"WB_MERFISH_animal4_sagittal.h5ad\"]):\n",
    "    if i == 0:\n",
    "        adata = sc.read_h5ad(f\"{srt_data_bronze_folder_path}/merfish_mouse_brain/{file}\")\n",
    "    else:\n",
    "        adata_subset = sc.read_h5ad(f\"{srt_data_bronze_folder_path}/merfish_mouse_brain/{file}\")\n",
    "        adata = adata.concatenate(adata_subset, index_unique=None)\n",
    "        del(adata_subset)\n",
    "model.adata.obs = model.adata.obs.join(adata.obs[[\"major_brain_region\"]], how='left')\n",
    "del(adata)\n",
    "\n",
    "for mbr in model.adata.obs[\"major_brain_region\"].unique().tolist():\n",
    "    if isinstance(mbr, str):\n",
    "        condition = model.adata.obs['major_brain_region'] == mbr\n",
    "        model.adata.obs[f'{mbr.lower()}_niches'] = np.where(condition, model.adata.obs['latent_leiden_0.2'], np.nan)\n",
    "\n",
    "samples_subset = samples[:1]\n",
    "\n",
    "latent_cluster_colors = create_new_color_dict(\n",
    "        adata=model.adata,\n",
    "        color_palette=\"default\",\n",
    "        cat_key=latent_cluster_key)\n",
    "\n",
    "save_fig = True\n",
    "file_path = f\"{figure_folder_path}/\" \\\n",
    "            \"niches_latent_physical_space.svg\"\n",
    "\n",
    "plot_category_in_latent_and_physical_space(\n",
    "    adata=model.adata,\n",
    "    plot_label=\"Niches\",\n",
    "    cat_key=latent_cluster_key,\n",
    "    groups=None,\n",
    "    sample_key=sample_key,\n",
    "    samples=samples_subset,\n",
    "    cat_colors=latent_cluster_colors,\n",
    "    size=(720000 / len(model.adata)),\n",
    "    spot_size=spot_size,\n",
    "    save_fig=save_fig,\n",
    "    file_path=file_path,\n",
    "    add_outline=True)"
   ]
  },
  {
   "cell_type": "code",
   "execution_count": null,
   "id": "77a720b6-1280-492a-b893-2fd42e382a11",
   "metadata": {},
   "outputs": [],
   "source": [
    "batch_dict = {}\n",
    "batch_dict[\"Olfactory\"] = [\"batch16\", \"batch18\", \"batch31\", \"batch219\"]\n",
    "batch_dict[\"Cerebellum\"] = [\"batch138\", \"batch228\", \"batch217\"]\n",
    "batch_dict[\"Thalamus\"] = [ \"batch95\", \"batch85\", \"batch186\", \"batch215\"]\n",
    "batch_dict[\"Hippocampus\"] = [\"batch99\", \"batch228\", \"batch218\"]\n",
    "batch_dict[\"Pallidum\"] = [\"batch71\", \"batch226\", \"batch223\"]\n",
    "batch_dict[\"Isocortex\"] = [\"batch86\", \"batch68\", \"batch220\"]\n",
    "batch_dict[\"Striatum\"] = [\"batch178\", \"batch229\", \"batch220\"]\n",
    "batch_dict[\"Hypothalamus\"] = [\"batch83\", \"batch94\", \"batch188\", \"batch215\"]\n",
    "batch_dict[\"Midbrain\"] = [\"batch203\", \"batch116\", \"batch197\", \"batch218\"]\n",
    "batch_dict[\"Cortical_subplate\"] = [\"batch227\", \"batch179\", \"batch78\", \"batch69\"]\n",
    "batch_dict[\"Fiber_tracts_ventricular_systems\"] = [\"batch127\", \"batch229\", \"batch217\"]\n",
    "batch_dict[\"Hindbrain\"] = [\"batch136\", \"batch191\", \"batch106\", \"batch219\"]\n",
    "\n",
    "categories = set(model.adata.obs[\"ventricular_systems_niches\"].cat.categories) | set(model.adata.obs[\"fiber_tracts_niches\"].cat.categories)\n",
    "model.adata.obs[\"ventricular_systems_niches\"] = model.adata.obs[\"ventricular_systems_niches\"].cat.set_categories(categories)\n",
    "model.adata.obs[\"fiber_tracts_niches\"] = model.adata.obs[\"fiber_tracts_niches\"].cat.set_categories(categories)\n",
    "model.adata.obs[\"fiber_tracts_ventricular_systems_niches\"] = model.adata.obs[\"ventricular_systems_niches\"].fillna(model.adata.obs[\"fiber_tracts_niches\"])\n",
    "categories = set(model.adata.obs[\"pons_niches\"].cat.categories) | set(model.adata.obs[\"medulla_niches\"].cat.categories)\n",
    "model.adata.obs[\"pons_niches\"] = model.adata.obs[\"pons_niches\"].cat.set_categories(categories)\n",
    "model.adata.obs[\"medulla_niches\"] = model.adata.obs[\"medulla_niches\"].cat.set_categories(categories)\n",
    "model.adata.obs[\"hindbrain_niches\"] = model.adata.obs[\"pons_niches\"].fillna(model.adata.obs[\"medulla_niches\"])\n",
    "\n",
    "for mbr in [\"Striatum\",\n",
    "            \"Olfactory\",\n",
    "            \"Isocortex\",\n",
    "            \"Pallidum\",\n",
    "            \"Hippocampus\",\n",
    "            \"Thalamus\",\n",
    "            \"Cerebellum\",\n",
    "            \"Hypothalamus\",\n",
    "            \"Midbrain\",\n",
    "            \"Cortical_subplate\",\n",
    "            \"Fiber_tracts_ventricular_systems\",\n",
    "            \"Hindbrain\"]:\n",
    "    if isinstance(mbr, str):\n",
    "        save_fig = True\n",
    "        file_path = f\"{figure_folder_path}/res_{latent_leiden_resolution}_\" \\\n",
    "                    f\"{mbr}_latent_clusters_latent_physical_space.svg\"\n",
    "\n",
    "        plot_category_in_latent_and_physical_space(\n",
    "            adata=model.adata,\n",
    "            plot_label=mbr,\n",
    "            cat_key=f\"{mbr.lower()}_niches\",\n",
    "            groups=None,\n",
    "            sample_key=sample_key,\n",
    "            samples=samples, # batch_dict[mbr]\n",
    "            cat_colors=latent_cluster_colors,\n",
    "            size=(720000 / len(model.adata)),\n",
    "            spot_size=spot_size,\n",
    "            save_fig=save_fig,\n",
    "            file_path=file_path,\n",
    "            add_outline=True)"
   ]
  },
  {
   "cell_type": "code",
   "execution_count": null,
   "id": "b57b0e01-8114-4c15-a5f0-19e81759b55c",
   "metadata": {},
   "outputs": [],
   "source": [
    "# Determine length of scale bars\n",
    "sample = 'batch106' # insert batch\n",
    "cat_key = 'latent_leiden_0.2'\n",
    "groups = None\n",
    "cat_colors = latent_cluster_colors\n",
    "\n",
    "sc.pl.spatial(adata=model.adata[model.adata.obs[sample_key] == sample],\n",
    "              color=[cat_key],\n",
    "              groups=groups,                  \n",
    "              palette=cat_colors,\n",
    "              spot_size=spot_size,\n",
    "              title='',\n",
    "              legend_loc=None,\n",
    "              show=True)\n",
    "\n",
    "adata = model.adata[model.adata.obs[sample_key] == sample]\n",
    "max(adata.obsm['spatial'][:, 0]) - min(adata.obsm['spatial'][:, 0]) # microns"
   ]
  },
  {
   "cell_type": "code",
   "execution_count": null,
   "id": "5f7d7b0b-5196-4a42-a8f6-d8e9ee47d59a",
   "metadata": {},
   "outputs": [],
   "source": [
    "### Extended Data Fig. 8b ###\n",
    "brain_region_colors = create_new_color_dict(\n",
    "    adata=model.adata,\n",
    "    color_palette=\"default\",\n",
    "    cat_key=\"major_brain_region\",\n",
    "    skip_default_colors=60)\n",
    "\n",
    "save_fig = True\n",
    "file_path = f\"{figure_folder_path}/res_{latent_leiden_resolution}_\" \\\n",
    "            \"major_brain_region_latent_physical_space_subset.svg\"\n",
    "\n",
    "plot_category_in_latent_and_physical_space(\n",
    "    adata=model.adata,\n",
    "    plot_label=\"Major Brain Region\",\n",
    "    add_outline=True,\n",
    "    cat_key=\"major_brain_region\",\n",
    "    groups=None,\n",
    "    sample_key=sample_key,\n",
    "    samples=samples_subset,\n",
    "    cat_colors=brain_region_colors,\n",
    "    size=(720000 / len(model.adata)),\n",
    "    spot_size=spot_size,\n",
    "    save_fig=save_fig,\n",
    "    file_path=file_path)"
   ]
  },
  {
   "cell_type": "code",
   "execution_count": null,
   "id": "bd853e64-40f5-46cc-b8ce-a4d24052af44",
   "metadata": {},
   "outputs": [],
   "source": [
    "### Extended Data Fig. 8c ###\n",
    "donor_colors = create_new_color_dict(\n",
    "    adata=model.adata,\n",
    "    color_palette=\"batch\",\n",
    "    cat_key=\"donor_id\")\n",
    "\n",
    "save_fig = True\n",
    "file_path = f\"{figure_folder_path}/res_{latent_leiden_resolution}_\" \\\n",
    "            \"donor_latent_physical_space_subset.svg\"\n",
    "\n",
    "plot_category_in_latent_and_physical_space(\n",
    "    adata=model.adata,\n",
    "    plot_label=\"Donor\",\n",
    "    add_outline=True,\n",
    "    cat_key=\"donor_id\",\n",
    "    groups=None,\n",
    "    sample_key=sample_key,\n",
    "    samples=samples_subset,\n",
    "    cat_colors=donor_colors,\n",
    "    size=(720000 / len(model.adata)),\n",
    "    spot_size=spot_size,\n",
    "    save_fig=save_fig,\n",
    "    file_path=file_path)"
   ]
  },
  {
   "cell_type": "markdown",
   "id": "7eb08e58-7866-4b2e-baf1-a4264c1a37b8",
   "metadata": {},
   "source": [
    "### 3.2 Save Results"
   ]
  },
  {
   "cell_type": "code",
   "execution_count": null,
   "id": "64e2a7ac-8d25-4d2d-aa75-09a0841dd720",
   "metadata": {},
   "outputs": [],
   "source": [
    "# Log normalize counts for cellxgene server\n",
    "model.adata.layers['counts'] = model.adata.X\n",
    "sc.pp.normalize_total(model.adata, target_sum=1e4)\n",
    "sc.pp.log1p(model.adata)\n",
    "\n",
    "# Store gp summary in adata\n",
    "gp_summary = model.get_gp_summary()\n",
    "for col in gp_summary.columns:\n",
    "    gp_summary[col] = gp_summary[col].astype(str)\n",
    "model.adata.uns[\"nichecompass_gp_summary\"] = gp_summary\n",
    "\n",
    "model.adata.write(f\"{result_folder_path}/{dataset}_analysis.h5ad\")"
   ]
  },
  {
   "cell_type": "code",
   "execution_count": null,
   "id": "7e0f9278-a5eb-47f2-be37-0d243f7417f0",
   "metadata": {},
   "outputs": [],
   "source": []
  }
 ],
 "metadata": {
  "kernelspec": {
   "display_name": "Python 3 (ipykernel)",
   "language": "python",
   "name": "python3"
  },
  "language_info": {
   "codemirror_mode": {
    "name": "ipython",
    "version": 3
   },
   "file_extension": ".py",
   "mimetype": "text/x-python",
   "name": "python",
   "nbconvert_exporter": "python",
   "pygments_lexer": "ipython3",
   "version": "3.9.19"
  },
  "toc-autonumbering": false,
  "toc-showcode": false,
  "toc-showmarkdowntxt": false
 },
 "nbformat": 4,
 "nbformat_minor": 5
}
