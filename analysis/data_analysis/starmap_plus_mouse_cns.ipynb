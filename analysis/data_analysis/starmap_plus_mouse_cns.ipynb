{
 "cells": [
  {
   "cell_type": "markdown",
   "id": "992dc6ee-ffc4-4d15-a364-486eaa5f6edc",
   "metadata": {},
   "source": [
    "# STARmap PLUS Mouse CNS"
   ]
  },
  {
   "cell_type": "markdown",
   "id": "c325d921-2077-42b3-90a8-6f6c7dd928c5",
   "metadata": {},
   "source": [
    "- **Creator**: Adam Boxall (<ab70@sanger.ac.uk>)\n",
    "- **Date of Creation:** 27.07.2024\n",
    "- **Date of Last Modification:** 27.12.2024 (Sebastian Birk; <sebastian.birk@helmholtz-munich.de>)"
   ]
  },
  {
   "cell_type": "markdown",
   "id": "8f6bd6fb-6697-43bd-b3ec-68b061afe511",
   "metadata": {},
   "source": [
    "- In order to run this notebook, a trained model needs to be stored under ```../artifacts/{dataset}/models/{model_label}/{load_timestamp}```\n",
    "    - dataset: ```starmap_plus_mouse_cns```\n",
    "    - model_label: ```reference```\n",
    "    - load_timestamp: ```02022024_170500_1```"
   ]
  },
  {
   "cell_type": "markdown",
   "id": "2d464ebf-354f-4f61-8040-c3dcbcc893b9",
   "metadata": {},
   "source": [
    "## 1. Setup"
   ]
  },
  {
   "cell_type": "markdown",
   "id": "d5631277-d8d2-4194-a376-280f4f149b7d",
   "metadata": {},
   "source": [
    "### 1.1 Import Libraries"
   ]
  },
  {
   "cell_type": "code",
   "execution_count": null,
   "id": "4e5d3297-0290-47c0-846f-705e74cdb3de",
   "metadata": {
    "tags": []
   },
   "outputs": [],
   "source": [
    "%load_ext autoreload\n",
    "%autoreload 2"
   ]
  },
  {
   "cell_type": "code",
   "execution_count": null,
   "id": "8dbd4925-7505-4d01-bf91-95b54bb8b533",
   "metadata": {
    "tags": []
   },
   "outputs": [],
   "source": [
    "import sys\n",
    "sys.path.append(\"../../utils\")"
   ]
  },
  {
   "cell_type": "code",
   "execution_count": null,
   "id": "b4aa3c6a-5a44-4cf1-84a3-5e514457cf3c",
   "metadata": {
    "tags": []
   },
   "outputs": [],
   "source": [
    "import os\n",
    "import math\n",
    "import pickle\n",
    "import re\n",
    "import warnings\n",
    "\n",
    "import anndata as ad\n",
    "import matplotlib.pyplot as plt\n",
    "import nrrd\n",
    "import numpy as np\n",
    "import pandas as pd\n",
    "import scanpy as sc\n",
    "import skimage\n",
    "import torch\n",
    "from matplotlib import ticker\n",
    "from matplotlib import pyplot as plt\n",
    "from matplotlib.collections import PatchCollection\n",
    "from mpl_toolkits.mplot3d.art3d import Poly3DCollection\n",
    "from seaborn import color_palette, light_palette\n",
    "from STalign import STalign\n",
    "\n",
    "from nichecompass.models import NicheCompass\n",
    "from nichecompass.utils import create_new_color_dict\n",
    "\n",
    "from analysis_utils import plot_category_in_latent_and_physical_space"
   ]
  },
  {
   "cell_type": "markdown",
   "id": "eeb8b324-ef18-4ab0-9ffb-8332d652458c",
   "metadata": {},
   "source": [
    "### 1.2 Define Parameters"
   ]
  },
  {
   "cell_type": "code",
   "execution_count": null,
   "id": "9325589b-a7e4-4c31-97e7-8b7048248896",
   "metadata": {},
   "outputs": [],
   "source": [
    "dataset = \"starmap_plus_mouse_cns\""
   ]
  },
  {
   "cell_type": "markdown",
   "id": "10ac7b6d-4518-4356-bfdd-e141bf25d504",
   "metadata": {},
   "source": [
    "#### 1.2.1 Generic Parameters"
   ]
  },
  {
   "cell_type": "code",
   "execution_count": null,
   "id": "a4d4e6d9-239f-47c5-a30b-579b16d4c27c",
   "metadata": {
    "tags": []
   },
   "outputs": [],
   "source": [
    "## Model\n",
    "# AnnData keys\n",
    "gp_names_key = \"nichecompass_gp_names\"\n",
    "active_gp_names_key = \"nichecompass_active_gp_names\""
   ]
  },
  {
   "cell_type": "markdown",
   "id": "8e7be323-bd40-4fa0-a2d5-b8ddf5cc1c51",
   "metadata": {},
   "source": [
    "#### 1.2.2 Dataset-specific Parameters"
   ]
  },
  {
   "cell_type": "code",
   "execution_count": null,
   "id": "01210b2f-017e-43f6-b650-5cc732252f8c",
   "metadata": {
    "tags": []
   },
   "outputs": [],
   "source": [
    "load_timestamp = \"02022024_170500_1\"\n",
    "model_label = \"reference\"\n",
    "#cell_type_key = \"cell_type\"\n",
    "spot_size = 50\n",
    "#samples = [f\"batch{i}\" for i in range(1, 240)]\n",
    "latent_leiden_resolution = 0.2\n",
    "sample_key = \"biosample_id\"\n",
    "    \n",
    "latent_cluster_key = f\"latent_leiden_{str(latent_leiden_resolution)}\""
   ]
  },
  {
   "cell_type": "markdown",
   "id": "a6c3b7fa-fa59-43dd-81d2-7e116650915f",
   "metadata": {},
   "source": [
    "### 1.3 Run Notebook Setup"
   ]
  },
  {
   "cell_type": "code",
   "execution_count": null,
   "id": "1bf229ca-ab66-4e52-a31e-8655878d290d",
   "metadata": {
    "tags": []
   },
   "outputs": [],
   "source": [
    "sc.set_figure_params(figsize=(6, 6))"
   ]
  },
  {
   "cell_type": "code",
   "execution_count": null,
   "id": "924032d4-24a4-45cf-87e1-0eba197da0c2",
   "metadata": {
    "tags": []
   },
   "outputs": [],
   "source": [
    "# Ignore future warnings and user warnings\n",
    "warnings.simplefilter(action=\"ignore\", category=FutureWarning)\n",
    "warnings.simplefilter(action=\"ignore\", category=UserWarning)\n",
    "warnings.simplefilter(action=\"ignore\", category=RuntimeWarning)"
   ]
  },
  {
   "cell_type": "code",
   "execution_count": null,
   "id": "1f7952b9-4798-471b-a7b7-96c775b92e48",
   "metadata": {},
   "outputs": [],
   "source": [
    "plt.rcParams['font.family'] = 'Helvetica'\n",
    "plt.rcParams['font.size'] = 5"
   ]
  },
  {
   "cell_type": "markdown",
   "id": "2b886225-6b6d-433c-b117-47b9a8f8091f",
   "metadata": {},
   "source": [
    "### 1.4 Configure Paths and Create Directories"
   ]
  },
  {
   "cell_type": "code",
   "execution_count": null,
   "id": "36675337-808d-40a9-93fc-d6cfa9473f66",
   "metadata": {
    "tags": []
   },
   "outputs": [],
   "source": [
    "# Define paths\n",
    "figure_folder_path = f\"../../artifacts/{dataset}/figures/{model_label}/{load_timestamp}\"\n",
    "model_folder_path = f\"../../artifacts/{dataset}/models/{model_label}/{load_timestamp}\"\n",
    "result_folder_path = f\"../../artifacts/{dataset}/results/{model_label}/{load_timestamp}\"\n",
    "srt_data_folder_path = \"../../datasets/st_data\" # spatially resolved transcriptomics data\n",
    "srt_data_bronze_folder_path = f\"{srt_data_folder_path}/bronze\"\n",
    "\n",
    "# Create required directories\n",
    "os.makedirs(figure_folder_path, exist_ok=True)\n",
    "os.makedirs(result_folder_path, exist_ok=True)"
   ]
  },
  {
   "cell_type": "markdown",
   "id": "9cea1a5c-d075-4e51-90e5-90684bee88a6",
   "metadata": {},
   "source": [
    "## 2. Model"
   ]
  },
  {
   "cell_type": "code",
   "execution_count": null,
   "id": "9c1e70d9-4ea6-47b8-91bb-b35674dce1c1",
   "metadata": {},
   "outputs": [],
   "source": [
    "#tmp\n",
    "#adata = sc.read_h5ad('../../artifacts/starmap_plus_mouse_cns/models/reference/02022024_170500_1/starmap_plus_mouse_cns_reference.h5ad')\n",
    "class model:\n",
    "    def __init__(self, adata):\n",
    "        self.adata = adata\n",
    "        \n",
    "model.adata = adata"
   ]
  },
  {
   "cell_type": "code",
   "execution_count": null,
   "id": "3dad2ca6-7e34-48bc-89ef-4f994389a0f1",
   "metadata": {
    "tags": []
   },
   "outputs": [],
   "source": [
    "# Load trained model\n",
    "model = NicheCompass.load(dir_path=model_folder_path,\n",
    "                          adata=None,\n",
    "                          adata_file_name=f\"{dataset}_{model_label}.h5ad\",\n",
    "                          gp_names_key=gp_names_key)"
   ]
  },
  {
   "cell_type": "code",
   "execution_count": null,
   "id": "4d99a385-5769-4c6b-a7dc-62f40028620a",
   "metadata": {},
   "outputs": [],
   "source": [
    "model.adata.uns[gp_names_key] = np.array([gp for gp in model.adata.uns[gp_names_key] if not \"Add-on \" in gp])\n",
    "model.adata.uns[active_gp_names_key] = np.array([gp for gp in model.adata.uns[active_gp_names_key] if not \"Add-on \" in gp])\n",
    "model.adata.uns[gp_names_key] = np.array([gp.replace(\" \", \"_\") for gp in model.adata.uns[gp_names_key]])\n",
    "model.adata.uns[active_gp_names_key] = np.array([gp.replace(\" \", \"_\") for gp in model.adata.uns[active_gp_names_key]])"
   ]
  },
  {
   "cell_type": "markdown",
   "id": "7f662f73-455e-46c2-bc4b-ec25fb2f1d2b",
   "metadata": {},
   "source": [
    "## 3. Analysis"
   ]
  },
  {
   "cell_type": "markdown",
   "id": "cac5fc20-7f07-4d92-a918-422b82d78fb8",
   "metadata": {},
   "source": [
    "### 3.1 Create Figures"
   ]
  },
  {
   "cell_type": "raw",
   "id": "18246338-c1d1-4b87-8590-ed25258b3690",
   "metadata": {},
   "source": [
    "latent_leiden_resolution = 0.2\n",
    "cluster_min_cells = 10000\n",
    "sub_cluster_resolution = 0.2\n",
    "sub_cluster_min_cells = 2000\n",
    "\n",
    "print(f\"Performing primary clustering...\")\n",
    "sc.tl.leiden(adata=model.adata,\n",
    "             resolution=latent_leiden_resolution,\n",
    "             key_added=\"nichecompass_latent_cluster\",\n",
    "             neighbors_key=\"nichecompass_latent\")\n",
    "niche_cell_frequency = model.adata.obs[\"nichecompass_latent_cluster\"].value_counts()\n",
    "high_population_niches = niche_cell_frequency[niche_cell_frequency > cluster_min_cells].index.tolist()\n",
    "model.adata.obs[\"nichecompass_latent_cluster\"] = [\n",
    "    niche if is_high_population is True else \"unassigned\" for niche, is_high_population in zip(\n",
    "        model.adata.obs[\"nichecompass_latent_cluster\"].tolist(),\n",
    "        model.adata.obs[\"nichecompass_latent_cluster\"].isin(high_population_niches).tolist()\n",
    "    )\n",
    "]\n",
    "\n",
    "print(f\"Performing sub clustering...\")\n",
    "clustered_adata = []\n",
    "for cluster in model.adata.obs[\"nichecompass_latent_cluster\"].unique().tolist():\n",
    "    adata_sample = model.adata[model.adata.obs[\"nichecompass_latent_cluster\"] == cluster]\n",
    "    if cluster == \"unassigned\":\n",
    "        adata_sample.obs[\"nichecompass_latent_sub_cluster\"] = \"unassigned\"\n",
    "    if cluster != \"unassigned\":\n",
    "        sc.tl.leiden(adata=adata_sample,\n",
    "                     resolution=sub_cluster_resolution,\n",
    "                     key_added=\"nichecompass_latent_sub_cluster\",\n",
    "                     neighbors_key=\"nichecompass_latent\")\n",
    "        niche_cell_frequency = adata_sample.obs[\"nichecompass_latent_sub_cluster\"].value_counts()\n",
    "        high_population_niches = niche_cell_frequency[niche_cell_frequency > sub_cluster_min_cells].index.tolist()\n",
    "        adata_sample.obs[\"nichecompass_latent_sub_cluster\"] = [\n",
    "            sub_cluster if is_high_population is True else \"unassigned\" for sub_cluster, is_high_population in zip(\n",
    "                adata_sample.obs[\"nichecompass_latent_sub_cluster\"].tolist(),\n",
    "                adata_sample.obs[\"nichecompass_latent_sub_cluster\"].isin(high_population_niches).tolist()\n",
    "            )\n",
    "        ]\n",
    "    adata_sample.obs[\"nichecompass_latent_sub_cluster_label\"] = adata_sample.obs[\n",
    "                                                                    \"nichecompass_latent_cluster\"].astype(\n",
    "        str) + \"_\" + adata_sample.obs[\"nichecompass_latent_sub_cluster\"].astype(str)\n",
    "    clustered_adata.append(adata_sample)\n",
    "    print(f\"Completed cluster {cluster}\")\n",
    "model.adata = ad.concat(clustered_adata, uns_merge=\"same\")\n",
    "\n",
    "model.adata.write(f'{model_folder_path}/{dataset}_reference.h5ad')"
   ]
  },
  {
   "cell_type": "code",
   "execution_count": null,
   "id": "04ffc550-8dc2-415d-afe2-baaaf441225c",
   "metadata": {},
   "outputs": [],
   "source": [
    "n_genes = len(model.adata.var_names)\n",
    "n_cells = len(model.adata.obs_names)\n",
    "print(f\"This model ran using {n_genes} genes and {n_cells} cells.\")"
   ]
  },
  {
   "cell_type": "code",
   "execution_count": null,
   "id": "29d2cc38-ee32-4001-8b9f-46681c9d23fd",
   "metadata": {},
   "outputs": [],
   "source": [
    "model.adata = model.adata[model.adata.obs[\"nichecompass_latent_cluster\"] != \"unassigned\"]"
   ]
  },
  {
   "cell_type": "markdown",
   "id": "36df9231-50e9-473e-89c7-15e9a9c3fc34",
   "metadata": {},
   "source": [
    "# Niche composition"
   ]
  },
  {
   "cell_type": "markdown",
   "id": "8826b7ff-3c67-4dea-9463-358c7f66254e",
   "metadata": {},
   "source": [
    "Visualise the latent space for primary and sub niches."
   ]
  },
  {
   "cell_type": "code",
   "execution_count": null,
   "id": "07aaba99-125d-481b-a27f-0dd134192854",
   "metadata": {
    "ExecuteTime": {
     "end_time": "2024-02-02T12:56:39.979239Z",
     "start_time": "2024-02-02T12:56:39.968187Z"
    },
    "collapsed": false,
    "jupyter": {
     "outputs_hidden": false
    }
   },
   "outputs": [],
   "source": [
    "umap_embedding = model.adata.obsm[\"X_umap\"]"
   ]
  },
  {
   "cell_type": "code",
   "execution_count": null,
   "id": "a3e3e5ba-f0ba-401a-9a12-6f36b8fb69bd",
   "metadata": {
    "ExecuteTime": {
     "end_time": "2024-02-02T12:56:40.934163Z",
     "start_time": "2024-02-02T12:56:39.994763Z"
    },
    "collapsed": false,
    "jupyter": {
     "outputs_hidden": false
    }
   },
   "outputs": [],
   "source": [
    "# set interactive color\n",
    "\n",
    "inactive_color = \"#f0f0f0\"\n",
    "\n",
    "# set color map for primary niches\n",
    "\n",
    "niche_labels = model.adata.obs[\"nichecompass_latent_cluster\"].astype(str).unique().tolist()\n",
    "\n",
    "def natural_sort(l):\n",
    "    convert = lambda text: int(text) if text.isdigit() else text.lower()\n",
    "    alphanum_key = lambda key: [ convert(c) for c in re.split('([0-9]+)', key) ]\n",
    "    return sorted(l, key = alphanum_key)\n",
    "\n",
    "niche_labels = natural_sort(niche_labels)\n",
    "niche_colors = color_palette(\"husl\", len(niche_labels))\n",
    "niche_color_map = {key: value for key, value in zip(niche_labels, niche_colors)}\n",
    "\n",
    "# set color map for sub niches\n",
    "\n",
    "sub_niche_color_map = {}\n",
    "for niche_label in niche_labels:\n",
    "    niche_color = niche_color_map[niche_label]\n",
    "    adata_sample = model.adata[model.adata.obs[\"nichecompass_latent_cluster\"] == niche_label]\n",
    "    sub_niche_labels = adata_sample.obs[\"nichecompass_latent_sub_cluster_label\"].astype(str).unique().tolist()\n",
    "    sub_niche_labels.sort()\n",
    "    sub_niche_colors = light_palette(niche_color, len(sub_niche_labels) + 2, reverse=True)\n",
    "    sub_niche_color_map_sample = {key: value for key, value in zip(sub_niche_labels[:len(sub_niche_labels)], sub_niche_colors)}\n",
    "    sub_niche_color_map.update(sub_niche_color_map_sample)"
   ]
  },
  {
   "cell_type": "code",
   "execution_count": null,
   "id": "30fa3803-9340-46d2-8d99-838c5aaadaa2",
   "metadata": {
    "ExecuteTime": {
     "end_time": "2024-02-02T12:56:50.638241Z",
     "start_time": "2024-02-02T12:56:40.949212Z"
    },
    "collapsed": false,
    "jupyter": {
     "outputs_hidden": false
    }
   },
   "outputs": [],
   "source": [
    "fig, ax = plt.subplots()\n",
    "ax.scatter(\n",
    "    umap_embedding[:, 0],\n",
    "    umap_embedding[:, 1],\n",
    "    c=model.adata.obs[\"nichecompass_latent_cluster\"].astype(str).map(niche_color_map),\n",
    "    s=1\n",
    ")\n",
    "ax.grid(False)\n",
    "ax.spines[['right', 'top']].set_visible(False)\n",
    "ax.spines[['left', 'bottom']].set_linewidth(1)\n",
    "ax.spines[['left', 'bottom']].set_color(\"black\")\n",
    "ax.set_xticks([])\n",
    "ax.set_yticks([])\n",
    "\n",
    "hfont = {'fontname':'Helvetica'}\n",
    "\n",
    "ax.set_aspect('equal')\n",
    "ax.margins(0.15)\n",
    "plt.xlabel(\"UMAP 1\", labelpad=7, **hfont)\n",
    "plt.ylabel(\"UMAP 2\", **hfont)"
   ]
  },
  {
   "cell_type": "code",
   "execution_count": null,
   "id": "2e764a57-b215-4b7c-a5f1-d5959a6b6f9f",
   "metadata": {
    "ExecuteTime": {
     "end_time": "2024-02-02T12:56:50.803688Z",
     "start_time": "2024-02-02T12:56:50.639859Z"
    },
    "collapsed": false,
    "jupyter": {
     "outputs_hidden": false
    }
   },
   "outputs": [],
   "source": [
    "niche_cell_frequency = model.adata.obs[\"nichecompass_latent_cluster\"].value_counts()\n",
    "fig, ax = plt.subplots()\n",
    "ax.bar(niche_cell_frequency.index, niche_cell_frequency, color=[niche_color_map[niche_label] for niche_label in niche_cell_frequency.index.tolist()], edgecolor=\"none\")\n",
    "\n",
    "ax.grid(which='major', axis='y', linestyle='--')\n",
    "ax.grid(False, axis='x')\n",
    "ax.spines[['right', 'top']].set_visible(False)\n",
    "ax.spines[['left', 'bottom']].set_linewidth(1)\n",
    "ax.spines[['left', 'bottom']].set_color(\"black\")\n",
    "\n",
    "ax.get_yaxis().set_major_formatter(ticker.FuncFormatter(lambda x, p: format(int(x), ',')))\n",
    "\n",
    "hfont = {'fontname':'Helvetica'}\n",
    "plt.xlabel(\"NicheCompass primary niche\", labelpad=7, **hfont)\n",
    "plt.ylabel(\"Number of cells\", **hfont)"
   ]
  },
  {
   "cell_type": "code",
   "execution_count": null,
   "id": "eb27ebf4-e5a6-4fce-92d9-97a5eae0d0b7",
   "metadata": {
    "ExecuteTime": {
     "end_time": "2024-02-02T12:56:51.797345Z",
     "start_time": "2024-02-02T12:56:50.809270Z"
    },
    "collapsed": false,
    "jupyter": {
     "outputs_hidden": false
    }
   },
   "outputs": [],
   "source": [
    "cluster_composition = model.adata.obs.groupby([\"nichecompass_latent_cluster\", \"nichecompass_latent_sub_cluster_label\"], observed=False).size().unstack()\n",
    "\n",
    "categories = cluster_composition.axes[1].tolist()\n",
    "clusters = cluster_composition.axes[0].tolist()\n",
    "\n",
    "fig, ax = plt.subplots()\n",
    "bottom = np.zeros(len(clusters))\n",
    "for batch in categories:\n",
    "    ax.bar(clusters, cluster_composition[batch], color=sub_niche_color_map[batch], label=batch, bottom=bottom)\n",
    "    bottom += cluster_composition[batch]\n",
    "\n",
    "ax.grid(which='major', axis='y', linestyle='--')\n",
    "ax.grid(False, axis='x')\n",
    "ax.spines[['right', 'top']].set_visible(False)\n",
    "ax.spines[['left', 'bottom']].set_linewidth(1)\n",
    "ax.spines[['left', 'bottom']].set_color(\"black\")\n",
    "\n",
    "ax.get_yaxis().set_major_formatter(ticker.FuncFormatter(lambda x, p: format(int(x), ',')))\n",
    "hfont = {'fontname':'Helvetica'}\n",
    "plt.xlabel(\"NicheCompass primary niche\", labelpad=7, **hfont)\n",
    "plt.ylabel(\"Number of cells\", **hfont)\n"
   ]
  },
  {
   "cell_type": "code",
   "execution_count": null,
   "id": "2f6dc9a8-b38f-40bf-ad01-8e776bae936b",
   "metadata": {
    "ExecuteTime": {
     "end_time": "2024-02-02T12:57:04.566753Z",
     "start_time": "2024-02-02T12:56:51.802549Z"
    },
    "collapsed": false,
    "jupyter": {
     "outputs_hidden": false
    }
   },
   "outputs": [],
   "source": [
    "clusters = model.adata.obs[\"nichecompass_latent_cluster\"].unique().tolist()\n",
    "clusters = natural_sort(clusters)\n",
    "\n",
    "fig, axs = plt.subplots(4, math.ceil(len(clusters)/4))\n",
    "\n",
    "for cluster, ax in zip(clusters, axs.flat):\n",
    "    adata_subset = model.adata[model.adata.obs[\"nichecompass_latent_cluster\"] == cluster]\n",
    "    umap_embedding_subset = adata_subset.obsm[\"X_umap\"]\n",
    "    \n",
    "    ax.scatter(\n",
    "        umap_embedding[:, 0],\n",
    "        umap_embedding[:, 1],\n",
    "        c=inactive_color,\n",
    "        s=1\n",
    "    )\n",
    "    ax.scatter(\n",
    "        umap_embedding_subset[:, 0],\n",
    "        umap_embedding_subset[:, 1],\n",
    "        c=adata_subset.obs[\"nichecompass_latent_sub_cluster_label\"].astype(str).map(sub_niche_color_map),\n",
    "        s=1\n",
    "    )\n",
    "    ax.grid(False)\n",
    "    ax.spines[['right', 'top']].set_visible(False)\n",
    "    ax.spines[['left', 'bottom']].set_linewidth(1)\n",
    "    ax.spines[['left', 'bottom']].set_color(\"black\")\n",
    "    ax.set_xticks([])\n",
    "    ax.set_yticks([])\n",
    "    \n",
    "    hfont = {'fontname':'Helvetica'}\n",
    "\n",
    "    ax.set_title(f\"Niche {cluster}\")\n",
    "    \n",
    "    ax.set_aspect('equal')\n",
    "    ax.margins(0.15)\n",
    "    plt.xlabel(\"UMAP 1\", labelpad=7, **hfont)\n",
    "    plt.ylabel(\"UMAP 2\", **hfont)\n",
    "    \n",
    "fig.set_figheight(10)\n",
    "fig.set_figwidth(10)"
   ]
  },
  {
   "cell_type": "markdown",
   "id": "97b65183-c95b-4542-9263-f02c4b0aeb37",
   "metadata": {},
   "source": [
    "Show the number of cells in each primary niche."
   ]
  },
  {
   "cell_type": "code",
   "execution_count": null,
   "id": "d83fc06f-4de1-40fa-b93c-59a51ac094d3",
   "metadata": {
    "ExecuteTime": {
     "end_time": "2024-02-02T12:57:04.823923Z",
     "start_time": "2024-02-02T12:57:04.566285Z"
    },
    "collapsed": false,
    "jupyter": {
     "outputs_hidden": false
    }
   },
   "outputs": [],
   "source": [
    "sample_order = [\n",
    "                'spinalcord',\n",
    "                'well01OB',\n",
    "                'well1_5',\n",
    "                'well01brain',\n",
    "                'well2_5',\n",
    "                'well03',\n",
    "                'well3_5',\n",
    "                'well04',\n",
    "                'well05',\n",
    "                'well11',\n",
    "                'well06',\n",
    "                'well07',\n",
    "                'well7_5',\n",
    "                'well08',\n",
    "                'well09',\n",
    "                'well10',\n",
    "                'well10_5'\n",
    "]\n",
    "\n",
    "cluster_composition = model.adata.obs.groupby([\"label\", \"nichecompass_latent_cluster\"], observed=False).size().unstack()\n",
    "cluster_composition = cluster_composition.loc[sample_order]\n",
    "\n",
    "cluster_composition_np = cluster_composition.to_numpy()\n",
    "\n",
    "N = cluster_composition_np.shape[0]\n",
    "M = cluster_composition_np.shape[1]\n",
    "xlabels = cluster_composition.columns.tolist()\n",
    "ylabels = cluster_composition.index.values.tolist()\n",
    "\n",
    "categories = model.adata.obs[\"nichecompass_latent_cluster\"].astype(str).fillna(\"Unknown\").unique().tolist()\n",
    "colours = color_palette(\"colorblind\", len(categories))\n",
    "colour_map = {key: value for key, value in zip(categories, colours)}\n",
    "\n",
    "x, y = np.meshgrid(np.arange(M), np.arange(N))\n",
    "\n",
    "area = cluster_composition_np\n",
    "c = [niche_color_map[xlabels[i]] for i in x.flat]\n",
    "\n",
    "fig, ax = plt.subplots()\n",
    "\n",
    "radius = np.sqrt(area/np.pi)\n",
    "R = radius/radius.max()/2\n",
    "\n",
    "circles = [plt.Circle((j,i), radius=r, color=c) for r, j, i, c in zip(R.flat, x.flat, y.flat, c)]\n",
    "collection = PatchCollection(circles, match_original=True)\n",
    "ax.add_collection(collection)\n",
    "\n",
    "ax.set(xticks=np.arange(M), yticks=np.arange(N), xticklabels=xlabels, yticklabels=ylabels)\n",
    "ax.set_xticks(np.arange(M+1)-0.5, minor=True)\n",
    "ax.set_yticks(np.arange(N+1)-0.5, minor=True)\n",
    "ax.grid(False)\n",
    "\n",
    "hfont = {'fontname':'Helvetica'}\n",
    "\n",
    "plt.ylabel(\"Tissue Section\", **hfont)\n",
    "plt.xlabel(\"Niche\", **hfont)\n",
    "\n",
    "ax.set_aspect('equal')\n",
    "\n",
    "ax.grid(False)\n",
    "ax.spines[['left', 'bottom', \"right\", \"top\"]].set_linewidth(1)\n",
    "ax.spines[['left', 'bottom', \"right\", \"top\"]].set_color(\"black\")\n",
    "\n",
    "ax.margins(0.03)\n",
    "\n",
    "fig.set_figheight(20)\n",
    "fig.set_figwidth(5)\n",
    "fig.savefig(f'{figure_folder_path}/b2.svg')\n",
    "plt.show()"
   ]
  },
  {
   "cell_type": "code",
   "execution_count": null,
   "id": "d29f7e73-ed55-4dc4-8434-63e533d447bc",
   "metadata": {
    "ExecuteTime": {
     "end_time": "2024-02-02T12:57:05.021462Z",
     "start_time": "2024-02-02T12:57:04.827877Z"
    },
    "collapsed": false,
    "jupyter": {
     "outputs_hidden": false
    }
   },
   "outputs": [],
   "source": [
    "sample_order = [\n",
    "        'sagittal1',\n",
    "        'sagittal2',\n",
    "        'sagittal3'\n",
    "]\n",
    "\n",
    "cluster_composition = model.adata.obs.groupby([\"label\", \"nichecompass_latent_cluster\"], observed=False).size().unstack()\n",
    "cluster_composition = cluster_composition.loc[sample_order]\n",
    "\n",
    "cluster_composition_np = cluster_composition.to_numpy()\n",
    "\n",
    "N = cluster_composition_np.shape[0]\n",
    "M = cluster_composition_np.shape[1]\n",
    "xlabels = cluster_composition.columns.tolist()\n",
    "ylabels = cluster_composition.index.values.tolist()\n",
    "\n",
    "categories = model.adata.obs[\"nichecompass_latent_cluster\"].astype(str).fillna(\"Unknown\").unique().tolist()\n",
    "colours = color_palette(\"colorblind\", len(categories))\n",
    "colour_map = {key: value for key, value in zip(categories, colours)}\n",
    "\n",
    "x, y = np.meshgrid(np.arange(M), np.arange(N))\n",
    "\n",
    "area = cluster_composition_np\n",
    "c = [niche_color_map[xlabels[i]] for i in x.flat]\n",
    "\n",
    "fig, ax = plt.subplots()\n",
    "\n",
    "radius = np.sqrt(area/np.pi)\n",
    "R = radius/radius.max()/2\n",
    "\n",
    "circles = [plt.Circle((j,i), radius=r, color=c) for r, j, i, c in zip(R.flat, x.flat, y.flat, c)]\n",
    "collection = PatchCollection(circles, match_original=True)\n",
    "ax.add_collection(collection)\n",
    "\n",
    "ax.set(xticks=np.arange(M), yticks=np.arange(N), xticklabels=xlabels, yticklabels=ylabels)\n",
    "ax.set_xticks(np.arange(M+1)-0.5, minor=True)\n",
    "ax.set_yticks(np.arange(N+1)-0.5, minor=True)\n",
    "ax.grid(False)\n",
    "\n",
    "hfont = {'fontname':'Helvetica'}\n",
    "\n",
    "plt.ylabel(\"Tissue Section\", **hfont)\n",
    "plt.xlabel(\"Niche\", **hfont)\n",
    "\n",
    "ax.set_aspect('equal')\n",
    "\n",
    "ax.grid(False)\n",
    "ax.spines[['left', 'bottom', \"right\", \"top\"]].set_linewidth(1)\n",
    "ax.spines[['left', 'bottom', \"right\", \"top\"]].set_color(\"black\")\n",
    "\n",
    "ax.margins(0.03)\n",
    "\n",
    "fig.set_figheight(20)\n",
    "fig.set_figwidth(5)\n",
    "fig.savefig(f'{figure_folder_path}/a2.svg')\n",
    "plt.show()"
   ]
  },
  {
   "cell_type": "markdown",
   "id": "f70951b8-6185-445a-b693-063157a93d1e",
   "metadata": {},
   "source": [
    "Show the cell composition of each niche."
   ]
  },
  {
   "cell_type": "code",
   "execution_count": null,
   "id": "48651d63-01bc-4336-b85b-cb5a2a330b8a",
   "metadata": {
    "ExecuteTime": {
     "end_time": "2024-02-02T12:57:05.331608Z",
     "start_time": "2024-02-02T12:57:05.022230Z"
    },
    "collapsed": false,
    "jupyter": {
     "outputs_hidden": false
    }
   },
   "outputs": [],
   "source": [
    "cluster_composition = model.adata.obs.groupby([\"Main_molecular_cell_type\", \"nichecompass_latent_cluster\"], observed=False).size().unstack()\n",
    "\n",
    "cluster_composition_np = cluster_composition.to_numpy()\n",
    "\n",
    "N = cluster_composition_np.shape[0]\n",
    "M = cluster_composition_np.shape[1]\n",
    "xlabels = cluster_composition.columns.tolist()\n",
    "ylabels = cluster_composition.index.values.tolist()\n",
    "\n",
    "categories = model.adata.obs[\"nichecompass_latent_cluster\"].astype(str).fillna(\"Unknown\").unique().tolist()\n",
    "colours = color_palette(\"colorblind\", len(categories))\n",
    "\n",
    "x, y = np.meshgrid(np.arange(M), np.arange(N))\n",
    "\n",
    "area = cluster_composition_np\n",
    "c = [niche_color_map[xlabels[i]] for i in x.flat]\n",
    "\n",
    "fig, ax = plt.subplots()\n",
    "\n",
    "radius = np.sqrt(area/np.pi)\n",
    "R = radius/radius.max()/2\n",
    "\n",
    "circles = [plt.Circle((j,i), radius=r, color=c) for r, j, i, c in zip(R.flat, x.flat, y.flat, c)]\n",
    "collection = PatchCollection(circles, match_original=True)\n",
    "ax.add_collection(collection)\n",
    "\n",
    "ax.set(xticks=np.arange(M), yticks=np.arange(N), xticklabels=xlabels, yticklabels=ylabels)\n",
    "ax.set_xticks(np.arange(M+1)-0.5, minor=True)\n",
    "ax.set_yticks(np.arange(N+1)-0.5, minor=True)\n",
    "ax.grid(False)\n",
    "\n",
    "\n",
    "hfont = {'fontname':'Helvetica'}\n",
    "\n",
    "plt.ylabel(\"Cell type\", **hfont)\n",
    "plt.xlabel(\"Niche\", **hfont)\n",
    "\n",
    "ax.set_aspect('equal')\n",
    "\n",
    "ax.grid(False)\n",
    "ax.spines[['left', 'bottom', \"right\", \"top\"]].set_linewidth(1)\n",
    "ax.spines[['left', 'bottom', \"right\", \"top\"]].set_color(\"black\")\n",
    "\n",
    "ax.margins(0.03)\n",
    "\n",
    "fig.set_figheight(20)\n",
    "fig.set_figwidth(5)\n",
    "fig.savefig(f'{figure_folder_path}/c1.svg')\n",
    "plt.show()"
   ]
  },
  {
   "cell_type": "markdown",
   "id": "c4748035-b858-418d-8325-70812f32d256",
   "metadata": {},
   "source": [
    "Generate a 3D plot based on manual tissue section alignment."
   ]
  },
  {
   "cell_type": "code",
   "execution_count": null,
   "id": "9aedbeb3-fc50-4b59-9863-0d6aef15d235",
   "metadata": {
    "ExecuteTime": {
     "end_time": "2024-02-02T12:57:09.167050Z",
     "start_time": "2024-02-02T12:57:05.337270Z"
    },
    "collapsed": false,
    "jupyter": {
     "outputs_hidden": false
    }
   },
   "outputs": [],
   "source": [
    "rotation = {\n",
    "    \"sagittal1\": 270,\n",
    "    \"sagittal2\": 90,\n",
    "    \"sagittal3\": 90,\n",
    "    \"spinalcord\": 0,\n",
    "    \"well01OB\": 90,\n",
    "    \"well1_5\": 0,\n",
    "    \"well01brain\": 90,\n",
    "    \"well2_5\": 180,\n",
    "    \"well03\": 90,\n",
    "    \"well3_5\": 180,\n",
    "    \"well04\": 270,\n",
    "    \"well05\": 270,\n",
    "    \"well06\": 90,\n",
    "    \"well07\": 270,\n",
    "    \"well7_5\": 0,\n",
    "    \"well08\": 270,\n",
    "    \"well09\": 270,\n",
    "    \"well10\": 270,\n",
    "    \"well10_5\": 0,\n",
    "    \"well11\": 90\n",
    "}\n",
    "\n",
    "scale_x = {\n",
    "    \"sagittal1\": -1,\n",
    "    \"sagittal2\": -1,\n",
    "    \"sagittal3\": -1,\n",
    "    \"spinalcord\": -1,\n",
    "    \"well01OB\": -1,\n",
    "    \"well1_5\": -1,\n",
    "    \"well01brain\": -1,\n",
    "    \"well2_5\": -1,\n",
    "    \"well03\": 1,\n",
    "    \"well3_5\": -1,\n",
    "    \"well04\": -1,\n",
    "    \"well05\": -1,\n",
    "    \"well06\": -1,\n",
    "    \"well07\": -1,\n",
    "    \"well7_5\": -1,\n",
    "    \"well08\": -1,\n",
    "    \"well09\": -1,\n",
    "    \"well10\": -1,\n",
    "    \"well10_5\": -1,\n",
    "    \"well11\": -1\n",
    "}\n",
    "\n",
    "scale_y = {\n",
    "    \"sagittal1\": 1,\n",
    "    \"sagittal2\": 1,\n",
    "    \"sagittal3\": 1,\n",
    "    \"spinalcord\": 1,\n",
    "    \"well01OB\": 1,\n",
    "    \"well1_5\": 1,\n",
    "    \"well01brain\": -1,\n",
    "    \"well2_5\": 1,\n",
    "    \"well03\": -1,\n",
    "    \"well3_5\": 1,\n",
    "    \"well04\": 1,\n",
    "    \"well05\": 1,\n",
    "    \"well06\": 1,\n",
    "    \"well07\": 1,\n",
    "    \"well7_5\": 1,\n",
    "    \"well08\": -1,\n",
    "    \"well09\": 1,\n",
    "    \"well10\": 1,\n",
    "    \"well10_5\": -1,\n",
    "    \"well11\": 1\n",
    "}\n",
    "\n",
    "labels = model.adata.obs[\"label\"].tolist()\n",
    "xys = [(item[0], item[1]) for item in model.adata.obsm[\"spatial\"].tolist()]\n",
    "\n",
    "xs = model.adata.obsm[\"spatial\"].transpose()[0]\n",
    "ys = model.adata.obsm[\"spatial\"].transpose()[1]\n",
    "\n",
    "def rotate_origin_only(xy, radians):\n",
    "    \"\"\"Only rotate a point around the origin (0, 0).\"\"\"\n",
    "    x, y = xy\n",
    "    xx = x * math.cos(radians) + y * math.sin(radians)\n",
    "    yy = -x * math.sin(radians) + y * math.cos(radians)\n",
    "    return xx, yy\n",
    "\n",
    "rotated_xys = [rotate_origin_only(xy, math.radians(rotation[label])) for xy, label in zip(xys, labels)]\n",
    "scaled_xys = [(xy[0] * scale_x[label], xy[1] * scale_y[label]) for xy, label in zip(rotated_xys, labels)]\n",
    "\n",
    "unified_xys = np.array([[x, y] for x, y in scaled_xys])\n",
    "\n",
    "center_translation_x = {label: (min(unified_xys[model.adata.obs.label == label].T.tolist()[0]) + max(unified_xys[model.adata.obs.label == label].T.tolist()[0]))/2 for label in model.adata.obs[\"label\"].cat.categories.tolist()}\n",
    "\n",
    "center_translation_y = {label: (min(unified_xys[model.adata.obs.label == label].T.tolist()[1]) + max(unified_xys[model.adata.obs.label == label].T.tolist()[1]))/2 for label in model.adata.obs[\"label\"].cat.categories.tolist()}\n",
    "\n",
    "centered_xys = np.array([[xy[0] - center_translation_x[label], xy[1] - center_translation_y[label]] for xy, label in zip(unified_xys.tolist(), labels)])"
   ]
  },
  {
   "cell_type": "code",
   "execution_count": null,
   "id": "4037bfea-85dd-4e50-9aaa-e802e3d95334",
   "metadata": {
    "ExecuteTime": {
     "end_time": "2024-02-02T12:57:13.214891Z",
     "start_time": "2024-02-02T12:57:09.171076Z"
    },
    "collapsed": false,
    "jupyter": {
     "outputs_hidden": false
    }
   },
   "outputs": [],
   "source": [
    "included_labels = model.adata.obs[\"label\"].cat.categories.tolist()[4:]\n",
    "included_idx = model.adata.obs.label.isin(included_labels).tolist()\n",
    "\n",
    "categories = model.adata.obs[\"nichecompass_latent_sub_cluster_label\"].astype(str).fillna(\"Unknown\").unique().tolist()\n",
    "colours = color_palette(\"colorblind\", len(categories))\n",
    "colour_map = {key: value for key, value in zip(categories, colours)}\n",
    "\n",
    "z_spacing = 8000\n",
    "z_order = ['sagittal1',\n",
    "           'sagittal2',\n",
    "           'sagittal3',\n",
    "           'spinalcord',\n",
    "           'well01OB',\n",
    "           'well1_5',\n",
    "           'well01brain',\n",
    "           'well2_5',\n",
    "           'well03',\n",
    "           'well3_5',\n",
    "           'well04',\n",
    "           'well05',\n",
    "           'well11',\n",
    "           'well06',\n",
    "           'well07',\n",
    "           'well7_5',\n",
    "           'well08',\n",
    "           'well09',\n",
    "           'well10',\n",
    "           'well10_5']\n",
    "zs = np.array([z_order.index(label) * z_spacing for label in labels])\n",
    "\n",
    "xs = np.array(centered_xys.T.tolist()[0])\n",
    "ys = np.array(centered_xys.T.tolist()[1])\n",
    "\n",
    "fig = plt.figure()\n",
    "ax = fig.add_subplot(projection='3d')\n",
    "fig.set_figheight(5)\n",
    "fig.set_figwidth(30)\n",
    "\n",
    "color = model.adata.obs[\"nichecompass_latent_sub_cluster_label\"].astype(str).fillna(\"Unknown\").map(sub_niche_color_map)\n",
    "ax.scatter(xs[included_idx], zs[included_idx], ys[included_idx], s=0.2, facecolors=color[included_idx], edgecolor=None, linewidth=0, alpha=1)\n",
    "\n",
    "ax.set_aspect('equal')\n",
    "ax.view_init(20, -20)\n",
    "\n",
    "ax.set_xticks([])\n",
    "ax.set_yticks([])\n",
    "ax.set_zticks([])\n",
    "\n",
    "fig.tight_layout()\n",
    "fig.savefig(f'{figure_folder_path}/b1.png', dpi=300)\n",
    "plt.show()"
   ]
  },
  {
   "cell_type": "code",
   "execution_count": null,
   "id": "7165a237-fc54-4da2-8abb-454e2d8c6353",
   "metadata": {
    "ExecuteTime": {
     "end_time": "2024-02-02T12:57:16.061275Z",
     "start_time": "2024-02-02T12:57:13.218038Z"
    },
    "collapsed": false,
    "jupyter": {
     "outputs_hidden": false
    }
   },
   "outputs": [],
   "source": [
    "included_labels = model.adata.obs[\"label\"].cat.categories.tolist()[:3]\n",
    "included_idx = model.adata.obs.label.isin(included_labels).tolist()\n",
    "\n",
    "categories = model.adata.obs[\"nichecompass_latent_sub_cluster_label\"].astype(str).fillna(\"Unknown\").unique().tolist()\n",
    "colours = color_palette(\"colorblind\", len(categories))\n",
    "colour_map = {key: value for key, value in zip(categories, colours)}\n",
    "\n",
    "z_spacing = 100000\n",
    "z_order = ['sagittal3',\n",
    "           'sagittal2',\n",
    "           'sagittal1',\n",
    "           'spinalcord',\n",
    "           'well01OB',\n",
    "           'well1_5',\n",
    "           'well01brain',\n",
    "           'well2_5',\n",
    "           'well03',\n",
    "           'well3_5',\n",
    "           'well04',\n",
    "           'well05',\n",
    "           'well11',\n",
    "           'well06',\n",
    "           'well07',\n",
    "           'well7_5',\n",
    "           'well08',\n",
    "           'well09',\n",
    "           'well10',\n",
    "           'well10_5']\n",
    "zs = np.array([z_order.index(label) * z_spacing for label in labels])\n",
    "\n",
    "xs = np.array(centered_xys.T.tolist()[0])\n",
    "ys = np.array(centered_xys.T.tolist()[1])\n",
    "\n",
    "fig = plt.figure()\n",
    "ax = fig.add_subplot(projection='3d')\n",
    "fig.set_figheight(5)\n",
    "fig.set_figwidth(30)\n",
    "\n",
    "color = model.adata.obs[\"nichecompass_latent_sub_cluster_label\"].astype(str).fillna(\"Unknown\").map(sub_niche_color_map)\n",
    "ax.scatter(zs[included_idx], xs[included_idx], ys[included_idx], s=0.2, facecolors=color[included_idx], edgecolor=None, linewidth=0, alpha=1)\n",
    "\n",
    "ax.set_aspect('equal')\n",
    "ax.view_init(20, -20)\n",
    "\n",
    "ax.set_xticks([])\n",
    "ax.set_yticks([])\n",
    "ax.set_zticks([])\n",
    "\n",
    "fig.tight_layout()\n",
    "fig.savefig(f'{figure_folder_path}/a1.png', dpi=300)\n",
    "plt.show()"
   ]
  },
  {
   "cell_type": "markdown",
   "id": "88178322-9563-43a0-91a1-7def7691e070",
   "metadata": {},
   "source": [
    "### 3.1.2 Alignment with Allen Mouse Brain Reference Atlas"
   ]
  },
  {
   "cell_type": "code",
   "execution_count": null,
   "id": "9e367123-e8d4-45cb-b269-6389c0c4fa47",
   "metadata": {
    "ExecuteTime": {
     "end_time": "2024-01-31T15:10:34.270722Z",
     "start_time": "2024-01-31T15:10:34.110542Z"
    },
    "collapsed": false,
    "jupyter": {
     "outputs_hidden": false
    }
   },
   "outputs": [],
   "source": [
    "adata_well11 = model.adata[model.adata.obs[\"label\"] == \"well11\"]"
   ]
  },
  {
   "cell_type": "code",
   "execution_count": null,
   "id": "c906504e-11dd-46a2-9278-0d5bde57b834",
   "metadata": {
    "ExecuteTime": {
     "end_time": "2024-01-31T15:03:46.818289Z",
     "start_time": "2024-01-31T15:03:46.798202Z"
    },
    "collapsed": false,
    "jupyter": {
     "outputs_hidden": false
    }
   },
   "outputs": [],
   "source": [
    "coordinates = pd.DataFrame(model.adata.obsm[\"spatial\"][model.adata.obs[\"label\"] == \"well11\"], columns=[\"x\", \"y\"])"
   ]
  },
  {
   "cell_type": "code",
   "execution_count": null,
   "id": "4d9b34a2-614c-4bbf-9965-9ecb9e94c66b",
   "metadata": {
    "ExecuteTime": {
     "end_time": "2024-01-31T15:11:22.982559Z",
     "start_time": "2024-01-31T15:11:22.962468Z"
    },
    "collapsed": false,
    "jupyter": {
     "outputs_hidden": false
    }
   },
   "outputs": [],
   "source": [
    "cell_index = adata_well11.obs_names.tolist()\n",
    "with open(\"alignment_cell_index.pkl\", \"wb\") as file:\n",
    "    pickle.dump(cell_index, file)"
   ]
  },
  {
   "cell_type": "code",
   "execution_count": null,
   "id": "741d882f-5500-491f-b35f-0e1b19bfd09d",
   "metadata": {
    "ExecuteTime": {
     "end_time": "2024-01-31T15:03:48.081921Z",
     "start_time": "2024-01-31T15:03:48.056883Z"
    },
    "collapsed": false,
    "jupyter": {
     "outputs_hidden": false
    }
   },
   "outputs": [],
   "source": [
    "#scale coordinates to\n",
    "#the y size of a mid coronal section in allen reference atlas is 7200 um\n",
    "#this corresponds to the x direction of the input\n",
    "scale_factor = 7200 / (max(coordinates[\"x\"]) - min(coordinates[\"x\"]))\n",
    "scale_factor"
   ]
  },
  {
   "cell_type": "code",
   "execution_count": null,
   "id": "35823e7c-42ce-4281-b72f-c793ce1c162d",
   "metadata": {
    "ExecuteTime": {
     "end_time": "2024-01-31T15:03:49.445331Z",
     "start_time": "2024-01-31T15:03:49.422042Z"
    },
    "collapsed": false,
    "jupyter": {
     "outputs_hidden": false
    }
   },
   "outputs": [],
   "source": [
    "coordinates[\"x\"] = coordinates[\"x\"] * 0.2\n",
    "coordinates[\"y\"] = coordinates[\"y\"] * 0.2"
   ]
  },
  {
   "cell_type": "code",
   "execution_count": null,
   "id": "9343420a-06dc-4e14-a196-cc9b54e577c6",
   "metadata": {
    "ExecuteTime": {
     "end_time": "2024-01-31T15:03:53.466149Z",
     "start_time": "2024-01-31T15:03:53.449046Z"
    },
    "collapsed": false,
    "jupyter": {
     "outputs_hidden": false
    }
   },
   "outputs": [],
   "source": [
    "coordinates"
   ]
  },
  {
   "cell_type": "code",
   "execution_count": null,
   "id": "4f14fb42-cba2-459d-b6c4-355caf18bde4",
   "metadata": {
    "ExecuteTime": {
     "end_time": "2024-01-31T10:26:59.519057Z",
     "start_time": "2024-01-31T10:26:57.959151Z"
    },
    "collapsed": false,
    "jupyter": {
     "outputs_hidden": false
    }
   },
   "outputs": [],
   "source": [
    "url = 'http://api.brain-map.org/api/v2/data/query.csv?criteria=model::Structure,rma::criteria,[ontology_id$eq1],rma::options[order$eq%27structures.graph_order%27][num_rows$eqall]'\n",
    "ontology_name,namesdict = STalign.download_aba_ontology(url, 'allen_ontology.csv') #url for adult mouse"
   ]
  },
  {
   "cell_type": "code",
   "execution_count": null,
   "id": "228ea969-0168-4349-9dff-6abb00ab0ca9",
   "metadata": {
    "ExecuteTime": {
     "end_time": "2024-01-31T10:17:47.259994Z",
     "start_time": "2024-01-31T10:16:51.757877Z"
    },
    "collapsed": false,
    "jupyter": {
     "outputs_hidden": false
    }
   },
   "outputs": [],
   "source": [
    "imageurl = 'http://download.alleninstitute.org/informatics-archive/current-release/mouse_ccf/ara_nissl/ara_nissl_50.nrrd'\n",
    "labelurl = 'http://download.alleninstitute.org/informatics-archive/current-release/mouse_ccf/annotation/ccf_2017/annotation_50.nrrd'\n",
    "imagefile, labelfile = STalign.download_aba_image_labels(imageurl, labelurl, 'aba_nissl.nrrd', 'aba_annotation.nrrd')"
   ]
  },
  {
   "cell_type": "code",
   "execution_count": null,
   "id": "5e81d01f-24ce-4744-af8b-a12a53a0a3f6",
   "metadata": {
    "ExecuteTime": {
     "end_time": "2024-01-31T11:29:13.236137Z",
     "start_time": "2024-01-31T11:29:11.886899Z"
    },
    "collapsed": false,
    "jupyter": {
     "outputs_hidden": false
    }
   },
   "outputs": [],
   "source": [
    "dx=15\n",
    "blur = 1\n",
    "#Rasterize Image\n",
    "X_,Y_,W = STalign.rasterize(coordinates[\"x\"],coordinates[\"y\"],dx=dx, blur = blur,draw=False)"
   ]
  },
  {
   "cell_type": "code",
   "execution_count": null,
   "id": "2732bd65-266a-420c-96f2-e27cfc552faa",
   "metadata": {
    "ExecuteTime": {
     "end_time": "2024-01-31T11:29:14.125124Z",
     "start_time": "2024-01-31T11:29:13.980976Z"
    },
    "collapsed": false,
    "jupyter": {
     "outputs_hidden": false
    }
   },
   "outputs": [],
   "source": [
    "#Plot unrasterized/rasterized images\n",
    "fig,ax = plt.subplots(1,2)\n",
    "ax[0].scatter(coordinates[\"x\"],coordinates[\"y\"],s=0.5,alpha=0.25)\n",
    "ax[0].invert_yaxis()\n",
    "ax[0].set_title('List of cells')\n",
    "ax[0].set_aspect('equal')\n",
    "\n",
    "W = W[0]\n",
    "extent = (X_[0],X_[-1],Y_[0],Y_[-1])\n",
    "ax[1].imshow(W,  origin='lower')\n",
    "ax[1].invert_yaxis()\n",
    "ax[1].set_title('Rasterized')\n",
    "\n",
    "# save figure\n",
    "#fig.canvas.draw()\n",
    "#fig.savefig(outname[:-4]+'_image.png')"
   ]
  },
  {
   "cell_type": "code",
   "execution_count": null,
   "id": "7af6eb15-1962-4e91-a454-69282b39f695",
   "metadata": {
    "ExecuteTime": {
     "end_time": "2024-01-31T11:29:16.382020Z",
     "start_time": "2024-01-31T11:29:16.066089Z"
    },
    "collapsed": false,
    "jupyter": {
     "outputs_hidden": false
    }
   },
   "outputs": [],
   "source": [
    "#find slice\n",
    "#peruse through images in atlas\n",
    "# Loading the atlas\n",
    "slice = 140\n",
    "\n",
    "vol,hdr = nrrd.read(imagefile)\n",
    "A = vol\n",
    "vol,hdr = nrrd.read(labelfile)\n",
    "L = vol\n",
    "\n",
    "dxA = np.diag(hdr['space directions'])\n",
    "nxA = A.shape\n",
    "xA = [np.arange(n)*d - (n-1)*d/2.0 for n,d in zip(nxA,dxA)]\n",
    "XA = np.meshgrid(*xA,indexing='ij')\n",
    "\n",
    "fig,ax = plt.subplots(1,2)\n",
    "extentA = STalign.extent_from_x(xA[1:])\n",
    "ax[0].imshow(A[slice],extent=extentA)\n",
    "ax[0].set_title('Atlas Slice')\n",
    "\n",
    "ax[1].imshow(W,extent=extentA)\n",
    "ax[1].set_title('Target Image')\n",
    "fig.canvas.draw()"
   ]
  },
  {
   "cell_type": "code",
   "execution_count": null,
   "id": "9c9f2d46-718e-4015-85c4-99df515f28cb",
   "metadata": {
    "ExecuteTime": {
     "end_time": "2024-01-31T11:29:20.141587Z",
     "start_time": "2024-01-31T11:29:20.013958Z"
    },
    "collapsed": false,
    "jupyter": {
     "outputs_hidden": false
    }
   },
   "outputs": [],
   "source": [
    "from scipy.ndimage import rotate\n",
    "\n",
    "theta_deg = 90\n",
    "\n",
    "fig,ax = plt.subplots(1,2)\n",
    "extentA = STalign.extent_from_x(xA[1:])\n",
    "ax[0].imshow(rotate(A[slice], angle=theta_deg),extent=extentA)\n",
    "ax[0].set_title('Atlas Slice')\n",
    "\n",
    "ax[1].imshow(W,extent=extentA)\n",
    "ax[1].set_title('Target Image')\n",
    "fig.canvas.draw()"
   ]
  },
  {
   "cell_type": "code",
   "execution_count": null,
   "id": "96cdc3b6-7e01-413c-a29b-c1b1b73eb6a9",
   "metadata": {
    "ExecuteTime": {
     "end_time": "2024-01-31T11:29:21.214252Z",
     "start_time": "2024-01-31T11:29:21.196237Z"
    },
    "collapsed": false,
    "jupyter": {
     "outputs_hidden": false
    }
   },
   "outputs": [],
   "source": [
    "points_atlas = np.array([[3000,-300]])\n",
    "points_target = np.array([[0,-250]])\n",
    "Li,Ti = STalign.L_T_from_points(points_atlas,points_target)"
   ]
  },
  {
   "cell_type": "code",
   "execution_count": null,
   "id": "64966c46-f287-4ffe-9f72-56c090590537",
   "metadata": {
    "ExecuteTime": {
     "end_time": "2024-01-31T11:29:22.691557Z",
     "start_time": "2024-01-31T11:29:22.656270Z"
    },
    "collapsed": false,
    "jupyter": {
     "outputs_hidden": false
    }
   },
   "outputs": [],
   "source": [
    "xJ = [Y_,X_]\n",
    "J = W[None]/np.mean(np.abs(W))\n",
    "xI = xA\n",
    "I = A[None] / np.mean(np.abs(A),keepdims=True)\n",
    "I = np.concatenate((I,(I-np.mean(I))**2))"
   ]
  },
  {
   "cell_type": "code",
   "execution_count": null,
   "id": "54b6e074-ee44-47bd-83ae-97c937fce01d",
   "metadata": {
    "ExecuteTime": {
     "end_time": "2024-01-31T11:29:23.429508Z",
     "start_time": "2024-01-31T11:29:23.406695Z"
    },
    "collapsed": false,
    "jupyter": {
     "outputs_hidden": false
    }
   },
   "outputs": [],
   "source": [
    "sigmaA = 2 #standard deviation of artifact intensities\n",
    "sigmaB = 2 #standard deviation of background intensities\n",
    "sigmaM = 2 #standard deviation of matching tissue intenities\n",
    "muA = torch.tensor([3,3,3],device='cpu') #average of artifact intensities\n",
    "muB = torch.tensor([0,0,0],device='cpu') #average of background intensities"
   ]
  },
  {
   "cell_type": "code",
   "execution_count": null,
   "id": "f4c039d3-826c-4520-ae4d-5fa2fafc4e17",
   "metadata": {
    "ExecuteTime": {
     "end_time": "2024-01-31T11:29:24.174302Z",
     "start_time": "2024-01-31T11:29:24.076414Z"
    },
    "collapsed": false,
    "jupyter": {
     "outputs_hidden": false
    }
   },
   "outputs": [],
   "source": [
    "fig,ax = plt.subplots()\n",
    "ax.hist(J.ravel())\n",
    "plt.xlabel('Intensity')\n",
    "plt.ylabel('Number of Pixels')\n",
    "plt.title('Intensity Histogram of Target Image')"
   ]
  },
  {
   "cell_type": "code",
   "execution_count": null,
   "id": "49030fd7-6999-4d8f-9055-b91df4b9c988",
   "metadata": {
    "ExecuteTime": {
     "end_time": "2024-01-31T11:29:26.819329Z",
     "start_time": "2024-01-31T11:29:26.799524Z"
    },
    "collapsed": false,
    "jupyter": {
     "outputs_hidden": false
    }
   },
   "outputs": [],
   "source": [
    "# initialize variables\n",
    "scale_x = 0.9 #default = 0.9\n",
    "scale_y = 0.9 #default = 0.9\n",
    "scale_z = 0.9 #default = 0.9\n",
    "theta0 = (np.pi/180)*theta_deg\n",
    "\n",
    "# get an initial guess\n",
    "if 'Ti' in locals():\n",
    "    T = np.array([-xI[0][slice],np.mean(xJ[0])-(Ti[0]*scale_y),np.mean(xJ[1])-(Ti[1]*scale_x)])\n",
    "else:\n",
    "    T = np.array([-xI[0][slice],np.mean(xJ[0]),np.mean(xJ[1])])\n",
    "\n",
    "scale_atlas = np.array([[scale_z,0,0],\n",
    "                        [0,scale_x,0],\n",
    "                        [0,0,scale_y]])\n",
    "L = np.array([[1.0,0.0,0.0],\n",
    "              [0.0,np.cos(theta0),-np.sin(theta0)],\n",
    "              [0.0,np.sin(theta0),np.cos(theta0)]])\n",
    "L = np.matmul(L,scale_atlas)#np.identity(3)"
   ]
  },
  {
   "cell_type": "code",
   "execution_count": null,
   "id": "7633a443-649b-4d3b-9fbb-7bb65ca0dc43",
   "metadata": {
    "ExecuteTime": {
     "end_time": "2024-01-31T13:25:51.789052Z",
     "start_time": "2024-01-31T12:07:13.106478Z"
    },
    "collapsed": false,
    "jupyter": {
     "outputs_hidden": false
    }
   },
   "outputs": [],
   "source": [
    "%%time\n",
    "\n",
    "# run LDDMM\n",
    "# specify device (default device for STalign.LDDMM is cpu)\n",
    "if torch.cuda.is_available():\n",
    "    device = 'cuda:0'\n",
    "else:\n",
    "    device = 'cpu'\n",
    "\n",
    "#returns mat = affine transform, v = velocity, xv = pixel locations of velocity points\n",
    "transform = STalign.LDDMM_3D_to_slice(\n",
    "    xI,I,xJ,J,\n",
    "    T=T,L=L,\n",
    "    nt=4,niter=10000,\n",
    "    device='cpu',\n",
    "    sigmaA = sigmaA, #standard deviation of artifact intensities\n",
    "    sigmaB = sigmaB, #standard deviation of background intensities\n",
    "    sigmaM = sigmaM, #standard deviation of matching tissue intenities\n",
    "    muA = muA, #average of artifact intensities\n",
    "    muB = muB #average of background intensities\n",
    ")"
   ]
  },
  {
   "cell_type": "code",
   "execution_count": null,
   "id": "8bff4f90-819a-4ced-a443-433cf9ee6cfd",
   "metadata": {
    "ExecuteTime": {
     "end_time": "2024-01-31T13:29:16.840685Z",
     "start_time": "2024-01-31T13:29:16.819972Z"
    },
    "collapsed": false,
    "jupyter": {
     "outputs_hidden": false
    }
   },
   "outputs": [],
   "source": [
    "A = transform['A']\n",
    "v = transform['v']\n",
    "xv = transform['xv']\n",
    "Xs = transform['Xs']"
   ]
  },
  {
   "cell_type": "code",
   "execution_count": null,
   "id": "3997d8ed-019e-4c05-aa95-6b6c618796c5",
   "metadata": {
    "ExecuteTime": {
     "end_time": "2024-01-31T13:29:18.059391Z",
     "start_time": "2024-01-31T13:29:17.512905Z"
    },
    "collapsed": false,
    "jupyter": {
     "outputs_hidden": false
    }
   },
   "outputs": [],
   "source": [
    "df = STalign.analyze3Dalign(labelfile,  xv,v,A, xJ, dx, scale_x=scale_x, scale_y=scale_y,x=coordinates[\"x\"],y=coordinates[\"y\"], X_=X_, Y_=Y_, namesdict=namesdict,device='cpu')"
   ]
  },
  {
   "cell_type": "code",
   "execution_count": null,
   "id": "da724c6c-3a36-4647-8540-cce6890adfd7",
   "metadata": {
    "ExecuteTime": {
     "end_time": "2024-01-31T13:29:19.402853Z",
     "start_time": "2024-01-31T13:29:19.022737Z"
    },
    "collapsed": false,
    "jupyter": {
     "outputs_hidden": false
    }
   },
   "outputs": [],
   "source": [
    "It = torch.tensor(I,device='cpu',dtype=torch.float64)\n",
    "AI = STalign.interp3D(xI,It,Xs.permute(3,0,1,2),padding_mode=\"border\")\n",
    "Ishow_source = ((AI-torch.amin(AI,(1,2,3))[...,None,None])/(torch.amax(AI,(1,2,3))-torch.amin(AI,(1,2,3)))[...,None,None,None]).permute(1,2,3,0).clone().detach().cpu()\n",
    "Jt = torch.tensor(J,device='cpu',dtype=torch.float64)\n",
    "Ishow_target = Jt.permute(1,2,0).cpu()/torch.max(Jt).item()\n",
    "\n",
    "import matplotlib as mpl\n",
    "fig,ax = plt.subplots(1,3, figsize=(15,5))\n",
    "ax0 = ax[0].imshow(Ishow_target, cmap = mpl.cm.Blues,alpha=0.9)\n",
    "ax[0].set_title('MERFISH Slice')\n",
    "ax1 = ax[1].imshow(Ishow_source[0,:,:,0], cmap = mpl.cm.Reds,alpha=0.2)\n",
    "ax[1].set_title('z=0 slice of Aligned 3D Allen Brain Atlas')\n",
    "ax2 = ax[2].imshow(Ishow_target, cmap = mpl.cm.Blues,alpha=0.9)\n",
    "ax2 = ax[2].imshow(Ishow_source[0,:,:,0], cmap = mpl.cm.Reds,alpha=0.3)\n",
    "ax[2].set_title('Overlayed')\n",
    "\n",
    "plt.show()\n"
   ]
  },
  {
   "cell_type": "code",
   "execution_count": null,
   "id": "57fa9d49-9459-4464-8d89-4d20ba4b793b",
   "metadata": {
    "ExecuteTime": {
     "end_time": "2024-01-31T13:29:46.144227Z",
     "start_time": "2024-01-31T13:29:24.919242Z"
    },
    "collapsed": false,
    "jupyter": {
     "outputs_hidden": false
    }
   },
   "outputs": [],
   "source": [
    "verts, faces, normals, values = skimage.measure.marching_cubes(vol>0,0.8,spacing = dxA)\n",
    "verts = verts + np.array([x[0] for x in xA])\n",
    "fig = plt.figure(figsize=(10, 10))\n",
    "ax = fig.add_subplot(111, projection='3d')\n",
    "mesh = Poly3DCollection(verts[faces])\n",
    "#mesh.set_edgecolor('k')\n",
    "mesh.set_facecolor('r')\n",
    "mesh.set_alpha(0.2)\n",
    "ax.add_collection3d(mesh)\n",
    "ax.set_xlim(-8000, 8000)  # a = 6 (times two for 2nd ellipsoid)\n",
    "ax.set_ylim(-8000, 8000)  # b = 10\n",
    "ax.set_zlim(-8000, 8000)  # c = 16\n",
    "x = df['coord0']\n",
    "y = df['coord1']\n",
    "z = df['coord2']\n",
    "#ax.grid(True)\n",
    "#ax.set_xticks([])\n",
    "#ax.set_yticks([])\n",
    "#ax.set_zticks([])\n",
    "#pos1 = ax.get_position()\n",
    "#pos = [pos1.x0 +0.3, pos1.y0+0.3, pos1.width/2, pos1.height/2]\n",
    "#ax.set_position(pos)\n",
    "ax.scatter3D(x,y,z, s= 0.1)\n",
    "\n",
    "#ax.view_init(-240, 90)\n",
    "#ax.view_init(-90, 120)"
   ]
  },
  {
   "cell_type": "code",
   "execution_count": null,
   "id": "1575c1fb-d39d-4e5e-8476-b4e220bc7e7b",
   "metadata": {
    "ExecuteTime": {
     "end_time": "2024-01-31T13:30:08.351975Z",
     "start_time": "2024-01-31T13:30:02.833431Z"
    },
    "collapsed": false,
    "jupyter": {
     "outputs_hidden": false
    }
   },
   "outputs": [],
   "source": [
    "STalign.plot_brain_regions(df)"
   ]
  },
  {
   "cell_type": "code",
   "execution_count": null,
   "id": "28c659cd-9f57-4f52-bbfb-0b3dd7c64df0",
   "metadata": {
    "ExecuteTime": {
     "end_time": "2024-01-31T13:30:21.333793Z",
     "start_time": "2024-01-31T13:30:20.982772Z"
    },
    "collapsed": false,
    "jupyter": {
     "outputs_hidden": false
    }
   },
   "outputs": [],
   "source": [
    "brain_regions = ['CA1']\n",
    "STalign.plot_subset_brain_regions(df, brain_regions)"
   ]
  },
  {
   "cell_type": "code",
   "execution_count": null,
   "id": "cd2692ca-49c7-4e16-8c72-152fa77f1d0a",
   "metadata": {
    "ExecuteTime": {
     "end_time": "2024-01-31T13:30:22.192182Z",
     "start_time": "2024-01-31T13:30:21.338071Z"
    },
    "collapsed": false,
    "jupyter": {
     "outputs_hidden": false
    }
   },
   "outputs": [],
   "source": [
    "brain_regions = ['SSp-bfd5', 'SSp-bfd6a', 'SSp-bfd6b', 'SSp-bfd4', 'SSp-bfd2/3', 'SSp-bfd1']\n",
    "STalign.plot_subset_brain_regions(df, brain_regions)"
   ]
  },
  {
   "cell_type": "code",
   "execution_count": null,
   "id": "7c199496-7b5b-4b47-8235-e76ba8e3bf39",
   "metadata": {
    "ExecuteTime": {
     "end_time": "2024-01-31T13:30:33.837997Z",
     "start_time": "2024-01-31T13:30:33.657251Z"
    },
    "tags": []
   },
   "outputs": [],
   "source": [
    "df.to_csv(f\"{result_folder_path}/spatial_8327576_well11_aligned_to_atlas.csv\")"
   ]
  },
  {
   "cell_type": "code",
   "execution_count": null,
   "id": "274d6fe3-6ef7-4446-9f4c-b75c6db17016",
   "metadata": {},
   "outputs": [],
   "source": []
  },
  {
   "cell_type": "code",
   "execution_count": null,
   "id": "a7ce4f67-8274-4fad-abf1-61121ae0b330",
   "metadata": {},
   "outputs": [],
   "source": []
  },
  {
   "cell_type": "markdown",
   "id": "743702d0-a1d4-4fc4-86d8-56b31802efab",
   "metadata": {},
   "source": [
    "Import aligned model output for the sample 'well11'."
   ]
  },
  {
   "cell_type": "code",
   "execution_count": null,
   "id": "36b3d169-ee31-429a-82db-6a6dacf6a6ca",
   "metadata": {
    "ExecuteTime": {
     "end_time": "2024-02-02T12:57:16.611704Z",
     "start_time": "2024-02-02T12:57:16.062144Z"
    },
    "collapsed": false,
    "jupyter": {
     "outputs_hidden": false
    }
   },
   "outputs": [],
   "source": [
    "well11_aligned_coordinates = pd.read_csv(f\"{result_folder_path}/spatial_8327576_well11_aligned_to_atlas.csv\")\n",
    "with open(\"alignment_cell_index.pkl\", \"rb\") as file:\n",
    "    cell_index = pickle.load(file)\n",
    "allen_ontology = pd.read_csv(\"allen_ontology.csv\")\n",
    "\n",
    "well11_aligned_coordinates[\"cell_index\"] = cell_index\n",
    "well11_aligned_coordinates = well11_aligned_coordinates.set_index(\"cell_index\")\n",
    "\n",
    "well11_adata = model.adata[(model.adata.obs[\"label\"] == \"well11\") & (model.adata.obs[\"nichecompass_latent_cluster\"] != \"unassigned\")]\n",
    "\n",
    "well11_aligned_coordinates = well11_aligned_coordinates.loc[well11_adata.obs_names]\n",
    "\n",
    "well11_adata.obs[\"struct_id\"] = well11_aligned_coordinates[\"struct_id\"].tolist()\n",
    "well11_adata.obs[\"acronym\"] = well11_aligned_coordinates[\"acronym\"].tolist()\n"
   ]
  },
  {
   "cell_type": "markdown",
   "id": "836c7071-b0e7-4c9a-9c5f-ae66f188141d",
   "metadata": {},
   "source": [
    "Show spatial distribution for the isocortex only (feature 315)."
   ]
  },
  {
   "cell_type": "code",
   "execution_count": null,
   "id": "ffff014d-1486-4061-b845-e2d95be38f68",
   "metadata": {
    "ExecuteTime": {
     "end_time": "2024-02-02T13:15:01.397653Z",
     "start_time": "2024-02-02T13:14:58.525998Z"
    },
    "collapsed": false,
    "jupyter": {
     "outputs_hidden": false
    }
   },
   "outputs": [],
   "source": [
    "allen_ontology_isocortex = allen_ontology[allen_ontology[\"structure_id_path\"].str.startswith(\"/997/8/567/688/695/315/\")]\n",
    "\n",
    "ontology_order_isocortex = allen_ontology_isocortex[\"id\"].tolist()\n",
    "\n",
    "cluster_composition = well11_adata.obs.groupby([\"nichecompass_latent_sub_cluster_label\", \"struct_id\"], observed=False).size().unstack()\n",
    "cluster_composition = cluster_composition[[x for x in ontology_order_isocortex if x in cluster_composition.columns]]\n",
    "\n",
    "clusters = cluster_composition.index[cluster_composition.sum(axis=1) > 250].tolist()\n",
    "\n",
    "well11_aligned_coordinates_roi = well11_aligned_coordinates[well11_aligned_coordinates[\"struct_id\"].isin(ontology_order_isocortex)]\n",
    "\n",
    "categories = well11_aligned_coordinates_roi[\"struct_id\"].astype(str).fillna(\"Unknown\").unique().tolist()\n",
    "colours = color_palette([\"#b4b4b4\", \"#c0c0c0\", \"#cdcdcd\", \"#dadada\"], len(categories))\n",
    "colour_map = {key: value for key, value in zip(categories, colours)}\n",
    "\n",
    "fig, axs = plt.subplots(math.ceil(len(clusters)/4), 4, sharex=True, sharey=True)\n",
    "\n",
    "for ax, cluster in zip(axs.flat, clusters):\n",
    "\n",
    "    roi = well11_aligned_coordinates[((well11_adata.obs[\"nichecompass_latent_sub_cluster_label\"] == cluster) & (well11_adata.obs[\"struct_id\"].isin(ontology_order_isocortex))).tolist()]\n",
    "    \n",
    "    roi_adata = well11_adata[((well11_adata.obs[\"nichecompass_latent_sub_cluster_label\"] == cluster) & (well11_adata.obs[\"struct_id\"].isin(ontology_order_isocortex))).tolist()]\n",
    "    \n",
    "    primary_cluster = roi_adata.obs[\"nichecompass_latent_cluster\"].unique().tolist()[0]\n",
    "\n",
    "    ax.scatter(\n",
    "        [x * -1 for x in well11_aligned_coordinates_roi[\"y\"].tolist()],\n",
    "        [x * -1 for x in well11_aligned_coordinates_roi[\"x\"].tolist()],\n",
    "        c=well11_aligned_coordinates_roi[\"struct_id\"].astype(str).fillna(\"Unknown\").map(colour_map),\n",
    "        s=0.05,\n",
    "        rasterized=True\n",
    "    )\n",
    "\n",
    "    ax.scatter(\n",
    "        [x * -1 for x in roi[\"y\"].tolist()],\n",
    "        [x * -1 for x in roi[\"x\"].tolist()],\n",
    "        c=niche_color_map[primary_cluster],\n",
    "        s=1,\n",
    "        rasterized=True\n",
    "    )\n",
    "\n",
    "    ax.set_title(cluster)\n",
    "    ax.set_aspect('equal')\n",
    "    ax.axis('off')\n",
    "\n",
    "fig.tight_layout()\n",
    "\n",
    "fig.set_figheight(13)\n",
    "fig.set_figwidth(10)\n",
    "fig.savefig(f'{figure_folder_path}/e1.svg', dpi=300)\n",
    "plt.show()"
   ]
  },
  {
   "cell_type": "markdown",
   "id": "5da25d18-72c5-46b9-9748-6a2481d6104c",
   "metadata": {},
   "source": [
    "Show the section side-by-side with the reference annotation."
   ]
  },
  {
   "cell_type": "code",
   "execution_count": null,
   "id": "e54bef0c-8c74-42ed-934d-bed7380fcb06",
   "metadata": {
    "ExecuteTime": {
     "end_time": "2024-02-02T13:15:06.185583Z",
     "start_time": "2024-02-02T13:15:04.899024Z"
    },
    "collapsed": false,
    "jupyter": {
     "outputs_hidden": false
    }
   },
   "outputs": [],
   "source": [
    "categories = well11_aligned_coordinates[\"struct_id\"].astype(str).fillna(\"Unknown\").unique().tolist()\n",
    "colours = color_palette([\"#b4b4b4\", \"#c0c0c0\", \"#cdcdcd\", \"#dadada\"], len(categories))\n",
    "colour_map = {key: value for key, value in zip(categories, colours)}\n",
    "\n",
    "categories = well11_adata.obs[\"nichecompass_latent_cluster\"].astype(str).fillna(\"Unknown\").unique().tolist()\n",
    "\n",
    "fig, axs = plt.subplots(1, 2, sharey=True, sharex=True)\n",
    "fig.set_figheight(6)\n",
    "fig.set_figwidth(6)\n",
    "\n",
    "axs[0].scatter(\n",
    "    [x * -1 for x in well11_aligned_coordinates[\"y\"].tolist()],\n",
    "    [x * -1 for x in well11_aligned_coordinates[\"x\"].tolist()],\n",
    "    c=well11_adata.obs[\"nichecompass_latent_cluster\"].astype(str).fillna(\"Unknown\").map(niche_color_map),\n",
    "    s=0.01,\n",
    "    rasterized=True\n",
    ")\n",
    "\n",
    "axs[1].scatter(\n",
    "    [x * -1 for x in well11_aligned_coordinates[\"y\"].tolist()],\n",
    "    [x * -1 for x in well11_aligned_coordinates[\"x\"].tolist()],\n",
    "    c=well11_aligned_coordinates[\"struct_id\"].astype(str).fillna(\"Unknown\").map(colour_map),\n",
    "    s=1,\n",
    "    rasterized=True\n",
    ")\n",
    "\n",
    "hfont = {'fontname':'Helvetica'}\n",
    "\n",
    "axs[0].set_title(\"Niches\", **hfont)\n",
    "axs[0].set_aspect('equal')\n",
    "axs[0].axis('off')\n",
    "\n",
    "axs[1].set_title(\"Reference\", **hfont)\n",
    "axs[1].set_aspect('equal')\n",
    "axs[1].axis('off')\n",
    "\n",
    "legend_handles = [plt.plot([], marker=\"o\", ls=\"\", color=colour)[0] for colour in niche_color_map.values()]\n",
    "axs[0].legend(legend_handles,\n",
    "              niche_color_map.keys(),\n",
    "              bbox_to_anchor=(0, 1, 1, 0),\n",
    "              loc='lower left',\n",
    "              ncols=5,\n",
    "              borderaxespad=5,\n",
    "              title=\"Niches\",\n",
    "              frameon=False)\n",
    "\n",
    "fig.set_figheight(6)\n",
    "fig.set_figwidth(6)\n",
    "fig.savefig(f'{figure_folder_path}/d1.svg', bbox_inches=\"tight\", dpi=300)\n",
    "plt.show()"
   ]
  },
  {
   "cell_type": "markdown",
   "id": "7eb08e58-7866-4b2e-baf1-a4264c1a37b8",
   "metadata": {},
   "source": [
    "### 3.2 Save Results"
   ]
  },
  {
   "cell_type": "code",
   "execution_count": null,
   "id": "64e2a7ac-8d25-4d2d-aa75-09a0841dd720",
   "metadata": {},
   "outputs": [],
   "source": [
    "# Log normalize counts for cellxgene server\n",
    "model.adata.layers['counts'] = model.adata.X\n",
    "sc.pp.normalize_total(model.adata, target_sum=1e4)\n",
    "sc.pp.log1p(model.adata)\n",
    "\n",
    "# Store gp summary in adata\n",
    "gp_summary = model.get_gp_summary()\n",
    "for col in gp_summary.columns:\n",
    "    gp_summary[col] = gp_summary[col].astype(str)\n",
    "model.adata.uns[\"nichecompass_gp_summary\"] = gp_summary\n",
    "\n",
    "model.adata.write(f\"{result_folder_path}/{dataset}_analysis.h5ad\")"
   ]
  },
  {
   "cell_type": "code",
   "execution_count": null,
   "id": "0dbef25b-d55b-4314-bd84-95da9b36d2ac",
   "metadata": {},
   "outputs": [],
   "source": []
  }
 ],
 "metadata": {
  "kernelspec": {
   "display_name": "Python 3 (ipykernel)",
   "language": "python",
   "name": "python3"
  },
  "language_info": {
   "codemirror_mode": {
    "name": "ipython",
    "version": 3
   },
   "file_extension": ".py",
   "mimetype": "text/x-python",
   "name": "python",
   "nbconvert_exporter": "python",
   "pygments_lexer": "ipython3",
   "version": "3.9.19"
  },
  "toc-autonumbering": false,
  "toc-showcode": false,
  "toc-showmarkdowntxt": false
 },
 "nbformat": 4,
 "nbformat_minor": 5
}
