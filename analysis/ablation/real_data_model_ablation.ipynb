{
 "cells": [
  {
   "cell_type": "markdown",
   "id": "1b1daabf-c8e3-43d4-aa32-9789abcc8619",
   "metadata": {},
   "source": [
    "# Real Data Model Ablation"
   ]
  },
  {
   "cell_type": "markdown",
   "id": "c325d921-2077-42b3-90a8-6f6c7dd928c5",
   "metadata": {},
   "source": [
    "- **Creator**: Sebastian Birk (<sebastian.birk@helmholtz-munich.de>)\n",
    "- **Date of Creation:** 08.10.2024\n",
    "- **Date of Last Modification:** 21.12.2024"
   ]
  },
  {
   "cell_type": "markdown",
   "id": "2d464ebf-354f-4f61-8040-c3dcbcc893b9",
   "metadata": {},
   "source": [
    "## 1. Setup"
   ]
  },
  {
   "cell_type": "markdown",
   "id": "94c7551a-013a-444f-8e2c-7d94290d6388",
   "metadata": {},
   "source": [
    "Run this notebook in the nichecompass-reproducibility environment, installable from ```('../../../envs/environment.yaml')```.\n",
    "\n",
    "Before running this notebook:\n",
    "- Clone SDMBench from https://github.com/zhaofangyuan98/SDMBench.git into ```('../benchmarking')``` (some slight modifications to the SDMBench source code were necessary to remove technical bugs).\n",
    "    - Move _compute_CHAOS function into compute_CHAOS\n",
    "    - Move _compute_PAS function into compute_PAS\n",
    "    - Move fx_kNN function into compute_PAS\n",
    "    - Move fx_1NN function into compute_CHAOS"
   ]
  },
  {
   "cell_type": "markdown",
   "id": "35bc3272-3a16-4ad1-8ed2-a19c7e1d5f3b",
   "metadata": {},
   "source": [
    "### 1.1 Import Libraries"
   ]
  },
  {
   "cell_type": "code",
   "execution_count": null,
   "id": "2101ff58-7ca9-4de4-a2df-25c8930ae54f",
   "metadata": {},
   "outputs": [],
   "source": [
    "%load_ext autoreload\n",
    "%autoreload 2"
   ]
  },
  {
   "cell_type": "code",
   "execution_count": null,
   "id": "d2e52723-1845-42a5-b850-2c298aed9b09",
   "metadata": {},
   "outputs": [],
   "source": [
    "import sys\n",
    "sys.path.append(\"../benchmarking/SDMBench/SDMBench\")\n",
    "sys.path.append(\"../../utils\")"
   ]
  },
  {
   "cell_type": "code",
   "execution_count": null,
   "id": "f4d8dd3d-9964-4dfe-b7e0-06308b21dfb9",
   "metadata": {},
   "outputs": [],
   "source": [
    "import gc\n",
    "import math\n",
    "import os\n",
    "import warnings\n",
    "\n",
    "import anndata as ad\n",
    "import scanpy as sc\n",
    "import scib_metrics\n",
    "import squidpy as sq\n",
    "from nichecompass.benchmarking import compute_benchmarking_metrics\n",
    "\n",
    "from SDMBench import sdmbench\n",
    "from benchmarking_utils import *"
   ]
  },
  {
   "cell_type": "markdown",
   "id": "f099ad3b-0ee9-4e90-b771-62994c232c9d",
   "metadata": {},
   "source": [
    "### 1.2 Run Notebook Setup"
   ]
  },
  {
   "cell_type": "code",
   "execution_count": null,
   "id": "efdf341e-4b90-45d2-ba3b-c74e04937333",
   "metadata": {},
   "outputs": [],
   "source": [
    "warnings.filterwarnings(\"ignore\")\n",
    "pd.set_option('display.max_columns', None)\n",
    "pd.set_option('display.max_rows', None)"
   ]
  },
  {
   "cell_type": "code",
   "execution_count": null,
   "id": "d98964e6-178b-468f-9634-2b5ab59fdec5",
   "metadata": {},
   "outputs": [],
   "source": [
    "plt.rcParams['font.family'] = 'Helvetica'\n",
    "plt.rcParams['font.size'] = 10"
   ]
  },
  {
   "cell_type": "markdown",
   "id": "04497897-1669-4a5c-a6cd-dddddd7a2388",
   "metadata": {},
   "source": [
    "### 1.3 Configure Paths"
   ]
  },
  {
   "cell_type": "code",
   "execution_count": null,
   "id": "e990071f-ae14-416a-ae8c-e450577fa099",
   "metadata": {},
   "outputs": [],
   "source": [
    "artifacts_folder_path = f\"../../artifacts\""
   ]
  },
  {
   "cell_type": "markdown",
   "id": "df0e53af-7ae5-48a6-8d49-7692103346ad",
   "metadata": {},
   "source": [
    "### 1.4 Define Functions"
   ]
  },
  {
   "cell_type": "code",
   "execution_count": null,
   "id": "418e707e-64c5-4c86-9220-d45dc75c5902",
   "metadata": {},
   "outputs": [],
   "source": [
    "def compute_metrics(run_dict,\n",
    "                    hyperparam_dict,\n",
    "                    job_ids=[]):\n",
    "    for subdir, dirs, files in os.walk(model_folder_path):\n",
    "        for file in files:\n",
    "            if file == f\"{dataset_name}_{ablation_task}.h5ad\":\n",
    "                file_path = os.path.join(subdir, file)\n",
    "                print(f\"Loading file: {file_path}\")\n",
    "                adata = ad.read_h5ad(file_path)\n",
    "                job_id = int(subdir[-2:].strip(\"_\"))\n",
    "                \n",
    "                if job_id not in job_ids:\n",
    "                    run_dict[\"dataset\"].append(dataset_name)\n",
    "                    run_dict[\"job_id\"].append(job_id)\n",
    "                    run_dict[\"seed\"].append(((job_id - 1) % 8))\n",
    "                    for key, values in hyperparam_dict.items():\n",
    "                        run_dict[key].append(values[(math.floor((job_id - 1) / 8))])\n",
    "\n",
    "                    metrics = scib_metrics.nmi_ari_cluster_labels_kmeans(\n",
    "                        adata.obsm[\"nichecompass_latent\"],\n",
    "                        adata.obs[\"Main_molecular_tissue_region\"])\n",
    "\n",
    "                    run_dict[\"nnmi\"].append(metrics[\"nmi\"])\n",
    "                    run_dict[\"nari\"].append(metrics[\"ari\"])\n",
    "\n",
    "                    del(adata)\n",
    "                    gc.collect()\n",
    "\n",
    "                    run_df = pd.DataFrame(run_dict)\n",
    "                    run_df.to_csv(f\"{artifacts_folder_path}/ablation/{dataset_name}_metrics_{ablation_task}.csv\", index=False)\n",
    "                else:\n",
    "                    continue"
   ]
  },
  {
   "cell_type": "markdown",
   "id": "8e9f5cd9-9749-4612-abd4-f18e79d489fc",
   "metadata": {},
   "source": [
    "## 2. Compute Metrics"
   ]
  },
  {
   "cell_type": "markdown",
   "id": "1f9ac53f-6996-4f83-8c4b-b405b86d0ec8",
   "metadata": {},
   "source": [
    "### 2.1 Loss Ablation"
   ]
  },
  {
   "cell_type": "raw",
   "id": "d283b2df-afba-403b-ba1b-445d342997a5",
   "metadata": {},
   "source": [
    "dataset_name = \"starmap_plus_mouse_cns\"\n",
    "ablation_task = \"loss_ablation\"\n",
    "model_folder_path = f\"{artifacts_folder_path}/{dataset_name}/models/{ablation_task}\"\n",
    "\n",
    "hyperparam_dict = {\"lambda_edge_recon\": [500000., 0., 500000., 50000., 500000.],\n",
    "                   \"lambda_gene_expr_recon\": [300., 300., 0., 300., 30]}\n",
    "run_dict = {\"dataset\": [],\n",
    "            \"job_id\": [],\n",
    "            \"seed\": [],\n",
    "            \"nnmi\": [],\n",
    "            \"nari\": []}\n",
    "            \n",
    "for hyperparam in hyperparam_dict.keys():\n",
    "    run_dict[hyperparam] = []\n",
    "    \n",
    "compute_metrics(run_dict,\n",
    "                hyperparam_dict)"
   ]
  },
  {
   "cell_type": "markdown",
   "id": "7e94633a-4458-4953-a469-5323973e8588",
   "metadata": {},
   "source": [
    "### 2.2 Loss Ablation Extended"
   ]
  },
  {
   "cell_type": "raw",
   "id": "3151823b-5d3a-426d-a0dd-95f239a2dac4",
   "metadata": {},
   "source": [
    "dataset_name = \"starmap_plus_mouse_cns\"\n",
    "ablation_task = \"loss_extended_ablation\"\n",
    "model_folder_path = f\"{artifacts_folder_path}/{dataset_name}/models/{ablation_task}\"\n",
    "\n",
    "hyperparam_dict = {\"lambda_l1_masked\": [0., 0., 0., 0., 3., 30., 300.],\n",
    "                   \"lambda_l1_addon\": [0., 3., 30., 300., 3., 30., 300.]}\n",
    "\n",
    "run_dict = {\"dataset\": [],\n",
    "            \"job_id\": [],\n",
    "            \"seed\": [],\n",
    "            \"nnmi\": [],\n",
    "            \"nari\": []}\n",
    "\n",
    "for hyperparam in hyperparam_dict.keys():\n",
    "    run_dict[hyperparam] = []\n",
    "    \n",
    "compute_metrics(run_dict,\n",
    "                hyperparam_dict)"
   ]
  },
  {
   "cell_type": "markdown",
   "id": "55ae7924-ddaf-44c9-a1db-a5cec79f03a8",
   "metadata": {},
   "source": [
    "### 2.3 Encoder Ablation"
   ]
  },
  {
   "cell_type": "raw",
   "id": "d7455e65-e0ab-40f9-8a18-2049315f945b",
   "metadata": {},
   "source": [
    "dataset_name = \"starmap_plus_mouse_cns\"\n",
    "ablation_task = \"encoder_ablation\"\n",
    "model_folder_path = f\"{artifacts_folder_path}/{dataset_name}/models/{ablation_task}\"\n",
    "\n",
    "hyperparam_dict = {\"conv_layer_encoder\": [\"gcnconv\", \"gatv2conv\"]}\n",
    "\n",
    "run_dict = {\"dataset\": [],\n",
    "            \"job_id\": [],\n",
    "            \"seed\": [],\n",
    "            \"nnmi\": [],\n",
    "            \"nari\": []}\n",
    "\n",
    "for hyperparam in hyperparam_dict.keys():\n",
    "    run_dict[hyperparam] = []\n",
    "    \n",
    "compute_metrics(run_dict,\n",
    "                hyperparam_dict)"
   ]
  },
  {
   "cell_type": "markdown",
   "id": "7373c7b4-d389-49d2-9d19-cfa37b0b4d92",
   "metadata": {},
   "source": [
    "### 2.4 Neighbor Ablation"
   ]
  },
  {
   "cell_type": "raw",
   "id": "562dd65e-abd3-44b9-b225-53d53b18a5c5",
   "metadata": {},
   "source": [
    "dataset_name = \"starmap_plus_mouse_cns\"\n",
    "ablation_task = \"neighbor_ablation\"\n",
    "model_folder_path = f\"{artifacts_folder_path}/{dataset_name}/models/{ablation_task}\"\n",
    "\n",
    "hyperparam_dict = {\"n_neighbors\": [4, 8, 12, 16, 20]}\n",
    "\n",
    "run_dict = {\"dataset\": [],\n",
    "            \"job_id\": [],\n",
    "            \"seed\": [],\n",
    "            \"nnmi\": [],\n",
    "            \"nari\": []}\n",
    "\n",
    "for hyperparam in hyperparam_dict.keys():\n",
    "    run_dict[hyperparam] = []\n",
    "\n",
    "compute_metrics(run_dict,\n",
    "                hyperparam_dict)"
   ]
  },
  {
   "cell_type": "markdown",
   "id": "6ccd1e92-6da9-4d96-9fab-9f0ae5163c64",
   "metadata": {},
   "source": [
    "### 2.5 De novo GP Ablation"
   ]
  },
  {
   "cell_type": "raw",
   "id": "92f1d709-1080-471f-a6b2-1978182e0a3b",
   "metadata": {},
   "source": [
    "dataset_name = \"starmap_plus_mouse_cns\"\n",
    "ablation_task = \"denovogp_ablation\"\n",
    "model_folder_path = f\"{artifacts_folder_path}/{dataset_name}/models/{ablation_task}\"\n",
    "\n",
    "hyperparam_dict = {\"n_addon_gp\": [0, 10, 30, 100, 500]}\n",
    "\n",
    "run_dict = {\"dataset\": [],\n",
    "            \"job_id\": [],\n",
    "            \"seed\": [],\n",
    "            \"nnmi\": [],\n",
    "            \"nari\": []}\n",
    "\n",
    "for hyperparam in hyperparam_dict.keys():\n",
    "    run_dict[hyperparam] = []\n",
    "\n",
    "compute_metrics(run_dict,\n",
    "                hyperparam_dict)"
   ]
  },
  {
   "cell_type": "markdown",
   "id": "1d06a7db-0226-4494-9f27-e10aed576a3e",
   "metadata": {},
   "source": [
    "### 2.6 GP Selection Ablation"
   ]
  },
  {
   "cell_type": "raw",
   "id": "2466cb6c-6628-4d8c-9528-c37e8fa80ec3",
   "metadata": {},
   "source": [
    "dataset_name = \"starmap_plus_mouse_cns\"\n",
    "ablation_task = \"gpselection_ablation\"\n",
    "model_folder_path = f\"{artifacts_folder_path}/{dataset_name}/models/{ablation_task}\"\n",
    "\n",
    "hyperparam_dict = {\"active_gp_thresh_ratio\": [0., 0.01, 0.03, 0.1, 0.3, 0.5, 1]}\n",
    "\n",
    "run_dict = {\"dataset\": [],\n",
    "            \"job_id\": [],\n",
    "            \"seed\": [],\n",
    "            \"nnmi\": [],\n",
    "            \"nari\": []}\n",
    "\n",
    "for hyperparam in hyperparam_dict.keys():\n",
    "    run_dict[hyperparam] = []\n",
    "\n",
    "compute_metrics(run_dict,\n",
    "                hyperparam_dict)    "
   ]
  },
  {
   "cell_type": "markdown",
   "id": "e78945e2-6715-4e8f-8ca6-f474d8c67ed4",
   "metadata": {},
   "source": [
    "### 2.7 No Prior GP Ablation"
   ]
  },
  {
   "cell_type": "raw",
   "id": "edc06a62-06e1-430b-915a-7aa173962aa4",
   "metadata": {},
   "source": [
    "dataset_name = \"starmap_plus_mouse_cns\"\n",
    "ablation_task = \"nopriorgp_ablation\"\n",
    "model_folder_path = f\"{artifacts_folder_path}/{dataset_name}/models/{ablation_task}\"\n",
    "\n",
    "hyperparam_dict = {\"priorgp\": [1, 0]}\n",
    "\n",
    "run_dict = {\"dataset\": [],\n",
    "            \"job_id\": [],\n",
    "            \"seed\": [],\n",
    "            \"nnmi\": [],\n",
    "            \"nari\": []}\n",
    "\n",
    "for hyperparam in hyperparam_dict.keys():\n",
    "    run_dict[hyperparam] = []\n",
    "    \n",
    "compute_metrics(run_dict,\n",
    "                hyperparam_dict)"
   ]
  },
  {
   "cell_type": "markdown",
   "id": "aaf904cf-3d60-4150-93cb-d24d28b88080",
   "metadata": {},
   "source": [
    "## 3. Visualize Results"
   ]
  },
  {
   "cell_type": "markdown",
   "id": "a9de86c4-d578-4437-9d0a-6bf0e3aeff1f",
   "metadata": {},
   "source": [
    "### 3.1 Loss Ablation"
   ]
  },
  {
   "cell_type": "code",
   "execution_count": null,
   "id": "15aad70d-9112-477f-9826-939f9c89e87b",
   "metadata": {},
   "outputs": [],
   "source": [
    "dataset_name = \"starmap_plus_mouse_cns\"\n",
    "ablation_task = \"loss_ablation\"\n",
    "run_df = pd.read_csv(f\"{artifacts_folder_path}/ablation/{dataset_name}_metrics_{ablation_task}.csv\")\n",
    "\n",
    "run_df.sort_values(by=\"job_id\", ascending=True, inplace=True)"
   ]
  },
  {
   "cell_type": "code",
   "execution_count": null,
   "id": "4b2cbb8f-c756-4754-84a1-3f25ec1ea8d3",
   "metadata": {},
   "outputs": [],
   "source": [
    "### Supplementary Fig. 12a ###\n",
    "cat = \"Loss\"\n",
    "title = \"Edge & Gene Expression Reconstruction Ablation\"\n",
    "\n",
    "mapping_dict = {\"500000.0_300.0\": \"Balanced Edge & Gene Expr Recon\",\n",
    "                \"0.0_300.0\": \"Only Gene Expr Recon\",\n",
    "                \"500000.0_0.0\": \"Only Edge Recon\",\n",
    "                \"50000.0_300.0\": \"Weak Edge Recon\",\n",
    "                \"500000.0_30.0\": \"Weak Gene Expr Recon\"\n",
    "               }\n",
    "\n",
    "col1 = \"lambda_edge_recon\"\n",
    "col2 = \"lambda_gene_expr_recon\"\n",
    "\n",
    "def map_values(row):\n",
    "    return mapping_dict.get((str(row[col1]) + \"_\" + str(row[col2])), \"NA\")\n",
    "\n",
    "run_df[\"Loss\"] = run_df.apply(lambda row: map_values(row), axis=1)\n",
    "\n",
    "metric = \"nnmi\"\n",
    "\n",
    "plt.figure(figsize=(3, 1.5))\n",
    "sns.boxplot(x=metric, y=cat, data=run_df)\n",
    "sns.stripplot(x=metric,\n",
    "              y=cat,\n",
    "              data=run_df,\n",
    "              dodge=True,\n",
    "              alpha=0.6,\n",
    "              size=5,\n",
    "              jitter=0.2,\n",
    "              edgecolor=\"black\",\n",
    "              linewidth=0.5)\n",
    "plt.suptitle(title, x=0.09, ha=\"center\", va=\"top\", y=1.1)\n",
    "plt.xlabel(metric.upper().replace(\"NNMI\", \"NMI\"))\n",
    "plt.ylabel(cat.capitalize())\n",
    "plt.savefig(f\"{artifacts_folder_path}/ablation/{dataset_name}_{metric}_{ablation_task}.svg\", bbox_inches=\"tight\")\n",
    "plt.show()\n",
    "\n",
    "metric = \"nari\"\n",
    "\n",
    "plt.figure(figsize=(3, 1.5))\n",
    "sns.boxplot(x=metric, y=cat, data=run_df)\n",
    "sns.stripplot(x=metric,\n",
    "              y=cat,\n",
    "              data=run_df,\n",
    "              dodge=True,\n",
    "              alpha=0.6,\n",
    "              size=5,\n",
    "              jitter=0.2,\n",
    "              edgecolor=\"black\",\n",
    "              linewidth=0.5)\n",
    "plt.suptitle(title, x=0.09, ha=\"center\", va=\"top\", y=1.1)\n",
    "plt.xlabel(metric.upper().replace(\"NARI\", \"ARI\"))\n",
    "plt.ylabel(cat.capitalize())\n",
    "plt.savefig(f\"{artifacts_folder_path}/ablation/{dataset_name}_{metric}_{ablation_task}.svg\", bbox_inches=\"tight\")\n",
    "plt.show()"
   ]
  },
  {
   "cell_type": "markdown",
   "id": "5db79495-097e-4c75-b11e-7a70fc3b60af",
   "metadata": {},
   "source": [
    "### 3.2 Loss Ablation Extended"
   ]
  },
  {
   "cell_type": "code",
   "execution_count": null,
   "id": "423208de-ff47-461e-9860-492bfd54f936",
   "metadata": {},
   "outputs": [],
   "source": [
    "ablation_task = \"loss_extended_ablation\"\n",
    "run_df = pd.read_csv(f\"{artifacts_folder_path}/ablation/{dataset_name}_metrics_{ablation_task}.csv\")\n",
    "\n",
    "run_df.sort_values(by=\"job_id\", ascending=True, inplace=True)"
   ]
  },
  {
   "cell_type": "code",
   "execution_count": null,
   "id": "48216c46-bb0c-45bd-a14a-a1a083b4e417",
   "metadata": {},
   "outputs": [],
   "source": [
    "### Supplementary Fig. 12b ###\n",
    "cat = \"Loss\"\n",
    "title = \"Gene Expr Regularization Ablation\"\n",
    "\n",
    "mapping_dict = {\"0.0_0.0\": \"No Reg\",\n",
    "                \"0.0_3.0\": \"Only Weak De-novo Reg\",\n",
    "                \"0.0_30.0\": \"Only Medium De-novo Reg\",\n",
    "                \"0.0_300.0\": \"Only Strong De-novo Reg\",\n",
    "                \"3.0_3.0\": \"Weak Prior & De-novo Reg\",\n",
    "                \"30.0_30.0\": \"Medium Prior & De-novo Reg\",\n",
    "                \"300.0_300.0\": \"Strong Prior & De-novo Reg\",\n",
    "               }\n",
    "\n",
    "col1 = \"lambda_l1_masked\"\n",
    "col2 = \"lambda_l1_addon\"\n",
    "\n",
    "def map_values(row):\n",
    "    return mapping_dict.get((str(row[col1]) + \"_\" + str(row[col2])), \"NA\")\n",
    "\n",
    "run_df[\"Loss\"] = run_df.apply(lambda row: map_values(row), axis=1)\n",
    "\n",
    "metric = \"nnmi\"\n",
    "\n",
    "plt.figure(figsize=(3, 1.5))\n",
    "sns.boxplot(x=metric, y=cat, data=run_df)\n",
    "sns.stripplot(x=metric,\n",
    "              y=cat,\n",
    "              data=run_df,\n",
    "              dodge=True,\n",
    "              alpha=0.6,\n",
    "              size=5,\n",
    "              jitter=0.2,\n",
    "              edgecolor=\"black\",\n",
    "              linewidth=0.5)\n",
    "plt.suptitle(title, x=0.09, ha=\"center\", va=\"top\", y=1.1)\n",
    "plt.xlabel(metric.upper().replace(\"NNMI\", \"NMI\"))\n",
    "plt.ylabel(cat.capitalize())\n",
    "plt.savefig(f\"{artifacts_folder_path}/ablation/{dataset_name}_{metric}_{ablation_task}.svg\", bbox_inches=\"tight\")\n",
    "plt.show()\n",
    "\n",
    "metric = \"nari\"\n",
    "\n",
    "plt.figure(figsize=(3, 1.5))\n",
    "sns.boxplot(x=metric, y=cat, data=run_df)\n",
    "sns.stripplot(x=metric,\n",
    "              y=cat,\n",
    "              data=run_df,\n",
    "              dodge=True,\n",
    "              alpha=0.6,\n",
    "              size=5,\n",
    "              jitter=0.2,\n",
    "              edgecolor=\"black\",\n",
    "              linewidth=0.5)\n",
    "plt.suptitle(title, x=0.09, ha=\"center\", va=\"top\", y=1.1)\n",
    "plt.xlabel(metric.upper().replace(\"NARI\", \"ARI\"))\n",
    "plt.ylabel(cat.capitalize())\n",
    "plt.savefig(f\"{artifacts_folder_path}/ablation/{dataset_name}_{metric}_{ablation_task}.svg\", bbox_inches=\"tight\")\n",
    "plt.show()"
   ]
  },
  {
   "cell_type": "markdown",
   "id": "28f1c9eb-d16a-42b1-af83-f0991f8907c5",
   "metadata": {},
   "source": [
    "### 3.3 Encoder Ablation"
   ]
  },
  {
   "cell_type": "code",
   "execution_count": null,
   "id": "6feba5a6-2bd3-4319-91ec-adc9e51d59fb",
   "metadata": {},
   "outputs": [],
   "source": [
    "ablation_task = \"encoder_ablation\"\n",
    "run_df = pd.read_csv(f\"{artifacts_folder_path}/ablation/{dataset_name}_metrics_{ablation_task}.csv\")\n",
    "\n",
    "run_df.sort_values(by=\"job_id\", ascending=True, inplace=True)"
   ]
  },
  {
   "cell_type": "code",
   "execution_count": null,
   "id": "2a1ba922-d4d5-4e00-acd9-81e0e5eb67cf",
   "metadata": {},
   "outputs": [],
   "source": [
    "### Supplementary Fig. 12c ###\n",
    "cat = \"Encoder\"\n",
    "title = \"Encoder Ablation\"\n",
    "\n",
    "mapping_dict = {\"gcnconv\": \"GCNConv (NicheCompass Light)\",\n",
    "                \"gatv2conv\": \"GATv2Conv (NicheCompass)\",\n",
    "               }\n",
    "\n",
    "col1 = \"conv_layer_encoder\"\n",
    "\n",
    "def map_values(row):\n",
    "    return mapping_dict.get(str(row[col1]), \"NA\")\n",
    "\n",
    "run_df[\"Encoder\"] = run_df.apply(lambda row: map_values(row), axis=1)\n",
    "\n",
    "metric = \"nnmi\"\n",
    "\n",
    "plt.figure(figsize=(3, 1.5))\n",
    "sns.boxplot(x=metric, y=cat, data=run_df)\n",
    "sns.stripplot(x=metric,\n",
    "              y=cat,\n",
    "              data=run_df,\n",
    "              dodge=True,\n",
    "              alpha=0.6,\n",
    "              size=5,\n",
    "              jitter=0.2,\n",
    "              edgecolor=\"black\",\n",
    "              linewidth=0.5)\n",
    "plt.suptitle(title, x=0.09, ha=\"center\", va=\"top\", y=1.1)\n",
    "plt.xlabel(metric.upper().replace(\"NNMI\", \"NMI\"))\n",
    "plt.ylabel(cat.capitalize())\n",
    "plt.savefig(f\"{artifacts_folder_path}/ablation/{dataset_name}_{metric}_{ablation_task}.svg\", bbox_inches=\"tight\")\n",
    "plt.show()\n",
    "\n",
    "metric = \"nari\"\n",
    "\n",
    "plt.figure(figsize=(3, 1.5))\n",
    "sns.boxplot(x=metric, y=cat, data=run_df)\n",
    "sns.stripplot(x=metric,\n",
    "              y=cat,\n",
    "              data=run_df,\n",
    "              dodge=True,\n",
    "              alpha=0.6,\n",
    "              size=5,\n",
    "              jitter=0.2,\n",
    "              edgecolor=\"black\",\n",
    "              linewidth=0.5)\n",
    "plt.suptitle(title, x=0.09, ha=\"center\", va=\"top\", y=1.1)\n",
    "plt.xlabel(metric.upper().replace(\"NARI\", \"ARI\"))\n",
    "plt.ylabel(cat.capitalize())\n",
    "plt.savefig(f\"{artifacts_folder_path}/ablation/{dataset_name}_{metric}_{ablation_task}.svg\", bbox_inches=\"tight\")\n",
    "plt.show()"
   ]
  },
  {
   "cell_type": "markdown",
   "id": "7a325b18-58a3-47f8-bb1b-76b7346645a4",
   "metadata": {},
   "source": [
    "### 3.4 Neighbor Ablation"
   ]
  },
  {
   "cell_type": "code",
   "execution_count": null,
   "id": "b1641240-966a-43df-b18c-7b09bbb75ec6",
   "metadata": {},
   "outputs": [],
   "source": [
    "dataset_name = \"starmap_plus_mouse_cns\"\n",
    "ablation_task = \"neighbor_ablation\"\n",
    "run_df = pd.read_csv(f\"{artifacts_folder_path}/ablation/{dataset_name}_metrics_{ablation_task}.csv\")\n",
    "\n",
    "run_df.sort_values(by=\"n_neighbors\", ascending=True, inplace=True)"
   ]
  },
  {
   "cell_type": "code",
   "execution_count": null,
   "id": "859b302f-8bf2-46a6-a3f9-f09487da862a",
   "metadata": {},
   "outputs": [],
   "source": [
    "### Supplementary Fig. 12d ###\n",
    "cat = \"n_neighbors\"\n",
    "cat_label = \"KNN\"\n",
    "title = \"Neighborhood Ablation\"\n",
    "\n",
    "run_df[\"n_neighbors\"] = run_df[\"n_neighbors\"].apply(lambda x: str(x))\n",
    "\n",
    "metric = \"nnmi\"\n",
    "\n",
    "plt.figure(figsize=(3, 1.5))\n",
    "sns.boxplot(x=metric, y=cat, data=run_df)\n",
    "sns.stripplot(x=metric,\n",
    "              y=cat,\n",
    "              data=run_df,\n",
    "              dodge=True,\n",
    "              alpha=0.6,\n",
    "              size=5,\n",
    "              jitter=0.2,\n",
    "              edgecolor=\"black\",\n",
    "              linewidth=0.5)\n",
    "plt.suptitle(title, x=0.09, ha=\"center\", va=\"top\", y=1.1)\n",
    "plt.xlabel(metric.upper().replace(\"NNMI\", \"NMI\"))\n",
    "plt.ylabel(\"KNN\")\n",
    "plt.savefig(f\"{artifacts_folder_path}/ablation/{dataset_name}_{metric}_{ablation_task}.svg\", bbox_inches=\"tight\")\n",
    "plt.show()\n",
    "\n",
    "metric = \"nari\"\n",
    "\n",
    "plt.figure(figsize=(3, 1.5))\n",
    "sns.boxplot(x=metric, y=cat, data=run_df)\n",
    "sns.stripplot(x=metric,\n",
    "              y=cat,\n",
    "              data=run_df,\n",
    "              dodge=True,\n",
    "              alpha=0.6,\n",
    "              size=5,\n",
    "              jitter=0.2,\n",
    "              edgecolor=\"black\",\n",
    "              linewidth=0.5)\n",
    "plt.suptitle(title, x=0.09, ha=\"center\", va=\"top\", y=1.1)\n",
    "plt.xlabel(metric.upper().replace(\"NARI\", \"ARI\"))\n",
    "plt.ylabel(\"KNN\")\n",
    "plt.savefig(f\"{artifacts_folder_path}/ablation/{dataset_name}_{metric}_{ablation_task}.svg\", bbox_inches=\"tight\")\n",
    "plt.show()"
   ]
  },
  {
   "cell_type": "markdown",
   "id": "127d62c7-bb8a-4a6e-91cc-58ac2320683f",
   "metadata": {},
   "source": [
    "### 3.5 De novo GP Ablation"
   ]
  },
  {
   "cell_type": "code",
   "execution_count": null,
   "id": "e12dea7b-11c2-4755-aba0-989ada3da943",
   "metadata": {},
   "outputs": [],
   "source": [
    "dataset_name = \"starmap_plus_mouse_cns\"\n",
    "ablation_task = \"denovogp_ablation\"\n",
    "run_df = pd.read_csv(f\"{artifacts_folder_path}/ablation/{dataset_name}_metrics_{ablation_task}.csv\")\n",
    "\n",
    "run_df.sort_values(by=\"n_addon_gp\", ascending=True, inplace=True)"
   ]
  },
  {
   "cell_type": "code",
   "execution_count": null,
   "id": "6efcf352-fca9-4f42-9d98-3cdcc3ced0b7",
   "metadata": {},
   "outputs": [],
   "source": [
    "### Supplementary Fig. 12e ###\n",
    "cat = \"n_addon_gp\"\n",
    "cat_label = \"De-novo GPs\"\n",
    "title = \"De-Novo GP Ablation\"\n",
    "\n",
    "run_df[\"n_addon_gp\"] = run_df[\"n_addon_gp\"].apply(lambda x: str(x))\n",
    "\n",
    "metric = \"nnmi\"\n",
    "\n",
    "plt.figure(figsize=(3, 1.5))\n",
    "sns.boxplot(x=metric, y=cat, data=run_df)\n",
    "sns.stripplot(x=metric,\n",
    "              y=cat,\n",
    "              data=run_df,\n",
    "              dodge=True,\n",
    "              alpha=0.6,\n",
    "              size=5,\n",
    "              jitter=0.2,\n",
    "              edgecolor=\"black\",\n",
    "              linewidth=0.5)\n",
    "plt.suptitle(title, x=0.09, ha=\"center\", va=\"top\", y=1.1)\n",
    "plt.xlabel(metric.upper().replace(\"NNMI\", \"NMI\"))\n",
    "plt.ylabel(\"De-novo GPs\")\n",
    "plt.savefig(f\"{artifacts_folder_path}/ablation/{dataset_name}_{metric}_{ablation_task}.svg\", bbox_inches=\"tight\")\n",
    "plt.show()\n",
    "\n",
    "metric = \"nari\"\n",
    "\n",
    "plt.figure(figsize=(3, 1.5))\n",
    "sns.boxplot(x=metric, y=cat, data=run_df)\n",
    "sns.stripplot(x=metric,\n",
    "              y=cat,\n",
    "              data=run_df,\n",
    "              dodge=True,\n",
    "              alpha=0.6,\n",
    "              size=5,\n",
    "              jitter=0.2,\n",
    "              edgecolor=\"black\",\n",
    "              linewidth=0.5)\n",
    "plt.suptitle(title, x=0.09, ha=\"center\", va=\"top\", y=1.1)\n",
    "plt.xlabel(metric.upper().replace(\"NARI\", \"ARI\"))\n",
    "plt.ylabel(\"De-novo GPs\")\n",
    "plt.savefig(f\"{artifacts_folder_path}/ablation/{dataset_name}_{metric}_{ablation_task}.svg\", bbox_inches=\"tight\")\n",
    "plt.show()"
   ]
  },
  {
   "cell_type": "markdown",
   "id": "9f70b7c7-ea42-4afc-b5d8-8c84986e86fb",
   "metadata": {},
   "source": [
    "### 3.6 GP Selection Ablation"
   ]
  },
  {
   "cell_type": "code",
   "execution_count": null,
   "id": "ff53ca23-39fc-4f3c-8b39-7096fe59ff70",
   "metadata": {},
   "outputs": [],
   "source": [
    "dataset_name = \"starmap_plus_mouse_cns\"\n",
    "ablation_task = \"gpselection_ablation\"\n",
    "run_df = pd.read_csv(f\"{artifacts_folder_path}/ablation/{dataset_name}_metrics_{ablation_task}.csv\")\n",
    "\n",
    "run_df.sort_values(by=\"job_id\", ascending=True, inplace=True)"
   ]
  },
  {
   "cell_type": "code",
   "execution_count": null,
   "id": "9196d651-d2da-410d-b725-7d99fabf4e80",
   "metadata": {},
   "outputs": [],
   "source": [
    "### Supplementary Fig. 12f ###\n",
    "cat = \"active_gp_thresh_ratio\"\n",
    "title = \"GP Pruning Ablation\"\n",
    "\n",
    "run_df[\"active_gp_thresh_ratio\"] = run_df[\"active_gp_thresh_ratio\"].apply(lambda x: str(x))\n",
    "\n",
    "mapping_dict = {\"0.0_0.0\": \"No Reg\",\n",
    "                \"0.0_3.0\": \"Only Weak De-novo Reg\",\n",
    "                \"0.0_30.0\": \"Only Medium De-novo Reg\",\n",
    "                \"0.0_300.0\": \"Only Strong De-novo Reg\",\n",
    "                \"3.0_3.0\": \"Weak Prior & De-novo Reg\",\n",
    "                \"30.0_30.0\": \"Medium Prior & De-novo Reg\",\n",
    "                \"300.0_300.0\": \"Strong Prior & De-novo Reg\",\n",
    "               }\n",
    "\n",
    "metric = \"nnmi\"\n",
    "\n",
    "plt.figure(figsize=(3, 1.5))\n",
    "sns.boxplot(x=metric, y=cat, data=run_df)\n",
    "sns.stripplot(x=metric,\n",
    "              y=cat,\n",
    "              data=run_df,\n",
    "              dodge=True,\n",
    "              alpha=0.6,\n",
    "              size=5,\n",
    "              jitter=0.2,\n",
    "              edgecolor=\"black\",\n",
    "              linewidth=0.5)\n",
    "plt.suptitle(title, x=0.09, ha=\"center\", va=\"top\", y=1.1)\n",
    "plt.xlabel(metric.upper().replace(\"NNMI\", \"NMI\"))\n",
    "plt.ylabel(\"Active GP Thresh\")\n",
    "plt.savefig(f\"{artifacts_folder_path}/ablation/{dataset_name}_{metric}_{ablation_task}.svg\", bbox_inches=\"tight\")\n",
    "plt.show()\n",
    "\n",
    "metric = \"nari\"\n",
    "\n",
    "plt.figure(figsize=(3, 1.5))\n",
    "sns.boxplot(x=metric, y=cat, data=run_df)\n",
    "sns.stripplot(x=metric,\n",
    "              y=cat,\n",
    "              data=run_df,\n",
    "              dodge=True,\n",
    "              alpha=0.6,\n",
    "              size=5,\n",
    "              jitter=0.2,\n",
    "              edgecolor=\"black\",\n",
    "              linewidth=0.5)\n",
    "plt.suptitle(title, x=0.09, ha=\"center\", va=\"top\", y=1.1)\n",
    "plt.xlabel(metric.upper().replace(\"NARI\", \"ARI\"))\n",
    "plt.ylabel(\"Active GP Thresh\")\n",
    "plt.savefig(f\"{artifacts_folder_path}/ablation/{dataset_name}_{metric}_{ablation_task}.svg\", bbox_inches=\"tight\")\n",
    "plt.show()"
   ]
  },
  {
   "cell_type": "markdown",
   "id": "e31e4af5-a13e-491a-957c-7fbfbd7eebc5",
   "metadata": {},
   "source": [
    "### 3.7 No Prior GP Ablation"
   ]
  },
  {
   "cell_type": "code",
   "execution_count": null,
   "id": "8623f9cc-5e21-47f3-9a3a-be630d88b328",
   "metadata": {},
   "outputs": [],
   "source": [
    "dataset_name = \"starmap_plus_mouse_cns\"\n",
    "ablation_task = \"nopriorgp_ablation\"\n",
    "run_df = pd.read_csv(f\"{artifacts_folder_path}/ablation/{dataset_name}_metrics_{ablation_task}.csv\")\n",
    "\n",
    "run_df.sort_values(by=\"job_id\", ascending=True, inplace=True)"
   ]
  },
  {
   "cell_type": "code",
   "execution_count": null,
   "id": "c502807f-4221-49a6-baab-2ab1cf8fda53",
   "metadata": {},
   "outputs": [],
   "source": [
    "### Supplementary Fig. 12g ###\n",
    "cat = \"priorgp\"\n",
    "title = \"Prior GP Ablation\"\n",
    "\n",
    "mapping_dict = {0: \"No Prior GPs\",\n",
    "                1: \"Prior GPs\",\n",
    "               }\n",
    "\n",
    "\n",
    "def map_values(row):\n",
    "    return mapping_dict.get(row[cat])\n",
    "\n",
    "run_df[\"priorgp\"] = run_df.apply(lambda row: map_values(row), axis=1)\n",
    "\n",
    "metric = \"nnmi\"\n",
    "\n",
    "plt.figure(figsize=(3, 1.5))\n",
    "sns.boxplot(x=metric, y=cat, data=run_df)\n",
    "sns.stripplot(x=metric,\n",
    "              y=cat,\n",
    "              data=run_df,\n",
    "              dodge=True,\n",
    "              alpha=0.6,\n",
    "              size=5,\n",
    "              jitter=0.2,\n",
    "              edgecolor=\"black\",\n",
    "              linewidth=0.5)\n",
    "plt.suptitle(title, x=0.09, ha=\"center\", va=\"top\", y=1.1)\n",
    "plt.xlabel(metric.upper().replace(\"NNMI\", \"NMI\"))\n",
    "plt.ylabel(\"Use of Prior GPs\")\n",
    "plt.savefig(f\"{artifacts_folder_path}/ablation/{dataset_name}_{metric}_{ablation_task}.svg\", bbox_inches=\"tight\")\n",
    "plt.show()\n",
    "\n",
    "metric = \"nari\"\n",
    "\n",
    "plt.figure(figsize=(3, 1.5))\n",
    "sns.boxplot(x=metric, y=cat, data=run_df)\n",
    "sns.stripplot(x=metric,\n",
    "              y=cat,\n",
    "              data=run_df,\n",
    "              dodge=True,\n",
    "              alpha=0.6,\n",
    "              size=5,\n",
    "              jitter=0.2,\n",
    "              edgecolor=\"black\",\n",
    "              linewidth=0.5)\n",
    "plt.suptitle(title, x=0.09, ha=\"center\", va=\"top\", y=1.1)\n",
    "plt.xlabel(metric.upper().replace(\"NARI\", \"ARI\"))\n",
    "plt.ylabel(\"Use of Prior GPs\")\n",
    "plt.savefig(f\"{artifacts_folder_path}/ablation/{dataset_name}_{metric}_{ablation_task}.svg\", bbox_inches=\"tight\")\n",
    "plt.show()"
   ]
  }
 ],
 "metadata": {
  "kernelspec": {
   "display_name": "Python 3 (ipykernel)",
   "language": "python",
   "name": "python3"
  },
  "language_info": {
   "codemirror_mode": {
    "name": "ipython",
    "version": 3
   },
   "file_extension": ".py",
   "mimetype": "text/x-python",
   "name": "python",
   "nbconvert_exporter": "python",
   "pygments_lexer": "ipython3",
   "version": "3.9.19"
  }
 },
 "nbformat": 4,
 "nbformat_minor": 5
}
