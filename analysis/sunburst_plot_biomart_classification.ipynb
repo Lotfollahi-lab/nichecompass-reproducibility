{
 "cells": [
  {
   "cell_type": "markdown",
   "metadata": {},
   "source": [
    "#### Notebook for visualisation of gene programmes from `NicheCompass`\n",
    "- **Developed by:** Anna Maguza\n",
    "- **Modified by**: Carlos Talavera-López\n",
    "- **Faculty of Medicine, University of Würzburg**\n",
    "- **Creation Date:** 5th of July 2024\n",
    "- **Last modified**: 7th of October 2024"
   ]
  },
  {
   "cell_type": "markdown",
   "metadata": {},
   "source": [
    "### Load required modules"
   ]
  },
  {
   "cell_type": "code",
   "execution_count": 1,
   "metadata": {},
   "outputs": [],
   "source": [
    "import ast\n",
    "import mygene\n",
    "import numpy as np\n",
    "import scanpy as sc\n",
    "import pandas as pd\n",
    "import plotly.express as px\n",
    "import plotly.graph_objects as go\n",
    "from biomart import BiomartServer\n",
    "from collections import defaultdict"
   ]
  },
  {
   "cell_type": "markdown",
   "metadata": {},
   "source": [
    "### Set up working environment"
   ]
  },
  {
   "cell_type": "code",
   "execution_count": 2,
   "metadata": {},
   "outputs": [
    {
     "name": "stdout",
     "output_type": "stream",
     "text": [
      "-----\n",
      "anndata     0.10.8\n",
      "scanpy      1.10.2\n",
      "-----\n",
      "PIL                 10.3.0\n",
      "appnope             0.1.4\n",
      "asttokens           NA\n",
      "biomart             NA\n",
      "biothings_client    0.3.1\n",
      "certifi             2024.08.30\n",
      "charset_normalizer  3.3.2\n",
      "colorama            0.4.6\n",
      "comm                0.2.2\n",
      "cycler              0.12.1\n",
      "cython_runtime      NA\n",
      "dateutil            2.9.0.post0\n",
      "debugpy             1.8.1\n",
      "decorator           5.1.1\n",
      "executing           2.0.1\n",
      "h5py                3.11.0\n",
      "idna                3.10\n",
      "igraph              0.11.6\n",
      "ipykernel           6.29.5\n",
      "ipywidgets          8.1.3\n",
      "jedi                0.19.1\n",
      "joblib              1.4.2\n",
      "kiwisolver          1.4.5\n",
      "legacy_api_wrap     NA\n",
      "leidenalg           0.10.2\n",
      "llvmlite            0.42.0\n",
      "matplotlib          3.8.4\n",
      "mpl_toolkits        NA\n",
      "mygene              3.2.2\n",
      "natsort             8.4.0\n",
      "numba               0.59.1\n",
      "numpy               1.26.4\n",
      "packaging           24.0\n",
      "pandas              2.2.2\n",
      "parso               0.8.4\n",
      "platformdirs        4.2.1\n",
      "plotly              5.24.1\n",
      "prompt_toolkit      3.0.43\n",
      "psutil              5.9.8\n",
      "pure_eval           0.2.2\n",
      "pydev_ipython       NA\n",
      "pydevconsole        NA\n",
      "pydevd              2.9.5\n",
      "pydevd_file_utils   NA\n",
      "pydevd_plugins      NA\n",
      "pydevd_tracing      NA\n",
      "pygments            2.18.0\n",
      "pyparsing           3.1.2\n",
      "pytz                2024.1\n",
      "requests            2.32.3\n",
      "scipy               1.14.0\n",
      "session_info        1.0.0\n",
      "six                 1.16.0\n",
      "sklearn             1.5.1\n",
      "stack_data          0.6.3\n",
      "texttable           1.7.0\n",
      "threadpoolctl       3.5.0\n",
      "tornado             6.4\n",
      "traitlets           5.14.3\n",
      "typing_extensions   NA\n",
      "urllib3             2.2.3\n",
      "vscode              NA\n",
      "wcwidth             0.2.13\n",
      "zmq                 26.0.3\n",
      "-----\n",
      "IPython             8.24.0\n",
      "jupyter_client      8.6.1\n",
      "jupyter_core        5.7.2\n",
      "-----\n",
      "Python 3.11.9 | packaged by conda-forge | (main, Apr 19 2024, 18:34:54) [Clang 16.0.6 ]\n",
      "macOS-14.6.1-arm64-arm-64bit\n",
      "-----\n",
      "Session information updated at 2024-10-08 12:32\n"
     ]
    }
   ],
   "source": [
    "sc.settings.verbosity = 3\n",
    "sc.logging.print_versions()\n",
    "sc.settings.set_figure_params(dpi = 180, color_map = 'RdPu', dpi_save = 300, vector_friendly = True, format = 'svg')"
   ]
  },
  {
   "cell_type": "code",
   "execution_count": 3,
   "metadata": {},
   "outputs": [],
   "source": [
    "fig_dir = '../figures/'"
   ]
  },
  {
   "cell_type": "code",
   "execution_count": 4,
   "metadata": {},
   "outputs": [],
   "source": [
    "server = BiomartServer(\"http://www.ensembl.org/biomart\")\n",
    "mart = server.datasets['hsapiens_gene_ensembl']"
   ]
  },
  {
   "cell_type": "markdown",
   "metadata": {},
   "source": [
    "### Read in `anndata` object"
   ]
  },
  {
   "cell_type": "code",
   "execution_count": 5,
   "metadata": {},
   "outputs": [
    {
     "data": {
      "text/plain": [
       "AnnData object with n_obs × n_vars = 282363 × 313\n",
       "    obs: 'cell_id', 'x_centroid', 'y_centroid', 'transcript_counts', 'control_probe_counts', 'control_codeword_counts', 'total_counts', 'cell_area', 'nucleus_area', 'replicates', 'n_genes_by_counts', 'log1p_n_genes_by_counts', 'log1p_total_counts', 'pct_counts_in_top_10_genes', 'pct_counts_in_top_20_genes', 'pct_counts_in_top_50_genes', 'pct_counts_in_top_150_genes', 'n_counts', 'n_genes', 'leiden', 'cell_states', 'batch', 'CXCL12_ligand_receptor_GP', 'CD8A_ligand_receptor_GP', 'CD80_ligand_receptor_GP', 'CD8B_ligand_receptor_GP', 'Abca1_ligand_receptor_target_gene_GP', 'Ace2_ligand_receptor_target_gene_GP', 'Adam17_ligand_receptor_target_gene_GP', 'Adam2_ligand_receptor_target_gene_GP', 'Adgrb1_ligand_receptor_target_gene_GP', 'Adm2_ligand_receptor_target_gene_GP', 'Ahsg_ligand_receptor_target_gene_GP', 'Ang_ligand_receptor_target_gene_GP', 'Ang2_ligand_receptor_target_gene_GP', 'Ang4_ligand_receptor_target_gene_GP', 'Ang5_ligand_receptor_target_gene_GP', 'Ang6_ligand_receptor_target_gene_GP', 'Angpt2_ligand_receptor_target_gene_GP', 'Angpt4_ligand_receptor_target_gene_GP', 'Angptl3_ligand_receptor_target_gene_GP', 'Angptl4_ligand_receptor_target_gene_GP', 'Angptl6_ligand_receptor_target_gene_GP', 'Anxa1_ligand_receptor_target_gene_GP', 'Apoa5_ligand_receptor_target_gene_GP', 'Apob_ligand_receptor_target_gene_GP', 'Apoc1_ligand_receptor_target_gene_GP', 'Apoc2_ligand_receptor_target_gene_GP', 'Areg_ligand_receptor_target_gene_GP', 'Armh4_ligand_receptor_target_gene_GP', 'Artn_ligand_receptor_target_gene_GP', 'Avp_ligand_receptor_target_gene_GP', 'B2m_ligand_receptor_target_gene_GP', 'Bace2_ligand_receptor_target_gene_GP', 'Bcan_ligand_receptor_target_gene_GP', 'Bdnf_ligand_receptor_target_gene_GP', 'Bmp7_ligand_receptor_target_gene_GP', 'Btc_ligand_receptor_target_gene_GP', 'Btla_ligand_receptor_target_gene_GP', 'Btnl9_ligand_receptor_target_gene_GP', 'C1qa_ligand_receptor_target_gene_GP', 'C1qb_ligand_receptor_target_gene_GP', 'C1qtnf5_ligand_receptor_target_gene_GP', 'C3_ligand_receptor_target_gene_GP', 'Cadm3_ligand_receptor_target_gene_GP', 'Calca_ligand_receptor_target_gene_GP', 'Calcb_ligand_receptor_target_gene_GP', 'Calm3_ligand_receptor_target_gene_GP', 'Ccl11_ligand_receptor_target_gene_GP', 'Ccl20_ligand_receptor_target_gene_GP', 'Ccl22_ligand_receptor_target_gene_GP', 'Ccl26_ligand_receptor_target_gene_GP', 'Ccl5_ligand_receptor_target_gene_GP', 'Ccl8_ligand_receptor_target_gene_GP', 'Ccn1_ligand_receptor_target_gene_GP', 'Ccn2_ligand_receptor_target_gene_GP', 'Cd22_ligand_receptor_target_gene_GP', 'Cd24a_ligand_receptor_target_gene_GP', 'Cd274_ligand_receptor_target_gene_GP', 'Cd28_ligand_receptor_target_gene_GP', 'Cd34_ligand_receptor_target_gene_GP', 'Cd38_ligand_receptor_target_gene_GP', 'Cd40lg_ligand_receptor_target_gene_GP', 'Cd44_ligand_receptor_target_gene_GP', 'Cd47_ligand_receptor_target_gene_GP', 'Cd55_ligand_receptor_target_gene_GP', 'Cd55b_ligand_receptor_target_gene_GP', 'Cd7_ligand_receptor_target_gene_GP', 'Cd79b_ligand_receptor_target_gene_GP', 'Cd80_ligand_receptor_target_gene_GP', 'Cd86_ligand_receptor_target_gene_GP', 'Cd9_ligand_receptor_target_gene_GP', 'Cdcp1_ligand_receptor_target_gene_GP', 'Cdh1_ligand_receptor_target_gene_GP', 'Cdhr2_ligand_receptor_target_gene_GP', 'Ceacam1_ligand_receptor_target_gene_GP', 'Ceacam2_ligand_receptor_target_gene_GP', 'Cfap54_ligand_receptor_target_gene_GP', 'Cfh_ligand_receptor_target_gene_GP', 'Cga_ligand_receptor_target_gene_GP', 'Chad_ligand_receptor_target_gene_GP', 'Clcf1_ligand_receptor_target_gene_GP', 'Cldn1_ligand_receptor_target_gene_GP', 'Cldn14_ligand_receptor_target_gene_GP', 'Clec11a_ligand_receptor_target_gene_GP', 'Clec2f_ligand_receptor_target_gene_GP', 'Clec2l_ligand_receptor_target_gene_GP', 'Clec4g_ligand_receptor_target_gene_GP', 'Cmtm8_ligand_receptor_target_gene_GP', 'Cnmd_ligand_receptor_target_gene_GP', 'Cntn5_ligand_receptor_target_gene_GP', 'Col11a2_ligand_receptor_target_gene_GP', 'Col18a1_ligand_receptor_target_gene_GP', 'Col1a1_ligand_receptor_target_gene_GP', 'Col4a1_ligand_receptor_target_gene_GP', 'Col4a2_ligand_receptor_target_gene_GP', 'Col4a3_ligand_receptor_target_gene_GP', 'Col4a4_ligand_receptor_target_gene_GP', 'Col4a5_ligand_receptor_target_gene_GP', 'Col5a3_ligand_receptor_target_gene_GP', 'Col9a2_ligand_receptor_target_gene_GP', 'Copa_ligand_receptor_target_gene_GP', 'Cort_ligand_receptor_target_gene_GP', 'Crhr2_ligand_receptor_target_gene_GP', 'Crlf1_ligand_receptor_target_gene_GP', 'Crp_ligand_receptor_target_gene_GP', 'Csf2_ligand_receptor_target_gene_GP', 'Ctf1_ligand_receptor_target_gene_GP', 'Ctsg_ligand_receptor_target_gene_GP', 'Cxadr_ligand_receptor_target_gene_GP', 'Cxcl1_ligand_receptor_target_gene_GP', 'Cxcl10_ligand_receptor_target_gene_GP', 'Cxcl11_ligand_receptor_target_gene_GP', 'Cxcl12_ligand_receptor_target_gene_GP', 'Cxcl14_ligand_receptor_target_gene_GP', 'Cxcl16_ligand_receptor_target_gene_GP', 'Cxcl5_ligand_receptor_target_gene_GP', 'Cxcl9_ligand_receptor_target_gene_GP', 'Dcn_ligand_receptor_target_gene_GP', 'Dkk4_ligand_receptor_target_gene_GP', 'Dll1_ligand_receptor_target_gene_GP', 'Dll3_ligand_receptor_target_gene_GP', 'Dll4_ligand_receptor_target_gene_GP', 'Dsc2_ligand_receptor_target_gene_GP', 'Edn1_ligand_receptor_target_gene_GP', 'Edn2_ligand_receptor_target_gene_GP', 'Edn3_ligand_receptor_target_gene_GP', 'Efemp1_ligand_receptor_target_gene_GP', 'Efnb1_ligand_receptor_target_gene_GP', 'Efnb2_ligand_receptor_target_gene_GP', 'Egf_ligand_receptor_target_gene_GP', 'Epgn_ligand_receptor_target_gene_GP', 'Ereg_ligand_receptor_target_gene_GP', 'Erfe_ligand_receptor_target_gene_GP', 'Esm1_ligand_receptor_target_gene_GP', 'F10_ligand_receptor_target_gene_GP', 'F8_ligand_receptor_target_gene_GP', 'Fam3b_ligand_receptor_target_gene_GP', 'Fam3d_ligand_receptor_target_gene_GP', 'Fbln2_ligand_receptor_target_gene_GP', 'Fcer2a_ligand_receptor_target_gene_GP', 'Fcrl6_ligand_receptor_target_gene_GP', 'Fga_ligand_receptor_target_gene_GP', 'Fgb_ligand_receptor_target_gene_GP', 'Fgf13_ligand_receptor_target_gene_GP', 'Fgf16_ligand_receptor_target_gene_GP', 'Fgf2_ligand_receptor_target_gene_GP', 'Fgf6_ligand_receptor_target_gene_GP', 'Fgl1_ligand_receptor_target_gene_GP', 'Flrt1_ligand_receptor_target_gene_GP', 'Flrt2_ligand_receptor_target_gene_GP', 'Fndc5_ligand_receptor_target_gene_GP', 'Fshb_ligand_receptor_target_gene_GP', 'Fstl5_ligand_receptor_target_gene_GP', 'Gdf11_ligand_receptor_target_gene_GP', 'Gdf15_ligand_receptor_target_gene_GP', 'Ghrh_ligand_receptor_target_gene_GP', 'Gjb6_ligand_receptor_target_gene_GP', 'Gm10499_ligand_receptor_target_gene_GP', 'Gm11127_ligand_receptor_target_gene_GP', 'Gm1123_ligand_receptor_target_gene_GP', 'Gm5849_ligand_receptor_target_gene_GP', 'Gm7030_ligand_receptor_target_gene_GP', 'Gm8909_ligand_receptor_target_gene_GP', 'Gp1ba_ligand_receptor_target_gene_GP', 'Gp5_ligand_receptor_target_gene_GP', 'Gpc6_ligand_receptor_target_gene_GP', 'Gphb5_ligand_receptor_target_gene_GP', 'Grem1_ligand_receptor_target_gene_GP', 'Grn_ligand_receptor_target_gene_GP', 'Gzmb_ligand_receptor_target_gene_GP', 'H2-Aa_ligand_receptor_target_gene_GP', 'H2-Ab1_ligand_receptor_target_gene_GP', 'H2-Bl_ligand_receptor_target_gene_GP', 'H2-D1_ligand_receptor_target_gene_GP', 'H2-DMa_ligand_receptor_target_gene_GP', 'H2-Ea_ligand_receptor_target_gene_GP', 'H2-Eb1_ligand_receptor_target_gene_GP', 'H2-Eb2_ligand_receptor_target_gene_GP', 'H2-K1_ligand_receptor_target_gene_GP', 'H2-M1_ligand_receptor_target_gene_GP', 'H2-M10.1_ligand_receptor_target_gene_GP', 'H2-M10.2_ligand_receptor_target_gene_GP', 'H2-M10.3_ligand_receptor_target_gene_GP', 'H2-M10.4_ligand_receptor_target_gene_GP', 'H2-M10.5_ligand_receptor_target_gene_GP', 'H2-M10.6_ligand_receptor_target_gene_GP', 'H2-M11_ligand_receptor_target_gene_GP', 'H2-M2_ligand_receptor_target_gene_GP', 'H2-M3_ligand_receptor_target_gene_GP', 'H2-M5_ligand_receptor_target_gene_GP', 'H2-M9_ligand_receptor_target_gene_GP', 'H2-Oa_ligand_receptor_target_gene_GP', 'H2-Q1_ligand_receptor_target_gene_GP', 'H2-Q10_ligand_receptor_target_gene_GP', 'H2-Q2_ligand_receptor_target_gene_GP', 'H2-Q4_ligand_receptor_target_gene_GP', 'H2-Q6_ligand_receptor_target_gene_GP', 'H2-Q7_ligand_receptor_target_gene_GP', 'H2-T-ps_ligand_receptor_target_gene_GP', 'H2-T10_ligand_receptor_target_gene_GP', 'H2-T22_ligand_receptor_target_gene_GP', 'H2-T23_ligand_receptor_target_gene_GP', 'H2-T24_ligand_receptor_target_gene_GP', 'H2-T3_ligand_receptor_target_gene_GP', 'Has2_ligand_receptor_target_gene_GP', 'Hbegf_ligand_receptor_target_gene_GP', 'Hdc_ligand_receptor_target_gene_GP', 'Hp_ligand_receptor_target_gene_GP', 'Hpx_ligand_receptor_target_gene_GP', 'Hrg_ligand_receptor_target_gene_GP', 'Hsp90b1_ligand_receptor_target_gene_GP', 'Iapp_ligand_receptor_target_gene_GP', 'Icam1_ligand_receptor_target_gene_GP', 'Icam2_ligand_receptor_target_gene_GP', 'Icam4_ligand_receptor_target_gene_GP', 'Icosl_ligand_receptor_target_gene_GP', 'Igfbp3_ligand_receptor_target_gene_GP', 'Igsf10_ligand_receptor_target_gene_GP', 'Igsf21_ligand_receptor_target_gene_GP', 'Il12a_ligand_receptor_target_gene_GP', 'Il12b_ligand_receptor_target_gene_GP', 'Il13_ligand_receptor_target_gene_GP', 'Il15_ligand_receptor_target_gene_GP', 'Il16_ligand_receptor_target_gene_GP', 'Il17a_ligand_receptor_target_gene_GP', 'Il17c_ligand_receptor_target_gene_GP', 'Il17f_ligand_receptor_target_gene_GP', 'Il2_ligand_receptor_target_gene_GP', 'Il3_ligand_receptor_target_gene_GP', 'Il31_ligand_receptor_target_gene_GP', 'Il4_ligand_receptor_target_gene_GP', 'Il5_ligand_receptor_target_gene_GP', 'Il7_ligand_receptor_target_gene_GP', 'Insl3_ligand_receptor_target_gene_GP', 'Itgam_ligand_receptor_target_gene_GP', 'Itih2_ligand_receptor_target_gene_GP', 'Izumo1_ligand_receptor_target_gene_GP', 'Jam3_ligand_receptor_target_gene_GP', 'Kitl_ligand_receptor_target_gene_GP', 'Klkb1_ligand_receptor_target_gene_GP', 'L1cam_ligand_receptor_target_gene_GP', 'Lcn11_ligand_receptor_target_gene_GP', 'Lep_ligand_receptor_target_gene_GP', 'Lgals1_ligand_receptor_target_gene_GP', 'Lgals3_ligand_receptor_target_gene_GP', 'Lhb_ligand_receptor_target_gene_GP', 'Lif_ligand_receptor_target_gene_GP', 'Lin7b_ligand_receptor_target_gene_GP', 'Lpl_ligand_receptor_target_gene_GP', 'Lrig1_ligand_receptor_target_gene_GP', 'Lrig2_ligand_receptor_target_gene_GP', 'Lrrtm3_ligand_receptor_target_gene_GP', 'Lsamp_ligand_receptor_target_gene_GP', 'Ltb_ligand_receptor_target_gene_GP', 'Ltf_ligand_receptor_target_gene_GP', 'Lum_ligand_receptor_target_gene_GP', 'Ly6g5c_ligand_receptor_target_gene_GP', 'Ly86_ligand_receptor_target_gene_GP', 'Matn1_ligand_receptor_target_gene_GP', 'Mbl2_ligand_receptor_target_gene_GP', 'Mdk_ligand_receptor_target_gene_GP', 'Mfge8_ligand_receptor_target_gene_GP', 'Mia_ligand_receptor_target_gene_GP', 'Mif_ligand_receptor_target_gene_GP', 'Mmp12_ligand_receptor_target_gene_GP', 'Mmp14_ligand_receptor_target_gene_GP', 'Mmp15_ligand_receptor_target_gene_GP', 'Mmp16_ligand_receptor_target_gene_GP', 'Mmp2_ligand_receptor_target_gene_GP', 'Mmp25_ligand_receptor_target_gene_GP', 'Mmp7_ligand_receptor_target_gene_GP', 'Mmp9_ligand_receptor_target_gene_GP', 'Mmrn2_ligand_receptor_target_gene_GP', 'Mpdz_ligand_receptor_target_gene_GP', 'Muc1_ligand_receptor_target_gene_GP', 'Muc4_ligand_receptor_target_gene_GP', 'Ncam1_ligand_receptor_target_gene_GP', 'Nectin4_ligand_receptor_target_gene_GP', 'Negr1_ligand_receptor_target_gene_GP', 'Ngf_ligand_receptor_target_gene_GP', 'Nppb_ligand_receptor_target_gene_GP', 'Nps_ligand_receptor_target_gene_GP', 'Nptx2_ligand_receptor_target_gene_GP', 'Nrg1_ligand_receptor_target_gene_GP', 'Nrg3_ligand_receptor_target_gene_GP', 'Nrg4_ligand_receptor_target_gene_GP', 'Nrp1_ligand_receptor_target_gene_GP', 'Nrxn1_ligand_receptor_target_gene_GP', 'Ntm_ligand_receptor_target_gene_GP', 'Ntn1_ligand_receptor_target_gene_GP', 'Nts_ligand_receptor_target_gene_GP', 'Nxph1_ligand_receptor_target_gene_GP', 'Opcml_ligand_receptor_target_gene_GP', 'Osm_ligand_receptor_target_gene_GP', 'Ostn_ligand_receptor_target_gene_GP', 'Oxt_ligand_receptor_target_gene_GP', 'Pdcd1lg2_ligand_receptor_target_gene_GP', 'Pdgfa_ligand_receptor_target_gene_GP', 'Pdgfb_ligand_receptor_target_gene_GP', 'Pdgfc_ligand_receptor_target_gene_GP', 'Pdgfd_ligand_receptor_target_gene_GP', 'Pecam1_ligand_receptor_target_gene_GP', 'Pgf_ligand_receptor_target_gene_GP', 'Pglyrp1_ligand_receptor_target_gene_GP', 'Piga_ligand_receptor_target_gene_GP', 'Pip_ligand_receptor_target_gene_GP', 'Pla2g2a_ligand_receptor_target_gene_GP', 'Plb1_ligand_receptor_target_gene_GP', 'Plekho2_ligand_receptor_target_gene_GP', 'Podxl_ligand_receptor_target_gene_GP', 'Podxl2_ligand_receptor_target_gene_GP', 'Prl_ligand_receptor_target_gene_GP', 'Prl2a1_ligand_receptor_target_gene_GP', 'Prl2b1_ligand_receptor_target_gene_GP', 'Prl2c1_ligand_receptor_target_gene_GP', 'Prl2c2_ligand_receptor_target_gene_GP', 'Prl2c3_ligand_receptor_target_gene_GP', 'Prl2c5_ligand_receptor_target_gene_GP', 'Prl3a1_ligand_receptor_target_gene_GP', 'Prl3b1_ligand_receptor_target_gene_GP', 'Prl3c1_ligand_receptor_target_gene_GP', 'Prl3d1_ligand_receptor_target_gene_GP', 'Prl3d2_ligand_receptor_target_gene_GP', 'Prl3d3_ligand_receptor_target_gene_GP', 'Prl4a1_ligand_receptor_target_gene_GP', 'Prl5a1_ligand_receptor_target_gene_GP', 'Prl6a1_ligand_receptor_target_gene_GP', 'Prl7a1_ligand_receptor_target_gene_GP', 'Prl7a2_ligand_receptor_target_gene_GP', 'Prl7b1_ligand_receptor_target_gene_GP', 'Prl7c1_ligand_receptor_target_gene_GP', 'Prl7d1_ligand_receptor_target_gene_GP', 'Prl8a1_ligand_receptor_target_gene_GP', 'Prl8a2_ligand_receptor_target_gene_GP', 'Prl8a6_ligand_receptor_target_gene_GP', 'Prl8a8_ligand_receptor_target_gene_GP', 'Prl8a9_ligand_receptor_target_gene_GP', 'Proc_ligand_receptor_target_gene_GP', 'Prrg4_ligand_receptor_target_gene_GP', 'Psap_ligand_receptor_target_gene_GP', 'Psen1_ligand_receptor_target_gene_GP', 'Pth_ligand_receptor_target_gene_GP', 'Pth2_ligand_receptor_target_gene_GP', 'Pthlh_ligand_receptor_target_gene_GP', 'Ptn_ligand_receptor_target_gene_GP', 'Ptprc_ligand_receptor_target_gene_GP', 'Ptprk_ligand_receptor_target_gene_GP', 'Ptprm_ligand_receptor_target_gene_GP', 'Ptprz1_ligand_receptor_target_gene_GP', 'Pvr_ligand_receptor_target_gene_GP', 'Rarres2_ligand_receptor_target_gene_GP', 'Reck_ligand_receptor_target_gene_GP', 'Ret_ligand_receptor_target_gene_GP', 'Rln1_ligand_receptor_target_gene_GP', 'Robo1_ligand_receptor_target_gene_GP', 'Rspo2_ligand_receptor_target_gene_GP', 'Rspo3_ligand_receptor_target_gene_GP', 'Rtn4_ligand_receptor_target_gene_GP', 'S100a4_ligand_receptor_target_gene_GP', 'S100a8_ligand_receptor_target_gene_GP', 'S100a9_ligand_receptor_target_gene_GP', 'Saa1_ligand_receptor_target_gene_GP', 'Saa2_ligand_receptor_target_gene_GP', 'Sbpl_ligand_receptor_target_gene_GP', 'Sct_ligand_receptor_target_gene_GP', 'Sdc4_ligand_receptor_target_gene_GP', 'Sele_ligand_receptor_target_gene_GP', 'Sell_ligand_receptor_target_gene_GP', 'Sema3f_ligand_receptor_target_gene_GP', 'Sema3g_ligand_receptor_target_gene_GP', 'Sema4d_ligand_receptor_target_gene_GP', 'Sema4f_ligand_receptor_target_gene_GP', 'Sema6d_ligand_receptor_target_gene_GP', 'Sfrp1_ligand_receptor_target_gene_GP', 'Sfrp2_ligand_receptor_target_gene_GP', 'Sftpa1_ligand_receptor_target_gene_GP', 'Shbg_ligand_receptor_target_gene_GP', 'Siglec1_ligand_receptor_target_gene_GP', 'Siglece_ligand_receptor_target_gene_GP', 'Siglech_ligand_receptor_target_gene_GP', 'Sirpa_ligand_receptor_target_gene_GP', 'Sirpb1a_ligand_receptor_target_gene_GP', 'Sis_ligand_receptor_target_gene_GP', 'Slamf7_ligand_receptor_target_gene_GP', 'Slc6a8_ligand_receptor_target_gene_GP', 'Slpi_ligand_receptor_target_gene_GP', 'Sorl1_ligand_receptor_target_gene_GP', 'Sostdc1_ligand_receptor_target_gene_GP', 'Sparc_ligand_receptor_target_gene_GP', 'Spon2_ligand_receptor_target_gene_GP', 'Tafa4_ligand_receptor_target_gene_GP', 'Tcn2_ligand_receptor_target_gene_GP', 'Tdgf1_ligand_receptor_target_gene_GP', 'Tex101_ligand_receptor_target_gene_GP', 'Tfpi_ligand_receptor_target_gene_GP', 'Tgfa_ligand_receptor_target_gene_GP', 'Tgfb1_ligand_receptor_target_gene_GP', 'Tgfb2_ligand_receptor_target_gene_GP', 'Thbs1_ligand_receptor_target_gene_GP', 'Thbs2_ligand_receptor_target_gene_GP', 'Thbs4_ligand_receptor_target_gene_GP', 'Thy1_ligand_receptor_target_gene_GP', 'Tigit_ligand_receptor_target_gene_GP', 'Timp1_ligand_receptor_target_gene_GP', 'Timp2_ligand_receptor_target_gene_GP', 'Timp3_ligand_receptor_target_gene_GP', 'Tnc_ligand_receptor_target_gene_GP', 'Tnfsf12_ligand_receptor_target_gene_GP', 'Tnfsf4_ligand_receptor_target_gene_GP', 'Tnn_ligand_receptor_target_gene_GP', 'Tnr_ligand_receptor_target_gene_GP', 'Tnxb_ligand_receptor_target_gene_GP', 'Tpsab1_ligand_receptor_target_gene_GP', 'Traf2_ligand_receptor_target_gene_GP', 'Treml1_ligand_receptor_target_gene_GP', 'Trf_ligand_receptor_target_gene_GP', 'Tslp_ligand_receptor_target_gene_GP', 'Tyrobp_ligand_receptor_target_gene_GP', 'Ucn_ligand_receptor_target_gene_GP', 'Ucn2_ligand_receptor_target_gene_GP', 'Ucn3_ligand_receptor_target_gene_GP', 'Vcam1_ligand_receptor_target_gene_GP', 'Vcan_ligand_receptor_target_gene_GP', 'Vegfa_ligand_receptor_target_gene_GP', 'Vegfb_ligand_receptor_target_gene_GP', 'Vegfc_ligand_receptor_target_gene_GP', 'Vegfd_ligand_receptor_target_gene_GP', 'Vip_ligand_receptor_target_gene_GP', 'Vsir_ligand_receptor_target_gene_GP', 'Vtn_ligand_receptor_target_gene_GP', 'Vwf_ligand_receptor_target_gene_GP', 'Wbp1_ligand_receptor_target_gene_GP', 'Wif1_ligand_receptor_target_gene_GP', 'Wnt1_ligand_receptor_target_gene_GP', 'Wnt3a_ligand_receptor_target_gene_GP', 'Zp3_ligand_receptor_target_gene_GP', 'Zpbp2_ligand_receptor_target_gene_GP', 'Add-on_0_GP', 'Add-on_1_GP', 'Add-on_2_GP', 'Add-on_3_GP', 'Add-on_4_GP', 'Add-on_5_GP', 'Add-on_6_GP', 'Add-on_7_GP', 'Add-on_8_GP', 'Add-on_9_GP', 'Add-on_10_GP', 'Add-on_11_GP', 'Add-on_12_GP', 'Add-on_13_GP', 'Add-on_14_GP', 'Add-on_15_GP', 'Add-on_16_GP', 'Add-on_17_GP', 'Add-on_18_GP', 'Add-on_19_GP', 'Add-on_20_GP', 'Add-on_21_GP', 'Add-on_22_GP', 'Add-on_23_GP', 'Add-on_24_GP', 'Add-on_25_GP', 'Add-on_26_GP', 'Add-on_27_GP', 'Add-on_28_GP', 'Add-on_29_GP', 'Add-on_30_GP', 'Add-on_31_GP', 'Add-on_32_GP', 'Add-on_33_GP', 'Add-on_34_GP', 'Add-on_35_GP', 'Add-on_36_GP', 'Add-on_37_GP', 'Add-on_38_GP', 'Add-on_39_GP', 'Add-on_40_GP', 'Add-on_41_GP', 'Add-on_42_GP', 'Add-on_43_GP', 'Add-on_44_GP', 'Add-on_45_GP', 'Add-on_46_GP', 'Add-on_47_GP', 'Add-on_48_GP', 'Add-on_49_GP', 'Add-on_50_GP', 'Add-on_51_GP', 'Add-on_52_GP', 'Add-on_53_GP', 'Add-on_54_GP', 'Add-on_55_GP', 'Add-on_56_GP', 'Add-on_57_GP', 'Add-on_58_GP', 'Add-on_59_GP', 'Add-on_60_GP', 'Add-on_61_GP', 'Add-on_62_GP', 'Add-on_63_GP', 'Add-on_64_GP', 'Add-on_65_GP', 'Add-on_66_GP', 'Add-on_67_GP', 'Add-on_68_GP', 'Add-on_69_GP', 'Add-on_70_GP', 'Add-on_71_GP', 'Add-on_72_GP', 'Add-on_73_GP', 'Add-on_74_GP', 'Add-on_75_GP', 'Add-on_76_GP', 'Add-on_77_GP', 'Add-on_78_GP', 'Add-on_79_GP', 'Add-on_80_GP', 'Add-on_81_GP', 'Add-on_82_GP', 'Add-on_83_GP', 'Add-on_84_GP', 'Add-on_85_GP', 'Add-on_86_GP', 'Add-on_87_GP', 'Add-on_88_GP', 'Add-on_89_GP', 'Add-on_90_GP', 'Add-on_91_GP', 'Add-on_92_GP', 'Add-on_93_GP', 'Add-on_94_GP', 'Add-on_95_GP', 'Add-on_96_GP', 'Add-on_97_GP', 'Add-on_98_GP', 'Add-on_99_GP', 'cell_type', 'latent_leiden_0.2', 'niche'\n",
       "    uns: 'batch_colors', 'cell_states_colors', 'cell_type_colors', 'dendrogram_niche', 'latent_leiden_0.2_colors', 'leiden', 'niche_colors', 'nichecompass_active_gp_names', 'nichecompass_genes_idx', 'nichecompass_gp_names', 'nichecompass_gp_summary', 'nichecompass_latent', 'nichecompass_source_genes_idx', 'nichecompass_sources_categories_label_encoder', 'nichecompass_target_genes_idx', 'nichecompass_targets_categories_label_encoder', 'umap'\n",
       "    obsm: 'X_pca', 'X_umap', 'nichecompass_latent', 'spatial'\n",
       "    varm: 'nichecompass_gp_sources', 'nichecompass_gp_sources_categories', 'nichecompass_gp_targets', 'nichecompass_gp_targets_categories'\n",
       "    layers: 'counts'\n",
       "    obsp: 'nichecompass_latent_connectivities', 'nichecompass_latent_distances', 'spatial_connectivities'"
      ]
     },
     "execution_count": 5,
     "metadata": {},
     "output_type": "execute_result"
    }
   ],
   "source": [
    "adata = sc.read_h5ad('../data/xenium_human_breast_cancer_analysis.h5ad')\n",
    "adata"
   ]
  },
  {
   "cell_type": "markdown",
   "metadata": {},
   "source": [
    "### Extract genes and gene weights from programme of interest"
   ]
  },
  {
   "cell_type": "code",
   "execution_count": 6,
   "metadata": {},
   "outputs": [
    {
     "data": {
      "text/html": [
       "<div>\n",
       "<style scoped>\n",
       "    .dataframe tbody tr th:only-of-type {\n",
       "        vertical-align: middle;\n",
       "    }\n",
       "\n",
       "    .dataframe tbody tr th {\n",
       "        vertical-align: top;\n",
       "    }\n",
       "\n",
       "    .dataframe thead th {\n",
       "        text-align: right;\n",
       "    }\n",
       "</style>\n",
       "<table border=\"1\" class=\"dataframe\">\n",
       "  <thead>\n",
       "    <tr style=\"text-align: right;\">\n",
       "      <th></th>\n",
       "      <th>gp_name</th>\n",
       "      <th>all_gp_idx</th>\n",
       "      <th>gp_active</th>\n",
       "      <th>active_gp_idx</th>\n",
       "      <th>n_source_genes</th>\n",
       "      <th>n_non_zero_source_genes</th>\n",
       "      <th>n_target_genes</th>\n",
       "      <th>n_non_zero_target_genes</th>\n",
       "      <th>gp_source_genes</th>\n",
       "      <th>gp_target_genes</th>\n",
       "      <th>gp_source_genes_weights</th>\n",
       "      <th>gp_target_genes_weights</th>\n",
       "      <th>gp_source_genes_importances</th>\n",
       "      <th>gp_target_genes_importances</th>\n",
       "    </tr>\n",
       "  </thead>\n",
       "  <tbody>\n",
       "    <tr>\n",
       "      <th>0</th>\n",
       "      <td>CXCL12_ligand_receptor_GP</td>\n",
       "      <td>0</td>\n",
       "      <td>True</td>\n",
       "      <td>0</td>\n",
       "      <td>1</td>\n",
       "      <td>1</td>\n",
       "      <td>1</td>\n",
       "      <td>1</td>\n",
       "      <td>['CXCL12']</td>\n",
       "      <td>['AVPR1A']</td>\n",
       "      <td>[-0.0461]</td>\n",
       "      <td>[0.9449]</td>\n",
       "      <td>[0.0465]</td>\n",
       "      <td>[0.9535]</td>\n",
       "    </tr>\n",
       "    <tr>\n",
       "      <th>1</th>\n",
       "      <td>CD8A_ligand_receptor_GP</td>\n",
       "      <td>1</td>\n",
       "      <td>True</td>\n",
       "      <td>1</td>\n",
       "      <td>1</td>\n",
       "      <td>1</td>\n",
       "      <td>1</td>\n",
       "      <td>1</td>\n",
       "      <td>['CD8A']</td>\n",
       "      <td>['PRF1']</td>\n",
       "      <td>[-0.4468]</td>\n",
       "      <td>[-0.3082]</td>\n",
       "      <td>[0.5917]</td>\n",
       "      <td>[0.4083]</td>\n",
       "    </tr>\n",
       "    <tr>\n",
       "      <th>2</th>\n",
       "      <td>CD80_ligand_receptor_GP</td>\n",
       "      <td>2</td>\n",
       "      <td>True</td>\n",
       "      <td>2</td>\n",
       "      <td>1</td>\n",
       "      <td>1</td>\n",
       "      <td>1</td>\n",
       "      <td>1</td>\n",
       "      <td>['CD80']</td>\n",
       "      <td>['CD8B']</td>\n",
       "      <td>[-0.2762]</td>\n",
       "      <td>[0.8064]</td>\n",
       "      <td>[0.2551]</td>\n",
       "      <td>[0.7449]</td>\n",
       "    </tr>\n",
       "    <tr>\n",
       "      <th>3</th>\n",
       "      <td>CD8B_ligand_receptor_GP</td>\n",
       "      <td>3</td>\n",
       "      <td>True</td>\n",
       "      <td>3</td>\n",
       "      <td>1</td>\n",
       "      <td>1</td>\n",
       "      <td>1</td>\n",
       "      <td>1</td>\n",
       "      <td>['CD8B']</td>\n",
       "      <td>['PRF1']</td>\n",
       "      <td>[0.737]</td>\n",
       "      <td>[0.215]</td>\n",
       "      <td>[0.7741]</td>\n",
       "      <td>[0.2259]</td>\n",
       "    </tr>\n",
       "    <tr>\n",
       "      <th>4</th>\n",
       "      <td>Abca1_ligand_receptor_target_gene_GP</td>\n",
       "      <td>4</td>\n",
       "      <td>True</td>\n",
       "      <td>4</td>\n",
       "      <td>0</td>\n",
       "      <td>0</td>\n",
       "      <td>2</td>\n",
       "      <td>1</td>\n",
       "      <td>[]</td>\n",
       "      <td>['CAV1', 'CXCR4']</td>\n",
       "      <td>[]</td>\n",
       "      <td>[0.2084, -0.0]</td>\n",
       "      <td>[]</td>\n",
       "      <td>[1.0, 0.0]</td>\n",
       "    </tr>\n",
       "  </tbody>\n",
       "</table>\n",
       "</div>"
      ],
      "text/plain": [
       "                                gp_name all_gp_idx gp_active active_gp_idx  \\\n",
       "0             CXCL12_ligand_receptor_GP          0      True             0   \n",
       "1               CD8A_ligand_receptor_GP          1      True             1   \n",
       "2               CD80_ligand_receptor_GP          2      True             2   \n",
       "3               CD8B_ligand_receptor_GP          3      True             3   \n",
       "4  Abca1_ligand_receptor_target_gene_GP          4      True             4   \n",
       "\n",
       "  n_source_genes n_non_zero_source_genes n_target_genes  \\\n",
       "0              1                       1              1   \n",
       "1              1                       1              1   \n",
       "2              1                       1              1   \n",
       "3              1                       1              1   \n",
       "4              0                       0              2   \n",
       "\n",
       "  n_non_zero_target_genes gp_source_genes    gp_target_genes  \\\n",
       "0                       1      ['CXCL12']         ['AVPR1A']   \n",
       "1                       1        ['CD8A']           ['PRF1']   \n",
       "2                       1        ['CD80']           ['CD8B']   \n",
       "3                       1        ['CD8B']           ['PRF1']   \n",
       "4                       1              []  ['CAV1', 'CXCR4']   \n",
       "\n",
       "  gp_source_genes_weights gp_target_genes_weights gp_source_genes_importances  \\\n",
       "0               [-0.0461]                [0.9449]                    [0.0465]   \n",
       "1               [-0.4468]               [-0.3082]                    [0.5917]   \n",
       "2               [-0.2762]                [0.8064]                    [0.2551]   \n",
       "3                 [0.737]                 [0.215]                    [0.7741]   \n",
       "4                      []          [0.2084, -0.0]                          []   \n",
       "\n",
       "  gp_target_genes_importances  \n",
       "0                    [0.9535]  \n",
       "1                    [0.4083]  \n",
       "2                    [0.7449]  \n",
       "3                    [0.2259]  \n",
       "4                  [1.0, 0.0]  "
      ]
     },
     "execution_count": 6,
     "metadata": {},
     "output_type": "execute_result"
    }
   ],
   "source": [
    "df = adata.uns['nichecompass_gp_summary']\n",
    "df.head()"
   ]
  },
  {
   "cell_type": "code",
   "execution_count": 7,
   "metadata": {},
   "outputs": [
    {
     "data": {
      "text/plain": [
       "\"['KRT16', 'KRT14', 'KRT5', 'KRT6B', 'KRT15', 'C5orf46', 'CLCA2', 'KRT23', 'SERPINA3', 'AVPR1A', 'TACSTD2', 'DSP', 'TAC1', 'PIGR', 'MYLK', 'CEACAM6', 'TCF7', 'OPRPN', 'CEACAM8', 'CLDN4', 'AGR3', 'BASP1', 'KIT', 'JUP', 'NOSTRIN', 'CXCR4', 'SEC11C', 'PTRHD1', 'ERN1', 'ABCC11', 'TUBB2B', 'PDGFRA', 'OXTR', 'IL2RA', 'KRT7', 'RAPGEF3', 'MYH11', 'KLF5', 'S100A14', 'CAV1', 'SH3YL1', 'EGFR', 'C15orf48', 'FOXC2', 'FOXP3', 'C6orf132', 'C2orf42', 'GNLY', 'TPD52', 'PDGFRB', 'SCGB2A1', 'CD14', 'EGFL7', 'USP53', 'LYPD3', 'SVIL', 'ANKRD29', 'GLIPR1', 'CX3CR1', 'LGALSL', 'GJB2', 'RUNX1', 'KRT8', 'PPARG', 'TCEAL7', 'RTKN2', 'CDC42EP1', 'POLR2J3', 'MYO5B', 'KLRB1', 'ITGAX', 'PCLAF', 'HMGA1', 'LAG3', 'ANKRD28', 'CD68', 'KARS', 'MZB1', 'KDR', 'AKR1C1', 'TENT5C', 'AQP1', 'AQP3', 'HOXD8', 'SLC25A37', 'THAP2', 'SMAP2', 'ITM2C', 'ELF5', 'LARS', 'DUSP2', 'FSTL3', 'ESR1', 'EIF4EBP1', 'IL7R', 'GPR183', 'MDM2', 'CRISPLD2', 'CCDC80', 'MKI67', 'CD93', 'MMP1', 'HOXD9', 'DMKN', 'ACTG2', 'NPM3', 'CD4', 'C1QC', 'TFAP2A', 'SLC5A6', 'LDHB', 'VOPP1', 'NARS', 'LILRA4', 'TRAPPC3', 'HOOK2', 'MNDA', 'RAMP2', 'FASN', 'CD163', 'ADAM9', 'FCGR3A', 'TMEM147', 'SQLE', 'CLEC14A', 'ZNF562', 'CD247', 'TRAC', 'REXO4', 'SRPK1', 'PDK4', 'LRRC15', 'PELI1', 'FAM107B', 'WARS', 'FGL2', 'DNTTIP1', 'TRAF4', 'DPT', 'EPCAM', 'SEC24A', 'MEDAG', 'ZEB1', 'TOP2A', 'TOMM7', 'SLAMF1', 'SERHL2', 'QARS', 'ELF3', 'TCIM', 'FCER1G', 'CYTIP', 'FOXA1', 'TIFA', 'LYZ', 'CCPG1', 'CCDC6', 'SCD', 'POSTN', 'SMS', 'GATA3', 'DERL3', 'CENPF', 'CD3E', 'CAVIN2', 'AIF1', 'ACTA2', 'SOX17', 'LPXN', 'FBLIM1', 'CTLA4', 'CD1C', 'ADIPOQ', 'ZEB2', 'UCP1', 'TUBA4A', 'TRIB1', 'TNFRSF17', 'TIMP4', 'TCL1A', 'TCF4', 'TCF15', 'STC1', 'SSTR2', 'SPIB', 'SOX18', 'SNAI1', 'SLC4A1', 'SFRP4', 'SERPINB9', 'RORC', 'RHOH', 'RAB30', 'PTGDS', 'PRF1', 'PRDM1', 'PLD4', 'PIM1', 'PGR', 'PDE4A', 'PDCD1', 'PCOLCE', 'OCIAD2', 'NKG7', 'NDUFA4L2', 'MYBPC1', 'MUC6', 'MS4A1', 'MRC1', 'MPO', 'MLPH', 'MAP3K8', 'KLRF1', 'KLRD1', 'KLRC1', 'IL3RA', 'IL2RG', 'IGSF6', 'IGF1', 'HAVCR2', 'GZMK', 'GZMA', 'FLNB', 'FCER1A', 'FBLN1', 'FAM49A', 'ERBB2', 'ENAH', 'EDNRB', 'DUSP5', 'DST', 'DNAAF1', 'DAPK3', 'CYP1A1', 'CTTN', 'CTH', 'CSF3', 'CRHBP', 'CPA3', 'CLIC6', 'CLECL1', 'CLEC9A', 'CLDN5', 'CD83', 'CD79A', 'CD69', 'CD3G', 'CD3D', 'CD27', 'CD19', 'CCR7', 'CCND1', 'BANK1', 'AR', 'APOBEC3B', 'APOBEC3A', 'ANKRD30A', 'ALDH1A3', 'AKR1C3', 'AHSP', 'ADH1B', 'ADGRE5']\""
      ]
     },
     "execution_count": 7,
     "metadata": {},
     "output_type": "execute_result"
    }
   ],
   "source": [
    "df_gp37 = df[df['gp_name'] == 'Add-on_37_GP']\n",
    "gp37_genes = df_gp37['gp_source_genes'].values[0]\n",
    "gp37_genes"
   ]
  },
  {
   "cell_type": "code",
   "execution_count": 8,
   "metadata": {},
   "outputs": [
    {
     "data": {
      "text/plain": [
       "['KRT16',\n",
       " 'KRT14',\n",
       " 'KRT5',\n",
       " 'KRT6B',\n",
       " 'KRT15',\n",
       " 'C5orf46',\n",
       " 'CLCA2',\n",
       " 'KRT23',\n",
       " 'SERPINA3',\n",
       " 'AVPR1A',\n",
       " 'TACSTD2',\n",
       " 'DSP',\n",
       " 'TAC1',\n",
       " 'PIGR',\n",
       " 'MYLK',\n",
       " 'CEACAM6',\n",
       " 'TCF7',\n",
       " 'OPRPN',\n",
       " 'CEACAM8',\n",
       " 'CLDN4',\n",
       " 'AGR3',\n",
       " 'BASP1',\n",
       " 'KIT',\n",
       " 'JUP',\n",
       " 'NOSTRIN',\n",
       " 'CXCR4',\n",
       " 'SEC11C',\n",
       " 'PTRHD1',\n",
       " 'ERN1',\n",
       " 'ABCC11',\n",
       " 'TUBB2B',\n",
       " 'PDGFRA',\n",
       " 'OXTR',\n",
       " 'IL2RA',\n",
       " 'KRT7',\n",
       " 'RAPGEF3',\n",
       " 'MYH11',\n",
       " 'KLF5',\n",
       " 'S100A14',\n",
       " 'CAV1',\n",
       " 'SH3YL1',\n",
       " 'EGFR',\n",
       " 'C15orf48',\n",
       " 'FOXC2',\n",
       " 'FOXP3',\n",
       " 'C6orf132',\n",
       " 'C2orf42',\n",
       " 'GNLY',\n",
       " 'TPD52',\n",
       " 'PDGFRB',\n",
       " 'SCGB2A1',\n",
       " 'CD14',\n",
       " 'EGFL7',\n",
       " 'USP53',\n",
       " 'LYPD3',\n",
       " 'SVIL',\n",
       " 'ANKRD29',\n",
       " 'GLIPR1',\n",
       " 'CX3CR1',\n",
       " 'LGALSL']"
      ]
     },
     "execution_count": 8,
     "metadata": {},
     "output_type": "execute_result"
    }
   ],
   "source": [
    "genes_list = ast.literal_eval(gp37_genes)\n",
    "genes = genes_list[:20]\n",
    "genes"
   ]
  },
  {
   "cell_type": "code",
   "execution_count": 9,
   "metadata": {},
   "outputs": [
    {
     "data": {
      "text/plain": [
       "[0.0641,\n",
       " 0.0633,\n",
       " 0.0628,\n",
       " 0.0614,\n",
       " 0.0422,\n",
       " 0.0367,\n",
       " 0.0297,\n",
       " 0.0292,\n",
       " 0.0276,\n",
       " -0.0234,\n",
       " 0.0206,\n",
       " 0.0201,\n",
       " -0.0198,\n",
       " 0.0189,\n",
       " 0.0183,\n",
       " 0.0174,\n",
       " 0.0165,\n",
       " 0.0154,\n",
       " 0.0138,\n",
       " 0.0114]"
      ]
     },
     "execution_count": 9,
     "metadata": {},
     "output_type": "execute_result"
    }
   ],
   "source": [
    "gp37_weights = df_gp37['gp_source_genes_weights'].values[0]\n",
    "weights_list = ast.literal_eval(gp37_weights)\n",
    "weights = weights_list[:20]\n",
    "weights"
   ]
  },
  {
   "cell_type": "markdown",
   "metadata": {},
   "source": [
    "### Classify genes into families and superfamilies"
   ]
  },
  {
   "cell_type": "code",
   "execution_count": 10,
   "metadata": {},
   "outputs": [
    {
     "name": "stdout",
     "output_type": "stream",
     "text": [
      "                                  Pathway  \\\n",
      "0                               organelle   \n",
      "1                               organelle   \n",
      "2                               organelle   \n",
      "3                               organelle   \n",
      "4                               organelle   \n",
      "5                               organelle   \n",
      "6                               organelle   \n",
      "7                               organelle   \n",
      "8                               organelle   \n",
      "9             DNA-templated transcription   \n",
      "10                              signaling   \n",
      "11                              signaling   \n",
      "12                              signaling   \n",
      "13                              signaling   \n",
      "14           protein modification process   \n",
      "15                   extracellular region   \n",
      "16                   extracellular region   \n",
      "17                   extracellular region   \n",
      "18                   extracellular region   \n",
      "19                   extracellular region   \n",
      "20                   extracellular region   \n",
      "21                   extracellular region   \n",
      "22           cytoskeletal protein binding   \n",
      "23           cytoskeletal protein binding   \n",
      "24           structural molecule activity   \n",
      "25           structural molecule activity   \n",
      "26  molecular function regulator activity   \n",
      "27                     catalytic activity   \n",
      "28                     catalytic activity   \n",
      "29                     catalytic activity   \n",
      "30                     catalytic activity   \n",
      "31                  membrane organization   \n",
      "32                        plasma membrane   \n",
      "33                        plasma membrane   \n",
      "34                        plasma membrane   \n",
      "35                        plasma membrane   \n",
      "36          molecular transducer activity   \n",
      "37                transmembrane transport   \n",
      "38                  programmed cell death   \n",
      "39     defense response to other organism   \n",
      "40                          cell adhesion   \n",
      "41                   transporter activity   \n",
      "42                          lipid binding   \n",
      "\n",
      "                                               Family      Gene  Gene Weight  \n",
      "0                               Zinc finger C2H2-type      KLF5          NaN  \n",
      "1    NADH-ubiquinone reductase complex 1 MLRQ subunit  C15orf48          NaN  \n",
      "2                                  Tumour protein D52     TPD52          NaN  \n",
      "3                                   Receptor L-domain      EGFR          NaN  \n",
      "4                     Uncharacterised protein C2orf42   C2orf42          NaN  \n",
      "5                        Thioredoxin-like superfamily      AGR3          NaN  \n",
      "6                                      Plectin repeat       DSP       0.0201  \n",
      "7                                    Keratin, type II      KRT5       0.0628  \n",
      "8                                 Leucine-rich repeat      CD14          NaN  \n",
      "9                                    Fork head domain     FOXP3          NaN  \n",
      "10                                  Tachykinin domain      TAC1      -0.0198  \n",
      "11                                         SH3 domain   NOSTRIN          NaN  \n",
      "12         G protein-coupled receptor, rhodopsin-like     CXCR4          NaN  \n",
      "13                     High mobility group box domain      TCF7       0.0165  \n",
      "14                              Protein kinase domain      MYLK       0.0183  \n",
      "15  Submaxillary gland androgen-regulated protein ...     OPRPN       0.0154  \n",
      "16                                      Serpin family  SERPINA3       0.0276  \n",
      "17                                    EGF-like domain     EGFL7          NaN  \n",
      "18                             Immunoglobulin subtype      PIGR       0.0189  \n",
      "19                Protein of unknown function DUF4576   C5orf46       0.0367  \n",
      "20            Cysteine-rich secretory protein-related    GLIPR1          NaN  \n",
      "21                                      Secretoglobin   SCGB2A1          NaN  \n",
      "22                     IQ motif, EF-hand binding site     MYH11          NaN  \n",
      "23                                   Villin headpiece      SVIL          NaN  \n",
      "24                                    Keratin, type I     KRT16       0.0641  \n",
      "25                                          Claudin-4     CLDN4       0.0114  \n",
      "26                                         DEP domain   RAPGEF3          NaN  \n",
      "27                                     Peptidase S26B    SEC11C          NaN  \n",
      "28                                            Tubulin    TUBB2B          NaN  \n",
      "29  Peptidase C19, ubiquitin carboxyl-terminal hyd...     USP53          NaN  \n",
      "30                      Peptidyl-tRNA hydrolase, PTH2    PTRHD1          NaN  \n",
      "31                                           Caveolin      CAV1          NaN  \n",
      "32                           Immunoglobulin subtype 2   CEACAM6       0.0174  \n",
      "33                       Brain acid soluble protein 1     BASP1          NaN  \n",
      "34                     Ly-6 antigen/uPA receptor-like     LYPD3          NaN  \n",
      "35                               Thyroglobulin type-1   TACSTD2       0.0206  \n",
      "36                               Sushi/SCR/CCP domain     IL2RA          NaN  \n",
      "37           ABC transporter-like, ATP-binding domain    ABCC11          NaN  \n",
      "38                                EF-hand domain pair   S100A14          NaN  \n",
      "39                           Saposin B type, region 2      GNLY          NaN  \n",
      "40                                          Armadillo       JUP          NaN  \n",
      "41                      von Willebrand factor, type A     CLCA2       0.0297  \n",
      "42                                         SH3 domain    SH3YL1          NaN  \n"
     ]
    }
   ],
   "source": [
    "response = mart.search({\n",
    "    'filters': {\n",
    "        'external_gene_name': genes\n",
    "    },\n",
    "    'attributes': [\n",
    "        'external_gene_name',\n",
    "        'gene_biotype',\n",
    "        'interpro_description', \n",
    "        'go_id',               \n",
    "        'goslim_goa_description' \n",
    "    ]\n",
    "})\n",
    "\n",
    "classification = {}\n",
    "seen_genes = set() \n",
    "\n",
    "for line in response.iter_lines():\n",
    "    line = line.decode('utf-8')\n",
    "    gene_name, gene_biotype, interpro_description, go_id, go_slim_description = line.split('\\t')\n",
    "\n",
    "    if gene_name in seen_genes: \n",
    "        continue\n",
    "\n",
    "    if not interpro_description:\n",
    "        interpro_description = 'Unknown Family'\n",
    "    if not go_slim_description:\n",
    "        go_slim_description = 'Unknown Pathway'\n",
    "\n",
    "    if go_slim_description not in classification:\n",
    "        classification[go_slim_description] = {}\n",
    "\n",
    "    classification[go_slim_description][interpro_description] = [gene_name]  \n",
    "    seen_genes.add(gene_name)\n",
    "\n",
    "gene_weights = dict(zip(genes, weights)) \n",
    "\n",
    "data = []\n",
    "for pathway, families in classification.items():\n",
    "    for family, genes_list in families.items():\n",
    "        for gene in genes_list:\n",
    "            weight = gene_weights.get(gene) \n",
    "            data.append([pathway, family, gene, weight])\n",
    "\n",
    "df = pd.DataFrame(data, columns=['Pathway', 'Family', 'Gene', 'Gene Weight'])\n",
    "\n",
    "df_filtered = df.dropna(subset=['Gene Weight'])\n",
    "df_filtered.head()"
   ]
  },
  {
   "cell_type": "markdown",
   "metadata": {},
   "source": [
    "### Visualise genes and gene weights as a sunburst plot for easier interpretability"
   ]
  },
  {
   "cell_type": "code",
   "execution_count": 15,
   "metadata": {},
   "outputs": [
    {
     "data": {
      "application/vnd.plotly.v1+json": {
       "config": {
        "plotlyServerURL": "https://plot.ly"
       },
       "data": [
        {
         "branchvalues": "total",
         "customdata": [
          [
           0.0367
          ],
          [
           0.0174
          ],
          [
           0.0297
          ],
          [
           0.0114
          ],
          [
           0.0201
          ],
          [
           0.0641
          ],
          [
           0.0628
          ],
          [
           0.0183
          ],
          [
           0.0154
          ],
          [
           0.0189
          ],
          [
           0.0276
          ],
          [
           -0.0198
          ],
          [
           0.0206
          ],
          [
           0.0165
          ],
          [
           0.0114
          ],
          [
           0.0165
          ],
          [
           0.0189
          ],
          [
           0.0174
          ],
          [
           0.0641
          ],
          [
           0.0628
          ],
          [
           0.0201
          ],
          [
           0.0183
          ],
          [
           0.0367
          ],
          [
           0.0276
          ],
          [
           0.0154
          ],
          [
           -0.0198
          ],
          [
           0.0206
          ],
          [
           0.0297
          ],
          [
           0.02465
          ],
          [
           0.04145
          ],
          [
           0.019
          ],
          [
           0.0183
          ],
          [
           -0.0016500000000000004
          ],
          [
           0.037750000000000006
          ],
          [
           0.0297
          ]
         ],
         "domain": {
          "x": [
           0,
           1
          ],
          "y": [
           0,
           1
          ]
         },
         "hovertemplate": "labels=%{label}<br>count=%{value}<br>parent=%{parent}<br>id=%{id}<br>Gene Weight=%{color}<extra></extra>",
         "ids": [
          "extracellular region/Protein of unknown function DUF4576/C5orf46",
          "plasma membrane/Immunoglobulin subtype 2/CEACAM6",
          "transporter activity/von Willebrand factor, type A/CLCA2",
          "structural molecule activity/Claudin-4/CLDN4",
          "organelle/Plectin repeat/DSP",
          "structural molecule activity/Keratin, type I/KRT16",
          "organelle/Keratin, type II/KRT5",
          "protein modification process/Protein kinase domain/MYLK",
          "extracellular region/Submaxillary gland androgen-regulated protein like/OPRPN",
          "extracellular region/Immunoglobulin subtype/PIGR",
          "extracellular region/Serpin family/SERPINA3",
          "signaling/Tachykinin domain/TAC1",
          "plasma membrane/Thyroglobulin type-1/TACSTD2",
          "signaling/High mobility group box domain/TCF7",
          "structural molecule activity/Claudin-4",
          "signaling/High mobility group box domain",
          "extracellular region/Immunoglobulin subtype",
          "plasma membrane/Immunoglobulin subtype 2",
          "structural molecule activity/Keratin, type I",
          "organelle/Keratin, type II",
          "organelle/Plectin repeat",
          "protein modification process/Protein kinase domain",
          "extracellular region/Protein of unknown function DUF4576",
          "extracellular region/Serpin family",
          "extracellular region/Submaxillary gland androgen-regulated protein like",
          "signaling/Tachykinin domain",
          "plasma membrane/Thyroglobulin type-1",
          "transporter activity/von Willebrand factor, type A",
          "extracellular region",
          "organelle",
          "plasma membrane",
          "protein modification process",
          "signaling",
          "structural molecule activity",
          "transporter activity"
         ],
         "insidetextfont": {
          "size": 15
         },
         "labels": [
          "C5orf46",
          "CEACAM6",
          "CLCA2",
          "CLDN4",
          "DSP",
          "KRT16",
          "KRT5",
          "MYLK",
          "OPRPN",
          "PIGR",
          "SERPINA3",
          "TAC1",
          "TACSTD2",
          "TCF7",
          "Claudin-4",
          "High mobility group box domain",
          "Immunoglobulin subtype",
          "Immunoglobulin subtype 2",
          "Keratin, type I",
          "Keratin, type II",
          "Plectin repeat",
          "Protein kinase domain",
          "Protein of unknown function DUF4576",
          "Serpin family",
          "Submaxillary gland androgen-regulated protein like",
          "Tachykinin domain",
          "Thyroglobulin type-1",
          "von Willebrand factor, type A",
          "extracellular region",
          "organelle",
          "plasma membrane",
          "protein modification process",
          "signaling",
          "structural molecule activity",
          "transporter activity"
         ],
         "marker": {
          "coloraxis": "coloraxis",
          "colors": [
           0.0367,
           0.0174,
           0.0297,
           0.0114,
           0.0201,
           0.0641,
           0.0628,
           0.0183,
           0.0154,
           0.0189,
           0.0276,
           -0.0198,
           0.0206,
           0.0165,
           0.0114,
           0.0165,
           0.0189,
           0.0174,
           0.0641,
           0.0628,
           0.0201,
           0.0183,
           0.0367,
           0.0276,
           0.0154,
           -0.0198,
           0.0206,
           0.0297,
           0.02465,
           0.04145,
           0.019,
           0.0183,
           -0.0016500000000000004,
           0.037750000000000006,
           0.0297
          ]
         },
         "name": "",
         "parents": [
          "extracellular region/Protein of unknown function DUF4576",
          "plasma membrane/Immunoglobulin subtype 2",
          "transporter activity/von Willebrand factor, type A",
          "structural molecule activity/Claudin-4",
          "organelle/Plectin repeat",
          "structural molecule activity/Keratin, type I",
          "organelle/Keratin, type II",
          "protein modification process/Protein kinase domain",
          "extracellular region/Submaxillary gland androgen-regulated protein like",
          "extracellular region/Immunoglobulin subtype",
          "extracellular region/Serpin family",
          "signaling/Tachykinin domain",
          "plasma membrane/Thyroglobulin type-1",
          "signaling/High mobility group box domain",
          "structural molecule activity",
          "signaling",
          "extracellular region",
          "plasma membrane",
          "structural molecule activity",
          "organelle",
          "organelle",
          "protein modification process",
          "extracellular region",
          "extracellular region",
          "extracellular region",
          "signaling",
          "plasma membrane",
          "transporter activity",
          "",
          "",
          "",
          "",
          "",
          "",
          ""
         ],
         "textinfo": "label",
         "type": "sunburst",
         "values": [
          1,
          1,
          1,
          1,
          1,
          1,
          1,
          1,
          1,
          1,
          1,
          1,
          1,
          1,
          1,
          1,
          1,
          1,
          1,
          1,
          1,
          1,
          1,
          1,
          1,
          1,
          1,
          1,
          4,
          2,
          2,
          1,
          2,
          2,
          1
         ]
        }
       ],
       "layout": {
        "coloraxis": {
         "colorbar": {
          "tickmode": "array",
          "tickvals": [
           -0.0198,
           0.0641
          ],
          "title": {
           "text": "Gene Importance Weight"
          }
         },
         "colorscale": [
          [
           0,
           "rgb(49,54,149)"
          ],
          [
           0.1,
           "rgb(69,117,180)"
          ],
          [
           0.2,
           "rgb(116,173,209)"
          ],
          [
           0.3,
           "rgb(171,217,233)"
          ],
          [
           0.4,
           "rgb(224,243,248)"
          ],
          [
           0.5,
           "rgb(255,255,191)"
          ],
          [
           0.6,
           "rgb(254,224,144)"
          ],
          [
           0.7,
           "rgb(253,174,97)"
          ],
          [
           0.8,
           "rgb(244,109,67)"
          ],
          [
           0.9,
           "rgb(215,48,39)"
          ],
          [
           1,
           "rgb(165,0,38)"
          ]
         ]
        },
        "height": 1000,
        "legend": {
         "tracegroupgap": 0
        },
        "margin": {
         "t": 60
        },
        "template": {
         "data": {
          "bar": [
           {
            "error_x": {
             "color": "#2a3f5f"
            },
            "error_y": {
             "color": "#2a3f5f"
            },
            "marker": {
             "line": {
              "color": "#E5ECF6",
              "width": 0.5
             },
             "pattern": {
              "fillmode": "overlay",
              "size": 10,
              "solidity": 0.2
             }
            },
            "type": "bar"
           }
          ],
          "barpolar": [
           {
            "marker": {
             "line": {
              "color": "#E5ECF6",
              "width": 0.5
             },
             "pattern": {
              "fillmode": "overlay",
              "size": 10,
              "solidity": 0.2
             }
            },
            "type": "barpolar"
           }
          ],
          "carpet": [
           {
            "aaxis": {
             "endlinecolor": "#2a3f5f",
             "gridcolor": "white",
             "linecolor": "white",
             "minorgridcolor": "white",
             "startlinecolor": "#2a3f5f"
            },
            "baxis": {
             "endlinecolor": "#2a3f5f",
             "gridcolor": "white",
             "linecolor": "white",
             "minorgridcolor": "white",
             "startlinecolor": "#2a3f5f"
            },
            "type": "carpet"
           }
          ],
          "choropleth": [
           {
            "colorbar": {
             "outlinewidth": 0,
             "ticks": ""
            },
            "type": "choropleth"
           }
          ],
          "contour": [
           {
            "colorbar": {
             "outlinewidth": 0,
             "ticks": ""
            },
            "colorscale": [
             [
              0,
              "#0d0887"
             ],
             [
              0.1111111111111111,
              "#46039f"
             ],
             [
              0.2222222222222222,
              "#7201a8"
             ],
             [
              0.3333333333333333,
              "#9c179e"
             ],
             [
              0.4444444444444444,
              "#bd3786"
             ],
             [
              0.5555555555555556,
              "#d8576b"
             ],
             [
              0.6666666666666666,
              "#ed7953"
             ],
             [
              0.7777777777777778,
              "#fb9f3a"
             ],
             [
              0.8888888888888888,
              "#fdca26"
             ],
             [
              1,
              "#f0f921"
             ]
            ],
            "type": "contour"
           }
          ],
          "contourcarpet": [
           {
            "colorbar": {
             "outlinewidth": 0,
             "ticks": ""
            },
            "type": "contourcarpet"
           }
          ],
          "heatmap": [
           {
            "colorbar": {
             "outlinewidth": 0,
             "ticks": ""
            },
            "colorscale": [
             [
              0,
              "#0d0887"
             ],
             [
              0.1111111111111111,
              "#46039f"
             ],
             [
              0.2222222222222222,
              "#7201a8"
             ],
             [
              0.3333333333333333,
              "#9c179e"
             ],
             [
              0.4444444444444444,
              "#bd3786"
             ],
             [
              0.5555555555555556,
              "#d8576b"
             ],
             [
              0.6666666666666666,
              "#ed7953"
             ],
             [
              0.7777777777777778,
              "#fb9f3a"
             ],
             [
              0.8888888888888888,
              "#fdca26"
             ],
             [
              1,
              "#f0f921"
             ]
            ],
            "type": "heatmap"
           }
          ],
          "heatmapgl": [
           {
            "colorbar": {
             "outlinewidth": 0,
             "ticks": ""
            },
            "colorscale": [
             [
              0,
              "#0d0887"
             ],
             [
              0.1111111111111111,
              "#46039f"
             ],
             [
              0.2222222222222222,
              "#7201a8"
             ],
             [
              0.3333333333333333,
              "#9c179e"
             ],
             [
              0.4444444444444444,
              "#bd3786"
             ],
             [
              0.5555555555555556,
              "#d8576b"
             ],
             [
              0.6666666666666666,
              "#ed7953"
             ],
             [
              0.7777777777777778,
              "#fb9f3a"
             ],
             [
              0.8888888888888888,
              "#fdca26"
             ],
             [
              1,
              "#f0f921"
             ]
            ],
            "type": "heatmapgl"
           }
          ],
          "histogram": [
           {
            "marker": {
             "pattern": {
              "fillmode": "overlay",
              "size": 10,
              "solidity": 0.2
             }
            },
            "type": "histogram"
           }
          ],
          "histogram2d": [
           {
            "colorbar": {
             "outlinewidth": 0,
             "ticks": ""
            },
            "colorscale": [
             [
              0,
              "#0d0887"
             ],
             [
              0.1111111111111111,
              "#46039f"
             ],
             [
              0.2222222222222222,
              "#7201a8"
             ],
             [
              0.3333333333333333,
              "#9c179e"
             ],
             [
              0.4444444444444444,
              "#bd3786"
             ],
             [
              0.5555555555555556,
              "#d8576b"
             ],
             [
              0.6666666666666666,
              "#ed7953"
             ],
             [
              0.7777777777777778,
              "#fb9f3a"
             ],
             [
              0.8888888888888888,
              "#fdca26"
             ],
             [
              1,
              "#f0f921"
             ]
            ],
            "type": "histogram2d"
           }
          ],
          "histogram2dcontour": [
           {
            "colorbar": {
             "outlinewidth": 0,
             "ticks": ""
            },
            "colorscale": [
             [
              0,
              "#0d0887"
             ],
             [
              0.1111111111111111,
              "#46039f"
             ],
             [
              0.2222222222222222,
              "#7201a8"
             ],
             [
              0.3333333333333333,
              "#9c179e"
             ],
             [
              0.4444444444444444,
              "#bd3786"
             ],
             [
              0.5555555555555556,
              "#d8576b"
             ],
             [
              0.6666666666666666,
              "#ed7953"
             ],
             [
              0.7777777777777778,
              "#fb9f3a"
             ],
             [
              0.8888888888888888,
              "#fdca26"
             ],
             [
              1,
              "#f0f921"
             ]
            ],
            "type": "histogram2dcontour"
           }
          ],
          "mesh3d": [
           {
            "colorbar": {
             "outlinewidth": 0,
             "ticks": ""
            },
            "type": "mesh3d"
           }
          ],
          "parcoords": [
           {
            "line": {
             "colorbar": {
              "outlinewidth": 0,
              "ticks": ""
             }
            },
            "type": "parcoords"
           }
          ],
          "pie": [
           {
            "automargin": true,
            "type": "pie"
           }
          ],
          "scatter": [
           {
            "fillpattern": {
             "fillmode": "overlay",
             "size": 10,
             "solidity": 0.2
            },
            "type": "scatter"
           }
          ],
          "scatter3d": [
           {
            "line": {
             "colorbar": {
              "outlinewidth": 0,
              "ticks": ""
             }
            },
            "marker": {
             "colorbar": {
              "outlinewidth": 0,
              "ticks": ""
             }
            },
            "type": "scatter3d"
           }
          ],
          "scattercarpet": [
           {
            "marker": {
             "colorbar": {
              "outlinewidth": 0,
              "ticks": ""
             }
            },
            "type": "scattercarpet"
           }
          ],
          "scattergeo": [
           {
            "marker": {
             "colorbar": {
              "outlinewidth": 0,
              "ticks": ""
             }
            },
            "type": "scattergeo"
           }
          ],
          "scattergl": [
           {
            "marker": {
             "colorbar": {
              "outlinewidth": 0,
              "ticks": ""
             }
            },
            "type": "scattergl"
           }
          ],
          "scattermapbox": [
           {
            "marker": {
             "colorbar": {
              "outlinewidth": 0,
              "ticks": ""
             }
            },
            "type": "scattermapbox"
           }
          ],
          "scatterpolar": [
           {
            "marker": {
             "colorbar": {
              "outlinewidth": 0,
              "ticks": ""
             }
            },
            "type": "scatterpolar"
           }
          ],
          "scatterpolargl": [
           {
            "marker": {
             "colorbar": {
              "outlinewidth": 0,
              "ticks": ""
             }
            },
            "type": "scatterpolargl"
           }
          ],
          "scatterternary": [
           {
            "marker": {
             "colorbar": {
              "outlinewidth": 0,
              "ticks": ""
             }
            },
            "type": "scatterternary"
           }
          ],
          "surface": [
           {
            "colorbar": {
             "outlinewidth": 0,
             "ticks": ""
            },
            "colorscale": [
             [
              0,
              "#0d0887"
             ],
             [
              0.1111111111111111,
              "#46039f"
             ],
             [
              0.2222222222222222,
              "#7201a8"
             ],
             [
              0.3333333333333333,
              "#9c179e"
             ],
             [
              0.4444444444444444,
              "#bd3786"
             ],
             [
              0.5555555555555556,
              "#d8576b"
             ],
             [
              0.6666666666666666,
              "#ed7953"
             ],
             [
              0.7777777777777778,
              "#fb9f3a"
             ],
             [
              0.8888888888888888,
              "#fdca26"
             ],
             [
              1,
              "#f0f921"
             ]
            ],
            "type": "surface"
           }
          ],
          "table": [
           {
            "cells": {
             "fill": {
              "color": "#EBF0F8"
             },
             "line": {
              "color": "white"
             }
            },
            "header": {
             "fill": {
              "color": "#C8D4E3"
             },
             "line": {
              "color": "white"
             }
            },
            "type": "table"
           }
          ]
         },
         "layout": {
          "annotationdefaults": {
           "arrowcolor": "#2a3f5f",
           "arrowhead": 0,
           "arrowwidth": 1
          },
          "autotypenumbers": "strict",
          "coloraxis": {
           "colorbar": {
            "outlinewidth": 0,
            "ticks": ""
           }
          },
          "colorscale": {
           "diverging": [
            [
             0,
             "#8e0152"
            ],
            [
             0.1,
             "#c51b7d"
            ],
            [
             0.2,
             "#de77ae"
            ],
            [
             0.3,
             "#f1b6da"
            ],
            [
             0.4,
             "#fde0ef"
            ],
            [
             0.5,
             "#f7f7f7"
            ],
            [
             0.6,
             "#e6f5d0"
            ],
            [
             0.7,
             "#b8e186"
            ],
            [
             0.8,
             "#7fbc41"
            ],
            [
             0.9,
             "#4d9221"
            ],
            [
             1,
             "#276419"
            ]
           ],
           "sequential": [
            [
             0,
             "#0d0887"
            ],
            [
             0.1111111111111111,
             "#46039f"
            ],
            [
             0.2222222222222222,
             "#7201a8"
            ],
            [
             0.3333333333333333,
             "#9c179e"
            ],
            [
             0.4444444444444444,
             "#bd3786"
            ],
            [
             0.5555555555555556,
             "#d8576b"
            ],
            [
             0.6666666666666666,
             "#ed7953"
            ],
            [
             0.7777777777777778,
             "#fb9f3a"
            ],
            [
             0.8888888888888888,
             "#fdca26"
            ],
            [
             1,
             "#f0f921"
            ]
           ],
           "sequentialminus": [
            [
             0,
             "#0d0887"
            ],
            [
             0.1111111111111111,
             "#46039f"
            ],
            [
             0.2222222222222222,
             "#7201a8"
            ],
            [
             0.3333333333333333,
             "#9c179e"
            ],
            [
             0.4444444444444444,
             "#bd3786"
            ],
            [
             0.5555555555555556,
             "#d8576b"
            ],
            [
             0.6666666666666666,
             "#ed7953"
            ],
            [
             0.7777777777777778,
             "#fb9f3a"
            ],
            [
             0.8888888888888888,
             "#fdca26"
            ],
            [
             1,
             "#f0f921"
            ]
           ]
          },
          "colorway": [
           "#636efa",
           "#EF553B",
           "#00cc96",
           "#ab63fa",
           "#FFA15A",
           "#19d3f3",
           "#FF6692",
           "#B6E880",
           "#FF97FF",
           "#FECB52"
          ],
          "font": {
           "color": "#2a3f5f"
          },
          "geo": {
           "bgcolor": "white",
           "lakecolor": "white",
           "landcolor": "#E5ECF6",
           "showlakes": true,
           "showland": true,
           "subunitcolor": "white"
          },
          "hoverlabel": {
           "align": "left"
          },
          "hovermode": "closest",
          "mapbox": {
           "style": "light"
          },
          "paper_bgcolor": "white",
          "plot_bgcolor": "#E5ECF6",
          "polar": {
           "angularaxis": {
            "gridcolor": "white",
            "linecolor": "white",
            "ticks": ""
           },
           "bgcolor": "#E5ECF6",
           "radialaxis": {
            "gridcolor": "white",
            "linecolor": "white",
            "ticks": ""
           }
          },
          "scene": {
           "xaxis": {
            "backgroundcolor": "#E5ECF6",
            "gridcolor": "white",
            "gridwidth": 2,
            "linecolor": "white",
            "showbackground": true,
            "ticks": "",
            "zerolinecolor": "white"
           },
           "yaxis": {
            "backgroundcolor": "#E5ECF6",
            "gridcolor": "white",
            "gridwidth": 2,
            "linecolor": "white",
            "showbackground": true,
            "ticks": "",
            "zerolinecolor": "white"
           },
           "zaxis": {
            "backgroundcolor": "#E5ECF6",
            "gridcolor": "white",
            "gridwidth": 2,
            "linecolor": "white",
            "showbackground": true,
            "ticks": "",
            "zerolinecolor": "white"
           }
          },
          "shapedefaults": {
           "line": {
            "color": "#2a3f5f"
           }
          },
          "ternary": {
           "aaxis": {
            "gridcolor": "white",
            "linecolor": "white",
            "ticks": ""
           },
           "baxis": {
            "gridcolor": "white",
            "linecolor": "white",
            "ticks": ""
           },
           "bgcolor": "#E5ECF6",
           "caxis": {
            "gridcolor": "white",
            "linecolor": "white",
            "ticks": ""
           }
          },
          "title": {
           "x": 0.05
          },
          "xaxis": {
           "automargin": true,
           "gridcolor": "white",
           "linecolor": "white",
           "ticks": "",
           "title": {
            "standoff": 15
           },
           "zerolinecolor": "white",
           "zerolinewidth": 2
          },
          "yaxis": {
           "automargin": true,
           "gridcolor": "white",
           "linecolor": "white",
           "ticks": "",
           "title": {
            "standoff": 15
           },
           "zerolinecolor": "white",
           "zerolinewidth": 2
          }
         }
        },
        "width": 1000
       }
      }
     },
     "metadata": {},
     "output_type": "display_data"
    }
   ],
   "source": [
    "fig = px.sunburst(df_filtered, \n",
    "                  path=['Pathway', 'Family', 'Gene'], \n",
    "                  color='Gene Weight',\n",
    "                  color_continuous_scale='RdYlBu_r')\n",
    "\n",
    "fig.update_layout(coloraxis_colorbar=dict(\n",
    "    title=\"Gene Importance Weight\",\n",
    "    tickvals=[min(df_filtered['Gene Weight']), max(df_filtered['Gene Weight'])],\n",
    "    tickmode='array' \n",
    "))\n",
    "\n",
    "fig.update_layout(\n",
    "    width=1000,\n",
    "    height=1000\n",
    ")\n",
    "\n",
    "fig.update_traces(\n",
    "    textinfo=\"label\",\n",
    "    insidetextfont=dict(size=15)\n",
    ")\n",
    "\n",
    "fig.show()"
   ]
  }
 ],
 "metadata": {
  "kernelspec": {
   "display_name": "scanpy",
   "language": "python",
   "name": "python3"
  },
  "language_info": {
   "codemirror_mode": {
    "name": "ipython",
    "version": 3
   },
   "file_extension": ".py",
   "mimetype": "text/x-python",
   "name": "python",
   "nbconvert_exporter": "python",
   "pygments_lexer": "ipython3",
   "version": "3.11.9"
  }
 },
 "nbformat": 4,
 "nbformat_minor": 2
}
